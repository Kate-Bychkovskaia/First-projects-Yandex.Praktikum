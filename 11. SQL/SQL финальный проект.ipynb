{
 "cells": [
  {
   "cell_type": "markdown",
   "metadata": {},
   "source": [
    "# Проект по SQL\n",
    "\n",
    "**Описание проекта**\n",
    "- Коронавирус застал мир врасплох, изменив привычный порядок вещей. В свободное время жители городов больше не выходят на улицу, не посещают кафе и торговые центры. Зато стало больше времени для книг. Это заметили стартаперы — и бросились создавать приложения для тех, кто любит читать. Ваша компания решила быть на волне и купила крупный сервис для чтения книг по подписке. \n",
    "\n",
    "**Данные**\n",
    "- Для анализа дана база данных,в ней — информация о книгах, издательствах, авторах, а также пользовательские обзоры книг.\n",
    "\n",
    "**Цель**\n",
    "- Проанализировать базу данных и сформулировать ценностное предложение для нового продукта для нового приложения с электронными книгами.\n",
    "\n",
    "**Задачи**\n",
    "- 1. Посчитать, сколько книг вышло после 1 января 2000 года;\n",
    "- 2. Для каждой книги посчитайть количество обзоров и среднюю оценку;\n",
    "- 3. Определить издательство, которое выпустило наибольшее число книг толще 50 страниц — так вы исключите из анализа брошюры;\n",
    "- 4. Определить автора с самой высокой средней оценкой книг — учитывайте только книги с 50 и более оценками;\n",
    "- 5. Посчитать среднее количество обзоров от пользователей, которые поставили больше 48 оценок.\n",
    "\n",
    "**Ход исследования**\n",
    "- Подключимся к базе данных\n",
    "- Просмотрим таблицы\n",
    "- С помощью SQL запросов проанализируем данные в соответсвиии с задачами\n",
    "- Вывод"
   ]
  },
  {
   "cell_type": "markdown",
   "metadata": {},
   "source": [
    "**Описание данных**\n",
    "\n",
    "**Таблица books**\n",
    "Содержит данные о книгах:\n",
    "- book_id — идентификатор книги;\n",
    "- author_id — идентификатор автора;\n",
    "- title — название книги;\n",
    "- num_pages — количество страниц;\n",
    "- publication_date — дата публикации книги;\n",
    "- publisher_id — идентификатор издателя.\n",
    "\n",
    "**Таблица authors**\n",
    "Содержит данные об авторах:\n",
    "- author_id — идентификатор автора;\n",
    "- author — имя автора.\n",
    "\n",
    "**Таблица publishers**\n",
    "Содержит данные об издательствах:\n",
    "- publisher_id — идентификатор издательства;\n",
    "- publisher — название издательства;\n",
    "\n",
    "**Таблица ratings**\n",
    "Содержит данные о пользовательских оценках книг:\n",
    "- rating_id — идентификатор оценки;\n",
    "- book_id — идентификатор книги;\n",
    "- username — имя пользователя, оставившего оценку;\n",
    "- rating — оценка книги.\n",
    "\n",
    "**Таблица reviews**\n",
    "Содержит данные о пользовательских обзорах:\n",
    "- review_id — идентификатор обзора;\n",
    "- book_id — идентификатор книги;\n",
    "- username — имя автора обзора;\n",
    "- text — текст обзора."
   ]
  },
  {
   "cell_type": "markdown",
   "metadata": {},
   "source": [
    "### Импорт библиотек и подключение к базе данных"
   ]
  },
  {
   "cell_type": "code",
   "execution_count": 1,
   "metadata": {},
   "outputs": [],
   "source": [
    "# импортируем библиотеки\n",
    "import pandas as pd\n",
    "from sqlalchemy import text, create_engine"
   ]
  },
  {
   "cell_type": "code",
   "execution_count": 2,
   "metadata": {},
   "outputs": [],
   "source": [
    "# устанавливаем параметры\n",
    "db_config = {'user': 'praktikum_student', # имя пользователя\n",
    "'pwd': 'Sdf4$2;d-d30pp', # пароль\n",
    "'host': 'rc1b-wcoijxj3yxfsf3fs.mdb.yandexcloud.net',\n",
    "'port': 6432, # порт подключения\n",
    "'db': 'data-analyst-final-project-db'} # название базы данных\n",
    "connection_string = 'postgresql://{user}:{pwd}@{host}:{port}/{db}'.format(**db_config)\n",
    "# сохраняем коннектор\n",
    "engine = create_engine(connection_string, connect_args={'sslmode':'require'})"
   ]
  },
  {
   "cell_type": "markdown",
   "metadata": {},
   "source": [
    "### Просмотр содержания таблиц"
   ]
  },
  {
   "cell_type": "markdown",
   "metadata": {},
   "source": [
    "- Таблица books"
   ]
  },
  {
   "cell_type": "code",
   "execution_count": 3,
   "metadata": {},
   "outputs": [
    {
     "data": {
      "text/html": [
       "<div>\n",
       "<style scoped>\n",
       "    .dataframe tbody tr th:only-of-type {\n",
       "        vertical-align: middle;\n",
       "    }\n",
       "\n",
       "    .dataframe tbody tr th {\n",
       "        vertical-align: top;\n",
       "    }\n",
       "\n",
       "    .dataframe thead th {\n",
       "        text-align: right;\n",
       "    }\n",
       "</style>\n",
       "<table border=\"1\" class=\"dataframe\">\n",
       "  <thead>\n",
       "    <tr style=\"text-align: right;\">\n",
       "      <th></th>\n",
       "      <th>book_id</th>\n",
       "      <th>author_id</th>\n",
       "      <th>title</th>\n",
       "      <th>num_pages</th>\n",
       "      <th>publication_date</th>\n",
       "      <th>publisher_id</th>\n",
       "    </tr>\n",
       "  </thead>\n",
       "  <tbody>\n",
       "    <tr>\n",
       "      <th>0</th>\n",
       "      <td>1</td>\n",
       "      <td>546</td>\n",
       "      <td>'Salem's Lot</td>\n",
       "      <td>594</td>\n",
       "      <td>2005-11-01</td>\n",
       "      <td>93</td>\n",
       "    </tr>\n",
       "    <tr>\n",
       "      <th>1</th>\n",
       "      <td>2</td>\n",
       "      <td>465</td>\n",
       "      <td>1 000 Places to See Before You Die</td>\n",
       "      <td>992</td>\n",
       "      <td>2003-05-22</td>\n",
       "      <td>336</td>\n",
       "    </tr>\n",
       "    <tr>\n",
       "      <th>2</th>\n",
       "      <td>3</td>\n",
       "      <td>407</td>\n",
       "      <td>13 Little Blue Envelopes (Little Blue Envelope...</td>\n",
       "      <td>322</td>\n",
       "      <td>2010-12-21</td>\n",
       "      <td>135</td>\n",
       "    </tr>\n",
       "  </tbody>\n",
       "</table>\n",
       "</div>"
      ],
      "text/plain": [
       "   book_id  author_id                                              title  \\\n",
       "0        1        546                                       'Salem's Lot   \n",
       "1        2        465                 1 000 Places to See Before You Die   \n",
       "2        3        407  13 Little Blue Envelopes (Little Blue Envelope...   \n",
       "\n",
       "   num_pages publication_date  publisher_id  \n",
       "0        594       2005-11-01            93  \n",
       "1        992       2003-05-22           336  \n",
       "2        322       2010-12-21           135  "
      ]
     },
     "execution_count": 3,
     "metadata": {},
     "output_type": "execute_result"
    }
   ],
   "source": [
    "# чтобы выполнить SQL-запрос, используем Pandas\n",
    "query = '''SELECT * FROM books LIMIT 3'''\n",
    "con=engine.connect()\n",
    "pd.io.sql.read_sql(sql=text(query), con = con)"
   ]
  },
  {
   "cell_type": "code",
   "execution_count": 4,
   "metadata": {},
   "outputs": [
    {
     "data": {
      "text/html": [
       "<div>\n",
       "<style scoped>\n",
       "    .dataframe tbody tr th:only-of-type {\n",
       "        vertical-align: middle;\n",
       "    }\n",
       "\n",
       "    .dataframe tbody tr th {\n",
       "        vertical-align: top;\n",
       "    }\n",
       "\n",
       "    .dataframe thead th {\n",
       "        text-align: right;\n",
       "    }\n",
       "</style>\n",
       "<table border=\"1\" class=\"dataframe\">\n",
       "  <thead>\n",
       "    <tr style=\"text-align: right;\">\n",
       "      <th></th>\n",
       "      <th>column_name</th>\n",
       "      <th>column_default</th>\n",
       "      <th>data_type</th>\n",
       "    </tr>\n",
       "  </thead>\n",
       "  <tbody>\n",
       "    <tr>\n",
       "      <th>0</th>\n",
       "      <td>book_id</td>\n",
       "      <td>None</td>\n",
       "      <td>integer</td>\n",
       "    </tr>\n",
       "    <tr>\n",
       "      <th>1</th>\n",
       "      <td>author_id</td>\n",
       "      <td>None</td>\n",
       "      <td>integer</td>\n",
       "    </tr>\n",
       "    <tr>\n",
       "      <th>2</th>\n",
       "      <td>num_pages</td>\n",
       "      <td>None</td>\n",
       "      <td>integer</td>\n",
       "    </tr>\n",
       "    <tr>\n",
       "      <th>3</th>\n",
       "      <td>publication_date</td>\n",
       "      <td>None</td>\n",
       "      <td>date</td>\n",
       "    </tr>\n",
       "    <tr>\n",
       "      <th>4</th>\n",
       "      <td>publisher_id</td>\n",
       "      <td>None</td>\n",
       "      <td>integer</td>\n",
       "    </tr>\n",
       "    <tr>\n",
       "      <th>5</th>\n",
       "      <td>title</td>\n",
       "      <td>None</td>\n",
       "      <td>text</td>\n",
       "    </tr>\n",
       "  </tbody>\n",
       "</table>\n",
       "</div>"
      ],
      "text/plain": [
       "        column_name column_default data_type\n",
       "0           book_id           None   integer\n",
       "1         author_id           None   integer\n",
       "2         num_pages           None   integer\n",
       "3  publication_date           None      date\n",
       "4      publisher_id           None   integer\n",
       "5             title           None      text"
      ]
     },
     "execution_count": 4,
     "metadata": {},
     "output_type": "execute_result"
    }
   ],
   "source": [
    "# чтобы выполнить SQL-запрос, используем Pandas\n",
    "query = '''SELECT column_name, column_default, data_type FROM INFORMATION_SCHEMA.COLUMNS WHERE table_name = 'books' '''\n",
    "con=engine.connect()\n",
    "pd.io.sql.read_sql(sql=text(query), con = con)"
   ]
  },
  {
   "cell_type": "markdown",
   "metadata": {},
   "source": [
    "Все в порядке. Пропусков нет, форматы данных корректны, только вместо varchar - text (видимо, чтобы не было ограничений по длине в строке), это не критично. У колонки publication_date формат date, не datetime, как заявлено"
   ]
  },
  {
   "cell_type": "markdown",
   "metadata": {},
   "source": [
    "- Таблица authors"
   ]
  },
  {
   "cell_type": "code",
   "execution_count": 5,
   "metadata": {},
   "outputs": [
    {
     "data": {
      "text/html": [
       "<div>\n",
       "<style scoped>\n",
       "    .dataframe tbody tr th:only-of-type {\n",
       "        vertical-align: middle;\n",
       "    }\n",
       "\n",
       "    .dataframe tbody tr th {\n",
       "        vertical-align: top;\n",
       "    }\n",
       "\n",
       "    .dataframe thead th {\n",
       "        text-align: right;\n",
       "    }\n",
       "</style>\n",
       "<table border=\"1\" class=\"dataframe\">\n",
       "  <thead>\n",
       "    <tr style=\"text-align: right;\">\n",
       "      <th></th>\n",
       "      <th>author_id</th>\n",
       "      <th>author</th>\n",
       "    </tr>\n",
       "  </thead>\n",
       "  <tbody>\n",
       "    <tr>\n",
       "      <th>0</th>\n",
       "      <td>1</td>\n",
       "      <td>A.S. Byatt</td>\n",
       "    </tr>\n",
       "    <tr>\n",
       "      <th>1</th>\n",
       "      <td>2</td>\n",
       "      <td>Aesop/Laura Harris/Laura Gibbs</td>\n",
       "    </tr>\n",
       "    <tr>\n",
       "      <th>2</th>\n",
       "      <td>3</td>\n",
       "      <td>Agatha Christie</td>\n",
       "    </tr>\n",
       "  </tbody>\n",
       "</table>\n",
       "</div>"
      ],
      "text/plain": [
       "   author_id                          author\n",
       "0          1                      A.S. Byatt\n",
       "1          2  Aesop/Laura Harris/Laura Gibbs\n",
       "2          3                 Agatha Christie"
      ]
     },
     "execution_count": 5,
     "metadata": {},
     "output_type": "execute_result"
    }
   ],
   "source": [
    "# чтобы выполнить SQL-запрос, используем Pandas\n",
    "query = '''SELECT * FROM authors LIMIT 3'''\n",
    "con=engine.connect()\n",
    "pd.io.sql.read_sql(sql=text(query), con = con)"
   ]
  },
  {
   "cell_type": "code",
   "execution_count": 6,
   "metadata": {},
   "outputs": [
    {
     "data": {
      "text/html": [
       "<div>\n",
       "<style scoped>\n",
       "    .dataframe tbody tr th:only-of-type {\n",
       "        vertical-align: middle;\n",
       "    }\n",
       "\n",
       "    .dataframe tbody tr th {\n",
       "        vertical-align: top;\n",
       "    }\n",
       "\n",
       "    .dataframe thead th {\n",
       "        text-align: right;\n",
       "    }\n",
       "</style>\n",
       "<table border=\"1\" class=\"dataframe\">\n",
       "  <thead>\n",
       "    <tr style=\"text-align: right;\">\n",
       "      <th></th>\n",
       "      <th>column_name</th>\n",
       "      <th>column_default</th>\n",
       "      <th>data_type</th>\n",
       "    </tr>\n",
       "  </thead>\n",
       "  <tbody>\n",
       "    <tr>\n",
       "      <th>0</th>\n",
       "      <td>author_id</td>\n",
       "      <td>None</td>\n",
       "      <td>integer</td>\n",
       "    </tr>\n",
       "    <tr>\n",
       "      <th>1</th>\n",
       "      <td>author</td>\n",
       "      <td>None</td>\n",
       "      <td>text</td>\n",
       "    </tr>\n",
       "  </tbody>\n",
       "</table>\n",
       "</div>"
      ],
      "text/plain": [
       "  column_name column_default data_type\n",
       "0   author_id           None   integer\n",
       "1      author           None      text"
      ]
     },
     "execution_count": 6,
     "metadata": {},
     "output_type": "execute_result"
    }
   ],
   "source": [
    "# тип данных и пропуски\n",
    "query = '''SELECT column_name, column_default, data_type FROM INFORMATION_SCHEMA.COLUMNS WHERE table_name = 'authors' '''\n",
    "con=engine.connect()\n",
    "pd.io.sql.read_sql(sql=text(query), con = con)"
   ]
  },
  {
   "cell_type": "markdown",
   "metadata": {},
   "source": [
    "Все в порядке. Пропусков нет, форматы данных корректны, снова вместо varchar->text. Не критично."
   ]
  },
  {
   "cell_type": "markdown",
   "metadata": {},
   "source": [
    "- Таблица ratings"
   ]
  },
  {
   "cell_type": "code",
   "execution_count": 7,
   "metadata": {},
   "outputs": [
    {
     "data": {
      "text/html": [
       "<div>\n",
       "<style scoped>\n",
       "    .dataframe tbody tr th:only-of-type {\n",
       "        vertical-align: middle;\n",
       "    }\n",
       "\n",
       "    .dataframe tbody tr th {\n",
       "        vertical-align: top;\n",
       "    }\n",
       "\n",
       "    .dataframe thead th {\n",
       "        text-align: right;\n",
       "    }\n",
       "</style>\n",
       "<table border=\"1\" class=\"dataframe\">\n",
       "  <thead>\n",
       "    <tr style=\"text-align: right;\">\n",
       "      <th></th>\n",
       "      <th>rating_id</th>\n",
       "      <th>book_id</th>\n",
       "      <th>username</th>\n",
       "      <th>rating</th>\n",
       "    </tr>\n",
       "  </thead>\n",
       "  <tbody>\n",
       "    <tr>\n",
       "      <th>0</th>\n",
       "      <td>1</td>\n",
       "      <td>1</td>\n",
       "      <td>ryanfranco</td>\n",
       "      <td>4</td>\n",
       "    </tr>\n",
       "    <tr>\n",
       "      <th>1</th>\n",
       "      <td>2</td>\n",
       "      <td>1</td>\n",
       "      <td>grantpatricia</td>\n",
       "      <td>2</td>\n",
       "    </tr>\n",
       "    <tr>\n",
       "      <th>2</th>\n",
       "      <td>3</td>\n",
       "      <td>1</td>\n",
       "      <td>brandtandrea</td>\n",
       "      <td>5</td>\n",
       "    </tr>\n",
       "  </tbody>\n",
       "</table>\n",
       "</div>"
      ],
      "text/plain": [
       "   rating_id  book_id       username  rating\n",
       "0          1        1     ryanfranco       4\n",
       "1          2        1  grantpatricia       2\n",
       "2          3        1   brandtandrea       5"
      ]
     },
     "execution_count": 7,
     "metadata": {},
     "output_type": "execute_result"
    }
   ],
   "source": [
    "# чтобы выполнить SQL-запрос, используем Pandas\n",
    "query = '''SELECT * FROM ratings LIMIT 3'''\n",
    "con=engine.connect()\n",
    "pd.io.sql.read_sql(sql=text(query), con = con)"
   ]
  },
  {
   "cell_type": "code",
   "execution_count": 8,
   "metadata": {},
   "outputs": [
    {
     "data": {
      "text/html": [
       "<div>\n",
       "<style scoped>\n",
       "    .dataframe tbody tr th:only-of-type {\n",
       "        vertical-align: middle;\n",
       "    }\n",
       "\n",
       "    .dataframe tbody tr th {\n",
       "        vertical-align: top;\n",
       "    }\n",
       "\n",
       "    .dataframe thead th {\n",
       "        text-align: right;\n",
       "    }\n",
       "</style>\n",
       "<table border=\"1\" class=\"dataframe\">\n",
       "  <thead>\n",
       "    <tr style=\"text-align: right;\">\n",
       "      <th></th>\n",
       "      <th>column_name</th>\n",
       "      <th>column_default</th>\n",
       "      <th>data_type</th>\n",
       "    </tr>\n",
       "  </thead>\n",
       "  <tbody>\n",
       "    <tr>\n",
       "      <th>0</th>\n",
       "      <td>rating_id</td>\n",
       "      <td>None</td>\n",
       "      <td>integer</td>\n",
       "    </tr>\n",
       "    <tr>\n",
       "      <th>1</th>\n",
       "      <td>book_id</td>\n",
       "      <td>None</td>\n",
       "      <td>integer</td>\n",
       "    </tr>\n",
       "    <tr>\n",
       "      <th>2</th>\n",
       "      <td>rating</td>\n",
       "      <td>None</td>\n",
       "      <td>integer</td>\n",
       "    </tr>\n",
       "    <tr>\n",
       "      <th>3</th>\n",
       "      <td>username</td>\n",
       "      <td>None</td>\n",
       "      <td>text</td>\n",
       "    </tr>\n",
       "  </tbody>\n",
       "</table>\n",
       "</div>"
      ],
      "text/plain": [
       "  column_name column_default data_type\n",
       "0   rating_id           None   integer\n",
       "1     book_id           None   integer\n",
       "2      rating           None   integer\n",
       "3    username           None      text"
      ]
     },
     "execution_count": 8,
     "metadata": {},
     "output_type": "execute_result"
    }
   ],
   "source": [
    "# тип данных и пропуски\n",
    "query = '''SELECT column_name, column_default, data_type FROM INFORMATION_SCHEMA.COLUMNS WHERE table_name = 'ratings' '''\n",
    "con=engine.connect()\n",
    "pd.io.sql.read_sql(sql=text(query), con = con)"
   ]
  },
  {
   "cell_type": "markdown",
   "metadata": {},
   "source": [
    "Все в порядке"
   ]
  },
  {
   "cell_type": "markdown",
   "metadata": {},
   "source": [
    "- Таблица reviews"
   ]
  },
  {
   "cell_type": "code",
   "execution_count": 9,
   "metadata": {},
   "outputs": [
    {
     "data": {
      "text/html": [
       "<div>\n",
       "<style scoped>\n",
       "    .dataframe tbody tr th:only-of-type {\n",
       "        vertical-align: middle;\n",
       "    }\n",
       "\n",
       "    .dataframe tbody tr th {\n",
       "        vertical-align: top;\n",
       "    }\n",
       "\n",
       "    .dataframe thead th {\n",
       "        text-align: right;\n",
       "    }\n",
       "</style>\n",
       "<table border=\"1\" class=\"dataframe\">\n",
       "  <thead>\n",
       "    <tr style=\"text-align: right;\">\n",
       "      <th></th>\n",
       "      <th>review_id</th>\n",
       "      <th>book_id</th>\n",
       "      <th>username</th>\n",
       "      <th>text</th>\n",
       "    </tr>\n",
       "  </thead>\n",
       "  <tbody>\n",
       "    <tr>\n",
       "      <th>0</th>\n",
       "      <td>1</td>\n",
       "      <td>1</td>\n",
       "      <td>brandtandrea</td>\n",
       "      <td>Mention society tell send professor analysis. ...</td>\n",
       "    </tr>\n",
       "    <tr>\n",
       "      <th>1</th>\n",
       "      <td>2</td>\n",
       "      <td>1</td>\n",
       "      <td>ryanfranco</td>\n",
       "      <td>Foot glass pretty audience hit themselves. Amo...</td>\n",
       "    </tr>\n",
       "    <tr>\n",
       "      <th>2</th>\n",
       "      <td>3</td>\n",
       "      <td>2</td>\n",
       "      <td>lorichen</td>\n",
       "      <td>Listen treat keep worry. Miss husband tax but ...</td>\n",
       "    </tr>\n",
       "  </tbody>\n",
       "</table>\n",
       "</div>"
      ],
      "text/plain": [
       "   review_id  book_id      username  \\\n",
       "0          1        1  brandtandrea   \n",
       "1          2        1    ryanfranco   \n",
       "2          3        2      lorichen   \n",
       "\n",
       "                                                text  \n",
       "0  Mention society tell send professor analysis. ...  \n",
       "1  Foot glass pretty audience hit themselves. Amo...  \n",
       "2  Listen treat keep worry. Miss husband tax but ...  "
      ]
     },
     "execution_count": 9,
     "metadata": {},
     "output_type": "execute_result"
    }
   ],
   "source": [
    "# чтобы выполнить SQL-запрос, используем Pandas\n",
    "query = '''SELECT * FROM reviews LIMIT 3'''\n",
    "con=engine.connect()\n",
    "pd.io.sql.read_sql(sql=text(query), con = con)"
   ]
  },
  {
   "cell_type": "code",
   "execution_count": 10,
   "metadata": {},
   "outputs": [
    {
     "data": {
      "text/html": [
       "<div>\n",
       "<style scoped>\n",
       "    .dataframe tbody tr th:only-of-type {\n",
       "        vertical-align: middle;\n",
       "    }\n",
       "\n",
       "    .dataframe tbody tr th {\n",
       "        vertical-align: top;\n",
       "    }\n",
       "\n",
       "    .dataframe thead th {\n",
       "        text-align: right;\n",
       "    }\n",
       "</style>\n",
       "<table border=\"1\" class=\"dataframe\">\n",
       "  <thead>\n",
       "    <tr style=\"text-align: right;\">\n",
       "      <th></th>\n",
       "      <th>column_name</th>\n",
       "      <th>column_default</th>\n",
       "      <th>data_type</th>\n",
       "    </tr>\n",
       "  </thead>\n",
       "  <tbody>\n",
       "    <tr>\n",
       "      <th>0</th>\n",
       "      <td>review_id</td>\n",
       "      <td>None</td>\n",
       "      <td>integer</td>\n",
       "    </tr>\n",
       "    <tr>\n",
       "      <th>1</th>\n",
       "      <td>book_id</td>\n",
       "      <td>None</td>\n",
       "      <td>integer</td>\n",
       "    </tr>\n",
       "    <tr>\n",
       "      <th>2</th>\n",
       "      <td>username</td>\n",
       "      <td>None</td>\n",
       "      <td>text</td>\n",
       "    </tr>\n",
       "    <tr>\n",
       "      <th>3</th>\n",
       "      <td>text</td>\n",
       "      <td>None</td>\n",
       "      <td>text</td>\n",
       "    </tr>\n",
       "  </tbody>\n",
       "</table>\n",
       "</div>"
      ],
      "text/plain": [
       "  column_name column_default data_type\n",
       "0   review_id           None   integer\n",
       "1     book_id           None   integer\n",
       "2    username           None      text\n",
       "3        text           None      text"
      ]
     },
     "execution_count": 10,
     "metadata": {},
     "output_type": "execute_result"
    }
   ],
   "source": [
    "# тип данных и пропуски\n",
    "query = '''SELECT column_name, column_default, data_type FROM INFORMATION_SCHEMA.COLUMNS WHERE table_name = 'reviews' '''\n",
    "con=engine.connect()\n",
    "pd.io.sql.read_sql(sql=text(query), con = con)"
   ]
  },
  {
   "cell_type": "markdown",
   "metadata": {},
   "source": [
    "Все в порядке\n",
    "\n",
    "- Таблица publishers"
   ]
  },
  {
   "cell_type": "code",
   "execution_count": 11,
   "metadata": {},
   "outputs": [
    {
     "data": {
      "text/html": [
       "<div>\n",
       "<style scoped>\n",
       "    .dataframe tbody tr th:only-of-type {\n",
       "        vertical-align: middle;\n",
       "    }\n",
       "\n",
       "    .dataframe tbody tr th {\n",
       "        vertical-align: top;\n",
       "    }\n",
       "\n",
       "    .dataframe thead th {\n",
       "        text-align: right;\n",
       "    }\n",
       "</style>\n",
       "<table border=\"1\" class=\"dataframe\">\n",
       "  <thead>\n",
       "    <tr style=\"text-align: right;\">\n",
       "      <th></th>\n",
       "      <th>publisher_id</th>\n",
       "      <th>publisher</th>\n",
       "    </tr>\n",
       "  </thead>\n",
       "  <tbody>\n",
       "    <tr>\n",
       "      <th>0</th>\n",
       "      <td>1</td>\n",
       "      <td>Ace</td>\n",
       "    </tr>\n",
       "    <tr>\n",
       "      <th>1</th>\n",
       "      <td>2</td>\n",
       "      <td>Ace Book</td>\n",
       "    </tr>\n",
       "    <tr>\n",
       "      <th>2</th>\n",
       "      <td>3</td>\n",
       "      <td>Ace Books</td>\n",
       "    </tr>\n",
       "  </tbody>\n",
       "</table>\n",
       "</div>"
      ],
      "text/plain": [
       "   publisher_id  publisher\n",
       "0             1        Ace\n",
       "1             2   Ace Book\n",
       "2             3  Ace Books"
      ]
     },
     "execution_count": 11,
     "metadata": {},
     "output_type": "execute_result"
    }
   ],
   "source": [
    "# чтобы выполнить SQL-запрос, используем Pandas\n",
    "query = '''SELECT * FROM publishers LIMIT 3'''\n",
    "con=engine.connect()\n",
    "pd.io.sql.read_sql(sql=text(query), con = con)"
   ]
  },
  {
   "cell_type": "code",
   "execution_count": 12,
   "metadata": {},
   "outputs": [
    {
     "data": {
      "text/html": [
       "<div>\n",
       "<style scoped>\n",
       "    .dataframe tbody tr th:only-of-type {\n",
       "        vertical-align: middle;\n",
       "    }\n",
       "\n",
       "    .dataframe tbody tr th {\n",
       "        vertical-align: top;\n",
       "    }\n",
       "\n",
       "    .dataframe thead th {\n",
       "        text-align: right;\n",
       "    }\n",
       "</style>\n",
       "<table border=\"1\" class=\"dataframe\">\n",
       "  <thead>\n",
       "    <tr style=\"text-align: right;\">\n",
       "      <th></th>\n",
       "      <th>column_name</th>\n",
       "      <th>column_default</th>\n",
       "      <th>data_type</th>\n",
       "    </tr>\n",
       "  </thead>\n",
       "  <tbody>\n",
       "    <tr>\n",
       "      <th>0</th>\n",
       "      <td>publisher_id</td>\n",
       "      <td>None</td>\n",
       "      <td>integer</td>\n",
       "    </tr>\n",
       "    <tr>\n",
       "      <th>1</th>\n",
       "      <td>publisher</td>\n",
       "      <td>None</td>\n",
       "      <td>text</td>\n",
       "    </tr>\n",
       "  </tbody>\n",
       "</table>\n",
       "</div>"
      ],
      "text/plain": [
       "    column_name column_default data_type\n",
       "0  publisher_id           None   integer\n",
       "1     publisher           None      text"
      ]
     },
     "execution_count": 12,
     "metadata": {},
     "output_type": "execute_result"
    }
   ],
   "source": [
    "# тип данных и пропуски\n",
    "query = '''SELECT column_name, column_default, data_type FROM INFORMATION_SCHEMA.COLUMNS WHERE table_name = 'publishers' '''\n",
    "con=engine.connect()\n",
    "pd.io.sql.read_sql(sql=text(query), con = con)"
   ]
  },
  {
   "cell_type": "markdown",
   "metadata": {},
   "source": [
    "**Вывод по просмотру данных** С данными все в порядке, пропусков нет, столбцы соответсвуют заявленным. С типами данных тоже все в порядке. Столбцы с текстом имеют формат text вместо varchar (видимо, из-за большой длины строки)"
   ]
  },
  {
   "cell_type": "markdown",
   "metadata": {},
   "source": [
    "### Анализ данных\n",
    "- **Посчитаем, сколько книг вышло после 1 января 2000 года**"
   ]
  },
  {
   "cell_type": "code",
   "execution_count": 13,
   "metadata": {},
   "outputs": [
    {
     "data": {
      "text/html": [
       "<div>\n",
       "<style scoped>\n",
       "    .dataframe tbody tr th:only-of-type {\n",
       "        vertical-align: middle;\n",
       "    }\n",
       "\n",
       "    .dataframe tbody tr th {\n",
       "        vertical-align: top;\n",
       "    }\n",
       "\n",
       "    .dataframe thead th {\n",
       "        text-align: right;\n",
       "    }\n",
       "</style>\n",
       "<table border=\"1\" class=\"dataframe\">\n",
       "  <thead>\n",
       "    <tr style=\"text-align: right;\">\n",
       "      <th></th>\n",
       "      <th>count</th>\n",
       "    </tr>\n",
       "  </thead>\n",
       "  <tbody>\n",
       "    <tr>\n",
       "      <th>0</th>\n",
       "      <td>819</td>\n",
       "    </tr>\n",
       "  </tbody>\n",
       "</table>\n",
       "</div>"
      ],
      "text/plain": [
       "   count\n",
       "0    819"
      ]
     },
     "execution_count": 13,
     "metadata": {},
     "output_type": "execute_result"
    }
   ],
   "source": [
    "# чтобы выполнить SQL-запрос, используем Pandas\n",
    "query_1 = '''SELECT COUNT(DISTINCT book_id) FROM books b WHERE CAST(publication_date AS date) > '2000-01-01' '''\n",
    "con=engine.connect()\n",
    "pd.io.sql.read_sql(sql=text(query_1), con = con)"
   ]
  },
  {
   "cell_type": "markdown",
   "metadata": {},
   "source": [
    "С января 2000 года было издано всего 819 книг"
   ]
  },
  {
   "cell_type": "markdown",
   "metadata": {},
   "source": [
    "- **Для каждой книги посчитаем количество обзоров и среднюю оценку**"
   ]
  },
  {
   "cell_type": "code",
   "execution_count": 14,
   "metadata": {},
   "outputs": [
    {
     "data": {
      "text/html": [
       "<div>\n",
       "<style scoped>\n",
       "    .dataframe tbody tr th:only-of-type {\n",
       "        vertical-align: middle;\n",
       "    }\n",
       "\n",
       "    .dataframe tbody tr th {\n",
       "        vertical-align: top;\n",
       "    }\n",
       "\n",
       "    .dataframe thead th {\n",
       "        text-align: right;\n",
       "    }\n",
       "</style>\n",
       "<table border=\"1\" class=\"dataframe\">\n",
       "  <thead>\n",
       "    <tr style=\"text-align: right;\">\n",
       "      <th></th>\n",
       "      <th>title</th>\n",
       "      <th>reviews</th>\n",
       "      <th>avg_rating</th>\n",
       "    </tr>\n",
       "  </thead>\n",
       "  <tbody>\n",
       "    <tr>\n",
       "      <th>0</th>\n",
       "      <td>The Body in the Library (Miss Marple  #3)</td>\n",
       "      <td>2</td>\n",
       "      <td>4.50</td>\n",
       "    </tr>\n",
       "    <tr>\n",
       "      <th>1</th>\n",
       "      <td>Galápagos</td>\n",
       "      <td>2</td>\n",
       "      <td>4.50</td>\n",
       "    </tr>\n",
       "    <tr>\n",
       "      <th>2</th>\n",
       "      <td>A Tree Grows in Brooklyn</td>\n",
       "      <td>5</td>\n",
       "      <td>4.25</td>\n",
       "    </tr>\n",
       "    <tr>\n",
       "      <th>3</th>\n",
       "      <td>Undaunted Courage: The Pioneering First Missio...</td>\n",
       "      <td>2</td>\n",
       "      <td>4.00</td>\n",
       "    </tr>\n",
       "    <tr>\n",
       "      <th>4</th>\n",
       "      <td>The Prophet</td>\n",
       "      <td>4</td>\n",
       "      <td>4.29</td>\n",
       "    </tr>\n",
       "    <tr>\n",
       "      <th>5</th>\n",
       "      <td>American Gods (American Gods  #1)</td>\n",
       "      <td>5</td>\n",
       "      <td>4.00</td>\n",
       "    </tr>\n",
       "    <tr>\n",
       "      <th>6</th>\n",
       "      <td>Influence: The Psychology of Persuasion</td>\n",
       "      <td>3</td>\n",
       "      <td>4.33</td>\n",
       "    </tr>\n",
       "    <tr>\n",
       "      <th>7</th>\n",
       "      <td>The Idiot</td>\n",
       "      <td>3</td>\n",
       "      <td>4.25</td>\n",
       "    </tr>\n",
       "    <tr>\n",
       "      <th>8</th>\n",
       "      <td>Rebecca</td>\n",
       "      <td>4</td>\n",
       "      <td>4.00</td>\n",
       "    </tr>\n",
       "    <tr>\n",
       "      <th>9</th>\n",
       "      <td>The Source</td>\n",
       "      <td>2</td>\n",
       "      <td>3.50</td>\n",
       "    </tr>\n",
       "  </tbody>\n",
       "</table>\n",
       "</div>"
      ],
      "text/plain": [
       "                                               title  reviews  avg_rating\n",
       "0          The Body in the Library (Miss Marple  #3)        2        4.50\n",
       "1                                          Galápagos        2        4.50\n",
       "2                           A Tree Grows in Brooklyn        5        4.25\n",
       "3  Undaunted Courage: The Pioneering First Missio...        2        4.00\n",
       "4                                        The Prophet        4        4.29\n",
       "5                  American Gods (American Gods  #1)        5        4.00\n",
       "6            Influence: The Psychology of Persuasion        3        4.33\n",
       "7                                          The Idiot        3        4.25\n",
       "8                                            Rebecca        4        4.00\n",
       "9                                         The Source        2        3.50"
      ]
     },
     "execution_count": 14,
     "metadata": {},
     "output_type": "execute_result"
    }
   ],
   "source": [
    "# чтобы выполнить SQL-запрос, используем Pandas\n",
    "query_2 = '''SELECT title, reviews, avg_rating FROM books as b\n",
    "LEFT JOIN (SELECT book_id, COUNT(review_id) as reviews \n",
    "FROM reviews GROUP BY  book_id) as rev ON b.book_id=rev.book_id\n",
    "LEFT JOIN (SELECT book_id,  ROUND(AVG(rating),2) as avg_rating \n",
    "FROM ratings GROUP BY book_id ) as rat ON b.book_id=rat.book_id \n",
    "LIMIT 10'''\n",
    "con=engine.connect()\n",
    "pd.io.sql.read_sql(sql=text(query_2), con = con)"
   ]
  },
  {
   "cell_type": "code",
   "execution_count": 15,
   "metadata": {},
   "outputs": [
    {
     "data": {
      "text/html": [
       "<div>\n",
       "<style scoped>\n",
       "    .dataframe tbody tr th:only-of-type {\n",
       "        vertical-align: middle;\n",
       "    }\n",
       "\n",
       "    .dataframe tbody tr th {\n",
       "        vertical-align: top;\n",
       "    }\n",
       "\n",
       "    .dataframe thead th {\n",
       "        text-align: right;\n",
       "    }\n",
       "</style>\n",
       "<table border=\"1\" class=\"dataframe\">\n",
       "  <thead>\n",
       "    <tr style=\"text-align: right;\">\n",
       "      <th></th>\n",
       "      <th>title</th>\n",
       "      <th>reviews</th>\n",
       "      <th>avg_rating</th>\n",
       "    </tr>\n",
       "  </thead>\n",
       "  <tbody>\n",
       "    <tr>\n",
       "      <th>0</th>\n",
       "      <td>Harvesting the Heart</td>\n",
       "      <td>2</td>\n",
       "      <td>1.5</td>\n",
       "    </tr>\n",
       "    <tr>\n",
       "      <th>1</th>\n",
       "      <td>His Excellency: George Washington</td>\n",
       "      <td>2</td>\n",
       "      <td>2.0</td>\n",
       "    </tr>\n",
       "  </tbody>\n",
       "</table>\n",
       "</div>"
      ],
      "text/plain": [
       "                               title  reviews  avg_rating\n",
       "0               Harvesting the Heart        2         1.5\n",
       "1  His Excellency: George Washington        2         2.0"
      ]
     },
     "execution_count": 15,
     "metadata": {},
     "output_type": "execute_result"
    }
   ],
   "source": [
    "#минимальный рейтинг книг\n",
    "query_2_1 = '''SELECT title, reviews, avg_rating FROM books as b\n",
    "LEFT JOIN (SELECT book_id, COUNT(review_id) as reviews \n",
    "FROM reviews GROUP BY  book_id) as rev ON b.book_id=rev.book_id\n",
    "LEFT JOIN (SELECT book_id,  ROUND(AVG(rating),2) as avg_rating \n",
    "FROM ratings GROUP BY book_id ) as rat ON b.book_id=rat.book_id\n",
    "ORDER BY avg_rating\n",
    "LIMIT 2'''\n",
    "con=engine.connect()\n",
    "pd.io.sql.read_sql(sql=text(query_2_1), con = con)"
   ]
  },
  {
   "cell_type": "code",
   "execution_count": 16,
   "metadata": {},
   "outputs": [
    {
     "data": {
      "text/html": [
       "<div>\n",
       "<style scoped>\n",
       "    .dataframe tbody tr th:only-of-type {\n",
       "        vertical-align: middle;\n",
       "    }\n",
       "\n",
       "    .dataframe tbody tr th {\n",
       "        vertical-align: top;\n",
       "    }\n",
       "\n",
       "    .dataframe thead th {\n",
       "        text-align: right;\n",
       "    }\n",
       "</style>\n",
       "<table border=\"1\" class=\"dataframe\">\n",
       "  <thead>\n",
       "    <tr style=\"text-align: right;\">\n",
       "      <th></th>\n",
       "      <th>book_id</th>\n",
       "      <th>count</th>\n",
       "    </tr>\n",
       "  </thead>\n",
       "  <tbody>\n",
       "    <tr>\n",
       "      <th>0</th>\n",
       "      <td>948</td>\n",
       "      <td>7</td>\n",
       "    </tr>\n",
       "  </tbody>\n",
       "</table>\n",
       "</div>"
      ],
      "text/plain": [
       "   book_id  count\n",
       "0      948      7"
      ]
     },
     "execution_count": 16,
     "metadata": {},
     "output_type": "execute_result"
    }
   ],
   "source": [
    "#максимальное количество обзоров\n",
    "query_2_2 = '''SELECT book_id, COUNT(review_id) FROM reviews GROUP BY book_id ORDER BY COUNT(review_id) DESC LIMIT 1'''\n",
    "con=engine.connect()\n",
    "pd.io.sql.read_sql(sql=text(query_2_2), con = con)"
   ]
  },
  {
   "cell_type": "code",
   "execution_count": 17,
   "metadata": {},
   "outputs": [
    {
     "data": {
      "text/html": [
       "<div>\n",
       "<style scoped>\n",
       "    .dataframe tbody tr th:only-of-type {\n",
       "        vertical-align: middle;\n",
       "    }\n",
       "\n",
       "    .dataframe tbody tr th {\n",
       "        vertical-align: top;\n",
       "    }\n",
       "\n",
       "    .dataframe thead th {\n",
       "        text-align: right;\n",
       "    }\n",
       "</style>\n",
       "<table border=\"1\" class=\"dataframe\">\n",
       "  <thead>\n",
       "    <tr style=\"text-align: right;\">\n",
       "      <th></th>\n",
       "      <th>book_id</th>\n",
       "      <th>count</th>\n",
       "    </tr>\n",
       "  </thead>\n",
       "  <tbody>\n",
       "    <tr>\n",
       "      <th>0</th>\n",
       "      <td>638</td>\n",
       "      <td>1</td>\n",
       "    </tr>\n",
       "  </tbody>\n",
       "</table>\n",
       "</div>"
      ],
      "text/plain": [
       "   book_id  count\n",
       "0      638      1"
      ]
     },
     "execution_count": 17,
     "metadata": {},
     "output_type": "execute_result"
    }
   ],
   "source": [
    "#минимальное количество обзоров\n",
    "query_2_3 = '''SELECT book_id, COUNT(review_id) FROM reviews GROUP BY book_id ORDER BY COUNT(review_id) LIMIT 1'''\n",
    "con=engine.connect()\n",
    "pd.io.sql.read_sql(sql=text(query_2_3), con = con)"
   ]
  },
  {
   "cell_type": "markdown",
   "metadata": {},
   "source": [
    "- Мы создали таблицу с названиями книг и средним рейтингом и общим количеством обзоров. Опираясь на эти данные, можно определить список ТОП самых популярных книг среди читателей, чтобы включить их в свою базу. \n",
    "- Минимальное количество обзоров на книгу - 1, максимальное 7, рейтинг от 1.5 до 5 баллов. То есть ни одна книга, даже с самым низким рейтингом не осталась без обзора читателя. Учитывая это при разработке нужно обязательно включить отзывы/разделы рекомендации/рейтинги."
   ]
  },
  {
   "cell_type": "markdown",
   "metadata": {},
   "source": [
    "- **Определим издательство, которое выпустило наибольшее число книг толще 50 страниц — так мы исключим из анализа брошюры**"
   ]
  },
  {
   "cell_type": "code",
   "execution_count": 18,
   "metadata": {},
   "outputs": [
    {
     "data": {
      "text/html": [
       "<div>\n",
       "<style scoped>\n",
       "    .dataframe tbody tr th:only-of-type {\n",
       "        vertical-align: middle;\n",
       "    }\n",
       "\n",
       "    .dataframe tbody tr th {\n",
       "        vertical-align: top;\n",
       "    }\n",
       "\n",
       "    .dataframe thead th {\n",
       "        text-align: right;\n",
       "    }\n",
       "</style>\n",
       "<table border=\"1\" class=\"dataframe\">\n",
       "  <thead>\n",
       "    <tr style=\"text-align: right;\">\n",
       "      <th></th>\n",
       "      <th>publisher</th>\n",
       "      <th>total_books</th>\n",
       "    </tr>\n",
       "  </thead>\n",
       "  <tbody>\n",
       "    <tr>\n",
       "      <th>0</th>\n",
       "      <td>Penguin Books</td>\n",
       "      <td>42</td>\n",
       "    </tr>\n",
       "  </tbody>\n",
       "</table>\n",
       "</div>"
      ],
      "text/plain": [
       "       publisher  total_books\n",
       "0  Penguin Books           42"
      ]
     },
     "execution_count": 18,
     "metadata": {},
     "output_type": "execute_result"
    }
   ],
   "source": [
    "# чтобы выполнить SQL-запрос, используем Pandas\n",
    "query_3 = '''SELECT p.publisher, COUNT(b.book_id) as total_books\n",
    "FROM books as b\n",
    "LEFT JOIN publishers as p ON b.publisher_id = p.publisher_id\n",
    "WHERE num_pages > 50\n",
    "GROUP BY publisher\n",
    "ORDER BY total_books DESC\n",
    "LIMIT 1'''\n",
    "con=engine.connect()\n",
    "pd.io.sql.read_sql(sql=text(query_3), con = con)"
   ]
  },
  {
   "cell_type": "markdown",
   "metadata": {},
   "source": [
    "Самое продуктивное издательство Penguin Books, которое издало 42 книги. В расчет были взяты только книги 50+ страниц, чтобы исключить из расчета брошюры."
   ]
  },
  {
   "cell_type": "markdown",
   "metadata": {},
   "source": [
    " \n",
    "- **Определим автора с самой высокой средней оценкой книг — учитываем только книги с 50 и более оценками**"
   ]
  },
  {
   "cell_type": "code",
   "execution_count": 19,
   "metadata": {},
   "outputs": [
    {
     "data": {
      "text/html": [
       "<div>\n",
       "<style scoped>\n",
       "    .dataframe tbody tr th:only-of-type {\n",
       "        vertical-align: middle;\n",
       "    }\n",
       "\n",
       "    .dataframe tbody tr th {\n",
       "        vertical-align: top;\n",
       "    }\n",
       "\n",
       "    .dataframe thead th {\n",
       "        text-align: right;\n",
       "    }\n",
       "</style>\n",
       "<table border=\"1\" class=\"dataframe\">\n",
       "  <thead>\n",
       "    <tr style=\"text-align: right;\">\n",
       "      <th></th>\n",
       "      <th>author</th>\n",
       "      <th>rating</th>\n",
       "    </tr>\n",
       "  </thead>\n",
       "  <tbody>\n",
       "    <tr>\n",
       "      <th>0</th>\n",
       "      <td>J.K. Rowling/Mary GrandPré</td>\n",
       "      <td>4.287097</td>\n",
       "    </tr>\n",
       "  </tbody>\n",
       "</table>\n",
       "</div>"
      ],
      "text/plain": [
       "                       author    rating\n",
       "0  J.K. Rowling/Mary GrandPré  4.287097"
      ]
     },
     "execution_count": 19,
     "metadata": {},
     "output_type": "execute_result"
    }
   ],
   "source": [
    "# чтобы выполнить SQL-запрос, используем Pandas\n",
    "query_4 = '''SELECT author, AVG(rating) as rating FROM books as b\n",
    "RIGHT JOIN (SELECT book_id\n",
    "            FROM ratings\n",
    "            GROUP BY book_id \n",
    "            HAVING COUNT(rating_id) > 49) as lim ON b.book_id=lim.book_id\n",
    "LEFT JOIN authors a ON b.author_id = a.author_id\n",
    "LEFT JOIN ratings r ON r.book_id = b.book_id\n",
    "GROUP BY author\n",
    "ORDER BY rating DESC \n",
    "LIMIT 1 '''\n",
    "con=engine.connect()\n",
    "pd.io.sql.read_sql(sql=text(query_4), con = con)"
   ]
  },
  {
   "cell_type": "markdown",
   "metadata": {},
   "source": [
    "J.K. Rowling самый популярный писатель с высокими оценками, а значит все книги Гарри Поттера обязательно должны быть включены."
   ]
  },
  {
   "cell_type": "markdown",
   "metadata": {},
   "source": [
    "<div class=\"alert alert-success\">\n",
    "<h2> Комментарий ревьюера <a class=\"tocSkip\"> </h2>\n",
    "\n",
    "<b>Все отлично!👍:</b> Автор с самым высоким средним рейтингом найден верно! Классно, что дополнительно выведен сам средний рейтинг - именно в его расчёте обычно делают ошибки:)\n",
    "\n",
    "</div>"
   ]
  },
  {
   "cell_type": "markdown",
   "metadata": {},
   "source": [
    "- **Посчитаем среднее количество обзоров от пользователей, которые поставили больше 48 оценок.**"
   ]
  },
  {
   "cell_type": "code",
   "execution_count": 20,
   "metadata": {},
   "outputs": [
    {
     "data": {
      "text/html": [
       "<div>\n",
       "<style scoped>\n",
       "    .dataframe tbody tr th:only-of-type {\n",
       "        vertical-align: middle;\n",
       "    }\n",
       "\n",
       "    .dataframe tbody tr th {\n",
       "        vertical-align: top;\n",
       "    }\n",
       "\n",
       "    .dataframe thead th {\n",
       "        text-align: right;\n",
       "    }\n",
       "</style>\n",
       "<table border=\"1\" class=\"dataframe\">\n",
       "  <thead>\n",
       "    <tr style=\"text-align: right;\">\n",
       "      <th></th>\n",
       "      <th>avg</th>\n",
       "    </tr>\n",
       "  </thead>\n",
       "  <tbody>\n",
       "    <tr>\n",
       "      <th>0</th>\n",
       "      <td>24.0</td>\n",
       "    </tr>\n",
       "  </tbody>\n",
       "</table>\n",
       "</div>"
      ],
      "text/plain": [
       "    avg\n",
       "0  24.0"
      ]
     },
     "execution_count": 20,
     "metadata": {},
     "output_type": "execute_result"
    }
   ],
   "source": [
    "#чтобы выполнить SQL-запрос, используем Pandas\n",
    "query_5 = '''WITH users as \n",
    "(SELECT rev.username , count(review_id) as review\n",
    " FROM reviews AS rev\n",
    " RIGHT JOIN (SELECT username\n",
    "             FROM ratings\n",
    "             GROUP BY username HAVING COUNT(rating_id) > 48) AS rat ON rev.username = rat.username\n",
    "GROUP BY rev.username)\n",
    "SELECT AVG(review) from users'''\n",
    "con=engine.connect()\n",
    "pd.io.sql.read_sql(sql=text(query_5), con = con)"
   ]
  },
  {
   "cell_type": "markdown",
   "metadata": {},
   "source": [
    "Пользователи, которые оставили более 48 оценок, написали отзыв-обзор в среднем о 24 книгах. Оценку можно поставить книге, которую не читал, но обзор составить на то, что не читал - не возможно. Поэтому можно считать, что в среднем активные пользователи прочли 24 книги."
   ]
  },
  {
   "cell_type": "markdown",
   "metadata": {},
   "source": [
    "<div class=\"alert alert-success\">\n",
    "<h2> Комментарий ревьюера <a class=\"tocSkip\"> </h2>\n",
    "\n",
    "<b>Все отлично!👍:</b> Среднее количество обзоров от пользователей, которые поставили больше 48 оценок, посчитано верно!\n",
    "    "
   ]
  },
  {
   "cell_type": "markdown",
   "metadata": {},
   "source": [
    "### Вывод"
   ]
  },
  {
   "cell_type": "markdown",
   "metadata": {},
   "source": [
    "- Мы создали таблицу с названиями книг и средним рейтингом и общим количеством обзоров. Опираясь на эти данные, можно определить список ТОП самых популярных книг среди читателей, чтобы включить их в свою базу.\n",
    "- С января 2000 года было издано всего 819 книг\n",
    "- Минимальное количество обзоров на книгу - 1, максимальное 7, рейтинг от 1.5 до 5 баллов. То есть ни одна книга, даже с самым низким рейтингом не осталась без обзора читателя. Учитывая это при разработке нужно обязательно включить отзывы/разделы рекомендации/рейтинги.\n",
    "- Самое продуктивное издательство Penguin Books, которое издало 42 книги. В расчет были взяты только книги 50+ страниц, чтобы исключить из расчета брошюры.\n",
    "- J.K. Rowling самый популярный писатель с высокими оценками, а значит все книги Гарри Поттера обязательно должны быть включены.\n",
    "- Самые активные пользователи, которые оставили более 48 оценок, написали отзыв-обзор в среднем о 24 книгах. Оценку можно поставить книге, которую не читал, но обзор составить на то, что не читал - не возможно. Поэтому можно считать, что в среднем активные пользователи прочли 24 книги.\n",
    "\n",
    "**Ценностное предложение**\n",
    "- Провести анализ и выявить то, что пользуется спросом у читателей в наше время, чтобы включить это в свое приложение (выявить популярные книг, авторов и издательств на основе рейтингов пользователей)"
   ]
  },
  {
   "cell_type": "markdown",
   "metadata": {},
   "source": [
    "<div class=\"alert alert-success\">\n",
    "<h2> Комментарий ревьюера <a class=\"tocSkip\"> </h2>\n",
    "\n",
    "<b>Все отлично!👍:</b> Отличный итоговый вывод по проекту!"
   ]
  },
  {
   "cell_type": "markdown",
   "metadata": {},
   "source": [
    "<div style=\"border:solid Chocolate 2px; padding: 40px\">\n",
    "\n",
    "# Комментарий ревьюера: общий вывод по проекту.\n",
    "\n",
    "Екатерина, отличная работа над проектом - все задания у тебя выполнены верно!\n",
    "\n",
    "Мне нравится твой аналитический подход к выполнению проекта, ты соблюдаешь структуру работы, выполняешь её последовательно - это очень хорошо! Шаги проекта выполнены по порядку согласно плану проекта, нет смысловых и структурных ям. Важно, что не забываешь про выводы.\n",
    "    \n",
    "SQL запросы написаны хорошо и оптимально, в них нет избыточных действий, они возвращают верный результат - это здорово, кажется, тебе удалось здорово разобраться в теме.\n",
    "    \n",
    "Есть небольшие рекомендации по улучшению проекта - некритичная мелочь, которая не займёт много времени, но сделает твой проект стилистически более совершенным. Будет классно, если эти рекомендации будут учтены в твоей работе:) Эти замечания можно учесть самостоятельно при оформлении проекта для твоего портфолио.\n",
    "    \n",
    "Спасибо за работу над проектом, желаю приятного завершения финального спринта:)"
   ]
  }
 ],
 "metadata": {
  "ExecuteTimeLog": [
   {
    "duration": 520,
    "start_time": "2023-09-10T15:01:49.594Z"
   },
   {
    "duration": 9734,
    "start_time": "2023-09-10T15:01:54.007Z"
   },
   {
    "duration": 81,
    "start_time": "2023-09-10T15:21:17.731Z"
   },
   {
    "duration": 214,
    "start_time": "2023-09-10T15:22:12.448Z"
   },
   {
    "duration": 61,
    "start_time": "2023-09-10T15:22:44.304Z"
   },
   {
    "duration": 150,
    "start_time": "2023-09-10T15:23:06.634Z"
   },
   {
    "duration": 161,
    "start_time": "2023-09-10T15:26:31.081Z"
   },
   {
    "duration": 51,
    "start_time": "2023-09-10T15:33:08.214Z"
   },
   {
    "duration": 80,
    "start_time": "2023-09-10T15:38:59.825Z"
   },
   {
    "duration": 59,
    "start_time": "2023-09-10T15:39:27.025Z"
   },
   {
    "duration": 54,
    "start_time": "2023-09-10T15:39:41.867Z"
   },
   {
    "duration": 52,
    "start_time": "2023-09-10T15:42:41.339Z"
   },
   {
    "duration": 54,
    "start_time": "2023-09-10T15:43:57.221Z"
   },
   {
    "duration": 53,
    "start_time": "2023-09-10T15:54:08.377Z"
   },
   {
    "duration": 61,
    "start_time": "2023-09-10T15:55:01.110Z"
   },
   {
    "duration": 55,
    "start_time": "2023-09-10T15:55:15.698Z"
   },
   {
    "duration": 54,
    "start_time": "2023-09-10T15:57:26.283Z"
   },
   {
    "duration": 55,
    "start_time": "2023-09-10T15:57:49.180Z"
   },
   {
    "duration": 53,
    "start_time": "2023-09-10T15:58:37.062Z"
   },
   {
    "duration": 59,
    "start_time": "2023-09-10T15:58:43.641Z"
   },
   {
    "duration": 54,
    "start_time": "2023-09-10T15:58:59.785Z"
   },
   {
    "duration": 53,
    "start_time": "2023-09-10T16:04:01.234Z"
   },
   {
    "duration": 72,
    "start_time": "2023-09-10T16:11:53.396Z"
   },
   {
    "duration": 72,
    "start_time": "2023-09-10T16:14:00.925Z"
   },
   {
    "duration": 62,
    "start_time": "2023-09-10T16:14:06.075Z"
   },
   {
    "duration": 61,
    "start_time": "2023-09-10T16:14:18.692Z"
   },
   {
    "duration": 153,
    "start_time": "2023-09-10T16:23:35.769Z"
   },
   {
    "duration": 143,
    "start_time": "2023-09-10T16:24:08.304Z"
   },
   {
    "duration": 72,
    "start_time": "2023-09-10T16:36:57.756Z"
   },
   {
    "duration": 99,
    "start_time": "2023-09-10T16:39:00.193Z"
   },
   {
    "duration": 83,
    "start_time": "2023-09-10T16:39:45.629Z"
   },
   {
    "duration": 81,
    "start_time": "2023-09-10T16:39:56.896Z"
   },
   {
    "duration": 72,
    "start_time": "2023-09-10T16:48:35.385Z"
   },
   {
    "duration": 62,
    "start_time": "2023-09-10T16:48:46.697Z"
   },
   {
    "duration": 60,
    "start_time": "2023-09-10T16:53:24.795Z"
   },
   {
    "duration": 133,
    "start_time": "2023-09-10T17:01:34.560Z"
   },
   {
    "duration": 145,
    "start_time": "2023-09-10T17:10:19.707Z"
   },
   {
    "duration": 142,
    "start_time": "2023-09-10T17:10:31.274Z"
   },
   {
    "duration": 61,
    "start_time": "2023-09-10T17:12:05.590Z"
   },
   {
    "duration": 60,
    "start_time": "2023-09-10T17:13:17.244Z"
   },
   {
    "duration": 60,
    "start_time": "2023-09-10T17:13:34.144Z"
   },
   {
    "duration": 43,
    "start_time": "2023-09-10T17:14:50.819Z"
   },
   {
    "duration": 162,
    "start_time": "2023-09-10T17:15:08.520Z"
   },
   {
    "duration": 83,
    "start_time": "2023-09-10T17:17:16.091Z"
   },
   {
    "duration": 83,
    "start_time": "2023-09-10T17:19:24.042Z"
   },
   {
    "duration": 71,
    "start_time": "2023-09-10T17:20:10.042Z"
   },
   {
    "duration": 73,
    "start_time": "2023-09-10T17:20:44.245Z"
   },
   {
    "duration": 60,
    "start_time": "2023-09-10T17:21:07.875Z"
   },
   {
    "duration": 65,
    "start_time": "2023-09-10T17:21:35.126Z"
   },
   {
    "duration": 139,
    "start_time": "2023-09-10T17:22:50.146Z"
   },
   {
    "duration": 130,
    "start_time": "2023-09-10T17:23:49.712Z"
   },
   {
    "duration": 53,
    "start_time": "2023-09-10T17:24:16.106Z"
   },
   {
    "duration": 58,
    "start_time": "2023-09-10T17:25:02.733Z"
   },
   {
    "duration": 84,
    "start_time": "2023-09-10T17:25:07.980Z"
   },
   {
    "duration": 59,
    "start_time": "2023-09-10T17:25:24.548Z"
   },
   {
    "duration": 57,
    "start_time": "2023-09-10T17:28:43.066Z"
   },
   {
    "duration": 58,
    "start_time": "2023-09-10T17:28:54.901Z"
   },
   {
    "duration": 55,
    "start_time": "2023-09-10T17:29:37.481Z"
   },
   {
    "duration": 71,
    "start_time": "2023-09-10T17:31:18.364Z"
   },
   {
    "duration": 61,
    "start_time": "2023-09-10T17:31:35.798Z"
   },
   {
    "duration": 44,
    "start_time": "2023-09-10T17:32:14.081Z"
   },
   {
    "duration": 51,
    "start_time": "2023-09-10T17:32:27.102Z"
   },
   {
    "duration": 58,
    "start_time": "2023-09-10T17:33:49.967Z"
   },
   {
    "duration": 65,
    "start_time": "2023-09-10T17:34:47.750Z"
   },
   {
    "duration": 75,
    "start_time": "2023-09-10T18:07:01.568Z"
   },
   {
    "duration": 49,
    "start_time": "2023-09-10T18:07:28.258Z"
   },
   {
    "duration": 55,
    "start_time": "2023-09-10T18:09:16.319Z"
   },
   {
    "duration": 85,
    "start_time": "2023-09-10T18:09:32.359Z"
   },
   {
    "duration": 48,
    "start_time": "2023-09-10T18:10:27.450Z"
   },
   {
    "duration": 71,
    "start_time": "2023-09-10T18:12:01.659Z"
   },
   {
    "duration": 60,
    "start_time": "2023-09-10T18:12:37.362Z"
   },
   {
    "duration": 524,
    "start_time": "2023-09-10T18:12:44.993Z"
   },
   {
    "duration": 9838,
    "start_time": "2023-09-10T18:12:45.519Z"
   },
   {
    "duration": 226,
    "start_time": "2023-09-10T18:12:55.359Z"
   },
   {
    "duration": 141,
    "start_time": "2023-09-10T18:12:55.588Z"
   },
   {
    "duration": 52,
    "start_time": "2023-09-10T18:12:55.731Z"
   },
   {
    "duration": 55,
    "start_time": "2023-09-10T18:12:55.784Z"
   },
   {
    "duration": 52,
    "start_time": "2023-09-10T18:12:55.841Z"
   },
   {
    "duration": 54,
    "start_time": "2023-09-10T18:12:55.895Z"
   },
   {
    "duration": 52,
    "start_time": "2023-09-10T18:12:55.951Z"
   },
   {
    "duration": 55,
    "start_time": "2023-09-10T18:12:56.006Z"
   },
   {
    "duration": 52,
    "start_time": "2023-09-10T18:12:56.063Z"
   },
   {
    "duration": 54,
    "start_time": "2023-09-10T18:12:56.117Z"
   },
   {
    "duration": 51,
    "start_time": "2023-09-10T18:12:56.173Z"
   },
   {
    "duration": 61,
    "start_time": "2023-09-10T18:12:56.226Z"
   },
   {
    "duration": 58,
    "start_time": "2023-09-10T18:12:56.289Z"
   },
   {
    "duration": 52,
    "start_time": "2023-09-10T18:12:56.349Z"
   },
   {
    "duration": 52,
    "start_time": "2023-09-10T18:12:56.402Z"
   },
   {
    "duration": 53,
    "start_time": "2023-09-10T18:12:56.456Z"
   },
   {
    "duration": 158,
    "start_time": "2023-09-10T18:12:56.511Z"
   },
   {
    "duration": 0,
    "start_time": "2023-09-10T18:12:56.671Z"
   },
   {
    "duration": 62,
    "start_time": "2023-09-10T18:13:40.521Z"
   },
   {
    "duration": 124,
    "start_time": "2023-09-10T18:14:26.394Z"
   },
   {
    "duration": 148,
    "start_time": "2023-09-10T18:21:03.859Z"
   },
   {
    "duration": 69,
    "start_time": "2023-09-10T18:27:27.294Z"
   },
   {
    "duration": 147,
    "start_time": "2023-09-10T18:28:11.810Z"
   },
   {
    "duration": 154,
    "start_time": "2023-09-10T18:31:19.576Z"
   },
   {
    "duration": 61,
    "start_time": "2023-09-10T18:31:52.079Z"
   },
   {
    "duration": 61,
    "start_time": "2023-09-10T18:32:57.036Z"
   },
   {
    "duration": 61,
    "start_time": "2023-09-10T18:33:35.379Z"
   },
   {
    "duration": 70,
    "start_time": "2023-09-10T18:33:51.159Z"
   },
   {
    "duration": 163,
    "start_time": "2023-09-10T18:34:15.278Z"
   },
   {
    "duration": 81,
    "start_time": "2023-09-10T18:35:13.621Z"
   },
   {
    "duration": 42,
    "start_time": "2023-09-10T18:35:37.593Z"
   },
   {
    "duration": 80,
    "start_time": "2023-09-10T18:38:32.973Z"
   },
   {
    "duration": 45,
    "start_time": "2023-09-10T18:42:09.409Z"
   },
   {
    "duration": 53,
    "start_time": "2023-09-10T18:48:24.817Z"
   },
   {
    "duration": 52,
    "start_time": "2023-09-10T18:48:27.693Z"
   },
   {
    "duration": 579,
    "start_time": "2023-09-10T18:50:45.754Z"
   },
   {
    "duration": 8936,
    "start_time": "2023-09-10T18:50:46.336Z"
   },
   {
    "duration": 233,
    "start_time": "2023-09-10T18:50:55.273Z"
   },
   {
    "duration": 124,
    "start_time": "2023-09-10T18:50:55.507Z"
   },
   {
    "duration": 52,
    "start_time": "2023-09-10T18:50:55.633Z"
   },
   {
    "duration": 56,
    "start_time": "2023-09-10T18:50:55.687Z"
   },
   {
    "duration": 53,
    "start_time": "2023-09-10T18:50:55.744Z"
   },
   {
    "duration": 56,
    "start_time": "2023-09-10T18:50:55.799Z"
   },
   {
    "duration": 52,
    "start_time": "2023-09-10T18:50:55.857Z"
   },
   {
    "duration": 55,
    "start_time": "2023-09-10T18:50:55.911Z"
   },
   {
    "duration": 53,
    "start_time": "2023-09-10T18:50:55.968Z"
   },
   {
    "duration": 55,
    "start_time": "2023-09-10T18:50:56.023Z"
   },
   {
    "duration": 51,
    "start_time": "2023-09-10T18:50:56.080Z"
   },
   {
    "duration": 58,
    "start_time": "2023-09-10T18:50:56.133Z"
   },
   {
    "duration": 58,
    "start_time": "2023-09-10T18:50:56.193Z"
   },
   {
    "duration": 53,
    "start_time": "2023-09-10T18:50:56.252Z"
   },
   {
    "duration": 53,
    "start_time": "2023-09-10T18:50:56.306Z"
   },
   {
    "duration": 53,
    "start_time": "2023-09-10T18:50:56.360Z"
   },
   {
    "duration": 56,
    "start_time": "2023-09-10T18:50:56.415Z"
   },
   {
    "duration": 54,
    "start_time": "2023-09-10T18:50:56.473Z"
   },
   {
    "duration": 527,
    "start_time": "2023-09-10T19:01:52.196Z"
   },
   {
    "duration": 8244,
    "start_time": "2023-09-10T19:01:52.725Z"
   },
   {
    "duration": 260,
    "start_time": "2023-09-10T19:02:00.971Z"
   },
   {
    "duration": 134,
    "start_time": "2023-09-10T19:02:01.233Z"
   },
   {
    "duration": 53,
    "start_time": "2023-09-10T19:02:01.369Z"
   },
   {
    "duration": 57,
    "start_time": "2023-09-10T19:02:01.424Z"
   },
   {
    "duration": 58,
    "start_time": "2023-09-10T19:02:01.482Z"
   },
   {
    "duration": 59,
    "start_time": "2023-09-10T19:02:01.542Z"
   },
   {
    "duration": 74,
    "start_time": "2023-09-10T19:02:01.603Z"
   },
   {
    "duration": 102,
    "start_time": "2023-09-10T19:02:01.679Z"
   },
   {
    "duration": 105,
    "start_time": "2023-09-10T19:02:01.783Z"
   },
   {
    "duration": 453,
    "start_time": "2023-09-10T19:02:01.889Z"
   },
   {
    "duration": 53,
    "start_time": "2023-09-10T19:02:02.345Z"
   },
   {
    "duration": 101,
    "start_time": "2023-09-10T19:02:02.401Z"
   },
   {
    "duration": 58,
    "start_time": "2023-09-10T19:02:02.504Z"
   },
   {
    "duration": 54,
    "start_time": "2023-09-10T19:02:02.564Z"
   },
   {
    "duration": 53,
    "start_time": "2023-09-10T19:02:02.620Z"
   },
   {
    "duration": 54,
    "start_time": "2023-09-10T19:02:02.675Z"
   },
   {
    "duration": 56,
    "start_time": "2023-09-10T19:02:02.731Z"
   },
   {
    "duration": 55,
    "start_time": "2023-09-10T19:02:02.790Z"
   }
  ],
  "kernelspec": {
   "display_name": "Python 3 (ipykernel)",
   "language": "python",
   "name": "python3"
  },
  "language_info": {
   "codemirror_mode": {
    "name": "ipython",
    "version": 3
   },
   "file_extension": ".py",
   "mimetype": "text/x-python",
   "name": "python",
   "nbconvert_exporter": "python",
   "pygments_lexer": "ipython3",
   "version": "3.9.13"
  },
  "toc": {
   "base_numbering": 1,
   "nav_menu": {},
   "number_sections": true,
   "sideBar": true,
   "skip_h1_title": true,
   "title_cell": "Table of Contents",
   "title_sidebar": "Contents",
   "toc_cell": false,
   "toc_position": {},
   "toc_section_display": true,
   "toc_window_display": false
  }
 },
 "nbformat": 4,
 "nbformat_minor": 2
}

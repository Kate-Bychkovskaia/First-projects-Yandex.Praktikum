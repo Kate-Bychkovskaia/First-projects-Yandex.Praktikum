
  {
   "cell_type": "markdown",
   "metadata": {},
   "source": [
    "**Введение**\n",
    "\n",
    "Из открытых источников доступны исторические данные о продажах игр, оценки пользователей и экспертов, жанры и платформы (например, Xbox или PlayStation). \n",
    "\n",
    "\n",
    "Цель: выявить определяющие успешность игры закономерности, чтобы сделать ставку на потенциально популярный продукт и спланировать рекламные кампании.\n",
    "\n",
    "Дано: данные 2016 года\n",
    "\n",
    "- name - название игры\n",
    "- platform - тип приставки\n",
    "- year_of_release - год выпуска\n",
    "- genre - жанр\n",
    "- na_sales - продажи в Северной Америке\n",
    "- eu_sales - продажи в ЕС\n",
    "- jp_sales - продажи в Японии\n",
    "- other_sales - продажи в других странах\n",
    "- critic_score - оценка экспертов\n",
    "- user_score - оценка пользователей\n",
    "- rating - возрастной рейтинг (ESRB)\n",
    "\n",
    "План работ:\n",
    "- Изучение информации\n",
    "- Подготовка данных (поиск дубликатов, пропусков и работа с ними)\n",
    "- Исследовательский анализ данных\n",
    "- Составим портрет пользователей\n",
    "- Вывод"
   ]
  },
  {
   "cell_type": "markdown",
   "metadata": {},
   "source": [
    "<div class=\"alert alert-warning\">\n",
    "    <h2> Комментарий ревьюера v1 <a class=\"tocSkip\"> </h2>\n",
    "    \n",
    "<b>Небольшие замечания и рекомендации💡:</b> Молодец, что начинаем с введения) Было бы здорово еще дополнить планом работы"
   ]
  },
  {
   "cell_type": "markdown",
   "metadata": {},
   "source": [
    "<div class=\"alert alert-info\">\n",
    "<b>дополнила </b> \n",
    "</div>"
   ]
  },
  {
   "cell_type": "markdown",
   "metadata": {},
   "source": [
    "<div class=\"alert alert-success\">\n",
    "<h2> Комментарий ревьюера v2 <a class=\"tocSkip\"> </h2>\n",
    "\n",
    "<b>Все супер!👍:</b> Лайк)"
   ]
  },
  {
   "cell_type": "code",
   "execution_count": 1,
   "metadata": {},
   "outputs": [],
   "source": [
    "import pandas as pd\n",
    "import copy\n",
    "import matplotlib.pyplot as plt \n",
    "import seaborn as sns\n",
    "from scipy import stats as st\n",
    "import numpy as np"
   ]
  },
  {
   "cell_type": "code",
   "execution_count": 2,
   "metadata": {
    "scrolled": true
   },
   "outputs": [
    {
     "data": {
      "text/html": [
       "<div>\n",
       "<style scoped>\n",
       "    .dataframe tbody tr th:only-of-type {\n",
       "        vertical-align: middle;\n",
       "    }\n",
       "\n",
       "    .dataframe tbody tr th {\n",
       "        vertical-align: top;\n",
       "    }\n",
       "\n",
       "    .dataframe thead th {\n",
       "        text-align: right;\n",
       "    }\n",
       "</style>\n",
       "<table border=\"1\" class=\"dataframe\">\n",
       "  <thead>\n",
       "    <tr style=\"text-align: right;\">\n",
       "      <th></th>\n",
       "      <th>Name</th>\n",
       "      <th>Platform</th>\n",
       "      <th>Year_of_Release</th>\n",
       "      <th>Genre</th>\n",
       "      <th>NA_sales</th>\n",
       "      <th>EU_sales</th>\n",
       "      <th>JP_sales</th>\n",
       "      <th>Other_sales</th>\n",
       "      <th>Critic_Score</th>\n",
       "      <th>User_Score</th>\n",
       "      <th>Rating</th>\n",
       "    </tr>\n",
       "  </thead>\n",
       "  <tbody>\n",
       "    <tr>\n",
       "      <th>0</th>\n",
       "      <td>Wii Sports</td>\n",
       "      <td>Wii</td>\n",
       "      <td>2006.0</td>\n",
       "      <td>Sports</td>\n",
       "      <td>41.36</td>\n",
       "      <td>28.96</td>\n",
       "      <td>3.77</td>\n",
       "      <td>8.45</td>\n",
       "      <td>76.0</td>\n",
       "      <td>8</td>\n",
       "      <td>E</td>\n",
       "    </tr>\n",
       "    <tr>\n",
       "      <th>1</th>\n",
       "      <td>Super Mario Bros.</td>\n",
       "      <td>NES</td>\n",
       "      <td>1985.0</td>\n",
       "      <td>Platform</td>\n",
       "      <td>29.08</td>\n",
       "      <td>3.58</td>\n",
       "      <td>6.81</td>\n",
       "      <td>0.77</td>\n",
       "      <td>NaN</td>\n",
       "      <td>NaN</td>\n",
       "      <td>NaN</td>\n",
       "    </tr>\n",
       "    <tr>\n",
       "      <th>2</th>\n",
       "      <td>Mario Kart Wii</td>\n",
       "      <td>Wii</td>\n",
       "      <td>2008.0</td>\n",
       "      <td>Racing</td>\n",
       "      <td>15.68</td>\n",
       "      <td>12.76</td>\n",
       "      <td>3.79</td>\n",
       "      <td>3.29</td>\n",
       "      <td>82.0</td>\n",
       "      <td>8.3</td>\n",
       "      <td>E</td>\n",
       "    </tr>\n",
       "    <tr>\n",
       "      <th>3</th>\n",
       "      <td>Wii Sports Resort</td>\n",
       "      <td>Wii</td>\n",
       "      <td>2009.0</td>\n",
       "      <td>Sports</td>\n",
       "      <td>15.61</td>\n",
       "      <td>10.93</td>\n",
       "      <td>3.28</td>\n",
       "      <td>2.95</td>\n",
       "      <td>80.0</td>\n",
       "      <td>8</td>\n",
       "      <td>E</td>\n",
       "    </tr>\n",
       "    <tr>\n",
       "      <th>4</th>\n",
       "      <td>Pokemon Red/Pokemon Blue</td>\n",
       "      <td>GB</td>\n",
       "      <td>1996.0</td>\n",
       "      <td>Role-Playing</td>\n",
       "      <td>11.27</td>\n",
       "      <td>8.89</td>\n",
       "      <td>10.22</td>\n",
       "      <td>1.00</td>\n",
       "      <td>NaN</td>\n",
       "      <td>NaN</td>\n",
       "      <td>NaN</td>\n",
       "    </tr>\n",
       "    <tr>\n",
       "      <th>...</th>\n",
       "      <td>...</td>\n",
       "      <td>...</td>\n",
       "      <td>...</td>\n",
       "      <td>...</td>\n",
       "      <td>...</td>\n",
       "      <td>...</td>\n",
       "      <td>...</td>\n",
       "      <td>...</td>\n",
       "      <td>...</td>\n",
       "      <td>...</td>\n",
       "      <td>...</td>\n",
       "    </tr>\n",
       "    <tr>\n",
       "      <th>16710</th>\n",
       "      <td>Samurai Warriors: Sanada Maru</td>\n",
       "      <td>PS3</td>\n",
       "      <td>2016.0</td>\n",
       "      <td>Action</td>\n",
       "      <td>0.00</td>\n",
       "      <td>0.00</td>\n",
       "      <td>0.01</td>\n",
       "      <td>0.00</td>\n",
       "      <td>NaN</td>\n",
       "      <td>NaN</td>\n",
       "      <td>NaN</td>\n",
       "    </tr>\n",
       "    <tr>\n",
       "      <th>16711</th>\n",
       "      <td>LMA Manager 2007</td>\n",
       "      <td>X360</td>\n",
       "      <td>2006.0</td>\n",
       "      <td>Sports</td>\n",
       "      <td>0.00</td>\n",
       "      <td>0.01</td>\n",
       "      <td>0.00</td>\n",
       "      <td>0.00</td>\n",
       "      <td>NaN</td>\n",
       "      <td>NaN</td>\n",
       "      <td>NaN</td>\n",
       "    </tr>\n",
       "    <tr>\n",
       "      <th>16712</th>\n",
       "      <td>Haitaka no Psychedelica</td>\n",
       "      <td>PSV</td>\n",
       "      <td>2016.0</td>\n",
       "      <td>Adventure</td>\n",
       "      <td>0.00</td>\n",
       "      <td>0.00</td>\n",
       "      <td>0.01</td>\n",
       "      <td>0.00</td>\n",
       "      <td>NaN</td>\n",
       "      <td>NaN</td>\n",
       "      <td>NaN</td>\n",
       "    </tr>\n",
       "    <tr>\n",
       "      <th>16713</th>\n",
       "      <td>Spirits &amp; Spells</td>\n",
       "      <td>GBA</td>\n",
       "      <td>2003.0</td>\n",
       "      <td>Platform</td>\n",
       "      <td>0.01</td>\n",
       "      <td>0.00</td>\n",
       "      <td>0.00</td>\n",
       "      <td>0.00</td>\n",
       "      <td>NaN</td>\n",
       "      <td>NaN</td>\n",
       "      <td>NaN</td>\n",
       "    </tr>\n",
       "    <tr>\n",
       "      <th>16714</th>\n",
       "      <td>Winning Post 8 2016</td>\n",
       "      <td>PSV</td>\n",
       "      <td>2016.0</td>\n",
       "      <td>Simulation</td>\n",
       "      <td>0.00</td>\n",
       "      <td>0.00</td>\n",
       "      <td>0.01</td>\n",
       "      <td>0.00</td>\n",
       "      <td>NaN</td>\n",
       "      <td>NaN</td>\n",
       "      <td>NaN</td>\n",
       "    </tr>\n",
       "  </tbody>\n",
       "</table>\n",
       "<p>16715 rows × 11 columns</p>\n",
       "</div>"
      ],
      "text/plain": [
       "                                Name Platform  Year_of_Release         Genre  \\\n",
       "0                         Wii Sports      Wii           2006.0        Sports   \n",
       "1                  Super Mario Bros.      NES           1985.0      Platform   \n",
       "2                     Mario Kart Wii      Wii           2008.0        Racing   \n",
       "3                  Wii Sports Resort      Wii           2009.0        Sports   \n",
       "4           Pokemon Red/Pokemon Blue       GB           1996.0  Role-Playing   \n",
       "...                              ...      ...              ...           ...   \n",
       "16710  Samurai Warriors: Sanada Maru      PS3           2016.0        Action   \n",
       "16711               LMA Manager 2007     X360           2006.0        Sports   \n",
       "16712        Haitaka no Psychedelica      PSV           2016.0     Adventure   \n",
       "16713               Spirits & Spells      GBA           2003.0      Platform   \n",
       "16714            Winning Post 8 2016      PSV           2016.0    Simulation   \n",
       "\n",
       "       NA_sales  EU_sales  JP_sales  Other_sales  Critic_Score User_Score  \\\n",
       "0         41.36     28.96      3.77         8.45          76.0          8   \n",
       "1         29.08      3.58      6.81         0.77           NaN        NaN   \n",
       "2         15.68     12.76      3.79         3.29          82.0        8.3   \n",
       "3         15.61     10.93      3.28         2.95          80.0          8   \n",
       "4         11.27      8.89     10.22         1.00           NaN        NaN   \n",
       "...         ...       ...       ...          ...           ...        ...   \n",
       "16710      0.00      0.00      0.01         0.00           NaN        NaN   \n",
       "16711      0.00      0.01      0.00         0.00           NaN        NaN   \n",
       "16712      0.00      0.00      0.01         0.00           NaN        NaN   \n",
       "16713      0.01      0.00      0.00         0.00           NaN        NaN   \n",
       "16714      0.00      0.00      0.01         0.00           NaN        NaN   \n",
       "\n",
       "      Rating  \n",
       "0          E  \n",
       "1        NaN  \n",
       "2          E  \n",
       "3          E  \n",
       "4        NaN  \n",
       "...      ...  \n",
       "16710    NaN  \n",
       "16711    NaN  \n",
       "16712    NaN  \n",
       "16713    NaN  \n",
       "16714    NaN  \n",
       "\n",
       "[16715 rows x 11 columns]"
      ]
     },
     "metadata": {},
     "output_type": "display_data"
    }
   ],
   "source": [
    "data = pd.read_csv('/datasets/games.csv')\n",
    "display(data)"
   ]
  },
  {
   "cell_type": "markdown",
   "metadata": {},
   "source": [
    "Посчитаем пропуски:"
   ]
  },
  {
   "cell_type": "code",
   "execution_count": 3,
   "metadata": {},
   "outputs": [
    {
     "data": {
      "text/plain": [
       "Critic_Score       8578\n",
       "Rating             6766\n",
       "User_Score         6701\n",
       "Year_of_Release     269\n",
       "Name                  2\n",
       "Genre                 2\n",
       "Platform              0\n",
       "NA_sales              0\n",
       "EU_sales              0\n",
       "JP_sales              0\n",
       "Other_sales           0\n",
       "dtype: int64"
      ]
     },
     "execution_count": 3,
     "metadata": {},
     "output_type": "execute_result"
    }
   ],
   "source": [
    "data.isnull().sum().sort_values(ascending=False)"
   ]
  },
  {
   "cell_type": "markdown",
   "metadata": {},
   "source": [
    "Посчитаем дубликаты в name (во всех столбцах, кроме name возможны дубликаты, так как оценки/жанр/доход могут совпадать):"
   ]
  },
  {
   "cell_type": "code",
   "execution_count": 4,
   "metadata": {},
   "outputs": [
    {
     "data": {
      "text/plain": [
       "5155"
      ]
     },
     "execution_count": 4,
     "metadata": {},
     "output_type": "execute_result"
    }
   ],
   "source": [
    "data['Name'].duplicated().sum()"
   ]
  },
  {
   "cell_type": "markdown",
   "metadata": {},
   "source": [
    "5155 дубликатов в столбце. Посмотрим на них:"
   ]
  },
  {
   "cell_type": "code",
   "execution_count": 5,
   "metadata": {},
   "outputs": [
    {
     "data": {
      "text/plain": [
       "Need for Speed: Most Wanted                                       12\n",
       "Ratatouille                                                        9\n",
       "LEGO Marvel Super Heroes                                           9\n",
       "FIFA 14                                                            9\n",
       "Madden NFL 07                                                      9\n",
       "                                                                  ..\n",
       "Rush 2: Extreme Racing USA                                         1\n",
       "Congo Bongo                                                        1\n",
       "Club Penguin: Elite Penguin Force - Herbert's Revenge              1\n",
       "Turok 3: Shadow of Oblivion                                        1\n",
       "Simple 1500 Series Vol. 73: The Invaders ~Space Invaders 1500~     1\n",
       "Name: Name, Length: 11559, dtype: int64"
      ]
     },
     "execution_count": 5,
     "metadata": {},
     "output_type": "execute_result"
    }
   ],
   "source": [
    "data['Name'].value_counts()"
   ]
  },
  {
   "cell_type": "markdown",
   "metadata": {},
   "source": [
    "Посмотрим конкретно на строки с повторами имен у которых большое число задвоенности, например need for speed: most wanted (14 раз), fifa 14 (9 раз)"
   ]
  },
  {
   "cell_type": "code",
   "execution_count": 6,
   "metadata": {},
   "outputs": [
    {
     "data": {
      "text/html": [
       "<div>\n",
       "<style scoped>\n",
       "    .dataframe tbody tr th:only-of-type {\n",
       "        vertical-align: middle;\n",
       "    }\n",
       "\n",
       "    .dataframe tbody tr th {\n",
       "        vertical-align: top;\n",
       "    }\n",
       "\n",
       "    .dataframe thead th {\n",
       "        text-align: right;\n",
       "    }\n",
       "</style>\n",
       "<table border=\"1\" class=\"dataframe\">\n",
       "  <thead>\n",
       "    <tr style=\"text-align: right;\">\n",
       "      <th></th>\n",
       "      <th>Name</th>\n",
       "      <th>Platform</th>\n",
       "      <th>Year_of_Release</th>\n",
       "      <th>Genre</th>\n",
       "      <th>NA_sales</th>\n",
       "      <th>EU_sales</th>\n",
       "      <th>JP_sales</th>\n",
       "      <th>Other_sales</th>\n",
       "      <th>Critic_Score</th>\n",
       "      <th>User_Score</th>\n",
       "      <th>Rating</th>\n",
       "    </tr>\n",
       "  </thead>\n",
       "  <tbody>\n",
       "    <tr>\n",
       "      <th>253</th>\n",
       "      <td>Need for Speed: Most Wanted</td>\n",
       "      <td>PS2</td>\n",
       "      <td>2005.0</td>\n",
       "      <td>Racing</td>\n",
       "      <td>2.03</td>\n",
       "      <td>1.79</td>\n",
       "      <td>0.08</td>\n",
       "      <td>0.47</td>\n",
       "      <td>82.0</td>\n",
       "      <td>9.1</td>\n",
       "      <td>T</td>\n",
       "    </tr>\n",
       "    <tr>\n",
       "      <th>523</th>\n",
       "      <td>Need for Speed: Most Wanted</td>\n",
       "      <td>PS3</td>\n",
       "      <td>2012.0</td>\n",
       "      <td>Racing</td>\n",
       "      <td>0.71</td>\n",
       "      <td>1.46</td>\n",
       "      <td>0.06</td>\n",
       "      <td>0.58</td>\n",
       "      <td>NaN</td>\n",
       "      <td>NaN</td>\n",
       "      <td>NaN</td>\n",
       "    </tr>\n",
       "    <tr>\n",
       "      <th>1190</th>\n",
       "      <td>Need for Speed: Most Wanted</td>\n",
       "      <td>X360</td>\n",
       "      <td>2012.0</td>\n",
       "      <td>Racing</td>\n",
       "      <td>0.62</td>\n",
       "      <td>0.78</td>\n",
       "      <td>0.01</td>\n",
       "      <td>0.15</td>\n",
       "      <td>83.0</td>\n",
       "      <td>8.5</td>\n",
       "      <td>T</td>\n",
       "    </tr>\n",
       "    <tr>\n",
       "      <th>1591</th>\n",
       "      <td>Need for Speed: Most Wanted</td>\n",
       "      <td>X360</td>\n",
       "      <td>2005.0</td>\n",
       "      <td>Racing</td>\n",
       "      <td>1.00</td>\n",
       "      <td>0.13</td>\n",
       "      <td>0.02</td>\n",
       "      <td>0.10</td>\n",
       "      <td>83.0</td>\n",
       "      <td>8.5</td>\n",
       "      <td>T</td>\n",
       "    </tr>\n",
       "    <tr>\n",
       "      <th>1998</th>\n",
       "      <td>Need for Speed: Most Wanted</td>\n",
       "      <td>XB</td>\n",
       "      <td>2005.0</td>\n",
       "      <td>Racing</td>\n",
       "      <td>0.53</td>\n",
       "      <td>0.46</td>\n",
       "      <td>0.00</td>\n",
       "      <td>0.05</td>\n",
       "      <td>83.0</td>\n",
       "      <td>8.8</td>\n",
       "      <td>T</td>\n",
       "    </tr>\n",
       "    <tr>\n",
       "      <th>2048</th>\n",
       "      <td>Need for Speed: Most Wanted</td>\n",
       "      <td>PSV</td>\n",
       "      <td>2012.0</td>\n",
       "      <td>Racing</td>\n",
       "      <td>0.33</td>\n",
       "      <td>0.45</td>\n",
       "      <td>0.01</td>\n",
       "      <td>0.22</td>\n",
       "      <td>NaN</td>\n",
       "      <td>NaN</td>\n",
       "      <td>NaN</td>\n",
       "    </tr>\n",
       "    <tr>\n",
       "      <th>3581</th>\n",
       "      <td>Need for Speed: Most Wanted</td>\n",
       "      <td>GC</td>\n",
       "      <td>2005.0</td>\n",
       "      <td>Racing</td>\n",
       "      <td>0.43</td>\n",
       "      <td>0.11</td>\n",
       "      <td>0.00</td>\n",
       "      <td>0.02</td>\n",
       "      <td>80.0</td>\n",
       "      <td>9.1</td>\n",
       "      <td>T</td>\n",
       "    </tr>\n",
       "    <tr>\n",
       "      <th>5972</th>\n",
       "      <td>Need for Speed: Most Wanted</td>\n",
       "      <td>PC</td>\n",
       "      <td>2005.0</td>\n",
       "      <td>Racing</td>\n",
       "      <td>0.02</td>\n",
       "      <td>0.23</td>\n",
       "      <td>0.00</td>\n",
       "      <td>0.04</td>\n",
       "      <td>82.0</td>\n",
       "      <td>8.5</td>\n",
       "      <td>T</td>\n",
       "    </tr>\n",
       "    <tr>\n",
       "      <th>6273</th>\n",
       "      <td>Need for Speed: Most Wanted</td>\n",
       "      <td>WiiU</td>\n",
       "      <td>2013.0</td>\n",
       "      <td>Racing</td>\n",
       "      <td>0.13</td>\n",
       "      <td>0.12</td>\n",
       "      <td>0.00</td>\n",
       "      <td>0.02</td>\n",
       "      <td>NaN</td>\n",
       "      <td>NaN</td>\n",
       "      <td>NaN</td>\n",
       "    </tr>\n",
       "    <tr>\n",
       "      <th>6410</th>\n",
       "      <td>Need for Speed: Most Wanted</td>\n",
       "      <td>DS</td>\n",
       "      <td>2005.0</td>\n",
       "      <td>Racing</td>\n",
       "      <td>0.24</td>\n",
       "      <td>0.01</td>\n",
       "      <td>0.00</td>\n",
       "      <td>0.02</td>\n",
       "      <td>45.0</td>\n",
       "      <td>6.1</td>\n",
       "      <td>E</td>\n",
       "    </tr>\n",
       "    <tr>\n",
       "      <th>6473</th>\n",
       "      <td>Need for Speed: Most Wanted</td>\n",
       "      <td>GBA</td>\n",
       "      <td>2005.0</td>\n",
       "      <td>Racing</td>\n",
       "      <td>0.19</td>\n",
       "      <td>0.07</td>\n",
       "      <td>0.00</td>\n",
       "      <td>0.00</td>\n",
       "      <td>NaN</td>\n",
       "      <td>8.3</td>\n",
       "      <td>E</td>\n",
       "    </tr>\n",
       "    <tr>\n",
       "      <th>11715</th>\n",
       "      <td>Need for Speed: Most Wanted</td>\n",
       "      <td>PC</td>\n",
       "      <td>2012.0</td>\n",
       "      <td>Racing</td>\n",
       "      <td>0.00</td>\n",
       "      <td>0.06</td>\n",
       "      <td>0.00</td>\n",
       "      <td>0.02</td>\n",
       "      <td>82.0</td>\n",
       "      <td>8.5</td>\n",
       "      <td>T</td>\n",
       "    </tr>\n",
       "  </tbody>\n",
       "</table>\n",
       "</div>"
      ],
      "text/plain": [
       "                              Name Platform  Year_of_Release   Genre  \\\n",
       "253    Need for Speed: Most Wanted      PS2           2005.0  Racing   \n",
       "523    Need for Speed: Most Wanted      PS3           2012.0  Racing   \n",
       "1190   Need for Speed: Most Wanted     X360           2012.0  Racing   \n",
       "1591   Need for Speed: Most Wanted     X360           2005.0  Racing   \n",
       "1998   Need for Speed: Most Wanted       XB           2005.0  Racing   \n",
       "2048   Need for Speed: Most Wanted      PSV           2012.0  Racing   \n",
       "3581   Need for Speed: Most Wanted       GC           2005.0  Racing   \n",
       "5972   Need for Speed: Most Wanted       PC           2005.0  Racing   \n",
       "6273   Need for Speed: Most Wanted     WiiU           2013.0  Racing   \n",
       "6410   Need for Speed: Most Wanted       DS           2005.0  Racing   \n",
       "6473   Need for Speed: Most Wanted      GBA           2005.0  Racing   \n",
       "11715  Need for Speed: Most Wanted       PC           2012.0  Racing   \n",
       "\n",
       "       NA_sales  EU_sales  JP_sales  Other_sales  Critic_Score User_Score  \\\n",
       "253        2.03      1.79      0.08         0.47          82.0        9.1   \n",
       "523        0.71      1.46      0.06         0.58           NaN        NaN   \n",
       "1190       0.62      0.78      0.01         0.15          83.0        8.5   \n",
       "1591       1.00      0.13      0.02         0.10          83.0        8.5   \n",
       "1998       0.53      0.46      0.00         0.05          83.0        8.8   \n",
       "2048       0.33      0.45      0.01         0.22           NaN        NaN   \n",
       "3581       0.43      0.11      0.00         0.02          80.0        9.1   \n",
       "5972       0.02      0.23      0.00         0.04          82.0        8.5   \n",
       "6273       0.13      0.12      0.00         0.02           NaN        NaN   \n",
       "6410       0.24      0.01      0.00         0.02          45.0        6.1   \n",
       "6473       0.19      0.07      0.00         0.00           NaN        8.3   \n",
       "11715      0.00      0.06      0.00         0.02          82.0        8.5   \n",
       "\n",
       "      Rating  \n",
       "253        T  \n",
       "523      NaN  \n",
       "1190       T  \n",
       "1591       T  \n",
       "1998       T  \n",
       "2048     NaN  \n",
       "3581       T  \n",
       "5972       T  \n",
       "6273     NaN  \n",
       "6410       E  \n",
       "6473       E  \n",
       "11715      T  "
      ]
     },
     "execution_count": 6,
     "metadata": {},
     "output_type": "execute_result"
    }
   ],
   "source": [
    "data.query('Name == \"Need for Speed: Most Wanted\"')"
   ]
  },
  {
   "cell_type": "code",
   "execution_count": 7,
   "metadata": {},
   "outputs": [
    {
     "data": {
      "text/html": [
       "<div>\n",
       "<style scoped>\n",
       "    .dataframe tbody tr th:only-of-type {\n",
       "        vertical-align: middle;\n",
       "    }\n",
       "\n",
       "    .dataframe tbody tr th {\n",
       "        vertical-align: top;\n",
       "    }\n",
       "\n",
       "    .dataframe thead th {\n",
       "        text-align: right;\n",
       "    }\n",
       "</style>\n",
       "<table border=\"1\" class=\"dataframe\">\n",
       "  <thead>\n",
       "    <tr style=\"text-align: right;\">\n",
       "      <th></th>\n",
       "      <th>Name</th>\n",
       "      <th>Platform</th>\n",
       "      <th>Year_of_Release</th>\n",
       "      <th>Genre</th>\n",
       "      <th>NA_sales</th>\n",
       "      <th>EU_sales</th>\n",
       "      <th>JP_sales</th>\n",
       "      <th>Other_sales</th>\n",
       "      <th>Critic_Score</th>\n",
       "      <th>User_Score</th>\n",
       "      <th>Rating</th>\n",
       "    </tr>\n",
       "  </thead>\n",
       "  <tbody>\n",
       "    <tr>\n",
       "      <th>126</th>\n",
       "      <td>FIFA 14</td>\n",
       "      <td>PS3</td>\n",
       "      <td>2013.0</td>\n",
       "      <td>Sports</td>\n",
       "      <td>0.78</td>\n",
       "      <td>4.24</td>\n",
       "      <td>0.07</td>\n",
       "      <td>1.37</td>\n",
       "      <td>86.0</td>\n",
       "      <td>4.3</td>\n",
       "      <td>E</td>\n",
       "    </tr>\n",
       "    <tr>\n",
       "      <th>271</th>\n",
       "      <td>FIFA 14</td>\n",
       "      <td>X360</td>\n",
       "      <td>2013.0</td>\n",
       "      <td>Sports</td>\n",
       "      <td>0.92</td>\n",
       "      <td>2.89</td>\n",
       "      <td>0.01</td>\n",
       "      <td>0.40</td>\n",
       "      <td>84.0</td>\n",
       "      <td>4.2</td>\n",
       "      <td>E</td>\n",
       "    </tr>\n",
       "    <tr>\n",
       "      <th>469</th>\n",
       "      <td>FIFA 14</td>\n",
       "      <td>PS4</td>\n",
       "      <td>2013.0</td>\n",
       "      <td>Sports</td>\n",
       "      <td>0.61</td>\n",
       "      <td>1.85</td>\n",
       "      <td>0.11</td>\n",
       "      <td>0.44</td>\n",
       "      <td>87.0</td>\n",
       "      <td>6.3</td>\n",
       "      <td>E</td>\n",
       "    </tr>\n",
       "    <tr>\n",
       "      <th>1753</th>\n",
       "      <td>FIFA 14</td>\n",
       "      <td>XOne</td>\n",
       "      <td>2013.0</td>\n",
       "      <td>Sports</td>\n",
       "      <td>0.41</td>\n",
       "      <td>0.66</td>\n",
       "      <td>0.00</td>\n",
       "      <td>0.09</td>\n",
       "      <td>88.0</td>\n",
       "      <td>5.8</td>\n",
       "      <td>E</td>\n",
       "    </tr>\n",
       "    <tr>\n",
       "      <th>4699</th>\n",
       "      <td>FIFA 14</td>\n",
       "      <td>PSV</td>\n",
       "      <td>2013.0</td>\n",
       "      <td>Sports</td>\n",
       "      <td>0.08</td>\n",
       "      <td>0.23</td>\n",
       "      <td>0.01</td>\n",
       "      <td>0.09</td>\n",
       "      <td>NaN</td>\n",
       "      <td>1.8</td>\n",
       "      <td>E</td>\n",
       "    </tr>\n",
       "    <tr>\n",
       "      <th>4809</th>\n",
       "      <td>FIFA 14</td>\n",
       "      <td>PC</td>\n",
       "      <td>2013.0</td>\n",
       "      <td>Sports</td>\n",
       "      <td>0.01</td>\n",
       "      <td>0.36</td>\n",
       "      <td>0.00</td>\n",
       "      <td>0.03</td>\n",
       "      <td>87.0</td>\n",
       "      <td>4.6</td>\n",
       "      <td>E</td>\n",
       "    </tr>\n",
       "    <tr>\n",
       "      <th>4985</th>\n",
       "      <td>FIFA 14</td>\n",
       "      <td>Wii</td>\n",
       "      <td>2013.0</td>\n",
       "      <td>Sports</td>\n",
       "      <td>0.00</td>\n",
       "      <td>0.36</td>\n",
       "      <td>0.00</td>\n",
       "      <td>0.02</td>\n",
       "      <td>NaN</td>\n",
       "      <td>4.3</td>\n",
       "      <td>E</td>\n",
       "    </tr>\n",
       "    <tr>\n",
       "      <th>6871</th>\n",
       "      <td>FIFA 14</td>\n",
       "      <td>3DS</td>\n",
       "      <td>2013.0</td>\n",
       "      <td>Sports</td>\n",
       "      <td>0.00</td>\n",
       "      <td>0.22</td>\n",
       "      <td>0.00</td>\n",
       "      <td>0.01</td>\n",
       "      <td>NaN</td>\n",
       "      <td>NaN</td>\n",
       "      <td>NaN</td>\n",
       "    </tr>\n",
       "    <tr>\n",
       "      <th>7875</th>\n",
       "      <td>FIFA 14</td>\n",
       "      <td>PSP</td>\n",
       "      <td>2013.0</td>\n",
       "      <td>Sports</td>\n",
       "      <td>0.00</td>\n",
       "      <td>0.15</td>\n",
       "      <td>0.00</td>\n",
       "      <td>0.04</td>\n",
       "      <td>NaN</td>\n",
       "      <td>3.4</td>\n",
       "      <td>E</td>\n",
       "    </tr>\n",
       "  </tbody>\n",
       "</table>\n",
       "</div>"
      ],
      "text/plain": [
       "         Name Platform  Year_of_Release   Genre  NA_sales  EU_sales  JP_sales  \\\n",
       "126   FIFA 14      PS3           2013.0  Sports      0.78      4.24      0.07   \n",
       "271   FIFA 14     X360           2013.0  Sports      0.92      2.89      0.01   \n",
       "469   FIFA 14      PS4           2013.0  Sports      0.61      1.85      0.11   \n",
       "1753  FIFA 14     XOne           2013.0  Sports      0.41      0.66      0.00   \n",
       "4699  FIFA 14      PSV           2013.0  Sports      0.08      0.23      0.01   \n",
       "4809  FIFA 14       PC           2013.0  Sports      0.01      0.36      0.00   \n",
       "4985  FIFA 14      Wii           2013.0  Sports      0.00      0.36      0.00   \n",
       "6871  FIFA 14      3DS           2013.0  Sports      0.00      0.22      0.00   \n",
       "7875  FIFA 14      PSP           2013.0  Sports      0.00      0.15      0.00   \n",
       "\n",
       "      Other_sales  Critic_Score User_Score Rating  \n",
       "126          1.37          86.0        4.3      E  \n",
       "271          0.40          84.0        4.2      E  \n",
       "469          0.44          87.0        6.3      E  \n",
       "1753         0.09          88.0        5.8      E  \n",
       "4699         0.09           NaN        1.8      E  \n",
       "4809         0.03          87.0        4.6      E  \n",
       "4985         0.02           NaN        4.3      E  \n",
       "6871         0.01           NaN        NaN    NaN  \n",
       "7875         0.04           NaN        3.4      E  "
      ]
     },
     "execution_count": 7,
     "metadata": {},
     "output_type": "execute_result"
    }
   ],
   "source": [
    "data.query('Name == \"FIFA 14\"')"
   ]
  },
  {
   "cell_type": "markdown",
   "metadata": {},
   "source": [
    "Судя по данным, это не дубли: это одна и та же игра, выпущенная на разные консоли в разные года. Повтора в консолях нет. Данные эти трогать нельзя. Поэтому оставляем их, как есть."
   ]
  },
  {
   "cell_type": "markdown",
   "metadata": {},
   "source": [
    "Посмотрим тип данных строк:"
   ]
  },
  {
   "cell_type": "code",
   "execution_count": 8,
   "metadata": {},
   "outputs": [
    {
     "name": "stdout",
     "output_type": "stream",
     "text": [
      "<class 'pandas.core.frame.DataFrame'>\n",
      "RangeIndex: 16715 entries, 0 to 16714\n",
      "Data columns (total 11 columns):\n",
      " #   Column           Non-Null Count  Dtype  \n",
      "---  ------           --------------  -----  \n",
      " 0   Name             16713 non-null  object \n",
      " 1   Platform         16715 non-null  object \n",
      " 2   Year_of_Release  16446 non-null  float64\n",
      " 3   Genre            16713 non-null  object \n",
      " 4   NA_sales         16715 non-null  float64\n",
      " 5   EU_sales         16715 non-null  float64\n",
      " 6   JP_sales         16715 non-null  float64\n",
      " 7   Other_sales      16715 non-null  float64\n",
      " 8   Critic_Score     8137 non-null   float64\n",
      " 9   User_Score       10014 non-null  object \n",
      " 10  Rating           9949 non-null   object \n",
      "dtypes: float64(6), object(5)\n",
      "memory usage: 1.4+ MB\n"
     ]
    }
   ],
   "source": [
    "data.info()"
   ]
  },
  {
   "cell_type": "markdown",
   "metadata": {},
   "source": [
    "**Вывод**\n",
    "\n",
    "- Названия столбцов, названия игр и жанров указаны с большой буквы, привести все данные к нижнему регистру\n",
    "- Пропуски в Critic_Score - 8578, Rating - 6766, User_Score - 6701, Year_of_Release - 269, Name, Genre - 2.\n",
    "- Дубликаты (их нет, дубликаты названий - это игры на разные консоли, а значит для нас - это разные типы данных)\n",
    "- Тип данных (неверный тип данных у Year_of_Release(float), User_Score (object), Rating (object), после обработки все пропусков необходимо изменить их.\n",
    "\n",
    "________________________________________________________________"
   ]
  },
  {
   "cell_type": "markdown",
   "metadata": {},
   "source": [
    "<div class=\"alert alert-block alert-danger\">\n",
    "<h2> Комментарий ревьюера v1 <a class=\"tocSkip\"></h2>\n",
    "\n",
    "<b>На доработку🤔:</b>  Было бы супер сделать вывод по обзору данных) Неправильные типы данных? Пропуски? Дубликаты?"
   ]
  },
  {
   "cell_type": "markdown",
   "metadata": {},
   "source": [
    "<div class=\"alert alert-info\">\n",
    "<b>Дополнила строки с поиском дубликатов, пропусков, анализа типа данных (код с [3] по [8]) +вывод, надеюсь, что теперь похоже на супер </b> \n",
    "</div>"
   ]
  },
  {
   "cell_type": "markdown",
   "metadata": {},
   "source": [
    "<div class=\"alert alert-success\">\n",
    "<h2> Комментарий ревьюера v2 <a class=\"tocSkip\"> </h2>\n",
    "\n",
    "<b>Все супер!👍:</b> Теперь похоже)"
   ]
  },
  {
   "cell_type": "markdown",
   "metadata": {},
   "source": [
    "**Шаг 1. Подготовка данных**\n",
    "\n",
    "- Заменим названия столбцов (приведем к нижнему регистру)\n",
    "- Преобразуем данные в нужные типы\n",
    "- Обработаем пропуски\n",
    "- Аббревиатуру 'tbd' в столбце с оценкой пользователей разберем, оценим как можно его обработать.\n",
    "- Посчитайте суммарные продажи во всех регионах и запишите их в отдельный столбец."
   ]
  },
  {
   "cell_type": "markdown",
   "metadata": {},
   "source": [
    "Приведем к нижнему регистру названия колонок и значения строк в name и genre"
   ]
  },
  {
   "cell_type": "code",
   "execution_count": 9,
   "metadata": {},
   "outputs": [
    {
     "data": {
      "text/html": [
       "<div>\n",
       "<style scoped>\n",
       "    .dataframe tbody tr th:only-of-type {\n",
       "        vertical-align: middle;\n",
       "    }\n",
       "\n",
       "    .dataframe tbody tr th {\n",
       "        vertical-align: top;\n",
       "    }\n",
       "\n",
       "    .dataframe thead th {\n",
       "        text-align: right;\n",
       "    }\n",
       "</style>\n",
       "<table border=\"1\" class=\"dataframe\">\n",
       "  <thead>\n",
       "    <tr style=\"text-align: right;\">\n",
       "      <th></th>\n",
       "      <th>name</th>\n",
       "      <th>platform</th>\n",
       "      <th>year_of_release</th>\n",
       "      <th>genre</th>\n",
       "      <th>na_sales</th>\n",
       "      <th>eu_sales</th>\n",
       "      <th>jp_sales</th>\n",
       "      <th>other_sales</th>\n",
       "      <th>critic_score</th>\n",
       "      <th>user_score</th>\n",
       "      <th>rating</th>\n",
       "    </tr>\n",
       "  </thead>\n",
       "  <tbody>\n",
       "    <tr>\n",
       "      <th>0</th>\n",
       "      <td>wii sports</td>\n",
       "      <td>Wii</td>\n",
       "      <td>2006.0</td>\n",
       "      <td>sports</td>\n",
       "      <td>41.36</td>\n",
       "      <td>28.96</td>\n",
       "      <td>3.77</td>\n",
       "      <td>8.45</td>\n",
       "      <td>76.0</td>\n",
       "      <td>8</td>\n",
       "      <td>E</td>\n",
       "    </tr>\n",
       "    <tr>\n",
       "      <th>1</th>\n",
       "      <td>super mario bros.</td>\n",
       "      <td>NES</td>\n",
       "      <td>1985.0</td>\n",
       "      <td>platform</td>\n",
       "      <td>29.08</td>\n",
       "      <td>3.58</td>\n",
       "      <td>6.81</td>\n",
       "      <td>0.77</td>\n",
       "      <td>NaN</td>\n",
       "      <td>NaN</td>\n",
       "      <td>NaN</td>\n",
       "    </tr>\n",
       "    <tr>\n",
       "      <th>2</th>\n",
       "      <td>mario kart wii</td>\n",
       "      <td>Wii</td>\n",
       "      <td>2008.0</td>\n",
       "      <td>racing</td>\n",
       "      <td>15.68</td>\n",
       "      <td>12.76</td>\n",
       "      <td>3.79</td>\n",
       "      <td>3.29</td>\n",
       "      <td>82.0</td>\n",
       "      <td>8.3</td>\n",
       "      <td>E</td>\n",
       "    </tr>\n",
       "    <tr>\n",
       "      <th>3</th>\n",
       "      <td>wii sports resort</td>\n",
       "      <td>Wii</td>\n",
       "      <td>2009.0</td>\n",
       "      <td>sports</td>\n",
       "      <td>15.61</td>\n",
       "      <td>10.93</td>\n",
       "      <td>3.28</td>\n",
       "      <td>2.95</td>\n",
       "      <td>80.0</td>\n",
       "      <td>8</td>\n",
       "      <td>E</td>\n",
       "    </tr>\n",
       "    <tr>\n",
       "      <th>4</th>\n",
       "      <td>pokemon red/pokemon blue</td>\n",
       "      <td>GB</td>\n",
       "      <td>1996.0</td>\n",
       "      <td>role-playing</td>\n",
       "      <td>11.27</td>\n",
       "      <td>8.89</td>\n",
       "      <td>10.22</td>\n",
       "      <td>1.00</td>\n",
       "      <td>NaN</td>\n",
       "      <td>NaN</td>\n",
       "      <td>NaN</td>\n",
       "    </tr>\n",
       "    <tr>\n",
       "      <th>...</th>\n",
       "      <td>...</td>\n",
       "      <td>...</td>\n",
       "      <td>...</td>\n",
       "      <td>...</td>\n",
       "      <td>...</td>\n",
       "      <td>...</td>\n",
       "      <td>...</td>\n",
       "      <td>...</td>\n",
       "      <td>...</td>\n",
       "      <td>...</td>\n",
       "      <td>...</td>\n",
       "    </tr>\n",
       "    <tr>\n",
       "      <th>16710</th>\n",
       "      <td>samurai warriors: sanada maru</td>\n",
       "      <td>PS3</td>\n",
       "      <td>2016.0</td>\n",
       "      <td>action</td>\n",
       "      <td>0.00</td>\n",
       "      <td>0.00</td>\n",
       "      <td>0.01</td>\n",
       "      <td>0.00</td>\n",
       "      <td>NaN</td>\n",
       "      <td>NaN</td>\n",
       "      <td>NaN</td>\n",
       "    </tr>\n",
       "    <tr>\n",
       "      <th>16711</th>\n",
       "      <td>lma manager 2007</td>\n",
       "      <td>X360</td>\n",
       "      <td>2006.0</td>\n",
       "      <td>sports</td>\n",
       "      <td>0.00</td>\n",
       "      <td>0.01</td>\n",
       "      <td>0.00</td>\n",
       "      <td>0.00</td>\n",
       "      <td>NaN</td>\n",
       "      <td>NaN</td>\n",
       "      <td>NaN</td>\n",
       "    </tr>\n",
       "    <tr>\n",
       "      <th>16712</th>\n",
       "      <td>haitaka no psychedelica</td>\n",
       "      <td>PSV</td>\n",
       "      <td>2016.0</td>\n",
       "      <td>adventure</td>\n",
       "      <td>0.00</td>\n",
       "      <td>0.00</td>\n",
       "      <td>0.01</td>\n",
       "      <td>0.00</td>\n",
       "      <td>NaN</td>\n",
       "      <td>NaN</td>\n",
       "      <td>NaN</td>\n",
       "    </tr>\n",
       "    <tr>\n",
       "      <th>16713</th>\n",
       "      <td>spirits &amp; spells</td>\n",
       "      <td>GBA</td>\n",
       "      <td>2003.0</td>\n",
       "      <td>platform</td>\n",
       "      <td>0.01</td>\n",
       "      <td>0.00</td>\n",
       "      <td>0.00</td>\n",
       "      <td>0.00</td>\n",
       "      <td>NaN</td>\n",
       "      <td>NaN</td>\n",
       "      <td>NaN</td>\n",
       "    </tr>\n",
       "    <tr>\n",
       "      <th>16714</th>\n",
       "      <td>winning post 8 2016</td>\n",
       "      <td>PSV</td>\n",
       "      <td>2016.0</td>\n",
       "      <td>simulation</td>\n",
       "      <td>0.00</td>\n",
       "      <td>0.00</td>\n",
       "      <td>0.01</td>\n",
       "      <td>0.00</td>\n",
       "      <td>NaN</td>\n",
       "      <td>NaN</td>\n",
       "      <td>NaN</td>\n",
       "    </tr>\n",
       "  </tbody>\n",
       "</table>\n",
       "<p>16715 rows × 11 columns</p>\n",
       "</div>"
      ],
      "text/plain": [
       "                                name platform  year_of_release         genre  \\\n",
       "0                         wii sports      Wii           2006.0        sports   \n",
       "1                  super mario bros.      NES           1985.0      platform   \n",
       "2                     mario kart wii      Wii           2008.0        racing   \n",
       "3                  wii sports resort      Wii           2009.0        sports   \n",
       "4           pokemon red/pokemon blue       GB           1996.0  role-playing   \n",
       "...                              ...      ...              ...           ...   \n",
       "16710  samurai warriors: sanada maru      PS3           2016.0        action   \n",
       "16711               lma manager 2007     X360           2006.0        sports   \n",
       "16712        haitaka no psychedelica      PSV           2016.0     adventure   \n",
       "16713               spirits & spells      GBA           2003.0      platform   \n",
       "16714            winning post 8 2016      PSV           2016.0    simulation   \n",
       "\n",
       "       na_sales  eu_sales  jp_sales  other_sales  critic_score user_score  \\\n",
       "0         41.36     28.96      3.77         8.45          76.0          8   \n",
       "1         29.08      3.58      6.81         0.77           NaN        NaN   \n",
       "2         15.68     12.76      3.79         3.29          82.0        8.3   \n",
       "3         15.61     10.93      3.28         2.95          80.0          8   \n",
       "4         11.27      8.89     10.22         1.00           NaN        NaN   \n",
       "...         ...       ...       ...          ...           ...        ...   \n",
       "16710      0.00      0.00      0.01         0.00           NaN        NaN   \n",
       "16711      0.00      0.01      0.00         0.00           NaN        NaN   \n",
       "16712      0.00      0.00      0.01         0.00           NaN        NaN   \n",
       "16713      0.01      0.00      0.00         0.00           NaN        NaN   \n",
       "16714      0.00      0.00      0.01         0.00           NaN        NaN   \n",
       "\n",
       "      rating  \n",
       "0          E  \n",
       "1        NaN  \n",
       "2          E  \n",
       "3          E  \n",
       "4        NaN  \n",
       "...      ...  \n",
       "16710    NaN  \n",
       "16711    NaN  \n",
       "16712    NaN  \n",
       "16713    NaN  \n",
       "16714    NaN  \n",
       "\n",
       "[16715 rows x 11 columns]"
      ]
     },
     "metadata": {},
     "output_type": "display_data"
    }
   ],
   "source": [
    "#приведем к нижнему регистру названия колонок\n",
    "data.columns= data.columns.str.lower()\n",
    "\n",
    "#приведем к нижнему регистру строки в других колонках\n",
    "data['name'] = data['name'].str.lower()\n",
    "data['genre'] = data['genre'].str.lower()\n",
    "\n",
    "display(data)"
   ]
  },
  {
   "cell_type": "markdown",
   "metadata": {},
   "source": [
    "<div class=\"alert alert-success\">\n",
    "<h2> Комментарий ревьюера v1 <a class=\"tocSkip\"> </h2>\n",
    "\n",
    "<b>Все супер!👍:</b> Молодец, что верно используешь метод lower()"
   ]
  },
  {
   "cell_type": "markdown",
   "metadata": {},
   "source": [
    "- Посмотрим уникальные значения в столбцах и узнаем сумму пропусков"
   ]
  },
  {
   "cell_type": "code",
   "execution_count": 10,
   "metadata": {},
   "outputs": [
    {
     "name": "stdout",
     "output_type": "stream",
     "text": [
      "Уникальные значения столбца name\n",
      "['wii sports' 'super mario bros.' 'mario kart wii' ...\n",
      " 'woody woodpecker in crazy castle 5' 'lma manager 2007'\n",
      " 'haitaka no psychedelica']\n",
      "Уникальные значения столбца platform\n",
      "['Wii' 'NES' 'GB' 'DS' 'X360' 'PS3' 'PS2' 'SNES' 'GBA' 'PS4' '3DS' 'N64'\n",
      " 'PS' 'XB' 'PC' '2600' 'PSP' 'XOne' 'WiiU' 'GC' 'GEN' 'DC' 'PSV' 'SAT'\n",
      " 'SCD' 'WS' 'NG' 'TG16' '3DO' 'GG' 'PCFX']\n",
      "Уникальные значения столбца year_of_release\n",
      "[2006. 1985. 2008. 2009. 1996. 1989. 1984. 2005. 1999. 2007. 2010. 2013.\n",
      " 2004. 1990. 1988. 2002. 2001. 2011. 1998. 2015. 2012. 2014. 1992. 1997.\n",
      " 1993. 1994. 1982. 2016. 2003. 1986. 2000.   nan 1995. 1991. 1981. 1987.\n",
      " 1980. 1983.]\n",
      "Уникальные значения столбца genre\n",
      "['sports' 'platform' 'racing' 'role-playing' 'puzzle' 'misc' 'shooter'\n",
      " 'simulation' 'action' 'fighting' 'adventure' 'strategy' nan]\n",
      "Уникальные значения столбца na_sales\n",
      "[4.136e+01 2.908e+01 1.568e+01 1.561e+01 1.127e+01 2.320e+01 1.128e+01\n",
      " 1.396e+01 1.444e+01 2.693e+01 9.050e+00 9.710e+00 9.000e+00 8.920e+00\n",
      " 1.500e+01 9.010e+00 7.020e+00 9.430e+00 1.278e+01 4.740e+00 6.380e+00\n",
      " 1.083e+01 9.540e+00 9.660e+00 8.410e+00 6.060e+00 3.430e+00 5.510e+00\n",
      " 6.850e+00 9.040e+00 5.890e+00 6.030e+00 9.700e+00 5.280e+00 4.990e+00\n",
      " 8.250e+00 8.520e+00 5.540e+00 6.990e+00 6.620e+00 5.030e+00 5.990e+00\n",
      " 3.960e+00 2.500e+00 7.970e+00 6.910e+00 4.340e+00 4.350e+00 3.010e+00\n",
      " 6.160e+00 6.760e+00 4.020e+00 4.890e+00 2.960e+00 4.760e+00 5.010e+00\n",
      " 6.730e+00 5.950e+00 3.660e+00 5.550e+00 7.040e+00 6.650e+00 3.880e+00\n",
      " 5.800e+00 4.100e+00 5.930e+00 4.360e+00 5.700e+00 2.030e+00 4.400e+00\n",
      " 5.050e+00 3.540e+00 1.120e+00 6.820e+00 1.750e+00 3.740e+00 1.060e+00\n",
      " 2.790e+00 2.910e+00 9.900e-01 2.570e+00 2.990e+00 2.280e+00 7.280e+00\n",
      " 2.760e+00 2.900e+00 2.810e+00 6.600e-01 3.780e+00 3.270e+00 3.560e+00\n",
      " 5.390e+00 4.590e+00 4.810e+00 4.460e+00 3.480e+00 2.850e+00 2.530e+00\n",
      " 2.980e+00 3.680e+00 3.150e+00 4.410e+00 4.120e+00 2.710e+00 2.930e+00\n",
      " 3.230e+00 4.050e+00 4.150e+00 2.770e+00 3.450e+00 3.110e+00 8.400e-01\n",
      " 1.660e+00 7.800e-01 2.640e+00 3.170e+00 4.980e+00 2.550e+00 3.640e+00\n",
      " 3.700e+00 4.010e+00 2.470e+00 8.000e-02 3.920e+00 8.000e-01 2.450e+00\n",
      " 4.470e+00 3.180e+00 2.630e+00 1.880e+00 2.410e+00 2.800e+00 6.300e-01\n",
      " 2.260e+00 2.490e+00 3.570e+00 3.070e+00 2.970e+00 2.950e+00 2.540e+00\n",
      " 3.280e+00 3.140e+00 4.700e-01 2.620e+00 3.210e+00 2.070e+00 2.730e+00\n",
      " 1.850e+00 2.180e+00 1.740e+00 3.020e+00 1.620e+00 3.130e+00 1.920e+00\n",
      " 3.330e+00 3.220e+00 2.300e+00 4.260e+00 9.700e-01 6.500e-01 1.210e+00\n",
      " 1.090e+00 2.100e+00 2.440e+00 1.980e+00 3.810e+00 3.590e+00 1.630e+00\n",
      " 1.960e+00 3.400e+00 6.100e-01 2.050e+00 1.700e+00 3.420e+00 3.360e+00\n",
      " 3.490e+00 3.050e+00 1.830e+00 2.310e+00 3.980e+00 0.000e+00 2.600e+00\n",
      " 1.910e+00 2.740e+00 2.830e+00 2.360e+00 1.730e+00 1.940e+00 2.290e+00\n",
      " 1.820e+00 2.420e+00 3.040e+00 1.800e+00 2.080e+00 1.870e+00 4.180e+00\n",
      " 3.190e+00 4.210e+00 3.630e+00 2.780e+00 2.000e-01 1.610e+00 1.540e+00\n",
      " 2.520e+00 2.660e+00 1.000e-01 2.820e+00 2.190e+00 1.560e+00 3.030e+00\n",
      " 2.200e+00 2.090e+00 2.110e+00 1.480e+00 4.000e+00 5.800e-01 2.510e+00\n",
      " 3.000e+00 2.240e+00 1.460e+00 1.410e+00 9.200e-01 8.800e-01 1.280e+00\n",
      " 2.250e+00 3.380e+00 2.040e+00 3.790e+00 4.030e+00 1.650e+00 7.100e-01\n",
      " 1.420e+00 1.100e+00 2.320e+00 1.200e-01 2.350e+00 2.120e+00 1.400e+00\n",
      " 1.680e+00 1.130e+00 1.220e+00 2.670e+00 1.020e+00 1.190e+00 1.530e+00\n",
      " 2.150e+00 9.000e-01 1.970e+00 6.800e-01 1.160e+00 9.300e-01 1.440e+00\n",
      " 1.600e-01 2.130e+00 2.210e+00 1.780e+00 8.600e-01 1.350e+00 1.050e+00\n",
      " 2.230e+00 2.400e+00 1.370e+00 1.300e+00 1.950e+00 1.930e+00 1.330e+00\n",
      " 1.490e+00 1.580e+00 5.000e-02 6.000e-01 2.020e+00 2.380e+00 1.600e+00\n",
      " 2.010e+00 1.570e+00 1.230e+00 1.900e+00 2.140e+00 1.170e+00 2.270e+00\n",
      " 1.640e+00 5.900e-01 1.550e+00 4.600e-01 8.100e-01 1.450e+00 2.700e-01\n",
      " 1.470e+00 1.990e+00 1.500e+00 9.000e-02 2.610e+00 1.890e+00 5.000e-01\n",
      " 8.900e-01 9.500e-01 2.340e+00 7.200e-01 1.720e+00 1.180e+00 1.760e+00\n",
      " 7.300e-01 1.270e+00 2.060e+00 5.500e-01 1.520e+00 1.690e+00 2.170e+00\n",
      " 5.100e-01 1.000e+00 1.290e+00 1.380e+00 1.150e+00 1.670e+00 1.360e+00\n",
      " 1.010e+00 1.040e+00 1.840e+00 2.220e+00 7.900e-01 1.510e+00 1.070e+00\n",
      " 1.320e+00 1.590e+00 2.000e-02 2.900e-01 1.250e+00 2.560e+00 1.430e+00\n",
      " 1.200e+00 4.100e-01 2.800e-01 4.300e-01 6.900e-01 2.000e+00 7.600e-01\n",
      " 1.860e+00 4.800e-01 6.200e-01 1.310e+00 3.700e-01 1.500e-01 6.400e-01\n",
      " 2.600e-01 4.900e-01 1.110e+00 1.300e-01 1.810e+00 1.030e+00 1.260e+00\n",
      " 8.700e-01 7.700e-01 9.600e-01 1.390e+00 1.080e+00 8.500e-01 9.100e-01\n",
      " 3.000e-01 3.800e-01 9.400e-01 7.000e-02 1.340e+00 1.240e+00 3.400e-01\n",
      " 1.400e-01 1.000e-02 5.200e-01 8.200e-01 8.300e-01 1.100e-01 2.500e-01\n",
      " 1.770e+00 3.600e-01 7.500e-01 7.400e-01 1.800e-01 2.200e-01 5.300e-01\n",
      " 4.200e-01 3.200e-01 3.900e-01 2.400e-01 2.300e-01 6.000e-02 4.500e-01\n",
      " 7.000e-01 6.700e-01 3.500e-01 5.600e-01 1.140e+00 9.800e-01 5.700e-01\n",
      " 5.400e-01 4.000e-02 1.700e-01 4.400e-01 3.000e-02 3.300e-01 3.100e-01\n",
      " 4.000e-01 2.100e-01 1.900e-01]\n",
      "Уникальные значения столбца eu_sales\n",
      "[2.896e+01 3.580e+00 1.276e+01 1.093e+01 8.890e+00 2.260e+00 9.140e+00\n",
      " 9.180e+00 6.940e+00 6.300e-01 1.095e+01 7.470e+00 6.180e+00 8.030e+00\n",
      " 4.890e+00 8.490e+00 9.090e+00 4.000e-01 3.750e+00 9.200e+00 4.460e+00\n",
      " 2.710e+00 3.440e+00 5.140e+00 5.490e+00 3.900e+00 5.350e+00 3.170e+00\n",
      " 5.090e+00 4.240e+00 5.040e+00 5.860e+00 3.680e+00 4.190e+00 5.730e+00\n",
      " 3.590e+00 4.510e+00 2.550e+00 4.020e+00 4.370e+00 6.310e+00 3.450e+00\n",
      " 2.810e+00 2.850e+00 3.490e+00 1.000e-02 3.350e+00 2.040e+00 3.070e+00\n",
      " 3.870e+00 3.000e+00 4.820e+00 3.640e+00 2.150e+00 3.690e+00 2.650e+00\n",
      " 2.560e+00 3.110e+00 3.140e+00 1.940e+00 1.950e+00 2.470e+00 2.280e+00\n",
      " 3.420e+00 3.630e+00 2.360e+00 1.710e+00 1.850e+00 2.790e+00 1.240e+00\n",
      " 6.120e+00 1.530e+00 3.470e+00 2.240e+00 5.010e+00 2.010e+00 1.720e+00\n",
      " 2.070e+00 6.420e+00 3.860e+00 4.500e-01 3.480e+00 1.890e+00 5.750e+00\n",
      " 2.170e+00 1.370e+00 2.350e+00 1.180e+00 2.110e+00 1.880e+00 2.830e+00\n",
      " 2.990e+00 2.890e+00 3.270e+00 2.220e+00 2.140e+00 1.450e+00 1.750e+00\n",
      " 1.040e+00 1.770e+00 3.020e+00 2.750e+00 2.160e+00 1.900e+00 2.590e+00\n",
      " 2.200e+00 4.300e+00 9.300e-01 2.530e+00 2.520e+00 1.790e+00 1.300e+00\n",
      " 2.600e+00 1.580e+00 1.200e+00 1.560e+00 1.340e+00 1.260e+00 8.300e-01\n",
      " 6.210e+00 2.800e+00 1.590e+00 1.730e+00 4.330e+00 1.830e+00 0.000e+00\n",
      " 2.180e+00 1.980e+00 1.470e+00 6.700e-01 1.550e+00 1.910e+00 6.900e-01\n",
      " 6.000e-01 1.930e+00 1.640e+00 5.500e-01 2.190e+00 1.110e+00 2.290e+00\n",
      " 2.500e+00 9.600e-01 1.210e+00 1.120e+00 7.700e-01 1.690e+00 1.080e+00\n",
      " 7.900e-01 2.370e+00 2.460e+00 2.600e-01 7.500e-01 1.250e+00 2.430e+00\n",
      " 9.800e-01 7.400e-01 2.230e+00 6.100e-01 2.450e+00 1.410e+00 1.800e+00\n",
      " 3.280e+00 1.160e+00 1.990e+00 1.380e+00 1.360e+00 1.170e+00 1.190e+00\n",
      " 9.900e-01 1.680e+00 2.000e+00 1.330e+00 1.570e+00 1.480e+00 2.100e+00\n",
      " 1.270e+00 1.970e+00 9.100e-01 1.390e+00 1.960e+00 2.400e-01 1.510e+00\n",
      " 1.400e-01 1.290e+00 2.390e+00 1.030e+00 5.000e-01 5.800e-01 1.310e+00\n",
      " 2.020e+00 1.320e+00 1.010e+00 2.270e+00 2.300e+00 1.820e+00 2.780e+00\n",
      " 4.400e-01 4.800e-01 2.700e-01 2.100e-01 2.480e+00 5.100e-01 1.520e+00\n",
      " 4.000e-02 2.800e-01 1.350e+00 8.700e-01 2.130e+00 1.130e+00 1.760e+00\n",
      " 7.600e-01 2.120e+00 6.600e-01 1.600e+00 1.440e+00 1.430e+00 1.700e+00\n",
      " 4.700e-01 1.870e+00 8.600e-01 7.300e-01 1.280e+00 8.100e-01 1.090e+00\n",
      " 6.800e-01 1.220e+00 1.400e+00 1.020e+00 1.490e+00 1.140e+00 4.900e-01\n",
      " 9.000e-01 3.800e-01 1.420e+00 9.500e-01 1.620e+00 7.100e-01 1.050e+00\n",
      " 9.200e-01 3.300e-01 3.000e-01 1.670e+00 1.000e+00 8.900e-01 1.000e-01\n",
      " 7.200e-01 5.900e-01 5.600e-01 1.600e-01 9.700e-01 6.200e-01 8.500e-01\n",
      " 9.400e-01 8.800e-01 8.400e-01 1.060e+00 2.000e-01 1.150e+00 8.000e-01\n",
      " 1.100e+00 7.000e-01 1.920e+00 3.200e-01 1.500e-01 5.300e-01 9.000e-02\n",
      " 1.460e+00 2.900e-01 2.200e-01 1.230e+00 7.000e-02 1.700e-01 5.400e-01\n",
      " 3.600e-01 3.100e-01 1.840e+00 5.200e-01 1.100e-01 6.400e-01 1.200e-01\n",
      " 2.050e+00 1.630e+00 8.200e-01 8.000e-02 5.700e-01 1.650e+00 1.900e-01\n",
      " 2.000e-02 4.300e-01 2.500e-01 1.500e+00 1.800e-01 3.900e-01 1.300e-01\n",
      " 1.070e+00 4.600e-01 4.100e-01 6.000e-02 3.000e-02 3.700e-01 5.000e-02\n",
      " 2.300e-01 6.500e-01 4.200e-01 3.400e-01 3.500e-01 7.800e-01]\n",
      "Уникальные значения столбца jp_sales\n",
      "[3.770e+00 6.810e+00 3.790e+00 3.280e+00 1.022e+01 4.220e+00 6.500e+00\n",
      " 2.930e+00 4.700e+00 2.800e-01 1.930e+00 4.130e+00 7.200e+00 3.600e+00\n",
      " 2.400e-01 2.530e+00 9.800e-01 4.100e-01 3.540e+00 4.160e+00 6.040e+00\n",
      " 4.180e+00 3.840e+00 6.000e-02 4.700e-01 5.380e+00 5.320e+00 5.650e+00\n",
      " 1.870e+00 1.300e-01 3.120e+00 3.600e-01 1.100e-01 4.350e+00 6.500e-01\n",
      " 7.000e-02 8.000e-02 4.900e-01 3.000e-01 2.660e+00 2.690e+00 4.800e-01\n",
      " 3.800e-01 5.330e+00 1.910e+00 3.960e+00 3.100e+00 1.100e+00 1.200e+00\n",
      " 1.400e-01 2.540e+00 2.140e+00 8.100e-01 2.120e+00 4.400e-01 3.150e+00\n",
      " 1.250e+00 4.000e-02 0.000e+00 2.470e+00 2.230e+00 1.690e+00 1.000e-02\n",
      " 3.000e+00 2.000e-02 4.390e+00 1.980e+00 1.000e-01 3.810e+00 5.000e-02\n",
      " 2.490e+00 1.580e+00 3.140e+00 2.730e+00 6.600e-01 2.200e-01 3.630e+00\n",
      " 1.450e+00 1.310e+00 2.430e+00 7.000e-01 3.500e-01 1.400e+00 6.000e-01\n",
      " 2.260e+00 1.420e+00 1.280e+00 1.390e+00 8.700e-01 1.700e-01 9.400e-01\n",
      " 1.900e-01 2.100e-01 1.600e+00 1.600e-01 1.030e+00 2.500e-01 2.060e+00\n",
      " 1.490e+00 1.290e+00 9.000e-02 2.870e+00 3.000e-02 7.800e-01 8.300e-01\n",
      " 2.330e+00 2.020e+00 1.360e+00 1.810e+00 1.970e+00 9.100e-01 9.900e-01\n",
      " 9.500e-01 2.000e+00 1.010e+00 2.780e+00 2.110e+00 1.090e+00 2.000e-01\n",
      " 1.900e+00 1.270e+00 3.610e+00 1.570e+00 2.200e+00 1.700e+00 1.080e+00\n",
      " 1.500e-01 1.110e+00 2.900e-01 1.540e+00 1.200e-01 8.900e-01 4.870e+00\n",
      " 1.520e+00 1.320e+00 1.150e+00 4.100e+00 1.460e+00 4.600e-01 1.050e+00\n",
      " 1.610e+00 2.600e-01 1.380e+00 6.200e-01 7.300e-01 5.700e-01 3.100e-01\n",
      " 5.800e-01 1.760e+00 2.100e+00 9.000e-01 5.100e-01 6.400e-01 2.460e+00\n",
      " 2.300e-01 3.700e-01 9.200e-01 1.070e+00 2.620e+00 1.120e+00 5.400e-01\n",
      " 2.700e-01 5.900e-01 3.670e+00 5.500e-01 1.750e+00 3.440e+00 3.300e-01\n",
      " 2.550e+00 2.320e+00 2.790e+00 7.400e-01 3.180e+00 8.200e-01 7.700e-01\n",
      " 4.000e-01 2.350e+00 3.190e+00 8.000e-01 7.600e-01 3.030e+00 8.800e-01\n",
      " 4.500e-01 1.160e+00 3.400e-01 1.190e+00 1.130e+00 2.130e+00 1.960e+00\n",
      " 7.100e-01 1.040e+00 2.680e+00 6.800e-01 2.650e+00 9.600e-01 2.410e+00\n",
      " 5.200e-01 1.800e-01 1.340e+00 1.480e+00 2.340e+00 1.060e+00 1.210e+00\n",
      " 2.290e+00 1.630e+00 2.050e+00 2.170e+00 1.560e+00 1.350e+00 1.330e+00\n",
      " 6.300e-01 7.900e-01 7.500e-01 5.300e-01 1.530e+00 1.300e+00 3.900e-01\n",
      " 6.900e-01 4.200e-01 9.300e-01 5.600e-01 8.400e-01 7.200e-01 3.200e-01\n",
      " 1.710e+00 1.650e+00 6.100e-01 1.510e+00 1.500e+00 1.440e+00 1.240e+00\n",
      " 1.180e+00 1.370e+00 1.000e+00 1.260e+00 8.500e-01 4.300e-01 6.700e-01\n",
      " 1.140e+00 8.600e-01 1.170e+00 5.000e-01 1.020e+00 9.700e-01]\n",
      "Уникальные значения столбца other_sales\n",
      "[8.450e+00 7.700e-01 3.290e+00 2.950e+00 1.000e+00 5.800e-01 2.880e+00\n",
      " 2.840e+00 2.240e+00 4.700e-01 2.740e+00 1.900e+00 7.100e-01 2.150e+00\n",
      " 1.690e+00 1.770e+00 3.960e+00 1.057e+01 5.500e-01 2.040e+00 1.360e+00\n",
      " 4.200e-01 4.600e-01 1.410e+00 1.780e+00 5.000e-01 1.180e+00 8.000e-01\n",
      " 1.160e+00 1.320e+00 5.900e-01 2.380e+00 1.130e+00 7.800e-01 2.420e+00\n",
      " 1.120e+00 1.280e+00 1.570e+00 1.300e+00 1.010e+00 9.100e-01 1.790e+00\n",
      " 1.970e+00 8.600e-01 1.210e+00 2.300e-01 7.600e-01 7.400e-01 7.530e+00\n",
      " 2.900e-01 1.030e+00 5.200e-01 2.110e+00 1.600e+00 1.610e+00 3.500e-01\n",
      " 9.700e-01 1.060e+00 6.300e-01 1.500e-01 7.900e-01 9.600e-01 1.250e+00\n",
      " 9.000e-01 8.100e-01 3.900e-01 6.800e-01 8.500e-01 1.800e-01 8.000e-02\n",
      " 6.700e-01 7.000e-01 4.100e-01 3.300e-01 6.000e-01 5.400e-01 1.730e+00\n",
      " 1.230e+00 1.600e-01 1.110e+00 3.100e-01 4.800e-01 6.200e-01 1.900e-01\n",
      " 6.900e-01 1.020e+00 7.300e-01 1.080e+00 4.500e-01 2.800e-01 5.100e-01\n",
      " 2.200e-01 1.090e+00 9.900e-01 3.000e-01 6.400e-01 6.600e-01 9.800e-01\n",
      " 1.390e+00 1.400e-01 1.370e+00 7.000e-02 2.100e-01 6.100e-01 1.700e-01\n",
      " 1.200e-01 0.000e+00 7.200e-01 2.400e-01 8.200e-01 1.740e+00 8.700e-01\n",
      " 9.200e-01 5.700e-01 1.100e-01 4.000e-02 5.600e-01 2.000e-01 3.400e-01\n",
      " 9.000e-02 8.300e-01 4.400e-01 6.000e-02 3.200e-01 3.800e-01 1.480e+00\n",
      " 3.700e-01 1.000e-01 2.500e-01 3.600e-01 1.300e-01 4.300e-01 5.000e-02\n",
      " 2.000e-02 2.600e-01 4.000e-01 7.500e-01 1.930e+00 8.400e-01 5.300e-01\n",
      " 8.900e-01 1.670e+00 2.700e-01 2.930e+00 4.900e-01 1.000e-02 2.460e+00\n",
      " 3.000e-02 1.510e+00 2.050e+00 1.680e+00 1.820e+00 1.330e+00 9.400e-01\n",
      " 9.300e-01]\n",
      "Уникальные значения столбца critic_score\n",
      "[76. nan 82. 80. 89. 58. 87. 91. 61. 97. 95. 77. 88. 83. 94. 93. 85. 86.\n",
      " 98. 96. 90. 84. 73. 74. 78. 92. 71. 72. 68. 62. 49. 67. 81. 66. 56. 79.\n",
      " 70. 59. 64. 75. 60. 63. 69. 50. 25. 42. 44. 55. 48. 57. 29. 47. 65. 54.\n",
      " 20. 53. 37. 38. 33. 52. 30. 32. 43. 45. 51. 40. 46. 39. 34. 35. 41. 36.\n",
      " 28. 31. 27. 26. 19. 23. 24. 21. 17. 22. 13.]\n",
      "Уникальные значения столбца user_score\n",
      "['8' nan '8.3' '8.5' '6.6' '8.4' '8.6' '7.7' '6.3' '7.4' '8.2' '9' '7.9'\n",
      " '8.1' '8.7' '7.1' '3.4' '5.3' '4.8' '3.2' '8.9' '6.4' '7.8' '7.5' '2.6'\n",
      " '7.2' '9.2' '7' '7.3' '4.3' '7.6' '5.7' '5' '9.1' '6.5' 'tbd' '8.8' '6.9'\n",
      " '9.4' '6.8' '6.1' '6.7' '5.4' '4' '4.9' '4.5' '9.3' '6.2' '4.2' '6' '3.7'\n",
      " '4.1' '5.8' '5.6' '5.5' '4.4' '4.6' '5.9' '3.9' '3.1' '2.9' '5.2' '3.3'\n",
      " '4.7' '5.1' '3.5' '2.5' '1.9' '3' '2.7' '2.2' '2' '9.5' '2.1' '3.6' '2.8'\n",
      " '1.8' '3.8' '0' '1.6' '9.6' '2.4' '1.7' '1.1' '0.3' '1.5' '0.7' '1.2'\n",
      " '2.3' '0.5' '1.3' '0.2' '0.6' '1.4' '0.9' '1' '9.7']\n",
      "Уникальные значения столбца rating\n",
      "['E' nan 'M' 'T' 'E10+' 'K-A' 'AO' 'EC' 'RP']\n"
     ]
    }
   ],
   "source": [
    "def all_columns(data_frame):\n",
    "    for column in data_frame.columns:\n",
    "        print('Уникальные значения столбца', column)\n",
    "        print(data_frame[column].unique())\n",
    "        \n",
    "all_columns(data)"
   ]
  },
  {
   "cell_type": "markdown",
   "metadata": {},
   "source": [
    "Оценим сумму пропусков"
   ]
  },
  {
   "cell_type": "code",
   "execution_count": 11,
   "metadata": {
    "scrolled": true
   },
   "outputs": [
    {
     "data": {
      "text/plain": [
       "critic_score       8578\n",
       "rating             6766\n",
       "user_score         6701\n",
       "year_of_release     269\n",
       "name                  2\n",
       "genre                 2\n",
       "platform              0\n",
       "na_sales              0\n",
       "eu_sales              0\n",
       "jp_sales              0\n",
       "other_sales           0\n",
       "dtype: int64"
      ]
     },
     "execution_count": 11,
     "metadata": {},
     "output_type": "execute_result"
    }
   ],
   "source": [
    "data.isnull().sum().sort_values(ascending=False)"
   ]
  },
  {
   "cell_type": "markdown",
   "metadata": {},
   "source": [
    "<div class=\"alert alert-warning\">\n",
    "    <h2> Комментарий ревьюера v1 <a class=\"tocSkip\"> </h2>\n",
    "    \n",
    "<b>Небольшие замечания и рекомендации💡:</b> Тут было бы супер отсортировать) "
   ]
  },
  {
   "cell_type": "markdown",
   "metadata": {},
   "source": [
    "<div class=\"alert alert-info\">\n",
    "<b>Done ✅ </b> \n",
    "</div>"
   ]
  },
  {
   "cell_type": "markdown",
   "metadata": {},
   "source": [
    "<div class=\"alert alert-success\">\n",
    "<h2> Комментарий ревьюера v2 <a class=\"tocSkip\"> </h2>\n",
    "\n",
    "<b>Все супер!👍:</b> Отлично!"
   ]
  },
  {
   "cell_type": "markdown",
   "metadata": {},
   "source": [
    "Что делаем с nan:\n",
    "- year_of_release, посмотрим есть ли в названиях года и nan заменим на 0 \n",
    "- В столбца с рейтингом заменим на 0 значения, так как эти данные - субъектвны, их не возможно взять откуда-либо из других столбцов, а при замене на медианную или среднюю, рискуем смазать результат. А так же рейтинг не указан либо у игр с никзими продажами, либо игр 20-30 летней давности. Поэтому заменим все неизвестные значения в: user_score (есть \"tbd\" - это to be determined (игра вышла недавно, а может еще не вышла, и рейтинга пока нет, но будет, если игра новая, то эти строки важны для анализа, поэтому tbd заменим на \"0.1\" и запомним-что рейтинг еще не набрался), rating, critic_score, user_score заменим nan на несуществующие там числа, чтобы легко было найти то, чем закрыли недостающие данные."
   ]
  },
  {
   "cell_type": "markdown",
   "metadata": {},
   "source": [
    "Заменим пропуски в столбцах с рейтингом (просто чтобы закрыть недостающие данные)"
   ]
  },
  {
   "cell_type": "code",
   "execution_count": 12,
   "metadata": {},
   "outputs": [
    {
     "data": {
      "text/plain": [
       "name                 2\n",
       "platform             0\n",
       "year_of_release    269\n",
       "genre                2\n",
       "na_sales             0\n",
       "eu_sales             0\n",
       "jp_sales             0\n",
       "other_sales          0\n",
       "critic_score         0\n",
       "user_score           0\n",
       "rating               0\n",
       "dtype: int64"
      ]
     },
     "execution_count": 12,
     "metadata": {},
     "output_type": "execute_result"
    }
   ],
   "source": [
    "#замена nan 3 столбцах:\n",
    "\n",
    "data['user_score'] = data['user_score'].fillna(9.9)\n",
    "data['rating'] = data['rating'].fillna(0)\n",
    "data['critic_score'] = data['critic_score'].fillna(9.9)\n",
    "\n",
    "#проверка\n",
    "data.isnull().sum()"
   ]
  },
  {
   "cell_type": "markdown",
   "metadata": {},
   "source": [
    "<div class=\"alert alert-success\">\n",
    "<h2> Комментарий ревьюера v1 <a class=\"tocSkip\"> </h2>\n",
    "\n",
    "<b>Все супер!👍:</b>Хорошо, согласен) "
   ]
  },
  {
   "cell_type": "markdown",
   "metadata": {},
   "source": [
    "В колонках genre и name тоже есть Nan, посмотрим эти строки"
   ]
  },
  {
   "cell_type": "code",
   "execution_count": 13,
   "metadata": {},
   "outputs": [
    {
     "data": {
      "text/html": [
       "<div>\n",
       "<style scoped>\n",
       "    .dataframe tbody tr th:only-of-type {\n",
       "        vertical-align: middle;\n",
       "    }\n",
       "\n",
       "    .dataframe tbody tr th {\n",
       "        vertical-align: top;\n",
       "    }\n",
       "\n",
       "    .dataframe thead th {\n",
       "        text-align: right;\n",
       "    }\n",
       "</style>\n",
       "<table border=\"1\" class=\"dataframe\">\n",
       "  <thead>\n",
       "    <tr style=\"text-align: right;\">\n",
       "      <th></th>\n",
       "      <th>name</th>\n",
       "      <th>platform</th>\n",
       "      <th>year_of_release</th>\n",
       "      <th>genre</th>\n",
       "      <th>na_sales</th>\n",
       "      <th>eu_sales</th>\n",
       "      <th>jp_sales</th>\n",
       "      <th>other_sales</th>\n",
       "      <th>critic_score</th>\n",
       "      <th>user_score</th>\n",
       "      <th>rating</th>\n",
       "    </tr>\n",
       "  </thead>\n",
       "  <tbody>\n",
       "    <tr>\n",
       "      <th>659</th>\n",
       "      <td>NaN</td>\n",
       "      <td>GEN</td>\n",
       "      <td>1993.0</td>\n",
       "      <td>NaN</td>\n",
       "      <td>1.78</td>\n",
       "      <td>0.53</td>\n",
       "      <td>0.00</td>\n",
       "      <td>0.08</td>\n",
       "      <td>9.9</td>\n",
       "      <td>9.9</td>\n",
       "      <td>0</td>\n",
       "    </tr>\n",
       "    <tr>\n",
       "      <th>14244</th>\n",
       "      <td>NaN</td>\n",
       "      <td>GEN</td>\n",
       "      <td>1993.0</td>\n",
       "      <td>NaN</td>\n",
       "      <td>0.00</td>\n",
       "      <td>0.00</td>\n",
       "      <td>0.03</td>\n",
       "      <td>0.00</td>\n",
       "      <td>9.9</td>\n",
       "      <td>9.9</td>\n",
       "      <td>0</td>\n",
       "    </tr>\n",
       "  </tbody>\n",
       "</table>\n",
       "</div>"
      ],
      "text/plain": [
       "      name platform  year_of_release genre  na_sales  eu_sales  jp_sales  \\\n",
       "659    NaN      GEN           1993.0   NaN      1.78      0.53      0.00   \n",
       "14244  NaN      GEN           1993.0   NaN      0.00      0.00      0.03   \n",
       "\n",
       "       other_sales  critic_score user_score rating  \n",
       "659           0.08           9.9        9.9      0  \n",
       "14244         0.00           9.9        9.9      0  "
      ]
     },
     "execution_count": 13,
     "metadata": {},
     "output_type": "execute_result"
    }
   ],
   "source": [
    "data[data['name'].isna()]\n",
    "data[data['genre'].isna()]"
   ]
  },
  {
   "cell_type": "markdown",
   "metadata": {},
   "source": [
    "В этих строках нет данных, удалим их из таблицы"
   ]
  },
  {
   "cell_type": "code",
   "execution_count": 14,
   "metadata": {
    "scrolled": true
   },
   "outputs": [
    {
     "name": "stdout",
     "output_type": "stream",
     "text": [
      "<class 'pandas.core.frame.DataFrame'>\n",
      "Int64Index: 16713 entries, 0 to 16714\n",
      "Data columns (total 11 columns):\n",
      " #   Column           Non-Null Count  Dtype  \n",
      "---  ------           --------------  -----  \n",
      " 0   name             16713 non-null  object \n",
      " 1   platform         16713 non-null  object \n",
      " 2   year_of_release  16444 non-null  float64\n",
      " 3   genre            16713 non-null  object \n",
      " 4   na_sales         16713 non-null  float64\n",
      " 5   eu_sales         16713 non-null  float64\n",
      " 6   jp_sales         16713 non-null  float64\n",
      " 7   other_sales      16713 non-null  float64\n",
      " 8   critic_score     16713 non-null  float64\n",
      " 9   user_score       16713 non-null  object \n",
      " 10  rating           16713 non-null  object \n",
      "dtypes: float64(6), object(5)\n",
      "memory usage: 1.5+ MB\n"
     ]
    }
   ],
   "source": [
    "data.drop([659, 14244],inplace=True)\n",
    "data.info()"
   ]
  },
  {
   "cell_type": "markdown",
   "metadata": {},
   "source": [
    "<div class=\"alert alert-success\">\n",
    "<h2> Комментарий ревьюера v1 <a class=\"tocSkip\"> </h2>\n",
    "\n",
    "<b>Все супер!👍:</b> Ага, можно удалить) "
   ]
  },
  {
   "cell_type": "markdown",
   "metadata": {},
   "source": [
    "Заменим tbd на 0.1 в user_score"
   ]
  },
  {
   "cell_type": "code",
   "execution_count": 15,
   "metadata": {
    "scrolled": true
   },
   "outputs": [
    {
     "name": "stdout",
     "output_type": "stream",
     "text": [
      "['8' nan '8.3' '8.5' '6.6' '8.4' '8.6' '7.7' '6.3' '7.4' '8.2' '9' '7.9'\n",
      " '8.1' '8.7' '7.1' '3.4' '5.3' '4.8' '3.2' '8.9' '6.4' '7.8' '7.5' '2.6'\n",
      " '7.2' '9.2' '7' '7.3' '4.3' '7.6' '5.7' '5' '9.1' '6.5' '0.1' '8.8' '6.9'\n",
      " '9.4' '6.8' '6.1' '6.7' '5.4' '4' '4.9' '4.5' '9.3' '6.2' '4.2' '6' '3.7'\n",
      " '4.1' '5.8' '5.6' '5.5' '4.4' '4.6' '5.9' '3.9' '3.1' '2.9' '5.2' '3.3'\n",
      " '4.7' '5.1' '3.5' '2.5' '1.9' '3' '2.7' '2.2' '2' '9.5' '2.1' '3.6' '2.8'\n",
      " '1.8' '3.8' '0' '1.6' '9.6' '2.4' '1.7' '1.1' '0.3' '1.5' '0.7' '1.2'\n",
      " '2.3' '0.5' '1.3' '0.2' '0.6' '1.4' '0.9' '1' '9.7']\n"
     ]
    }
   ],
   "source": [
    "data['user_score'] = data['user_score'].str.replace('tbd','0.1')\n",
    "\n",
    "#проверка остались ли tbd      \n",
    "print(data['user_score'].unique())"
   ]
  },
  {
   "cell_type": "markdown",
   "metadata": {},
   "source": [
    "<div class=\"alert alert-success\">\n",
    "<h2> Комментарий ревьюера v1 <a class=\"tocSkip\"> </h2>\n",
    "\n",
    "<b>Все супер!👍:</b> Заглушили) "
   ]
  },
  {
   "cell_type": "markdown",
   "metadata": {},
   "source": [
    "В колонке user_score есть nan, не понятно, почему они не удалились ранее, посмотрим на строки:"
   ]
  },
  {
   "cell_type": "code",
   "execution_count": 16,
   "metadata": {},
   "outputs": [
    {
     "data": {
      "text/html": [
       "<div>\n",
       "<style scoped>\n",
       "    .dataframe tbody tr th:only-of-type {\n",
       "        vertical-align: middle;\n",
       "    }\n",
       "\n",
       "    .dataframe tbody tr th {\n",
       "        vertical-align: top;\n",
       "    }\n",
       "\n",
       "    .dataframe thead th {\n",
       "        text-align: right;\n",
       "    }\n",
       "</style>\n",
       "<table border=\"1\" class=\"dataframe\">\n",
       "  <thead>\n",
       "    <tr style=\"text-align: right;\">\n",
       "      <th></th>\n",
       "      <th>name</th>\n",
       "      <th>platform</th>\n",
       "      <th>year_of_release</th>\n",
       "      <th>genre</th>\n",
       "      <th>na_sales</th>\n",
       "      <th>eu_sales</th>\n",
       "      <th>jp_sales</th>\n",
       "      <th>other_sales</th>\n",
       "      <th>critic_score</th>\n",
       "      <th>user_score</th>\n",
       "      <th>rating</th>\n",
       "    </tr>\n",
       "  </thead>\n",
       "  <tbody>\n",
       "    <tr>\n",
       "      <th>1</th>\n",
       "      <td>super mario bros.</td>\n",
       "      <td>NES</td>\n",
       "      <td>1985.0</td>\n",
       "      <td>platform</td>\n",
       "      <td>29.08</td>\n",
       "      <td>3.58</td>\n",
       "      <td>6.81</td>\n",
       "      <td>0.77</td>\n",
       "      <td>9.9</td>\n",
       "      <td>NaN</td>\n",
       "      <td>0</td>\n",
       "    </tr>\n",
       "    <tr>\n",
       "      <th>4</th>\n",
       "      <td>pokemon red/pokemon blue</td>\n",
       "      <td>GB</td>\n",
       "      <td>1996.0</td>\n",
       "      <td>role-playing</td>\n",
       "      <td>11.27</td>\n",
       "      <td>8.89</td>\n",
       "      <td>10.22</td>\n",
       "      <td>1.00</td>\n",
       "      <td>9.9</td>\n",
       "      <td>NaN</td>\n",
       "      <td>0</td>\n",
       "    </tr>\n",
       "    <tr>\n",
       "      <th>5</th>\n",
       "      <td>tetris</td>\n",
       "      <td>GB</td>\n",
       "      <td>1989.0</td>\n",
       "      <td>puzzle</td>\n",
       "      <td>23.20</td>\n",
       "      <td>2.26</td>\n",
       "      <td>4.22</td>\n",
       "      <td>0.58</td>\n",
       "      <td>9.9</td>\n",
       "      <td>NaN</td>\n",
       "      <td>0</td>\n",
       "    </tr>\n",
       "    <tr>\n",
       "      <th>9</th>\n",
       "      <td>duck hunt</td>\n",
       "      <td>NES</td>\n",
       "      <td>1984.0</td>\n",
       "      <td>shooter</td>\n",
       "      <td>26.93</td>\n",
       "      <td>0.63</td>\n",
       "      <td>0.28</td>\n",
       "      <td>0.47</td>\n",
       "      <td>9.9</td>\n",
       "      <td>NaN</td>\n",
       "      <td>0</td>\n",
       "    </tr>\n",
       "    <tr>\n",
       "      <th>10</th>\n",
       "      <td>nintendogs</td>\n",
       "      <td>DS</td>\n",
       "      <td>2005.0</td>\n",
       "      <td>simulation</td>\n",
       "      <td>9.05</td>\n",
       "      <td>10.95</td>\n",
       "      <td>1.93</td>\n",
       "      <td>2.74</td>\n",
       "      <td>9.9</td>\n",
       "      <td>NaN</td>\n",
       "      <td>0</td>\n",
       "    </tr>\n",
       "    <tr>\n",
       "      <th>...</th>\n",
       "      <td>...</td>\n",
       "      <td>...</td>\n",
       "      <td>...</td>\n",
       "      <td>...</td>\n",
       "      <td>...</td>\n",
       "      <td>...</td>\n",
       "      <td>...</td>\n",
       "      <td>...</td>\n",
       "      <td>...</td>\n",
       "      <td>...</td>\n",
       "      <td>...</td>\n",
       "    </tr>\n",
       "    <tr>\n",
       "      <th>16710</th>\n",
       "      <td>samurai warriors: sanada maru</td>\n",
       "      <td>PS3</td>\n",
       "      <td>2016.0</td>\n",
       "      <td>action</td>\n",
       "      <td>0.00</td>\n",
       "      <td>0.00</td>\n",
       "      <td>0.01</td>\n",
       "      <td>0.00</td>\n",
       "      <td>9.9</td>\n",
       "      <td>NaN</td>\n",
       "      <td>0</td>\n",
       "    </tr>\n",
       "    <tr>\n",
       "      <th>16711</th>\n",
       "      <td>lma manager 2007</td>\n",
       "      <td>X360</td>\n",
       "      <td>2006.0</td>\n",
       "      <td>sports</td>\n",
       "      <td>0.00</td>\n",
       "      <td>0.01</td>\n",
       "      <td>0.00</td>\n",
       "      <td>0.00</td>\n",
       "      <td>9.9</td>\n",
       "      <td>NaN</td>\n",
       "      <td>0</td>\n",
       "    </tr>\n",
       "    <tr>\n",
       "      <th>16712</th>\n",
       "      <td>haitaka no psychedelica</td>\n",
       "      <td>PSV</td>\n",
       "      <td>2016.0</td>\n",
       "      <td>adventure</td>\n",
       "      <td>0.00</td>\n",
       "      <td>0.00</td>\n",
       "      <td>0.01</td>\n",
       "      <td>0.00</td>\n",
       "      <td>9.9</td>\n",
       "      <td>NaN</td>\n",
       "      <td>0</td>\n",
       "    </tr>\n",
       "    <tr>\n",
       "      <th>16713</th>\n",
       "      <td>spirits &amp; spells</td>\n",
       "      <td>GBA</td>\n",
       "      <td>2003.0</td>\n",
       "      <td>platform</td>\n",
       "      <td>0.01</td>\n",
       "      <td>0.00</td>\n",
       "      <td>0.00</td>\n",
       "      <td>0.00</td>\n",
       "      <td>9.9</td>\n",
       "      <td>NaN</td>\n",
       "      <td>0</td>\n",
       "    </tr>\n",
       "    <tr>\n",
       "      <th>16714</th>\n",
       "      <td>winning post 8 2016</td>\n",
       "      <td>PSV</td>\n",
       "      <td>2016.0</td>\n",
       "      <td>simulation</td>\n",
       "      <td>0.00</td>\n",
       "      <td>0.00</td>\n",
       "      <td>0.01</td>\n",
       "      <td>0.00</td>\n",
       "      <td>9.9</td>\n",
       "      <td>NaN</td>\n",
       "      <td>0</td>\n",
       "    </tr>\n",
       "  </tbody>\n",
       "</table>\n",
       "<p>6699 rows × 11 columns</p>\n",
       "</div>"
      ],
      "text/plain": [
       "                                name platform  year_of_release         genre  \\\n",
       "1                  super mario bros.      NES           1985.0      platform   \n",
       "4           pokemon red/pokemon blue       GB           1996.0  role-playing   \n",
       "5                             tetris       GB           1989.0        puzzle   \n",
       "9                          duck hunt      NES           1984.0       shooter   \n",
       "10                        nintendogs       DS           2005.0    simulation   \n",
       "...                              ...      ...              ...           ...   \n",
       "16710  samurai warriors: sanada maru      PS3           2016.0        action   \n",
       "16711               lma manager 2007     X360           2006.0        sports   \n",
       "16712        haitaka no psychedelica      PSV           2016.0     adventure   \n",
       "16713               spirits & spells      GBA           2003.0      platform   \n",
       "16714            winning post 8 2016      PSV           2016.0    simulation   \n",
       "\n",
       "       na_sales  eu_sales  jp_sales  other_sales  critic_score user_score  \\\n",
       "1         29.08      3.58      6.81         0.77           9.9        NaN   \n",
       "4         11.27      8.89     10.22         1.00           9.9        NaN   \n",
       "5         23.20      2.26      4.22         0.58           9.9        NaN   \n",
       "9         26.93      0.63      0.28         0.47           9.9        NaN   \n",
       "10         9.05     10.95      1.93         2.74           9.9        NaN   \n",
       "...         ...       ...       ...          ...           ...        ...   \n",
       "16710      0.00      0.00      0.01         0.00           9.9        NaN   \n",
       "16711      0.00      0.01      0.00         0.00           9.9        NaN   \n",
       "16712      0.00      0.00      0.01         0.00           9.9        NaN   \n",
       "16713      0.01      0.00      0.00         0.00           9.9        NaN   \n",
       "16714      0.00      0.00      0.01         0.00           9.9        NaN   \n",
       "\n",
       "      rating  \n",
       "1          0  \n",
       "4          0  \n",
       "5          0  \n",
       "9          0  \n",
       "10         0  \n",
       "...      ...  \n",
       "16710      0  \n",
       "16711      0  \n",
       "16712      0  \n",
       "16713      0  \n",
       "16714      0  \n",
       "\n",
       "[6699 rows x 11 columns]"
      ]
     },
     "execution_count": 16,
     "metadata": {},
     "output_type": "execute_result"
    }
   ],
   "source": [
    "data[data['user_score'].isna()]"
   ]
  },
  {
   "cell_type": "markdown",
   "metadata": {},
   "source": [
    "Заменим Nan на ширмы и снова и перепроеврим"
   ]
  },
  {
   "cell_type": "code",
   "execution_count": 17,
   "metadata": {},
   "outputs": [
    {
     "name": "stdout",
     "output_type": "stream",
     "text": [
      "['8' 9.9 '8.3' '8.5' '6.6' '8.4' '8.6' '7.7' '6.3' '7.4' '8.2' '9' '7.9'\n",
      " '8.1' '8.7' '7.1' '3.4' '5.3' '4.8' '3.2' '8.9' '6.4' '7.8' '7.5' '2.6'\n",
      " '7.2' '9.2' '7' '7.3' '4.3' '7.6' '5.7' '5' '9.1' '6.5' '0.1' '8.8' '6.9'\n",
      " '9.4' '6.8' '6.1' '6.7' '5.4' '4' '4.9' '4.5' '9.3' '6.2' '4.2' '6' '3.7'\n",
      " '4.1' '5.8' '5.6' '5.5' '4.4' '4.6' '5.9' '3.9' '3.1' '2.9' '5.2' '3.3'\n",
      " '4.7' '5.1' '3.5' '2.5' '1.9' '3' '2.7' '2.2' '2' '9.5' '2.1' '3.6' '2.8'\n",
      " '1.8' '3.8' '0' '1.6' '9.6' '2.4' '1.7' '1.1' '0.3' '1.5' '0.7' '1.2'\n",
      " '2.3' '0.5' '1.3' '0.2' '0.6' '1.4' '0.9' '1' '9.7']\n"
     ]
    }
   ],
   "source": [
    "data['user_score'] = data['user_score'].fillna(9.9)\n",
    "print(data['user_score'].unique())"
   ]
  },
  {
   "cell_type": "code",
   "execution_count": 18,
   "metadata": {},
   "outputs": [
    {
     "name": "stdout",
     "output_type": "stream",
     "text": [
      "[2006. 1985. 2008. 2009. 1996. 1989. 1984. 2005. 1999. 2007. 2010. 2013.\n",
      " 2004. 1990. 1988. 2002. 2001. 2011. 1998. 2015. 2012. 2014. 1992. 1997.\n",
      " 1993. 1994. 1982. 2016. 2003. 1986. 2000.   nan 1995. 1991. 1981. 1987.\n",
      " 1980. 1983.]\n"
     ]
    }
   ],
   "source": [
    "print(data['year_of_release'].unique())"
   ]
  },
  {
   "cell_type": "markdown",
   "metadata": {},
   "source": [
    "Обработаем пропуске в столбце year_of_release. Посмотрим есть ли в столбце названия с указанным годом, но с пропущенным годом в столбце year"
   ]
  },
  {
   "cell_type": "code",
   "execution_count": 19,
   "metadata": {},
   "outputs": [
    {
     "data": {
      "text/html": [
       "<div>\n",
       "<style scoped>\n",
       "    .dataframe tbody tr th:only-of-type {\n",
       "        vertical-align: middle;\n",
       "    }\n",
       "\n",
       "    .dataframe tbody tr th {\n",
       "        vertical-align: top;\n",
       "    }\n",
       "\n",
       "    .dataframe thead th {\n",
       "        text-align: right;\n",
       "    }\n",
       "</style>\n",
       "<table border=\"1\" class=\"dataframe\">\n",
       "  <thead>\n",
       "    <tr style=\"text-align: right;\">\n",
       "      <th></th>\n",
       "      <th>name</th>\n",
       "      <th>platform</th>\n",
       "      <th>year_of_release</th>\n",
       "      <th>genre</th>\n",
       "      <th>na_sales</th>\n",
       "      <th>eu_sales</th>\n",
       "      <th>jp_sales</th>\n",
       "      <th>other_sales</th>\n",
       "      <th>critic_score</th>\n",
       "      <th>user_score</th>\n",
       "      <th>rating</th>\n",
       "    </tr>\n",
       "  </thead>\n",
       "  <tbody>\n",
       "    <tr>\n",
       "      <th>183</th>\n",
       "      <td>madden nfl 2004</td>\n",
       "      <td>PS2</td>\n",
       "      <td>NaN</td>\n",
       "      <td>sports</td>\n",
       "      <td>4.26</td>\n",
       "      <td>0.26</td>\n",
       "      <td>0.01</td>\n",
       "      <td>0.71</td>\n",
       "      <td>94.0</td>\n",
       "      <td>8.5</td>\n",
       "      <td>E</td>\n",
       "    </tr>\n",
       "    <tr>\n",
       "      <th>377</th>\n",
       "      <td>fifa soccer 2004</td>\n",
       "      <td>PS2</td>\n",
       "      <td>NaN</td>\n",
       "      <td>sports</td>\n",
       "      <td>0.59</td>\n",
       "      <td>2.36</td>\n",
       "      <td>0.04</td>\n",
       "      <td>0.51</td>\n",
       "      <td>84.0</td>\n",
       "      <td>6.4</td>\n",
       "      <td>E</td>\n",
       "    </tr>\n",
       "    <tr>\n",
       "      <th>456</th>\n",
       "      <td>lego batman: the videogame</td>\n",
       "      <td>Wii</td>\n",
       "      <td>NaN</td>\n",
       "      <td>action</td>\n",
       "      <td>1.80</td>\n",
       "      <td>0.97</td>\n",
       "      <td>0.00</td>\n",
       "      <td>0.29</td>\n",
       "      <td>74.0</td>\n",
       "      <td>7.9</td>\n",
       "      <td>E10+</td>\n",
       "    </tr>\n",
       "    <tr>\n",
       "      <th>475</th>\n",
       "      <td>wwe smackdown vs. raw 2006</td>\n",
       "      <td>PS2</td>\n",
       "      <td>NaN</td>\n",
       "      <td>fighting</td>\n",
       "      <td>1.57</td>\n",
       "      <td>1.02</td>\n",
       "      <td>0.00</td>\n",
       "      <td>0.41</td>\n",
       "      <td>9.9</td>\n",
       "      <td>9.9</td>\n",
       "      <td>0</td>\n",
       "    </tr>\n",
       "    <tr>\n",
       "      <th>609</th>\n",
       "      <td>space invaders</td>\n",
       "      <td>2600</td>\n",
       "      <td>NaN</td>\n",
       "      <td>shooter</td>\n",
       "      <td>2.36</td>\n",
       "      <td>0.14</td>\n",
       "      <td>0.00</td>\n",
       "      <td>0.03</td>\n",
       "      <td>9.9</td>\n",
       "      <td>9.9</td>\n",
       "      <td>0</td>\n",
       "    </tr>\n",
       "    <tr>\n",
       "      <th>...</th>\n",
       "      <td>...</td>\n",
       "      <td>...</td>\n",
       "      <td>...</td>\n",
       "      <td>...</td>\n",
       "      <td>...</td>\n",
       "      <td>...</td>\n",
       "      <td>...</td>\n",
       "      <td>...</td>\n",
       "      <td>...</td>\n",
       "      <td>...</td>\n",
       "      <td>...</td>\n",
       "    </tr>\n",
       "    <tr>\n",
       "      <th>16373</th>\n",
       "      <td>pdc world championship darts 2008</td>\n",
       "      <td>PSP</td>\n",
       "      <td>NaN</td>\n",
       "      <td>sports</td>\n",
       "      <td>0.01</td>\n",
       "      <td>0.00</td>\n",
       "      <td>0.00</td>\n",
       "      <td>0.00</td>\n",
       "      <td>43.0</td>\n",
       "      <td>0.1</td>\n",
       "      <td>E10+</td>\n",
       "    </tr>\n",
       "    <tr>\n",
       "      <th>16405</th>\n",
       "      <td>freaky flyers</td>\n",
       "      <td>GC</td>\n",
       "      <td>NaN</td>\n",
       "      <td>racing</td>\n",
       "      <td>0.01</td>\n",
       "      <td>0.00</td>\n",
       "      <td>0.00</td>\n",
       "      <td>0.00</td>\n",
       "      <td>69.0</td>\n",
       "      <td>6.5</td>\n",
       "      <td>T</td>\n",
       "    </tr>\n",
       "    <tr>\n",
       "      <th>16448</th>\n",
       "      <td>inversion</td>\n",
       "      <td>PC</td>\n",
       "      <td>NaN</td>\n",
       "      <td>shooter</td>\n",
       "      <td>0.01</td>\n",
       "      <td>0.00</td>\n",
       "      <td>0.00</td>\n",
       "      <td>0.00</td>\n",
       "      <td>59.0</td>\n",
       "      <td>6.7</td>\n",
       "      <td>M</td>\n",
       "    </tr>\n",
       "    <tr>\n",
       "      <th>16458</th>\n",
       "      <td>hakuouki: shinsengumi kitan</td>\n",
       "      <td>PS3</td>\n",
       "      <td>NaN</td>\n",
       "      <td>adventure</td>\n",
       "      <td>0.01</td>\n",
       "      <td>0.00</td>\n",
       "      <td>0.00</td>\n",
       "      <td>0.00</td>\n",
       "      <td>9.9</td>\n",
       "      <td>9.9</td>\n",
       "      <td>0</td>\n",
       "    </tr>\n",
       "    <tr>\n",
       "      <th>16522</th>\n",
       "      <td>virtua quest</td>\n",
       "      <td>GC</td>\n",
       "      <td>NaN</td>\n",
       "      <td>role-playing</td>\n",
       "      <td>0.01</td>\n",
       "      <td>0.00</td>\n",
       "      <td>0.00</td>\n",
       "      <td>0.00</td>\n",
       "      <td>55.0</td>\n",
       "      <td>5.5</td>\n",
       "      <td>T</td>\n",
       "    </tr>\n",
       "  </tbody>\n",
       "</table>\n",
       "<p>269 rows × 11 columns</p>\n",
       "</div>"
      ],
      "text/plain": [
       "                                    name platform  year_of_release  \\\n",
       "183                      madden nfl 2004      PS2              NaN   \n",
       "377                     fifa soccer 2004      PS2              NaN   \n",
       "456           lego batman: the videogame      Wii              NaN   \n",
       "475           wwe smackdown vs. raw 2006      PS2              NaN   \n",
       "609                       space invaders     2600              NaN   \n",
       "...                                  ...      ...              ...   \n",
       "16373  pdc world championship darts 2008      PSP              NaN   \n",
       "16405                      freaky flyers       GC              NaN   \n",
       "16448                          inversion       PC              NaN   \n",
       "16458        hakuouki: shinsengumi kitan      PS3              NaN   \n",
       "16522                       virtua quest       GC              NaN   \n",
       "\n",
       "              genre  na_sales  eu_sales  jp_sales  other_sales  critic_score  \\\n",
       "183          sports      4.26      0.26      0.01         0.71          94.0   \n",
       "377          sports      0.59      2.36      0.04         0.51          84.0   \n",
       "456          action      1.80      0.97      0.00         0.29          74.0   \n",
       "475        fighting      1.57      1.02      0.00         0.41           9.9   \n",
       "609         shooter      2.36      0.14      0.00         0.03           9.9   \n",
       "...             ...       ...       ...       ...          ...           ...   \n",
       "16373        sports      0.01      0.00      0.00         0.00          43.0   \n",
       "16405        racing      0.01      0.00      0.00         0.00          69.0   \n",
       "16448       shooter      0.01      0.00      0.00         0.00          59.0   \n",
       "16458     adventure      0.01      0.00      0.00         0.00           9.9   \n",
       "16522  role-playing      0.01      0.00      0.00         0.00          55.0   \n",
       "\n",
       "      user_score rating  \n",
       "183          8.5      E  \n",
       "377          6.4      E  \n",
       "456          7.9   E10+  \n",
       "475          9.9      0  \n",
       "609          9.9      0  \n",
       "...          ...    ...  \n",
       "16373        0.1   E10+  \n",
       "16405        6.5      T  \n",
       "16448        6.7      M  \n",
       "16458        9.9      0  \n",
       "16522        5.5      T  \n",
       "\n",
       "[269 rows x 11 columns]"
      ]
     },
     "metadata": {},
     "output_type": "display_data"
    }
   ],
   "source": [
    "#введем отдельную переменную на столбец\n",
    "nan_year = data[data['year_of_release'].isna()]\n",
    "display(nan_year)"
   ]
  },
  {
   "cell_type": "markdown",
   "metadata": {},
   "source": [
    "Да, так оно и есть. Попробуем заполнить пропуски в столбце year_of_release годами, указанными в названии. Игры по спорту или соревнованиям выходят за 1 год до события.  Напримнр: NBA, FIFA выходит в 2022, а в названии пишет 2023, поэтому в соответствии с жанром вставим год. Остальное, что не получится заполнить из названия - заменим нулями."
   ]
  },
  {
   "cell_type": "code",
   "execution_count": 20,
   "metadata": {
    "scrolled": false
   },
   "outputs": [
    {
     "data": {
      "text/html": [
       "<div>\n",
       "<style scoped>\n",
       "    .dataframe tbody tr th:only-of-type {\n",
       "        vertical-align: middle;\n",
       "    }\n",
       "\n",
       "    .dataframe tbody tr th {\n",
       "        vertical-align: top;\n",
       "    }\n",
       "\n",
       "    .dataframe thead th {\n",
       "        text-align: right;\n",
       "    }\n",
       "</style>\n",
       "<table border=\"1\" class=\"dataframe\">\n",
       "  <thead>\n",
       "    <tr style=\"text-align: right;\">\n",
       "      <th></th>\n",
       "      <th>name</th>\n",
       "      <th>platform</th>\n",
       "      <th>year_of_release</th>\n",
       "      <th>genre</th>\n",
       "      <th>na_sales</th>\n",
       "      <th>eu_sales</th>\n",
       "      <th>jp_sales</th>\n",
       "      <th>other_sales</th>\n",
       "      <th>critic_score</th>\n",
       "      <th>user_score</th>\n",
       "      <th>rating</th>\n",
       "    </tr>\n",
       "  </thead>\n",
       "  <tbody>\n",
       "    <tr>\n",
       "      <th>456</th>\n",
       "      <td>lego batman: the videogame</td>\n",
       "      <td>Wii</td>\n",
       "      <td>NaN</td>\n",
       "      <td>action</td>\n",
       "      <td>1.80</td>\n",
       "      <td>0.97</td>\n",
       "      <td>0.00</td>\n",
       "      <td>0.29</td>\n",
       "      <td>74.0</td>\n",
       "      <td>7.9</td>\n",
       "      <td>E10+</td>\n",
       "    </tr>\n",
       "    <tr>\n",
       "      <th>609</th>\n",
       "      <td>space invaders</td>\n",
       "      <td>2600</td>\n",
       "      <td>NaN</td>\n",
       "      <td>shooter</td>\n",
       "      <td>2.36</td>\n",
       "      <td>0.14</td>\n",
       "      <td>0.00</td>\n",
       "      <td>0.03</td>\n",
       "      <td>9.9</td>\n",
       "      <td>9.9</td>\n",
       "      <td>0</td>\n",
       "    </tr>\n",
       "    <tr>\n",
       "      <th>627</th>\n",
       "      <td>rock band</td>\n",
       "      <td>X360</td>\n",
       "      <td>NaN</td>\n",
       "      <td>misc</td>\n",
       "      <td>1.93</td>\n",
       "      <td>0.33</td>\n",
       "      <td>0.00</td>\n",
       "      <td>0.21</td>\n",
       "      <td>92.0</td>\n",
       "      <td>8.2</td>\n",
       "      <td>T</td>\n",
       "    </tr>\n",
       "    <tr>\n",
       "      <th>657</th>\n",
       "      <td>frogger's adventures: temple of the frog</td>\n",
       "      <td>GBA</td>\n",
       "      <td>NaN</td>\n",
       "      <td>adventure</td>\n",
       "      <td>2.15</td>\n",
       "      <td>0.18</td>\n",
       "      <td>0.00</td>\n",
       "      <td>0.07</td>\n",
       "      <td>73.0</td>\n",
       "      <td>0.1</td>\n",
       "      <td>E</td>\n",
       "    </tr>\n",
       "    <tr>\n",
       "      <th>678</th>\n",
       "      <td>lego indiana jones: the original adventures</td>\n",
       "      <td>Wii</td>\n",
       "      <td>NaN</td>\n",
       "      <td>action</td>\n",
       "      <td>1.51</td>\n",
       "      <td>0.61</td>\n",
       "      <td>0.00</td>\n",
       "      <td>0.21</td>\n",
       "      <td>78.0</td>\n",
       "      <td>6.6</td>\n",
       "      <td>E10+</td>\n",
       "    </tr>\n",
       "    <tr>\n",
       "      <th>...</th>\n",
       "      <td>...</td>\n",
       "      <td>...</td>\n",
       "      <td>...</td>\n",
       "      <td>...</td>\n",
       "      <td>...</td>\n",
       "      <td>...</td>\n",
       "      <td>...</td>\n",
       "      <td>...</td>\n",
       "      <td>...</td>\n",
       "      <td>...</td>\n",
       "      <td>...</td>\n",
       "    </tr>\n",
       "    <tr>\n",
       "      <th>16348</th>\n",
       "      <td>agarest senki: re-appearance</td>\n",
       "      <td>PS3</td>\n",
       "      <td>NaN</td>\n",
       "      <td>role-playing</td>\n",
       "      <td>0.00</td>\n",
       "      <td>0.00</td>\n",
       "      <td>0.01</td>\n",
       "      <td>0.00</td>\n",
       "      <td>9.9</td>\n",
       "      <td>9.9</td>\n",
       "      <td>0</td>\n",
       "    </tr>\n",
       "    <tr>\n",
       "      <th>16405</th>\n",
       "      <td>freaky flyers</td>\n",
       "      <td>GC</td>\n",
       "      <td>NaN</td>\n",
       "      <td>racing</td>\n",
       "      <td>0.01</td>\n",
       "      <td>0.00</td>\n",
       "      <td>0.00</td>\n",
       "      <td>0.00</td>\n",
       "      <td>69.0</td>\n",
       "      <td>6.5</td>\n",
       "      <td>T</td>\n",
       "    </tr>\n",
       "    <tr>\n",
       "      <th>16448</th>\n",
       "      <td>inversion</td>\n",
       "      <td>PC</td>\n",
       "      <td>NaN</td>\n",
       "      <td>shooter</td>\n",
       "      <td>0.01</td>\n",
       "      <td>0.00</td>\n",
       "      <td>0.00</td>\n",
       "      <td>0.00</td>\n",
       "      <td>59.0</td>\n",
       "      <td>6.7</td>\n",
       "      <td>M</td>\n",
       "    </tr>\n",
       "    <tr>\n",
       "      <th>16458</th>\n",
       "      <td>hakuouki: shinsengumi kitan</td>\n",
       "      <td>PS3</td>\n",
       "      <td>NaN</td>\n",
       "      <td>adventure</td>\n",
       "      <td>0.01</td>\n",
       "      <td>0.00</td>\n",
       "      <td>0.00</td>\n",
       "      <td>0.00</td>\n",
       "      <td>9.9</td>\n",
       "      <td>9.9</td>\n",
       "      <td>0</td>\n",
       "    </tr>\n",
       "    <tr>\n",
       "      <th>16522</th>\n",
       "      <td>virtua quest</td>\n",
       "      <td>GC</td>\n",
       "      <td>NaN</td>\n",
       "      <td>role-playing</td>\n",
       "      <td>0.01</td>\n",
       "      <td>0.00</td>\n",
       "      <td>0.00</td>\n",
       "      <td>0.00</td>\n",
       "      <td>55.0</td>\n",
       "      <td>5.5</td>\n",
       "      <td>T</td>\n",
       "    </tr>\n",
       "  </tbody>\n",
       "</table>\n",
       "<p>254 rows × 11 columns</p>\n",
       "</div>"
      ],
      "text/plain": [
       "                                              name platform  year_of_release  \\\n",
       "456                     lego batman: the videogame      Wii              NaN   \n",
       "609                                 space invaders     2600              NaN   \n",
       "627                                      rock band     X360              NaN   \n",
       "657       frogger's adventures: temple of the frog      GBA              NaN   \n",
       "678    lego indiana jones: the original adventures      Wii              NaN   \n",
       "...                                            ...      ...              ...   \n",
       "16348                 agarest senki: re-appearance      PS3              NaN   \n",
       "16405                                freaky flyers       GC              NaN   \n",
       "16448                                    inversion       PC              NaN   \n",
       "16458                  hakuouki: shinsengumi kitan      PS3              NaN   \n",
       "16522                                 virtua quest       GC              NaN   \n",
       "\n",
       "              genre  na_sales  eu_sales  jp_sales  other_sales  critic_score  \\\n",
       "456          action      1.80      0.97      0.00         0.29          74.0   \n",
       "609         shooter      2.36      0.14      0.00         0.03           9.9   \n",
       "627            misc      1.93      0.33      0.00         0.21          92.0   \n",
       "657       adventure      2.15      0.18      0.00         0.07          73.0   \n",
       "678          action      1.51      0.61      0.00         0.21          78.0   \n",
       "...             ...       ...       ...       ...          ...           ...   \n",
       "16348  role-playing      0.00      0.00      0.01         0.00           9.9   \n",
       "16405        racing      0.01      0.00      0.00         0.00          69.0   \n",
       "16448       shooter      0.01      0.00      0.00         0.00          59.0   \n",
       "16458     adventure      0.01      0.00      0.00         0.00           9.9   \n",
       "16522  role-playing      0.01      0.00      0.00         0.00          55.0   \n",
       "\n",
       "      user_score rating  \n",
       "456          7.9   E10+  \n",
       "609          9.9      0  \n",
       "627          8.2      T  \n",
       "657          0.1      E  \n",
       "678          6.6   E10+  \n",
       "...          ...    ...  \n",
       "16348        9.9      0  \n",
       "16405        6.5      T  \n",
       "16448        6.7      M  \n",
       "16458        9.9      0  \n",
       "16522        5.5      T  \n",
       "\n",
       "[254 rows x 11 columns]"
      ]
     },
     "metadata": {},
     "output_type": "display_data"
    },
    {
     "name": "stdout",
     "output_type": "stream",
     "text": [
      "[2006. 1985. 2008. 2009. 1996. 1989. 1984. 2005. 1999. 2007. 2010. 2013.\n",
      " 2004. 1990. 1988. 2002. 2001. 2011. 1998. 2015. 2012. 2014. 1992. 1997.\n",
      " 1993. 1994. 1982. 2016. 2003. 1986. 2000. 1995. 1991. 1981. 1987. 1980.\n",
      " 1983.   nan]\n"
     ]
    }
   ],
   "source": [
    "def fill_year(row):\n",
    "    year = 0\n",
    "    last_word = ''\n",
    "    genre = row[3]\n",
    "    for word in row[0].split():\n",
    "        try:\n",
    "            last_word = word\n",
    "            year = int(word)\n",
    "        except:\n",
    "            continue\n",
    "    if genre in ('sports', 'racing', 'fighting'):\n",
    "        if year > 2000 or last_word in ('2K6','2K8'):\n",
    "            if genre == 'sports':\n",
    "                year -=1\n",
    "            if last_word == '2K6':\n",
    "                year = 2005\n",
    "            elif last_word == '2K8':\n",
    "                year = 2007\n",
    "            if year < 2017 and np.isnan(row[2]):\n",
    "                row[2] = year\n",
    "    return row\n",
    "\n",
    "data = data.apply(fill_year, axis=1)\n",
    "\n",
    "\n",
    "#проверка\n",
    "nan_year = data[data['year_of_release'].isna()]\n",
    "display(nan_year)\n",
    "\n",
    "#проверка, появились ли аномальные значения\n",
    "print(data['year_of_release'].unique())"
   ]
  },
  {
   "cell_type": "markdown",
   "metadata": {},
   "source": [
    "Было 269 пропусков, стало 254. Остальное заменим на 0, так как судя по рейтингу и по доходам от игры в строках с NAN, игры были не очень успешны, а значит не сильно важны для анализа"
   ]
  },
  {
   "cell_type": "code",
   "execution_count": 21,
   "metadata": {},
   "outputs": [
    {
     "data": {
      "text/plain": [
       "0"
      ]
     },
     "execution_count": 21,
     "metadata": {},
     "output_type": "execute_result"
    }
   ],
   "source": [
    "data['year_of_release'] = data['year_of_release'].fillna(0)\n",
    "\n",
    "#проверка\n",
    "data['year_of_release'].isnull().sum()"
   ]
  },
  {
   "cell_type": "markdown",
   "metadata": {},
   "source": [
    "<div class=\"alert alert-warning\">\n",
    "    <h2> Комментарий ревьюера v1 <a class=\"tocSkip\"> </h2>\n",
    "    \n",
    "<b>Небольшие замечания и рекомендации💡:</b>Можно сразу удалять такое незначительное количетво пропусков для экномии времени) Тем более восстанавливать год исходя из названия у игры несовсем корректно) "
   ]
  },
  {
   "cell_type": "markdown",
   "metadata": {},
   "source": [
    "<div class=\"alert alert-info\">\n",
    "<b>Хорошо, поняла, но я бы очень хотела этот кусок кода для себя оставить, как шпаргалку, столько сил на него потратила </b> \n",
    "</div>"
   ]
  },
  {
   "cell_type": "markdown",
   "metadata": {},
   "source": [
    "<div class=\"alert alert-success\">\n",
    "<h2> Комментарий ревьюера v2 <a class=\"tocSkip\"> </h2>\n",
    "\n",
    "<b>Все супер!👍:</b> Конечно) "
   ]
  },
  {
   "cell_type": "markdown",
   "metadata": {},
   "source": [
    "После того, как пропуски обработаны преобразуем типы данных. Посмотрим что нужно изменить:"
   ]
  },
  {
   "cell_type": "code",
   "execution_count": 22,
   "metadata": {},
   "outputs": [
    {
     "name": "stdout",
     "output_type": "stream",
     "text": [
      "<class 'pandas.core.frame.DataFrame'>\n",
      "Int64Index: 16713 entries, 0 to 16714\n",
      "Data columns (total 11 columns):\n",
      " #   Column           Non-Null Count  Dtype  \n",
      "---  ------           --------------  -----  \n",
      " 0   name             16713 non-null  object \n",
      " 1   platform         16713 non-null  object \n",
      " 2   year_of_release  16713 non-null  float64\n",
      " 3   genre            16713 non-null  object \n",
      " 4   na_sales         16713 non-null  float64\n",
      " 5   eu_sales         16713 non-null  float64\n",
      " 6   jp_sales         16713 non-null  float64\n",
      " 7   other_sales      16713 non-null  float64\n",
      " 8   critic_score     16713 non-null  float64\n",
      " 9   user_score       16713 non-null  object \n",
      " 10  rating           16713 non-null  object \n",
      "dtypes: float64(6), object(5)\n",
      "memory usage: 1.5+ MB\n"
     ]
    }
   ],
   "source": [
    "data.info()"
   ]
  },
  {
   "cell_type": "markdown",
   "metadata": {},
   "source": [
    "Некоторые типы данных должны быть целыми, а их тип-float. Какие-то строки в столбцах состоят из цифр, их тип данных object. Заменим в следующем порядке:\n",
    "\n",
    "- year_of_release float на int\n",
    "- user_score с object на float"
   ]
  },
  {
   "cell_type": "code",
   "execution_count": 23,
   "metadata": {
    "scrolled": true
   },
   "outputs": [
    {
     "name": "stdout",
     "output_type": "stream",
     "text": [
      "<class 'pandas.core.frame.DataFrame'>\n",
      "Int64Index: 16713 entries, 0 to 16714\n",
      "Data columns (total 11 columns):\n",
      " #   Column           Non-Null Count  Dtype  \n",
      "---  ------           --------------  -----  \n",
      " 0   name             16713 non-null  object \n",
      " 1   platform         16713 non-null  object \n",
      " 2   year_of_release  16713 non-null  int64  \n",
      " 3   genre            16713 non-null  object \n",
      " 4   na_sales         16713 non-null  float64\n",
      " 5   eu_sales         16713 non-null  float64\n",
      " 6   jp_sales         16713 non-null  float64\n",
      " 7   other_sales      16713 non-null  float64\n",
      " 8   critic_score     16713 non-null  float64\n",
      " 9   user_score       16713 non-null  float64\n",
      " 10  rating           16713 non-null  object \n",
      "dtypes: float64(6), int64(1), object(4)\n",
      "memory usage: 1.5+ MB\n"
     ]
    }
   ],
   "source": [
    "data['year_of_release'] = data['year_of_release'].astype(int)\n",
    "data['user_score'] = data['user_score'].astype(float)\n",
    "\n",
    "data.info()"
   ]
  },
  {
   "cell_type": "markdown",
   "metadata": {},
   "source": [
    "<div class=\"alert alert-success\">\n",
    "<h2> Комментарий ревьюера v1 <a class=\"tocSkip\"> </h2>\n",
    "\n",
    "<b>Все супер!👍:</b>Хорошечно) "
   ]
  },
  {
   "cell_type": "code",
   "execution_count": 24,
   "metadata": {},
   "outputs": [
    {
     "data": {
      "text/html": [
       "<div>\n",
       "<style scoped>\n",
       "    .dataframe tbody tr th:only-of-type {\n",
       "        vertical-align: middle;\n",
       "    }\n",
       "\n",
       "    .dataframe tbody tr th {\n",
       "        vertical-align: top;\n",
       "    }\n",
       "\n",
       "    .dataframe thead th {\n",
       "        text-align: right;\n",
       "    }\n",
       "</style>\n",
       "<table border=\"1\" class=\"dataframe\">\n",
       "  <thead>\n",
       "    <tr style=\"text-align: right;\">\n",
       "      <th></th>\n",
       "      <th>name</th>\n",
       "      <th>platform</th>\n",
       "      <th>year_of_release</th>\n",
       "      <th>genre</th>\n",
       "      <th>na_sales</th>\n",
       "      <th>eu_sales</th>\n",
       "      <th>jp_sales</th>\n",
       "      <th>other_sales</th>\n",
       "      <th>critic_score</th>\n",
       "      <th>user_score</th>\n",
       "      <th>rating</th>\n",
       "    </tr>\n",
       "  </thead>\n",
       "  <tbody>\n",
       "    <tr>\n",
       "      <th>0</th>\n",
       "      <td>wii sports</td>\n",
       "      <td>Wii</td>\n",
       "      <td>2006</td>\n",
       "      <td>sports</td>\n",
       "      <td>41.36</td>\n",
       "      <td>28.96</td>\n",
       "      <td>3.77</td>\n",
       "      <td>8.45</td>\n",
       "      <td>76.0</td>\n",
       "      <td>8.0</td>\n",
       "      <td>E</td>\n",
       "    </tr>\n",
       "    <tr>\n",
       "      <th>1</th>\n",
       "      <td>super mario bros.</td>\n",
       "      <td>NES</td>\n",
       "      <td>1985</td>\n",
       "      <td>platform</td>\n",
       "      <td>29.08</td>\n",
       "      <td>3.58</td>\n",
       "      <td>6.81</td>\n",
       "      <td>0.77</td>\n",
       "      <td>9.9</td>\n",
       "      <td>9.9</td>\n",
       "      <td>0</td>\n",
       "    </tr>\n",
       "    <tr>\n",
       "      <th>2</th>\n",
       "      <td>mario kart wii</td>\n",
       "      <td>Wii</td>\n",
       "      <td>2008</td>\n",
       "      <td>racing</td>\n",
       "      <td>15.68</td>\n",
       "      <td>12.76</td>\n",
       "      <td>3.79</td>\n",
       "      <td>3.29</td>\n",
       "      <td>82.0</td>\n",
       "      <td>8.3</td>\n",
       "      <td>E</td>\n",
       "    </tr>\n",
       "    <tr>\n",
       "      <th>3</th>\n",
       "      <td>wii sports resort</td>\n",
       "      <td>Wii</td>\n",
       "      <td>2009</td>\n",
       "      <td>sports</td>\n",
       "      <td>15.61</td>\n",
       "      <td>10.93</td>\n",
       "      <td>3.28</td>\n",
       "      <td>2.95</td>\n",
       "      <td>80.0</td>\n",
       "      <td>8.0</td>\n",
       "      <td>E</td>\n",
       "    </tr>\n",
       "    <tr>\n",
       "      <th>4</th>\n",
       "      <td>pokemon red/pokemon blue</td>\n",
       "      <td>GB</td>\n",
       "      <td>1996</td>\n",
       "      <td>role-playing</td>\n",
       "      <td>11.27</td>\n",
       "      <td>8.89</td>\n",
       "      <td>10.22</td>\n",
       "      <td>1.00</td>\n",
       "      <td>9.9</td>\n",
       "      <td>9.9</td>\n",
       "      <td>0</td>\n",
       "    </tr>\n",
       "    <tr>\n",
       "      <th>...</th>\n",
       "      <td>...</td>\n",
       "      <td>...</td>\n",
       "      <td>...</td>\n",
       "      <td>...</td>\n",
       "      <td>...</td>\n",
       "      <td>...</td>\n",
       "      <td>...</td>\n",
       "      <td>...</td>\n",
       "      <td>...</td>\n",
       "      <td>...</td>\n",
       "      <td>...</td>\n",
       "    </tr>\n",
       "    <tr>\n",
       "      <th>16710</th>\n",
       "      <td>samurai warriors: sanada maru</td>\n",
       "      <td>PS3</td>\n",
       "      <td>2016</td>\n",
       "      <td>action</td>\n",
       "      <td>0.00</td>\n",
       "      <td>0.00</td>\n",
       "      <td>0.01</td>\n",
       "      <td>0.00</td>\n",
       "      <td>9.9</td>\n",
       "      <td>9.9</td>\n",
       "      <td>0</td>\n",
       "    </tr>\n",
       "    <tr>\n",
       "      <th>16711</th>\n",
       "      <td>lma manager 2007</td>\n",
       "      <td>X360</td>\n",
       "      <td>2006</td>\n",
       "      <td>sports</td>\n",
       "      <td>0.00</td>\n",
       "      <td>0.01</td>\n",
       "      <td>0.00</td>\n",
       "      <td>0.00</td>\n",
       "      <td>9.9</td>\n",
       "      <td>9.9</td>\n",
       "      <td>0</td>\n",
       "    </tr>\n",
       "    <tr>\n",
       "      <th>16712</th>\n",
       "      <td>haitaka no psychedelica</td>\n",
       "      <td>PSV</td>\n",
       "      <td>2016</td>\n",
       "      <td>adventure</td>\n",
       "      <td>0.00</td>\n",
       "      <td>0.00</td>\n",
       "      <td>0.01</td>\n",
       "      <td>0.00</td>\n",
       "      <td>9.9</td>\n",
       "      <td>9.9</td>\n",
       "      <td>0</td>\n",
       "    </tr>\n",
       "    <tr>\n",
       "      <th>16713</th>\n",
       "      <td>spirits &amp; spells</td>\n",
       "      <td>GBA</td>\n",
       "      <td>2003</td>\n",
       "      <td>platform</td>\n",
       "      <td>0.01</td>\n",
       "      <td>0.00</td>\n",
       "      <td>0.00</td>\n",
       "      <td>0.00</td>\n",
       "      <td>9.9</td>\n",
       "      <td>9.9</td>\n",
       "      <td>0</td>\n",
       "    </tr>\n",
       "    <tr>\n",
       "      <th>16714</th>\n",
       "      <td>winning post 8 2016</td>\n",
       "      <td>PSV</td>\n",
       "      <td>2016</td>\n",
       "      <td>simulation</td>\n",
       "      <td>0.00</td>\n",
       "      <td>0.00</td>\n",
       "      <td>0.01</td>\n",
       "      <td>0.00</td>\n",
       "      <td>9.9</td>\n",
       "      <td>9.9</td>\n",
       "      <td>0</td>\n",
       "    </tr>\n",
       "  </tbody>\n",
       "</table>\n",
       "<p>16713 rows × 11 columns</p>\n",
       "</div>"
      ],
      "text/plain": [
       "                                name platform  year_of_release         genre  \\\n",
       "0                         wii sports      Wii             2006        sports   \n",
       "1                  super mario bros.      NES             1985      platform   \n",
       "2                     mario kart wii      Wii             2008        racing   \n",
       "3                  wii sports resort      Wii             2009        sports   \n",
       "4           pokemon red/pokemon blue       GB             1996  role-playing   \n",
       "...                              ...      ...              ...           ...   \n",
       "16710  samurai warriors: sanada maru      PS3             2016        action   \n",
       "16711               lma manager 2007     X360             2006        sports   \n",
       "16712        haitaka no psychedelica      PSV             2016     adventure   \n",
       "16713               spirits & spells      GBA             2003      platform   \n",
       "16714            winning post 8 2016      PSV             2016    simulation   \n",
       "\n",
       "       na_sales  eu_sales  jp_sales  other_sales  critic_score  user_score  \\\n",
       "0         41.36     28.96      3.77         8.45          76.0         8.0   \n",
       "1         29.08      3.58      6.81         0.77           9.9         9.9   \n",
       "2         15.68     12.76      3.79         3.29          82.0         8.3   \n",
       "3         15.61     10.93      3.28         2.95          80.0         8.0   \n",
       "4         11.27      8.89     10.22         1.00           9.9         9.9   \n",
       "...         ...       ...       ...          ...           ...         ...   \n",
       "16710      0.00      0.00      0.01         0.00           9.9         9.9   \n",
       "16711      0.00      0.01      0.00         0.00           9.9         9.9   \n",
       "16712      0.00      0.00      0.01         0.00           9.9         9.9   \n",
       "16713      0.01      0.00      0.00         0.00           9.9         9.9   \n",
       "16714      0.00      0.00      0.01         0.00           9.9         9.9   \n",
       "\n",
       "      rating  \n",
       "0          E  \n",
       "1          0  \n",
       "2          E  \n",
       "3          E  \n",
       "4          0  \n",
       "...      ...  \n",
       "16710      0  \n",
       "16711      0  \n",
       "16712      0  \n",
       "16713      0  \n",
       "16714      0  \n",
       "\n",
       "[16713 rows x 11 columns]"
      ]
     },
     "metadata": {},
     "output_type": "display_data"
    }
   ],
   "source": [
    "display(data)"
   ]
  },
  {
   "cell_type": "markdown",
   "metadata": {},
   "source": [
    "Посчитаем суммарные продажи во всех регионах и запишем их в отдельный столбец total_sales"
   ]
  },
  {
   "cell_type": "code",
   "execution_count": 25,
   "metadata": {
    "scrolled": true
   },
   "outputs": [
    {
     "data": {
      "text/html": [
       "<div>\n",
       "<style scoped>\n",
       "    .dataframe tbody tr th:only-of-type {\n",
       "        vertical-align: middle;\n",
       "    }\n",
       "\n",
       "    .dataframe tbody tr th {\n",
       "        vertical-align: top;\n",
       "    }\n",
       "\n",
       "    .dataframe thead th {\n",
       "        text-align: right;\n",
       "    }\n",
       "</style>\n",
       "<table border=\"1\" class=\"dataframe\">\n",
       "  <thead>\n",
       "    <tr style=\"text-align: right;\">\n",
       "      <th></th>\n",
       "      <th>name</th>\n",
       "      <th>platform</th>\n",
       "      <th>year_of_release</th>\n",
       "      <th>genre</th>\n",
       "      <th>na_sales</th>\n",
       "      <th>eu_sales</th>\n",
       "      <th>jp_sales</th>\n",
       "      <th>other_sales</th>\n",
       "      <th>critic_score</th>\n",
       "      <th>user_score</th>\n",
       "      <th>rating</th>\n",
       "      <th>total_sales</th>\n",
       "    </tr>\n",
       "  </thead>\n",
       "  <tbody>\n",
       "    <tr>\n",
       "      <th>0</th>\n",
       "      <td>wii sports</td>\n",
       "      <td>Wii</td>\n",
       "      <td>2006</td>\n",
       "      <td>sports</td>\n",
       "      <td>41.36</td>\n",
       "      <td>28.96</td>\n",
       "      <td>3.77</td>\n",
       "      <td>8.45</td>\n",
       "      <td>76.0</td>\n",
       "      <td>8.0</td>\n",
       "      <td>E</td>\n",
       "      <td>82.54</td>\n",
       "    </tr>\n",
       "    <tr>\n",
       "      <th>1</th>\n",
       "      <td>super mario bros.</td>\n",
       "      <td>NES</td>\n",
       "      <td>1985</td>\n",
       "      <td>platform</td>\n",
       "      <td>29.08</td>\n",
       "      <td>3.58</td>\n",
       "      <td>6.81</td>\n",
       "      <td>0.77</td>\n",
       "      <td>9.9</td>\n",
       "      <td>9.9</td>\n",
       "      <td>0</td>\n",
       "      <td>40.24</td>\n",
       "    </tr>\n",
       "    <tr>\n",
       "      <th>2</th>\n",
       "      <td>mario kart wii</td>\n",
       "      <td>Wii</td>\n",
       "      <td>2008</td>\n",
       "      <td>racing</td>\n",
       "      <td>15.68</td>\n",
       "      <td>12.76</td>\n",
       "      <td>3.79</td>\n",
       "      <td>3.29</td>\n",
       "      <td>82.0</td>\n",
       "      <td>8.3</td>\n",
       "      <td>E</td>\n",
       "      <td>35.52</td>\n",
       "    </tr>\n",
       "    <tr>\n",
       "      <th>3</th>\n",
       "      <td>wii sports resort</td>\n",
       "      <td>Wii</td>\n",
       "      <td>2009</td>\n",
       "      <td>sports</td>\n",
       "      <td>15.61</td>\n",
       "      <td>10.93</td>\n",
       "      <td>3.28</td>\n",
       "      <td>2.95</td>\n",
       "      <td>80.0</td>\n",
       "      <td>8.0</td>\n",
       "      <td>E</td>\n",
       "      <td>32.77</td>\n",
       "    </tr>\n",
       "    <tr>\n",
       "      <th>4</th>\n",
       "      <td>pokemon red/pokemon blue</td>\n",
       "      <td>GB</td>\n",
       "      <td>1996</td>\n",
       "      <td>role-playing</td>\n",
       "      <td>11.27</td>\n",
       "      <td>8.89</td>\n",
       "      <td>10.22</td>\n",
       "      <td>1.00</td>\n",
       "      <td>9.9</td>\n",
       "      <td>9.9</td>\n",
       "      <td>0</td>\n",
       "      <td>31.38</td>\n",
       "    </tr>\n",
       "    <tr>\n",
       "      <th>...</th>\n",
       "      <td>...</td>\n",
       "      <td>...</td>\n",
       "      <td>...</td>\n",
       "      <td>...</td>\n",
       "      <td>...</td>\n",
       "      <td>...</td>\n",
       "      <td>...</td>\n",
       "      <td>...</td>\n",
       "      <td>...</td>\n",
       "      <td>...</td>\n",
       "      <td>...</td>\n",
       "      <td>...</td>\n",
       "    </tr>\n",
       "    <tr>\n",
       "      <th>16710</th>\n",
       "      <td>samurai warriors: sanada maru</td>\n",
       "      <td>PS3</td>\n",
       "      <td>2016</td>\n",
       "      <td>action</td>\n",
       "      <td>0.00</td>\n",
       "      <td>0.00</td>\n",
       "      <td>0.01</td>\n",
       "      <td>0.00</td>\n",
       "      <td>9.9</td>\n",
       "      <td>9.9</td>\n",
       "      <td>0</td>\n",
       "      <td>0.01</td>\n",
       "    </tr>\n",
       "    <tr>\n",
       "      <th>16711</th>\n",
       "      <td>lma manager 2007</td>\n",
       "      <td>X360</td>\n",
       "      <td>2006</td>\n",
       "      <td>sports</td>\n",
       "      <td>0.00</td>\n",
       "      <td>0.01</td>\n",
       "      <td>0.00</td>\n",
       "      <td>0.00</td>\n",
       "      <td>9.9</td>\n",
       "      <td>9.9</td>\n",
       "      <td>0</td>\n",
       "      <td>0.01</td>\n",
       "    </tr>\n",
       "    <tr>\n",
       "      <th>16712</th>\n",
       "      <td>haitaka no psychedelica</td>\n",
       "      <td>PSV</td>\n",
       "      <td>2016</td>\n",
       "      <td>adventure</td>\n",
       "      <td>0.00</td>\n",
       "      <td>0.00</td>\n",
       "      <td>0.01</td>\n",
       "      <td>0.00</td>\n",
       "      <td>9.9</td>\n",
       "      <td>9.9</td>\n",
       "      <td>0</td>\n",
       "      <td>0.01</td>\n",
       "    </tr>\n",
       "    <tr>\n",
       "      <th>16713</th>\n",
       "      <td>spirits &amp; spells</td>\n",
       "      <td>GBA</td>\n",
       "      <td>2003</td>\n",
       "      <td>platform</td>\n",
       "      <td>0.01</td>\n",
       "      <td>0.00</td>\n",
       "      <td>0.00</td>\n",
       "      <td>0.00</td>\n",
       "      <td>9.9</td>\n",
       "      <td>9.9</td>\n",
       "      <td>0</td>\n",
       "      <td>0.01</td>\n",
       "    </tr>\n",
       "    <tr>\n",
       "      <th>16714</th>\n",
       "      <td>winning post 8 2016</td>\n",
       "      <td>PSV</td>\n",
       "      <td>2016</td>\n",
       "      <td>simulation</td>\n",
       "      <td>0.00</td>\n",
       "      <td>0.00</td>\n",
       "      <td>0.01</td>\n",
       "      <td>0.00</td>\n",
       "      <td>9.9</td>\n",
       "      <td>9.9</td>\n",
       "      <td>0</td>\n",
       "      <td>0.01</td>\n",
       "    </tr>\n",
       "  </tbody>\n",
       "</table>\n",
       "<p>16713 rows × 12 columns</p>\n",
       "</div>"
      ],
      "text/plain": [
       "                                name platform  year_of_release         genre  \\\n",
       "0                         wii sports      Wii             2006        sports   \n",
       "1                  super mario bros.      NES             1985      platform   \n",
       "2                     mario kart wii      Wii             2008        racing   \n",
       "3                  wii sports resort      Wii             2009        sports   \n",
       "4           pokemon red/pokemon blue       GB             1996  role-playing   \n",
       "...                              ...      ...              ...           ...   \n",
       "16710  samurai warriors: sanada maru      PS3             2016        action   \n",
       "16711               lma manager 2007     X360             2006        sports   \n",
       "16712        haitaka no psychedelica      PSV             2016     adventure   \n",
       "16713               spirits & spells      GBA             2003      platform   \n",
       "16714            winning post 8 2016      PSV             2016    simulation   \n",
       "\n",
       "       na_sales  eu_sales  jp_sales  other_sales  critic_score  user_score  \\\n",
       "0         41.36     28.96      3.77         8.45          76.0         8.0   \n",
       "1         29.08      3.58      6.81         0.77           9.9         9.9   \n",
       "2         15.68     12.76      3.79         3.29          82.0         8.3   \n",
       "3         15.61     10.93      3.28         2.95          80.0         8.0   \n",
       "4         11.27      8.89     10.22         1.00           9.9         9.9   \n",
       "...         ...       ...       ...          ...           ...         ...   \n",
       "16710      0.00      0.00      0.01         0.00           9.9         9.9   \n",
       "16711      0.00      0.01      0.00         0.00           9.9         9.9   \n",
       "16712      0.00      0.00      0.01         0.00           9.9         9.9   \n",
       "16713      0.01      0.00      0.00         0.00           9.9         9.9   \n",
       "16714      0.00      0.00      0.01         0.00           9.9         9.9   \n",
       "\n",
       "      rating  total_sales  \n",
       "0          E        82.54  \n",
       "1          0        40.24  \n",
       "2          E        35.52  \n",
       "3          E        32.77  \n",
       "4          0        31.38  \n",
       "...      ...          ...  \n",
       "16710      0         0.01  \n",
       "16711      0         0.01  \n",
       "16712      0         0.01  \n",
       "16713      0         0.01  \n",
       "16714      0         0.01  \n",
       "\n",
       "[16713 rows x 12 columns]"
      ]
     },
     "metadata": {},
     "output_type": "display_data"
    }
   ],
   "source": [
    "data['total_sales'] = (data['na_sales'] + data['eu_sales'] + data['jp_sales'] + data['other_sales'])\n",
    "display(data)"
   ]
  },
  {
   "cell_type": "markdown",
   "metadata": {},
   "source": [
    "<div class=\"alert alert-success\">\n",
    "<h2> Комментарий ревьюера v1<a class=\"tocSkip\"> </h2>\n",
    "\n",
    "<b>Все супер!👍:</b> Столбец добавлен верно, но для подсчета суммарных продаж рекомендую использовать следующую конструкцию \n",
    "    \n",
    "    \n",
    "    games[['na_sales','eu_sales','jp_sales', 'other_sales']].sum(axis = 1)"
   ]
  },
  {
   "cell_type": "markdown",
   "metadata": {},
   "source": [
    "**ВЫВОД**\n",
    "\n",
    "- Все строки в cтолбцах name, genre, названии колонок привели к нижнему регистру\n",
    "- Nan заменили в year_of_release заменили на 0, rating на 0, critic_score на 9.9, user_score на 9.9, tbd на 0.1. Для анализа эти данные использовать нельзя и необходимо будет их отсортировать.\n",
    "- 2 строки с пропусками почти всех данных №659, 14244 удалили\n",
    "- Изменен тип данных в user_score на float, year_of_release на int"
   ]
  },
  {
   "cell_type": "markdown",
   "metadata": {},
   "source": [
    "<div class=\"alert alert-block alert-danger\">\n",
    "<h2> Комментарий ревьюера v1 <a class=\"tocSkip\"></h2>\n",
    "\n",
    "<b>На доработку🤔:</b> Сделаем вывод по данному разделу?"
   ]
  },
  {
   "cell_type": "markdown",
   "metadata": {},
   "source": [
    "<div class=\"alert alert-info\">\n",
    "<b>Done ✅ </b> \n",
    "</div>"
   ]
  },
  {
   "cell_type": "markdown",
   "metadata": {},
   "source": [
    "<div class=\"alert alert-success\">\n",
    "<h2> Комментарий ревьюера v2 <a class=\"tocSkip\"> </h2>\n",
    "\n",
    "<b>Все супер!👍:</b> Доработано "
   ]
  },
  {
   "cell_type": "markdown",
   "metadata": {},
   "source": [
    "**Шаг 3.**\n",
    "Исследовательский анализ данных\n",
    "\n",
    "- Сколько игр выпускалось в разные годы. Важны ли данные за все периоды?\n",
    "- Как менялись продажи по платформам. Выберите платформы с наибольшими суммарными продажами и постройте распределение по годам. За какой - Характерный срок появляются новые и исчезают старые платформы?\n",
    "- Прогноз на 2017 год (возьмем данные за соответствующий актуальный период. актуальный период определите самостоятельно в результате исследования предыдущих вопросов)\n",
    "- Какие платформы лидируют по продажам, растут или падают? Выберите несколько потенциально прибыльных платформ.\n",
    "- Построим график «ящик с усами» по глобальным продажам игр в разбивке по платформам. Опишем результат.\n",
    "- Посмотрим, как влияют на продажи внутри одной популярной платформы отзывы пользователей и критиков. Построим диаграмму рассеяния и посчитайте корреляцию между отзывами и продажами.\n",
    "- Соотнесем выводы с продажами игр на других платформах.\n",
    "- Посмотрим на общее распределение игр по жанрам. Что можно сказать о самых прибыльных жанрах? Выделяются ли жанры с высокими и низкими продажами?"
   ]
  },
  {
   "cell_type": "markdown",
   "metadata": {},
   "source": [
    "**1)** Посмотрим, сколько игр выпускалось в разные годы. "
   ]
  },
  {
   "cell_type": "code",
   "execution_count": 26,
   "metadata": {},
   "outputs": [
    {
     "data": {
      "text/html": [
       "<div>\n",
       "<style scoped>\n",
       "    .dataframe tbody tr th:only-of-type {\n",
       "        vertical-align: middle;\n",
       "    }\n",
       "\n",
       "    .dataframe tbody tr th {\n",
       "        vertical-align: top;\n",
       "    }\n",
       "\n",
       "    .dataframe thead th {\n",
       "        text-align: right;\n",
       "    }\n",
       "</style>\n",
       "<table border=\"1\" class=\"dataframe\">\n",
       "  <thead>\n",
       "    <tr style=\"text-align: right;\">\n",
       "      <th></th>\n",
       "      <th>сумма игр</th>\n",
       "    </tr>\n",
       "    <tr>\n",
       "      <th>year_of_release</th>\n",
       "      <th></th>\n",
       "    </tr>\n",
       "  </thead>\n",
       "  <tbody>\n",
       "    <tr>\n",
       "      <th>0</th>\n",
       "      <td>254</td>\n",
       "    </tr>\n",
       "    <tr>\n",
       "      <th>1980</th>\n",
       "      <td>9</td>\n",
       "    </tr>\n",
       "    <tr>\n",
       "      <th>1981</th>\n",
       "      <td>46</td>\n",
       "    </tr>\n",
       "    <tr>\n",
       "      <th>1982</th>\n",
       "      <td>36</td>\n",
       "    </tr>\n",
       "    <tr>\n",
       "      <th>1983</th>\n",
       "      <td>17</td>\n",
       "    </tr>\n",
       "    <tr>\n",
       "      <th>1984</th>\n",
       "      <td>14</td>\n",
       "    </tr>\n",
       "    <tr>\n",
       "      <th>1985</th>\n",
       "      <td>14</td>\n",
       "    </tr>\n",
       "    <tr>\n",
       "      <th>1986</th>\n",
       "      <td>21</td>\n",
       "    </tr>\n",
       "    <tr>\n",
       "      <th>1987</th>\n",
       "      <td>16</td>\n",
       "    </tr>\n",
       "    <tr>\n",
       "      <th>1988</th>\n",
       "      <td>15</td>\n",
       "    </tr>\n",
       "    <tr>\n",
       "      <th>1989</th>\n",
       "      <td>17</td>\n",
       "    </tr>\n",
       "    <tr>\n",
       "      <th>1990</th>\n",
       "      <td>16</td>\n",
       "    </tr>\n",
       "    <tr>\n",
       "      <th>1991</th>\n",
       "      <td>41</td>\n",
       "    </tr>\n",
       "    <tr>\n",
       "      <th>1992</th>\n",
       "      <td>43</td>\n",
       "    </tr>\n",
       "    <tr>\n",
       "      <th>1993</th>\n",
       "      <td>60</td>\n",
       "    </tr>\n",
       "    <tr>\n",
       "      <th>1994</th>\n",
       "      <td>121</td>\n",
       "    </tr>\n",
       "    <tr>\n",
       "      <th>1995</th>\n",
       "      <td>219</td>\n",
       "    </tr>\n",
       "    <tr>\n",
       "      <th>1996</th>\n",
       "      <td>263</td>\n",
       "    </tr>\n",
       "    <tr>\n",
       "      <th>1997</th>\n",
       "      <td>289</td>\n",
       "    </tr>\n",
       "    <tr>\n",
       "      <th>1998</th>\n",
       "      <td>379</td>\n",
       "    </tr>\n",
       "    <tr>\n",
       "      <th>1999</th>\n",
       "      <td>338</td>\n",
       "    </tr>\n",
       "    <tr>\n",
       "      <th>2000</th>\n",
       "      <td>350</td>\n",
       "    </tr>\n",
       "    <tr>\n",
       "      <th>2001</th>\n",
       "      <td>483</td>\n",
       "    </tr>\n",
       "    <tr>\n",
       "      <th>2002</th>\n",
       "      <td>832</td>\n",
       "    </tr>\n",
       "    <tr>\n",
       "      <th>2003</th>\n",
       "      <td>778</td>\n",
       "    </tr>\n",
       "    <tr>\n",
       "      <th>2004</th>\n",
       "      <td>764</td>\n",
       "    </tr>\n",
       "    <tr>\n",
       "      <th>2005</th>\n",
       "      <td>939</td>\n",
       "    </tr>\n",
       "    <tr>\n",
       "      <th>2006</th>\n",
       "      <td>1009</td>\n",
       "    </tr>\n",
       "    <tr>\n",
       "      <th>2007</th>\n",
       "      <td>1199</td>\n",
       "    </tr>\n",
       "    <tr>\n",
       "      <th>2008</th>\n",
       "      <td>1427</td>\n",
       "    </tr>\n",
       "    <tr>\n",
       "      <th>2009</th>\n",
       "      <td>1426</td>\n",
       "    </tr>\n",
       "    <tr>\n",
       "      <th>2010</th>\n",
       "      <td>1255</td>\n",
       "    </tr>\n",
       "    <tr>\n",
       "      <th>2011</th>\n",
       "      <td>1137</td>\n",
       "    </tr>\n",
       "    <tr>\n",
       "      <th>2012</th>\n",
       "      <td>653</td>\n",
       "    </tr>\n",
       "    <tr>\n",
       "      <th>2013</th>\n",
       "      <td>544</td>\n",
       "    </tr>\n",
       "    <tr>\n",
       "      <th>2014</th>\n",
       "      <td>581</td>\n",
       "    </tr>\n",
       "    <tr>\n",
       "      <th>2015</th>\n",
       "      <td>606</td>\n",
       "    </tr>\n",
       "    <tr>\n",
       "      <th>2016</th>\n",
       "      <td>502</td>\n",
       "    </tr>\n",
       "  </tbody>\n",
       "</table>\n",
       "</div>"
      ],
      "text/plain": [
       "                 сумма игр\n",
       "year_of_release           \n",
       "0                      254\n",
       "1980                     9\n",
       "1981                    46\n",
       "1982                    36\n",
       "1983                    17\n",
       "1984                    14\n",
       "1985                    14\n",
       "1986                    21\n",
       "1987                    16\n",
       "1988                    15\n",
       "1989                    17\n",
       "1990                    16\n",
       "1991                    41\n",
       "1992                    43\n",
       "1993                    60\n",
       "1994                   121\n",
       "1995                   219\n",
       "1996                   263\n",
       "1997                   289\n",
       "1998                   379\n",
       "1999                   338\n",
       "2000                   350\n",
       "2001                   483\n",
       "2002                   832\n",
       "2003                   778\n",
       "2004                   764\n",
       "2005                   939\n",
       "2006                  1009\n",
       "2007                  1199\n",
       "2008                  1427\n",
       "2009                  1426\n",
       "2010                  1255\n",
       "2011                  1137\n",
       "2012                   653\n",
       "2013                   544\n",
       "2014                   581\n",
       "2015                   606\n",
       "2016                   502"
      ]
     },
     "execution_count": 26,
     "metadata": {},
     "output_type": "execute_result"
    }
   ],
   "source": [
    "year_of_release_pt = pd.pivot_table(data, index='year_of_release', values='name', aggfunc='count')\n",
    "year_of_release_pt.columns = ['сумма игр']\n",
    "year_of_release_pt"
   ]
  },
  {
   "cell_type": "code",
   "execution_count": 27,
   "metadata": {
    "scrolled": true
   },
   "outputs": [
    {
     "data": {
      "image/png": "iVBORw0KGgoAAAANSUhEUgAAA4EAAAEYCAYAAADiXPNuAAAAOXRFWHRTb2Z0d2FyZQBNYXRwbG90bGliIHZlcnNpb24zLjMuNCwgaHR0cHM6Ly9tYXRwbG90bGliLm9yZy8QVMy6AAAACXBIWXMAAAsTAAALEwEAmpwYAABWAUlEQVR4nO3dd5xTVfrH8c/DUAeQIiC92EYUBRTE7oi9Y4FVQUFBrLi66lrQn67KKiuuXVcsgDp23RV7QccOCoqiIggICCKIIAJDHc7vj3PDZGYyfZI7Sb7v1+u+kpx7c++TnAnkyWnmnENERERERETSQ62wAxAREREREZHEURIoIiIiIiKSRpQEioiIiIiIpBElgSIiIiIiImlESaCIiIiIiEgaURIoIiIiIiKSRmqHHYCISE1gZga0AloDOOe+DjciERERkfgwrRMoIunKzGoDNwMnAjsCdYJdi4COTv9AioiISApSS6CIpBQzawZcgU/stg+K5wEvA2OccyujDv8ncCWwAngNmA8sARYAdYENiYlaREREJHHUEigiKcPM2gEfAV2Cop+D2w7B7U/AAc65X8ysCbA0OKa3c+6PRMYqIiIiEhZNDCMiqeQBChLAs5xzHZ1zHYHBQVmX4BiAfYF6wG/AK2a2yszyzGyKmQ2InNDMOpuZC7YhFSmLOscRZvaemf1pZuuDaxxf5JjGZvZvM/vJzDaa2RIz+4+ZNS3tBUdd88bg8ZCoss6lxHtjrHjNbEczezK4/kYz+8XMHipyzdyo50Zv86OOyTCzy83sOzPbELz298zs0DJez5Ai51xnZj+a2VVRx4wver0S4suN8T7F2oaY2S5Rj4+Oel7fqPJdzCw76nF2cEy5yqLOeZqZTTaztcH2npntH7U/1vli1Wux96GM135jjPeq0N+GmdUO/j6dmX1oBd4Nyr40s7olvO9b/6aCx3XMbHZ0WZEYi25Ni/xd9jWz6eY/M1+b2YGxrht13vElnLfo+9HAzEaZ2Rzzf+MrzOwVM9uzjPPfWMK5+wX7O5rZ42b2q5ltMrPFZjbWzFqV8p4X3W6MOq6Tmb1hZj+b/xysM7NvzexSM7Oo4+ZHPX/PqPLvSvobFBFREigiKcF8N9DjgocfOueeiOxzzj2ObyEEON58YtUseLwvcACwCvgD2Bt41szOq6a4TgXeBA4JrvFzcI2Xg30EX6pzgcuAtsBMoDFwHjDJzOoUP3PxS1Ugpnb4brBFy3cEvgAG4ifJmQtsAY4s4VSrgSnA8hj7HgLGALviX/NG/HvwtkUlWWWYDizEj9e8zcwOKOfzSrMYH/P06ELn3A/ApODhOVG7Tg1upwTHVImZXQ48DfTBdz3+Hf++vG9m+1b1/FXlnNuMr/+1wIHARcAFwKHAOuAM59zGcp7uYmCnUvZH/n4i2+Yi+1/Bd8t2wB7A60UTqhJsjDrn6hj7JwLXAjvg/8Zr4//t+NjMepTj/BSJe0UQ12fAmUBTYDbQEjg3OG+jEs4zLzhHLC2Bo4L7M4E/gd2AO4ELS3jOCPA/XuA/eyIiMSkJFJFUsRMF/6Z9GWN/pKxWcOyyqH0Tgc5AJwqSxZvNrDr+jfwXPkF7Cj/ZzE7AI0HZP4NjTgP2xH8J3tM51x3/ZS8/KB9Q9KRRNgW3TSoQ061AZozya/FfYDcDhzjnujrn2gMnFzkuI7j9wjm3D3485VZmtgMFidT9zrkd8a2wP+Lf/1vKGedJwH7A+uDxtuV8XmkeCWI+Kca++4PbE8ysRVD/kePGV/XCZpYJ/CN4eGvwvnQG3sZPSnRTVa9RHZxzc4C/Bg9vw/8NA1xe3kTYzLYF/q+Mw750zu0Tta0psv+vzrldgf3xiWAjfFJaliWRc1Lk3wIzOwQ4LHh4pXOuK7Az/gegBsD15Tg/ReL+MIirbRDngc653YATgsN3As6Oenr0jzo3BHHGMgfo4pzr4JzbE2gDfBjsO62E55xmZi3wCbiISImUBIpIKoo12LloWX7U/Wedc1ucc5uAF4KylviksNLMrCUF3VPPALYE3eKGBWU7BV+W+wSPawPfBsfMpyDZKulLIvgWB4AzzOxO4C9lhNULGETxVhei4vg4+GILgHOuaFJdP7gtaeKcvShomXwqOMdq4NWgrIeZZcR6YhE/4VsZ6+MTpTeK7O9kBV1GZ5jZoHKcszQT8a2WdfHv0f74JUM2AM9U8dzgE/uGwf1rgnrOB44IymLV8/vBceNKOW/kfXDAwaUcd0Nw3O9m9qqZldhK55x7FPhfEG9D4DXn3IOlnLuoGyn4QaGyng1i+RL/AwJAtyqcD6B31P3I3+avwPtBWa8qnneOc+6L4LxvApGJqKLPu03U/VgtlRGbgL+b2QIz24T/Wzko2Nc2xvGr8J+Vm/EJ6KoKvQIRSSuaHVREUsWP+K6LtfCtZ0VFyrbgf2EvrZtaPPxE4dbHiOhWgU3EbsVcWsp5LwEexbcoXVqOOM7DJ2gPEnQdq4RIi9zvlXx+eU0PbrsD2fhutB9H7d8IfIVP2LsBE8xsWmUv5pzLN7Ox+C/R5+DfU4CX4zBx0A8U/5Ie68eLSDfAlhTMdltU5H0A3wWwcQnHLQ62XYBjgeb4HyeKMb98Sruoog5mVs85V94Zc88H8vBdX4eW8znpYseo+4tLOe4uCn4w+hE/i/EOQAsKfiCK9jrQF//eg2+9/muM40RE1BIoIqkhWPoh0tJ0sJmdGdkX3I/8gv5KcOz3FHQz/IuZ1QrG3kXGgP2GXyqiKjH9hm/RA/gW300s0k1tAL5L4K/4cXjgf5i7NOqYA/DdB58s5RrvOee6OOfMOWcU7nYWS218EnxfjH2RsUkHWOGJSnpE3T+VguTouxKuMY2ChOb04HmNKRizOd05lx/riUWc5Jzrie9uWjdyrihLgvdpJ3yLSy18a1tVPIxPqnan4Av4hCqeM+I7fGIE8B6wb1RdDwFuiPGcC4P9N5dy3hK7PxbxiHOuDwUTJe1RyrE34lu3fg22PSjovlwetfFjQhdV4DlF9Yetf3+RH22+rcL5oOCzBkECbGat8eMyAaZW8bw7mlnv4LxHUTD2eGpQVoeCJG09pb+eSMvw2865nfE/hJSWNG4Exgb3F+DHVIqIxKQkUERSyYUUJF2PB92oFgCPB2U/BccQjD+6LSg/IXjefPxkGADXO+e2FDn/9WY2GfhvOcoiY4uuDm6PB5aY2Vdm9ktwrcuCfU/jW70M+DSY1W8mvqXodQqSrupyJf4LY1H/xI+Nqg18aGbfm9lCgtdmZucDzwdxLqOELorOubnAY8HDi81sDv693wnfEntdOeP8r5l9BRwTPJ5bZH9zM7sL362vWXDukhLTcnHOLQVeDB42xCdAb5Vw+ANB3T9QjrJhzrk8CsYEXgj8Evw9LMO3+MVslatGR5nZ3fgED2BGrIOCCXgif7fn4Sc3AbgsmHCkPH6hYCxhZd1pZt8Bn+L/5tZS+H2tMOfc+8C7wcPbg8/ZLHzX1fWUnmyX5n78RD8GfGRm3+K7F4P/0SXyWZmNT+bA/1CSG/y9RAwzs8hr/Ca4PcLMZuG7KnegdPcD1+DrrDw/tIhImlISKCIpwzm3GN/t81Z8S1+rYPs+KNvLOfdL1PH/wH9Z+io4rhm+NewvzrmHKG57/Li5HuUo2yG4xrPA0fiWn7pAV/yXzefxLSUEXeyygX/jk8Od8N3/vsNPolLV1o9ouc65/8XaEUwI0hufVP0WxFEbPx4PfNfVpfikdZ8gYSrJefhk83v8F9d6+HFXRzjnio7tK0kPfIvcL8A9wL1F9jfGd3c7AZ/QnOmcm1nOc5fm/qj7T5bSatkVX/ddy1HWHsA59y/87JuT8WPDIpOSTMBPGBRPffDdhzvgW83PLHqAmW0DPIHvbviEc26ic+5VfJdjw3e5bVb0eTGMdM6trWK8x+LHY2bg6/fYMv7myusE/A8e8/Cf0y3492N/59z0ypzQObcM33L3BL4+s/CfoUeC80Ymvekc9bQG+DrpE1XWjoJZPf8GvAyswf+t304ZrXvOuaXOuducc+9U5nWISPrQYvEiItXI/BpuPwETnHNDwo1GKiOY0OdXgu6lzrnvq3CubHzy+w/n3I3VEV8qC9bJuwEg6N6cUoLJez5wzmVXZr+ISHVRS6CIiAgQLAuRg18mpBZ+RsxKJ4AiIiI1lWYHFRGpXkvwC9D/FnYgUmGN8OPy1uO7wFbHrJZf4v8eqjJBiqSOffGzvVZ2v4hItVB3UBERERERkTSi7qAiIiIiIiJpJCW7gzZt2tTtuOOOZR8oNdratWtp2LBh2GFIFagOk5/qMPmpDpOf6jD5qQ6TXzLW4bRp05Y751rG2peSSeB2223H1KmVXe9Vaorc3Fyys7PDDkOqQHWY/FSHyU91mPxUh8lPdZj8krEOg7WSY1J3UBERERERkTSiJFBERERERCSNKAkUERERERFJIyk5JjCWTZs2sWjRItavXx92KCmrfv36tG/fnjp16oQdioiIiIiIlCBtksBFixbRuHFjOnfujJmFHU7Kcc7x+++/s2jRIrp06RJ2OCIiIiIiUoK06Q66fv16tt12WyWAcWJmbLvttmppFRERkbjIyYHOnaFWLX+bk1OzzytSk6VNSyCgBDDO9P6KiIhIPOTkwPDhkJfnHy9Y4B8DDBxY884rUtOlVRIoIiIiIsln5MiCRC0iLw8uugjmzwcz35IXuY2+X1rZ1VfHPu/IkUoCJbXFLQk0s8eA44BlzrluRfZdDowBWjrnlptvQrobOAbIA4Y4574Mjh0MXBc89Rbn3IR4xVxURkYGu+++O845MjIyuO+++9hvv/0SdXkRERERARYujF2+ahVcd13sffG4nkiqiGdL4HjgPuDx6EIz6wAcAUR/vI4Gdgq2PsCDQB8zaw7cAPQCHDDNzCY651bGMe6tGjRowPTp0wF46623uOaaa/jggw8ScWkRERERCbRrB4sWFS/v2BF+/BGcgy1bit+WVbbPPrB4cfHzdugQ/9ckEqa4TQzjnPsQWBFj153A3/FJXcSJwOPOmww0NbM2wJHAO865FUHi9w5wVLxiLs2ff/5Js2bNtj4ePXo0u+++O927d+fqq68GYO7cuRx11FHstddeHHjggfzwww8ADBkyhC5dutCjRw969OjBp59+yvr16zn77LPZfffd6dmzJ++//36xa37zzTf06tWLnj170rt3763nu+mmm+jduzfdunVj+PDhOOeKPbei13zhhRdo3rw5PXr0oHXr1owZM6Za3z8RERGRynAO2rQpXp6ZCf/8J9StC/XqQYMGvqxRI2jcGJo0gWbNoHlzaNECWraE7bbz52rbFtq3h9Gj/XOK6tEj7i9LJFQJHRNoZicCi51zXxeZRKQd8HPU40VBWUnlCbFu3Tp69OjB+vXrWbJkCe+99x4Ab7zxBi+//DJTpkwhMzOTFSt8rjt8+HD+85//sNNOOzFlyhQuvPDCrc+5/fbbOfXUU7ee+4477sDMmDFjBj/88ANHHHEEs2fPpn79+luP2WOPPZg6dSoA1157LRMmTODWW2/l4osv5v/+7/8AOPPMM3n11Vc5/vjji8VfkWvm5+fTr18/HnvsMW688cbqfSNFREREKmncOPjiCzjtNPjsM99Vs2NHGDWq6uP2Is8fOdKft0MH2GEHmDgRbrvNjxkUSUUJSwLNLBO4Ft8VNB7nHw4MB2jZsiW5ubmF9jdp0oTVq1dX6JwNGjTgo48+AmDKlCkMGjSIKVOm8Prrr3P66aeTn5/P6tWrqVOnDkuWLOHTTz/llFNO2fr8DRs2sHr1ajZt2sS6desKXT83N5fzzjuP1atX065dO9q3b89XX31Ft26Fhk/y1ltvccUVV5Cfn8/LL7/M6tWref3117nrrrtYt24dK1euZMcddyQ7O7vQ8yp6zeXLl9OoUSNWr17Nhg0bqFOnToXfL/BLcRR97ytrzZo11XYuCYfqMPmpDpOf6jD5pXMdLlrUgIsu6kXPnn9y7rlfc955hfdXx9vSrh2MH1/wOD8fatXqyjXXbMeSJbM56aRfqnyNdK7DVJFqdZjIlsAdgC5ApBWwPfClme0NLAaie1+3D8oWA9lFynNjndw5NxYYC5CVleWKJkUzZ86kcePGFQ468pzDDjuMFStWsH79eurWrUv9+vULnc85R9OmTfnmm2+KnaNOnTo0aNCg0PG1a9cmMzNza1lGRgYNGzYsFuOpp57Kqaeeyq233sqkSZPYddddufzyy5k6dSodOnTgxhtvxDlX7HkVveaSJUvYfvvtady4MfXq1aNevXqVer/q169Pz549K/y8WHJzc4slt5JcVIfJT3WY/FSHyS9d63DTJth/f9/Nc+LEZrRvn52wax90EPTvD/fcszN77rkzgwdX7XzpWoepJNXqMGGLxTvnZjjnWjnnOjvnOuO7du7pnPsVmAicZd4+wCrn3BLgLeAIM2tmZs3wrYhvJSrmaD/88AP5+flsu+22HH744YwbN468YE7hFStWsM0229ClSxeef/55wCeFX3/9dYnnO/DAA8kJViOdPXs2CxcuJCsrq9Axq1at2jrer379+nz77bdbF2Nv0aIFa9as4YUXXij3ayjpmhs3buSVV17h2GOPLfe5REREROLpxht9N9CHH/bj9xKpTh145hk47DA45xyowNctkaQQzyUinsa34rUws0XADc65R0s4/HX88hBz8EtEnA3gnFthZjcDXwTH3eScizXZTFxExgQGsTBhwgQyMjI46qijmD59Or169aJu3bocc8wx/POf/yQnJ4cLLriAW265hU2bNnHaaafRvXv3mOe+8MILueCCC9h9992pXbs248ePp169eoWOee+997aO/WvUqBHjxo2jadOmnHvuuXTr1o3WrVvTu3fvcr+ekq45YMAAvvvuO/r37w/Ar7/+SkZGBmeccQZt27atxDsnIiIiUnkffgi33gpDh0LUSJuEql8f/vc/OPJIOOMMP4HMMceEE4tIdbNYM0smu6ysLDdr1qxCZTNnzqRr164hRVSzZWdnF+vjfMUVV3DxxRfTuXPnCp2rOt/nVGt2T0eqw+SnOkx+qsPkl251+McfsMcefsbPr77ys32GadUq6NsXvv8e3ngDKlMV6VaHqSgZ69DMpjnnesXal7DuoFJzRVobow0aNIiWLVuGEI2IiIikK+fg/PNhyRJ46qnwE0DwS0289RZsvz0cfzxMmRJ2RCJVpyRQ6Nu3b7GyHj160LBhwxCiERERkXT1xBPw7LPwj39ABUa8xF2LFvDOO36dwaOPhhjzAIokFSWBIiIiIhK6uXPhoov8zJxXXRV2NMW1bQvvvgsNG8Lhh0ORkUciSUVJoIiIiIiEavNmGDQIMjJ8a2BGRtgRxda5s08Ewc8cOn9+mNGIVJ6SQBEREREJ1S23wOTJ8NBD0LFj2NGULisL3n4b1qzxieCSJWFHJFJxSgJFREREJDSffAI33wxnnQV/+UvY0ZRP9+7w5puwdKlPBJcvDzsikYpREigiIiIioVi1yncD7dwZ7r037Ggqpk8feOUVmDfPryW4alXYEYmUn5LAEuTk+H+QatXytzk5YUckIiIiklouvhh+/hmefBK22SbsaCouOxtefNHPFnrssbB2bdgRiZSPksAYcnJg+HBYsMCvV7NggX9c1UTw8ccfZ4899qB79+6ceeaZrF69mi5durBp0yYA/vzzz62Ps7Oz2WeffbY+96qrrsLMAL9YpZnx5ptvArBy5UoaNGjAjTfeCMDDDz9M79696d69O6eccgp5eXnFYrnxxhsZM2YMAO+++y5mxtSpUwHIyMigR48e9OjRg8MOOwzwC8r/9a9/pUePHnTr1o3PP/+8am+GiIiIpLWnnvLJ3//9H+y7b9jRVN4xx/jX8tlncNJJsGFD2BGJlK122AGE4dJLYfr0kvdPnlz8A5yXB0OHwsMPx35Ojx5w110ln/O7777jlltu4dNPP6VFixasWLGCxo0bk52dzWuvvUa/fv145plnOPnkk6lTpw4Azjm+//57srKy+PLLLwut27fnnnvy+OOPc9RRR/HUU0/RvXv3rftOPvlkzj33XACuu+46Hn30UUaMGFFibDfddBM77rjj1scNGjRgeow3KC8vj+nTp/Phhx9yzjnn8O2335b8gkVERERKMH8+XHAB7LcfXHtt2NFUXf/+vhXw7LPhtNPguecg+DonUiOpJTCGkn7BqcovO++99x79+/enRYsWADRv3hyAYcOGMW7cOADGjRvH2WefvfU5Z599NuPGjeONN97gqKOOKnS+Nm3asGHDBlasWMHEiRM54YQTtu779ttvOfDAA9l9993Jycnhu+++KzGuF198kd69e9OuXbsyX8Ppp58OwEEHHcSff/7JH3/8Ub4XLyIiIhKILAcBviWwdoo0SQwZ4sc1/u9/PhncsiXsiERKliIfu4oprcUO/BjABQuKl3fqBLm51RvL/vvvz/z588nNzSU/P59u3bpt3derVy9efPFF5s2bxwMPPMANN9xQ6LlnnHEGV111FVlZWdStW5eNGzcCMGTIEP73v//RvXt3xo8fT24JQefn53P77bfz6quvcuqpp5YZa6Q7akmPRURERMpy221+RtAnn4QuXcKOpnpdfDGsXu1bNxs1ggcfBH1dkppILYExjBoFmZmFyzIzfXll9e3bl+eff57ff/8dgBUrVmzdd9ZZZ3HGGWcUagWM6N+/P82aNWO77bYrtu/444/nq6++4pxzzilUvnr1atq0acOmTZvIKWUg45NPPskxxxyztXWyLM8++ywAH3/8MU2aNKFJkyblep6IiIgIwJQpcOONcMYZMHBg2NHExzXX+O2hh+C443wjQt++B2uiQalR0rIlsCyRf5RGjoSFC/2ipaNGVe0fq912242RI0dy8MEHk5GRQc+ePRk/fnxwvYFcd911W7tbRhs+fDjDhw+Pec66detunczl3Xff3Vp+880306dPH1q2bEmfPn1YvXp1zOcvXbqUv/3tb+V+DfXr16dnz55s2rSJxx57rNzPExEREVm92id/7dvD/feHHU18jRoF06bB669HSmzrRIOQugmwJA9zzoUdQ7XLyspys2bNKlQ2c+ZMunbtGlJEpXvhhRd4+eWXeeKJJ8IOpUTZ2dmMGTOGXr16lXpcdb7Pubm5ZGdnV8u5JByqw+SnOkx+qsPklyp1ePbZ8Pjj8MEHcMABYUcTf506+caEWOXz5yc8HKmiZPwcmtk051zML+9qCQzZiBEjeOONN3i94KciERERkZTy3HMwfjxcf316JIDg1z+MJVZiKJJoSgJDdu+994YdQrmUNLmMiIiISGl+/hnOOw/69PFJYLro2DH2RIOtWiU+FpGi0mpimFTs+lqT6P0VERGRaPn5cOaZflmInJz0Wjsv1kSDZrB0Kdxwg39PRMKSNklg/fr1+f3335WoxIlzjt9//5369euHHYqIiIjUELff7scA3nsv7LBD2NEk1sCBMHasHwNo5ujUCR55BAYPhptuguzs2C2FIokQt+6gZvYYcBywzDnXLSi7HTge2AjMBc52zv0R7LsGGArkA5c4594Kyo8C7gYygEecc7dVJp727duzaNEifvvttyq9LilZ/fr1ad++fdhhiIiISA0wdarv/jlggE980tHAgX7Lzf1g66Qi55wDhx8OF1wAPXr4xPCUU0INU9JQPMcEjgfuAx6PKnsHuMY5t9nMRgPXAFeZ2a7AacBuQFvgXTPbOXjO/cDhwCLgCzOb6Jz7vqLB1KlThy6ptiKpiIiISA2Sk1OwxFZGBjRuDP/5jxZML2rgQNhnHzj9dDj1VL90xJ13Fu8+KhIvcesO6pz7EFhRpOxt51ykB/RkINJsdCLwjHNug3PuJ2AOsHewzXHOzXPObQSeCY4VERERkRokJ8cnMwsWgHN+zFteXvRaeRJthx3g44/hqqt8t9HevWHGjLCjknQR5pjAc4A3gvvtgOiJdBcFZSWVi4iIiEgNMnKkT/qibdjgyyW2unXhttvg7bdhxQqfCN5/v0+iReIplCUizGwksBnIqcZzDgeGA7Rs2VJLGqSANWvWqB6TnOow+akOk5/qMPklSx0uXHgwULzf58KFjtzcDxIfUA1SVh3WqQMPPFCH0aN34eKLt+Xpp5dz5ZU/0KSJphCtKZLlc1heCU8CzWwIfsKYQ13BVJ2LgQ5Rh7UPyiilvBDn3FhgLEBWVpaLDL6V5JWbm4vqMbmpDpOf6jD5qQ6TX7LUYdu2sDjGt7SOHS0p4o+n8tbhiSfCPffA3//egosuOoCcHDj44PjHJ2VLls9heSW0O2gw0+ffgROcc9EdBiYCp5lZPTPrAuwEfA58AexkZl3MrC5+8piJiYxZREREREr355+xJ3/JzPTr5Un51KoFl14Kkyf79+6QQ+D//k9rCkr1i1sSaGZPA58BWWa2yMyG4mcLbQy8Y2bTzew/AM6574DngO+BN4GLnHP5wSQyFwNvATOB54JjRURERKQG2LwZTjsNlizxk5z4dfH87dixfiZMqZg994Qvv/RLa9x8s28N1JqCUp3i1h3UOXd6jOJHSzl+FFDstyLn3OuA5pUSERERqYEuuwzeeAMeesjPDnpbpVZ0lqIaNYJx4/yaguef79cUfPhhv6SESFWFOTuoiIiIiCSxe+6B++6DK67wCaBUvzPOgOnTYeedoX9/OO+84rOwilSUkkARERERqbBXX/WtgP36qfUv3rbfvvCagr16wa23QufOfhxh585+nUaR8lISKCIiIiIVMn26HwfYsyc8+SRkZIQdUeqrU6dgTcHFi+Haa/04Qef87fDhSgSl/JQEioiIiEi5LV4Mxx0HzZrBK69Aw4ZhR5ReDj8cttmmeHleHowcmfh4JDmFsli8iIiIiCSfNWvg+ONh1Sr45BNo0ybsiNJTrPUYARYuTGwckrzUEigiIiIiZcrP98s9fP01PPss7LFH2BGlr44dK1YuUpSSQBEREREp05VXwsSJfkbQY44JO5r0NmqUX0w+WmamLxcpDyWBIiIiIlKqBx+EO++ESy6Biy4KOxoZONDPEtqpk39ct65/PHBguHFJ8lASKCIiIiIleustGDECjj0W/v3vsKORiIEDYf58uP122LgR9tsv7IgkmSgJFBEREZGYZszwC5R36wZPP62lIGqi/v397fPPhxuHJBclgSIiIiJSzK+/+qUgGjf2C8M3bhx2RBJLp07Qpw8891zYkUgyURIoIiIiIoXk5cEJJ8Dy5X4twPbtw45IStO/P0ybBnPnhh2JJAslgSIiIiKy1ZYtcNZZMHUqPPUU7Lln2BFJWU491d+qS6iUl5JAEREREdnq2mvhxRfhjjvgxBPDjkbKo1Mn2GcfdQmV8lMSKCIiIiIAPPIIjB4NF1wAl14adjRSEQMGwFdfwZw5YUciyUBJoIiIiIgwaZJP/o480i8IbxZ2RFIR6hIqFaEkUERERCTNzZwJp5wCu+ziuxTWrh12RFJRHTrAvvuqS6iUj5JAERERkTS2bJlfCL5+fb8UxDbbhB2RVNaAATB9OsyeHXYkUtMpCRQRERFJU+vXQ79+fk3AiRP9BCOSvNQlVMorbkmgmT1mZsvM7NuosuZm9o6Z/RjcNgvKzczuMbM5ZvaNme0Z9ZzBwfE/mtngeMUrIiIiki5ycnzC16ABfPYZnHsu7L132FFJVbVvD/vvry6hUrZ4tgSOB44qUnY1MMk5txMwKXgMcDSwU7ANBx4EnzQCNwB9gL2BGyKJo4iIiIhUXE4ODB8OCxcWlD3yiC+X5DdgAHzzDcyaFXYkUpPFLQl0zn0IrChSfCIwIbg/AegXVf648yYDTc2sDXAk8I5zboVzbiXwDsUTSxEREREph7w8uOQSf1u0fOTIcGKS6nXKKX5mV3UJldIkekzgds65JcH9X4HtgvvtgJ+jjlsUlJVULiIiIiLltHAhXH21n0FyRdGf6KOOkeTXrp26hErZQpsA2DnnzMxV1/nMbDi+KyktW7YkNze3uk4tIVmzZo3qMcmpDpOf6jD5qQ6TX2Xr0DmYMaMJL73Ujo8+agnAAQcsZ8aMJqxcWbfY8a1arSc3d3JVw5UYEv057NmzHffeuxMTJnxOp055ZT9BypRq/5YmOglcamZtnHNLgu6ey4LyxUCHqOPaB2WLgewi5bmxTuycGwuMBcjKynLZ2dmxDpMkkpubi+oxuakOk5/qMPmpDpNfRetw/Xp45hm/4PtXX0GzZnDFFXDhhdCpU8utYwKju4RmZsIdd9TX30qcJPpzuPPOcN99sGDB3gzWtIrVItX+LU10d9CJQORPcTDwclT5WcEsofsAq4Juo28BR5hZs2BCmCOCMhERERGJ8ssvcP310LEjnH02bNwIDz0EixbB6NEFyz8MHAhjx/rHZv527FhfLqmhbVs48EB1CZWSxa0l0MyexrfitTCzRfhZPm8DnjOzocACYEBw+OvAMcAcIA84G8A5t8LMbga+CI67yTlXQk92ERERkfQzeTLcfTe88ALk58Pxx/vJX/r29UleLAMHKulLdQMGwMUXw3ffwW67hR2N1DRxSwKdc6eXsOvQGMc64KISzvMY8Fg1hiYiIiKS1DZu9LM/3nMPfP45bLMNjBgBF10EO+wQdnRSE5xyiv+beP55JYFSXKK7g4qIiIhIOeTkQOfO0LfvwXTu7B8vXQo33eS7cA4aBH/84cd+LV4M//63EkAp0Lo1HHSQloqQ2CrUEmhmdfBj8pxzrliLnoiIiIhUXeHJW4wFC9g6wUd+Phx9tO/yecQRUEs/6UsJBgzwrcPqEipFVfSfjVr4cX7Z1R6JiIiIiAB+4faiC7rn5/tZPGfNgtdfh6OOUgIopTv5ZP83oglipKiK/tOxETgE6BuHWERERESEkhduX7PGT/8vUh6tW8PBB/sk0FXb6tySCspMAs3s/8xsV/B9QJ1zHzjnPoh/aCIiIiLpqVWr2OUdOyY2Dkl+AwbADz/At9+GHYnUJOVpCbwR6BbnOEREREQE/2V99eriyztkZsKoUeHEJMlLXUIllvJ2Bz3YzM6K3uIalYiIiEgamjfPT/bStKmf7dMv6O60oLtUWqtWkJ3tZwlVl1CJKO/soOcHG4ABDng8LhGJiIiIpKElS+Dww2HDBvjwQz+b46WXQm7uB2RnZ4cdniSxAQPg/PNhxgzYY4+wo5GaoLxJ4EuAehKLiIiIxMHKlXDkkX4dwEmTNJ2/VK+TT4YLL/RdQpUECpQ/CXzeOaeexCIiIiLVbO1aOO44v/TDa69Bnz5hRySppmVL6NvXJ4E331x8vKmkn/KMCfwAWBbvQERERETSzcaNcMopMHkyPP00HHZY2BFJqhowAH78Eb7+OuxIpCYoTxI4GJhnZh2jt3gHJiIiIpLK8vPhrLPgrbf8pC8nnxx2RJLKTjoJMjI0S6h45UkC5wM/FdnmxTEmERERkZTmHFx0ETz7LPzrXzB0aNgRSapr0aKgS6hmCZXyJIEfFtl+wM8QKiIiIiKVcN118NBDcPXVcOWVYUcj6WLAAJg7F6ZPDzsSCVuZSaBzLts5d0hkA25OQFwiIiIiKemOO+Cf/4Thw/2tSKKoS6hElJkExhgL2CIBcYmIiEiaycmBzp2hVi1/m5MTdkTVb9w4uOIK6N8fHnhAszRKYm27rZ98SF1CpTxLRMzHLw4vIiIiEhc5Ob5lLC/PP16wwD8GGDgwvLiq03//C8OGwRFHwJNP+hYZkUQbMMCPQf3yS9hrr7CjkbBUdkygiIiISLUZObIgAYzIy/PlqWDSJDjtNL8G4EsvQd26YUck6apfP6hdW11C053GBIqIiEjoFi6MXb5gAcyendhYqtsXX/gv3jvvDK++Cg0bhh2RpLPmzdUlVEIaE2hml5nZd2b2rZk9bWb1zayLmU0xszlm9qyZ1Q2OrRc8nhPs71zV64uIiEjN0rGUFYizsqB7d7jlFpg1K3ExVYfvv4ejj4aWLeHtt/0XcJGwDRgA8+fDtGlhRyJhqcw6gXdX5YJm1g64BOjlnOsGZACnAaOBO51zOwIrgciKOUOBlUH5ncFxIiIikkJGjfITwkTLzIR77oG77oLGjeH662GXXWCPPZIjIVywwI//q1MH3nkH2rQJOyIRr18//3epLqHpqzJjAiNbVdQGGphZbSATWAL0BV4I9k8A+gX3TwweE+w/1ExzaYmIiKSS9u1hyxbfUmYGnTrB2LEwYgT89a/w8cewaBHcfTdss03hhPDmm+GHGjZjwdKlcPjhsHatbwHcYYewIxIp0KyZ//tUl9D0VeExgVFjAyvFObcYGAMsxCd/q4BpwB/Ouc3BYYuAdsH9dsDPwXM3B8dvW9nri4iISM0zejS0auUTvS1bfFe1orOCtmsHl1xSOCFs0gRuuAG6dq05CeGqVXDUUbB4Mbz2Guy+e7jxiMTSv79vrf7ii7AjkTCYS3D6b2bNgBeBvwB/AM/jW/huDLp8YmYdgDecc93M7FvgKOfcomDfXKCPc255kfMOB4YDtGzZcq/n1L6d9NasWUOjRo3CDkOqQHWY/FSHyS8Z6nDu3IYMG9aboUPnMWhQCTPElGL58rp8+GFLcnNb8u23TXDO6NJlDdnZv5Gd/RsdO+bx7ruteOSR7Vm2rB6tWm1g2LB5HHbYsmp/LevX1+Kqq/bg+++3YdSoGey998oqnzMZ6lBKVxPrcPXq2px88n6cfPJiLrhgbtjh1Hg1sQ7Lcsghh0xzzvWKtS+MJLA/PqkbGjw+C9gX6A+0ds5tNrN98UnhkWb2VnD/s6D76K9AS1dK4FlZWW5WTR8oIGXKzc0lOzs77DCkClSHyU91mPySoQ4HDYKXX/YzhDZrVrVz/fILvPgiPP+8bzF0znc1XboUNm0qOC4z03c3rc41CDdtgpNOgtdfh6efhr/8pXrOmwx1KKWrqXV43HEwY4Zveddgq9LV1DosjZmVmASWZ7H46rYQ2MfMMoF1wKHAVOB94FTgGWAw8HJw/MTg8WfB/vdKSwBFREQkecyfD88848f9VTUBBGjb1o8jHDHCJ4QvvQRXXFE4AQS/BuGwYX68XqtWfttuu4L7rVr5GT3r1Sv9ejk5fi3DhQuhQQN/3v/8p/oSQJF4GjDAd1n+/HO/hqWkj4Qngc65KWb2AvAlsBn4ChgLvAY8Y2a3BGWPBk95FHjCzOYAK/AziYqIiEgK+Pe//aygl11W/edu2xYuvtiPI4xl/XrIzfWthBs2xD6mSZPCiWF0sjhrlm9NjDw3L8/PuJhkPcYkjZ1wAtSt6yeIURKYXiqcBAbdNzcD/3PO5VXmos65G4AbihTPA/aOcex6fFdRERERSSHLl8Mjj/gume3bx+86HTv6CTCK6tTJt0Q6B2vWwLJlpW8//ui7mC5fXvKMips2+ZbB6uxmKhIvTZvCkUf67tO33158mRZJXZVpCRwPOOBnM7vYOfdq9YYkIiIi6eC++2DdOvj73+N7nVGjYPhw31IXkZnpy8GPhWrc2G/lWcohPx9+/x1at46dDC6s+Nw2IqHp3x9eeQWmTIF99w07GkmUyuT7jwNPAMuBl6o3HBEREUkHa9fCvff67mhdu8b3WgMH+m6bnToVXoOwsq11GRm+O2jHjrH3l1QuUhNFdwmV9FHhJNA5NyTYegHN4xCTiIiIpLhHH4UVK+CqqxJzvYEDfdfPktYgrIxRo3yLYrToFkaRZNCkiV/X8vnn/edD0kO5kkAz621m55rZJcE2AsA5tya+4YmIiEiq2bQJ7rgDDjgA9tsv7Ggqr7pbGEXCMmAALF4Mn30WdiSSKGWOCTSzS4E7Yuy6t9qjERERkZT37LN+3Nz994cdSdUNHKikT5Lf8cf75VCefx723z/saCQRytMSeDF+HT/w4wF/Bf4Tt4hEREQkZTkH//oX7LYbHHNM2NGICMA228DRR6tLaDopTxLYHngquP8UcDOwZ9wiEhERkZT1xhswY4afEVTT0YvUHP37wy+/wKefhh2JJEJ5/vldD6wGtgAXACcD3eMZlIiIiKSm226DDh3g9NPDjkREokW6hGqW0PRQniRwFtAReA/oBxwGTIljTCIiIpKCPvsMPvoI/vY3qFMn7GhEJFrjxr6L9gsv+LUwJbWVZ7H4Q/GLw2cClwX3745nUCIiIpJ6Ro+GZs1g2LCwIxGRWAYMgP/+Fz75BA46KOxoJJ7KTAKjloFYC1wb33BEREQkFc2cCS+/DNdfD40ahR2NiMRy3HFQv76fIEZJYGorszuomeXH2DYnIjgRERFJDbffDg0awIgRYUciIiVp1AiOPVZdQtNBecYEWrBtABYG28/xDEpERERSx6JF8OSTcM450LJl2NGISGnatIFff/Xjdjt3hpycsCOSeChPEjgCmAfUA74FznTOdYlrVCIiIpIy7rrLrz12+eVhRyIipcnJgUcf9fedgwULYPhwJYKpqMwk0Dl3P7AzMAY4Fhgb76BEREQkNaxcCQ895Cec6KKfkEVqtJEjYd26wmV5eb5cUkuZE8OY2eHA34G+wAz8YvEiIiIiZXrwQVizxi8OLyI128KFFSuX5FWe7qBv4RPAdcAK4EIzmxTXqERERCTprVsHd98NRx4JPXqEHY2IlKVjx9jlDRrAihWJjUXiqzxJIPiJYTKBg4HsYBMREREp0YQJsGwZXHVV2JGISHmMGgWZmYXL6tTxP+jsthu88ko4cUn1K08S2CXGtn08gxIREZHklp8PY8ZA796QnR12NCJSHgMHwtix0KkTmPnbceNg2jQ/s+8JJ8DgwX6sryS38iSBroSt0sysqZm9YGY/mNlMM9vXzJqb2Ttm9mNw2yw41szsHjObY2bfmNmeVbm2iIiIxN+LL8Lcub4V0CzsaESkvAYOhPnz/Yy+8+f7xz17wtSpcN11fqbQbt3g9dfDjjQxcnL8Uhl9+x6cUktmlCcJ/CnGNq+K170beNM5twvQHZgJXA1Mcs7tBEwKHgMcDewUbMOBB6t4bREREYkj52D0aNhpJ+jXL+xoRKQ61K0LN98MkydD06Z+UfmhQ2HVqrAji5+cHL9ExoIF4Jyl1JIZFVksfh3wEfBhcFspZtYEOAh4FMA5t9E59wdwIjAhOGwC0C+4fyLwuPMmA03NrE1lry8iIiLxNWkSfPklXHklZGSEHY2IVKdevfzn++qrYfx43yr49tthR1U98vJg+nR45hn4xz98wpeXV/yYVFgyozxJ4PH4xC8TaA78xzl3SBWu2QX4DRhnZl+Z2SNm1hDYzjm3JDjmV2C74H474Oeo5y8KykRERKQGGj0aWreGM88MOxIRiYd69eDWW+HTT6FRIz8D8HnnwerV4cUU6bZZqxaldtt0DhYtgnffhfvvhxEj4Igj/MyoDRv6rq+nn+6TwKIJYEQqLJlhzpU9vM/MDLgNuBL4wTm3a6UvaNYLmAzs75ybYmZ3A38CI5xzTaOOW+mca2ZmrwK3Oec+DsonAVc556YWOe9wfHdRWrZsuddzzz1X2RClhlizZg2NGjUKOwypAtVh8lMdJr9E1+GsWY04//xeDB8+l9NP/7nsJ0iZ9DlMfqlchxs31uKxxzrz3HMdaNVqA1de+QN77fVHQmN4991WjBmTxYYNBV0P6tXLZ9CgBbRtu46ff85k4cJMfv7Zb+vXFxyXmbmZjh3z6NAhjw4d1m29367dOgYP3pulS+vHuKLjggvmcsopi8nIqNJUKXF1yCGHTHPO9Yq1r8wk0MzOBS4HdgReB251zn1W2WDMrDUw2TnXOXh8IH78345AtnNuSdDdM9c5l2VmDwX3nw6OnxU5rqRrZGVluVmzZlU2RKkhcnNzydaUcklNdZj8VIfJL9F1+Je/wJtv+l/KmzRJ2GVTmj6HyS8d6vDTT2HIEPjxR7jwQt8jIBF5r3PQoQMsXlzyMZGZTnfZBbKyCt+2bl3y5FWRMYHRLYINGvjnffWV7xr7yCPQvXv1vqbqYmYlJoHl6Q76EH5Slg1ANyDHzOZWNhjn3K/Az2aWFRQdCnwPTAQGB2WDgZeD+xOBs4JZQvcBVpWWAIqIiEg45s6FF16ACy5QAiiSbvbbz4+nu+wyePBB2GMP+OCD6r/Opk3wxRdw990wYEDpCaAZfPMNrF0LP/0Eb7wBd90F558PhxwCbdqUPntx4SUzHJ06wcMP+yUznn3W/9i1115w7bV+LcVkUpHF4hsAnYOtSxWvOwKfTH4D9AD+ie9ueriZ/QgcFjwG3/o4D5gDPAxcWMVri4iISByMGQO1a8Nf/xp2JCIShsxM+Pe/4cMP/di87Gy45BKfhFXWihXw2ms+0crO9j8w7b03XHopfP45HHQQNGsW+7kdO8Luu/vWu8qKLJnx3nsfbF0yw8wnoDNnwlln+fGR3bvHJ+mNlzKTQOdcrVhbVS7qnJvunOvlnNvDOdfPObfSOfe7c+5Q59xOzrnDnHMrgmOdc+4i59wOzrndi44FFBERkfAtXeoXlR482P+6LiLp64AD4OuvfQJ4770+Qfr447Inb3EOfvgBHnsMhg2Drl1h223huOPg9tt9t8zzzoPnnvOTu8yfD0895a+RmVn4XJmZMGpUfF9n8+Y+1nfegfx8n6QOHw5//BHf61aH2mUdYGaf49fme8Y5l2QNnSIiIpII99wDGzfCFVeEHYmI1AQNG/oumyedBOecAwce6HsKbN7s9y9YAOee65O+zEw/pvDTT33LH/gEa7/9fEvb/vv78XdFE72IgQP97ciRvotmx44+AYyUx9thh8GMGXDjjXDHHfDqq3DffXDyyYm5fmWUmQQCewGPAP82syeBsc65GfENS0RERJLF6tXwwAP+C8/OO4cdjYjUJNnZflxemzawZk3hfevWwS23+Pu77AL9+vmEb7/9/L8ltSrQ93DgwMQlfbFkZsK//uUnxxo2DE45xSfA990HbduGF1dJyvPWdgCuAuYDFwHTzewTMxsQz8BEREQkOYwd67s/XXVV2JGISE3UqFHJ4wLNYPlyP77u0Ud9q+Euu1QsAaxJ9trLj1UcPdpPRLPrrv7fyC1bwo6ssPKMCfzFOTcGOBl4DT9JzL7A02b2QJzjExERkRpswwY/EcQhh0Dv3mFHIyI1VceOJZdvu21iY4m3OnXg73/3XUT33NOPY+zbF2bPDjuyAmUmgWZ2pJlNBGYDxwJfAgOB+4Cz4hueiIiI1GQ5OfDLL2oFFJHSjRoVzuQtYdpxR5g0ybdwfv21Xzbj1lv9MhdhK09D6xv45O9t4NBgVs+ngSeA3+IZnIiIiNRcW7b4MTA9esARR4QdjYjUZIXX3PO3Y8eGO44vEcx8F9eZM+GEE/xSF716+bUOy5otNZ7KMzHMOOAO59z30YXBUg1VXS9QREREktTEiTBrlp+ivbQFl0VEIPzJW8LUurVf2uLll+HCC/1ah0VnSx0+3N9PxHtUYkugmWWZ2fHAsEgCaN5xZpYV/9BERESkpnLOT3zQpQv07x92NCIiyeHEE+H77/1kOZEEMCIvzy9zkQildQe9FxjqnHORguD+OYAmhBEREUlTOTl+uvfJk/2soM8+G3ZEIiLJo0mTkmdLXbgwMTGUlgTuiR8HWNS7QM/4hCMiIiI1WU6O77K0dKl/vHKlf5zIsSwiIsmutNlSE6G0JLBhCfszgAbxCUdERERqspEjfZelaInswiQikgrCni21tCRwLnChmTWNFJhZE+D8YJ+IiIikkS1b/OQFsSSqC5OISCoIe7bU0mYHfRy4DZhrZh8BDjgQaAZck4DYREREpIZYuxYGDy55f6K6MImIpIowZ0strSXwDuC/+KTvBOBEoHlQNib+oYmIiEhNsGAB7L8//Pe/cMYZ6bfgs4hIqikxCXTO5TvnTgEOAv4ebAc65051zm1JVIAiIiISno8+gt69Yf58eO01PwFMOi74LCKSSspcLN459zHwcQJiERERkRrk4Yf9osbbb+8Xhs8KVglO5wWfRURSQWndQUVERCQNbdoEI0b4pR8OPRSmTClIAEVEJPkpCRQREZGtfv8djjwS7rsPLr/cdwFt2jTsqEREpDqV2R1URERE0sO338IJJ8DixTB+fOmzgYqISPIKrSXQzDLM7CszezV43MXMppjZHDN71szqBuX1gsdzgv2dw4pZREQkVU2cCPvuC+vWwQcfKAEUEUllYXYH/SswM+rxaOBO59yOwEpgaFA+FFgZlN8ZHCciIiLVwDm/vEO/frDLLjB1KuyzT9hRiYhIPIWSBJpZe+BY4JHgsQF9gReCQyYA/YL7JwaPCfYfGhwvIiIiVZCXB6efDtdd528//BDatQs7KhERiTdzziX+omYvALcCjYErgCHA5KC1DzPrALzhnOtmZt8CRznnFgX75gJ9nHPLi5xzODAcoGXLlns999xziXo5Eidr1qyhUaNGYYchVaA6TH6qQ+/dd1vxyCPbs2xZPVq12sCwYfM47LBlYYdVLiXV4bJl9bjuum7MmdOIc8+dx2mn/Yx+Yq2Z9DlMfqrD5JeMdXjIIYdMc871irUv4RPDmNlxwDLn3DQzy66u8zrnxgJjAbKyslx2drWdWkKSm5uL6jG5qQ6Tn+rQL45+552+1Qxg6dL63HnnrnTtumtSrJUXqw4//RQuucS/pokT4bjjdgB2CCU+KZs+h8lPdZj8Uq0Ow+gOuj9wgpnNB57BdwO9G2hqZpGktD2wOLi/GOgAEOxvAvyeyIBFRCR9jRxZkABG5OX58mT02GOQnQ2NGsHkyXDccWFHJCIiiZbwJNA5d41zrr1zrjNwGvCec24g8D5wanDYYODl4P7E4DHB/vdcGH1YRUQk7TgHCxfG3rdgAXz+OWzenNiYKmvzZrjsMhg6FA46yMe+665hRyUiImGoSYvFXwX8zczmANsCjwbljwLbBuV/A64OKT4REUkjn3zil0wo7WfHPn2geXM49lgYMwamTYP8/MTFWJqcHOjcGfr2PZgOHaBnT7jrLt8N9M03fdwiIpKeQl0s3jmXC+QG9+cBe8c4Zj3QP6GBiYhI2pozB66+Gl58Edq2hXPP9QlVdJfQzEy4/XbYdlvIzYX334fXX/f7mjTxLW2HHOK7XXbvDrUS/JNrTg4MHx6J2Vi0CBYtgmHD4O67ExuLiIjUPDWpJVBERCQ0v/8Ol14KXbv6lrKbboLZs2HsWL916gRm/nbsWLjwQvjLX+DBB+GHH2DxYp98DRgAM2fC3/4Ge+4JLVrASSf55Oubb2DLloJrRlrratXytzk5lY/fOVi9GubPhyuuKD6OEeCddyp/fhERSR2htgSKiIiEbf16uO8+uOUWn0QNGwb/+Ae0bl1wzMCBlDkTaNu2cMYZfgPf8hZpJXz/ffjf/3z5ttv6FsKGDeG55/z1wY8xHD7c3x8wAFas8IlpebcVK2DTptJjLGl8o4iIpBclgSIikpa2bIFnn4VrrvEJ2DHHwL/+BbvtVj3nb98eBg3yG/hrRCeFsRKyvDw488yC58RSt65PJLfd1o/ry8oqeBzZrr4afvut+HM7dqyWlyYiIklOSaCIiKSdjz6Cyy+HL76AHj3g0Ufh0EPje81OnWDwYL85BxkZsSedcc63RBZN7CJbw4aUuah7vXrRYwK9zEwYNap6X5OIiCQnJYEiIpI2Zs+Gq67yXTPbtYPx433LW6InbjHzrXILFhTf16kT/N//Ve38ka6rI0fCwoWOjh2NUaPK7tIqIiLpQRPDiIhIylu+HEaM8F09333Xj/+bPdu3yiU6AYwYNcq3zkWrzta6gQP9JDHvvfcB8+crARQRkQJKAkVEJGWtXw+jR8MOO/hZPIcN80tAjBxZPAFLtIEDY886qmRNRETiTd1BRUQkJeTkRLo/QocOfgH3117zj487zieDu+4adpSFlWfWURERkeqmJFBERJJe4cXRfeL34IO+dW3SJOjbN9z4REREahIlgSIikpQ2bYK5c/3C7BdfHHtxdOeUAIqIiBSlJFBERGq0tWth1iyf7EVvc+aUvTj6zz8nJkYREZFkoiRQREQSJnrcXseOFFq24Pffiyd6M2cWXkYhI8NP8tK1K5x4or/t2hVOOSV2wqfF0UVERIpTEigiIglRdNzeggUwZAjcfDOsWAG//VZwbIMGkJUF++0HQ4cWJHs77ugXQi/q1lu1OLqIiEh5KQkUEZG4ys+HqVPhoouKj9vbvNmvZTdoUEGi17Wrn9ClIuv3FV4cvXgro4iIiBRQEigiItVu3jx45x2/TZoEf/xR8rEbN8Ijj1T9mlpuQUREpHyUBIqISJX98Qe8/z68/bZP/ObO9eUdOsDJJ8MRR8AVV8CiRcWfq3F7IiIiiaUkUEREKmzTJpgypaC1b8oU2LIFGjWCQw6Bv/7VJ3477wxm/jmbN2vcnoiISE2gJFBERIopmMXz4K3j63r3Lmjpe/99WL3aj9vr3RuuvdYnffvsA3XqxD6nxu2JiIjUDAlPAs2sA/A4sB3ggLHOubvNrDnwLNAZmA8McM6tNDMD7gaOAfKAIc65LxMdt4hIuig8i6exYAGceaZfeB2gSxc44ww4/HC/EHuzZuU/t8btiYiIhC+MlsDNwOXOuS/NrDEwzczeAYYAk5xzt5nZ1cDVwFXA0cBOwdYHeDC4FRGROLj22uKzeDoHzZvD55/7dfpEREQkeVVgAu7q4ZxbEmnJc86tBmYC7YATgQnBYROAfsH9E4HHnTcZaGpmbRIbtYhIepg0yXfVjGXlSiWAIiIiqSDhSWA0M+sM9ASmANs555YEu37FdxcFnyD+HPW0RUGZiIhUk8WL4bTT4LDDoHYJfUQ0i6eIiEhqCG1iGDNrBLwIXOqc+9Mi08cBzjlnZq6C5xsODAdo2bIlubm51RithGHNmjWqxySnOqz5Nm82XnqpHePHd2bz5loMGbKA7bZbz1137cyGDRlbj6tXL59Bg2aRm7ssxGilMvQ5TH6qw+SnOkx+qVaHoSSBZlYHnwDmOOdeCoqXmlkb59ySoLtn5JvGYqBD1NPbB2WFOOfGAmMBsrKyXHZ2drzClwTJzc1F9ZjcVIc12wcfwKWXwnffwbHHwj33wPbbdwFg990js3g6OnY0Ro3KYODAXYFdQ41ZKk6fw+SnOkx+qsPkl2p1mPDuoMFsn48CM51z/47aNREYHNwfDLwcVX6WefsAq6K6jYqISAX9+quf7TM7G9asgZdfhldege23Lzhm4ECYPx/ee+8D5s/XjJ4iIiKpJIyWwP2BM4EZZjY9KLsWuA14zsyGAguAAcG+1/HLQ8zBLxFxdkKjFRFJEZs3wwMPwPXXw/r1cN11cM01fsF2ERERSR8JTwKdcx8DVsLuQ2Mc74CL4hqUiEiK+/RTuPBC+Pprv6j7vffCzjuHHZWIiIiEIdTZQUVEJL6WLYNzzoH994fff4cXXoA331QCKCIiks6UBIqIpKD8fHjwQcjKgieegKuugpkz4ZRTwErqiyEiIiJpIbQlIkREJD4+/9x3/Zw2DQ45BO6/H7p2DTsqERERqSnUEigikqRycqBzZ6hVy98+9BAMHw777AO//AJPPw2TJikBFBERkcLUEigikoRycnzCl5fnHy9YAOef77t6XnYZ3HADbLNNuDGKiIhIzaQkUEQkCY0cWZAARmvdGu64I/HxiIiISPJQd1ARkSQzb55v+Yvl118TG4uIiIgkHyWBIiJJYM0aGD8eDj4Ydtih5OM6dkxYSCIiIpKklASKiNRQW7ZAbi4MGeK7eZ59NixZAv/8J9xzD2RmFj4+MxNGjQojUhEREUkmGhMoIlLD/PQTPP44TJjg7zduDGec4ZPBffctWOeveXM/NnDhQt8COGoUDBwYaugiIiKSBJQEiojUAGvXwgsv+C6fubk+0Tv0ULj5ZjjppOKtfuATPiV9IiIiUlFKAkVEQuIcfPSRT/yef96P+9txR7jlFjjzTI3vExERkfhQEigiEmc5OYW7bV52Gaxa5bt7zpsHjRrBX/7iu3vuv39Bd08RERGReFASKCISR7EWdb/0Un+/b1/4xz98d8+GDUMLUURERNKMZgctp5wc6NwZatXytzk5YUckkn7i+Tmsyrk3b4ZFi2DKFHjpJbj3Xrj6ajjrLBg6NPai7u3awaRJMGiQEkARERFJLLUElkOsX/KHD/f3q2NShqJdxTTDn0hx8fwclnbuY4+FxYsLtl9+Kfx48WJYutSP74tWuza0bQsbNsS+5i+/VC1mERERkcpSEliKzZvh669hxIjiv+Tn5cE55/hp3Js2Lbw1aVLy48zMwuN94p1giqSKkSNjfw4vvdS33m3eDPn5xbdY5UXLHnww9rnPPLN4cgd+aYZ27fzWvXvB/XbtfOLXrh20bFnQqrhgQfFzaNIXERERCYuSwCgrV8LkyfDJJ/Dpp75rV6xuXBEbN/rJHRYsgD/+8FtJv/pH1K5dOCn87jtYv77wMXl5cOWV0K+fuolVJ7W4JgfnfCvZDz/ArFkFt7ESKYDly/0aehVlBhkZfivpc+scjBlTOMFr2xYaNCj/dUaNKvxDD2hRdxEREQlX2iaBzsGcOQUJ3yefwPff+30ZGdCjhx/Ls99+cMUVvstXUZ06+aQx2vr1PjGMJIXR94s+XrUKpk2LHd+SJX7GwObNfcJS0ta6tY83lngmPYk598HVdu5k7dKbynW4bh3Mnu0TvOhkb9Ysv1RCRKNGkJXlE6dYP8q0aQPvv1+Q0NWuXXC/6Ba9L7pFvqTWuk6d4PLLq/ZeRF63foAQERGRmiJpkkAzOwq4G8gAHnHO3VbSsbNnN6Zz58JftNavh6lTCxK+Tz/1LQjgW+T23de3Juy3H/Tu7b94RuTnl/+X/Pr1/bbdduV7XSV9+WzRwn/5XLjQbz/9BB984BPHaLVrQ/v2xZPDuXP95BSRVsZEjZ+q3nNbuc6dn++PX7u25O2SS2J397vkEti0yddZvXoF9VfaVq+e7+YX7/cjrDFw8ajDoUPh3Xdhm20KEr6FCwt3tezUySd755zjb3fZxd+2besTtqIxg/8c3n67P64q4t1ap0XdRUREpCYxF2vASw1jZhnAbOBwYBHwBXC6c+772Mf3cjCVevX8FOwrV/oWt02b/P6ddvJrce23n9+6di38pT6WeLb0xPryOXZs7POvWgU//1yQHBbdFi3ySVFJMjJ80li7NtSpU7BV5PFTTxVuqYnYZhu44IKqvR8PPgh//lm8vH596NMndoJXtDttItSpU5AUrlgR+z2vWxd69vQJTK1aZd8WLZs0ybeWFVW/Phx4YPnHv8Xat3w5bNlS/Ny1avkfRWLFU96yH38s+KwV1bBh4QQvcrvTTv7vvizJ2jKazHJzc8nOzg47DKkC1WHyUx0mP9Vh8kvGOjSzac65XrH2JUtL4N7AHOfcPAAzewY4EYiZBEZs2ABvvAEHHOAXZ95/f9/i17JlxQOI1y/5Fe0q1qSJ37p1i70/P993Je3YMfaEFvn5cPDBPiHYtKlgi368fn3hx0WPjZUAgk/e7rqrwm9BISWNzVq/3r+eli1962nDhhXbDj00dpfe9u3ho4/8+dev99eP3C/v9p//xI5540afUG3Z4mOPvo1sscoj92MlgJH3YvXqgm6NkYS0vN0gMzLgoYdin3vLFjj99NjxlFYWve/7Ej6VZj7uqiyEHs8WNbXWiYiISLpIliSwHfBz1ONFQJ/yPNHMf8mvyarzy2ekpa9jx5LHOE2YULVrlDZ+av78+J37gw8qf97Ro2O3uN52m79mVbzxRskxv/lm5c9b2nvx2WeVPy/4uEo69333Ve3cpc2GWZUEUERERESqR7IkgWUys+FAMKppr63lrVqtJzd3cuwnpbBBg1oxZkwWGzYUzBpTr14+gwbNIjd3Wdqdu107uOyyVjzyyPYsW1aPVq02MGzYPNq1W0ZubpVCjlvMyfg+x/vcknhr1qwht6ofEgmV6jD5qQ6Tn+ow+aVcHTrnavwG7Au8FfX4GuCako/fy4FzmZnOPfmkS1tPPulcp07Omfnb6nwvEnPuLdV+7niJ1/uhOpSwvf/++2GHIFWkOkx+qsPkpzpMfslYh8BUV0K+lCwTw9TGTwxzKLAYPzHMGc6572If38t16jRVEzskuWQcgCuFqQ6Tn+ow+akOk5/qMPmpDpNfMtZh0k8M45zbbGYXA2/hl4h4rKQEEGDnnVcza1bCwhMREREREUkaSZEEAjjnXgdeDzsOERERERGRZFbG6ngiIiIiIiKSSpQEioiIiIiIpBElgSIiIiIiImlESaCIiIiIiEgaSYolIirKzFYDmh80+bUAlocdhFSJ6jD5qQ6Tn+ow+akOk5/qMPklYx12cs61jLUjaWYHraBZJa2JIcnDzKaqHpOb6jD5qQ6Tn+ow+akOk5/qMPmlWh2qO6iIiIiIiEgaURIoIiIiIiKSRlI1CRwbdgBSLVSPyU91mPxUh8lPdZj8VIfJT3WY/FKqDlNyYhgRERERERGJLVVbAkVERERERCSGpEkCzewxM1tmZt9GlXU3s8/MbIaZvWJm2wTldcxsQlA+08yuiXrOUWY2y8zmmNnVYbyWdFWNdTg/KJ9uZlPDeC3pqoJ1WNfMxgXlX5tZdtRz9grK55jZPWZmiX816aka6zA3+Ld0erC1SvyrSU9m1sHM3jez783sOzP7a1De3MzeMbMfg9tmQbkFn7M5ZvaNme0Zda7BwfE/mtngsF5TuqnmOsyP+hxODOs1pZtK1OEuwb+zG8zsiiLn0nfTEFRzHSbfd1PnXFJswEHAnsC3UWVfAAcH988Bbg7unwE8E9zPBOYDnYEMYC6wPVAX+BrYNezXli5bddRh8Hg+0CLs15OOWwXr8CJgXHC/FTANqBU8/hzYBzDgDeDosF9bumzVWIe5QK+wX086bkAbYM/gfmNgNrAr8C/g6qD8amB0cP+Y4HNmweduSlDeHJgX3DYL7jcL+/Wlw1ZddRjsWxP260nHrRJ12AroDYwCrog6j76bJnkdBvvmk2TfTZOmJdA59yGwokjxzsCHwf13gFMihwMNzaw20ADYCPwJ7A3Mcc7Nc85tBJ4BTox37OJVUx1KiCpYh7sC7wXPWwb8AfQyszbANs65yc7/y/k40C++kUtEddRh/KOU0jjnljjnvgzurwZmAu3w/59NCA6bQMHn6kTgcedNBpoGn8MjgXeccyuccyvxdX9U4l5J+qrGOpSQVLQOnXPLnHNfAJuKnErfTUNSjXWYlJImCSzBdxR8UPoDHYL7LwBrgSXAQmCMc24FvmJ/jnr+oqBMwlPROgSfIL5tZtPMbHgig5WYSqrDr4ETzKy2mXUB9gr2tcN/9iL0OQxfReswYlzQ9eV6dekNh5l1BnoCU4DtnHNLgl2/AtsF90v6v0//J9YAVaxDgPpmNtXMJptZv/hHLEWVsw5Los9hDVDFOoQk/G6a7EngOcCFZjYN34y7MSjfG8gH2gJdgMvNbPtwQpQyVKYOD3DO7QkcDVxkZgclOGYprKQ6fAz/n9lU4C7gU3ydSs1TmToc6JzbHTgw2M5MZMACZtYIeBG41DlXqKdE0Mqu6b9ruGqqw07OuV74YRR3mdkO1R+plESfw+RXTXWYdN9NkzoJdM794Jw7wjm3F/A0vk81+H8I33TObQq6MH2C78K0mMK/YrcPyiQklahDnHOLg9tlwH/xCaOEpKQ6dM5tds5d5pzr4Zw7EWiK72+/GP/Zi9DnMGSVqMPoz+Fq4Cn0OUwoM6uD/9KS45x7KSheGukiGNwuC8pL+r9P/yeGqJrqMPqzOA8/Vrdn3IMXoMJ1WBJ9DkNUTXWYlN9NkzoJtGA2OjOrBVwH/CfYtRDoG+xriB9E/QN+8oOdzKyLmdUFTgM0k1aIKlqHZtbQzBpHlR8BfFv0vJI4JdWhmWUGdYSZHQ5sds59H3Sx+NPM9gm6EJ4FvBxO9AIVr8Oge2iLoLwOcBz6HCZM8Ll5FJjpnPt31K6JQGSGz8EUfK4mAmcFM0zuA6wKPodvAUeYWbNg9rsjgjKJs+qqw6Du6gXnbAHsD3yfkBeR5ipRhyXRd9OQVFcdJut306RZLN7MngaygRbAUuAGoBF+9jqAl4BrnHMuaNYdh5/UwPCz290enOcYfLemDOAx59yoBL6MtFYddRh0Cf1vcHxt4CnVYeJUsA47479QbsH/qjnUObcgOE8vYDx+0p83gBEuWf4xSnLVUYfBf3IfAnXw/5a+C/zNOafuvglgZgcAHwEz8HUDcC1+LMtzQEdgATDAObci+KJzH37SlzzgbOfc1OBc5wTPBRjlnBuXsBeSxqqrDs1sP+Ch4By1gLucc48m9MWkqUrUYWt81/ptguPX4GcB/VPfTcNRXXWI//806b6bJk0SKCIiIiIiIlWX1N1BRUREREREpGKUBIqIiIiIiKQRJYEiIiIiIiJpREmgiIiIiIhIGlESKCIiIiIikkaUBIqISNIyMxdj+1/YcYmIiNRktcMOQEREpBqcHnV/UWhRiIiIJAG1BIqISNJzzj0TtX0MYGbZZvaJmf1pZr+Y2Tgzaxl5TrC/aCvi/JKuYWa5Ucflmdk0M+sW7JtvZsUW3jWz8cHx2cHjWC2XuWbW2Mz+MLNFZlY7OPaaYP/FweOzzOxrM1trZr+Z2UVFr21m55pZvpm9bGb1zGx/M5sZPGdtEPMR1fS2i4hIklISKCIiKcfMtgdeB7oB1wX3hwBPRB0W+T8wl8ItiWW5AXgb2BM4sch1W5hZgzKevzy43iWRAufcamAs0A7oFxQPBPKAJ8zsFGACsC1wNXALsLHItS8LzvEccIpzbkPw/HHBtW4Jzv+cmdWtwOsVEZEUo+6gIiKSio4CGgCPOufuMbMM4FTgCDNr6JxbCzQMjv3aOfeMmT1dznP/I7hdDbxQZN9vAGY2AxhQwvPXBtfrDNwTVX43cClwsZn9COwGPOacW2VmkXP93Tn3VAnn/Te+K+xZzrnNQVkD4MzgXBZ1bBdgVomvUEREUppaAkVEJB0U66oJ7BLcLq7guQYBVwCNgVFF9h0O3AXsDlxZkZM65xYDzwAHR533oQqc4nOgPXB9VNkYfGvoP4EjgOlBeVmtlSIiksKUBIqISCp6E98V8kwzG4FPppoAbznn1prZCRQkaU3M7LTgfkMzO76MczfHd8sEaFpk36/A78H9/ErEPSa4PRaY7pz7PHj8fHD7LzMbEWznFnnuPsBE4DozO7bIvmbA3viEUERE0pySQBERSTnOuXn4ROo7fCvYccB44KzgkL8BkUliRgKRrqAtgHvLOP09wOXA1/jxhtFmANcCHwbXrWjc3wDvBA8fiip/ARgKrABG48cl1ivyXId/fXPx4wi74BPd2cA5+NbJDyoak4iIpB7z/2eIiIikDzPLBeY754YUKb8RGOKc6xxCTE2AvfBJ6HZAZ+fcmkTHISIiqU8Tw4iISDoaD/wRozy3hPJE6AlMwo9RPFsJoIiIxItaAkVERERERNKIxgSKiIiIiIikESWBIiIiIiIiaURJoIiIiIiISBpREigiIiIiIpJGlASKiIiIiIikESWBIiIiIiIiaeT/AarWepxdzroUAAAAAElFTkSuQmCC\n",
      "text/plain": [
       "<Figure size 1080x288 with 1 Axes>"
      ]
     },
     "metadata": {
      "needs_background": "light"
     },
     "output_type": "display_data"
    }
   ],
   "source": [
    "#составим диаграмму роста\n",
    "year_of_release_pt.plot(style='o-', xlim=(1980,2017), grid=True, figsize=(15, 4), color = 'blue'); \n",
    "\n",
    "plt.legend(loc='upper left', title='Всего за год')\n",
    "plt.title(\"Общее число выпущенных игр по годам\", fontsize=14, fontweight=\"bold\")\n",
    "plt.xlabel(\"Год выпуска\", fontsize=11, fontweight=\"bold\")\n",
    "plt.ylabel(\"Сумма, шт.\", fontsize=11, fontweight=\"bold\");"
   ]
  },
  {
   "cell_type": "markdown",
   "metadata": {},
   "source": [
    "Рост числа игр начался с 1993, прирост с каждым годом был в пределах +100-150. Но в 2002 году случился рост х2, с этого момента с ростом гейм индустрия начала сильно меняться, качество, графика, механики, приставки сильно изменились. Наша цель-составить прогноз на 2017 год, поэтому для анализа берем современный период развития гейм-индустрии, начиная с 2002 по 2016 года."
   ]
  },
  {
   "cell_type": "markdown",
   "metadata": {},
   "source": [
    "<div class=\"alert alert-block alert-danger\">\n",
    "<h2> Комментарий ревьюера v1 <a class=\"tocSkip\"></h2>\n",
    "\n",
    "<b>На доработку🤔:</b>  Отлично, только давай подпишем оси, заголовок и легенду у графика на русском? "
   ]
  },
  {
   "cell_type": "markdown",
   "metadata": {},
   "source": [
    "<div class=\"alert alert-info\">\n",
    "<b>Done ✅ </b> \n",
    "</div>"
   ]
  },
  {
   "cell_type": "markdown",
   "metadata": {},
   "source": [
    "<div class=\"alert alert-success\">\n",
    "<h2> Комментарий ревьюера v2 <a class=\"tocSkip\"> </h2>\n",
    "\n",
    "<b>Все супер!👍:</b> Идеально) "
   ]
  },
  {
   "cell_type": "markdown",
   "metadata": {},
   "source": [
    "**2)** Как менялись продажи по платформам. Выберите платформы с наибольшими суммарными продажами и постройте распределение по годам. За какой - Характерный срок появляются новые и исчезают старые платформы?"
   ]
  },
  {
   "cell_type": "code",
   "execution_count": 28,
   "metadata": {},
   "outputs": [
    {
     "data": {
      "text/html": [
       "<div>\n",
       "<style scoped>\n",
       "    .dataframe tbody tr th:only-of-type {\n",
       "        vertical-align: middle;\n",
       "    }\n",
       "\n",
       "    .dataframe tbody tr th {\n",
       "        vertical-align: top;\n",
       "    }\n",
       "\n",
       "    .dataframe thead th {\n",
       "        text-align: right;\n",
       "    }\n",
       "</style>\n",
       "<table border=\"1\" class=\"dataframe\">\n",
       "  <thead>\n",
       "    <tr style=\"text-align: right;\">\n",
       "      <th></th>\n",
       "      <th>total_sales</th>\n",
       "    </tr>\n",
       "    <tr>\n",
       "      <th>platform</th>\n",
       "      <th></th>\n",
       "    </tr>\n",
       "  </thead>\n",
       "  <tbody>\n",
       "    <tr>\n",
       "      <th>PS2</th>\n",
       "      <td>1255.77</td>\n",
       "    </tr>\n",
       "    <tr>\n",
       "      <th>X360</th>\n",
       "      <td>971.42</td>\n",
       "    </tr>\n",
       "    <tr>\n",
       "      <th>PS3</th>\n",
       "      <td>939.65</td>\n",
       "    </tr>\n",
       "    <tr>\n",
       "      <th>Wii</th>\n",
       "      <td>907.51</td>\n",
       "    </tr>\n",
       "    <tr>\n",
       "      <th>DS</th>\n",
       "      <td>806.12</td>\n",
       "    </tr>\n",
       "    <tr>\n",
       "      <th>PS</th>\n",
       "      <td>730.86</td>\n",
       "    </tr>\n",
       "    <tr>\n",
       "      <th>GBA</th>\n",
       "      <td>317.85</td>\n",
       "    </tr>\n",
       "    <tr>\n",
       "      <th>PS4</th>\n",
       "      <td>314.14</td>\n",
       "    </tr>\n",
       "    <tr>\n",
       "      <th>PSP</th>\n",
       "      <td>294.05</td>\n",
       "    </tr>\n",
       "    <tr>\n",
       "      <th>PC</th>\n",
       "      <td>259.52</td>\n",
       "    </tr>\n",
       "    <tr>\n",
       "      <th>3DS</th>\n",
       "      <td>259.00</td>\n",
       "    </tr>\n",
       "    <tr>\n",
       "      <th>XB</th>\n",
       "      <td>257.74</td>\n",
       "    </tr>\n",
       "    <tr>\n",
       "      <th>GB</th>\n",
       "      <td>255.46</td>\n",
       "    </tr>\n",
       "    <tr>\n",
       "      <th>NES</th>\n",
       "      <td>251.05</td>\n",
       "    </tr>\n",
       "    <tr>\n",
       "      <th>N64</th>\n",
       "      <td>218.68</td>\n",
       "    </tr>\n",
       "    <tr>\n",
       "      <th>SNES</th>\n",
       "      <td>200.04</td>\n",
       "    </tr>\n",
       "    <tr>\n",
       "      <th>GC</th>\n",
       "      <td>198.93</td>\n",
       "    </tr>\n",
       "    <tr>\n",
       "      <th>XOne</th>\n",
       "      <td>159.32</td>\n",
       "    </tr>\n",
       "    <tr>\n",
       "      <th>2600</th>\n",
       "      <td>96.98</td>\n",
       "    </tr>\n",
       "    <tr>\n",
       "      <th>WiiU</th>\n",
       "      <td>82.19</td>\n",
       "    </tr>\n",
       "    <tr>\n",
       "      <th>PSV</th>\n",
       "      <td>54.07</td>\n",
       "    </tr>\n",
       "    <tr>\n",
       "      <th>SAT</th>\n",
       "      <td>33.59</td>\n",
       "    </tr>\n",
       "    <tr>\n",
       "      <th>GEN</th>\n",
       "      <td>28.35</td>\n",
       "    </tr>\n",
       "    <tr>\n",
       "      <th>DC</th>\n",
       "      <td>15.95</td>\n",
       "    </tr>\n",
       "    <tr>\n",
       "      <th>SCD</th>\n",
       "      <td>1.86</td>\n",
       "    </tr>\n",
       "    <tr>\n",
       "      <th>NG</th>\n",
       "      <td>1.44</td>\n",
       "    </tr>\n",
       "    <tr>\n",
       "      <th>WS</th>\n",
       "      <td>1.42</td>\n",
       "    </tr>\n",
       "    <tr>\n",
       "      <th>TG16</th>\n",
       "      <td>0.16</td>\n",
       "    </tr>\n",
       "    <tr>\n",
       "      <th>3DO</th>\n",
       "      <td>0.10</td>\n",
       "    </tr>\n",
       "    <tr>\n",
       "      <th>GG</th>\n",
       "      <td>0.04</td>\n",
       "    </tr>\n",
       "  </tbody>\n",
       "</table>\n",
       "</div>"
      ],
      "text/plain": [
       "          total_sales\n",
       "platform             \n",
       "PS2           1255.77\n",
       "X360           971.42\n",
       "PS3            939.65\n",
       "Wii            907.51\n",
       "DS             806.12\n",
       "PS             730.86\n",
       "GBA            317.85\n",
       "PS4            314.14\n",
       "PSP            294.05\n",
       "PC             259.52\n",
       "3DS            259.00\n",
       "XB             257.74\n",
       "GB             255.46\n",
       "NES            251.05\n",
       "N64            218.68\n",
       "SNES           200.04\n",
       "GC             198.93\n",
       "XOne           159.32\n",
       "2600            96.98\n",
       "WiiU            82.19\n",
       "PSV             54.07\n",
       "SAT             33.59\n",
       "GEN             28.35\n",
       "DC              15.95\n",
       "SCD              1.86\n",
       "NG               1.44\n",
       "WS               1.42\n",
       "TG16             0.16\n",
       "3DO              0.10\n",
       "GG               0.04"
      ]
     },
     "execution_count": 28,
     "metadata": {},
     "output_type": "execute_result"
    }
   ],
   "source": [
    "platform_sales_pt = pd.pivot_table(data, index=['platform'], values='total_sales', aggfunc='sum')\n",
    "platform_sales_pt = platform_sales_pt.sort_values('total_sales',ascending=False)\n",
    "platform_sales_pt.head(30)"
   ]
  },
  {
   "cell_type": "markdown",
   "metadata": {},
   "source": [
    "Получается в лидерах по продажам Нинтендо, PS, XBox. Оценим популярность по годам первых 3х разновидностей приставок в топе продаж за все года. Нам нужно узнать, что популярно ближе к 2016, чтобы знать на чем запускать игру. Поэтому попробуем найти у каких приставо растет популярность. Смазывает картину PlayStation 3, sony один момент выпускали их каждый год. Но по факту много игроков не успевая за производителем сидел на старых версиях. Возьмем 5 топ-платформ с наибольшими суммарными продажами и построим распределение по годам."
   ]
  },
  {
   "cell_type": "code",
   "execution_count": 29,
   "metadata": {},
   "outputs": [
    {
     "data": {
      "image/png": "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\n",
      "text/plain": [
       "<Figure size 936x432 with 1 Axes>"
      ]
     },
     "metadata": {
      "needs_background": "light"
     },
     "output_type": "display_data"
    }
   ],
   "source": [
    "plt.figure(figsize=(13,6))\n",
    "sns.barplot(x=platform_sales_pt.index,y=platform_sales_pt['total_sales']);\n",
    "plt.title(\"Продажи по платформам за весь период\");\n",
    "plt.xlabel(\"Название платформы\");\n",
    "plt.ylabel(\"Количество продаж\");"
   ]
  },
  {
   "cell_type": "markdown",
   "metadata": {},
   "source": [
    "<div class=\"alert alert-warning\">\n",
    "    <h2> Комментарий ревьюера v1 <a class=\"tocSkip\"> </h2>\n",
    "    \n",
    "<b>Небольшие замечания и рекомендации💡:</b>Топ платформ определен верно) Визкализируем? "
   ]
  },
  {
   "cell_type": "markdown",
   "metadata": {},
   "source": [
    "<div class=\"alert alert-info\">\n",
    "<b>Done ✅ </b> \n",
    "</div>"
   ]
  },
  {
   "cell_type": "markdown",
   "metadata": {},
   "source": [
    "<div class=\"alert alert-block alert-danger\">\n",
    "<h2> Комментарий ревьюера v1 <a class=\"tocSkip\"></h2>\n",
    "\n",
    "<b>На доработку🤔:</b>  Доработаем график?) "
   ]
  },
  {
   "cell_type": "markdown",
   "metadata": {},
   "source": [
    "<div class=\"alert alert-success\">\n",
    "<h2> Комментарий ревьюера v2 <a class=\"tocSkip\"> </h2>\n",
    "\n",
    "<b>Все супер!👍:</b> Отлично, молодец!"
   ]
  },
  {
   "cell_type": "markdown",
   "metadata": {},
   "source": [
    "PS2, PS3, X360, Wii, DS - уходящий тренд со спадом к 2013. Если отдельно по каждому, то периоды популярности топ приставок в зависимости от объема продаж составили Wii - 8 лет, DS - 9 лет, PS3 - 10 лет, X360 - 9 лет, PS2 - 10 лет. То есть в среднем за 8-9 лет платформы появляются и уходят."
   ]
  },
  {
   "cell_type": "markdown",
   "metadata": {},
   "source": [
    "<div class=\"alert alert-success\">\n",
    "<h2> Комментарий ревьюера v1 <a class=\"tocSkip\"> </h2>\n",
    "\n",
    "<b>Все супер!👍:</b> Хорошо, согласен) "
   ]
  },
  {
   "cell_type": "markdown",
   "metadata": {},
   "source": [
    "Посмотрим актуальные данные, какие платформы популярные на период к 2016 году, чтобы на основе их составить прогноз к 2017 году. Возьмем промежуток для оценки с 2012 по 2016, в среднем игры держатся 2-4 года, популярные могут и дольше"
   ]
  },
  {
   "cell_type": "code",
   "execution_count": 30,
   "metadata": {
    "scrolled": true
   },
   "outputs": [
    {
     "name": "stdout",
     "output_type": "stream",
     "text": [
      "<class 'pandas.core.frame.DataFrame'>\n",
      "Int64Index: 2886 entries, 16 to 16714\n",
      "Data columns (total 12 columns):\n",
      " #   Column           Non-Null Count  Dtype  \n",
      "---  ------           --------------  -----  \n",
      " 0   name             2886 non-null   object \n",
      " 1   platform         2886 non-null   object \n",
      " 2   year_of_release  2886 non-null   int64  \n",
      " 3   genre            2886 non-null   object \n",
      " 4   na_sales         2886 non-null   float64\n",
      " 5   eu_sales         2886 non-null   float64\n",
      " 6   jp_sales         2886 non-null   float64\n",
      " 7   other_sales      2886 non-null   float64\n",
      " 8   critic_score     2886 non-null   float64\n",
      " 9   user_score       2886 non-null   float64\n",
      " 10  rating           2886 non-null   object \n",
      " 11  total_sales      2886 non-null   float64\n",
      "dtypes: float64(7), int64(1), object(4)\n",
      "memory usage: 293.1+ KB\n"
     ]
    }
   ],
   "source": [
    "#отсев данных по году\n",
    "data_games_sales = data.query('year_of_release >= 2012')\n",
    "\n",
    "#проверка\n",
    "data_games_sales.info()"
   ]
  },
  {
   "cell_type": "markdown",
   "metadata": {},
   "source": [
    "<div class=\"alert alert-warning\">\n",
    "    <h2> Комментарий ревьюера v1 <a class=\"tocSkip\"> </h2>\n",
    "    \n",
    "<b>Небольшие замечания и рекомендации💡:</b> Хорошо, но на будущее для целей прогнозирования продаж на следующий год даже в традиционных бизнесах редко берут данные более чем за 2-3 года. А в такой динамично меняющейся индустрии, как компьютерные игры и вовсе не стоит брать слишком большой временной интервал - иначе обязательно захватишь уже отжившие тренды. Но и слишком короткий период тоже брать не стоит"
   ]
  },
  {
   "cell_type": "markdown",
   "metadata": {},
   "source": [
    "<div class=\"alert alert-info\">\n",
    "<b>Поняла, спасибо за совет </b> \n",
    "</div>"
   ]
  },
  {
   "cell_type": "markdown",
   "metadata": {},
   "source": [
    "Определим самые прибыльные платформы за период 2012-2016"
   ]
  },
  {
   "cell_type": "code",
   "execution_count": 31,
   "metadata": {},
   "outputs": [
    {
     "data": {
      "text/html": [
       "<div>\n",
       "<style scoped>\n",
       "    .dataframe tbody tr th:only-of-type {\n",
       "        vertical-align: middle;\n",
       "    }\n",
       "\n",
       "    .dataframe tbody tr th {\n",
       "        vertical-align: top;\n",
       "    }\n",
       "\n",
       "    .dataframe thead th {\n",
       "        text-align: right;\n",
       "    }\n",
       "</style>\n",
       "<table border=\"1\" class=\"dataframe\">\n",
       "  <thead>\n",
       "    <tr style=\"text-align: right;\">\n",
       "      <th></th>\n",
       "      <th></th>\n",
       "      <th>total_sales</th>\n",
       "    </tr>\n",
       "    <tr>\n",
       "      <th>platform</th>\n",
       "      <th>year_of_release</th>\n",
       "      <th></th>\n",
       "    </tr>\n",
       "  </thead>\n",
       "  <tbody>\n",
       "    <tr>\n",
       "      <th rowspan=\"5\" valign=\"top\">3DS</th>\n",
       "      <th>2012</th>\n",
       "      <td>51.36</td>\n",
       "    </tr>\n",
       "    <tr>\n",
       "      <th>2013</th>\n",
       "      <td>56.57</td>\n",
       "    </tr>\n",
       "    <tr>\n",
       "      <th>2014</th>\n",
       "      <td>43.76</td>\n",
       "    </tr>\n",
       "    <tr>\n",
       "      <th>2015</th>\n",
       "      <td>27.78</td>\n",
       "    </tr>\n",
       "    <tr>\n",
       "      <th>2016</th>\n",
       "      <td>15.14</td>\n",
       "    </tr>\n",
       "    <tr>\n",
       "      <th rowspan=\"2\" valign=\"top\">DS</th>\n",
       "      <th>2012</th>\n",
       "      <td>11.01</td>\n",
       "    </tr>\n",
       "    <tr>\n",
       "      <th>2013</th>\n",
       "      <td>1.54</td>\n",
       "    </tr>\n",
       "    <tr>\n",
       "      <th rowspan=\"5\" valign=\"top\">PC</th>\n",
       "      <th>2012</th>\n",
       "      <td>23.22</td>\n",
       "    </tr>\n",
       "    <tr>\n",
       "      <th>2013</th>\n",
       "      <td>12.38</td>\n",
       "    </tr>\n",
       "    <tr>\n",
       "      <th>2014</th>\n",
       "      <td>13.28</td>\n",
       "    </tr>\n",
       "    <tr>\n",
       "      <th>2015</th>\n",
       "      <td>8.52</td>\n",
       "    </tr>\n",
       "    <tr>\n",
       "      <th>2016</th>\n",
       "      <td>5.25</td>\n",
       "    </tr>\n",
       "    <tr>\n",
       "      <th rowspan=\"5\" valign=\"top\">PS3</th>\n",
       "      <th>2012</th>\n",
       "      <td>107.36</td>\n",
       "    </tr>\n",
       "    <tr>\n",
       "      <th>2013</th>\n",
       "      <td>113.25</td>\n",
       "    </tr>\n",
       "    <tr>\n",
       "      <th>2014</th>\n",
       "      <td>47.76</td>\n",
       "    </tr>\n",
       "    <tr>\n",
       "      <th>2015</th>\n",
       "      <td>16.82</td>\n",
       "    </tr>\n",
       "    <tr>\n",
       "      <th>2016</th>\n",
       "      <td>3.60</td>\n",
       "    </tr>\n",
       "    <tr>\n",
       "      <th rowspan=\"4\" valign=\"top\">PS4</th>\n",
       "      <th>2013</th>\n",
       "      <td>25.99</td>\n",
       "    </tr>\n",
       "    <tr>\n",
       "      <th>2014</th>\n",
       "      <td>100.00</td>\n",
       "    </tr>\n",
       "    <tr>\n",
       "      <th>2015</th>\n",
       "      <td>118.90</td>\n",
       "    </tr>\n",
       "    <tr>\n",
       "      <th>2016</th>\n",
       "      <td>69.25</td>\n",
       "    </tr>\n",
       "    <tr>\n",
       "      <th rowspan=\"4\" valign=\"top\">PSP</th>\n",
       "      <th>2012</th>\n",
       "      <td>7.69</td>\n",
       "    </tr>\n",
       "    <tr>\n",
       "      <th>2013</th>\n",
       "      <td>3.14</td>\n",
       "    </tr>\n",
       "    <tr>\n",
       "      <th>2014</th>\n",
       "      <td>0.24</td>\n",
       "    </tr>\n",
       "    <tr>\n",
       "      <th>2015</th>\n",
       "      <td>0.12</td>\n",
       "    </tr>\n",
       "    <tr>\n",
       "      <th rowspan=\"5\" valign=\"top\">PSV</th>\n",
       "      <th>2012</th>\n",
       "      <td>16.19</td>\n",
       "    </tr>\n",
       "    <tr>\n",
       "      <th>2013</th>\n",
       "      <td>10.59</td>\n",
       "    </tr>\n",
       "    <tr>\n",
       "      <th>2014</th>\n",
       "      <td>11.90</td>\n",
       "    </tr>\n",
       "    <tr>\n",
       "      <th>2015</th>\n",
       "      <td>6.25</td>\n",
       "    </tr>\n",
       "    <tr>\n",
       "      <th>2016</th>\n",
       "      <td>4.25</td>\n",
       "    </tr>\n",
       "    <tr>\n",
       "      <th rowspan=\"5\" valign=\"top\">Wii</th>\n",
       "      <th>2012</th>\n",
       "      <td>21.71</td>\n",
       "    </tr>\n",
       "    <tr>\n",
       "      <th>2013</th>\n",
       "      <td>8.59</td>\n",
       "    </tr>\n",
       "    <tr>\n",
       "      <th>2014</th>\n",
       "      <td>3.75</td>\n",
       "    </tr>\n",
       "    <tr>\n",
       "      <th>2015</th>\n",
       "      <td>1.14</td>\n",
       "    </tr>\n",
       "    <tr>\n",
       "      <th>2016</th>\n",
       "      <td>0.18</td>\n",
       "    </tr>\n",
       "    <tr>\n",
       "      <th rowspan=\"5\" valign=\"top\">WiiU</th>\n",
       "      <th>2012</th>\n",
       "      <td>17.56</td>\n",
       "    </tr>\n",
       "    <tr>\n",
       "      <th>2013</th>\n",
       "      <td>21.65</td>\n",
       "    </tr>\n",
       "    <tr>\n",
       "      <th>2014</th>\n",
       "      <td>22.03</td>\n",
       "    </tr>\n",
       "    <tr>\n",
       "      <th>2015</th>\n",
       "      <td>16.35</td>\n",
       "    </tr>\n",
       "    <tr>\n",
       "      <th>2016</th>\n",
       "      <td>4.60</td>\n",
       "    </tr>\n",
       "    <tr>\n",
       "      <th rowspan=\"5\" valign=\"top\">X360</th>\n",
       "      <th>2012</th>\n",
       "      <td>99.74</td>\n",
       "    </tr>\n",
       "    <tr>\n",
       "      <th>2013</th>\n",
       "      <td>88.58</td>\n",
       "    </tr>\n",
       "    <tr>\n",
       "      <th>2014</th>\n",
       "      <td>34.74</td>\n",
       "    </tr>\n",
       "    <tr>\n",
       "      <th>2015</th>\n",
       "      <td>11.96</td>\n",
       "    </tr>\n",
       "    <tr>\n",
       "      <th>2016</th>\n",
       "      <td>1.52</td>\n",
       "    </tr>\n",
       "    <tr>\n",
       "      <th rowspan=\"4\" valign=\"top\">XOne</th>\n",
       "      <th>2013</th>\n",
       "      <td>18.96</td>\n",
       "    </tr>\n",
       "    <tr>\n",
       "      <th>2014</th>\n",
       "      <td>54.07</td>\n",
       "    </tr>\n",
       "    <tr>\n",
       "      <th>2015</th>\n",
       "      <td>60.14</td>\n",
       "    </tr>\n",
       "    <tr>\n",
       "      <th>2016</th>\n",
       "      <td>26.15</td>\n",
       "    </tr>\n",
       "  </tbody>\n",
       "</table>\n",
       "</div>"
      ],
      "text/plain": [
       "                          total_sales\n",
       "platform year_of_release             \n",
       "3DS      2012                   51.36\n",
       "         2013                   56.57\n",
       "         2014                   43.76\n",
       "         2015                   27.78\n",
       "         2016                   15.14\n",
       "DS       2012                   11.01\n",
       "         2013                    1.54\n",
       "PC       2012                   23.22\n",
       "         2013                   12.38\n",
       "         2014                   13.28\n",
       "         2015                    8.52\n",
       "         2016                    5.25\n",
       "PS3      2012                  107.36\n",
       "         2013                  113.25\n",
       "         2014                   47.76\n",
       "         2015                   16.82\n",
       "         2016                    3.60\n",
       "PS4      2013                   25.99\n",
       "         2014                  100.00\n",
       "         2015                  118.90\n",
       "         2016                   69.25\n",
       "PSP      2012                    7.69\n",
       "         2013                    3.14\n",
       "         2014                    0.24\n",
       "         2015                    0.12\n",
       "PSV      2012                   16.19\n",
       "         2013                   10.59\n",
       "         2014                   11.90\n",
       "         2015                    6.25\n",
       "         2016                    4.25\n",
       "Wii      2012                   21.71\n",
       "         2013                    8.59\n",
       "         2014                    3.75\n",
       "         2015                    1.14\n",
       "         2016                    0.18\n",
       "WiiU     2012                   17.56\n",
       "         2013                   21.65\n",
       "         2014                   22.03\n",
       "         2015                   16.35\n",
       "         2016                    4.60\n",
       "X360     2012                   99.74\n",
       "         2013                   88.58\n",
       "         2014                   34.74\n",
       "         2015                   11.96\n",
       "         2016                    1.52\n",
       "XOne     2013                   18.96\n",
       "         2014                   54.07\n",
       "         2015                   60.14\n",
       "         2016                   26.15"
      ]
     },
     "execution_count": 31,
     "metadata": {},
     "output_type": "execute_result"
    }
   ],
   "source": [
    "top_platforms = pd.pivot_table(data_games_sales, index=['platform','year_of_release'], \n",
    "                                     values='total_sales', aggfunc = 'sum')\n",
    "top_platforms"
   ]
  },
  {
   "cell_type": "markdown",
   "metadata": {},
   "source": [
    "У всех платформ идет спад к 2016 году. Но у каких-то вроде Nintendo, PlayStation, XBox в целом есть пики-росты и спады, к моменту выхода новой консоли раз в 1-2-3-4 года. \n",
    "\n",
    "Например, на момент 2016 года топ 3 консоли: XOne, PS4, 3DS на спаде продаж их доход суммарно составил 110 млн долларов. При этом пик их популярности был 2-3 года назад. Доход XOne в 2015 году (60 млн), и в 2016 на эту консоль было продано на сумму 26 млн. В 2017 возможно он будет ниже в 2-3 раза, так как планируется выпуск новой. Поэтому упор на эти платформы для прогноза лучше не делать. \n",
    "\n",
    "Если учитывать какой спад был по платформе за последние годы, то ТОП5 - 3DS, PS4, XOne, WiiU, PS3\n",
    "\n",
    "Есть платформы, которые завершают цикл своей жизни. Например, PC(personal computer) и PSP уже в целом исторически уступает консолям свое место. \n",
    "\n",
    "Вообще с 2013 по 2016 год был перерыв в выпуске обновленных версий консолей, поэтому показатели шли на спад. Но с 2016 года ожидался выпуск сразу нескольких консолей. Вот новые консололи, которые выпустят в 2016-2017:\n",
    "\n",
    "- Xbox One S\n",
    "- PlayStation 4 Slim\n",
    "- PlayStation 4 Pro\n",
    "- Xbox One X\n",
    "- Nintendo Switch\n",
    "\n",
    "Это 3 основных лидера рынка (PlayStation, Xbox, Nintendo), их рост и падение предсказуемы, их продажи самые высокие.\n",
    "\n",
    "Исходя из данных, прогноз на 2017 будет состоять из перечисленных новых консолей, которых выйдет целый ряд в 2016-2017 году."
   ]
  },
  {
   "cell_type": "markdown",
   "metadata": {},
   "source": [
    "Отсортируем топ-5 консолей, где продажи за последние 2 года были еще достаточными и визуализируем в графике продажи в период с 2012 по 2016 "
   ]
  },
  {
   "cell_type": "code",
   "execution_count": 32,
   "metadata": {},
   "outputs": [
    {
     "data": {
      "text/html": [
       "<div>\n",
       "<style scoped>\n",
       "    .dataframe tbody tr th:only-of-type {\n",
       "        vertical-align: middle;\n",
       "    }\n",
       "\n",
       "    .dataframe tbody tr th {\n",
       "        vertical-align: top;\n",
       "    }\n",
       "\n",
       "    .dataframe thead th {\n",
       "        text-align: right;\n",
       "    }\n",
       "</style>\n",
       "<table border=\"1\" class=\"dataframe\">\n",
       "  <thead>\n",
       "    <tr style=\"text-align: right;\">\n",
       "      <th></th>\n",
       "      <th></th>\n",
       "      <th>total_sales</th>\n",
       "    </tr>\n",
       "    <tr>\n",
       "      <th>platform</th>\n",
       "      <th>year_of_release</th>\n",
       "      <th></th>\n",
       "    </tr>\n",
       "  </thead>\n",
       "  <tbody>\n",
       "    <tr>\n",
       "      <th rowspan=\"5\" valign=\"top\">3DS</th>\n",
       "      <th>2012</th>\n",
       "      <td>51.36</td>\n",
       "    </tr>\n",
       "    <tr>\n",
       "      <th>2013</th>\n",
       "      <td>56.57</td>\n",
       "    </tr>\n",
       "    <tr>\n",
       "      <th>2014</th>\n",
       "      <td>43.76</td>\n",
       "    </tr>\n",
       "    <tr>\n",
       "      <th>2015</th>\n",
       "      <td>27.78</td>\n",
       "    </tr>\n",
       "    <tr>\n",
       "      <th>2016</th>\n",
       "      <td>15.14</td>\n",
       "    </tr>\n",
       "    <tr>\n",
       "      <th rowspan=\"5\" valign=\"top\">PS3</th>\n",
       "      <th>2012</th>\n",
       "      <td>107.36</td>\n",
       "    </tr>\n",
       "    <tr>\n",
       "      <th>2013</th>\n",
       "      <td>113.25</td>\n",
       "    </tr>\n",
       "    <tr>\n",
       "      <th>2014</th>\n",
       "      <td>47.76</td>\n",
       "    </tr>\n",
       "    <tr>\n",
       "      <th>2015</th>\n",
       "      <td>16.82</td>\n",
       "    </tr>\n",
       "    <tr>\n",
       "      <th>2016</th>\n",
       "      <td>3.60</td>\n",
       "    </tr>\n",
       "    <tr>\n",
       "      <th rowspan=\"4\" valign=\"top\">PS4</th>\n",
       "      <th>2013</th>\n",
       "      <td>25.99</td>\n",
       "    </tr>\n",
       "    <tr>\n",
       "      <th>2014</th>\n",
       "      <td>100.00</td>\n",
       "    </tr>\n",
       "    <tr>\n",
       "      <th>2015</th>\n",
       "      <td>118.90</td>\n",
       "    </tr>\n",
       "    <tr>\n",
       "      <th>2016</th>\n",
       "      <td>69.25</td>\n",
       "    </tr>\n",
       "    <tr>\n",
       "      <th rowspan=\"5\" valign=\"top\">WiiU</th>\n",
       "      <th>2012</th>\n",
       "      <td>17.56</td>\n",
       "    </tr>\n",
       "    <tr>\n",
       "      <th>2013</th>\n",
       "      <td>21.65</td>\n",
       "    </tr>\n",
       "    <tr>\n",
       "      <th>2014</th>\n",
       "      <td>22.03</td>\n",
       "    </tr>\n",
       "    <tr>\n",
       "      <th>2015</th>\n",
       "      <td>16.35</td>\n",
       "    </tr>\n",
       "    <tr>\n",
       "      <th>2016</th>\n",
       "      <td>4.60</td>\n",
       "    </tr>\n",
       "    <tr>\n",
       "      <th rowspan=\"4\" valign=\"top\">XOne</th>\n",
       "      <th>2013</th>\n",
       "      <td>18.96</td>\n",
       "    </tr>\n",
       "    <tr>\n",
       "      <th>2014</th>\n",
       "      <td>54.07</td>\n",
       "    </tr>\n",
       "    <tr>\n",
       "      <th>2015</th>\n",
       "      <td>60.14</td>\n",
       "    </tr>\n",
       "    <tr>\n",
       "      <th>2016</th>\n",
       "      <td>26.15</td>\n",
       "    </tr>\n",
       "  </tbody>\n",
       "</table>\n",
       "</div>"
      ],
      "text/plain": [
       "                          total_sales\n",
       "platform year_of_release             \n",
       "3DS      2012                   51.36\n",
       "         2013                   56.57\n",
       "         2014                   43.76\n",
       "         2015                   27.78\n",
       "         2016                   15.14\n",
       "PS3      2012                  107.36\n",
       "         2013                  113.25\n",
       "         2014                   47.76\n",
       "         2015                   16.82\n",
       "         2016                    3.60\n",
       "PS4      2013                   25.99\n",
       "         2014                  100.00\n",
       "         2015                  118.90\n",
       "         2016                   69.25\n",
       "WiiU     2012                   17.56\n",
       "         2013                   21.65\n",
       "         2014                   22.03\n",
       "         2015                   16.35\n",
       "         2016                    4.60\n",
       "XOne     2013                   18.96\n",
       "         2014                   54.07\n",
       "         2015                   60.14\n",
       "         2016                   26.15"
      ]
     },
     "execution_count": 32,
     "metadata": {},
     "output_type": "execute_result"
    }
   ],
   "source": [
    "top5_platforms = top_platforms.query('platform == \"3DS\" or platform == \"PS4\" or platform == \"XOne\" or platform == \"WiiU\" or platform == \"PS3\"')\n",
    "\n",
    "#проверка\n",
    "top5_platforms"
   ]
  },
  {
   "cell_type": "code",
   "execution_count": 33,
   "metadata": {},
   "outputs": [
    {
     "data": {
      "image/png": "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\n",
      "text/plain": [
       "<Figure size 720x576 with 1 Axes>"
      ]
     },
     "metadata": {
      "needs_background": "light"
     },
     "output_type": "display_data"
    }
   ],
   "source": [
    "top5_platforms\n",
    "top5_platforms.pivot_table(index='year_of_release', columns='platform', values='total_sales', aggfunc='median').plot(grid=True, figsize=(10,8), kind='bar')\n",
    "plt.title('Продажи во всех регионах, топ-5 платформ')\n",
    "plt.ylabel('total_sales');"
   ]
  },
  {
   "cell_type": "markdown",
   "metadata": {},
   "source": [
    "<div class=\"alert alert-warning\">\n",
    "    <h2> Комментарий ревьюера v1 <a class=\"tocSkip\"> </h2>\n",
    "    \n",
    "<b>Небольшие замечания и рекомендации💡:</b>Только давай визуализируем топ платформ по актуальному периоду?)"
   ]
  },
  {
   "cell_type": "markdown",
   "metadata": {},
   "source": [
    "<div class=\"alert alert-info\">\n",
    "<b>Готово </b> \n",
    "</div>"
   ]
  },
  {
   "cell_type": "markdown",
   "metadata": {},
   "source": [
    "<div class=\"alert alert-warning\">\n",
    "    <h2> Комментарий ревьюера v2 <a class=\"tocSkip\"> </h2>\n",
    "    \n",
    "<b>Небольшие замечания и рекомендации💡:</b> Супер) И также не забывай про пиодписи осей на рассуом)"
   ]
  },
  {
   "cell_type": "markdown",
   "metadata": {},
   "source": [
    "**4)** Построим график «ящик с усами» по глобальным продажам игр c 2012 года в разбивке по популярным платформам (XOne, PS4, 3DS ). Cначала построим по отдельности а затем по всем вместе."
   ]
  },
  {
   "cell_type": "code",
   "execution_count": 34,
   "metadata": {},
   "outputs": [
    {
     "data": {
      "text/plain": [
       "count    2886.000000\n",
       "mean        0.501223\n",
       "std         1.249157\n",
       "min         0.010000\n",
       "25%         0.040000\n",
       "50%         0.120000\n",
       "75%         0.430000\n",
       "max        21.050000\n",
       "Name: total_sales, dtype: float64"
      ]
     },
     "execution_count": 34,
     "metadata": {},
     "output_type": "execute_result"
    },
    {
     "data": {
      "image/png": "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\n",
      "text/plain": [
       "<Figure size 432x288 with 1 Axes>"
      ]
     },
     "metadata": {
      "needs_background": "light"
     },
     "output_type": "display_data"
    }
   ],
   "source": [
    "plt.boxplot(data_games_sales['total_sales'])\n",
    "plt.ylim(0,1.5)\n",
    "\n",
    "data_games_sales['total_sales'].describe()"
   ]
  },
  {
   "cell_type": "markdown",
   "metadata": {},
   "source": [
    "Построим для PS4:"
   ]
  },
  {
   "cell_type": "code",
   "execution_count": 35,
   "metadata": {},
   "outputs": [
    {
     "data": {
      "text/plain": [
       "count    392.000000\n",
       "mean       0.801378\n",
       "std        1.609456\n",
       "min        0.010000\n",
       "25%        0.060000\n",
       "50%        0.200000\n",
       "75%        0.730000\n",
       "max       14.630000\n",
       "Name: total_sales, dtype: float64"
      ]
     },
     "execution_count": 35,
     "metadata": {},
     "output_type": "execute_result"
    },
    {
     "data": {
      "image/png": "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\n",
      "text/plain": [
       "<Figure size 432x288 with 1 Axes>"
      ]
     },
     "metadata": {
      "needs_background": "light"
     },
     "output_type": "display_data"
    }
   ],
   "source": [
    "PS4_data_games_sales = data_games_sales.query('platform ==\"PS4\"')\n",
    "\n",
    "plt.boxplot(PS4_data_games_sales['total_sales'])\n",
    "plt.ylim(0,2)\n",
    "\n",
    "\n",
    "PS4_data_games_sales['total_sales'].describe()"
   ]
  },
  {
   "cell_type": "markdown",
   "metadata": {},
   "source": [
    "Для XOne:"
   ]
  },
  {
   "cell_type": "code",
   "execution_count": 36,
   "metadata": {},
   "outputs": [
    {
     "data": {
      "text/plain": [
       "count    247.000000\n",
       "mean       0.645020\n",
       "std        1.036139\n",
       "min        0.010000\n",
       "25%        0.060000\n",
       "50%        0.220000\n",
       "75%        0.685000\n",
       "max        7.390000\n",
       "Name: total_sales, dtype: float64"
      ]
     },
     "execution_count": 36,
     "metadata": {},
     "output_type": "execute_result"
    },
    {
     "data": {
      "image/png": "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\n",
      "text/plain": [
       "<Figure size 432x288 with 1 Axes>"
      ]
     },
     "metadata": {
      "needs_background": "light"
     },
     "output_type": "display_data"
    }
   ],
   "source": [
    "xone_data_games_sales = data_games_sales.query('platform ==\"XOne\"')\n",
    "\n",
    "plt.boxplot(xone_data_games_sales['total_sales'])\n",
    "plt.ylim(0,2)\n",
    "\n",
    "\n",
    "xone_data_games_sales['total_sales'].describe()"
   ]
  },
  {
   "cell_type": "markdown",
   "metadata": {},
   "source": [
    "Для 3DS:"
   ]
  },
  {
   "cell_type": "code",
   "execution_count": 37,
   "metadata": {},
   "outputs": [
    {
     "data": {
      "text/plain": [
       "count    396.000000\n",
       "mean       0.491439\n",
       "std        1.387161\n",
       "min        0.010000\n",
       "25%        0.040000\n",
       "50%        0.110000\n",
       "75%        0.312500\n",
       "max       14.600000\n",
       "Name: total_sales, dtype: float64"
      ]
     },
     "execution_count": 37,
     "metadata": {},
     "output_type": "execute_result"
    },
    {
     "data": {
      "image/png": "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\n",
      "text/plain": [
       "<Figure size 432x288 with 1 Axes>"
      ]
     },
     "metadata": {
      "needs_background": "light"
     },
     "output_type": "display_data"
    }
   ],
   "source": [
    "ds_data_games_sales = data_games_sales.query('platform ==\"3DS\"')\n",
    "\n",
    "plt.boxplot(ds_data_games_sales['total_sales'])\n",
    "plt.ylim(0,2)\n",
    "\n",
    "\n",
    "ds_data_games_sales['total_sales'].describe()"
   ]
  },
  {
   "cell_type": "markdown",
   "metadata": {},
   "source": [
    "Рассмотрим все ТОП-5 платформ на 1 графике для наглядности и уберем выбросы:"
   ]
  },
  {
   "cell_type": "code",
   "execution_count": 38,
   "metadata": {},
   "outputs": [
    {
     "data": {
      "text/plain": [
       "count    1157.000000\n",
       "mean        0.607805\n",
       "std         1.304908\n",
       "min         0.010000\n",
       "25%         0.060000\n",
       "50%         0.160000\n",
       "75%         0.510000\n",
       "max        12.650000\n",
       "Name: total_sales, dtype: float64"
      ]
     },
     "execution_count": 38,
     "metadata": {},
     "output_type": "execute_result"
    },
    {
     "data": {
      "image/png": "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\n",
      "text/plain": [
       "<Figure size 720x216 with 1 Axes>"
      ]
     },
     "metadata": {
      "needs_background": "light"
     },
     "output_type": "display_data"
    }
   ],
   "source": [
    "import seaborn as sns\n",
    "\n",
    "list_of_top5 = ['PS4','3DS','XOne']\n",
    "df_top_5_platforms = data[data['platform'].isin(['PS4','3DS','XOne'])]\n",
    "df_top_5_platforms = df_top_5_platforms[df_top_5_platforms['total_sales']<14.6]\n",
    "\n",
    "plt.figure(figsize=(10,3))\n",
    "sns.boxplot(data=df_top_5_platforms, x='platform', y='total_sales')\n",
    "plt.ylim(0,2)\n",
    "plt.title('Диаграмма размаха', fontsize=12)\n",
    "plt.xlabel('Платформа', fontsize=12)\n",
    "plt.ylabel('Продажи в 3х регионах, млн.$',fontsize=12);\n",
    "\n",
    "df_top_5_platforms['total_sales'].describe()"
   ]
  },
  {
   "cell_type": "markdown",
   "metadata": {},
   "source": [
    "Вывод по выручке с проданных игр на 3 популярные консоли:\n",
    "- В целом по 3м консолям рекорд продаж 21 млн долларов, в среднем заработок 500 тыс., минимальный в 100 тыс. долларов. Успешным играм в среднем так не удалось выйти за порог дохода больше 1,7. Порог дохода для бОльшей части игр - это 110-220 тыс долларов. \n",
    "- PS4 максимальный рекорд в 14 млн., средний - 800 тыс., медианный- 200 тыс, средний разброс большинства дохода от 10 тыс. до 1,7 млн долларов\n",
    "- XOne максимальный рекорд по выручке - 7,3 млн, средний-645 тыс, медианный-220 тыс, средний разброс большинства дохода от 10 тыс. до 1,6 млн. При этом стоит учесть, что игр на PS4 (392), а на XOne (247), то есть у XOne на 37% меньше игр, а показатели почти как у PS4)\n",
    "- 3DS максимум по выручке - 14,6 млн, среднее значение - 491 тыс, медианное - 110 тыс, разброс от 10 тыс. до 750 тыс. Еще меньше, чем у Xbox и PS"
   ]
  },
  {
   "cell_type": "markdown",
   "metadata": {},
   "source": [
    "<div class=\"alert alert-block alert-danger\">\n",
    "<h2> Комментарий ревьюера v1 <a class=\"tocSkip\"></h2>\n",
    "\n",
    "<b>На доработку🤔:</b> Масштабы разные на графиках, поэтому сравнивать трудно. Давай отобразим вообще на одном полотне, или через subplot с одинаковым масштабом?"
   ]
  },
  {
   "cell_type": "markdown",
   "metadata": {},
   "source": [
    "<div class=\"alert alert-info\">\n",
    "<b>Готово </b> \n",
    "</div>"
   ]
  },
  {
   "cell_type": "markdown",
   "metadata": {},
   "source": [
    "<div class=\"alert alert-success\">\n",
    "<h2> Комментарий ревьюера v2 <a class=\"tocSkip\"> </h2>\n",
    "\n",
    "<b>Все супер!👍:</b> Теперь хорошо) "
   ]
  },
  {
   "cell_type": "markdown",
   "metadata": {},
   "source": [
    "**5)** Посмотрим, как влияют на продажи отзывы пользователей и критиков внутри одной популярной платформы. Возьмем PS4, так как у нее самые большие продажи на современный период. Построим диаграмму рассеяния и посчитаем корреляцию между отзывами и продажами. Сделаем выводы. В user_score tbd меняли на 0.1, поэтому отсортируем для анализа строки от tbd."
   ]
  },
  {
   "cell_type": "code",
   "execution_count": 39,
   "metadata": {},
   "outputs": [
    {
     "name": "stdout",
     "output_type": "stream",
     "text": [
      "<class 'pandas.core.frame.DataFrame'>\n",
      "Int64Index: 392 entries, 31 to 16585\n",
      "Data columns (total 12 columns):\n",
      " #   Column           Non-Null Count  Dtype  \n",
      "---  ------           --------------  -----  \n",
      " 0   name             392 non-null    object \n",
      " 1   platform         392 non-null    object \n",
      " 2   year_of_release  392 non-null    int64  \n",
      " 3   genre            392 non-null    object \n",
      " 4   na_sales         392 non-null    float64\n",
      " 5   eu_sales         392 non-null    float64\n",
      " 6   jp_sales         392 non-null    float64\n",
      " 7   other_sales      392 non-null    float64\n",
      " 8   critic_score     392 non-null    float64\n",
      " 9   user_score       392 non-null    float64\n",
      " 10  rating           392 non-null    object \n",
      " 11  total_sales      392 non-null    float64\n",
      "dtypes: float64(7), int64(1), object(4)\n",
      "memory usage: 39.8+ KB\n"
     ]
    }
   ],
   "source": [
    "PS4_data_games_sales.info()"
   ]
  },
  {
   "cell_type": "code",
   "execution_count": 40,
   "metadata": {},
   "outputs": [
    {
     "data": {
      "text/plain": [
       "0.6352040816326531"
      ]
     },
     "execution_count": 40,
     "metadata": {},
     "output_type": "execute_result"
    }
   ],
   "source": [
    "#отсортируем данные\n",
    "PS4_ratings_1 = PS4_data_games_sales.loc[:,['total_sales', 'critic_score', 'user_score']]\n",
    "PS4_ratings = PS4_ratings_1.query('user_score != 0.1 and user_score !=9.9 and critic_score != 9.9')\n",
    "\n",
    "#проверим сколько данных убрали\n",
    "PS4_ratings.shape[0] / PS4_ratings_1.shape[0]"
   ]
  },
  {
   "cell_type": "code",
   "execution_count": 41,
   "metadata": {},
   "outputs": [
    {
     "data": {
      "text/html": [
       "<div>\n",
       "<style scoped>\n",
       "    .dataframe tbody tr th:only-of-type {\n",
       "        vertical-align: middle;\n",
       "    }\n",
       "\n",
       "    .dataframe tbody tr th {\n",
       "        vertical-align: top;\n",
       "    }\n",
       "\n",
       "    .dataframe thead th {\n",
       "        text-align: right;\n",
       "    }\n",
       "</style>\n",
       "<table border=\"1\" class=\"dataframe\">\n",
       "  <thead>\n",
       "    <tr style=\"text-align: right;\">\n",
       "      <th></th>\n",
       "      <th>total_sales</th>\n",
       "      <th>critic_score</th>\n",
       "      <th>user_score</th>\n",
       "    </tr>\n",
       "  </thead>\n",
       "  <tbody>\n",
       "    <tr>\n",
       "      <th>42</th>\n",
       "      <td>12.62</td>\n",
       "      <td>97.0</td>\n",
       "      <td>8.3</td>\n",
       "    </tr>\n",
       "    <tr>\n",
       "      <th>77</th>\n",
       "      <td>8.58</td>\n",
       "      <td>82.0</td>\n",
       "      <td>4.3</td>\n",
       "    </tr>\n",
       "    <tr>\n",
       "      <th>92</th>\n",
       "      <td>7.66</td>\n",
       "      <td>83.0</td>\n",
       "      <td>5.7</td>\n",
       "    </tr>\n",
       "    <tr>\n",
       "      <th>94</th>\n",
       "      <td>7.60</td>\n",
       "      <td>85.0</td>\n",
       "      <td>5.0</td>\n",
       "    </tr>\n",
       "    <tr>\n",
       "      <th>105</th>\n",
       "      <td>7.17</td>\n",
       "      <td>87.0</td>\n",
       "      <td>6.5</td>\n",
       "    </tr>\n",
       "    <tr>\n",
       "      <th>...</th>\n",
       "      <td>...</td>\n",
       "      <td>...</td>\n",
       "      <td>...</td>\n",
       "    </tr>\n",
       "    <tr>\n",
       "      <th>16486</th>\n",
       "      <td>0.01</td>\n",
       "      <td>42.0</td>\n",
       "      <td>2.3</td>\n",
       "    </tr>\n",
       "    <tr>\n",
       "      <th>16499</th>\n",
       "      <td>0.01</td>\n",
       "      <td>70.0</td>\n",
       "      <td>6.8</td>\n",
       "    </tr>\n",
       "    <tr>\n",
       "      <th>16500</th>\n",
       "      <td>0.01</td>\n",
       "      <td>69.0</td>\n",
       "      <td>7.5</td>\n",
       "    </tr>\n",
       "    <tr>\n",
       "      <th>16526</th>\n",
       "      <td>0.01</td>\n",
       "      <td>61.0</td>\n",
       "      <td>7.9</td>\n",
       "    </tr>\n",
       "    <tr>\n",
       "      <th>16530</th>\n",
       "      <td>0.01</td>\n",
       "      <td>51.0</td>\n",
       "      <td>5.5</td>\n",
       "    </tr>\n",
       "  </tbody>\n",
       "</table>\n",
       "<p>249 rows × 3 columns</p>\n",
       "</div>"
      ],
      "text/plain": [
       "       total_sales  critic_score  user_score\n",
       "42           12.62          97.0         8.3\n",
       "77            8.58          82.0         4.3\n",
       "92            7.66          83.0         5.7\n",
       "94            7.60          85.0         5.0\n",
       "105           7.17          87.0         6.5\n",
       "...            ...           ...         ...\n",
       "16486         0.01          42.0         2.3\n",
       "16499         0.01          70.0         6.8\n",
       "16500         0.01          69.0         7.5\n",
       "16526         0.01          61.0         7.9\n",
       "16530         0.01          51.0         5.5\n",
       "\n",
       "[249 rows x 3 columns]"
      ]
     },
     "execution_count": 41,
     "metadata": {},
     "output_type": "execute_result"
    }
   ],
   "source": [
    "#проверим что получилось\n",
    "PS4_ratings.sort_values(by='total_sales', ascending=False)"
   ]
  },
  {
   "cell_type": "markdown",
   "metadata": {},
   "source": [
    "Посчитаем корреляцию дохода от рейтинга"
   ]
  },
  {
   "cell_type": "code",
   "execution_count": 42,
   "metadata": {},
   "outputs": [
    {
     "data": {
      "text/html": [
       "<div>\n",
       "<style scoped>\n",
       "    .dataframe tbody tr th:only-of-type {\n",
       "        vertical-align: middle;\n",
       "    }\n",
       "\n",
       "    .dataframe tbody tr th {\n",
       "        vertical-align: top;\n",
       "    }\n",
       "\n",
       "    .dataframe thead th {\n",
       "        text-align: right;\n",
       "    }\n",
       "</style>\n",
       "<table border=\"1\" class=\"dataframe\">\n",
       "  <thead>\n",
       "    <tr style=\"text-align: right;\">\n",
       "      <th></th>\n",
       "      <th>total_sales</th>\n",
       "      <th>critic_score</th>\n",
       "      <th>user_score</th>\n",
       "    </tr>\n",
       "  </thead>\n",
       "  <tbody>\n",
       "    <tr>\n",
       "      <th>total_sales</th>\n",
       "      <td>1.000000</td>\n",
       "      <td>0.405895</td>\n",
       "      <td>-0.033625</td>\n",
       "    </tr>\n",
       "    <tr>\n",
       "      <th>critic_score</th>\n",
       "      <td>0.405895</td>\n",
       "      <td>1.000000</td>\n",
       "      <td>0.557654</td>\n",
       "    </tr>\n",
       "    <tr>\n",
       "      <th>user_score</th>\n",
       "      <td>-0.033625</td>\n",
       "      <td>0.557654</td>\n",
       "      <td>1.000000</td>\n",
       "    </tr>\n",
       "  </tbody>\n",
       "</table>\n",
       "</div>"
      ],
      "text/plain": [
       "              total_sales  critic_score  user_score\n",
       "total_sales      1.000000      0.405895   -0.033625\n",
       "critic_score     0.405895      1.000000    0.557654\n",
       "user_score      -0.033625      0.557654    1.000000"
      ]
     },
     "execution_count": 42,
     "metadata": {},
     "output_type": "execute_result"
    }
   ],
   "source": [
    "PS4_ratings.corr()"
   ]
  },
  {
   "cell_type": "markdown",
   "metadata": {},
   "source": [
    "По коэффициенту корреляции видно, что зависимость между оценками критиков и пользователей и дохода не высокая. Зависимость продаж от оценок критиков 0.4, чем выше продажи-тем выше рейтинг. А зависимость от оценки пользователей - отрицательная и совсем незначительная 0.03. Чем выше рейтинг, тем меньше финансового успеха. Построим диаграмму рассеяния"
   ]
  },
  {
   "cell_type": "code",
   "execution_count": 43,
   "metadata": {},
   "outputs": [
    {
     "data": {
      "image/png": "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\n",
      "text/plain": [
       "<Figure size 720x720 with 9 Axes>"
      ]
     },
     "metadata": {
      "needs_background": "light"
     },
     "output_type": "display_data"
    }
   ],
   "source": [
    "pd.plotting.scatter_matrix(PS4_ratings, figsize=(10, 10));"
   ]
  },
  {
   "cell_type": "markdown",
   "metadata": {},
   "source": [
    "Выводы по анализу PS4:\n",
    "Оценки пользователей могут низкими и высокими вне зависимости от того, успешная или нет была игра в финансовом плане.\n",
    "А вот оценки критиков высокие в случае финансового успеха игры. Так, например из топа продаж игра, что принесла 12.62 млн, получила оценку критиков-97.0, оценку игроков-8.3, игра что принесла 8.58 млн, получила от критиков-82.0, и 4.3 от игроков.\n",
    "\n",
    "Но в целом заивисимость объема продаж игры от оценок низкая, зависимость от оценки критиков в 2 раза выше, чем от оценки пользователей. \n",
    "При этом оценка игроков зависит от оценки критиков, чем выше их оценка-тем выше оценка пользователей. \n",
    "И судя по распределению значений рейтинга в зависимости от объема продаж, очень много достаточно качественных игр (с оценкой пользователей от 6 баллов и оценкой критиков от 50-60). "
   ]
  },
  {
   "cell_type": "markdown",
   "metadata": {},
   "source": [
    "Соотнесем вывод с продажами игр на других платформах. Посчитаем данные по XBox ('XOne')"
   ]
  },
  {
   "cell_type": "code",
   "execution_count": 44,
   "metadata": {},
   "outputs": [
    {
     "data": {
      "text/plain": [
       "0.6680161943319838"
      ]
     },
     "execution_count": 44,
     "metadata": {},
     "output_type": "execute_result"
    }
   ],
   "source": [
    "#отсортируем данные\n",
    "xone_ratings_1 = xone_data_games_sales.loc[:,['total_sales', 'critic_score', 'user_score']]\n",
    "xone_ratings = xone_ratings_1.query('user_score != 0.1 and user_score !=9.9 and critic_score != 9.9')\n",
    "\n",
    "#проверим сколько данных убрали\n",
    "xone_ratings.shape[0] / xone_ratings_1.shape[0]"
   ]
  },
  {
   "cell_type": "code",
   "execution_count": 45,
   "metadata": {},
   "outputs": [
    {
     "data": {
      "text/html": [
       "<div>\n",
       "<style scoped>\n",
       "    .dataframe tbody tr th:only-of-type {\n",
       "        vertical-align: middle;\n",
       "    }\n",
       "\n",
       "    .dataframe tbody tr th {\n",
       "        vertical-align: top;\n",
       "    }\n",
       "\n",
       "    .dataframe thead th {\n",
       "        text-align: right;\n",
       "    }\n",
       "</style>\n",
       "<table border=\"1\" class=\"dataframe\">\n",
       "  <thead>\n",
       "    <tr style=\"text-align: right;\">\n",
       "      <th></th>\n",
       "      <th>total_sales</th>\n",
       "      <th>critic_score</th>\n",
       "      <th>user_score</th>\n",
       "    </tr>\n",
       "  </thead>\n",
       "  <tbody>\n",
       "    <tr>\n",
       "      <th>165</th>\n",
       "      <td>5.47</td>\n",
       "      <td>97.0</td>\n",
       "      <td>7.9</td>\n",
       "    </tr>\n",
       "    <tr>\n",
       "      <th>179</th>\n",
       "      <td>5.26</td>\n",
       "      <td>81.0</td>\n",
       "      <td>5.4</td>\n",
       "    </tr>\n",
       "    <tr>\n",
       "      <th>242</th>\n",
       "      <td>4.49</td>\n",
       "      <td>84.0</td>\n",
       "      <td>6.4</td>\n",
       "    </tr>\n",
       "    <tr>\n",
       "      <th>270</th>\n",
       "      <td>4.22</td>\n",
       "      <td>88.0</td>\n",
       "      <td>6.2</td>\n",
       "    </tr>\n",
       "    <tr>\n",
       "      <th>373</th>\n",
       "      <td>3.50</td>\n",
       "      <td>72.0</td>\n",
       "      <td>4.1</td>\n",
       "    </tr>\n",
       "    <tr>\n",
       "      <th>...</th>\n",
       "      <td>...</td>\n",
       "      <td>...</td>\n",
       "      <td>...</td>\n",
       "    </tr>\n",
       "    <tr>\n",
       "      <th>16322</th>\n",
       "      <td>0.01</td>\n",
       "      <td>66.0</td>\n",
       "      <td>7.5</td>\n",
       "    </tr>\n",
       "    <tr>\n",
       "      <th>16392</th>\n",
       "      <td>0.01</td>\n",
       "      <td>53.0</td>\n",
       "      <td>6.3</td>\n",
       "    </tr>\n",
       "    <tr>\n",
       "      <th>16597</th>\n",
       "      <td>0.01</td>\n",
       "      <td>65.0</td>\n",
       "      <td>6.0</td>\n",
       "    </tr>\n",
       "    <tr>\n",
       "      <th>16630</th>\n",
       "      <td>0.01</td>\n",
       "      <td>63.0</td>\n",
       "      <td>8.2</td>\n",
       "    </tr>\n",
       "    <tr>\n",
       "      <th>16660</th>\n",
       "      <td>0.01</td>\n",
       "      <td>74.0</td>\n",
       "      <td>6.7</td>\n",
       "    </tr>\n",
       "  </tbody>\n",
       "</table>\n",
       "<p>165 rows × 3 columns</p>\n",
       "</div>"
      ],
      "text/plain": [
       "       total_sales  critic_score  user_score\n",
       "165           5.47          97.0         7.9\n",
       "179           5.26          81.0         5.4\n",
       "242           4.49          84.0         6.4\n",
       "270           4.22          88.0         6.2\n",
       "373           3.50          72.0         4.1\n",
       "...            ...           ...         ...\n",
       "16322         0.01          66.0         7.5\n",
       "16392         0.01          53.0         6.3\n",
       "16597         0.01          65.0         6.0\n",
       "16630         0.01          63.0         8.2\n",
       "16660         0.01          74.0         6.7\n",
       "\n",
       "[165 rows x 3 columns]"
      ]
     },
     "execution_count": 45,
     "metadata": {},
     "output_type": "execute_result"
    }
   ],
   "source": [
    "#проверим что получилось\n",
    "xone_ratings.sort_values(by='total_sales', ascending=False)"
   ]
  },
  {
   "cell_type": "markdown",
   "metadata": {},
   "source": [
    "Посчитаем корреляцию от дохода "
   ]
  },
  {
   "cell_type": "code",
   "execution_count": 46,
   "metadata": {},
   "outputs": [
    {
     "data": {
      "text/html": [
       "<div>\n",
       "<style scoped>\n",
       "    .dataframe tbody tr th:only-of-type {\n",
       "        vertical-align: middle;\n",
       "    }\n",
       "\n",
       "    .dataframe tbody tr th {\n",
       "        vertical-align: top;\n",
       "    }\n",
       "\n",
       "    .dataframe thead th {\n",
       "        text-align: right;\n",
       "    }\n",
       "</style>\n",
       "<table border=\"1\" class=\"dataframe\">\n",
       "  <thead>\n",
       "    <tr style=\"text-align: right;\">\n",
       "      <th></th>\n",
       "      <th>total_sales</th>\n",
       "      <th>critic_score</th>\n",
       "      <th>user_score</th>\n",
       "    </tr>\n",
       "  </thead>\n",
       "  <tbody>\n",
       "    <tr>\n",
       "      <th>total_sales</th>\n",
       "      <td>1.000000</td>\n",
       "      <td>0.410422</td>\n",
       "      <td>-0.094003</td>\n",
       "    </tr>\n",
       "    <tr>\n",
       "      <th>critic_score</th>\n",
       "      <td>0.410422</td>\n",
       "      <td>1.000000</td>\n",
       "      <td>0.472462</td>\n",
       "    </tr>\n",
       "    <tr>\n",
       "      <th>user_score</th>\n",
       "      <td>-0.094003</td>\n",
       "      <td>0.472462</td>\n",
       "      <td>1.000000</td>\n",
       "    </tr>\n",
       "  </tbody>\n",
       "</table>\n",
       "</div>"
      ],
      "text/plain": [
       "              total_sales  critic_score  user_score\n",
       "total_sales      1.000000      0.410422   -0.094003\n",
       "critic_score     0.410422      1.000000    0.472462\n",
       "user_score      -0.094003      0.472462    1.000000"
      ]
     },
     "execution_count": 46,
     "metadata": {},
     "output_type": "execute_result"
    }
   ],
   "source": [
    "xone_ratings.corr()"
   ]
  },
  {
   "cell_type": "code",
   "execution_count": 47,
   "metadata": {},
   "outputs": [
    {
     "data": {
      "image/png": "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\n",
      "text/plain": [
       "<Figure size 720x720 with 9 Axes>"
      ]
     },
     "metadata": {
      "needs_background": "light"
     },
     "output_type": "display_data"
    }
   ],
   "source": [
    "pd.plotting.scatter_matrix(xone_ratings, figsize=(10, 10));"
   ]
  },
  {
   "cell_type": "markdown",
   "metadata": {},
   "source": [
    "Вывод по XOne\n",
    "Зависимость от оценки критиков буквально на доли процентов больше, чем у PS4, но в целом такая же низкая, зависимость от оценки пользователей такая же, как у PS4. Зависимость от оценки пользователей отрицательная - 0.01. \n",
    "У игр с высокими показателями продаж-высокая оценка у критиков выше 70 и абсолютно разная у пользователей. Так например, игра с продажами на 5.47 млн получила оценку критиков - 97.0, оценку пользователей - 7.9, игра с продажами на 5.26 получила у критиков - 81.0, у пользователей - 5.4"
   ]
  },
  {
   "cell_type": "markdown",
   "metadata": {},
   "source": [
    "Оценим 3DS:"
   ]
  },
  {
   "cell_type": "code",
   "execution_count": 48,
   "metadata": {},
   "outputs": [
    {
     "data": {
      "text/plain": [
       "0.25252525252525254"
      ]
     },
     "execution_count": 48,
     "metadata": {},
     "output_type": "execute_result"
    }
   ],
   "source": [
    "ds_ratings_1 = ds_data_games_sales.loc[:,['total_sales', 'critic_score', 'user_score']]\n",
    "ds_ratings = ds_ratings_1.query('user_score != 0.1 and user_score !=9.9 and critic_score != 9.9')\n",
    "\n",
    "#проверим сколько данных убрали\n",
    "ds_ratings.shape[0] / ds_ratings_1.shape[0]"
   ]
  },
  {
   "cell_type": "code",
   "execution_count": 49,
   "metadata": {},
   "outputs": [
    {
     "data": {
      "text/html": [
       "<div>\n",
       "<style scoped>\n",
       "    .dataframe tbody tr th:only-of-type {\n",
       "        vertical-align: middle;\n",
       "    }\n",
       "\n",
       "    .dataframe tbody tr th {\n",
       "        vertical-align: top;\n",
       "    }\n",
       "\n",
       "    .dataframe thead th {\n",
       "        text-align: right;\n",
       "    }\n",
       "</style>\n",
       "<table border=\"1\" class=\"dataframe\">\n",
       "  <thead>\n",
       "    <tr style=\"text-align: right;\">\n",
       "      <th></th>\n",
       "      <th>total_sales</th>\n",
       "      <th>critic_score</th>\n",
       "      <th>user_score</th>\n",
       "    </tr>\n",
       "  </thead>\n",
       "  <tbody>\n",
       "    <tr>\n",
       "      <th>62</th>\n",
       "      <td>9.90</td>\n",
       "      <td>78.0</td>\n",
       "      <td>7.2</td>\n",
       "    </tr>\n",
       "    <tr>\n",
       "      <th>73</th>\n",
       "      <td>9.17</td>\n",
       "      <td>88.0</td>\n",
       "      <td>8.7</td>\n",
       "    </tr>\n",
       "    <tr>\n",
       "      <th>235</th>\n",
       "      <td>4.59</td>\n",
       "      <td>86.0</td>\n",
       "      <td>8.4</td>\n",
       "    </tr>\n",
       "    <tr>\n",
       "      <th>312</th>\n",
       "      <td>3.89</td>\n",
       "      <td>86.0</td>\n",
       "      <td>8.7</td>\n",
       "    </tr>\n",
       "    <tr>\n",
       "      <th>448</th>\n",
       "      <td>3.10</td>\n",
       "      <td>91.0</td>\n",
       "      <td>8.9</td>\n",
       "    </tr>\n",
       "    <tr>\n",
       "      <th>...</th>\n",
       "      <td>...</td>\n",
       "      <td>...</td>\n",
       "      <td>...</td>\n",
       "    </tr>\n",
       "    <tr>\n",
       "      <th>14274</th>\n",
       "      <td>0.03</td>\n",
       "      <td>74.0</td>\n",
       "      <td>7.7</td>\n",
       "    </tr>\n",
       "    <tr>\n",
       "      <th>14472</th>\n",
       "      <td>0.03</td>\n",
       "      <td>88.0</td>\n",
       "      <td>8.8</td>\n",
       "    </tr>\n",
       "    <tr>\n",
       "      <th>15211</th>\n",
       "      <td>0.02</td>\n",
       "      <td>81.0</td>\n",
       "      <td>9.0</td>\n",
       "    </tr>\n",
       "    <tr>\n",
       "      <th>15521</th>\n",
       "      <td>0.02</td>\n",
       "      <td>26.0</td>\n",
       "      <td>2.4</td>\n",
       "    </tr>\n",
       "    <tr>\n",
       "      <th>16143</th>\n",
       "      <td>0.01</td>\n",
       "      <td>77.0</td>\n",
       "      <td>8.4</td>\n",
       "    </tr>\n",
       "  </tbody>\n",
       "</table>\n",
       "<p>100 rows × 3 columns</p>\n",
       "</div>"
      ],
      "text/plain": [
       "       total_sales  critic_score  user_score\n",
       "62            9.90          78.0         7.2\n",
       "73            9.17          88.0         8.7\n",
       "235           4.59          86.0         8.4\n",
       "312           3.89          86.0         8.7\n",
       "448           3.10          91.0         8.9\n",
       "...            ...           ...         ...\n",
       "14274         0.03          74.0         7.7\n",
       "14472         0.03          88.0         8.8\n",
       "15211         0.02          81.0         9.0\n",
       "15521         0.02          26.0         2.4\n",
       "16143         0.01          77.0         8.4\n",
       "\n",
       "[100 rows x 3 columns]"
      ]
     },
     "execution_count": 49,
     "metadata": {},
     "output_type": "execute_result"
    }
   ],
   "source": [
    "#проверим что получилось\n",
    "ds_ratings.sort_values(by='total_sales', ascending=False)"
   ]
  },
  {
   "cell_type": "code",
   "execution_count": 50,
   "metadata": {},
   "outputs": [
    {
     "data": {
      "text/html": [
       "<div>\n",
       "<style scoped>\n",
       "    .dataframe tbody tr th:only-of-type {\n",
       "        vertical-align: middle;\n",
       "    }\n",
       "\n",
       "    .dataframe tbody tr th {\n",
       "        vertical-align: top;\n",
       "    }\n",
       "\n",
       "    .dataframe thead th {\n",
       "        text-align: right;\n",
       "    }\n",
       "</style>\n",
       "<table border=\"1\" class=\"dataframe\">\n",
       "  <thead>\n",
       "    <tr style=\"text-align: right;\">\n",
       "      <th></th>\n",
       "      <th>total_sales</th>\n",
       "      <th>critic_score</th>\n",
       "      <th>user_score</th>\n",
       "    </tr>\n",
       "  </thead>\n",
       "  <tbody>\n",
       "    <tr>\n",
       "      <th>total_sales</th>\n",
       "      <td>1.000000</td>\n",
       "      <td>0.310553</td>\n",
       "      <td>0.201813</td>\n",
       "    </tr>\n",
       "    <tr>\n",
       "      <th>critic_score</th>\n",
       "      <td>0.310553</td>\n",
       "      <td>1.000000</td>\n",
       "      <td>0.722762</td>\n",
       "    </tr>\n",
       "    <tr>\n",
       "      <th>user_score</th>\n",
       "      <td>0.201813</td>\n",
       "      <td>0.722762</td>\n",
       "      <td>1.000000</td>\n",
       "    </tr>\n",
       "  </tbody>\n",
       "</table>\n",
       "</div>"
      ],
      "text/plain": [
       "              total_sales  critic_score  user_score\n",
       "total_sales      1.000000      0.310553    0.201813\n",
       "critic_score     0.310553      1.000000    0.722762\n",
       "user_score       0.201813      0.722762    1.000000"
      ]
     },
     "execution_count": 50,
     "metadata": {},
     "output_type": "execute_result"
    }
   ],
   "source": [
    "ds_ratings.corr()"
   ]
  },
  {
   "cell_type": "code",
   "execution_count": 51,
   "metadata": {},
   "outputs": [
    {
     "data": {
      "image/png": "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\n",
      "text/plain": [
       "<Figure size 720x720 with 9 Axes>"
      ]
     },
     "metadata": {
      "needs_background": "light"
     },
     "output_type": "display_data"
    }
   ],
   "source": [
    "pd.plotting.scatter_matrix(ds_ratings, figsize=(10, 10));"
   ]
  },
  {
   "cell_type": "markdown",
   "metadata": {},
   "source": [
    "Вывод по 3DS\n",
    "\n",
    "У 3DS коэффициент корреляции оценки пользователей значительно выше, чем у XOne и PS4 - 0.2. Зависимость от оценок почти такая же, как у PS4 и XOne - 0,3. Эти показатели слишком низкие, чтобы сделать вывод о том, что оценки влияют на продажи. "
   ]
  },
  {
   "cell_type": "markdown",
   "metadata": {},
   "source": [
    "<div class=\"alert alert-success\">\n",
    "<h2> Комментарий ревьюера v1 <a class=\"tocSkip\"> </h2>\n",
    "\n",
    "<b>Все супер!👍:</b> По зависимостям все супер) "
   ]
  },
  {
   "cell_type": "markdown",
   "metadata": {},
   "source": [
    "**6) Посмотрим на общее распределение игр по жанрам. Что можно сказать о самых прибыльных жанрах? Выделяются ли жанры с высокими и низкими продажами?**"
   ]
  },
  {
   "cell_type": "code",
   "execution_count": 52,
   "metadata": {},
   "outputs": [
    {
     "data": {
      "text/html": [
       "<div>\n",
       "<style scoped>\n",
       "    .dataframe tbody tr th:only-of-type {\n",
       "        vertical-align: middle;\n",
       "    }\n",
       "\n",
       "    .dataframe tbody tr th {\n",
       "        vertical-align: top;\n",
       "    }\n",
       "\n",
       "    .dataframe thead th {\n",
       "        text-align: right;\n",
       "    }\n",
       "</style>\n",
       "<table border=\"1\" class=\"dataframe\">\n",
       "  <thead>\n",
       "    <tr style=\"text-align: right;\">\n",
       "      <th></th>\n",
       "      <th>total_sales</th>\n",
       "    </tr>\n",
       "    <tr>\n",
       "      <th>genre</th>\n",
       "      <th></th>\n",
       "    </tr>\n",
       "  </thead>\n",
       "  <tbody>\n",
       "    <tr>\n",
       "      <th>action</th>\n",
       "      <td>441.12</td>\n",
       "    </tr>\n",
       "    <tr>\n",
       "      <th>shooter</th>\n",
       "      <td>304.73</td>\n",
       "    </tr>\n",
       "    <tr>\n",
       "      <th>role-playing</th>\n",
       "      <td>192.80</td>\n",
       "    </tr>\n",
       "    <tr>\n",
       "      <th>sports</th>\n",
       "      <td>181.07</td>\n",
       "    </tr>\n",
       "    <tr>\n",
       "      <th>misc</th>\n",
       "      <td>85.04</td>\n",
       "    </tr>\n",
       "    <tr>\n",
       "      <th>platform</th>\n",
       "      <td>61.00</td>\n",
       "    </tr>\n",
       "    <tr>\n",
       "      <th>racing</th>\n",
       "      <td>53.50</td>\n",
       "    </tr>\n",
       "    <tr>\n",
       "      <th>fighting</th>\n",
       "      <td>44.49</td>\n",
       "    </tr>\n",
       "    <tr>\n",
       "      <th>simulation</th>\n",
       "      <td>35.12</td>\n",
       "    </tr>\n",
       "    <tr>\n",
       "      <th>adventure</th>\n",
       "      <td>29.43</td>\n",
       "    </tr>\n",
       "    <tr>\n",
       "      <th>strategy</th>\n",
       "      <td>13.34</td>\n",
       "    </tr>\n",
       "    <tr>\n",
       "      <th>puzzle</th>\n",
       "      <td>4.89</td>\n",
       "    </tr>\n",
       "  </tbody>\n",
       "</table>\n",
       "</div>"
      ],
      "text/plain": [
       "              total_sales\n",
       "genre                    \n",
       "action             441.12\n",
       "shooter            304.73\n",
       "role-playing       192.80\n",
       "sports             181.07\n",
       "misc                85.04\n",
       "platform            61.00\n",
       "racing              53.50\n",
       "fighting            44.49\n",
       "simulation          35.12\n",
       "adventure           29.43\n",
       "strategy            13.34\n",
       "puzzle               4.89"
      ]
     },
     "execution_count": 52,
     "metadata": {},
     "output_type": "execute_result"
    }
   ],
   "source": [
    "genre_pt = pd.pivot_table(data_games_sales, index='genre', values='total_sales', aggfunc='sum')\n",
    "genre_pt = genre_pt.sort_values('total_sales', ascending=False)\n",
    "genre_pt"
   ]
  },
  {
   "cell_type": "markdown",
   "metadata": {},
   "source": [
    "Визуализируем показатели продаж в 3х регионах с 2012 по 2016 годы:"
   ]
  },
  {
   "cell_type": "code",
   "execution_count": 53,
   "metadata": {},
   "outputs": [
    {
     "data": {
      "image/png": "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\n",
      "text/plain": [
       "<Figure size 936x432 with 1 Axes>"
      ]
     },
     "metadata": {
      "needs_background": "light"
     },
     "output_type": "display_data"
    }
   ],
   "source": [
    "plt.figure(figsize=(13,6))\n",
    "\n",
    "sns.barplot(x=genre_pt.index,y=genre_pt['total_sales']);\n",
    "plt.title(\"Продажи по жанрам в 3х регионах\");\n",
    "plt.xlabel(\"Название жанра\");\n",
    "plt.ylabel(\"Количество продаж\");"
   ]
  },
  {
   "cell_type": "markdown",
   "metadata": {},
   "source": [
    "Рассмотрим средние и медианные продажи всех жанров, чтобы понять не обусловлены ли высокие продажи просто большим количеством игр."
   ]
  },
  {
   "cell_type": "code",
   "execution_count": 54,
   "metadata": {},
   "outputs": [
    {
     "data": {
      "text/plain": [
       "count    12425.000000\n",
       "mean         0.597296\n",
       "std          1.698736\n",
       "min          0.000000\n",
       "25%          0.070000\n",
       "50%          0.200000\n",
       "75%          0.530000\n",
       "max         82.540000\n",
       "Name: total_sales, dtype: float64"
      ]
     },
     "execution_count": 54,
     "metadata": {},
     "output_type": "execute_result"
    },
    {
     "data": {
      "image/png": "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\n",
      "text/plain": [
       "<Figure size 720x216 with 1 Axes>"
      ]
     },
     "metadata": {
      "needs_background": "light"
     },
     "output_type": "display_data"
    }
   ],
   "source": [
    "list_of_genres = ['action','shooter','role-playing', 'sports', 'misc', 'platform', 'racing']\n",
    "df_genres = data[data['genre'].isin(['action','shooter','role-playing', 'sports', 'misc', 'platform', 'racing'])]\n",
    "\n",
    "plt.figure(figsize=(10,3))\n",
    "sns.boxplot(data=df_genres, x='genre', y='total_sales')\n",
    "plt.ylim(0,2.5)\n",
    "plt.title('Диаграмма размаха', fontsize=12)\n",
    "plt.xlabel('Платформа', fontsize=12)\n",
    "plt.ylabel('Продажи в 3х регионах, млн.$',fontsize=12);\n",
    "\n",
    "df_genres['total_sales'].describe()"
   ]
  },
  {
   "cell_type": "markdown",
   "metadata": {},
   "source": [
    "**Вывод по жанрам**:\n",
    "Судя по выручке, игры в топ жанрах редко выходят выше выручки в 1-2 млн долларов.\n",
    "\n",
    "ТОП-5 жанров судя по общей выручке : action\t(441.12), shooter (304.73), role-playing (192.80), sports (181.07), misc (85.04). Судя по таблице выручки: жанр racing(53 млн), fighting(44 млн), simulation(35) гораздо менее популярен. А игры вроде стратегий(13 млн) и пазлов(4 млн) возможно перебрались в другие устройства вроде телефонов и в срезе данных по консолям они на последних местах.\n",
    "\n",
    "Но, судя по диаграмме размаха, некоторые жанры оказались в топе не за счет успеха игры, а за счет бОльшего числа игр. Чем больше игр, тем больше суммарно получается выручка. Если судить по диаграмме размаха, то лидерами будут platform (с размахом до 1.9 млн и медианной в 300-350 тысяч долларов)б shooter (с размахом до 1.7 млн, и медианной 300 тысяч долларов). Это 2 жанра лидера, так как показатель высокой выручки у них достигается за счет качества игр, а не количества. Жанр action на 3м месте. Racing,Role-playing и sports на одном уровне."
   ]
  },
  {
   "cell_type": "markdown",
   "metadata": {},
   "source": [
    "<div class=\"alert alert-block alert-danger\">\n",
    "<h2> Комментарий ревьюера v1 <a class=\"tocSkip\"></h2>\n",
    "\n",
    "<b>На доработку🤔:</b> А рассмотрим успешность продаж? Высокие продажи могут быть вызваны не успехом, а просто огромным количеством игр. Вполне могут быть жанры, где игр немного, но при этом продажи сопоставимы с продажами Экшена. Чтобы проверить это, стоит рассмотреть средние или медианные продажи"
   ]
  },
  {
   "cell_type": "markdown",
   "metadata": {},
   "source": [
    "<div class=\"alert alert-info\">\n",
    "<b>Добавила коробку с усами, график на жанры и исправила вывод </b> \n",
    "</div>"
   ]
  },
  {
   "cell_type": "markdown",
   "metadata": {},
   "source": [
    "<div class=\"alert alert-success\">\n",
    "<h2> Комментарий ревьюера v2 <a class=\"tocSkip\"> </h2>\n",
    "\n",
    "<b>Все супер!👍:</b> Идеально!"
   ]
  },
  {
   "cell_type": "markdown",
   "metadata": {},
   "source": [
    "**Шаг 4. Составим портрет пользователя каждого региона**\n",
    "\n",
    "\n",
    "Определите для пользователя каждого региона (NA, EU, JP):\n",
    "- Самые популярные платформы (топ-5). Опишите различия в долях продаж.\n",
    "- Самые популярные жанры (топ-5). Опишите разницу.\n",
    "- Оцените, влияет ли рейтинг ESRB на продажи в отдельном регионе?"
   ]
  },
  {
   "cell_type": "markdown",
   "metadata": {},
   "source": [
    "**1) Регион Северная Америка** Сначала подготовим данные, для анализа возьмем все строки, где продажи больше 0 и уберем строки, где рейтинг неизвестен (мы его меняли на 0)"
   ]
  },
  {
   "cell_type": "code",
   "execution_count": 55,
   "metadata": {},
   "outputs": [
    {
     "data": {
      "text/html": [
       "<div>\n",
       "<style scoped>\n",
       "    .dataframe tbody tr th:only-of-type {\n",
       "        vertical-align: middle;\n",
       "    }\n",
       "\n",
       "    .dataframe tbody tr th {\n",
       "        vertical-align: top;\n",
       "    }\n",
       "\n",
       "    .dataframe thead th {\n",
       "        text-align: right;\n",
       "    }\n",
       "</style>\n",
       "<table border=\"1\" class=\"dataframe\">\n",
       "  <thead>\n",
       "    <tr style=\"text-align: right;\">\n",
       "      <th></th>\n",
       "      <th>name</th>\n",
       "      <th>platform</th>\n",
       "      <th>year_of_release</th>\n",
       "      <th>genre</th>\n",
       "      <th>na_sales</th>\n",
       "      <th>eu_sales</th>\n",
       "      <th>jp_sales</th>\n",
       "      <th>other_sales</th>\n",
       "      <th>critic_score</th>\n",
       "      <th>user_score</th>\n",
       "      <th>rating</th>\n",
       "      <th>total_sales</th>\n",
       "    </tr>\n",
       "  </thead>\n",
       "  <tbody>\n",
       "    <tr>\n",
       "      <th>16</th>\n",
       "      <td>grand theft auto v</td>\n",
       "      <td>PS3</td>\n",
       "      <td>2013</td>\n",
       "      <td>action</td>\n",
       "      <td>7.02</td>\n",
       "      <td>9.09</td>\n",
       "      <td>0.98</td>\n",
       "      <td>3.96</td>\n",
       "      <td>97.0</td>\n",
       "      <td>8.2</td>\n",
       "      <td>M</td>\n",
       "      <td>21.05</td>\n",
       "    </tr>\n",
       "    <tr>\n",
       "      <th>23</th>\n",
       "      <td>grand theft auto v</td>\n",
       "      <td>X360</td>\n",
       "      <td>2013</td>\n",
       "      <td>action</td>\n",
       "      <td>9.66</td>\n",
       "      <td>5.14</td>\n",
       "      <td>0.06</td>\n",
       "      <td>1.41</td>\n",
       "      <td>97.0</td>\n",
       "      <td>8.1</td>\n",
       "      <td>M</td>\n",
       "      <td>16.27</td>\n",
       "    </tr>\n",
       "    <tr>\n",
       "      <th>34</th>\n",
       "      <td>call of duty: black ops ii</td>\n",
       "      <td>PS3</td>\n",
       "      <td>2012</td>\n",
       "      <td>shooter</td>\n",
       "      <td>4.99</td>\n",
       "      <td>5.73</td>\n",
       "      <td>0.65</td>\n",
       "      <td>2.42</td>\n",
       "      <td>83.0</td>\n",
       "      <td>5.3</td>\n",
       "      <td>M</td>\n",
       "      <td>13.79</td>\n",
       "    </tr>\n",
       "    <tr>\n",
       "      <th>35</th>\n",
       "      <td>call of duty: black ops ii</td>\n",
       "      <td>X360</td>\n",
       "      <td>2012</td>\n",
       "      <td>shooter</td>\n",
       "      <td>8.25</td>\n",
       "      <td>4.24</td>\n",
       "      <td>0.07</td>\n",
       "      <td>1.12</td>\n",
       "      <td>83.0</td>\n",
       "      <td>4.8</td>\n",
       "      <td>M</td>\n",
       "      <td>13.68</td>\n",
       "    </tr>\n",
       "    <tr>\n",
       "      <th>42</th>\n",
       "      <td>grand theft auto v</td>\n",
       "      <td>PS4</td>\n",
       "      <td>2014</td>\n",
       "      <td>action</td>\n",
       "      <td>3.96</td>\n",
       "      <td>6.31</td>\n",
       "      <td>0.38</td>\n",
       "      <td>1.97</td>\n",
       "      <td>97.0</td>\n",
       "      <td>8.3</td>\n",
       "      <td>M</td>\n",
       "      <td>12.62</td>\n",
       "    </tr>\n",
       "    <tr>\n",
       "      <th>...</th>\n",
       "      <td>...</td>\n",
       "      <td>...</td>\n",
       "      <td>...</td>\n",
       "      <td>...</td>\n",
       "      <td>...</td>\n",
       "      <td>...</td>\n",
       "      <td>...</td>\n",
       "      <td>...</td>\n",
       "      <td>...</td>\n",
       "      <td>...</td>\n",
       "      <td>...</td>\n",
       "      <td>...</td>\n",
       "    </tr>\n",
       "    <tr>\n",
       "      <th>16613</th>\n",
       "      <td>dragon ball z for kinect</td>\n",
       "      <td>X360</td>\n",
       "      <td>2012</td>\n",
       "      <td>fighting</td>\n",
       "      <td>0.01</td>\n",
       "      <td>0.00</td>\n",
       "      <td>0.00</td>\n",
       "      <td>0.00</td>\n",
       "      <td>49.0</td>\n",
       "      <td>2.1</td>\n",
       "      <td>T</td>\n",
       "      <td>0.01</td>\n",
       "    </tr>\n",
       "    <tr>\n",
       "      <th>16615</th>\n",
       "      <td>balloon pop 2</td>\n",
       "      <td>3DS</td>\n",
       "      <td>2012</td>\n",
       "      <td>puzzle</td>\n",
       "      <td>0.01</td>\n",
       "      <td>0.00</td>\n",
       "      <td>0.00</td>\n",
       "      <td>0.00</td>\n",
       "      <td>9.9</td>\n",
       "      <td>0.1</td>\n",
       "      <td>E</td>\n",
       "      <td>0.01</td>\n",
       "    </tr>\n",
       "    <tr>\n",
       "      <th>16618</th>\n",
       "      <td>xblaze: lost memories</td>\n",
       "      <td>PSV</td>\n",
       "      <td>2015</td>\n",
       "      <td>adventure</td>\n",
       "      <td>0.01</td>\n",
       "      <td>0.00</td>\n",
       "      <td>0.00</td>\n",
       "      <td>0.00</td>\n",
       "      <td>9.9</td>\n",
       "      <td>7.0</td>\n",
       "      <td>M</td>\n",
       "      <td>0.01</td>\n",
       "    </tr>\n",
       "    <tr>\n",
       "      <th>16672</th>\n",
       "      <td>metal gear solid v: the definitive experience</td>\n",
       "      <td>XOne</td>\n",
       "      <td>2016</td>\n",
       "      <td>action</td>\n",
       "      <td>0.01</td>\n",
       "      <td>0.00</td>\n",
       "      <td>0.00</td>\n",
       "      <td>0.00</td>\n",
       "      <td>9.9</td>\n",
       "      <td>0.1</td>\n",
       "      <td>M</td>\n",
       "      <td>0.01</td>\n",
       "    </tr>\n",
       "    <tr>\n",
       "      <th>16678</th>\n",
       "      <td>end of nations</td>\n",
       "      <td>PC</td>\n",
       "      <td>2012</td>\n",
       "      <td>strategy</td>\n",
       "      <td>0.01</td>\n",
       "      <td>0.00</td>\n",
       "      <td>0.00</td>\n",
       "      <td>0.00</td>\n",
       "      <td>9.9</td>\n",
       "      <td>9.9</td>\n",
       "      <td>T</td>\n",
       "      <td>0.01</td>\n",
       "    </tr>\n",
       "  </tbody>\n",
       "</table>\n",
       "<p>1323 rows × 12 columns</p>\n",
       "</div>"
      ],
      "text/plain": [
       "                                                name platform  \\\n",
       "16                                grand theft auto v      PS3   \n",
       "23                                grand theft auto v     X360   \n",
       "34                        call of duty: black ops ii      PS3   \n",
       "35                        call of duty: black ops ii     X360   \n",
       "42                                grand theft auto v      PS4   \n",
       "...                                              ...      ...   \n",
       "16613                       dragon ball z for kinect     X360   \n",
       "16615                                  balloon pop 2      3DS   \n",
       "16618                          xblaze: lost memories      PSV   \n",
       "16672  metal gear solid v: the definitive experience     XOne   \n",
       "16678                                 end of nations       PC   \n",
       "\n",
       "       year_of_release      genre  na_sales  eu_sales  jp_sales  other_sales  \\\n",
       "16                2013     action      7.02      9.09      0.98         3.96   \n",
       "23                2013     action      9.66      5.14      0.06         1.41   \n",
       "34                2012    shooter      4.99      5.73      0.65         2.42   \n",
       "35                2012    shooter      8.25      4.24      0.07         1.12   \n",
       "42                2014     action      3.96      6.31      0.38         1.97   \n",
       "...                ...        ...       ...       ...       ...          ...   \n",
       "16613             2012   fighting      0.01      0.00      0.00         0.00   \n",
       "16615             2012     puzzle      0.01      0.00      0.00         0.00   \n",
       "16618             2015  adventure      0.01      0.00      0.00         0.00   \n",
       "16672             2016     action      0.01      0.00      0.00         0.00   \n",
       "16678             2012   strategy      0.01      0.00      0.00         0.00   \n",
       "\n",
       "       critic_score  user_score rating  total_sales  \n",
       "16             97.0         8.2      M        21.05  \n",
       "23             97.0         8.1      M        16.27  \n",
       "34             83.0         5.3      M        13.79  \n",
       "35             83.0         4.8      M        13.68  \n",
       "42             97.0         8.3      M        12.62  \n",
       "...             ...         ...    ...          ...  \n",
       "16613          49.0         2.1      T         0.01  \n",
       "16615           9.9         0.1      E         0.01  \n",
       "16618           9.9         7.0      M         0.01  \n",
       "16672           9.9         0.1      M         0.01  \n",
       "16678           9.9         9.9      T         0.01  \n",
       "\n",
       "[1323 rows x 12 columns]"
      ]
     },
     "metadata": {},
     "output_type": "display_data"
    }
   ],
   "source": [
    "na_data_games_sales = data_games_sales.query('na_sales > 0 and rating !=0')\n",
    "display(na_data_games_sales)"
   ]
  },
  {
   "cell_type": "markdown",
   "metadata": {},
   "source": [
    "Определим топ-5 платформ по региону:"
   ]
  },
  {
   "cell_type": "code",
   "execution_count": 56,
   "metadata": {},
   "outputs": [
    {
     "data": {
      "text/html": [
       "<div>\n",
       "<style scoped>\n",
       "    .dataframe tbody tr th:only-of-type {\n",
       "        vertical-align: middle;\n",
       "    }\n",
       "\n",
       "    .dataframe tbody tr th {\n",
       "        vertical-align: top;\n",
       "    }\n",
       "\n",
       "    .dataframe thead th {\n",
       "        text-align: right;\n",
       "    }\n",
       "</style>\n",
       "<table border=\"1\" class=\"dataframe\">\n",
       "  <thead>\n",
       "    <tr style=\"text-align: right;\">\n",
       "      <th></th>\n",
       "      <th>na_sales</th>\n",
       "    </tr>\n",
       "    <tr>\n",
       "      <th>platform</th>\n",
       "      <th></th>\n",
       "    </tr>\n",
       "  </thead>\n",
       "  <tbody>\n",
       "    <tr>\n",
       "      <th>X360</th>\n",
       "      <td>126.31</td>\n",
       "    </tr>\n",
       "    <tr>\n",
       "      <th>PS3</th>\n",
       "      <td>91.23</td>\n",
       "    </tr>\n",
       "    <tr>\n",
       "      <th>PS4</th>\n",
       "      <td>84.97</td>\n",
       "    </tr>\n",
       "    <tr>\n",
       "      <th>XOne</th>\n",
       "      <td>78.49</td>\n",
       "    </tr>\n",
       "    <tr>\n",
       "      <th>WiiU</th>\n",
       "      <td>31.39</td>\n",
       "    </tr>\n",
       "    <tr>\n",
       "      <th>3DS</th>\n",
       "      <td>30.56</td>\n",
       "    </tr>\n",
       "    <tr>\n",
       "      <th>PC</th>\n",
       "      <td>17.89</td>\n",
       "    </tr>\n",
       "    <tr>\n",
       "      <th>Wii</th>\n",
       "      <td>16.24</td>\n",
       "    </tr>\n",
       "    <tr>\n",
       "      <th>PSV</th>\n",
       "      <td>9.04</td>\n",
       "    </tr>\n",
       "    <tr>\n",
       "      <th>DS</th>\n",
       "      <td>1.41</td>\n",
       "    </tr>\n",
       "    <tr>\n",
       "      <th>PSP</th>\n",
       "      <td>0.13</td>\n",
       "    </tr>\n",
       "  </tbody>\n",
       "</table>\n",
       "</div>"
      ],
      "text/plain": [
       "          na_sales\n",
       "platform          \n",
       "X360        126.31\n",
       "PS3          91.23\n",
       "PS4          84.97\n",
       "XOne         78.49\n",
       "WiiU         31.39\n",
       "3DS          30.56\n",
       "PC           17.89\n",
       "Wii          16.24\n",
       "PSV           9.04\n",
       "DS            1.41\n",
       "PSP           0.13"
      ]
     },
     "execution_count": 56,
     "metadata": {},
     "output_type": "execute_result"
    }
   ],
   "source": [
    "na_platform_pt = pd.pivot_table(na_data_games_sales, index='platform', values='na_sales',\n",
    "                                        aggfunc='sum').sort_values('na_sales', ascending=False)\n",
    "na_platform_pt"
   ]
  },
  {
   "cell_type": "markdown",
   "metadata": {},
   "source": [
    "Топ-5 платформ в Северной Америке: X360 (126 млн), PS3 (91 млн), PS4 (84 млн), XOne(78 млн), WiiU(31 млн). Визуализируем результаты:"
   ]
  },
  {
   "cell_type": "code",
   "execution_count": 57,
   "metadata": {},
   "outputs": [
    {
     "data": {
      "image/png": "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\n",
      "text/plain": [
       "<Figure size 936x432 with 1 Axes>"
      ]
     },
     "metadata": {
      "needs_background": "light"
     },
     "output_type": "display_data"
    }
   ],
   "source": [
    "plt.figure(figsize=(13,6))\n",
    "\n",
    "sns.barplot(x=na_platform_pt.index,y=na_platform_pt['na_sales']);\n",
    "plt.title(\"Продажи на платформах в Cеверной Америке\");\n",
    "plt.xlabel(\"Название жанра\");\n",
    "plt.ylabel(\"Количество продаж\");"
   ]
  },
  {
   "cell_type": "markdown",
   "metadata": {},
   "source": [
    "Посмотрим популярные жанры в Северной Америке, составим еще 1 сводную таблицу"
   ]
  },
  {
   "cell_type": "code",
   "execution_count": 58,
   "metadata": {},
   "outputs": [
    {
     "data": {
      "text/html": [
       "<div>\n",
       "<style scoped>\n",
       "    .dataframe tbody tr th:only-of-type {\n",
       "        vertical-align: middle;\n",
       "    }\n",
       "\n",
       "    .dataframe tbody tr th {\n",
       "        vertical-align: top;\n",
       "    }\n",
       "\n",
       "    .dataframe thead th {\n",
       "        text-align: right;\n",
       "    }\n",
       "</style>\n",
       "<table border=\"1\" class=\"dataframe\">\n",
       "  <thead>\n",
       "    <tr style=\"text-align: right;\">\n",
       "      <th></th>\n",
       "      <th>na_sales</th>\n",
       "    </tr>\n",
       "    <tr>\n",
       "      <th>genre</th>\n",
       "      <th></th>\n",
       "    </tr>\n",
       "  </thead>\n",
       "  <tbody>\n",
       "    <tr>\n",
       "      <th>action</th>\n",
       "      <td>155.16</td>\n",
       "    </tr>\n",
       "    <tr>\n",
       "      <th>shooter</th>\n",
       "      <td>124.91</td>\n",
       "    </tr>\n",
       "    <tr>\n",
       "      <th>sports</th>\n",
       "      <td>80.06</td>\n",
       "    </tr>\n",
       "    <tr>\n",
       "      <th>role-playing</th>\n",
       "      <td>37.92</td>\n",
       "    </tr>\n",
       "    <tr>\n",
       "      <th>misc</th>\n",
       "      <td>24.28</td>\n",
       "    </tr>\n",
       "    <tr>\n",
       "      <th>platform</th>\n",
       "      <td>22.40</td>\n",
       "    </tr>\n",
       "    <tr>\n",
       "      <th>racing</th>\n",
       "      <td>14.42</td>\n",
       "    </tr>\n",
       "    <tr>\n",
       "      <th>fighting</th>\n",
       "      <td>12.48</td>\n",
       "    </tr>\n",
       "    <tr>\n",
       "      <th>simulation</th>\n",
       "      <td>5.98</td>\n",
       "    </tr>\n",
       "    <tr>\n",
       "      <th>adventure</th>\n",
       "      <td>4.98</td>\n",
       "    </tr>\n",
       "    <tr>\n",
       "      <th>strategy</th>\n",
       "      <td>4.00</td>\n",
       "    </tr>\n",
       "    <tr>\n",
       "      <th>puzzle</th>\n",
       "      <td>1.07</td>\n",
       "    </tr>\n",
       "  </tbody>\n",
       "</table>\n",
       "</div>"
      ],
      "text/plain": [
       "              na_sales\n",
       "genre                 \n",
       "action          155.16\n",
       "shooter         124.91\n",
       "sports           80.06\n",
       "role-playing     37.92\n",
       "misc             24.28\n",
       "platform         22.40\n",
       "racing           14.42\n",
       "fighting         12.48\n",
       "simulation        5.98\n",
       "adventure         4.98\n",
       "strategy          4.00\n",
       "puzzle            1.07"
      ]
     },
     "execution_count": 58,
     "metadata": {},
     "output_type": "execute_result"
    }
   ],
   "source": [
    "na_genre_pt = pd.pivot_table(na_data_games_sales, index='genre', values='na_sales',\n",
    "                                        aggfunc='sum').sort_values('na_sales', ascending=False)\n",
    "na_genre_pt"
   ]
  },
  {
   "cell_type": "code",
   "execution_count": 59,
   "metadata": {},
   "outputs": [
    {
     "data": {
      "image/png": "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\n",
      "text/plain": [
       "<Figure size 936x432 with 1 Axes>"
      ]
     },
     "metadata": {
      "needs_background": "light"
     },
     "output_type": "display_data"
    }
   ],
   "source": [
    "plt.figure(figsize=(13,6))\n",
    "\n",
    "sns.barplot(x=na_genre_pt.index,y=na_genre_pt['na_sales']);\n",
    "plt.title(\"Топ жанров в Cеверной Америке\");\n",
    "plt.xlabel(\"Название жанра\");\n",
    "plt.ylabel(\"Количество продаж\");"
   ]
  },
  {
   "cell_type": "markdown",
   "metadata": {},
   "source": [
    "Топ-5 популярных жанров в Северной Америке: action(155 млн), shooter(124 млн), sport(80 млн), role-playing(37 млн), misc (24 млн). "
   ]
  },
  {
   "cell_type": "markdown",
   "metadata": {},
   "source": [
    "Оценим, влияет ли рейтинг ESRB на продажи в отдельном регионе, составим сводную таблицу"
   ]
  },
  {
   "cell_type": "code",
   "execution_count": 60,
   "metadata": {},
   "outputs": [
    {
     "data": {
      "text/html": [
       "<div>\n",
       "<style scoped>\n",
       "    .dataframe tbody tr th:only-of-type {\n",
       "        vertical-align: middle;\n",
       "    }\n",
       "\n",
       "    .dataframe tbody tr th {\n",
       "        vertical-align: top;\n",
       "    }\n",
       "\n",
       "    .dataframe thead th {\n",
       "        text-align: right;\n",
       "    }\n",
       "</style>\n",
       "<table border=\"1\" class=\"dataframe\">\n",
       "  <thead>\n",
       "    <tr style=\"text-align: right;\">\n",
       "      <th></th>\n",
       "      <th>na_sales</th>\n",
       "    </tr>\n",
       "    <tr>\n",
       "      <th>rating</th>\n",
       "      <th></th>\n",
       "    </tr>\n",
       "  </thead>\n",
       "  <tbody>\n",
       "    <tr>\n",
       "      <th>M</th>\n",
       "      <td>231.57</td>\n",
       "    </tr>\n",
       "    <tr>\n",
       "      <th>E</th>\n",
       "      <td>114.37</td>\n",
       "    </tr>\n",
       "    <tr>\n",
       "      <th>E10+</th>\n",
       "      <td>75.70</td>\n",
       "    </tr>\n",
       "    <tr>\n",
       "      <th>T</th>\n",
       "      <td>66.02</td>\n",
       "    </tr>\n",
       "  </tbody>\n",
       "</table>\n",
       "</div>"
      ],
      "text/plain": [
       "        na_sales\n",
       "rating          \n",
       "M         231.57\n",
       "E         114.37\n",
       "E10+       75.70\n",
       "T          66.02"
      ]
     },
     "execution_count": 60,
     "metadata": {},
     "output_type": "execute_result"
    }
   ],
   "source": [
    "na_rating_pt = pd.pivot_table(na_data_games_sales, index='rating', values='na_sales',\n",
    "                                        aggfunc='sum').sort_values('na_sales', ascending=False)\n",
    "na_rating_pt"
   ]
  },
  {
   "cell_type": "code",
   "execution_count": 61,
   "metadata": {},
   "outputs": [
    {
     "data": {
      "image/png": "iVBORw0KGgoAAAANSUhEUgAAAmQAAAGDCAYAAACFuAwbAAAAOXRFWHRTb2Z0d2FyZQBNYXRwbG90bGliIHZlcnNpb24zLjMuNCwgaHR0cHM6Ly9tYXRwbG90bGliLm9yZy8QVMy6AAAACXBIWXMAAAsTAAALEwEAmpwYAAAfm0lEQVR4nO3de7htdV3v8fdHLoISN9lyuG22IlqIcXGrGOQlKgVSzBQhFSQ9nJMa0eMxL1mi5aXCNCk0bgFiEGEGEqlEgmJe2hsUCDMRkYtcRWRDpALf88cYi6bLtfYa+zL3b+0136/nmc+a4zcu8zvnHA/7w+/3G2OmqpAkSVI7j2hdgCRJ0qQzkEmSJDVmIJMkSWrMQCZJktSYgUySJKkxA5kkSVJjBjJpnkqyW5IDk2yQ5NAk27euSfNbkt9KssnUudO6HknDGcikMUpyfZL7k9yb5LYkpyXZbODudwBvA+4EDgfuGluhqyHJq5I82L+30cf2/fr9kvxrku8nuSvJ55M8bYZ970ny1SS/MnLsJUlq5Ji3JTkhyUZrqfYkOTrJ1UnuS3JTkr9L8pS1cfyGtgNuBM4D7plr4ySPS/JQkg+NvTJJK2Ugk8bvBVW1GbA3sJQuZM2pqu6oqp+rqq2q6sCq+u+xVrl6vlBVm017fCfJ5sAFwPHA1sAOwDuAH0zfF9gSOAE4O8mW046/Zb/NU4BnAq9bS3X/OfDbwNF9fU8E/gE4aC0dv4mqemtVLaqqXavqsgG7HA58D3hZkkeOuTxJK2Egk9aRqroZ+Cdgd4AkWyQ5JcktSW5O8kdJNujXvSrJw/+gJvndvsfoF5M8c6Tn6EdJfjiyvHhl+/bLxyY5c2T9hv36Jf3yadOOeW+SLVbx7T6xf89nVdWDVXV/VX26qq6c4XN5CPgI8Ghg11k+u9uBi4DdZnvB/j3c19f7zSQvnWW7XemC3WFV9S9V9YOq+q+q+mhVvbff5pFJjktyQ9879+Ekm/brntP3Kt2bZEWSLyfZfeT4+/Q9g3f3PX/PGVl3SZL39Pvck+S8JFv366Z6BTcc2f7MJMeOLP/vJNf2PY7nZ2QYu9/3Cf3zxel6Zh/+nmf4HEIXyN4G/Ah4wQyf51dHljfoz9ObRtq2T/KxJHck+VaSo0fWHZvk3CR/239OlyfZY2T99SPn5Gb953zZtNefej8v7L+Lx8/1/UjrKwOZtI4k2Qk4ELiibzoNeAB4ArAX8MvAa2bYb2u6npy7Aarq4V4p4KPAn4z0Tt2wsn1XwZ9M6/X6/iru/5/Ag0lOT3JAkq1m27APoUfShYJvz7LN9sDzgC/O8bp79J/LO4HZhuH2B26qqi+v5DjvpQuVe9J9PzsAfzCy/jsjvXtfBY7t69wB+Efgj+h63v4f8LEki0b2PRz4DbrhxQeAD87xnuiP/QvAe4BD+n2/DZw9y+Z/CHx3jkPuB+zYH+Mc4IgZttk4/TAzXe/hw+dBkkcAn6B7/zvQfa7HJHneyP4HA39H91n8DfAPmXnY+Y103/9PSPJs4MPAQVV1Xd881/cjrXcMZNL4/UOSu4HLgEuBdyfZli6cHVNV9/U9QO8HDp1h/7cCpzLyj+EqWJN9h9in7wmaenwToKruofsHv4CTgDv6Hp1tp+8L/DdwHPCK/nMYdWe/zc3AfcC5A+vakNkDyWOAW2bbse85Ogr4naq6q6pWAO9m5u/mEcAGI6/1CuDCqrqwqh6qqouAZXTf9ZSPVNXVVXUf8PvAIX0oncvLgVOr6vKq+gHwFuCZUz2bI/X/LN3w7ulzHO8I4J+q6nt0Yen5SR47bZtT+J//SXhNvzzlacCiqnpnVf2wD0sn8eOf0/KqOreqfgT8GbAJsM+0ev8X8Op+/XR7AecDL6+qq/rtV+X7kdYbG869iaQ19KKq+ufRhnSTxzcCbun+fQG6f9xvnLbdznQ9Ik+m61kZbI59D8nIJPo18MWq2m+mFVX1NeBVfS0/DZwJfAA4bHTfdBc5nAL8PF1PzahtquqBfjjqncCn6MLGbC7ve242pPtHfibfpethms0i4FHA8pHvJnTBa8r2fVDchG4O1i/17TsDL00yOvy3EfCZkeXR7/jb/fptRtruHHndR9GFDYDtgcunVlTVvUm+S9c7dP3I/n9MF/R+ZrY32H+eL6UPW1X1hSQ3AL9O9x1NuQA4rx863A5YPrJuZ/7nc5iyAfC5md5rVT3UD3dOv1r47XRzDWe6aOVk4Bt0n+/UZzjk+5HWO/aQSW3cSDfBfZuq2rJ/bF5VT5623R/SDR+uWI3XWNm+50y9Lj8eBsaiqv6Dboh29xnW3Qv8JvDKJHvNsv/9/f77JFlZvXv3Q4l7ASckWTzDNhcDOyZZOssx7gTuB5488t1s0R93ynf6z25T4M3Ax/r2G+l6wLYceTx6am5ab6eR54vphuruHGnbZuS7GQ2o36ELQQAkeTRdb9/NI9v8Qt82PdhO96vA5nSf0a1JbqULdtOHLR8APk7XM3natHU3At+a9l5/qqpGewMffq99UN6xfx9Tnkg3FP3ns9R5DPArwKuT7N23Dfl+pPWOgUxqoKpuAT4NvC/J5kkekWSXfr7MlCcAzwD+ajVeYk32XWNJfjrJG5Ls2C/vRNczNuMcsKq6i643ZMZ5QOmuAHwlcCtzz40CeJCu52nLGV7rG3RXdZ6VboL+xunu3XVokjf3FxmcBLx/aggvyQ7T5kZNHav615oKiWcCL0jyvH4S/Cb9a+w4stsr0t0n7FF0vX7nVtWDA97TWcCRSfbsP493A1+qqutHtjkW+N2+rpU5gm4o+yl087D2BPYF9shP3vrjROBrdPMVR30ZWJHkTUk27d/v7iNzzgCemuTF6S5UOIbuf0JGz4G3Ae9cyRXEn6uqW+nm4v11ko1W5fuR1icGMqmdw4GNgWvohr3O5ceH0rYF3tbPv1lVa7Lvqhi94nPq8TRgBV0g/FKS++j+Eb4aeMNKjvUB4MB+DtSUu5PcC9xGN1T5wjnCxlf77S8B3jPTVZ29o4G/AP6S7oKHb9L1Gn2iX/8m4Frgi0nuAf4ZeNLI/tv373UF8Ht0k/SpqhvpJrK/le4+cjfSTVgf/W/tR+h6m26lG/I8mgH6Ye/fp+uNuwXYhZ+cN3VFVV2ysuP0Fx7sD3ygqm4deSwHPsm0XrKquq6qDququ6e1P0jXe7Un8C26nquTgdErcs8DXkZ3fr8SePG0c/JO4IyVv3Ooqo/QfZZv7Zvm+n6k9U7m/h8pSdLakOQS4MyqOrl1LeOW7nYdT6iqV7SuRVof2EMmSZLUmIFMkiSpMYcsJUmSGrOHTJIkqTEDmSRJUmPr9Z36t9lmm1qyZEnrMiRJkua0fPnyO6tq0Uzr1utAtmTJEpYtW9a6DEmSpDkl+fZs6xyylCRJasxAJkmS1JiBTJIkqTEDmSRJUmMGMkmSpMYMZJIkSY0ZyCRJkhozkEmSJDVmIJMkSWrMQCZJktSYgUySJKkxA5kkSVJjBjJJkqTGNmxdQAtPfeMZrUvQGlj+p4e3LkGSpLXKHjJJkqTGDGSSJEmNGcgkSZIaM5BJkiQ1ZiCTJElqzEAmSZLUmIFMkiSpMQOZJElSYwYySZKkxgxkkiRJjRnIJEmSGjOQSZIkNWYgkyRJasxAJkmS1JiBTJIkqTEDmSRJUmMGMkmSpMYMZJIkSY0ZyCRJkhozkEmSJDVmIJMkSWrMQCZJktSYgUySJKkxA5kkSVJjBjJJkqTGDGSSJEmNGcgkSZIaM5BJkiQ1ZiCTJElqzEAmSZLUmIFMkiSpMQOZJElSYwYySZKkxgxkkiRJjRnIJEmSGjOQSZIkNWYgkyRJasxAJkmS1NjYAlmSnZJ8Jsk1Sf49yW/37VsnuSjJN/q/W/XtSfLBJNcmuTLJ3uOqTZIkaT4ZZw/ZA8Abqmo3YB/gdUl2A94MXFxVuwIX98sABwC79o+jgA+NsTZJkqR5Y2yBrKpuqarL++crgK8BOwAHA6f3m50OvKh/fjBwRnW+CGyZZLtx1SdJkjRfrJM5ZEmWAHsBXwK2rapb+lW3Atv2z3cAbhzZ7aa+TZIkaUEbeyBLshnwMeCYqrpndF1VFVCreLyjkixLsuyOO+5Yi5VKkiS1MdZAlmQjujD20ar6+775tqmhyP7v7X37zcBOI7vv2Lf9mKo6saqWVtXSRYsWja94SZKkdWScV1kGOAX4WlX92ciq84Ej+udHAOeNtB/eX225D/D9kaFNSZKkBWvDMR57X+CVwFVJvtK3vRV4L3BOklcD3wYO6dddCBwIXAv8F3DkGGuTJEmaN8YWyKrqMiCzrN5/hu0LeN246pEkSZqvvFO/JElSYwYySZKkxgxkkiRJjRnIJEmSGjOQSZIkNWYgkyRJasxAJkmS1JiBTJIkqTEDmSRJUmMGMkmSpMYMZJIkSY0ZyCRJkhozkEmSJDVmIJMkSWrMQCZJktSYgUySJKkxA5kkSVJjBjJJkqTGDGSSJEmNGcgkSZIaM5BJkiQ1ZiCTJElqzEAmSZLUmIFMkiSpMQOZJElSYwYySZKkxgxkkiRJjRnIJEmSGjOQSZIkNWYgkyRJasxAJkmS1JiBTJIkqTEDmSRJUmMGMkmSpMYMZJIkSY0ZyCRJkhozkEmSJDVmIJMkSWrMQCZJktSYgUySJKkxA5kkSVJjBjJJkqTGDGSSJEmNGcgkSZIaM5BJkiQ1ZiCTJElqzEAmSZLUmIFMkiSpMQOZJElSY3MGsiTPnLa8VZKTxleSJEnSZBnSQ/bHSQ4FSPIa4FLg4rFWJUmSNEGGBLJfBn4tydeApwD7VtXZ4y1LkiRpcgwJZLsBfwxcDywCdk2y9ziLkiRJmiQbDtjmfUDRhbHnAtv1y78wxrokSZImxpyBrKqem+QpwAXAYVX18fGXJUmSNDmGXGV5AHAy8C7gHUmOGntVkiRJE2TIHLLfAZ5XVScCPwc8Kcnnx1uWJEnS5Bgyh+zAqnoAoKruBd6QZPfxliVJkjQ55uwhq6oHkuye5JAkhyc5HJjzKsskpya5PcnVI23HJrk5yVf6x4Ej696S5NokX0/yvNV+R5IkSeuZOXvIkrwdeA7d7S8uBA4ALgPOmGPX04C/mGG791fVcdNeYzfgUODJwPbAPyd5YlU9OPdbkCRJWr8NmUP2EmB/4NaqOhLYA9hirp2q6rPAXQPrOBg4u6p+UFXfAq4Fnj5wX0mSpPXakEB2f1U9BDyQZHPgdmCnNXjN1ye5sh/S3Kpv2wG4cWSbm/o2SZKkBW9IIFuWZEvgJGA5cDnwhdV8vQ8BuwB7ArfQ3XR2lSQ5KsmyJMvuuOOO1SxDkiRp/hhyY9jX9k8/nOSTwOZVdeXqvFhV3Tb1PMlJdDebBbiZH+9127Fvm+kYJwInAixdurRWpw5JkqT5ZEgP2cOq6vqqurK/WvLUJE9blf2TbDey+KvA1BWY5wOHJnlkkscBuwJfXpVjS5Ikra+GXGW5gu63Kx9uAjahm9j/g5Xsdxbd1ZnbJLkJeDvwnCR79se7Hvg/AFX170nOAa4BHgBe5xWWkiRpUgy5Mey1VbXXaEOSK6rqv1a2U1UdNkPzKSvZ/l10P88kSZI0UYYMWW6UZIckjxppc+6WJEnSWjKkhwzgImCzJI8EPgVsM76SJEmSJsuQn07avap2q6rFwGLgn4DHJPmD/g77kiRJWgNDe8gAqKofAGcl+U9gM7qbxEqSJGkNDLnKciPgN4Fn9U2XAh+uqh+NszBJkqRJMaSH7EPARsAJ/fIr+7bXjKsoSZKkSTIkkD2tqvYYWf6XJF8dV0GSJEmTZshtLx5MssvUQpLHA960VZIkaS0Z0kP2RuAzSa6ju0v/zsCRY61KkiRpggz5cfGLk+wKPKlv+np/taUkSZLWgiFXWW4CvBbYj+4O/Z9L8uGq+u9xFydJkjQJhgxZngGsAI7vl38d+Ajw0nEVJUmSNEmGBLLdq2r0jvyfSXLNuAqSJEmaNEOusrw8yT5TC0meASwbX0mSJEmTZUgP2VOBf01yQ7+8GPh6kquAqqqfHVt1kiRJE2BIIHv+2KuQJEmaYEMCWc3YWHXDTO2SJElaNUMC2X8A19LdFHZKAQ5VSpIkrQVDAtnXq2qvsVciSZI0oYZcZTnjkKUkSZLWjiE9ZFsmefH0xqr6+zHUI0mSNHGGBLJLgRdMayvAQCZJkrQWDPlx8SPXRSGSJEmTasgcMkmSJI2RgUySJKkxA5kkSVJjcwayJFskeX+SZf3jfUm2WBfFSZIkTYIhPWSnAvcAh/SPe4C/HmdRkiRJk2TIbS92qapfG1l+R5KvjKkeSZKkiTOkh+z+JPtNLSTZF7h/fCVJkiRNliE9ZL8JnN7PGwtwF/CqcRYlSZI0SYbcGPYrwB5JNu+X7xl3UZIkSZNkyFWWuyV5PbAp8KdJzk2y1/hLkyRJmgxD5pD9DfAk4EvAl4FzgJPHWZQkSdIkGRLIHlFVvwX8sKpOqapzBu4nSZKkAYZM6t8syYuBDZP8Kl0Y23y8ZUmSJE2OIYHsUuAF/d8X9m2fHVtFkiRJE2ZIIDu+qi4feyWSJEkTashcMCfwS5IkjdGQHrINk2xFd1PYh1XVXeMpSZIkabIMCWRPApbz44GsgMePpSJJkqQJMySQXVNV3ghWkiRpTIYEMmmi3fDOp7QuQatp8R9c1boESRpkyKT+Z469CkmSpAk2JJB9IsmWUwtJtkryqfGVJEmSNFmGBLJFVXX31EJVfQ947NgqkiRJmjBDAtmDSRZPLSTZme4qS0mSJK0FQyb1/x5wWZJL6W598fPAUWOtSpIkaYLMGciq6pNJ9gb26ZuOqao7x1uWJEnS5JhzyDJJgOcDe1fVBcCjkjx97JVJkiRNiCFzyE6gu/XFYf3yCuAvx1aRJEnShBkyh+wZVbV3kiugu8oyycZjrkuSJGliDOkh+1GSDeivrEyyCHhorFVJkiRNkCGB7IPAx4HHJnkXcBnw7rFWJUmSNEGGXGX50STLgf3pbnvxoqr62tgrkyRJmhBzBrIkWwO3A2eNtlXVXeMsTJIkaVIMmdS/nG7+WIDtgFv65cePsS5JkqSJMWTI8nFTz5NcUVV7jbckSZKkyTJkUj8A/a0uBt/uIsmpSW5PcvVI29ZJLkryjf7vVn17knwwybVJrux/GUCSJGkiDLlT/yeSfAK4BvjYKhz7NLo7/I96M3BxVe0KXNwvAxwA7No/jgI+tAqvI0mStF4bMofsOLr7jt1UVd8aeuCq+mySJdOaDwae0z8/HbgEeFPffkZVFfDFJFsm2a6qbhn6epIkSeurIYHsqqkn/RWXAKzmVZbbjoSsW4Ft++c7ADeObHdT32YgkyRJC96QQHYncBtwP92VlrAWrrKsqkpSq7pfkqPohjVZvHjxmpQgSZI0LwyZ1H8UXY/V+4Bdq+pxVbW6Yey2JNsB9H9v79tvBnYa2W7Hvu0nVNWJVbW0qpYuWrRoNcuQJEmaP+YMZFV1MrAf8Ejg80levgavdz5wRP/8COC8kfbD+6st9wG+7/wxSZI0KYZcZfli4CDgeuDDwJuSfHXAfmcBXwCelOSmJK8G3gv8UpJvAL/YLwNcCFwHXAucBLx21d+KJEnS+mnIHLIXTFtePuTAVXXYLKv2n2HbAl435LiSJEkLzZA79R+5LgqRJEmaVEN+XPz8mdqr6oVrvxxJkqTJM2TI8meA14y7EEmSpEk1JJCtqKpLx16JJEnShBpyH7I9ktyd5NYklyc5Psk2Y69MkiRpQgy5D9kGwNbALsDL6H7y6PQx1yVJkjQxhvSQUVUPVdV9VfWNqnoX8Mkx1yVJkjQxhswhI8kLgWf1i5dW1fHjK0mSJGmyDLlT/3uA3wau6R9HJ3n3uAuTJEmaFEN6yA4C9qyqhwCSnA5cAbx1nIVJkiRNikFzyIAtR55vMYY6JEmSJtaQHrL3AFck+QwQurlkbxlrVZIkSRNkyG9ZnpXkEuBpfdObqurWsVYlSZI0QWYdskxy0NTzqrqlqs6vqvOB+5J4laUkSdJasrI5ZB9I8hujDUl+HbgSuH2sVUmSJE2QlQ1ZPgv4xyQ7AmcDJwA/An6xqr65LoqTJEmaBLP2kFXVLcCzgZ+n6xU7uaoOMIxJkiStXSu97UVVrQAOAM4BXp5kk3VSlSRJ0gSZdcgyyQqgphaBRwN3JXkQqKrafB3UJ0mStODNGsiq6qfWZSGSJEmTauid+iVJkjQmBjJJkqTGDGSSJEmNGcgkSZIaM5BJkiQ1ZiCTJElqzEAmSZLU2Mp+y1KStAr2PX7f1iVoDXz+tz7fugRNMHvIJEmSGjOQSZIkNWYgkyRJasxAJkmS1JiBTJIkqTEDmSRJUmMGMkmSpMYMZJIkSY0ZyCRJkhozkEmSJDVmIJMkSWrMQCZJktSYPy4uSVIDlz7r2a1L0Gp69mcvXevHtIdMkiSpMQOZJElSYwYySZKkxgxkkiRJjRnIJEmSGjOQSZIkNWYgkyRJasxAJkmS1JiBTJIkqTEDmSRJUmMGMkmSpMYMZJIkSY0ZyCRJkhozkEmSJDVmIJMkSWrMQCZJktSYgUySJKmxDVu8aJLrgRXAg8ADVbU0ydbA3wJLgOuBQ6rqey3qkyRJWpda9pA9t6r2rKql/fKbgYuralfg4n5ZkiRpwZtPQ5YHA6f3z08HXtSuFEmSpHWnVSAr4NNJlic5qm/btqpu6Z/fCmzbpjRJkqR1q8kcMmC/qro5yWOBi5L8x+jKqqokNdOOfYA7CmDx4sXjr1SSJGnMmvSQVdXN/d/bgY8DTwduS7IdQP/39ln2PbGqllbV0kWLFq2rkiVJksZmnQeyJI9O8lNTz4FfBq4GzgeO6Dc7AjhvXdcmSZLUQoshy22BjyeZev2/qapPJvk34Jwkrwa+DRzSoDZJkqR1bp0Hsqq6DthjhvbvAvuv63okSZJam0+3vZAkSZpIBjJJkqTGDGSSJEmNGcgkSZIaM5BJkiQ1ZiCTJElqzEAmSZLUmIFMkiSpMQOZJElSYwYySZKkxgxkkiRJjRnIJEmSGjOQSZIkNWYgkyRJasxAJkmS1JiBTJIkqTEDmSRJUmMGMkmSpMYMZJIkSY0ZyCRJkhozkEmSJDVmIJMkSWrMQCZJktSYgUySJKkxA5kkSVJjBjJJkqTGDGSSJEmNGcgkSZIaM5BJkiQ1ZiCTJElqzEAmSZLUmIFMkiSpMQOZJElSYwYySZKkxgxkkiRJjRnIJEmSGjOQSZIkNWYgkyRJasxAJkmS1JiBTJIkqTEDmSRJUmMGMkmSpMYMZJIkSY0ZyCRJkhozkEmSJDVmIJMkSWrMQCZJktSYgUySJKkxA5kkSVJjBjJJkqTGDGSSJEmNGcgkSZIaM5BJkiQ1ZiCTJElqzEAmSZLUmIFMkiSpMQOZJElSYwYySZKkxuZdIEvy/CRfT3Jtkje3rkeSJGnc5lUgS7IB8JfAAcBuwGFJdmtblSRJ0njNq0AGPB24tqquq6ofAmcDBzeuSZIkaazmWyDbAbhxZPmmvk2SJGnB2rB1AasqyVHAUf3ivUm+3rKeeWob4M7WRYxLjjuidQkLyYI+V3h7Wlew0Czo8yVHe76sRQv6XCGrfa7sPNuK+RbIbgZ2GlnesW97WFWdCJy4Lota3yRZVlVLW9eh+c9zRavC80VDea6suvk2ZPlvwK5JHpdkY+BQ4PzGNUmSJI3VvOohq6oHkrwe+BSwAXBqVf1747IkSZLGal4FMoCquhC4sHUd6zmHdDWU54pWheeLhvJcWUWpqtY1SJIkTbT5NodMkiRp4hjIFogkleTMkeUNk9yR5IKWdWl+SvJgkq+MPPyZsgkz2zmQ5PX9T9dVkm1Gtk+SD/brrkyyd7vqNR8leczI+XRrkptHljduXd98N+/mkGm13QfsnmTTqrof+CWm3TJEGnF/Ve3Zugg1Nds58HngAuCSae0HALv2j2cAH+r/PizJq4AlVXXs2i1V64Oq+i6wJ0CSY4F7q+q4ljWtT+whW1guBA7qnx8GnNWwFknroaq6oqqun2HVwcAZ1fkisGWS7dZtddLCZSBbWM4GDk2yCfCzwJca16P5a9Npw1Uva12Q1rlVPQf8aTtpjByyXECq6sokS+h6x7x1iFbGIUutlXMgyWOAi/vFrYGNk7yoX35lVV21pq8hTQID2cJzPnAc8BzgMW1LkbSAzPjTdtPmDb0K55BJq8Uhy4XnVOAd/l+ppLXsfODw/mrLfYDvV9UtrYuSFgoD2QJTVTdV1Qdb16F5b/r8ofe2Lkjr3IznQJKjk9xE1wN2ZZKT++0vBK4DrgVOAl7bpGppgfJO/ZIkSY3ZQyZJktSYgUySJKkxA5kkSVJjBjJJkqTGDGSSJEmNGcgkrfeSPNjfuuHqJH+X5FFzbP/IJJ9IsizJn6yrOiVpNt72QtJ6L8m9VbVZ//yjwPKq+rPGZUnSYPaQSVpoPgc8ASDJK5J8ue89+6skG/Tt905tnORzSS5IMnqj1B8muap/vjTJaUle0m//miSVZJskS5JcPXKslyQ5rX9+WpJvjRzz59blhyBp/eJvWUpaMJJsCBwAfDLJzwAvA/atqh8lOQF4OXDGyPYHAVvQ/QzQ/fzPbzJeDzy3qu7sl6e23wT4v8DtA0t6Y1Wdu+bvTNJCZw+ZpIVg0yRfAZYBNwCnAPsDTwX+rV+3P/D4qR3SpazfA969Cq/zOuB04P6Rtl2mesGAP139tyBpktlDJmkhuL+q9hxt6APX6VX1lln2OQy4BLh14GtsDhwK7Au8YaT9m1Ov3Q9r/srgqiWpZw+ZpIXqYuAlSR4LkGTrJDv36x4BHAOsyhWWvwMcX1U/XKtVShIGMkkLVFVdA7wN+HSSK4GLgO361ZsCH6uqu1fhkAHOXKtFSlLP215IkiQ1Zg+ZJElSYwYySZKkxgxkkiRJjRnIJEmSGjOQSZIkNWYgkyRJasxAJkmS1JiBTJIkqbH/D1wFG7UjLQQGAAAAAElFTkSuQmCC\n",
      "text/plain": [
       "<Figure size 720x432 with 1 Axes>"
      ]
     },
     "metadata": {
      "needs_background": "light"
     },
     "output_type": "display_data"
    }
   ],
   "source": [
    "plt.figure(figsize=(10,6))\n",
    "\n",
    "sns.barplot(x=na_rating_pt.index,y=na_rating_pt['na_sales']);\n",
    "plt.title(\"Рейтинг ESRB в Cеверной Америке\");\n",
    "plt.xlabel(\"Рейтинг\");\n",
    "plt.ylabel(\"Количество продаж\");"
   ]
  },
  {
   "cell_type": "markdown",
   "metadata": {},
   "source": [
    "На 1м месте игры для взрослых(231 млн), на 2-для всех (114 млн), на 3 игры для всех старше 10 лет (75 млн), на 4 месте игры старше 13 лет. То есть продажи игр 18+ в 2 раза превышают продажи игр 0+. \n",
    "\n",
    "0 указан в тех строках, где данные неизвестны."
   ]
  },
  {
   "cell_type": "markdown",
   "metadata": {},
   "source": [
    "**Регион Европа** Сделаем то же самое, что и для региона NA"
   ]
  },
  {
   "cell_type": "code",
   "execution_count": 62,
   "metadata": {},
   "outputs": [
    {
     "data": {
      "text/html": [
       "<div>\n",
       "<style scoped>\n",
       "    .dataframe tbody tr th:only-of-type {\n",
       "        vertical-align: middle;\n",
       "    }\n",
       "\n",
       "    .dataframe tbody tr th {\n",
       "        vertical-align: top;\n",
       "    }\n",
       "\n",
       "    .dataframe thead th {\n",
       "        text-align: right;\n",
       "    }\n",
       "</style>\n",
       "<table border=\"1\" class=\"dataframe\">\n",
       "  <thead>\n",
       "    <tr style=\"text-align: right;\">\n",
       "      <th></th>\n",
       "      <th>name</th>\n",
       "      <th>platform</th>\n",
       "      <th>year_of_release</th>\n",
       "      <th>genre</th>\n",
       "      <th>na_sales</th>\n",
       "      <th>eu_sales</th>\n",
       "      <th>jp_sales</th>\n",
       "      <th>other_sales</th>\n",
       "      <th>critic_score</th>\n",
       "      <th>user_score</th>\n",
       "      <th>rating</th>\n",
       "      <th>total_sales</th>\n",
       "    </tr>\n",
       "  </thead>\n",
       "  <tbody>\n",
       "    <tr>\n",
       "      <th>16</th>\n",
       "      <td>grand theft auto v</td>\n",
       "      <td>PS3</td>\n",
       "      <td>2013</td>\n",
       "      <td>action</td>\n",
       "      <td>7.02</td>\n",
       "      <td>9.09</td>\n",
       "      <td>0.98</td>\n",
       "      <td>3.96</td>\n",
       "      <td>97.0</td>\n",
       "      <td>8.2</td>\n",
       "      <td>M</td>\n",
       "      <td>21.05</td>\n",
       "    </tr>\n",
       "    <tr>\n",
       "      <th>23</th>\n",
       "      <td>grand theft auto v</td>\n",
       "      <td>X360</td>\n",
       "      <td>2013</td>\n",
       "      <td>action</td>\n",
       "      <td>9.66</td>\n",
       "      <td>5.14</td>\n",
       "      <td>0.06</td>\n",
       "      <td>1.41</td>\n",
       "      <td>97.0</td>\n",
       "      <td>8.1</td>\n",
       "      <td>M</td>\n",
       "      <td>16.27</td>\n",
       "    </tr>\n",
       "    <tr>\n",
       "      <th>34</th>\n",
       "      <td>call of duty: black ops ii</td>\n",
       "      <td>PS3</td>\n",
       "      <td>2012</td>\n",
       "      <td>shooter</td>\n",
       "      <td>4.99</td>\n",
       "      <td>5.73</td>\n",
       "      <td>0.65</td>\n",
       "      <td>2.42</td>\n",
       "      <td>83.0</td>\n",
       "      <td>5.3</td>\n",
       "      <td>M</td>\n",
       "      <td>13.79</td>\n",
       "    </tr>\n",
       "    <tr>\n",
       "      <th>35</th>\n",
       "      <td>call of duty: black ops ii</td>\n",
       "      <td>X360</td>\n",
       "      <td>2012</td>\n",
       "      <td>shooter</td>\n",
       "      <td>8.25</td>\n",
       "      <td>4.24</td>\n",
       "      <td>0.07</td>\n",
       "      <td>1.12</td>\n",
       "      <td>83.0</td>\n",
       "      <td>4.8</td>\n",
       "      <td>M</td>\n",
       "      <td>13.68</td>\n",
       "    </tr>\n",
       "    <tr>\n",
       "      <th>42</th>\n",
       "      <td>grand theft auto v</td>\n",
       "      <td>PS4</td>\n",
       "      <td>2014</td>\n",
       "      <td>action</td>\n",
       "      <td>3.96</td>\n",
       "      <td>6.31</td>\n",
       "      <td>0.38</td>\n",
       "      <td>1.97</td>\n",
       "      <td>97.0</td>\n",
       "      <td>8.3</td>\n",
       "      <td>M</td>\n",
       "      <td>12.62</td>\n",
       "    </tr>\n",
       "    <tr>\n",
       "      <th>...</th>\n",
       "      <td>...</td>\n",
       "      <td>...</td>\n",
       "      <td>...</td>\n",
       "      <td>...</td>\n",
       "      <td>...</td>\n",
       "      <td>...</td>\n",
       "      <td>...</td>\n",
       "      <td>...</td>\n",
       "      <td>...</td>\n",
       "      <td>...</td>\n",
       "      <td>...</td>\n",
       "      <td>...</td>\n",
       "    </tr>\n",
       "    <tr>\n",
       "      <th>16613</th>\n",
       "      <td>dragon ball z for kinect</td>\n",
       "      <td>X360</td>\n",
       "      <td>2012</td>\n",
       "      <td>fighting</td>\n",
       "      <td>0.01</td>\n",
       "      <td>0.00</td>\n",
       "      <td>0.00</td>\n",
       "      <td>0.00</td>\n",
       "      <td>49.0</td>\n",
       "      <td>2.1</td>\n",
       "      <td>T</td>\n",
       "      <td>0.01</td>\n",
       "    </tr>\n",
       "    <tr>\n",
       "      <th>16615</th>\n",
       "      <td>balloon pop 2</td>\n",
       "      <td>3DS</td>\n",
       "      <td>2012</td>\n",
       "      <td>puzzle</td>\n",
       "      <td>0.01</td>\n",
       "      <td>0.00</td>\n",
       "      <td>0.00</td>\n",
       "      <td>0.00</td>\n",
       "      <td>9.9</td>\n",
       "      <td>0.1</td>\n",
       "      <td>E</td>\n",
       "      <td>0.01</td>\n",
       "    </tr>\n",
       "    <tr>\n",
       "      <th>16618</th>\n",
       "      <td>xblaze: lost memories</td>\n",
       "      <td>PSV</td>\n",
       "      <td>2015</td>\n",
       "      <td>adventure</td>\n",
       "      <td>0.01</td>\n",
       "      <td>0.00</td>\n",
       "      <td>0.00</td>\n",
       "      <td>0.00</td>\n",
       "      <td>9.9</td>\n",
       "      <td>7.0</td>\n",
       "      <td>M</td>\n",
       "      <td>0.01</td>\n",
       "    </tr>\n",
       "    <tr>\n",
       "      <th>16672</th>\n",
       "      <td>metal gear solid v: the definitive experience</td>\n",
       "      <td>XOne</td>\n",
       "      <td>2016</td>\n",
       "      <td>action</td>\n",
       "      <td>0.01</td>\n",
       "      <td>0.00</td>\n",
       "      <td>0.00</td>\n",
       "      <td>0.00</td>\n",
       "      <td>9.9</td>\n",
       "      <td>0.1</td>\n",
       "      <td>M</td>\n",
       "      <td>0.01</td>\n",
       "    </tr>\n",
       "    <tr>\n",
       "      <th>16678</th>\n",
       "      <td>end of nations</td>\n",
       "      <td>PC</td>\n",
       "      <td>2012</td>\n",
       "      <td>strategy</td>\n",
       "      <td>0.01</td>\n",
       "      <td>0.00</td>\n",
       "      <td>0.00</td>\n",
       "      <td>0.00</td>\n",
       "      <td>9.9</td>\n",
       "      <td>9.9</td>\n",
       "      <td>T</td>\n",
       "      <td>0.01</td>\n",
       "    </tr>\n",
       "  </tbody>\n",
       "</table>\n",
       "<p>1323 rows × 12 columns</p>\n",
       "</div>"
      ],
      "text/plain": [
       "                                                name platform  \\\n",
       "16                                grand theft auto v      PS3   \n",
       "23                                grand theft auto v     X360   \n",
       "34                        call of duty: black ops ii      PS3   \n",
       "35                        call of duty: black ops ii     X360   \n",
       "42                                grand theft auto v      PS4   \n",
       "...                                              ...      ...   \n",
       "16613                       dragon ball z for kinect     X360   \n",
       "16615                                  balloon pop 2      3DS   \n",
       "16618                          xblaze: lost memories      PSV   \n",
       "16672  metal gear solid v: the definitive experience     XOne   \n",
       "16678                                 end of nations       PC   \n",
       "\n",
       "       year_of_release      genre  na_sales  eu_sales  jp_sales  other_sales  \\\n",
       "16                2013     action      7.02      9.09      0.98         3.96   \n",
       "23                2013     action      9.66      5.14      0.06         1.41   \n",
       "34                2012    shooter      4.99      5.73      0.65         2.42   \n",
       "35                2012    shooter      8.25      4.24      0.07         1.12   \n",
       "42                2014     action      3.96      6.31      0.38         1.97   \n",
       "...                ...        ...       ...       ...       ...          ...   \n",
       "16613             2012   fighting      0.01      0.00      0.00         0.00   \n",
       "16615             2012     puzzle      0.01      0.00      0.00         0.00   \n",
       "16618             2015  adventure      0.01      0.00      0.00         0.00   \n",
       "16672             2016     action      0.01      0.00      0.00         0.00   \n",
       "16678             2012   strategy      0.01      0.00      0.00         0.00   \n",
       "\n",
       "       critic_score  user_score rating  total_sales  \n",
       "16             97.0         8.2      M        21.05  \n",
       "23             97.0         8.1      M        16.27  \n",
       "34             83.0         5.3      M        13.79  \n",
       "35             83.0         4.8      M        13.68  \n",
       "42             97.0         8.3      M        12.62  \n",
       "...             ...         ...    ...          ...  \n",
       "16613          49.0         2.1      T         0.01  \n",
       "16615           9.9         0.1      E         0.01  \n",
       "16618           9.9         7.0      M         0.01  \n",
       "16672           9.9         0.1      M         0.01  \n",
       "16678           9.9         9.9      T         0.01  \n",
       "\n",
       "[1323 rows x 12 columns]"
      ]
     },
     "metadata": {},
     "output_type": "display_data"
    }
   ],
   "source": [
    "eu_data_games_sales = data_games_sales.query('eu_sales > 0 and rating !=0')\n",
    "display(na_data_games_sales)"
   ]
  },
  {
   "cell_type": "code",
   "execution_count": 63,
   "metadata": {},
   "outputs": [
    {
     "data": {
      "text/html": [
       "<div>\n",
       "<style scoped>\n",
       "    .dataframe tbody tr th:only-of-type {\n",
       "        vertical-align: middle;\n",
       "    }\n",
       "\n",
       "    .dataframe tbody tr th {\n",
       "        vertical-align: top;\n",
       "    }\n",
       "\n",
       "    .dataframe thead th {\n",
       "        text-align: right;\n",
       "    }\n",
       "</style>\n",
       "<table border=\"1\" class=\"dataframe\">\n",
       "  <thead>\n",
       "    <tr style=\"text-align: right;\">\n",
       "      <th></th>\n",
       "      <th>eu_sales</th>\n",
       "    </tr>\n",
       "    <tr>\n",
       "      <th>platform</th>\n",
       "      <th></th>\n",
       "    </tr>\n",
       "  </thead>\n",
       "  <tbody>\n",
       "    <tr>\n",
       "      <th>PS4</th>\n",
       "      <td>113.10</td>\n",
       "    </tr>\n",
       "    <tr>\n",
       "      <th>PS3</th>\n",
       "      <td>94.42</td>\n",
       "    </tr>\n",
       "    <tr>\n",
       "      <th>X360</th>\n",
       "      <td>67.04</td>\n",
       "    </tr>\n",
       "    <tr>\n",
       "      <th>XOne</th>\n",
       "      <td>43.29</td>\n",
       "    </tr>\n",
       "    <tr>\n",
       "      <th>PC</th>\n",
       "      <td>31.95</td>\n",
       "    </tr>\n",
       "    <tr>\n",
       "      <th>3DS</th>\n",
       "      <td>22.43</td>\n",
       "    </tr>\n",
       "    <tr>\n",
       "      <th>WiiU</th>\n",
       "      <td>21.12</td>\n",
       "    </tr>\n",
       "    <tr>\n",
       "      <th>Wii</th>\n",
       "      <td>11.23</td>\n",
       "    </tr>\n",
       "    <tr>\n",
       "      <th>PSV</th>\n",
       "      <td>8.97</td>\n",
       "    </tr>\n",
       "    <tr>\n",
       "      <th>DS</th>\n",
       "      <td>1.35</td>\n",
       "    </tr>\n",
       "    <tr>\n",
       "      <th>PSP</th>\n",
       "      <td>0.42</td>\n",
       "    </tr>\n",
       "  </tbody>\n",
       "</table>\n",
       "</div>"
      ],
      "text/plain": [
       "          eu_sales\n",
       "platform          \n",
       "PS4         113.10\n",
       "PS3          94.42\n",
       "X360         67.04\n",
       "XOne         43.29\n",
       "PC           31.95\n",
       "3DS          22.43\n",
       "WiiU         21.12\n",
       "Wii          11.23\n",
       "PSV           8.97\n",
       "DS            1.35\n",
       "PSP           0.42"
      ]
     },
     "execution_count": 63,
     "metadata": {},
     "output_type": "execute_result"
    }
   ],
   "source": [
    "eu_platform_pt = pd.pivot_table(eu_data_games_sales, index='platform', values='eu_sales',\n",
    "                                        aggfunc='sum').sort_values('eu_sales', ascending=False)\n",
    "eu_platform_pt"
   ]
  },
  {
   "cell_type": "markdown",
   "metadata": {},
   "source": [
    "Топ-5 платформ в Европе: PS4 (113 млн), PS3 (94 млн), X360 (67 млн), XOne (43 млн), PC (31 млн). Визуализируем данные."
   ]
  },
  {
   "cell_type": "code",
   "execution_count": 64,
   "metadata": {},
   "outputs": [
    {
     "data": {
      "image/png": "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\n",
      "text/plain": [
       "<Figure size 936x432 with 1 Axes>"
      ]
     },
     "metadata": {
      "needs_background": "light"
     },
     "output_type": "display_data"
    }
   ],
   "source": [
    "plt.figure(figsize=(13,6))\n",
    "\n",
    "sns.barplot(x=eu_platform_pt.index,y=eu_platform_pt['eu_sales']);\n",
    "plt.title(\"Продажи на платформах в Европе\");\n",
    "plt.xlabel(\"Название жанра\");\n",
    "plt.ylabel(\"Количество продаж\");"
   ]
  },
  {
   "cell_type": "code",
   "execution_count": 65,
   "metadata": {},
   "outputs": [
    {
     "data": {
      "text/html": [
       "<div>\n",
       "<style scoped>\n",
       "    .dataframe tbody tr th:only-of-type {\n",
       "        vertical-align: middle;\n",
       "    }\n",
       "\n",
       "    .dataframe tbody tr th {\n",
       "        vertical-align: top;\n",
       "    }\n",
       "\n",
       "    .dataframe thead th {\n",
       "        text-align: right;\n",
       "    }\n",
       "</style>\n",
       "<table border=\"1\" class=\"dataframe\">\n",
       "  <thead>\n",
       "    <tr style=\"text-align: right;\">\n",
       "      <th></th>\n",
       "      <th>eu_sales</th>\n",
       "    </tr>\n",
       "    <tr>\n",
       "      <th>genre</th>\n",
       "      <th></th>\n",
       "    </tr>\n",
       "  </thead>\n",
       "  <tbody>\n",
       "    <tr>\n",
       "      <th>action</th>\n",
       "      <td>139.59</td>\n",
       "    </tr>\n",
       "    <tr>\n",
       "      <th>shooter</th>\n",
       "      <td>96.24</td>\n",
       "    </tr>\n",
       "    <tr>\n",
       "      <th>sports</th>\n",
       "      <td>65.61</td>\n",
       "    </tr>\n",
       "    <tr>\n",
       "      <th>role-playing</th>\n",
       "      <td>29.75</td>\n",
       "    </tr>\n",
       "    <tr>\n",
       "      <th>racing</th>\n",
       "      <td>21.48</td>\n",
       "    </tr>\n",
       "    <tr>\n",
       "      <th>platform</th>\n",
       "      <td>18.41</td>\n",
       "    </tr>\n",
       "    <tr>\n",
       "      <th>misc</th>\n",
       "      <td>15.12</td>\n",
       "    </tr>\n",
       "    <tr>\n",
       "      <th>simulation</th>\n",
       "      <td>9.99</td>\n",
       "    </tr>\n",
       "    <tr>\n",
       "      <th>fighting</th>\n",
       "      <td>7.44</td>\n",
       "    </tr>\n",
       "    <tr>\n",
       "      <th>adventure</th>\n",
       "      <td>5.73</td>\n",
       "    </tr>\n",
       "    <tr>\n",
       "      <th>strategy</th>\n",
       "      <td>4.73</td>\n",
       "    </tr>\n",
       "    <tr>\n",
       "      <th>puzzle</th>\n",
       "      <td>1.23</td>\n",
       "    </tr>\n",
       "  </tbody>\n",
       "</table>\n",
       "</div>"
      ],
      "text/plain": [
       "              eu_sales\n",
       "genre                 \n",
       "action          139.59\n",
       "shooter          96.24\n",
       "sports           65.61\n",
       "role-playing     29.75\n",
       "racing           21.48\n",
       "platform         18.41\n",
       "misc             15.12\n",
       "simulation        9.99\n",
       "fighting          7.44\n",
       "adventure         5.73\n",
       "strategy          4.73\n",
       "puzzle            1.23"
      ]
     },
     "execution_count": 65,
     "metadata": {},
     "output_type": "execute_result"
    }
   ],
   "source": [
    "eu_genre_pt = pd.pivot_table(eu_data_games_sales, index='genre', values='eu_sales',\n",
    "                                        aggfunc='sum').sort_values('eu_sales', ascending=False)\n",
    "eu_genre_pt"
   ]
  },
  {
   "cell_type": "code",
   "execution_count": 66,
   "metadata": {},
   "outputs": [
    {
     "data": {
      "image/png": "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\n",
      "text/plain": [
       "<Figure size 936x432 with 1 Axes>"
      ]
     },
     "metadata": {
      "needs_background": "light"
     },
     "output_type": "display_data"
    }
   ],
   "source": [
    "plt.figure(figsize=(13,6))\n",
    "\n",
    "sns.barplot(x=eu_genre_pt.index,y=eu_genre_pt['eu_sales']);\n",
    "plt.title(\"Топ жанров в Европе\");\n",
    "plt.xlabel(\"Название жанра\");\n",
    "plt.ylabel(\"Количество продаж\");"
   ]
  },
  {
   "cell_type": "markdown",
   "metadata": {},
   "source": [
    "Топ 5 жанров популярных: action (139 млн), shooter (96 млн), sports (65 млн), role-playing (29 млн), racing (21 млн)"
   ]
  },
  {
   "cell_type": "code",
   "execution_count": 67,
   "metadata": {},
   "outputs": [
    {
     "data": {
      "text/html": [
       "<div>\n",
       "<style scoped>\n",
       "    .dataframe tbody tr th:only-of-type {\n",
       "        vertical-align: middle;\n",
       "    }\n",
       "\n",
       "    .dataframe tbody tr th {\n",
       "        vertical-align: top;\n",
       "    }\n",
       "\n",
       "    .dataframe thead th {\n",
       "        text-align: right;\n",
       "    }\n",
       "</style>\n",
       "<table border=\"1\" class=\"dataframe\">\n",
       "  <thead>\n",
       "    <tr style=\"text-align: right;\">\n",
       "      <th></th>\n",
       "      <th>eu_sales</th>\n",
       "    </tr>\n",
       "    <tr>\n",
       "      <th>rating</th>\n",
       "      <th></th>\n",
       "    </tr>\n",
       "  </thead>\n",
       "  <tbody>\n",
       "    <tr>\n",
       "      <th>M</th>\n",
       "      <td>193.96</td>\n",
       "    </tr>\n",
       "    <tr>\n",
       "      <th>E</th>\n",
       "      <td>113.03</td>\n",
       "    </tr>\n",
       "    <tr>\n",
       "      <th>E10+</th>\n",
       "      <td>55.37</td>\n",
       "    </tr>\n",
       "    <tr>\n",
       "      <th>T</th>\n",
       "      <td>52.96</td>\n",
       "    </tr>\n",
       "  </tbody>\n",
       "</table>\n",
       "</div>"
      ],
      "text/plain": [
       "        eu_sales\n",
       "rating          \n",
       "M         193.96\n",
       "E         113.03\n",
       "E10+       55.37\n",
       "T          52.96"
      ]
     },
     "execution_count": 67,
     "metadata": {},
     "output_type": "execute_result"
    }
   ],
   "source": [
    "eu_rating_pt = pd.pivot_table(eu_data_games_sales, index='rating', values='eu_sales',\n",
    "                                        aggfunc='sum').sort_values('eu_sales', ascending=False)\n",
    "eu_rating_pt"
   ]
  },
  {
   "cell_type": "code",
   "execution_count": 68,
   "metadata": {},
   "outputs": [
    {
     "data": {
      "image/png": "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\n",
      "text/plain": [
       "<Figure size 720x432 with 1 Axes>"
      ]
     },
     "metadata": {
      "needs_background": "light"
     },
     "output_type": "display_data"
    }
   ],
   "source": [
    "plt.figure(figsize=(10,6))\n",
    "\n",
    "sns.barplot(x=eu_rating_pt.index,y=eu_rating_pt['eu_sales']);\n",
    "plt.title(\"Рейтинг ESRB в Европе\");\n",
    "plt.xlabel(\"Рейтинг\");\n",
    "plt.ylabel(\"Количество продаж\");"
   ]
  },
  {
   "cell_type": "markdown",
   "metadata": {},
   "source": [
    "В топе игры для взрослых (193 млн), на 2 месте игры 0+ (113 млн), на 3м месте игры 10+ (55 млн), на последнем игры для тинейджеров 13+ (52 млн)"
   ]
  },
  {
   "cell_type": "markdown",
   "metadata": {},
   "source": [
    "**Япония** проанализируем ее показатели и в конце напишем общий вывод по всем 3м регионам"
   ]
  },
  {
   "cell_type": "code",
   "execution_count": 69,
   "metadata": {},
   "outputs": [
    {
     "data": {
      "text/html": [
       "<div>\n",
       "<style scoped>\n",
       "    .dataframe tbody tr th:only-of-type {\n",
       "        vertical-align: middle;\n",
       "    }\n",
       "\n",
       "    .dataframe tbody tr th {\n",
       "        vertical-align: top;\n",
       "    }\n",
       "\n",
       "    .dataframe thead th {\n",
       "        text-align: right;\n",
       "    }\n",
       "</style>\n",
       "<table border=\"1\" class=\"dataframe\">\n",
       "  <thead>\n",
       "    <tr style=\"text-align: right;\">\n",
       "      <th></th>\n",
       "      <th>name</th>\n",
       "      <th>platform</th>\n",
       "      <th>year_of_release</th>\n",
       "      <th>genre</th>\n",
       "      <th>na_sales</th>\n",
       "      <th>eu_sales</th>\n",
       "      <th>jp_sales</th>\n",
       "      <th>other_sales</th>\n",
       "      <th>critic_score</th>\n",
       "      <th>user_score</th>\n",
       "      <th>rating</th>\n",
       "      <th>total_sales</th>\n",
       "    </tr>\n",
       "  </thead>\n",
       "  <tbody>\n",
       "    <tr>\n",
       "      <th>16</th>\n",
       "      <td>grand theft auto v</td>\n",
       "      <td>PS3</td>\n",
       "      <td>2013</td>\n",
       "      <td>action</td>\n",
       "      <td>7.02</td>\n",
       "      <td>9.09</td>\n",
       "      <td>0.98</td>\n",
       "      <td>3.96</td>\n",
       "      <td>97.0</td>\n",
       "      <td>8.2</td>\n",
       "      <td>M</td>\n",
       "      <td>21.05</td>\n",
       "    </tr>\n",
       "    <tr>\n",
       "      <th>23</th>\n",
       "      <td>grand theft auto v</td>\n",
       "      <td>X360</td>\n",
       "      <td>2013</td>\n",
       "      <td>action</td>\n",
       "      <td>9.66</td>\n",
       "      <td>5.14</td>\n",
       "      <td>0.06</td>\n",
       "      <td>1.41</td>\n",
       "      <td>97.0</td>\n",
       "      <td>8.1</td>\n",
       "      <td>M</td>\n",
       "      <td>16.27</td>\n",
       "    </tr>\n",
       "    <tr>\n",
       "      <th>34</th>\n",
       "      <td>call of duty: black ops ii</td>\n",
       "      <td>PS3</td>\n",
       "      <td>2012</td>\n",
       "      <td>shooter</td>\n",
       "      <td>4.99</td>\n",
       "      <td>5.73</td>\n",
       "      <td>0.65</td>\n",
       "      <td>2.42</td>\n",
       "      <td>83.0</td>\n",
       "      <td>5.3</td>\n",
       "      <td>M</td>\n",
       "      <td>13.79</td>\n",
       "    </tr>\n",
       "    <tr>\n",
       "      <th>35</th>\n",
       "      <td>call of duty: black ops ii</td>\n",
       "      <td>X360</td>\n",
       "      <td>2012</td>\n",
       "      <td>shooter</td>\n",
       "      <td>8.25</td>\n",
       "      <td>4.24</td>\n",
       "      <td>0.07</td>\n",
       "      <td>1.12</td>\n",
       "      <td>83.0</td>\n",
       "      <td>4.8</td>\n",
       "      <td>M</td>\n",
       "      <td>13.68</td>\n",
       "    </tr>\n",
       "    <tr>\n",
       "      <th>42</th>\n",
       "      <td>grand theft auto v</td>\n",
       "      <td>PS4</td>\n",
       "      <td>2014</td>\n",
       "      <td>action</td>\n",
       "      <td>3.96</td>\n",
       "      <td>6.31</td>\n",
       "      <td>0.38</td>\n",
       "      <td>1.97</td>\n",
       "      <td>97.0</td>\n",
       "      <td>8.3</td>\n",
       "      <td>M</td>\n",
       "      <td>12.62</td>\n",
       "    </tr>\n",
       "    <tr>\n",
       "      <th>...</th>\n",
       "      <td>...</td>\n",
       "      <td>...</td>\n",
       "      <td>...</td>\n",
       "      <td>...</td>\n",
       "      <td>...</td>\n",
       "      <td>...</td>\n",
       "      <td>...</td>\n",
       "      <td>...</td>\n",
       "      <td>...</td>\n",
       "      <td>...</td>\n",
       "      <td>...</td>\n",
       "      <td>...</td>\n",
       "    </tr>\n",
       "    <tr>\n",
       "      <th>16301</th>\n",
       "      <td>caladrius</td>\n",
       "      <td>X360</td>\n",
       "      <td>2013</td>\n",
       "      <td>shooter</td>\n",
       "      <td>0.00</td>\n",
       "      <td>0.00</td>\n",
       "      <td>0.01</td>\n",
       "      <td>0.00</td>\n",
       "      <td>9.9</td>\n",
       "      <td>0.1</td>\n",
       "      <td>T</td>\n",
       "      <td>0.01</td>\n",
       "    </tr>\n",
       "    <tr>\n",
       "      <th>16364</th>\n",
       "      <td>nitroplus blasterz: heroines infinite duel</td>\n",
       "      <td>PS3</td>\n",
       "      <td>2015</td>\n",
       "      <td>fighting</td>\n",
       "      <td>0.00</td>\n",
       "      <td>0.00</td>\n",
       "      <td>0.01</td>\n",
       "      <td>0.00</td>\n",
       "      <td>9.9</td>\n",
       "      <td>0.1</td>\n",
       "      <td>T</td>\n",
       "      <td>0.01</td>\n",
       "    </tr>\n",
       "    <tr>\n",
       "      <th>16374</th>\n",
       "      <td>dokuro</td>\n",
       "      <td>PSV</td>\n",
       "      <td>2012</td>\n",
       "      <td>action</td>\n",
       "      <td>0.00</td>\n",
       "      <td>0.00</td>\n",
       "      <td>0.01</td>\n",
       "      <td>0.00</td>\n",
       "      <td>76.0</td>\n",
       "      <td>8.0</td>\n",
       "      <td>E10+</td>\n",
       "      <td>0.01</td>\n",
       "    </tr>\n",
       "    <tr>\n",
       "      <th>16420</th>\n",
       "      <td>mario vs. donkey kong: tipping stars</td>\n",
       "      <td>WiiU</td>\n",
       "      <td>2015</td>\n",
       "      <td>puzzle</td>\n",
       "      <td>0.00</td>\n",
       "      <td>0.00</td>\n",
       "      <td>0.01</td>\n",
       "      <td>0.00</td>\n",
       "      <td>70.0</td>\n",
       "      <td>7.4</td>\n",
       "      <td>E</td>\n",
       "      <td>0.01</td>\n",
       "    </tr>\n",
       "    <tr>\n",
       "      <th>16510</th>\n",
       "      <td>art academy: home studio</td>\n",
       "      <td>WiiU</td>\n",
       "      <td>2015</td>\n",
       "      <td>misc</td>\n",
       "      <td>0.00</td>\n",
       "      <td>0.00</td>\n",
       "      <td>0.01</td>\n",
       "      <td>0.00</td>\n",
       "      <td>82.0</td>\n",
       "      <td>8.3</td>\n",
       "      <td>E</td>\n",
       "      <td>0.01</td>\n",
       "    </tr>\n",
       "  </tbody>\n",
       "</table>\n",
       "<p>627 rows × 12 columns</p>\n",
       "</div>"
      ],
      "text/plain": [
       "                                             name platform  year_of_release  \\\n",
       "16                             grand theft auto v      PS3             2013   \n",
       "23                             grand theft auto v     X360             2013   \n",
       "34                     call of duty: black ops ii      PS3             2012   \n",
       "35                     call of duty: black ops ii     X360             2012   \n",
       "42                             grand theft auto v      PS4             2014   \n",
       "...                                           ...      ...              ...   \n",
       "16301                                   caladrius     X360             2013   \n",
       "16364  nitroplus blasterz: heroines infinite duel      PS3             2015   \n",
       "16374                                      dokuro      PSV             2012   \n",
       "16420        mario vs. donkey kong: tipping stars     WiiU             2015   \n",
       "16510                    art academy: home studio     WiiU             2015   \n",
       "\n",
       "          genre  na_sales  eu_sales  jp_sales  other_sales  critic_score  \\\n",
       "16       action      7.02      9.09      0.98         3.96          97.0   \n",
       "23       action      9.66      5.14      0.06         1.41          97.0   \n",
       "34      shooter      4.99      5.73      0.65         2.42          83.0   \n",
       "35      shooter      8.25      4.24      0.07         1.12          83.0   \n",
       "42       action      3.96      6.31      0.38         1.97          97.0   \n",
       "...         ...       ...       ...       ...          ...           ...   \n",
       "16301   shooter      0.00      0.00      0.01         0.00           9.9   \n",
       "16364  fighting      0.00      0.00      0.01         0.00           9.9   \n",
       "16374    action      0.00      0.00      0.01         0.00          76.0   \n",
       "16420    puzzle      0.00      0.00      0.01         0.00          70.0   \n",
       "16510      misc      0.00      0.00      0.01         0.00          82.0   \n",
       "\n",
       "       user_score rating  total_sales  \n",
       "16            8.2      M        21.05  \n",
       "23            8.1      M        16.27  \n",
       "34            5.3      M        13.79  \n",
       "35            4.8      M        13.68  \n",
       "42            8.3      M        12.62  \n",
       "...           ...    ...          ...  \n",
       "16301         0.1      T         0.01  \n",
       "16364         0.1      T         0.01  \n",
       "16374         8.0   E10+         0.01  \n",
       "16420         7.4      E         0.01  \n",
       "16510         8.3      E         0.01  \n",
       "\n",
       "[627 rows x 12 columns]"
      ]
     },
     "metadata": {},
     "output_type": "display_data"
    }
   ],
   "source": [
    "jp_data_games_sales = data_games_sales.query('jp_sales > 0 and rating !=0')\n",
    "display(jp_data_games_sales)"
   ]
  },
  {
   "cell_type": "code",
   "execution_count": 70,
   "metadata": {},
   "outputs": [
    {
     "data": {
      "text/html": [
       "<div>\n",
       "<style scoped>\n",
       "    .dataframe tbody tr th:only-of-type {\n",
       "        vertical-align: middle;\n",
       "    }\n",
       "\n",
       "    .dataframe tbody tr th {\n",
       "        vertical-align: top;\n",
       "    }\n",
       "\n",
       "    .dataframe thead th {\n",
       "        text-align: right;\n",
       "    }\n",
       "</style>\n",
       "<table border=\"1\" class=\"dataframe\">\n",
       "  <thead>\n",
       "    <tr style=\"text-align: right;\">\n",
       "      <th></th>\n",
       "      <th>jp_sales</th>\n",
       "    </tr>\n",
       "    <tr>\n",
       "      <th>platform</th>\n",
       "      <th></th>\n",
       "    </tr>\n",
       "  </thead>\n",
       "  <tbody>\n",
       "    <tr>\n",
       "      <th>3DS</th>\n",
       "      <td>27.79</td>\n",
       "    </tr>\n",
       "    <tr>\n",
       "      <th>PS3</th>\n",
       "      <td>24.06</td>\n",
       "    </tr>\n",
       "    <tr>\n",
       "      <th>WiiU</th>\n",
       "      <td>10.17</td>\n",
       "    </tr>\n",
       "    <tr>\n",
       "      <th>PS4</th>\n",
       "      <td>9.71</td>\n",
       "    </tr>\n",
       "    <tr>\n",
       "      <th>PSV</th>\n",
       "      <td>8.18</td>\n",
       "    </tr>\n",
       "    <tr>\n",
       "      <th>X360</th>\n",
       "      <td>1.42</td>\n",
       "    </tr>\n",
       "    <tr>\n",
       "      <th>Wii</th>\n",
       "      <td>1.15</td>\n",
       "    </tr>\n",
       "    <tr>\n",
       "      <th>PSP</th>\n",
       "      <td>0.60</td>\n",
       "    </tr>\n",
       "    <tr>\n",
       "      <th>DS</th>\n",
       "      <td>0.37</td>\n",
       "    </tr>\n",
       "    <tr>\n",
       "      <th>XOne</th>\n",
       "      <td>0.29</td>\n",
       "    </tr>\n",
       "  </tbody>\n",
       "</table>\n",
       "</div>"
      ],
      "text/plain": [
       "          jp_sales\n",
       "platform          \n",
       "3DS          27.79\n",
       "PS3          24.06\n",
       "WiiU         10.17\n",
       "PS4           9.71\n",
       "PSV           8.18\n",
       "X360          1.42\n",
       "Wii           1.15\n",
       "PSP           0.60\n",
       "DS            0.37\n",
       "XOne          0.29"
      ]
     },
     "execution_count": 70,
     "metadata": {},
     "output_type": "execute_result"
    }
   ],
   "source": [
    "jp_platform_pt = pd.pivot_table(jp_data_games_sales, index='platform', values='jp_sales',\n",
    "                                        aggfunc='sum').sort_values('jp_sales', ascending=False)\n",
    "jp_platform_pt"
   ]
  },
  {
   "cell_type": "markdown",
   "metadata": {},
   "source": [
    "Визуализируем полученные данные:"
   ]
  },
  {
   "cell_type": "code",
   "execution_count": 71,
   "metadata": {},
   "outputs": [
    {
     "data": {
      "image/png": "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\n",
      "text/plain": [
       "<Figure size 936x432 with 1 Axes>"
      ]
     },
     "metadata": {
      "needs_background": "light"
     },
     "output_type": "display_data"
    }
   ],
   "source": [
    "plt.figure(figsize=(13,6))\n",
    "\n",
    "sns.barplot(x=jp_platform_pt.index,y=jp_platform_pt['jp_sales']);\n",
    "plt.title(\"Продажи на платформах в Японии\");\n",
    "plt.xlabel(\"Название жанра\");\n",
    "plt.ylabel(\"Количество продаж\");"
   ]
  },
  {
   "cell_type": "markdown",
   "metadata": {},
   "source": [
    "Топ-5 платформ в Японии 3DS (27 млн), PS3 (24 млн), WiiU (10 млн), PS4 (9 млн), PSV (8 млн)"
   ]
  },
  {
   "cell_type": "code",
   "execution_count": 72,
   "metadata": {},
   "outputs": [
    {
     "data": {
      "text/html": [
       "<div>\n",
       "<style scoped>\n",
       "    .dataframe tbody tr th:only-of-type {\n",
       "        vertical-align: middle;\n",
       "    }\n",
       "\n",
       "    .dataframe tbody tr th {\n",
       "        vertical-align: top;\n",
       "    }\n",
       "\n",
       "    .dataframe thead th {\n",
       "        text-align: right;\n",
       "    }\n",
       "</style>\n",
       "<table border=\"1\" class=\"dataframe\">\n",
       "  <thead>\n",
       "    <tr style=\"text-align: right;\">\n",
       "      <th></th>\n",
       "      <th>jp_sales</th>\n",
       "    </tr>\n",
       "    <tr>\n",
       "      <th>genre</th>\n",
       "      <th></th>\n",
       "    </tr>\n",
       "  </thead>\n",
       "  <tbody>\n",
       "    <tr>\n",
       "      <th>action</th>\n",
       "      <td>23.41</td>\n",
       "    </tr>\n",
       "    <tr>\n",
       "      <th>role-playing</th>\n",
       "      <td>19.99</td>\n",
       "    </tr>\n",
       "    <tr>\n",
       "      <th>shooter</th>\n",
       "      <td>8.14</td>\n",
       "    </tr>\n",
       "    <tr>\n",
       "      <th>platform</th>\n",
       "      <td>7.97</td>\n",
       "    </tr>\n",
       "    <tr>\n",
       "      <th>simulation</th>\n",
       "      <td>7.35</td>\n",
       "    </tr>\n",
       "    <tr>\n",
       "      <th>misc</th>\n",
       "      <td>4.78</td>\n",
       "    </tr>\n",
       "    <tr>\n",
       "      <th>fighting</th>\n",
       "      <td>4.16</td>\n",
       "    </tr>\n",
       "    <tr>\n",
       "      <th>sports</th>\n",
       "      <td>3.59</td>\n",
       "    </tr>\n",
       "    <tr>\n",
       "      <th>racing</th>\n",
       "      <td>2.16</td>\n",
       "    </tr>\n",
       "    <tr>\n",
       "      <th>adventure</th>\n",
       "      <td>1.06</td>\n",
       "    </tr>\n",
       "    <tr>\n",
       "      <th>puzzle</th>\n",
       "      <td>0.81</td>\n",
       "    </tr>\n",
       "    <tr>\n",
       "      <th>strategy</th>\n",
       "      <td>0.32</td>\n",
       "    </tr>\n",
       "  </tbody>\n",
       "</table>\n",
       "</div>"
      ],
      "text/plain": [
       "              jp_sales\n",
       "genre                 \n",
       "action           23.41\n",
       "role-playing     19.99\n",
       "shooter           8.14\n",
       "platform          7.97\n",
       "simulation        7.35\n",
       "misc              4.78\n",
       "fighting          4.16\n",
       "sports            3.59\n",
       "racing            2.16\n",
       "adventure         1.06\n",
       "puzzle            0.81\n",
       "strategy          0.32"
      ]
     },
     "execution_count": 72,
     "metadata": {},
     "output_type": "execute_result"
    }
   ],
   "source": [
    "jp_genre_pt = pd.pivot_table(jp_data_games_sales, index='genre', values='jp_sales',\n",
    "                                        aggfunc='sum').sort_values('jp_sales', ascending=False)\n",
    "jp_genre_pt"
   ]
  },
  {
   "cell_type": "code",
   "execution_count": 73,
   "metadata": {},
   "outputs": [
    {
     "data": {
      "image/png": "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\n",
      "text/plain": [
       "<Figure size 936x432 with 1 Axes>"
      ]
     },
     "metadata": {
      "needs_background": "light"
     },
     "output_type": "display_data"
    }
   ],
   "source": [
    "plt.figure(figsize=(13,6))\n",
    "\n",
    "sns.barplot(x=jp_genre_pt.index,y=jp_genre_pt['jp_sales']);\n",
    "plt.title(\"Топ жанров в Японии\");\n",
    "plt.xlabel(\"Название жанра\");\n",
    "plt.ylabel(\"Количество продаж\");"
   ]
  },
  {
   "cell_type": "markdown",
   "metadata": {},
   "source": [
    "Топ 5 популярных жанров в Японии: action (23 млн), role-playing (19 млн), shooter (8 млн), platform (7 млн), simulation (7 млн)"
   ]
  },
  {
   "cell_type": "code",
   "execution_count": 74,
   "metadata": {},
   "outputs": [
    {
     "data": {
      "text/html": [
       "<div>\n",
       "<style scoped>\n",
       "    .dataframe tbody tr th:only-of-type {\n",
       "        vertical-align: middle;\n",
       "    }\n",
       "\n",
       "    .dataframe tbody tr th {\n",
       "        vertical-align: top;\n",
       "    }\n",
       "\n",
       "    .dataframe thead th {\n",
       "        text-align: right;\n",
       "    }\n",
       "</style>\n",
       "<table border=\"1\" class=\"dataframe\">\n",
       "  <thead>\n",
       "    <tr style=\"text-align: right;\">\n",
       "      <th></th>\n",
       "      <th>jp_sales</th>\n",
       "    </tr>\n",
       "    <tr>\n",
       "      <th>rating</th>\n",
       "      <th></th>\n",
       "    </tr>\n",
       "  </thead>\n",
       "  <tbody>\n",
       "    <tr>\n",
       "      <th>E</th>\n",
       "      <td>28.33</td>\n",
       "    </tr>\n",
       "    <tr>\n",
       "      <th>T</th>\n",
       "      <td>26.02</td>\n",
       "    </tr>\n",
       "    <tr>\n",
       "      <th>M</th>\n",
       "      <td>21.20</td>\n",
       "    </tr>\n",
       "    <tr>\n",
       "      <th>E10+</th>\n",
       "      <td>8.19</td>\n",
       "    </tr>\n",
       "  </tbody>\n",
       "</table>\n",
       "</div>"
      ],
      "text/plain": [
       "        jp_sales\n",
       "rating          \n",
       "E          28.33\n",
       "T          26.02\n",
       "M          21.20\n",
       "E10+        8.19"
      ]
     },
     "execution_count": 74,
     "metadata": {},
     "output_type": "execute_result"
    }
   ],
   "source": [
    "jp_rating_pt = pd.pivot_table(jp_data_games_sales, index='rating', values='jp_sales',\n",
    "                                        aggfunc='sum').sort_values('jp_sales', ascending=False)\n",
    "jp_rating_pt"
   ]
  },
  {
   "cell_type": "code",
   "execution_count": 75,
   "metadata": {},
   "outputs": [
    {
     "data": {
      "image/png": "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\n",
      "text/plain": [
       "<Figure size 720x432 with 1 Axes>"
      ]
     },
     "metadata": {
      "needs_background": "light"
     },
     "output_type": "display_data"
    }
   ],
   "source": [
    "plt.figure(figsize=(10,6))\n",
    "\n",
    "sns.barplot(x=jp_rating_pt.index,y=jp_rating_pt['jp_sales']);\n",
    "plt.title(\"Рейтинг ESRB в Японии\");\n",
    "plt.xlabel(\"Рейтинг\");\n",
    "plt.ylabel(\"Количество продаж\");"
   ]
  },
  {
   "cell_type": "markdown",
   "metadata": {},
   "source": [
    "В Японии популярны игры для всех возрастов (28 млн), игры 13+ (26 млн), игры для взрослых на 3м месте (21 млн), 10+ на последнем месте (8 млн)"
   ]
  },
  {
   "cell_type": "markdown",
   "metadata": {},
   "source": [
    "**Вывод по портрету пользователей в каждом регионе**\n",
    "\n",
    "1. ТОП 5 платформ \n",
    "- Северная Америка: X360 (126 млн), PS3 (91 млн), PS4 (84 млн), XOne(78 млн), WiiU(31 млн)\n",
    "- Европа: PS4 (113 млн), PS3 (94 млн), X360 (67 млн), XOne (43 млн), PC (31 млн)\n",
    "- Япония: 3DS (27 млн), PS3 (24 млн), WiiU (10 млн), PS4 (9 млн), PSV (8 млн)\n",
    "\n",
    "В Северной Америке более популярен Xbox 1й (X360) от Microsoft, в Европе - Play Station от Sony, в Японии- японский Nintendo 3DS. Возможно топ популярной консоли определен доступностью и ценой в регионе. на 2м месте во всех 3х регионах PS3. В Европе в топ входит даже персональный компьютер, а в Японии лидируют мини портативные приставки. \n",
    "\n",
    "2. ТОП 5 популярных жанров:\n",
    "-\n",
    "Жанр экшн лидирует во всех 3х регионах, в целом список топов Северной Америки и Европы похож (отличие только последняя позиция misc и racing), в Японии список топ отличается от 2х других из-за отличия платформ (не на все платформы технически возможно реализовать определенные жанры)\n",
    "\n",
    "\n",
    "3. Рейтинг ESRB на продажи в Северной Америке и Европе не влияет, в Японии-да (но возможно это особенность менталитета или низкий возраст игроков из-за высокой доступности Нинтендо, так например XBox или PS имеют высокую цену и просто для детей она не доступна). \n",
    "\n",
    "Итоговые данные:\n",
    "- Северная Америка: На 1м месте игры для взрослых(231 млн), на 2-для всех (114 млн), на 3 игры для всех старше 10 лет (75 млн), на 4 месте игры старше 13 лет. То есть продажи игр 18+ в 2 раза превышают продажи игр 0+. \n",
    "- Европа: На 1м месте игры для взрослых (193 млн), на 2 месте игры 0+ (113 млн), на 3м месте игры 10+ (55 млн), на последнем игры для тинейджеров 13+ (52 млн)\n",
    "- В Японии популярны игры для всех возрастов (28 млн), игры 13+ (26 млн), игры для взрослых на 3м месте (21 млн), 10+ на последнем месте (8 млн)\n",
    "\n",
    "Американский пользователь старше 18 лет, играет на 1й версии Xbox или PS3, предпочитает экшены, шутеры, спорт\n",
    "Европейский пользователь старше 18 лет, играет на PS4/PS3, предпочитает так же экшены, шутеры или спорт\n",
    "Японский пользователь старше 13 лет, играет на 3DS или PS3, предпочитает экшены, ролевые, шутеры и игры-платформы Северная Америка: action(155 млн), shooter(124 млн), sport(80 млн), role-playing(37 млн), misc (24 млн). \n",
    "- Европа: action (139 млн), shooter (96 млн), sports (65 млн), role-playing (29 млн), racing (21 млн)\n",
    "- Япония: action (23 млн), role-playing (19 млн), shooter (8 млн), platform (7 млн), simulation (7 млн)\n"
   ]
  },
  {
   "cell_type": "markdown",
   "metadata": {},
   "source": [
    "<div class=\"alert alert-warning\">\n",
    "    <h2> Комментарий ревьюера v1 <a class=\"tocSkip\"> </h2>\n",
    "    \n",
    "<b>Небольшие замечания и рекомендации💡:</b>Если взять актульный период меньше, то результаты будут отличаться) "
   ]
  },
  {
   "cell_type": "markdown",
   "metadata": {},
   "source": [
    "<div class=\"alert alert-block alert-danger\">\n",
    "<h2> Комментарий ревьюера v1 <a class=\"tocSkip\"></h2>\n",
    "\n",
    "<b>На доработку🤔:</b> Визуализируем весь раздел? "
   ]
  },
  {
   "cell_type": "markdown",
   "metadata": {},
   "source": [
    "<div class=\"alert alert-info\">\n",
    "<b>Готово </b> \n",
    "</div>"
   ]
  },
  {
   "cell_type": "markdown",
   "metadata": {},
   "source": [
    "<div class=\"alert alert-success\">\n",
    "<h2> Комментарий ревьюера v2 <a class=\"tocSkip\"> </h2>\n",
    "\n",
    "<b>Все супер!👍:</b> Топ!"
   ]
  },
  {
   "cell_type": "markdown",
   "metadata": {},
   "source": [
    "**Шаг 5.** Проверьте гипотезы\n",
    "\n",
    "- Средние пользовательские рейтинги платформ Xbox One и PC одинаковые;\n",
    "- Средние пользовательские рейтинги жанров Action (англ. «действие», экшен-игры) и Sports (англ. «спортивные соревнования») разные.\n",
    "- Задайте самостоятельно пороговое значение alpha.\n",
    "\n",
    "Поясните:\n",
    "- Как вы сформулировали нулевую и альтернативную гипотезы;\n",
    "- Какой критерий применили для проверки гипотез и почему."
   ]
  },
  {
   "cell_type": "markdown",
   "metadata": {},
   "source": [
    "**1)** Cделаем срез данных, отсеим рейтинги, где 0 (бывший Nan)"
   ]
  },
  {
   "cell_type": "code",
   "execution_count": 76,
   "metadata": {},
   "outputs": [],
   "source": [
    "#для XOne\n",
    "user_rating_xone = data_games_sales.query('platform == \"XOne\" and user_score !=0.1  and user_score !=9.9')['user_score']"
   ]
  },
  {
   "cell_type": "code",
   "execution_count": 77,
   "metadata": {},
   "outputs": [],
   "source": [
    "#для PC\n",
    "user_rating_pc = data_games_sales.query('platform == \"PC\" and user_score !=0.1 and user_score !=9.9')['user_score']"
   ]
  },
  {
   "cell_type": "markdown",
   "metadata": {},
   "source": [
    "Наложим 2 графика друг на друга, чтобы сравнить показатели"
   ]
  },
  {
   "cell_type": "code",
   "execution_count": 78,
   "metadata": {},
   "outputs": [
    {
     "data": {
      "image/png": "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\n",
      "text/plain": [
       "<Figure size 432x288 with 1 Axes>"
      ]
     },
     "metadata": {
      "needs_background": "light"
     },
     "output_type": "display_data"
    }
   ],
   "source": [
    "user_rating_pc.hist(bins=35, alpha=0.5, color='green')\n",
    "user_rating_xone.hist(bins=35, alpha=0.5, color='red');"
   ]
  },
  {
   "cell_type": "markdown",
   "metadata": {},
   "source": [
    "Гипотеза 0: Средний пользовательский рейтинг Xbox One = среднему пользовательскому рейтингу PC\n",
    "Альтернативная гипотеза: Средние пользовательские рейтинги платформ Xbox One и PC различаются.\n",
    "\n",
    "Для оценки гипотезы применим тест Стьюдента. Так как, у нас 2 совокупности и нам необходимо проверить двустороннюю гипотезы о равенстве среднего генеральной совокупности некоторому значению. \n",
    "Ответ, который ожидаем: либо рейтинги различаются и мы отвергаем нулевую гипотезу, либо рейтинги одинаковые и мы принимаем эту гипотезу. \n",
    "\n",
    "Протестируем гипотезу, за Альфа возьмем стандартное значение в 0.05"
   ]
  },
  {
   "cell_type": "markdown",
   "metadata": {},
   "source": [
    "<div class=\"alert alert-success\">\n",
    "<h2> Комментарий ревьюера v1 <a class=\"tocSkip\"> </h2>\n",
    "\n",
    "<b>Все супер!👍:</b>Гипотезы сфомрулированы верно"
   ]
  },
  {
   "cell_type": "code",
   "execution_count": 79,
   "metadata": {},
   "outputs": [
    {
     "name": "stdout",
     "output_type": "stream",
     "text": [
      "p-значение: 0.5535080500643661\n",
      "Не получилось отвергнуть нулевую гипотезу\n"
     ]
    }
   ],
   "source": [
    "alpha = .05\n",
    "\n",
    "results = st.ttest_ind(user_rating_xone, user_rating_pc)\n",
    "\n",
    "print('p-значение:', results.pvalue)\n",
    "\n",
    "if (results.pvalue < alpha):\n",
    "    print(\"Отвергаем нулевую гипотезу\")\n",
    "else:\n",
    "    print(\"Не получилось отвергнуть нулевую гипотезу\")"
   ]
  },
  {
   "cell_type": "markdown",
   "metadata": {},
   "source": [
    "**Вывод** У нас нет оснований утверждать, что средние пользовательские рейтинги платформ Xbox One и PC значимо различаются"
   ]
  },
  {
   "cell_type": "markdown",
   "metadata": {},
   "source": [
    "<div class=\"alert alert-warning\">\n",
    "    <h2> Комментарий ревьюера v1 <a class=\"tocSkip\"> </h2>\n",
    "    \n",
    "<b>Небольшие замечания и рекомендации💡:</b>В статисетике невозможно подвтердить гипоетзы) В данном случае вывод будет звучать так: У нас нет оснований утверждать, что средние пользовательские рейтинги платформ Xbox One и PC значимо различаются"
   ]
  },
  {
   "cell_type": "markdown",
   "metadata": {},
   "source": [
    "<div class=\"alert alert-info\">\n",
    "<b>Готово </b> \n",
    "</div>"
   ]
  },
  {
   "cell_type": "markdown",
   "metadata": {},
   "source": [
    "**2)** Проверим гипотезу о том, что средние пользовательские рейтинги жанров Action (англ. «действие», экшен-игры) и Sports (англ. «спортивные соревнования») разные по аналогии с предыдущей задачей. Сначала отсортируем данные, уберем из отсутсвующие значения."
   ]
  },
  {
   "cell_type": "code",
   "execution_count": 80,
   "metadata": {},
   "outputs": [
    {
     "data": {
      "image/png": "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\n",
      "text/plain": [
       "<Figure size 432x288 with 1 Axes>"
      ]
     },
     "metadata": {
      "needs_background": "light"
     },
     "output_type": "display_data"
    }
   ],
   "source": [
    "#срез по экшен\n",
    "genre_rating_action = data_games_sales.query('genre == \"action\" and user_score !=0.1 and user_score !=9.9')['user_score']\n",
    "#срез по спорту\n",
    "genre_rating_sports = data_games_sales.query('genre == \"sports\" and user_score !=0.1 and user_score !=9.9')['user_score']\n",
    "\n",
    "#составим график\n",
    "genre_rating_action.hist(bins=35, alpha=0.5, color='blue')\n",
    "genre_rating_sports.hist(bins=35, alpha=0.5, color='pink');"
   ]
  },
  {
   "cell_type": "markdown",
   "metadata": {},
   "source": [
    "На графике видно разницу в данных."
   ]
  },
  {
   "cell_type": "markdown",
   "metadata": {},
   "source": [
    "Гипотеза 0: Средний пользовательский рейтинг жанра action одинаков со средним пользовательским рейтингом sports\n",
    "Альтернативная гипотеза: Средние пользовательские рейтинги жанров sports и action отличаются\n",
    "Для оценки гипотезы применим тест Стьюдента.  \n",
    "Протестируем гипотезу, за Альфа возьмем стандартное значение в 0.05"
   ]
  },
  {
   "cell_type": "markdown",
   "metadata": {},
   "source": [
    "<div class=\"alert alert-success\">\n",
    "<h2> Комментарий ревьюера v1 <a class=\"tocSkip\"> </h2>\n",
    "\n",
    "<b>Все супер!👍:</b> Гипотезы сформулированы верно"
   ]
  },
  {
   "cell_type": "code",
   "execution_count": 81,
   "metadata": {},
   "outputs": [
    {
     "name": "stdout",
     "output_type": "stream",
     "text": [
      "p-значение: 3.7163089460934874e-26\n",
      "Отвергаем нулевую гипотезу\n"
     ]
    }
   ],
   "source": [
    "alpha = .05\n",
    "\n",
    "results = st.ttest_ind(genre_rating_action, genre_rating_sports)\n",
    "\n",
    "print('p-значение:', results.pvalue)\n",
    "\n",
    "if (results.pvalue < alpha):\n",
    "    print(\"Отвергаем нулевую гипотезу\")\n",
    "else:\n",
    "    print(\"Не получилось отвергнуть нулевую гипотезу\")"
   ]
  },
  {
   "cell_type": "markdown",
   "metadata": {},
   "source": [
    "**Вывод**: У нас нет оснований утверждать, что средние пользовательские рейтинги жанров sports и action отличаются"
   ]
  },
  {
   "cell_type": "markdown",
   "metadata": {},
   "source": [
    "<div class=\"alert alert-warning\">\n",
    "    <h2> Комментарий ревьюера v1 <a class=\"tocSkip\"> </h2>\n",
    "    \n",
    "<b>Небольшие замечания и рекомендации💡:</b> Доработаем вывод?)\n",
    "        "
   ]
  },
  {
   "cell_type": "markdown",
   "metadata": {},
   "source": [
    "<div class=\"alert alert-info\">\n",
    "<b>Готово </b> \n",
    "</div>"
   ]
  },
  {
   "cell_type": "markdown",
   "metadata": {},
   "source": [
    "<div class=\"alert alert-success\">\n",
    "<h2> Комментарий ревьюера v2 <a class=\"tocSkip\"> </h2>\n",
    "\n",
    "<b>Все супер!👍:</b> Молодец)"
   ]
  },
  {
   "cell_type": "markdown",
   "metadata": {},
   "source": [
    "***ОБЩИЙ ВЫВОД***\n",
    "\n",
    "Цель исследования была выявить определяющие успешность игры закономерности, чтобы сделать ставку на потенциально популярный продукт и спланировать рекламные кампании.\n",
    "\n",
    "Исследование проводилось в 5 этапов:\n",
    "- Подготовка данных (смена типа дынных, заполнение большого количества пропусков в оценках пользователей и критиков, рейтингов, подсчет общего дохода от продаж в 3х регионах)\n",
    "- Исследовательский анализ данных (анализ продаж по платформам, анализ продаж по годам, распределение данных о продажах, корреляцию данных между отзывами и продажами, распределение игр по жанрам, опредление популярных\n",
    "- Работа над составление портрета пользователя (топ-5 популярных жанров, популярных консолей и рейтинга ESRB в каждом регионе)\n",
    "- Проверка гипотезы (1) Средние пользовательские рейтинги платформ Xbox One и PC одинаковые;\n",
    "2) Средние пользовательские рейтинги жанров Action (англ. «действие», экшен-игры) и Sports (англ. «спортивные соревнования») разные.)"
   ]
  },
  {
   "cell_type": "markdown",
   "metadata": {},
   "source": [
    "***Согласно полученным данным, пришли к следующим выводам**\n",
    "\n",
    "1) Анализ платформ\n",
    "- Общие продажи. В 2002 году случился рост х2, с этого момента с ростом гейм индустрия начала сильно меняться, качество, графика, механики, приставки сильно изменились. Поэтому для анализа был взят период с 2002 по 2016 года.\n",
    "- Сколько лет живут платформы? Если говорить о 3х популярных производителях sony, xbox, nintendo, то доход от продажи игр растет первые 3 года, далее медленно идет на спад. Если отдельно по каждому, то периоды популярности топ приставок в зависимости от объема продаж составили Wii - 8 лет, DS - 9 лет, PS3 - 10 лет, X360 - 9 лет, PS2 - 10 лет. То есть в среднем за 8-9 лет платформы появляются и уходят.\n",
    "- Консоли-лидеры на рынке? Нинтендо, PS, XBox. \n",
    "- Какие модели популярны на период с 2012-2016: PS2, PS3, X360, Wii, DS - уходящий тренд со спадом к 2013. У всех платформ идет спад к 2016 году. Но у каких-то вроде Nintendo, PlayStation, XBox в целом есть пики-росты и спады, к моменту выхода новой консоли раз в 1-2-3-4 года. Например, на момент 2016 года топ 3 консоли: XOne, PS4, 3DS на спаде продаж их доход суммарно составил 110 млн долларов. При этом пик их популярности был 2-3 года назад. Доход XOne в 2015 году (60 млн), и в 2016 на эту консоль было продано на сумму 26 млн. В 2017 возможно он будет ниже в 2-3 раза, так как планируется выпуск новой. Поэтому упор на эти платформы для прогноза лучше не делать. Есть платформы, которые завершают цикл своей жизни. Например, PC(personal computer) и PSP уже в целом исторически уступает консолям свое место. Вообще с 2013 по 2016 год был перерыв в выпуске обновленных версий консолей, поэтому показатели шли на спад. Но с 2016 года ожидался выпуск сразу нескольких консолей. Вот новые консололи, которые выпустят в 2016-2017:\n",
    "\n",
    "Xbox One S\n",
    "PlayStation 4 Slim\n",
    "PlayStation 4 Pro\n",
    "Xbox One X\n",
    "Nintendo Switch\n",
    "Это 3 основных лидера рынка (PlayStation, Xbox, Nintendo), их рост и падение предсказуемы, их продажи самые высокие.\n",
    "\n",
    "\n",
    "- Топ продаж игр на какие консоли? Вывод по выручке с проданных игр на 3 популярные консоли: В целом по 3м консолям рекорд продаж 21 млн долларов, в среднем заработок 500 тыс., минимальный в 100 тыс. долларов. Успешным играм в среднем так не удалось выйти за порог дохода больше 1,7. Порог дохода для бОльшей части игр - это 110-220 тыс долларов. PS4 максимальный рекорд в 14 млн., средний - 800 тыс., медианный- 200 тыс, средний разброс большинства дохода от 10 тыс. до 1,7 млн долларов. XOne максимальный рекорд по выручке - 7,3 млн, средний-645 тыс, медианный-220 тыс, средний разброс большинства дохода от 10 тыс. до 1,6 млн. При этом стоит учесть, что игр на PS4 (392), а на XOne (247), то есть у XOne на 37% меньше игр, а показатели почти как у PS4). 3DS максимум по выручке - 14,6 млн, среднее значение - 491 тыс, медианное - 110 тыс, разброс от 10 тыс. до 750 тыс. Еще меньше, чем у Xbox и PS\n",
    "\n",
    "2) Анализ влияния рейтинга\n",
    "- Как влияют оценки пользователей и оценки критиков? Оценки пользователей могут низкими и высокими вне зависимости от того, успешная или нет была игра в финансовом плане. А вот оценки критиков высокие в случае финансового успеха игры. Так, например из топа продаж игра, что принесла 12.62 млн, получила оценку критиков-97.0, оценку игроков-8.3, игра что принесла 8.58 млн, получила от критиков-82.0, и 4.3 от игроков. И судя по распределению значений рейтинга в зависимости от объема продаж, очень много достаточно качественных игр (с оценкой пользователей от 6 баллов и оценкой критиков от 50-60). \n",
    "\n",
    "- Как влияют оценки пользователей на разных консолях?\n",
    "Но в целом заивисимость объема продаж игры от оценок низкая, зависимость от оценки критиков в 2 раза выше, чем от оценки пользователей. Зависимость от оценки критиков буквально на доли процентов больше, чем у PS4, но в целом такая же низкая, зависимость от оценки пользователей такая же, как у PS4. Зависимость от оценки пользователей отрицательная - 0.01. \n",
    "У игр с высокими показателями продаж-высокая оценка у критиков выше 70 и абсолютно разная у пользователей. Так например, игра с продажами на 5.47 млн получила оценку критиков - 97.0, оценку пользователей - 7.9, игра с продажами на 5.26 получила у критиков - 81.0, у пользователей - 5.4\n",
    "\n",
    "3) Анализ жанров игр?\n",
    "\n",
    "Судя по выручке, игры в топ жанрах редко выходят выше выручки в 1-2 млн долларов.\n",
    "\n",
    "ТОП-5 жанров судя по общей выручке : action\t(441.12), shooter (304.73), role-playing (192.80), sports (181.07), misc (85.04). Судя по таблице выручки: жанр racing(53 млн), fighting(44 млн), simulation(35) гораздо менее популярен. А игры вроде стратегий(13 млн) и пазлов(4 млн) возможно перебрались в другие устройства вроде телефонов и в срезе данных по консолям они на последних местах.\n",
    "\n",
    "Но, судя по диаграмме размаха, некоторые жанры оказались в топе не за счет успеха игры, а за счет бОльшего числа игр. Чем больше игр, тем больше суммарно получается выручка. Если судить по диаграмме размаха, то лидерами будут platform (с размахом до 1.9 млн и медианной в 300-350 тысяч долларов)б shooter (с размахом до 1.7 млн, и медианной 300 тысяч долларов). Это 2 жанра лидера, так как показатель высокой выручки у них достигается за счет качества игр, а не количества. Жанр action на 3м месте. Racing,Role-playing и sports на одном уровне.\n",
    "\n",
    "4) Портрет пользователя по регионам\n",
    "- ТОП 5 платформ \n",
    "Северная Америка: X360 (126 млн), PS3 (91 млн), PS4 (84 млн), XOne(78 млн), WiiU(31 млн)\n",
    "\n",
    "Европа: PS4 (113 млн), PS3 (94 млн), X360 (67 млн), XOne (43 млн), PC (31 млн)\n",
    "\n",
    "Япония: 3DS (27 млн), PS3 (24 млн), WiiU (10 млн), PS4 (9 млн), PSV (8 млн)\n",
    "\n",
    "- ТОП 5 популярных жанров \n",
    "\n",
    "Жанр экшн лидирует во всех 3х регионах, в целом список топов Северной Америки и Европы похож (отличие только последняя позиция misc и racing), в Японии список топ отличается от 2х других из-за отличия платформ (не на все платформы технически возможно реализовать определенные жанры)\n",
    "\n",
    "-Рейтинг ESRB и ограничение игр по возрасту\n",
    "\n",
    "На продажи в Северной Америке и Европе не влияет, в Японии-да (но возможно это особенность менталитета или низкий возраст игроков из-за высокой доступности Нинтендо, так например XBox или PS имеют высокую цену и просто для детей она не доступна). \n",
    "\n",
    "Итоговые данные:\n",
    "Северная Америка: На 1м месте игры для взрослых(231 млн), на 2-для всех (114 млн), на 3 игры для всех старше 10 лет (75 млн), на 4 месте игры старше 13 лет. То есть продажи игр 18+ в 2 раза превышают продажи игр 0+. \n",
    "\n",
    "Европа: На 1м месте игры для взрослых (193 млн), на 2 месте игры 0+ (113 млн), на 3м месте игры 10+ (55 млн), на последнем игры для тинейджеров 13+ (52 млн)\n",
    "\n",
    "В Японии популярны игры для всех возрастов (28 млн), игры 13+ (26 млн), игры для взрослых на 3м месте (21 млн), 10+ на последнем месте (8 млн)\n",
    "\n",
    "\n",
    "-Портрет пользователя:\n",
    "Американский пользователь старше 18 лет, играет на 1й версии Xbox или PS3, предпочитает экшены, шутеры, спорт\n",
    "Европейский пользователь старше 18 лет, играет на PS4/PS3, предпочитает так же экшены, шутеры или спорт\n",
    "Японский пользователь старше 13 лет, играет на 3DS или PS3, предпочитает экшены, ролевые, шутеры и игры-платформы Северная Америка: action(155 млн), shooter(124 млн), sport(80 млн), role-playing(37 млн), misc (24 млн). \n",
    "\n",
    "\n",
    "Гипотеза подтверждается, средние пользовательские рейтинги платформ Xbox One и PC одинаковые\n",
    "гипотеза не подтвердилась, средние пользовательские рейтинги жанров sports и action отличаются\n"
   ]
  },
  {
   "cell_type": "markdown",
   "metadata": {},
   "source": [
    "<div class=\"alert alert-block alert-danger\">\n",
    "<h2> Комментарий ревьюера v1 <a class=\"tocSkip\"></h2>\n",
    "\n",
    "<b>На доработку🤔:</b> Исправим замечания и доработаем вывод?) "
   ]
  },
  {
   "cell_type": "markdown",
   "metadata": {},
   "source": [
    "***Прошу не судить строго по табуляции, разметке и орфографии, работа делалась под температурой не ниже 38-39 градусов, возможно даже самим вирусом,управляющим сознанием***"
   ]
  },
  {
   "cell_type": "markdown",
   "metadata": {},
   "source": [
    "<div class=\"alert alert-success\">\n",
    "<h2> Комментарий ревьюера v1 <a class=\"tocSkip\"> </h2>\n",
    "\n",
    "<b>Все супер!👍:</b> Проект хороший, но нудно немного доработать) Выздоравливай! "
   ]
  },
  {
   "cell_type": "markdown",
   "metadata": {},
   "source": [
    "<div class=\"alert alert-info\">\n",
    "<b>Спасибо </b> \n",
    "</div>"
   ]
  },
  {
   "cell_type": "markdown",
   "metadata": {},
   "source": [
    "<div class=\"alert alert-success\">\n",
    "<h2> Комментарий ревьюера v2 <a class=\"tocSkip\"> </h2>\n",
    "\n",
    "<b>Все супер!👍:</b> Вывод полностью отражает проделанную работу!"
   ]
  },
  {
   "cell_type": "markdown",
   "metadata": {},
   "source": [
    "<div style=\"border:solid Chocolate 2px; padding: 40px\">\n",
    "    \n",
    "**Общий вывод по проекту ревьювера**:\n",
    "Екатерина, спасибо за  проект! Ты приложила много усилий, чтобы довести его до конца, проделана огромная работа, и это видно невооруженным глазом, ты большая молодец!\n",
    "    \n",
    "**Отмечу положительные моменты**:\n",
    "    \n",
    "    1. Все разложено по полочкам, всегда понятен ход твоих мыслей, приятно смотреть\n",
    "    \n",
    "    2. Отличные визуализации\n",
    "    \n",
    "    3. На разных шагах проекта ты предлагала очень интересные решения и методы для их реализации. Хорошая работа!\n",
    "    \n",
    "    \n",
    "**На что стоит обратить внимание**:\n",
    "    \n",
    "    1. Нет проверки на дубликаты\n",
    "    \n",
    "    2. Не хвататет визуализаций \n",
    "    \n",
    "    3. Оформление графиков\n",
    "    \n",
    "    4. Неверно определены прибыльные продажи по жанрам\n",
    "    \n",
    "    \n",
    "**Удачи и жду твой проект на повторное ревью!**"
   ]
  },
  {
   "cell_type": "markdown",
   "metadata": {},
   "source": [
    "<div style=\"border:solid Chocolate 2px; padding: 40px\">\n",
    "    \n",
    "**Общий вывод по проекту ревьювера v2**:\n",
    "Екатерина, ошибки исправлены, проект принят, поздравляю тебя! Успешной учебы и еще увидимся в Практикуме!"
   ]
  },
  {
   "cell_type": "code",
   "execution_count": null,
   "metadata": {},
   "outputs": [],
   "source": []
  }
 ],
 "metadata": {
  "ExecuteTimeLog": [
   {
    "duration": 118,
    "start_time": "2023-04-15T15:13:45.399Z"
   },
   {
    "duration": 655,
    "start_time": "2023-04-15T15:13:54.888Z"
   },
   {
    "duration": 9,
    "start_time": "2023-04-15T15:33:04.552Z"
   },
   {
    "duration": 93,
    "start_time": "2023-04-15T15:34:28.221Z"
   },
   {
    "duration": 10,
    "start_time": "2023-04-15T15:34:37.012Z"
   },
   {
    "duration": 10,
    "start_time": "2023-04-15T15:34:57.600Z"
   },
   {
    "duration": 11,
    "start_time": "2023-04-15T15:35:29.571Z"
   },
   {
    "duration": 31,
    "start_time": "2023-04-15T15:35:46.128Z"
   },
   {
    "duration": 71,
    "start_time": "2023-04-15T15:36:21.013Z"
   },
   {
    "duration": 61,
    "start_time": "2023-04-15T15:37:32.114Z"
   },
   {
    "duration": 89,
    "start_time": "2023-04-15T15:37:43.703Z"
   },
   {
    "duration": 37,
    "start_time": "2023-04-15T15:40:36.580Z"
   },
   {
    "duration": 13,
    "start_time": "2023-04-15T15:41:13.880Z"
   },
   {
    "duration": 38,
    "start_time": "2023-04-15T15:41:28.084Z"
   },
   {
    "duration": 43,
    "start_time": "2023-04-15T15:43:00.254Z"
   },
   {
    "duration": 47,
    "start_time": "2023-04-16T04:33:04.278Z"
   },
   {
    "duration": 502,
    "start_time": "2023-04-16T04:33:12.414Z"
   },
   {
    "duration": 43,
    "start_time": "2023-04-16T04:33:23.575Z"
   },
   {
    "duration": 26,
    "start_time": "2023-04-16T05:28:55.449Z"
   },
   {
    "duration": 32,
    "start_time": "2023-04-16T05:30:16.528Z"
   },
   {
    "duration": 10,
    "start_time": "2023-04-16T05:32:50.645Z"
   },
   {
    "duration": 951,
    "start_time": "2023-04-16T05:35:24.764Z"
   },
   {
    "duration": 29,
    "start_time": "2023-04-16T05:35:25.745Z"
   },
   {
    "duration": 51,
    "start_time": "2023-04-16T05:35:30.062Z"
   },
   {
    "duration": 3,
    "start_time": "2023-04-16T05:40:27.249Z"
   },
   {
    "duration": 1276,
    "start_time": "2023-04-16T05:41:30.067Z"
   },
   {
    "duration": 71,
    "start_time": "2023-04-16T05:41:31.345Z"
   },
   {
    "duration": 29,
    "start_time": "2023-04-16T05:41:31.417Z"
   },
   {
    "duration": 4,
    "start_time": "2023-04-16T05:43:30.849Z"
   },
   {
    "duration": 34,
    "start_time": "2023-04-16T05:44:25.279Z"
   },
   {
    "duration": 10,
    "start_time": "2023-04-16T06:39:11.608Z"
   },
   {
    "duration": 38,
    "start_time": "2023-04-16T06:40:40.788Z"
   },
   {
    "duration": 10,
    "start_time": "2023-04-16T06:40:50.537Z"
   },
   {
    "duration": 11,
    "start_time": "2023-04-16T06:56:47.335Z"
   },
   {
    "duration": 19,
    "start_time": "2023-04-16T06:58:36.826Z"
   },
   {
    "duration": 66,
    "start_time": "2023-04-16T15:11:51.736Z"
   },
   {
    "duration": 1455,
    "start_time": "2023-04-16T15:11:58.707Z"
   },
   {
    "duration": 137,
    "start_time": "2023-04-16T15:12:00.165Z"
   },
   {
    "duration": 32,
    "start_time": "2023-04-16T15:12:00.514Z"
   },
   {
    "duration": 29,
    "start_time": "2023-04-16T15:12:01.047Z"
   },
   {
    "duration": 11,
    "start_time": "2023-04-16T15:12:01.338Z"
   },
   {
    "duration": 12,
    "start_time": "2023-04-16T15:12:02.118Z"
   },
   {
    "duration": 926,
    "start_time": "2023-04-16T15:12:02.514Z"
   },
   {
    "duration": 4,
    "start_time": "2023-04-16T15:12:34.622Z"
   },
   {
    "duration": 4,
    "start_time": "2023-04-16T15:12:44.206Z"
   },
   {
    "duration": 31,
    "start_time": "2023-04-16T15:13:54.815Z"
   },
   {
    "duration": 19,
    "start_time": "2023-04-16T15:16:12.044Z"
   },
   {
    "duration": 28,
    "start_time": "2023-04-16T15:16:21.079Z"
   },
   {
    "duration": 54,
    "start_time": "2023-04-16T15:25:43.832Z"
   },
   {
    "duration": 54,
    "start_time": "2023-04-16T15:28:09.928Z"
   },
   {
    "duration": 57,
    "start_time": "2023-04-16T15:32:49.344Z"
   },
   {
    "duration": 1074,
    "start_time": "2023-04-16T15:33:33.772Z"
   },
   {
    "duration": 1023,
    "start_time": "2023-04-16T15:33:47.518Z"
   },
   {
    "duration": 1147,
    "start_time": "2023-04-16T15:34:40.242Z"
   },
   {
    "duration": 990,
    "start_time": "2023-04-16T15:34:53.804Z"
   },
   {
    "duration": 1218,
    "start_time": "2023-04-16T15:35:00.233Z"
   },
   {
    "duration": 3938,
    "start_time": "2023-04-16T15:35:20.442Z"
   },
   {
    "duration": 4038,
    "start_time": "2023-04-16T15:35:29.022Z"
   },
   {
    "duration": 3887,
    "start_time": "2023-04-16T15:35:42.605Z"
   },
   {
    "duration": 401,
    "start_time": "2023-04-16T15:36:09.538Z"
   },
   {
    "duration": 4,
    "start_time": "2023-04-16T15:36:31.167Z"
   },
   {
    "duration": 400,
    "start_time": "2023-04-16T15:36:37.714Z"
   },
   {
    "duration": 508,
    "start_time": "2023-04-16T15:37:21.505Z"
   },
   {
    "duration": 119,
    "start_time": "2023-04-16T15:37:29.128Z"
   },
   {
    "duration": 63,
    "start_time": "2023-04-16T15:38:21.833Z"
   },
   {
    "duration": 57,
    "start_time": "2023-04-16T15:38:40.001Z"
   },
   {
    "duration": 131,
    "start_time": "2023-04-16T15:38:56.370Z"
   },
   {
    "duration": 348,
    "start_time": "2023-04-16T15:39:11.300Z"
   },
   {
    "duration": 77,
    "start_time": "2023-04-16T15:42:33.785Z"
   },
   {
    "duration": 48,
    "start_time": "2023-04-16T15:42:55.862Z"
   },
   {
    "duration": 24,
    "start_time": "2023-04-16T15:43:19.805Z"
   },
   {
    "duration": 23,
    "start_time": "2023-04-16T15:43:46.595Z"
   },
   {
    "duration": 26,
    "start_time": "2023-04-16T15:43:51.294Z"
   },
   {
    "duration": 51,
    "start_time": "2023-04-16T15:44:53.515Z"
   },
   {
    "duration": 56,
    "start_time": "2023-04-16T15:44:58.022Z"
   },
   {
    "duration": 1027,
    "start_time": "2023-04-16T15:45:02.499Z"
   },
   {
    "duration": 3781,
    "start_time": "2023-04-16T15:45:21.017Z"
   },
   {
    "duration": 3859,
    "start_time": "2023-04-16T15:45:27.190Z"
   },
   {
    "duration": 3806,
    "start_time": "2023-04-16T15:45:56.664Z"
   },
   {
    "duration": 6202,
    "start_time": "2023-04-16T15:46:05.758Z"
   },
   {
    "duration": 1062,
    "start_time": "2023-04-16T15:46:28.130Z"
   },
   {
    "duration": 52,
    "start_time": "2023-04-16T15:48:41.363Z"
   },
   {
    "duration": 28,
    "start_time": "2023-04-16T15:48:46.271Z"
   },
   {
    "duration": 50,
    "start_time": "2023-04-16T15:48:55.153Z"
   },
   {
    "duration": 71,
    "start_time": "2023-04-16T15:50:25.295Z"
   },
   {
    "duration": 67,
    "start_time": "2023-04-16T15:50:29.993Z"
   },
   {
    "duration": 49,
    "start_time": "2023-04-16T15:51:05.425Z"
   },
   {
    "duration": 51,
    "start_time": "2023-04-16T15:51:52.606Z"
   },
   {
    "duration": 46,
    "start_time": "2023-04-16T15:52:21.393Z"
   },
   {
    "duration": 49,
    "start_time": "2023-04-16T15:55:26.289Z"
   },
   {
    "duration": 141,
    "start_time": "2023-04-16T15:55:38.495Z"
   },
   {
    "duration": 46,
    "start_time": "2023-04-16T15:55:55.809Z"
   },
   {
    "duration": 50,
    "start_time": "2023-04-16T15:56:02.893Z"
   },
   {
    "duration": 23,
    "start_time": "2023-04-16T15:56:05.894Z"
   },
   {
    "duration": 141,
    "start_time": "2023-04-16T15:56:21.190Z"
   },
   {
    "duration": 3799,
    "start_time": "2023-04-16T15:57:41.217Z"
   },
   {
    "duration": 1271,
    "start_time": "2023-04-16T15:57:51.540Z"
   },
   {
    "duration": 1074,
    "start_time": "2023-04-16T15:57:56.101Z"
   },
   {
    "duration": 1065,
    "start_time": "2023-04-16T15:58:49.918Z"
   },
   {
    "duration": 1076,
    "start_time": "2023-04-16T15:59:48.318Z"
   },
   {
    "duration": 1038,
    "start_time": "2023-04-16T15:59:55.040Z"
   },
   {
    "duration": 1063,
    "start_time": "2023-04-16T16:00:02.888Z"
   },
   {
    "duration": 1048,
    "start_time": "2023-04-16T16:00:07.442Z"
   },
   {
    "duration": 987,
    "start_time": "2023-04-16T16:00:13.740Z"
   },
   {
    "duration": 27,
    "start_time": "2023-04-16T16:00:41.794Z"
   },
   {
    "duration": 1090,
    "start_time": "2023-04-16T16:00:49.209Z"
   },
   {
    "duration": 992,
    "start_time": "2023-04-16T16:01:36.005Z"
   },
   {
    "duration": 1159,
    "start_time": "2023-04-16T16:02:29.847Z"
   },
   {
    "duration": 981,
    "start_time": "2023-04-16T16:02:42.408Z"
   },
   {
    "duration": 1082,
    "start_time": "2023-04-16T16:04:07.612Z"
   },
   {
    "duration": 1082,
    "start_time": "2023-04-16T16:06:04.293Z"
   },
   {
    "duration": 25,
    "start_time": "2023-04-16T16:06:19.390Z"
   },
   {
    "duration": 1021,
    "start_time": "2023-04-16T16:06:45.049Z"
   },
   {
    "duration": 67,
    "start_time": "2023-04-16T16:06:52.293Z"
   },
   {
    "duration": 1142,
    "start_time": "2023-04-16T16:07:02.500Z"
   },
   {
    "duration": 1012,
    "start_time": "2023-04-16T16:07:14.824Z"
   },
   {
    "duration": 1253,
    "start_time": "2023-04-16T16:07:30.495Z"
   },
   {
    "duration": 1121,
    "start_time": "2023-04-16T16:07:40.409Z"
   },
   {
    "duration": 1052,
    "start_time": "2023-04-16T16:07:50.908Z"
   },
   {
    "duration": 1099,
    "start_time": "2023-04-16T16:08:02.456Z"
   },
   {
    "duration": 1031,
    "start_time": "2023-04-16T16:09:11.600Z"
   },
   {
    "duration": 1171,
    "start_time": "2023-04-16T16:09:20.020Z"
   },
   {
    "duration": 1148,
    "start_time": "2023-04-16T16:10:09.556Z"
   },
   {
    "duration": 978,
    "start_time": "2023-04-16T16:10:24.852Z"
   },
   {
    "duration": 1073,
    "start_time": "2023-04-16T16:10:47.444Z"
   },
   {
    "duration": 981,
    "start_time": "2023-04-16T16:13:29.006Z"
   },
   {
    "duration": 6,
    "start_time": "2023-04-16T16:15:20.009Z"
   },
   {
    "duration": 20,
    "start_time": "2023-04-16T16:17:54.148Z"
   },
   {
    "duration": 6,
    "start_time": "2023-04-16T16:29:35.821Z"
   },
   {
    "duration": 6,
    "start_time": "2023-04-16T16:30:14.944Z"
   },
   {
    "duration": 23,
    "start_time": "2023-04-16T16:34:44.984Z"
   },
   {
    "duration": 8,
    "start_time": "2023-04-16T16:42:44.040Z"
   },
   {
    "duration": 10,
    "start_time": "2023-04-16T16:45:00.532Z"
   },
   {
    "duration": 12,
    "start_time": "2023-04-16T16:45:27.820Z"
   },
   {
    "duration": 13,
    "start_time": "2023-04-16T16:45:43.585Z"
   },
   {
    "duration": 13,
    "start_time": "2023-04-16T16:46:15.139Z"
   },
   {
    "duration": 9,
    "start_time": "2023-04-16T16:46:31.374Z"
   },
   {
    "duration": 9,
    "start_time": "2023-04-16T16:46:43.344Z"
   },
   {
    "duration": 13,
    "start_time": "2023-04-16T16:48:00.156Z"
   },
   {
    "duration": 12,
    "start_time": "2023-04-16T16:48:37.472Z"
   },
   {
    "duration": 9,
    "start_time": "2023-04-16T16:49:03.138Z"
   },
   {
    "duration": 14,
    "start_time": "2023-04-16T16:50:03.919Z"
   },
   {
    "duration": 8,
    "start_time": "2023-04-16T16:50:19.776Z"
   },
   {
    "duration": 55,
    "start_time": "2023-04-16T16:52:09.227Z"
   },
   {
    "duration": 17,
    "start_time": "2023-04-16T16:55:29.573Z"
   },
   {
    "duration": 11,
    "start_time": "2023-04-16T16:56:04.324Z"
   },
   {
    "duration": 24,
    "start_time": "2023-04-16T16:56:12.077Z"
   },
   {
    "duration": 1200,
    "start_time": "2023-04-16T16:56:37.833Z"
   },
   {
    "duration": 73,
    "start_time": "2023-04-16T16:56:39.036Z"
   },
   {
    "duration": 28,
    "start_time": "2023-04-16T16:56:39.111Z"
   },
   {
    "duration": 37,
    "start_time": "2023-04-16T16:56:39.141Z"
   },
   {
    "duration": 10,
    "start_time": "2023-04-16T16:56:39.190Z"
   },
   {
    "duration": 33,
    "start_time": "2023-04-16T16:56:39.202Z"
   },
   {
    "duration": 53,
    "start_time": "2023-04-16T16:56:39.237Z"
   },
   {
    "duration": 0,
    "start_time": "2023-04-16T16:56:39.292Z"
   },
   {
    "duration": 0,
    "start_time": "2023-04-16T16:56:39.294Z"
   },
   {
    "duration": 0,
    "start_time": "2023-04-16T16:56:39.295Z"
   },
   {
    "duration": 0,
    "start_time": "2023-04-16T16:56:39.296Z"
   },
   {
    "duration": 0,
    "start_time": "2023-04-16T16:56:39.298Z"
   },
   {
    "duration": 0,
    "start_time": "2023-04-16T16:56:39.299Z"
   },
   {
    "duration": 3,
    "start_time": "2023-04-16T16:56:49.012Z"
   },
   {
    "duration": 66,
    "start_time": "2023-04-16T16:56:49.661Z"
   },
   {
    "duration": 26,
    "start_time": "2023-04-16T16:56:51.322Z"
   },
   {
    "duration": 28,
    "start_time": "2023-04-16T16:56:52.742Z"
   },
   {
    "duration": 9,
    "start_time": "2023-04-16T16:56:54.118Z"
   },
   {
    "duration": 16,
    "start_time": "2023-04-16T16:56:56.008Z"
   },
   {
    "duration": 54,
    "start_time": "2023-04-16T16:56:57.177Z"
   },
   {
    "duration": 24,
    "start_time": "2023-04-16T16:56:57.942Z"
   },
   {
    "duration": 981,
    "start_time": "2023-04-16T16:56:58.779Z"
   },
   {
    "duration": 5,
    "start_time": "2023-04-16T16:56:59.762Z"
   },
   {
    "duration": 15,
    "start_time": "2023-04-16T16:57:00.965Z"
   },
   {
    "duration": 109,
    "start_time": "2023-04-16T16:57:02.316Z"
   },
   {
    "duration": 1184,
    "start_time": "2023-04-16T16:57:25.042Z"
   },
   {
    "duration": 71,
    "start_time": "2023-04-16T16:57:26.228Z"
   },
   {
    "duration": 27,
    "start_time": "2023-04-16T16:57:26.301Z"
   },
   {
    "duration": 26,
    "start_time": "2023-04-16T16:57:26.330Z"
   },
   {
    "duration": 9,
    "start_time": "2023-04-16T16:57:26.358Z"
   },
   {
    "duration": 32,
    "start_time": "2023-04-16T16:57:26.368Z"
   },
   {
    "duration": 41,
    "start_time": "2023-04-16T16:57:26.402Z"
   },
   {
    "duration": 0,
    "start_time": "2023-04-16T16:57:26.444Z"
   },
   {
    "duration": 0,
    "start_time": "2023-04-16T16:57:26.446Z"
   },
   {
    "duration": 0,
    "start_time": "2023-04-16T16:57:26.447Z"
   },
   {
    "duration": 0,
    "start_time": "2023-04-16T16:57:26.448Z"
   },
   {
    "duration": 0,
    "start_time": "2023-04-16T16:57:26.449Z"
   },
   {
    "duration": 0,
    "start_time": "2023-04-16T16:57:26.451Z"
   },
   {
    "duration": 23,
    "start_time": "2023-04-16T16:58:13.028Z"
   },
   {
    "duration": 1038,
    "start_time": "2023-04-16T16:58:20.945Z"
   },
   {
    "duration": 6,
    "start_time": "2023-04-16T16:58:42.845Z"
   },
   {
    "duration": 15,
    "start_time": "2023-04-16T16:59:12.974Z"
   },
   {
    "duration": 109,
    "start_time": "2023-04-16T16:59:26.627Z"
   },
   {
    "duration": 12,
    "start_time": "2023-04-16T17:00:15.620Z"
   },
   {
    "duration": 54,
    "start_time": "2023-04-16T17:11:08.406Z"
   },
   {
    "duration": 26,
    "start_time": "2023-04-16T17:12:45.723Z"
   },
   {
    "duration": 10,
    "start_time": "2023-04-16T17:14:18.057Z"
   },
   {
    "duration": 7,
    "start_time": "2023-04-16T17:15:30.956Z"
   },
   {
    "duration": 7,
    "start_time": "2023-04-16T17:16:24.246Z"
   },
   {
    "duration": 1219,
    "start_time": "2023-04-16T17:17:48.111Z"
   },
   {
    "duration": 72,
    "start_time": "2023-04-16T17:17:49.332Z"
   },
   {
    "duration": 30,
    "start_time": "2023-04-16T17:17:49.406Z"
   },
   {
    "duration": 27,
    "start_time": "2023-04-16T17:17:49.438Z"
   },
   {
    "duration": 11,
    "start_time": "2023-04-16T17:17:49.489Z"
   },
   {
    "duration": 17,
    "start_time": "2023-04-16T17:17:49.502Z"
   },
   {
    "duration": 10,
    "start_time": "2023-04-16T17:17:49.521Z"
   },
   {
    "duration": 57,
    "start_time": "2023-04-16T17:17:49.533Z"
   },
   {
    "duration": 1069,
    "start_time": "2023-04-16T17:17:49.592Z"
   },
   {
    "duration": 6,
    "start_time": "2023-04-16T17:17:50.663Z"
   },
   {
    "duration": 28,
    "start_time": "2023-04-16T17:17:50.670Z"
   },
   {
    "duration": 120,
    "start_time": "2023-04-16T17:17:50.699Z"
   },
   {
    "duration": 0,
    "start_time": "2023-04-16T17:17:50.821Z"
   },
   {
    "duration": 1194,
    "start_time": "2023-04-17T04:48:46.963Z"
   },
   {
    "duration": 209,
    "start_time": "2023-04-17T04:48:48.159Z"
   },
   {
    "duration": 24,
    "start_time": "2023-04-17T04:48:51.648Z"
   },
   {
    "duration": 21,
    "start_time": "2023-04-17T04:48:53.334Z"
   },
   {
    "duration": 8,
    "start_time": "2023-04-17T04:48:54.662Z"
   },
   {
    "duration": 13,
    "start_time": "2023-04-17T04:48:57.734Z"
   },
   {
    "duration": 14,
    "start_time": "2023-04-17T04:50:42.427Z"
   },
   {
    "duration": 15,
    "start_time": "2023-04-17T04:52:50.103Z"
   },
   {
    "duration": 9,
    "start_time": "2023-04-17T04:53:56.089Z"
   },
   {
    "duration": 19,
    "start_time": "2023-04-17T04:54:00.830Z"
   },
   {
    "duration": 839,
    "start_time": "2023-04-17T04:54:02.844Z"
   },
   {
    "duration": 6,
    "start_time": "2023-04-17T04:54:14.423Z"
   },
   {
    "duration": 14,
    "start_time": "2023-04-17T04:54:18.552Z"
   },
   {
    "duration": 98,
    "start_time": "2023-04-17T04:54:21.637Z"
   },
   {
    "duration": 18,
    "start_time": "2023-04-17T04:57:20.151Z"
   },
   {
    "duration": 9,
    "start_time": "2023-04-17T04:58:11.458Z"
   },
   {
    "duration": 976,
    "start_time": "2023-04-17T04:58:13.008Z"
   },
   {
    "duration": 6,
    "start_time": "2023-04-17T04:58:14.633Z"
   },
   {
    "duration": 13,
    "start_time": "2023-04-17T04:58:15.847Z"
   },
   {
    "duration": 15,
    "start_time": "2023-04-17T04:58:17.789Z"
   },
   {
    "duration": 1068,
    "start_time": "2023-04-17T05:00:27.189Z"
   },
   {
    "duration": 69,
    "start_time": "2023-04-17T05:00:28.258Z"
   },
   {
    "duration": 22,
    "start_time": "2023-04-17T05:00:28.328Z"
   },
   {
    "duration": 34,
    "start_time": "2023-04-17T05:00:28.352Z"
   },
   {
    "duration": 12,
    "start_time": "2023-04-17T05:00:28.388Z"
   },
   {
    "duration": 13,
    "start_time": "2023-04-17T05:00:28.401Z"
   },
   {
    "duration": 22,
    "start_time": "2023-04-17T05:00:28.416Z"
   },
   {
    "duration": 30,
    "start_time": "2023-04-17T05:00:28.439Z"
   },
   {
    "duration": 19,
    "start_time": "2023-04-17T05:00:28.470Z"
   },
   {
    "duration": 22,
    "start_time": "2023-04-17T05:00:28.491Z"
   },
   {
    "duration": 860,
    "start_time": "2023-04-17T05:00:28.515Z"
   },
   {
    "duration": 5,
    "start_time": "2023-04-17T05:00:29.377Z"
   },
   {
    "duration": 29,
    "start_time": "2023-04-17T05:00:29.384Z"
   },
   {
    "duration": 32,
    "start_time": "2023-04-17T05:00:29.416Z"
   },
   {
    "duration": 32,
    "start_time": "2023-04-17T05:00:29.449Z"
   },
   {
    "duration": 104,
    "start_time": "2023-04-17T05:02:58.817Z"
   },
   {
    "duration": 8,
    "start_time": "2023-04-17T05:03:11.811Z"
   },
   {
    "duration": 17,
    "start_time": "2023-04-17T05:03:41.237Z"
   },
   {
    "duration": 5,
    "start_time": "2023-04-17T05:09:54.797Z"
   },
   {
    "duration": 1067,
    "start_time": "2023-04-17T05:10:36.094Z"
   },
   {
    "duration": 68,
    "start_time": "2023-04-17T05:10:37.163Z"
   },
   {
    "duration": 23,
    "start_time": "2023-04-17T05:10:37.233Z"
   },
   {
    "duration": 30,
    "start_time": "2023-04-17T05:10:37.258Z"
   },
   {
    "duration": 8,
    "start_time": "2023-04-17T05:10:37.290Z"
   },
   {
    "duration": 14,
    "start_time": "2023-04-17T05:10:37.299Z"
   },
   {
    "duration": 12,
    "start_time": "2023-04-17T05:10:37.314Z"
   },
   {
    "duration": 13,
    "start_time": "2023-04-17T05:10:37.328Z"
   },
   {
    "duration": 40,
    "start_time": "2023-04-17T05:10:37.343Z"
   },
   {
    "duration": 20,
    "start_time": "2023-04-17T05:10:37.384Z"
   },
   {
    "duration": 4,
    "start_time": "2023-04-17T05:10:37.406Z"
   },
   {
    "duration": 19,
    "start_time": "2023-04-17T05:10:37.411Z"
   },
   {
    "duration": 860,
    "start_time": "2023-04-17T05:10:37.431Z"
   },
   {
    "duration": 5,
    "start_time": "2023-04-17T05:10:38.293Z"
   },
   {
    "duration": 26,
    "start_time": "2023-04-17T05:10:38.299Z"
   },
   {
    "duration": 23,
    "start_time": "2023-04-17T05:10:38.327Z"
   },
   {
    "duration": 21,
    "start_time": "2023-04-17T05:10:38.352Z"
   },
   {
    "duration": 5,
    "start_time": "2023-04-17T05:13:52.845Z"
   },
   {
    "duration": 108,
    "start_time": "2023-04-17T05:19:45.224Z"
   },
   {
    "duration": 14,
    "start_time": "2023-04-17T05:20:05.741Z"
   },
   {
    "duration": 1126,
    "start_time": "2023-04-17T05:20:20.385Z"
   },
   {
    "duration": 73,
    "start_time": "2023-04-17T05:20:21.513Z"
   },
   {
    "duration": 24,
    "start_time": "2023-04-17T05:20:21.587Z"
   },
   {
    "duration": 24,
    "start_time": "2023-04-17T05:20:21.613Z"
   },
   {
    "duration": 8,
    "start_time": "2023-04-17T05:20:21.639Z"
   },
   {
    "duration": 13,
    "start_time": "2023-04-17T05:20:21.671Z"
   },
   {
    "duration": 13,
    "start_time": "2023-04-17T05:20:21.686Z"
   },
   {
    "duration": 17,
    "start_time": "2023-04-17T05:20:21.700Z"
   },
   {
    "duration": 19,
    "start_time": "2023-04-17T05:20:21.718Z"
   },
   {
    "duration": 50,
    "start_time": "2023-04-17T05:20:21.740Z"
   },
   {
    "duration": 8,
    "start_time": "2023-04-17T05:20:21.792Z"
   },
   {
    "duration": 23,
    "start_time": "2023-04-17T05:20:21.802Z"
   },
   {
    "duration": 963,
    "start_time": "2023-04-17T05:20:21.826Z"
   },
   {
    "duration": 5,
    "start_time": "2023-04-17T05:20:22.790Z"
   },
   {
    "duration": 23,
    "start_time": "2023-04-17T05:20:22.796Z"
   },
   {
    "duration": 18,
    "start_time": "2023-04-17T05:20:22.821Z"
   },
   {
    "duration": 38,
    "start_time": "2023-04-17T05:20:22.840Z"
   },
   {
    "duration": 112,
    "start_time": "2023-04-17T05:21:00.688Z"
   },
   {
    "duration": 1171,
    "start_time": "2023-04-17T05:22:02.850Z"
   },
   {
    "duration": 70,
    "start_time": "2023-04-17T05:22:04.022Z"
   },
   {
    "duration": 23,
    "start_time": "2023-04-17T05:22:04.094Z"
   },
   {
    "duration": 21,
    "start_time": "2023-04-17T05:22:04.119Z"
   },
   {
    "duration": 31,
    "start_time": "2023-04-17T05:22:04.142Z"
   },
   {
    "duration": 12,
    "start_time": "2023-04-17T05:22:04.174Z"
   },
   {
    "duration": 13,
    "start_time": "2023-04-17T05:22:04.188Z"
   },
   {
    "duration": 42,
    "start_time": "2023-04-17T05:22:04.202Z"
   },
   {
    "duration": 17,
    "start_time": "2023-04-17T05:22:04.245Z"
   },
   {
    "duration": 28,
    "start_time": "2023-04-17T05:22:04.264Z"
   },
   {
    "duration": 5,
    "start_time": "2023-04-17T05:22:04.294Z"
   },
   {
    "duration": 43,
    "start_time": "2023-04-17T05:22:04.300Z"
   },
   {
    "duration": 909,
    "start_time": "2023-04-17T05:22:04.344Z"
   },
   {
    "duration": 4,
    "start_time": "2023-04-17T05:22:05.256Z"
   },
   {
    "duration": 35,
    "start_time": "2023-04-17T05:22:05.261Z"
   },
   {
    "duration": 15,
    "start_time": "2023-04-17T05:22:05.298Z"
   },
   {
    "duration": 17,
    "start_time": "2023-04-17T05:22:05.314Z"
   },
   {
    "duration": 28,
    "start_time": "2023-04-17T05:26:03.106Z"
   },
   {
    "duration": 41,
    "start_time": "2023-04-17T05:27:23.307Z"
   },
   {
    "duration": 20,
    "start_time": "2023-04-17T05:27:51.158Z"
   },
   {
    "duration": 1359,
    "start_time": "2023-04-17T07:47:00.617Z"
   },
   {
    "duration": 123,
    "start_time": "2023-04-17T07:47:01.978Z"
   },
   {
    "duration": 40,
    "start_time": "2023-04-17T07:47:02.103Z"
   },
   {
    "duration": 26,
    "start_time": "2023-04-17T07:47:02.145Z"
   },
   {
    "duration": 39,
    "start_time": "2023-04-17T07:47:02.173Z"
   },
   {
    "duration": 32,
    "start_time": "2023-04-17T07:47:02.214Z"
   },
   {
    "duration": 27,
    "start_time": "2023-04-17T07:47:02.248Z"
   },
   {
    "duration": 33,
    "start_time": "2023-04-17T07:47:02.276Z"
   },
   {
    "duration": 24,
    "start_time": "2023-04-17T07:47:02.311Z"
   },
   {
    "duration": 42,
    "start_time": "2023-04-17T07:47:02.337Z"
   },
   {
    "duration": 6,
    "start_time": "2023-04-17T07:47:02.380Z"
   },
   {
    "duration": 76,
    "start_time": "2023-04-17T07:47:02.387Z"
   },
   {
    "duration": 991,
    "start_time": "2023-04-17T07:47:02.465Z"
   },
   {
    "duration": 6,
    "start_time": "2023-04-17T07:47:03.460Z"
   },
   {
    "duration": 165,
    "start_time": "2023-04-17T07:47:03.468Z"
   },
   {
    "duration": 84,
    "start_time": "2023-04-17T07:47:03.635Z"
   },
   {
    "duration": 28,
    "start_time": "2023-04-17T07:47:03.721Z"
   },
   {
    "duration": 30,
    "start_time": "2023-04-17T07:47:03.750Z"
   },
   {
    "duration": 15,
    "start_time": "2023-04-17T07:52:49.938Z"
   },
   {
    "duration": 4,
    "start_time": "2023-04-17T07:54:15.730Z"
   },
   {
    "duration": 4,
    "start_time": "2023-04-17T07:56:15.006Z"
   },
   {
    "duration": 1153,
    "start_time": "2023-04-17T07:56:27.785Z"
   },
   {
    "duration": 73,
    "start_time": "2023-04-17T07:56:28.940Z"
   },
   {
    "duration": 29,
    "start_time": "2023-04-17T07:56:29.015Z"
   },
   {
    "duration": 25,
    "start_time": "2023-04-17T07:56:29.046Z"
   },
   {
    "duration": 11,
    "start_time": "2023-04-17T07:56:29.072Z"
   },
   {
    "duration": 15,
    "start_time": "2023-04-17T07:56:29.112Z"
   },
   {
    "duration": 19,
    "start_time": "2023-04-17T07:56:29.128Z"
   },
   {
    "duration": 21,
    "start_time": "2023-04-17T07:56:29.149Z"
   },
   {
    "duration": 57,
    "start_time": "2023-04-17T07:56:29.172Z"
   },
   {
    "duration": 38,
    "start_time": "2023-04-17T07:56:29.232Z"
   },
   {
    "duration": 7,
    "start_time": "2023-04-17T07:56:29.272Z"
   },
   {
    "duration": 35,
    "start_time": "2023-04-17T07:56:29.281Z"
   },
   {
    "duration": 33,
    "start_time": "2023-04-17T07:56:29.317Z"
   },
   {
    "duration": 937,
    "start_time": "2023-04-17T07:56:29.352Z"
   },
   {
    "duration": 23,
    "start_time": "2023-04-17T07:56:30.291Z"
   },
   {
    "duration": 62,
    "start_time": "2023-04-17T07:56:30.316Z"
   },
   {
    "duration": 34,
    "start_time": "2023-04-17T07:56:30.380Z"
   },
   {
    "duration": 63,
    "start_time": "2023-04-17T07:56:30.416Z"
   },
   {
    "duration": 62,
    "start_time": "2023-04-17T07:56:30.481Z"
   },
   {
    "duration": 38,
    "start_time": "2023-04-17T07:56:30.545Z"
   },
   {
    "duration": 1136,
    "start_time": "2023-04-17T08:00:19.384Z"
   },
   {
    "duration": 1123,
    "start_time": "2023-04-17T08:01:44.271Z"
   },
   {
    "duration": 1035,
    "start_time": "2023-04-17T08:02:12.672Z"
   },
   {
    "duration": 1119,
    "start_time": "2023-04-17T08:02:31.551Z"
   },
   {
    "duration": 1089,
    "start_time": "2023-04-17T08:02:49.014Z"
   },
   {
    "duration": 1093,
    "start_time": "2023-04-17T08:06:44.534Z"
   },
   {
    "duration": 1273,
    "start_time": "2023-04-17T08:07:08.628Z"
   },
   {
    "duration": 81,
    "start_time": "2023-04-17T08:07:09.903Z"
   },
   {
    "duration": 29,
    "start_time": "2023-04-17T08:07:09.985Z"
   },
   {
    "duration": 28,
    "start_time": "2023-04-17T08:07:10.024Z"
   },
   {
    "duration": 10,
    "start_time": "2023-04-17T08:07:10.054Z"
   },
   {
    "duration": 27,
    "start_time": "2023-04-17T08:07:10.065Z"
   },
   {
    "duration": 52,
    "start_time": "2023-04-17T08:07:10.093Z"
   },
   {
    "duration": 47,
    "start_time": "2023-04-17T08:07:10.147Z"
   },
   {
    "duration": 29,
    "start_time": "2023-04-17T08:07:10.196Z"
   },
   {
    "duration": 32,
    "start_time": "2023-04-17T08:07:10.227Z"
   },
   {
    "duration": 6,
    "start_time": "2023-04-17T08:07:10.261Z"
   },
   {
    "duration": 50,
    "start_time": "2023-04-17T08:07:10.269Z"
   },
   {
    "duration": 39,
    "start_time": "2023-04-17T08:07:10.328Z"
   },
   {
    "duration": 1155,
    "start_time": "2023-04-17T08:07:10.370Z"
   },
   {
    "duration": 7,
    "start_time": "2023-04-17T08:07:11.527Z"
   },
   {
    "duration": 24,
    "start_time": "2023-04-17T08:07:11.536Z"
   },
   {
    "duration": 17,
    "start_time": "2023-04-17T08:07:11.562Z"
   },
   {
    "duration": 48,
    "start_time": "2023-04-17T08:07:11.581Z"
   },
   {
    "duration": 34,
    "start_time": "2023-04-17T08:07:11.631Z"
   },
   {
    "duration": 16,
    "start_time": "2023-04-17T08:07:11.667Z"
   },
   {
    "duration": 1140,
    "start_time": "2023-04-17T08:08:42.564Z"
   },
   {
    "duration": 1146,
    "start_time": "2023-04-17T08:08:57.840Z"
   },
   {
    "duration": 1060,
    "start_time": "2023-04-17T08:09:20.449Z"
   },
   {
    "duration": 1174,
    "start_time": "2023-04-17T08:09:43.528Z"
   },
   {
    "duration": 6,
    "start_time": "2023-04-17T08:09:56.948Z"
   },
   {
    "duration": 1230,
    "start_time": "2023-04-17T08:10:24.036Z"
   },
   {
    "duration": 87,
    "start_time": "2023-04-17T08:10:25.268Z"
   },
   {
    "duration": 28,
    "start_time": "2023-04-17T08:10:25.357Z"
   },
   {
    "duration": 47,
    "start_time": "2023-04-17T08:10:25.386Z"
   },
   {
    "duration": 11,
    "start_time": "2023-04-17T08:10:25.437Z"
   },
   {
    "duration": 14,
    "start_time": "2023-04-17T08:10:25.450Z"
   },
   {
    "duration": 16,
    "start_time": "2023-04-17T08:10:25.466Z"
   },
   {
    "duration": 23,
    "start_time": "2023-04-17T08:10:25.514Z"
   },
   {
    "duration": 30,
    "start_time": "2023-04-17T08:10:25.539Z"
   },
   {
    "duration": 23,
    "start_time": "2023-04-17T08:10:25.571Z"
   },
   {
    "duration": 17,
    "start_time": "2023-04-17T08:10:25.596Z"
   },
   {
    "duration": 10,
    "start_time": "2023-04-17T08:10:25.615Z"
   },
   {
    "duration": 22,
    "start_time": "2023-04-17T08:10:25.627Z"
   },
   {
    "duration": 1131,
    "start_time": "2023-04-17T08:10:25.653Z"
   },
   {
    "duration": 6,
    "start_time": "2023-04-17T08:10:26.785Z"
   },
   {
    "duration": 31,
    "start_time": "2023-04-17T08:10:26.792Z"
   },
   {
    "duration": 15,
    "start_time": "2023-04-17T08:10:26.826Z"
   },
   {
    "duration": 18,
    "start_time": "2023-04-17T08:10:26.843Z"
   },
   {
    "duration": 21,
    "start_time": "2023-04-17T08:10:26.862Z"
   },
   {
    "duration": 49,
    "start_time": "2023-04-17T08:10:26.884Z"
   },
   {
    "duration": 15,
    "start_time": "2023-04-17T08:10:26.935Z"
   },
   {
    "duration": 53,
    "start_time": "2023-04-17T08:15:35.675Z"
   },
   {
    "duration": 101,
    "start_time": "2023-04-17T08:15:45.179Z"
   },
   {
    "duration": 16,
    "start_time": "2023-04-17T08:18:18.967Z"
   },
   {
    "duration": 14,
    "start_time": "2023-04-17T08:18:26.178Z"
   },
   {
    "duration": 10,
    "start_time": "2023-04-17T08:20:00.573Z"
   },
   {
    "duration": 195,
    "start_time": "2023-04-17T08:20:12.713Z"
   },
   {
    "duration": 312,
    "start_time": "2023-04-17T08:20:37.428Z"
   },
   {
    "duration": 159,
    "start_time": "2023-04-17T08:21:11.765Z"
   },
   {
    "duration": 166,
    "start_time": "2023-04-17T09:11:58.985Z"
   },
   {
    "duration": 805,
    "start_time": "2023-04-17T09:14:16.049Z"
   },
   {
    "duration": 926,
    "start_time": "2023-04-17T09:15:00.862Z"
   },
   {
    "duration": 122,
    "start_time": "2023-04-17T09:16:00.609Z"
   },
   {
    "duration": 96,
    "start_time": "2023-04-17T09:16:13.377Z"
   },
   {
    "duration": 164,
    "start_time": "2023-04-17T09:16:36.881Z"
   },
   {
    "duration": 184,
    "start_time": "2023-04-17T09:17:17.801Z"
   },
   {
    "duration": 161,
    "start_time": "2023-04-17T09:17:27.601Z"
   },
   {
    "duration": 162,
    "start_time": "2023-04-17T09:45:33.427Z"
   },
   {
    "duration": 11,
    "start_time": "2023-04-17T09:50:10.148Z"
   },
   {
    "duration": 21,
    "start_time": "2023-04-17T09:50:22.997Z"
   },
   {
    "duration": 17,
    "start_time": "2023-04-17T09:50:35.396Z"
   },
   {
    "duration": 10,
    "start_time": "2023-04-17T09:55:28.099Z"
   },
   {
    "duration": 53,
    "start_time": "2023-04-17T09:57:29.716Z"
   },
   {
    "duration": 57,
    "start_time": "2023-04-17T09:58:59.587Z"
   },
   {
    "duration": 21,
    "start_time": "2023-04-17T09:59:36.617Z"
   },
   {
    "duration": 21,
    "start_time": "2023-04-17T10:00:28.399Z"
   },
   {
    "duration": 18,
    "start_time": "2023-04-17T10:00:51.649Z"
   },
   {
    "duration": 27,
    "start_time": "2023-04-17T10:01:02.348Z"
   },
   {
    "duration": 17,
    "start_time": "2023-04-17T10:01:34.183Z"
   },
   {
    "duration": 146,
    "start_time": "2023-04-17T10:03:20.205Z"
   },
   {
    "duration": 15,
    "start_time": "2023-04-17T10:04:45.641Z"
   },
   {
    "duration": 21,
    "start_time": "2023-04-17T10:04:58.557Z"
   },
   {
    "duration": 131,
    "start_time": "2023-04-17T10:06:30.914Z"
   },
   {
    "duration": 167,
    "start_time": "2023-04-17T10:09:37.168Z"
   },
   {
    "duration": 16,
    "start_time": "2023-04-17T10:10:53.062Z"
   },
   {
    "duration": 404,
    "start_time": "2023-04-17T10:11:46.510Z"
   },
   {
    "duration": 371,
    "start_time": "2023-04-17T10:13:27.770Z"
   },
   {
    "duration": 344,
    "start_time": "2023-04-17T10:13:40.259Z"
   },
   {
    "duration": 354,
    "start_time": "2023-04-17T10:14:31.767Z"
   },
   {
    "duration": 367,
    "start_time": "2023-04-17T10:14:39.537Z"
   },
   {
    "duration": 48,
    "start_time": "2023-04-17T11:45:29.429Z"
   },
   {
    "duration": 7,
    "start_time": "2023-04-17T11:45:50.186Z"
   },
   {
    "duration": 1364,
    "start_time": "2023-04-17T11:46:10.826Z"
   },
   {
    "duration": 461,
    "start_time": "2023-04-17T11:46:12.192Z"
   },
   {
    "duration": 27,
    "start_time": "2023-04-17T11:46:12.654Z"
   },
   {
    "duration": 27,
    "start_time": "2023-04-17T11:46:12.684Z"
   },
   {
    "duration": 10,
    "start_time": "2023-04-17T11:46:12.714Z"
   },
   {
    "duration": 43,
    "start_time": "2023-04-17T11:46:12.725Z"
   },
   {
    "duration": 16,
    "start_time": "2023-04-17T11:46:12.770Z"
   },
   {
    "duration": 19,
    "start_time": "2023-04-17T11:46:12.787Z"
   },
   {
    "duration": 18,
    "start_time": "2023-04-17T11:46:12.809Z"
   },
   {
    "duration": 66,
    "start_time": "2023-04-17T11:46:12.830Z"
   },
   {
    "duration": 6,
    "start_time": "2023-04-17T11:46:12.898Z"
   },
   {
    "duration": 7,
    "start_time": "2023-04-17T11:46:12.906Z"
   },
   {
    "duration": 50,
    "start_time": "2023-04-17T11:46:12.915Z"
   },
   {
    "duration": 1081,
    "start_time": "2023-04-17T11:46:12.968Z"
   },
   {
    "duration": 14,
    "start_time": "2023-04-17T11:46:14.050Z"
   },
   {
    "duration": 15,
    "start_time": "2023-04-17T11:46:14.066Z"
   },
   {
    "duration": 18,
    "start_time": "2023-04-17T11:46:14.083Z"
   },
   {
    "duration": 21,
    "start_time": "2023-04-17T11:46:14.102Z"
   },
   {
    "duration": 54,
    "start_time": "2023-04-17T11:46:14.124Z"
   },
   {
    "duration": 14,
    "start_time": "2023-04-17T11:46:14.179Z"
   },
   {
    "duration": 184,
    "start_time": "2023-04-17T11:46:14.195Z"
   },
   {
    "duration": 17,
    "start_time": "2023-04-17T11:46:14.381Z"
   },
   {
    "duration": 512,
    "start_time": "2023-04-17T11:46:14.399Z"
   },
   {
    "duration": 355,
    "start_time": "2023-04-17T11:51:28.236Z"
   },
   {
    "duration": 1288,
    "start_time": "2023-04-17T11:52:11.904Z"
   },
   {
    "duration": 98,
    "start_time": "2023-04-17T11:52:13.194Z"
   },
   {
    "duration": 38,
    "start_time": "2023-04-17T11:52:13.294Z"
   },
   {
    "duration": 44,
    "start_time": "2023-04-17T11:52:13.334Z"
   },
   {
    "duration": 13,
    "start_time": "2023-04-17T11:52:13.380Z"
   },
   {
    "duration": 37,
    "start_time": "2023-04-17T11:52:13.395Z"
   },
   {
    "duration": 22,
    "start_time": "2023-04-17T11:52:13.434Z"
   },
   {
    "duration": 26,
    "start_time": "2023-04-17T11:52:13.463Z"
   },
   {
    "duration": 20,
    "start_time": "2023-04-17T11:52:13.491Z"
   },
   {
    "duration": 47,
    "start_time": "2023-04-17T11:52:13.514Z"
   },
   {
    "duration": 6,
    "start_time": "2023-04-17T11:52:13.563Z"
   },
   {
    "duration": 29,
    "start_time": "2023-04-17T11:52:13.575Z"
   },
   {
    "duration": 53,
    "start_time": "2023-04-17T11:52:13.606Z"
   },
   {
    "duration": 1275,
    "start_time": "2023-04-17T11:52:13.661Z"
   },
   {
    "duration": 8,
    "start_time": "2023-04-17T11:52:14.937Z"
   },
   {
    "duration": 33,
    "start_time": "2023-04-17T11:52:14.947Z"
   },
   {
    "duration": 26,
    "start_time": "2023-04-17T11:52:14.982Z"
   },
   {
    "duration": 29,
    "start_time": "2023-04-17T11:52:15.011Z"
   },
   {
    "duration": 61,
    "start_time": "2023-04-17T11:52:15.043Z"
   },
   {
    "duration": 20,
    "start_time": "2023-04-17T11:52:15.107Z"
   },
   {
    "duration": 213,
    "start_time": "2023-04-17T11:52:15.129Z"
   },
   {
    "duration": 25,
    "start_time": "2023-04-17T11:52:15.344Z"
   },
   {
    "duration": 553,
    "start_time": "2023-04-17T11:52:15.372Z"
   },
   {
    "duration": 385,
    "start_time": "2023-04-17T12:00:18.304Z"
   },
   {
    "duration": 126,
    "start_time": "2023-04-17T12:13:26.899Z"
   },
   {
    "duration": 466,
    "start_time": "2023-04-17T12:14:01.906Z"
   },
   {
    "duration": 432,
    "start_time": "2023-04-17T12:15:18.898Z"
   },
   {
    "duration": 403,
    "start_time": "2023-04-17T12:19:02.170Z"
   },
   {
    "duration": 17,
    "start_time": "2023-04-17T12:37:54.668Z"
   },
   {
    "duration": 10,
    "start_time": "2023-04-17T12:40:04.118Z"
   },
   {
    "duration": 20,
    "start_time": "2023-04-17T12:40:57.902Z"
   },
   {
    "duration": 9,
    "start_time": "2023-04-17T12:46:46.632Z"
   },
   {
    "duration": 14,
    "start_time": "2023-04-17T12:46:55.742Z"
   },
   {
    "duration": 18,
    "start_time": "2023-04-17T12:46:59.560Z"
   },
   {
    "duration": 14,
    "start_time": "2023-04-17T12:47:57.109Z"
   },
   {
    "duration": 17,
    "start_time": "2023-04-17T12:48:02.279Z"
   },
   {
    "duration": 1284,
    "start_time": "2023-04-18T07:20:53.419Z"
   },
   {
    "duration": 446,
    "start_time": "2023-04-18T07:20:54.705Z"
   },
   {
    "duration": 27,
    "start_time": "2023-04-18T07:20:55.152Z"
   },
   {
    "duration": 23,
    "start_time": "2023-04-18T07:20:55.181Z"
   },
   {
    "duration": 8,
    "start_time": "2023-04-18T07:20:55.207Z"
   },
   {
    "duration": 23,
    "start_time": "2023-04-18T07:20:55.216Z"
   },
   {
    "duration": 15,
    "start_time": "2023-04-18T07:20:55.240Z"
   },
   {
    "duration": 38,
    "start_time": "2023-04-18T07:20:55.257Z"
   },
   {
    "duration": 18,
    "start_time": "2023-04-18T07:20:55.297Z"
   },
   {
    "duration": 30,
    "start_time": "2023-04-18T07:20:55.316Z"
   },
   {
    "duration": 5,
    "start_time": "2023-04-18T07:20:55.347Z"
   },
   {
    "duration": 6,
    "start_time": "2023-04-18T07:20:55.354Z"
   },
   {
    "duration": 39,
    "start_time": "2023-04-18T07:20:55.362Z"
   },
   {
    "duration": 974,
    "start_time": "2023-04-18T07:20:55.404Z"
   },
   {
    "duration": 6,
    "start_time": "2023-04-18T07:20:56.384Z"
   },
   {
    "duration": 20,
    "start_time": "2023-04-18T07:20:56.391Z"
   },
   {
    "duration": 17,
    "start_time": "2023-04-18T07:20:56.412Z"
   },
   {
    "duration": 21,
    "start_time": "2023-04-18T07:20:56.431Z"
   },
   {
    "duration": 53,
    "start_time": "2023-04-18T07:20:56.454Z"
   },
   {
    "duration": 15,
    "start_time": "2023-04-18T07:20:56.509Z"
   },
   {
    "duration": 197,
    "start_time": "2023-04-18T07:20:56.525Z"
   },
   {
    "duration": 17,
    "start_time": "2023-04-18T07:20:56.724Z"
   },
   {
    "duration": 514,
    "start_time": "2023-04-18T07:20:56.743Z"
   },
   {
    "duration": 15,
    "start_time": "2023-04-18T07:20:57.259Z"
   },
   {
    "duration": 20,
    "start_time": "2023-04-18T07:20:57.285Z"
   },
   {
    "duration": 227,
    "start_time": "2023-04-18T08:23:30.312Z"
   },
   {
    "duration": 125,
    "start_time": "2023-04-18T08:23:44.515Z"
   },
   {
    "duration": 97,
    "start_time": "2023-04-18T08:31:59.671Z"
   },
   {
    "duration": 97,
    "start_time": "2023-04-18T08:32:11.620Z"
   },
   {
    "duration": 97,
    "start_time": "2023-04-18T08:39:12.381Z"
   },
   {
    "duration": 1212,
    "start_time": "2023-04-18T08:39:28.015Z"
   },
   {
    "duration": 76,
    "start_time": "2023-04-18T08:39:29.229Z"
   },
   {
    "duration": 30,
    "start_time": "2023-04-18T08:39:29.307Z"
   },
   {
    "duration": 47,
    "start_time": "2023-04-18T08:39:29.340Z"
   },
   {
    "duration": 10,
    "start_time": "2023-04-18T08:39:29.389Z"
   },
   {
    "duration": 23,
    "start_time": "2023-04-18T08:39:29.401Z"
   },
   {
    "duration": 25,
    "start_time": "2023-04-18T08:39:29.426Z"
   },
   {
    "duration": 33,
    "start_time": "2023-04-18T08:39:29.453Z"
   },
   {
    "duration": 19,
    "start_time": "2023-04-18T08:39:29.489Z"
   },
   {
    "duration": 37,
    "start_time": "2023-04-18T08:39:29.512Z"
   },
   {
    "duration": 6,
    "start_time": "2023-04-18T08:39:29.550Z"
   },
   {
    "duration": 22,
    "start_time": "2023-04-18T08:39:29.557Z"
   },
   {
    "duration": 41,
    "start_time": "2023-04-18T08:39:29.580Z"
   },
   {
    "duration": 1004,
    "start_time": "2023-04-18T08:39:29.622Z"
   },
   {
    "duration": 5,
    "start_time": "2023-04-18T08:39:30.628Z"
   },
   {
    "duration": 58,
    "start_time": "2023-04-18T08:39:30.634Z"
   },
   {
    "duration": 34,
    "start_time": "2023-04-18T08:39:30.694Z"
   },
   {
    "duration": 33,
    "start_time": "2023-04-18T08:39:30.731Z"
   },
   {
    "duration": 59,
    "start_time": "2023-04-18T08:39:30.766Z"
   },
   {
    "duration": 27,
    "start_time": "2023-04-18T08:39:30.827Z"
   },
   {
    "duration": 209,
    "start_time": "2023-04-18T08:39:30.856Z"
   },
   {
    "duration": 29,
    "start_time": "2023-04-18T08:39:31.067Z"
   },
   {
    "duration": 532,
    "start_time": "2023-04-18T08:39:31.097Z"
   },
   {
    "duration": 15,
    "start_time": "2023-04-18T08:39:31.631Z"
   },
   {
    "duration": 46,
    "start_time": "2023-04-18T08:39:31.648Z"
   },
   {
    "duration": 107,
    "start_time": "2023-04-18T08:39:31.695Z"
   },
   {
    "duration": 54,
    "start_time": "2023-04-18T08:39:31.804Z"
   },
   {
    "duration": 115,
    "start_time": "2023-04-18T08:41:57.517Z"
   },
   {
    "duration": 85,
    "start_time": "2023-04-18T08:42:30.606Z"
   },
   {
    "duration": 108,
    "start_time": "2023-04-18T08:42:42.582Z"
   },
   {
    "duration": 122,
    "start_time": "2023-04-18T08:43:00.567Z"
   },
   {
    "duration": 86,
    "start_time": "2023-04-18T08:43:16.567Z"
   },
   {
    "duration": 93,
    "start_time": "2023-04-18T08:43:32.464Z"
   },
   {
    "duration": 94,
    "start_time": "2023-04-18T08:43:53.808Z"
   },
   {
    "duration": 91,
    "start_time": "2023-04-18T08:43:54.842Z"
   },
   {
    "duration": 101,
    "start_time": "2023-04-18T09:10:45.278Z"
   },
   {
    "duration": 147,
    "start_time": "2023-04-18T09:10:53.544Z"
   },
   {
    "duration": 226,
    "start_time": "2023-04-18T09:12:18.179Z"
   },
   {
    "duration": 245,
    "start_time": "2023-04-18T09:12:59.162Z"
   },
   {
    "duration": 100,
    "start_time": "2023-04-18T09:14:31.669Z"
   },
   {
    "duration": 77,
    "start_time": "2023-04-18T09:15:53.950Z"
   },
   {
    "duration": 56,
    "start_time": "2023-04-18T09:16:22.245Z"
   },
   {
    "duration": 123,
    "start_time": "2023-04-18T09:17:22.370Z"
   },
   {
    "duration": 161,
    "start_time": "2023-04-18T09:17:32.381Z"
   },
   {
    "duration": 95,
    "start_time": "2023-04-18T09:17:53.439Z"
   },
   {
    "duration": 100,
    "start_time": "2023-04-18T09:17:59.222Z"
   },
   {
    "duration": 145,
    "start_time": "2023-04-18T09:18:09.516Z"
   },
   {
    "duration": 16,
    "start_time": "2023-04-18T09:40:54.953Z"
   },
   {
    "duration": 10,
    "start_time": "2023-04-18T09:41:20.354Z"
   },
   {
    "duration": 19,
    "start_time": "2023-04-18T10:45:22.385Z"
   },
   {
    "duration": 19,
    "start_time": "2023-04-18T10:46:20.022Z"
   },
   {
    "duration": 13,
    "start_time": "2023-04-18T10:46:43.836Z"
   },
   {
    "duration": 12,
    "start_time": "2023-04-18T10:53:46.714Z"
   },
   {
    "duration": 17,
    "start_time": "2023-04-18T11:02:45.616Z"
   },
   {
    "duration": 25,
    "start_time": "2023-04-18T11:03:05.961Z"
   },
   {
    "duration": 12,
    "start_time": "2023-04-18T11:03:10.245Z"
   },
   {
    "duration": 9,
    "start_time": "2023-04-18T11:05:36.848Z"
   },
   {
    "duration": 7,
    "start_time": "2023-04-18T11:05:59.223Z"
   },
   {
    "duration": 7,
    "start_time": "2023-04-18T11:06:16.410Z"
   },
   {
    "duration": 7,
    "start_time": "2023-04-18T11:06:41.620Z"
   },
   {
    "duration": 14,
    "start_time": "2023-04-18T11:07:39.215Z"
   },
   {
    "duration": 9,
    "start_time": "2023-04-18T11:08:07.117Z"
   },
   {
    "duration": 8,
    "start_time": "2023-04-18T11:11:26.532Z"
   },
   {
    "duration": 12,
    "start_time": "2023-04-18T11:11:37.111Z"
   },
   {
    "duration": 9,
    "start_time": "2023-04-18T11:11:47.215Z"
   },
   {
    "duration": 745,
    "start_time": "2023-04-18T11:14:28.416Z"
   },
   {
    "duration": 743,
    "start_time": "2023-04-18T11:14:39.563Z"
   },
   {
    "duration": 582,
    "start_time": "2023-04-18T11:15:17.271Z"
   },
   {
    "duration": 8,
    "start_time": "2023-04-18T11:29:29.016Z"
   },
   {
    "duration": 63,
    "start_time": "2023-04-18T11:29:34.228Z"
   },
   {
    "duration": 9,
    "start_time": "2023-04-18T11:29:47.234Z"
   },
   {
    "duration": 9,
    "start_time": "2023-04-18T11:30:02.311Z"
   },
   {
    "duration": 766,
    "start_time": "2023-04-18T11:30:08.067Z"
   },
   {
    "duration": 10,
    "start_time": "2023-04-18T11:30:30.872Z"
   },
   {
    "duration": 9,
    "start_time": "2023-04-18T11:30:32.573Z"
   },
   {
    "duration": 12,
    "start_time": "2023-04-18T11:30:45.120Z"
   },
   {
    "duration": 618,
    "start_time": "2023-04-18T11:31:10.172Z"
   },
   {
    "duration": 8,
    "start_time": "2023-04-18T12:02:33.127Z"
   },
   {
    "duration": 9,
    "start_time": "2023-04-18T12:02:48.730Z"
   },
   {
    "duration": 1190,
    "start_time": "2023-04-18T12:03:01.827Z"
   },
   {
    "duration": 73,
    "start_time": "2023-04-18T12:03:03.020Z"
   },
   {
    "duration": 26,
    "start_time": "2023-04-18T12:03:03.095Z"
   },
   {
    "duration": 25,
    "start_time": "2023-04-18T12:03:03.123Z"
   },
   {
    "duration": 9,
    "start_time": "2023-04-18T12:03:03.150Z"
   },
   {
    "duration": 18,
    "start_time": "2023-04-18T12:03:03.185Z"
   },
   {
    "duration": 35,
    "start_time": "2023-04-18T12:03:03.205Z"
   },
   {
    "duration": 30,
    "start_time": "2023-04-18T12:03:03.242Z"
   },
   {
    "duration": 21,
    "start_time": "2023-04-18T12:03:03.274Z"
   },
   {
    "duration": 27,
    "start_time": "2023-04-18T12:03:03.297Z"
   },
   {
    "duration": 6,
    "start_time": "2023-04-18T12:03:03.326Z"
   },
   {
    "duration": 12,
    "start_time": "2023-04-18T12:03:03.334Z"
   },
   {
    "duration": 44,
    "start_time": "2023-04-18T12:03:03.348Z"
   },
   {
    "duration": 1092,
    "start_time": "2023-04-18T12:03:03.396Z"
   },
   {
    "duration": 6,
    "start_time": "2023-04-18T12:03:04.490Z"
   },
   {
    "duration": 16,
    "start_time": "2023-04-18T12:03:04.498Z"
   },
   {
    "duration": 20,
    "start_time": "2023-04-18T12:03:04.516Z"
   },
   {
    "duration": 56,
    "start_time": "2023-04-18T12:03:04.538Z"
   },
   {
    "duration": 24,
    "start_time": "2023-04-18T12:03:04.596Z"
   },
   {
    "duration": 15,
    "start_time": "2023-04-18T12:03:04.622Z"
   },
   {
    "duration": 196,
    "start_time": "2023-04-18T12:03:04.639Z"
   },
   {
    "duration": 16,
    "start_time": "2023-04-18T12:03:04.837Z"
   },
   {
    "duration": 498,
    "start_time": "2023-04-18T12:03:04.854Z"
   },
   {
    "duration": 14,
    "start_time": "2023-04-18T12:03:05.353Z"
   },
   {
    "duration": 31,
    "start_time": "2023-04-18T12:03:05.368Z"
   },
   {
    "duration": 109,
    "start_time": "2023-04-18T12:03:05.400Z"
   },
   {
    "duration": 123,
    "start_time": "2023-04-18T12:03:05.511Z"
   },
   {
    "duration": 112,
    "start_time": "2023-04-18T12:03:05.636Z"
   },
   {
    "duration": 113,
    "start_time": "2023-04-18T12:03:05.750Z"
   },
   {
    "duration": 117,
    "start_time": "2023-04-18T12:03:05.865Z"
   },
   {
    "duration": 0,
    "start_time": "2023-04-18T12:03:05.985Z"
   },
   {
    "duration": 0,
    "start_time": "2023-04-18T12:03:05.987Z"
   },
   {
    "duration": 0,
    "start_time": "2023-04-18T12:03:05.988Z"
   },
   {
    "duration": 10,
    "start_time": "2023-04-18T12:03:29.272Z"
   },
   {
    "duration": 1193,
    "start_time": "2023-04-18T12:04:05.012Z"
   },
   {
    "duration": 72,
    "start_time": "2023-04-18T12:04:06.207Z"
   },
   {
    "duration": 27,
    "start_time": "2023-04-18T12:04:06.281Z"
   },
   {
    "duration": 23,
    "start_time": "2023-04-18T12:04:06.310Z"
   },
   {
    "duration": 10,
    "start_time": "2023-04-18T12:04:06.336Z"
   },
   {
    "duration": 42,
    "start_time": "2023-04-18T12:04:06.347Z"
   },
   {
    "duration": 17,
    "start_time": "2023-04-18T12:04:06.390Z"
   },
   {
    "duration": 23,
    "start_time": "2023-04-18T12:04:06.409Z"
   },
   {
    "duration": 21,
    "start_time": "2023-04-18T12:04:06.434Z"
   },
   {
    "duration": 49,
    "start_time": "2023-04-18T12:04:06.457Z"
   },
   {
    "duration": 6,
    "start_time": "2023-04-18T12:04:06.507Z"
   },
   {
    "duration": 8,
    "start_time": "2023-04-18T12:04:06.515Z"
   },
   {
    "duration": 39,
    "start_time": "2023-04-18T12:04:06.525Z"
   },
   {
    "duration": 1069,
    "start_time": "2023-04-18T12:04:06.567Z"
   },
   {
    "duration": 5,
    "start_time": "2023-04-18T12:04:07.638Z"
   },
   {
    "duration": 15,
    "start_time": "2023-04-18T12:04:07.645Z"
   },
   {
    "duration": 36,
    "start_time": "2023-04-18T12:04:07.661Z"
   },
   {
    "duration": 20,
    "start_time": "2023-04-18T12:04:07.698Z"
   },
   {
    "duration": 26,
    "start_time": "2023-04-18T12:04:07.720Z"
   },
   {
    "duration": 40,
    "start_time": "2023-04-18T12:04:07.748Z"
   },
   {
    "duration": 184,
    "start_time": "2023-04-18T12:04:07.790Z"
   },
   {
    "duration": 21,
    "start_time": "2023-04-18T12:04:07.984Z"
   },
   {
    "duration": 516,
    "start_time": "2023-04-18T12:04:08.006Z"
   },
   {
    "duration": 15,
    "start_time": "2023-04-18T12:04:08.523Z"
   },
   {
    "duration": 17,
    "start_time": "2023-04-18T12:04:08.540Z"
   },
   {
    "duration": 126,
    "start_time": "2023-04-18T12:04:08.559Z"
   },
   {
    "duration": 120,
    "start_time": "2023-04-18T12:04:08.687Z"
   },
   {
    "duration": 116,
    "start_time": "2023-04-18T12:04:08.809Z"
   },
   {
    "duration": 104,
    "start_time": "2023-04-18T12:04:08.927Z"
   },
   {
    "duration": 108,
    "start_time": "2023-04-18T12:04:09.033Z"
   },
   {
    "duration": 0,
    "start_time": "2023-04-18T12:04:09.142Z"
   },
   {
    "duration": 0,
    "start_time": "2023-04-18T12:04:09.144Z"
   },
   {
    "duration": 0,
    "start_time": "2023-04-18T12:04:09.145Z"
   },
   {
    "duration": 3,
    "start_time": "2023-04-18T12:04:11.027Z"
   },
   {
    "duration": 67,
    "start_time": "2023-04-18T12:04:12.826Z"
   },
   {
    "duration": 26,
    "start_time": "2023-04-18T12:04:14.817Z"
   },
   {
    "duration": 25,
    "start_time": "2023-04-18T12:04:15.523Z"
   },
   {
    "duration": 12,
    "start_time": "2023-04-18T12:04:15.781Z"
   },
   {
    "duration": 16,
    "start_time": "2023-04-18T12:04:16.569Z"
   },
   {
    "duration": 16,
    "start_time": "2023-04-18T12:04:17.074Z"
   },
   {
    "duration": 17,
    "start_time": "2023-04-18T12:04:17.553Z"
   },
   {
    "duration": 18,
    "start_time": "2023-04-18T12:04:18.015Z"
   },
   {
    "duration": 25,
    "start_time": "2023-04-18T12:04:18.472Z"
   },
   {
    "duration": 5,
    "start_time": "2023-04-18T12:04:18.930Z"
   },
   {
    "duration": 4,
    "start_time": "2023-04-18T12:04:19.173Z"
   },
   {
    "duration": 22,
    "start_time": "2023-04-18T12:04:19.656Z"
   },
   {
    "duration": 1138,
    "start_time": "2023-04-18T12:04:20.124Z"
   },
   {
    "duration": 5,
    "start_time": "2023-04-18T12:04:21.264Z"
   },
   {
    "duration": 22,
    "start_time": "2023-04-18T12:04:21.270Z"
   },
   {
    "duration": 17,
    "start_time": "2023-04-18T12:04:21.603Z"
   },
   {
    "duration": 19,
    "start_time": "2023-04-18T12:04:21.864Z"
   },
   {
    "duration": 23,
    "start_time": "2023-04-18T12:04:22.372Z"
   },
   {
    "duration": 16,
    "start_time": "2023-04-18T12:04:23.386Z"
   },
   {
    "duration": 155,
    "start_time": "2023-04-18T12:04:23.628Z"
   },
   {
    "duration": 19,
    "start_time": "2023-04-18T12:04:24.465Z"
   },
   {
    "duration": 433,
    "start_time": "2023-04-18T12:04:25.936Z"
   },
   {
    "duration": 17,
    "start_time": "2023-04-18T12:04:30.626Z"
   },
   {
    "duration": 20,
    "start_time": "2023-04-18T12:04:32.840Z"
   },
   {
    "duration": 103,
    "start_time": "2023-04-18T12:04:35.323Z"
   },
   {
    "duration": 112,
    "start_time": "2023-04-18T12:04:35.883Z"
   },
   {
    "duration": 105,
    "start_time": "2023-04-18T12:04:36.630Z"
   },
   {
    "duration": 94,
    "start_time": "2023-04-18T12:04:37.976Z"
   },
   {
    "duration": 11,
    "start_time": "2023-04-18T12:04:38.986Z"
   },
   {
    "duration": 8,
    "start_time": "2023-04-18T12:04:57.685Z"
   },
   {
    "duration": 12,
    "start_time": "2023-04-18T12:05:02.915Z"
   },
   {
    "duration": 11,
    "start_time": "2023-04-18T12:05:04.670Z"
   },
   {
    "duration": 1102,
    "start_time": "2023-04-18T12:05:14.811Z"
   },
   {
    "duration": 72,
    "start_time": "2023-04-18T12:05:15.915Z"
   },
   {
    "duration": 27,
    "start_time": "2023-04-18T12:05:15.989Z"
   },
   {
    "duration": 28,
    "start_time": "2023-04-18T12:05:16.019Z"
   },
   {
    "duration": 10,
    "start_time": "2023-04-18T12:05:16.050Z"
   },
   {
    "duration": 16,
    "start_time": "2023-04-18T12:05:16.084Z"
   },
   {
    "duration": 16,
    "start_time": "2023-04-18T12:05:16.101Z"
   },
   {
    "duration": 20,
    "start_time": "2023-04-18T12:05:16.119Z"
   },
   {
    "duration": 44,
    "start_time": "2023-04-18T12:05:16.141Z"
   },
   {
    "duration": 24,
    "start_time": "2023-04-18T12:05:16.188Z"
   },
   {
    "duration": 5,
    "start_time": "2023-04-18T12:05:16.214Z"
   },
   {
    "duration": 14,
    "start_time": "2023-04-18T12:05:16.221Z"
   },
   {
    "duration": 21,
    "start_time": "2023-04-18T12:05:16.237Z"
   },
   {
    "duration": 1066,
    "start_time": "2023-04-18T12:05:16.260Z"
   },
   {
    "duration": 5,
    "start_time": "2023-04-18T12:05:17.328Z"
   },
   {
    "duration": 17,
    "start_time": "2023-04-18T12:05:17.334Z"
   },
   {
    "duration": 34,
    "start_time": "2023-04-18T12:05:17.353Z"
   },
   {
    "duration": 21,
    "start_time": "2023-04-18T12:05:17.389Z"
   },
   {
    "duration": 29,
    "start_time": "2023-04-18T12:05:17.411Z"
   },
   {
    "duration": 15,
    "start_time": "2023-04-18T12:05:17.441Z"
   },
   {
    "duration": 203,
    "start_time": "2023-04-18T12:05:17.458Z"
   },
   {
    "duration": 27,
    "start_time": "2023-04-18T12:05:17.663Z"
   },
   {
    "duration": 515,
    "start_time": "2023-04-18T12:05:17.692Z"
   },
   {
    "duration": 16,
    "start_time": "2023-04-18T12:05:18.209Z"
   },
   {
    "duration": 21,
    "start_time": "2023-04-18T12:05:18.227Z"
   },
   {
    "duration": 139,
    "start_time": "2023-04-18T12:05:18.250Z"
   },
   {
    "duration": 136,
    "start_time": "2023-04-18T12:05:18.390Z"
   },
   {
    "duration": 119,
    "start_time": "2023-04-18T12:05:18.529Z"
   },
   {
    "duration": 102,
    "start_time": "2023-04-18T12:05:18.650Z"
   },
   {
    "duration": 7,
    "start_time": "2023-04-18T12:05:18.753Z"
   },
   {
    "duration": 29,
    "start_time": "2023-04-18T12:05:18.762Z"
   },
   {
    "duration": 13,
    "start_time": "2023-04-18T12:05:18.793Z"
   },
   {
    "duration": 605,
    "start_time": "2023-04-18T12:05:18.808Z"
   },
   {
    "duration": 7,
    "start_time": "2023-04-18T12:18:14.820Z"
   },
   {
    "duration": 52,
    "start_time": "2023-04-18T12:19:03.828Z"
   },
   {
    "duration": 11,
    "start_time": "2023-04-18T12:19:14.944Z"
   },
   {
    "duration": 8,
    "start_time": "2023-04-18T12:20:50.124Z"
   },
   {
    "duration": 636,
    "start_time": "2023-04-18T12:21:41.416Z"
   },
   {
    "duration": 8,
    "start_time": "2023-04-18T12:30:58.130Z"
   },
   {
    "duration": 7,
    "start_time": "2023-04-18T12:31:06.327Z"
   },
   {
    "duration": 12,
    "start_time": "2023-04-18T12:31:26.177Z"
   },
   {
    "duration": 9,
    "start_time": "2023-04-18T12:32:13.615Z"
   },
   {
    "duration": 575,
    "start_time": "2023-04-18T12:40:01.058Z"
   },
   {
    "duration": 114,
    "start_time": "2023-04-18T12:47:06.365Z"
   },
   {
    "duration": 14,
    "start_time": "2023-04-18T12:47:16.324Z"
   },
   {
    "duration": 9,
    "start_time": "2023-04-18T13:15:35.906Z"
   },
   {
    "duration": 15,
    "start_time": "2023-04-18T13:15:45.513Z"
   },
   {
    "duration": 24,
    "start_time": "2023-04-18T13:16:07.319Z"
   },
   {
    "duration": 15,
    "start_time": "2023-04-18T13:18:07.852Z"
   },
   {
    "duration": 15,
    "start_time": "2023-04-18T13:22:25.712Z"
   },
   {
    "duration": 14,
    "start_time": "2023-04-18T13:29:12.357Z"
   },
   {
    "duration": 25,
    "start_time": "2023-04-18T13:39:05.220Z"
   },
   {
    "duration": 21,
    "start_time": "2023-04-18T13:39:43.327Z"
   },
   {
    "duration": 16,
    "start_time": "2023-04-18T13:39:55.310Z"
   },
   {
    "duration": 14,
    "start_time": "2023-04-18T13:42:36.896Z"
   },
   {
    "duration": 79,
    "start_time": "2023-04-18T13:44:49.495Z"
   },
   {
    "duration": 25,
    "start_time": "2023-04-18T13:45:33.127Z"
   },
   {
    "duration": 15,
    "start_time": "2023-04-18T13:46:11.349Z"
   },
   {
    "duration": 46,
    "start_time": "2023-04-18T13:47:34.517Z"
   },
   {
    "duration": 15,
    "start_time": "2023-04-18T13:48:17.247Z"
   },
   {
    "duration": 24,
    "start_time": "2023-04-18T13:49:45.349Z"
   },
   {
    "duration": 14,
    "start_time": "2023-04-18T13:49:52.932Z"
   },
   {
    "duration": 15,
    "start_time": "2023-04-18T13:49:58.297Z"
   },
   {
    "duration": 27,
    "start_time": "2023-04-18T13:51:19.924Z"
   },
   {
    "duration": 14,
    "start_time": "2023-04-18T13:51:21.890Z"
   },
   {
    "duration": 15,
    "start_time": "2023-04-18T13:52:46.176Z"
   },
   {
    "duration": 14,
    "start_time": "2023-04-18T13:53:32.673Z"
   },
   {
    "duration": 24,
    "start_time": "2023-04-18T13:53:42.635Z"
   },
   {
    "duration": 14,
    "start_time": "2023-04-18T13:53:47.486Z"
   },
   {
    "duration": 14,
    "start_time": "2023-04-18T13:54:49.490Z"
   },
   {
    "duration": 29,
    "start_time": "2023-04-18T13:54:54.451Z"
   },
   {
    "duration": 20,
    "start_time": "2023-04-18T13:54:56.133Z"
   },
   {
    "duration": 14,
    "start_time": "2023-04-18T13:55:57.735Z"
   },
   {
    "duration": 15,
    "start_time": "2023-04-18T14:04:17.680Z"
   },
   {
    "duration": 14,
    "start_time": "2023-04-18T14:08:12.488Z"
   },
   {
    "duration": 6,
    "start_time": "2023-04-18T14:52:34.820Z"
   },
   {
    "duration": 131,
    "start_time": "2023-04-18T14:53:26.311Z"
   },
   {
    "duration": 15,
    "start_time": "2023-04-18T14:54:35.512Z"
   },
   {
    "duration": 131,
    "start_time": "2023-04-18T14:54:45.220Z"
   },
   {
    "duration": 12,
    "start_time": "2023-04-18T14:55:48.353Z"
   },
   {
    "duration": 13,
    "start_time": "2023-04-18T14:56:12.119Z"
   },
   {
    "duration": 126,
    "start_time": "2023-04-18T14:57:02.113Z"
   },
   {
    "duration": 10,
    "start_time": "2023-04-18T15:00:01.740Z"
   },
   {
    "duration": 142,
    "start_time": "2023-04-18T15:00:09.136Z"
   },
   {
    "duration": 145,
    "start_time": "2023-04-18T15:00:18.766Z"
   },
   {
    "duration": 229,
    "start_time": "2023-04-18T15:00:53.081Z"
   },
   {
    "duration": 152,
    "start_time": "2023-04-18T15:00:57.538Z"
   },
   {
    "duration": 216,
    "start_time": "2023-04-18T15:12:26.426Z"
   },
   {
    "duration": 249,
    "start_time": "2023-04-18T15:12:48.081Z"
   },
   {
    "duration": 5,
    "start_time": "2023-04-18T15:18:52.240Z"
   },
   {
    "duration": 48,
    "start_time": "2023-04-18T15:21:28.838Z"
   },
   {
    "duration": 20,
    "start_time": "2023-04-18T15:42:46.441Z"
   },
   {
    "duration": 24,
    "start_time": "2023-04-18T15:43:24.114Z"
   },
   {
    "duration": 163,
    "start_time": "2023-04-18T15:44:33.012Z"
   },
   {
    "duration": 5,
    "start_time": "2023-04-18T15:51:03.238Z"
   },
   {
    "duration": 13,
    "start_time": "2023-04-18T16:03:26.729Z"
   },
   {
    "duration": 8,
    "start_time": "2023-04-18T16:03:44.042Z"
   },
   {
    "duration": 11,
    "start_time": "2023-04-18T16:06:12.464Z"
   },
   {
    "duration": 12,
    "start_time": "2023-04-18T16:06:23.531Z"
   },
   {
    "duration": 9,
    "start_time": "2023-04-18T16:06:39.459Z"
   },
   {
    "duration": 642,
    "start_time": "2023-04-18T16:06:48.060Z"
   },
   {
    "duration": 12,
    "start_time": "2023-04-18T16:07:55.891Z"
   },
   {
    "duration": 9,
    "start_time": "2023-04-18T16:08:21.521Z"
   },
   {
    "duration": 6,
    "start_time": "2023-04-18T16:10:29.262Z"
   },
   {
    "duration": 13,
    "start_time": "2023-04-18T16:12:57.822Z"
   },
   {
    "duration": 13,
    "start_time": "2023-04-18T16:13:51.864Z"
   },
   {
    "duration": 1199,
    "start_time": "2023-04-18T16:15:56.034Z"
   },
   {
    "duration": 78,
    "start_time": "2023-04-18T16:15:57.235Z"
   },
   {
    "duration": 28,
    "start_time": "2023-04-18T16:15:57.315Z"
   },
   {
    "duration": 47,
    "start_time": "2023-04-18T16:15:57.345Z"
   },
   {
    "duration": 10,
    "start_time": "2023-04-18T16:15:57.395Z"
   },
   {
    "duration": 14,
    "start_time": "2023-04-18T16:15:57.406Z"
   },
   {
    "duration": 15,
    "start_time": "2023-04-18T16:15:57.422Z"
   },
   {
    "duration": 54,
    "start_time": "2023-04-18T16:15:57.439Z"
   },
   {
    "duration": 20,
    "start_time": "2023-04-18T16:15:57.494Z"
   },
   {
    "duration": 25,
    "start_time": "2023-04-18T16:15:57.516Z"
   },
   {
    "duration": 6,
    "start_time": "2023-04-18T16:15:57.543Z"
   },
   {
    "duration": 7,
    "start_time": "2023-04-18T16:15:57.551Z"
   },
   {
    "duration": 31,
    "start_time": "2023-04-18T16:15:57.586Z"
   },
   {
    "duration": 1125,
    "start_time": "2023-04-18T16:15:57.622Z"
   },
   {
    "duration": 6,
    "start_time": "2023-04-18T16:15:58.749Z"
   },
   {
    "duration": 29,
    "start_time": "2023-04-18T16:15:58.756Z"
   },
   {
    "duration": 18,
    "start_time": "2023-04-18T16:15:58.787Z"
   },
   {
    "duration": 20,
    "start_time": "2023-04-18T16:15:58.806Z"
   },
   {
    "duration": 25,
    "start_time": "2023-04-18T16:15:58.827Z"
   },
   {
    "duration": 45,
    "start_time": "2023-04-18T16:15:58.853Z"
   },
   {
    "duration": 189,
    "start_time": "2023-04-18T16:15:58.900Z"
   },
   {
    "duration": 17,
    "start_time": "2023-04-18T16:15:59.090Z"
   },
   {
    "duration": 532,
    "start_time": "2023-04-18T16:15:59.108Z"
   },
   {
    "duration": 16,
    "start_time": "2023-04-18T16:15:59.641Z"
   },
   {
    "duration": 37,
    "start_time": "2023-04-18T16:15:59.659Z"
   },
   {
    "duration": 118,
    "start_time": "2023-04-18T16:15:59.697Z"
   },
   {
    "duration": 122,
    "start_time": "2023-04-18T16:15:59.817Z"
   },
   {
    "duration": 120,
    "start_time": "2023-04-18T16:15:59.940Z"
   },
   {
    "duration": 104,
    "start_time": "2023-04-18T16:16:00.062Z"
   },
   {
    "duration": 26,
    "start_time": "2023-04-18T16:16:00.168Z"
   },
   {
    "duration": 79,
    "start_time": "2023-04-18T16:16:00.196Z"
   },
   {
    "duration": 65,
    "start_time": "2023-04-18T16:16:00.277Z"
   },
   {
    "duration": 48,
    "start_time": "2023-04-18T16:16:00.344Z"
   },
   {
    "duration": 740,
    "start_time": "2023-04-18T16:16:00.393Z"
   },
   {
    "duration": 8,
    "start_time": "2023-04-18T16:16:01.135Z"
   },
   {
    "duration": 55,
    "start_time": "2023-04-18T16:16:01.145Z"
   },
   {
    "duration": 50,
    "start_time": "2023-04-18T16:16:01.202Z"
   },
   {
    "duration": 779,
    "start_time": "2023-04-18T16:16:01.254Z"
   },
   {
    "duration": 49,
    "start_time": "2023-04-18T16:16:02.035Z"
   },
   {
    "duration": 0,
    "start_time": "2023-04-18T16:16:02.086Z"
   },
   {
    "duration": 0,
    "start_time": "2023-04-18T16:16:02.088Z"
   },
   {
    "duration": 0,
    "start_time": "2023-04-18T16:16:02.089Z"
   },
   {
    "duration": 0,
    "start_time": "2023-04-18T16:16:02.090Z"
   },
   {
    "duration": 0,
    "start_time": "2023-04-18T16:16:02.091Z"
   },
   {
    "duration": 0,
    "start_time": "2023-04-18T16:16:02.092Z"
   },
   {
    "duration": 0,
    "start_time": "2023-04-18T16:16:02.093Z"
   },
   {
    "duration": 0,
    "start_time": "2023-04-18T16:16:02.094Z"
   },
   {
    "duration": 0,
    "start_time": "2023-04-18T16:16:02.095Z"
   },
   {
    "duration": 0,
    "start_time": "2023-04-18T16:16:02.096Z"
   },
   {
    "duration": 0,
    "start_time": "2023-04-18T16:16:02.097Z"
   },
   {
    "duration": 0,
    "start_time": "2023-04-18T16:16:02.098Z"
   },
   {
    "duration": 0,
    "start_time": "2023-04-18T16:16:02.099Z"
   },
   {
    "duration": 0,
    "start_time": "2023-04-18T16:16:02.100Z"
   },
   {
    "duration": 0,
    "start_time": "2023-04-18T16:16:02.101Z"
   },
   {
    "duration": 0,
    "start_time": "2023-04-18T16:16:02.101Z"
   },
   {
    "duration": 0,
    "start_time": "2023-04-18T16:16:02.103Z"
   },
   {
    "duration": 1,
    "start_time": "2023-04-18T16:16:02.103Z"
   },
   {
    "duration": 0,
    "start_time": "2023-04-18T16:16:02.105Z"
   },
   {
    "duration": 0,
    "start_time": "2023-04-18T16:16:02.106Z"
   },
   {
    "duration": 0,
    "start_time": "2023-04-18T16:16:02.107Z"
   },
   {
    "duration": 0,
    "start_time": "2023-04-18T16:16:02.108Z"
   },
   {
    "duration": 0,
    "start_time": "2023-04-18T16:16:02.109Z"
   },
   {
    "duration": 9,
    "start_time": "2023-04-18T16:16:40.322Z"
   },
   {
    "duration": 15,
    "start_time": "2023-04-18T16:16:48.557Z"
   },
   {
    "duration": 8,
    "start_time": "2023-04-18T16:16:56.181Z"
   },
   {
    "duration": 624,
    "start_time": "2023-04-18T16:17:01.818Z"
   },
   {
    "duration": 15,
    "start_time": "2023-04-18T16:17:14.959Z"
   },
   {
    "duration": 26,
    "start_time": "2023-04-18T16:17:18.918Z"
   },
   {
    "duration": 17,
    "start_time": "2023-04-18T16:17:21.130Z"
   },
   {
    "duration": 15,
    "start_time": "2023-04-18T16:17:26.385Z"
   },
   {
    "duration": 15,
    "start_time": "2023-04-18T16:17:28.018Z"
   },
   {
    "duration": 25,
    "start_time": "2023-04-18T16:17:28.918Z"
   },
   {
    "duration": 16,
    "start_time": "2023-04-18T16:17:29.218Z"
   },
   {
    "duration": 16,
    "start_time": "2023-04-18T16:17:29.731Z"
   },
   {
    "duration": 18,
    "start_time": "2023-04-18T16:17:30.254Z"
   },
   {
    "duration": 25,
    "start_time": "2023-04-18T16:17:31.055Z"
   },
   {
    "duration": 19,
    "start_time": "2023-04-18T16:17:31.331Z"
   },
   {
    "duration": 19,
    "start_time": "2023-04-18T16:17:31.848Z"
   },
   {
    "duration": 19,
    "start_time": "2023-04-18T16:17:32.358Z"
   },
   {
    "duration": 105,
    "start_time": "2023-04-18T16:17:33.630Z"
   },
   {
    "duration": 14,
    "start_time": "2023-04-18T16:17:33.972Z"
   },
   {
    "duration": 202,
    "start_time": "2023-04-18T16:17:57.836Z"
   },
   {
    "duration": 220,
    "start_time": "2023-04-18T16:18:32.342Z"
   },
   {
    "duration": 5,
    "start_time": "2023-04-18T16:18:39.052Z"
   },
   {
    "duration": 18,
    "start_time": "2023-04-18T16:18:42.126Z"
   },
   {
    "duration": 9,
    "start_time": "2023-04-18T16:18:49.122Z"
   },
   {
    "duration": 13,
    "start_time": "2023-04-18T16:19:15.927Z"
   },
   {
    "duration": 18,
    "start_time": "2023-04-18T16:22:40.974Z"
   },
   {
    "duration": 1288,
    "start_time": "2023-04-18T16:22:56.856Z"
   },
   {
    "duration": 85,
    "start_time": "2023-04-18T16:22:58.148Z"
   },
   {
    "duration": 35,
    "start_time": "2023-04-18T16:22:58.236Z"
   },
   {
    "duration": 31,
    "start_time": "2023-04-18T16:22:58.285Z"
   },
   {
    "duration": 10,
    "start_time": "2023-04-18T16:22:58.317Z"
   },
   {
    "duration": 21,
    "start_time": "2023-04-18T16:22:58.328Z"
   },
   {
    "duration": 41,
    "start_time": "2023-04-18T16:22:58.351Z"
   },
   {
    "duration": 24,
    "start_time": "2023-04-18T16:22:58.393Z"
   },
   {
    "duration": 21,
    "start_time": "2023-04-18T16:22:58.419Z"
   },
   {
    "duration": 49,
    "start_time": "2023-04-18T16:22:58.444Z"
   },
   {
    "duration": 6,
    "start_time": "2023-04-18T16:22:58.495Z"
   },
   {
    "duration": 6,
    "start_time": "2023-04-18T16:22:58.503Z"
   },
   {
    "duration": 29,
    "start_time": "2023-04-18T16:22:58.511Z"
   },
   {
    "duration": 1086,
    "start_time": "2023-04-18T16:22:58.542Z"
   },
   {
    "duration": 7,
    "start_time": "2023-04-18T16:22:59.630Z"
   },
   {
    "duration": 31,
    "start_time": "2023-04-18T16:22:59.640Z"
   },
   {
    "duration": 31,
    "start_time": "2023-04-18T16:22:59.673Z"
   },
   {
    "duration": 21,
    "start_time": "2023-04-18T16:22:59.706Z"
   },
   {
    "duration": 28,
    "start_time": "2023-04-18T16:22:59.729Z"
   },
   {
    "duration": 34,
    "start_time": "2023-04-18T16:22:59.759Z"
   },
   {
    "duration": 192,
    "start_time": "2023-04-18T16:22:59.795Z"
   },
   {
    "duration": 17,
    "start_time": "2023-04-18T16:22:59.989Z"
   },
   {
    "duration": 536,
    "start_time": "2023-04-18T16:23:00.008Z"
   },
   {
    "duration": 14,
    "start_time": "2023-04-18T16:23:00.546Z"
   },
   {
    "duration": 42,
    "start_time": "2023-04-18T16:23:00.562Z"
   },
   {
    "duration": 157,
    "start_time": "2023-04-18T16:23:00.606Z"
   },
   {
    "duration": 139,
    "start_time": "2023-04-18T16:23:00.765Z"
   },
   {
    "duration": 139,
    "start_time": "2023-04-18T16:23:00.910Z"
   },
   {
    "duration": 117,
    "start_time": "2023-04-18T16:23:01.050Z"
   },
   {
    "duration": 26,
    "start_time": "2023-04-18T16:23:01.170Z"
   },
   {
    "duration": 39,
    "start_time": "2023-04-18T16:23:01.198Z"
   },
   {
    "duration": 55,
    "start_time": "2023-04-18T16:23:01.239Z"
   },
   {
    "duration": 60,
    "start_time": "2023-04-18T16:23:01.296Z"
   },
   {
    "duration": 747,
    "start_time": "2023-04-18T16:23:01.358Z"
   },
   {
    "duration": 9,
    "start_time": "2023-04-18T16:23:02.107Z"
   },
   {
    "duration": 28,
    "start_time": "2023-04-18T16:23:02.118Z"
   },
   {
    "duration": 14,
    "start_time": "2023-04-18T16:23:02.148Z"
   },
   {
    "duration": 707,
    "start_time": "2023-04-18T16:23:02.163Z"
   },
   {
    "duration": 50,
    "start_time": "2023-04-18T16:23:02.872Z"
   },
   {
    "duration": 0,
    "start_time": "2023-04-18T16:23:02.924Z"
   },
   {
    "duration": 0,
    "start_time": "2023-04-18T16:23:02.925Z"
   },
   {
    "duration": 0,
    "start_time": "2023-04-18T16:23:02.926Z"
   },
   {
    "duration": 0,
    "start_time": "2023-04-18T16:23:02.928Z"
   },
   {
    "duration": 0,
    "start_time": "2023-04-18T16:23:02.929Z"
   },
   {
    "duration": 0,
    "start_time": "2023-04-18T16:23:02.930Z"
   },
   {
    "duration": 0,
    "start_time": "2023-04-18T16:23:02.931Z"
   },
   {
    "duration": 0,
    "start_time": "2023-04-18T16:23:02.932Z"
   },
   {
    "duration": 0,
    "start_time": "2023-04-18T16:23:02.934Z"
   },
   {
    "duration": 0,
    "start_time": "2023-04-18T16:23:02.935Z"
   },
   {
    "duration": 0,
    "start_time": "2023-04-18T16:23:02.936Z"
   },
   {
    "duration": 0,
    "start_time": "2023-04-18T16:23:02.937Z"
   },
   {
    "duration": 0,
    "start_time": "2023-04-18T16:23:02.939Z"
   },
   {
    "duration": 0,
    "start_time": "2023-04-18T16:23:02.940Z"
   },
   {
    "duration": 0,
    "start_time": "2023-04-18T16:23:02.941Z"
   },
   {
    "duration": 0,
    "start_time": "2023-04-18T16:23:02.943Z"
   },
   {
    "duration": 0,
    "start_time": "2023-04-18T16:23:02.944Z"
   },
   {
    "duration": 0,
    "start_time": "2023-04-18T16:23:02.945Z"
   },
   {
    "duration": 0,
    "start_time": "2023-04-18T16:23:02.946Z"
   },
   {
    "duration": 0,
    "start_time": "2023-04-18T16:23:02.947Z"
   },
   {
    "duration": 0,
    "start_time": "2023-04-18T16:23:02.948Z"
   },
   {
    "duration": 0,
    "start_time": "2023-04-18T16:23:02.950Z"
   },
   {
    "duration": 0,
    "start_time": "2023-04-18T16:23:02.951Z"
   },
   {
    "duration": 8,
    "start_time": "2023-04-18T16:24:02.730Z"
   },
   {
    "duration": 6,
    "start_time": "2023-04-18T16:24:35.051Z"
   },
   {
    "duration": 5,
    "start_time": "2023-04-18T16:25:09.645Z"
   },
   {
    "duration": 5,
    "start_time": "2023-04-18T16:25:38.338Z"
   },
   {
    "duration": 25,
    "start_time": "2023-04-18T16:27:25.861Z"
   },
   {
    "duration": 19,
    "start_time": "2023-04-18T16:27:42.310Z"
   },
   {
    "duration": 15,
    "start_time": "2023-04-18T16:28:10.932Z"
   },
   {
    "duration": 14,
    "start_time": "2023-04-18T16:28:24.726Z"
   },
   {
    "duration": 32,
    "start_time": "2023-04-18T16:28:30.187Z"
   },
   {
    "duration": 14,
    "start_time": "2023-04-18T16:28:34.239Z"
   },
   {
    "duration": 15,
    "start_time": "2023-04-18T16:28:38.034Z"
   },
   {
    "duration": 15,
    "start_time": "2023-04-18T16:28:42.717Z"
   },
   {
    "duration": 25,
    "start_time": "2023-04-18T16:28:46.980Z"
   },
   {
    "duration": 14,
    "start_time": "2023-04-18T16:28:47.226Z"
   },
   {
    "duration": 18,
    "start_time": "2023-04-18T16:28:47.660Z"
   },
   {
    "duration": 13,
    "start_time": "2023-04-18T16:28:48.226Z"
   },
   {
    "duration": 118,
    "start_time": "2023-04-18T16:28:52.378Z"
   },
   {
    "duration": 12,
    "start_time": "2023-04-18T16:29:37.122Z"
   },
   {
    "duration": 12,
    "start_time": "2023-04-18T16:32:52.977Z"
   },
   {
    "duration": 12,
    "start_time": "2023-04-18T16:35:11.851Z"
   },
   {
    "duration": 16,
    "start_time": "2023-04-18T16:35:32.863Z"
   },
   {
    "duration": 12,
    "start_time": "2023-04-18T16:39:21.063Z"
   },
   {
    "duration": 3,
    "start_time": "2023-04-18T16:40:20.725Z"
   },
   {
    "duration": 67,
    "start_time": "2023-04-18T16:40:22.237Z"
   },
   {
    "duration": 27,
    "start_time": "2023-04-18T16:40:23.211Z"
   },
   {
    "duration": 27,
    "start_time": "2023-04-18T16:40:23.716Z"
   },
   {
    "duration": 13,
    "start_time": "2023-04-18T16:40:24.143Z"
   },
   {
    "duration": 14,
    "start_time": "2023-04-18T16:40:24.860Z"
   },
   {
    "duration": 16,
    "start_time": "2023-04-18T16:40:25.306Z"
   },
   {
    "duration": 20,
    "start_time": "2023-04-18T16:40:25.737Z"
   },
   {
    "duration": 28,
    "start_time": "2023-04-18T16:40:26.154Z"
   },
   {
    "duration": 27,
    "start_time": "2023-04-18T16:40:26.613Z"
   },
   {
    "duration": 7,
    "start_time": "2023-04-18T16:40:27.016Z"
   },
   {
    "duration": 5,
    "start_time": "2023-04-18T16:40:27.209Z"
   },
   {
    "duration": 21,
    "start_time": "2023-04-18T16:40:27.640Z"
   },
   {
    "duration": 1088,
    "start_time": "2023-04-18T16:40:28.058Z"
   },
   {
    "duration": 6,
    "start_time": "2023-04-18T16:40:29.149Z"
   },
   {
    "duration": 29,
    "start_time": "2023-04-18T16:40:29.156Z"
   },
   {
    "duration": 18,
    "start_time": "2023-04-18T16:40:29.342Z"
   },
   {
    "duration": 20,
    "start_time": "2023-04-18T16:40:29.562Z"
   },
   {
    "duration": 22,
    "start_time": "2023-04-18T16:40:30.021Z"
   },
   {
    "duration": 15,
    "start_time": "2023-04-18T16:40:30.659Z"
   },
   {
    "duration": 172,
    "start_time": "2023-04-18T16:40:30.871Z"
   },
   {
    "duration": 17,
    "start_time": "2023-04-18T16:40:31.510Z"
   },
   {
    "duration": 404,
    "start_time": "2023-04-18T16:40:31.921Z"
   },
   {
    "duration": 15,
    "start_time": "2023-04-18T16:40:32.557Z"
   },
   {
    "duration": 27,
    "start_time": "2023-04-18T16:40:33.003Z"
   },
   {
    "duration": 96,
    "start_time": "2023-04-18T16:40:33.655Z"
   },
   {
    "duration": 216,
    "start_time": "2023-04-18T16:40:34.114Z"
   },
   {
    "duration": 106,
    "start_time": "2023-04-18T16:40:34.540Z"
   },
   {
    "duration": 91,
    "start_time": "2023-04-18T16:40:34.970Z"
   },
   {
    "duration": 13,
    "start_time": "2023-04-18T16:40:35.658Z"
   },
   {
    "duration": 11,
    "start_time": "2023-04-18T16:40:35.897Z"
   },
   {
    "duration": 17,
    "start_time": "2023-04-18T16:40:36.123Z"
   },
   {
    "duration": 13,
    "start_time": "2023-04-18T16:40:36.555Z"
   },
   {
    "duration": 629,
    "start_time": "2023-04-18T16:40:37.075Z"
   },
   {
    "duration": 8,
    "start_time": "2023-04-18T16:40:38.711Z"
   },
   {
    "duration": 13,
    "start_time": "2023-04-18T16:40:39.928Z"
   },
   {
    "duration": 9,
    "start_time": "2023-04-18T16:40:40.861Z"
   },
   {
    "duration": 621,
    "start_time": "2023-04-18T16:40:41.125Z"
   },
   {
    "duration": 48,
    "start_time": "2023-04-18T16:40:41.748Z"
   },
   {
    "duration": 8,
    "start_time": "2023-04-18T16:40:41.842Z"
   },
   {
    "duration": 18,
    "start_time": "2023-04-18T16:40:42.106Z"
   },
   {
    "duration": 10,
    "start_time": "2023-04-18T16:40:42.337Z"
   },
   {
    "duration": 678,
    "start_time": "2023-04-18T16:40:45.812Z"
   },
   {
    "duration": 15,
    "start_time": "2023-04-18T16:40:47.843Z"
   },
   {
    "duration": 31,
    "start_time": "2023-04-18T16:40:50.224Z"
   },
   {
    "duration": 14,
    "start_time": "2023-04-18T16:40:50.741Z"
   },
   {
    "duration": 14,
    "start_time": "2023-04-18T16:40:52.874Z"
   },
   {
    "duration": 21,
    "start_time": "2023-04-18T16:40:55.713Z"
   },
   {
    "duration": 25,
    "start_time": "2023-04-18T16:41:00.363Z"
   },
   {
    "duration": 15,
    "start_time": "2023-04-18T16:41:01.409Z"
   },
   {
    "duration": 14,
    "start_time": "2023-04-18T16:41:03.518Z"
   },
   {
    "duration": 15,
    "start_time": "2023-04-18T16:41:05.755Z"
   },
   {
    "duration": 25,
    "start_time": "2023-04-18T16:41:17.558Z"
   },
   {
    "duration": 15,
    "start_time": "2023-04-18T16:41:18.519Z"
   },
   {
    "duration": 15,
    "start_time": "2023-04-18T16:41:19.673Z"
   },
   {
    "duration": 19,
    "start_time": "2023-04-18T16:41:20.922Z"
   },
   {
    "duration": 13,
    "start_time": "2023-04-18T16:41:24.606Z"
   },
   {
    "duration": 16,
    "start_time": "2023-04-18T16:41:25.542Z"
   },
   {
    "duration": 6,
    "start_time": "2023-04-18T16:44:38.102Z"
   },
   {
    "duration": 142,
    "start_time": "2023-04-18T16:44:40.399Z"
   },
   {
    "duration": 141,
    "start_time": "2023-04-18T16:44:41.845Z"
   },
   {
    "duration": 210,
    "start_time": "2023-04-18T16:44:43.727Z"
   },
   {
    "duration": 7,
    "start_time": "2023-04-18T16:44:45.128Z"
   },
   {
    "duration": 161,
    "start_time": "2023-04-18T16:44:47.130Z"
   },
   {
    "duration": 5,
    "start_time": "2023-04-18T16:44:49.422Z"
   },
   {
    "duration": 151,
    "start_time": "2023-04-18T16:45:33.309Z"
   },
   {
    "duration": 6,
    "start_time": "2023-04-18T16:55:17.253Z"
   },
   {
    "duration": 6,
    "start_time": "2023-04-18T16:55:18.670Z"
   },
   {
    "duration": 326,
    "start_time": "2023-04-18T16:55:22.069Z"
   },
   {
    "duration": 4,
    "start_time": "2023-04-18T16:55:25.871Z"
   },
   {
    "duration": 15,
    "start_time": "2023-04-18T16:55:36.965Z"
   },
   {
    "duration": 12,
    "start_time": "2023-04-18T16:55:59.156Z"
   },
   {
    "duration": 218,
    "start_time": "2023-04-18T16:57:03.720Z"
   },
   {
    "duration": 6,
    "start_time": "2023-04-18T16:58:26.601Z"
   },
   {
    "duration": 1218,
    "start_time": "2023-04-18T16:58:41.999Z"
   },
   {
    "duration": 76,
    "start_time": "2023-04-18T16:58:43.219Z"
   },
   {
    "duration": 30,
    "start_time": "2023-04-18T16:58:43.296Z"
   },
   {
    "duration": 27,
    "start_time": "2023-04-18T16:58:43.327Z"
   },
   {
    "duration": 29,
    "start_time": "2023-04-18T16:58:43.357Z"
   },
   {
    "duration": 14,
    "start_time": "2023-04-18T16:58:43.388Z"
   },
   {
    "duration": 15,
    "start_time": "2023-04-18T16:58:43.403Z"
   },
   {
    "duration": 18,
    "start_time": "2023-04-18T16:58:43.420Z"
   },
   {
    "duration": 50,
    "start_time": "2023-04-18T16:58:43.439Z"
   },
   {
    "duration": 25,
    "start_time": "2023-04-18T16:58:43.491Z"
   },
   {
    "duration": 8,
    "start_time": "2023-04-18T16:58:43.518Z"
   },
   {
    "duration": 4,
    "start_time": "2023-04-18T16:58:43.528Z"
   },
   {
    "duration": 64,
    "start_time": "2023-04-18T16:58:43.534Z"
   },
   {
    "duration": 1301,
    "start_time": "2023-04-18T16:58:43.603Z"
   },
   {
    "duration": 5,
    "start_time": "2023-04-18T16:58:44.906Z"
   },
   {
    "duration": 14,
    "start_time": "2023-04-18T16:58:44.913Z"
   },
   {
    "duration": 18,
    "start_time": "2023-04-18T16:58:44.929Z"
   },
   {
    "duration": 49,
    "start_time": "2023-04-18T16:58:44.948Z"
   },
   {
    "duration": 26,
    "start_time": "2023-04-18T16:58:44.998Z"
   },
   {
    "duration": 26,
    "start_time": "2023-04-18T16:58:45.027Z"
   },
   {
    "duration": 221,
    "start_time": "2023-04-18T16:58:45.055Z"
   },
   {
    "duration": 23,
    "start_time": "2023-04-18T16:58:45.278Z"
   },
   {
    "duration": 519,
    "start_time": "2023-04-18T16:58:45.304Z"
   },
   {
    "duration": 20,
    "start_time": "2023-04-18T16:58:45.825Z"
   },
   {
    "duration": 46,
    "start_time": "2023-04-18T16:58:45.847Z"
   },
   {
    "duration": 137,
    "start_time": "2023-04-18T16:58:45.895Z"
   },
   {
    "duration": 118,
    "start_time": "2023-04-18T16:58:46.034Z"
   },
   {
    "duration": 146,
    "start_time": "2023-04-18T16:58:46.154Z"
   },
   {
    "duration": 131,
    "start_time": "2023-04-18T16:58:46.302Z"
   },
   {
    "duration": 14,
    "start_time": "2023-04-18T16:58:46.435Z"
   },
   {
    "duration": 12,
    "start_time": "2023-04-18T16:58:46.450Z"
   },
   {
    "duration": 31,
    "start_time": "2023-04-18T16:58:46.464Z"
   },
   {
    "duration": 10,
    "start_time": "2023-04-18T16:58:46.497Z"
   },
   {
    "duration": 704,
    "start_time": "2023-04-18T16:58:46.509Z"
   },
   {
    "duration": 10,
    "start_time": "2023-04-18T16:58:47.215Z"
   },
   {
    "duration": 19,
    "start_time": "2023-04-18T16:58:47.227Z"
   },
   {
    "duration": 17,
    "start_time": "2023-04-18T16:58:47.248Z"
   },
   {
    "duration": 724,
    "start_time": "2023-04-18T16:58:47.267Z"
   },
   {
    "duration": 13,
    "start_time": "2023-04-18T16:58:47.994Z"
   },
   {
    "duration": 15,
    "start_time": "2023-04-18T16:58:48.008Z"
   },
   {
    "duration": 11,
    "start_time": "2023-04-18T16:58:48.028Z"
   },
   {
    "duration": 654,
    "start_time": "2023-04-18T16:58:48.041Z"
   },
   {
    "duration": 21,
    "start_time": "2023-04-18T16:58:48.697Z"
   },
   {
    "duration": 29,
    "start_time": "2023-04-18T16:58:48.720Z"
   },
   {
    "duration": 41,
    "start_time": "2023-04-18T16:58:48.751Z"
   },
   {
    "duration": 19,
    "start_time": "2023-04-18T16:58:48.795Z"
   },
   {
    "duration": 16,
    "start_time": "2023-04-18T16:58:48.816Z"
   },
   {
    "duration": 27,
    "start_time": "2023-04-18T16:58:48.834Z"
   },
   {
    "duration": 15,
    "start_time": "2023-04-18T16:58:48.886Z"
   },
   {
    "duration": 18,
    "start_time": "2023-04-18T16:58:48.902Z"
   },
   {
    "duration": 25,
    "start_time": "2023-04-18T16:58:48.922Z"
   },
   {
    "duration": 48,
    "start_time": "2023-04-18T16:58:48.949Z"
   },
   {
    "duration": 25,
    "start_time": "2023-04-18T16:58:48.999Z"
   },
   {
    "duration": 16,
    "start_time": "2023-04-18T16:58:49.026Z"
   },
   {
    "duration": 17,
    "start_time": "2023-04-18T16:58:49.043Z"
   },
   {
    "duration": 25,
    "start_time": "2023-04-18T16:58:49.062Z"
   },
   {
    "duration": 12,
    "start_time": "2023-04-18T16:58:49.089Z"
   },
   {
    "duration": 238,
    "start_time": "2023-04-18T16:58:49.103Z"
   },
   {
    "duration": 5,
    "start_time": "2023-04-18T16:58:49.343Z"
   },
   {
    "duration": 233,
    "start_time": "2023-04-18T16:58:49.350Z"
   },
   {
    "duration": 4,
    "start_time": "2023-04-18T16:58:49.586Z"
   },
   {
    "duration": 1184,
    "start_time": "2023-04-18T17:08:01.206Z"
   },
   {
    "duration": 107,
    "start_time": "2023-04-18T17:08:02.392Z"
   },
   {
    "duration": 25,
    "start_time": "2023-04-18T17:08:02.501Z"
   },
   {
    "duration": 37,
    "start_time": "2023-04-18T17:08:02.528Z"
   },
   {
    "duration": 19,
    "start_time": "2023-04-18T17:08:02.567Z"
   },
   {
    "duration": 21,
    "start_time": "2023-04-18T17:08:02.588Z"
   },
   {
    "duration": 27,
    "start_time": "2023-04-18T17:08:02.611Z"
   },
   {
    "duration": 35,
    "start_time": "2023-04-18T17:08:02.640Z"
   },
   {
    "duration": 20,
    "start_time": "2023-04-18T17:08:02.676Z"
   },
   {
    "duration": 49,
    "start_time": "2023-04-18T17:08:02.698Z"
   },
   {
    "duration": 24,
    "start_time": "2023-04-18T17:08:02.749Z"
   },
   {
    "duration": 31,
    "start_time": "2023-04-18T17:08:02.774Z"
   },
   {
    "duration": 50,
    "start_time": "2023-04-18T17:08:02.807Z"
   },
   {
    "duration": 1061,
    "start_time": "2023-04-18T17:08:02.858Z"
   },
   {
    "duration": 6,
    "start_time": "2023-04-18T17:08:03.921Z"
   },
   {
    "duration": 15,
    "start_time": "2023-04-18T17:08:03.929Z"
   },
   {
    "duration": 16,
    "start_time": "2023-04-18T17:08:03.946Z"
   },
   {
    "duration": 21,
    "start_time": "2023-04-18T17:08:03.986Z"
   },
   {
    "duration": 25,
    "start_time": "2023-04-18T17:08:04.008Z"
   },
   {
    "duration": 21,
    "start_time": "2023-04-18T17:08:04.036Z"
   },
   {
    "duration": 241,
    "start_time": "2023-04-18T17:08:04.085Z"
   },
   {
    "duration": 18,
    "start_time": "2023-04-18T17:08:04.327Z"
   },
   {
    "duration": 527,
    "start_time": "2023-04-18T17:08:04.346Z"
   },
   {
    "duration": 17,
    "start_time": "2023-04-18T17:08:04.875Z"
   },
   {
    "duration": 21,
    "start_time": "2023-04-18T17:08:04.894Z"
   },
   {
    "duration": 133,
    "start_time": "2023-04-18T17:08:04.917Z"
   },
   {
    "duration": 117,
    "start_time": "2023-04-18T17:08:05.052Z"
   },
   {
    "duration": 122,
    "start_time": "2023-04-18T17:08:05.185Z"
   },
   {
    "duration": 108,
    "start_time": "2023-04-18T17:08:05.309Z"
   },
   {
    "duration": 14,
    "start_time": "2023-04-18T17:08:05.420Z"
   },
   {
    "duration": 13,
    "start_time": "2023-04-18T17:08:05.435Z"
   },
   {
    "duration": 17,
    "start_time": "2023-04-18T17:08:05.450Z"
   },
   {
    "duration": 26,
    "start_time": "2023-04-18T17:08:05.469Z"
   },
   {
    "duration": 657,
    "start_time": "2023-04-18T17:08:05.496Z"
   },
   {
    "duration": 9,
    "start_time": "2023-04-18T17:08:06.155Z"
   },
   {
    "duration": 28,
    "start_time": "2023-04-18T17:08:06.165Z"
   },
   {
    "duration": 9,
    "start_time": "2023-04-18T17:08:06.194Z"
   },
   {
    "duration": 740,
    "start_time": "2023-04-18T17:08:06.204Z"
   },
   {
    "duration": 9,
    "start_time": "2023-04-18T17:08:06.946Z"
   },
   {
    "duration": 29,
    "start_time": "2023-04-18T17:08:06.957Z"
   },
   {
    "duration": 12,
    "start_time": "2023-04-18T17:08:06.988Z"
   },
   {
    "duration": 606,
    "start_time": "2023-04-18T17:08:07.002Z"
   },
   {
    "duration": 16,
    "start_time": "2023-04-18T17:08:07.610Z"
   },
   {
    "duration": 48,
    "start_time": "2023-04-18T17:08:07.628Z"
   },
   {
    "duration": 19,
    "start_time": "2023-04-18T17:08:07.678Z"
   },
   {
    "duration": 15,
    "start_time": "2023-04-18T17:08:07.699Z"
   },
   {
    "duration": 15,
    "start_time": "2023-04-18T17:08:07.716Z"
   },
   {
    "duration": 26,
    "start_time": "2023-04-18T17:08:07.733Z"
   },
   {
    "duration": 37,
    "start_time": "2023-04-18T17:08:07.760Z"
   },
   {
    "duration": 19,
    "start_time": "2023-04-18T17:08:07.799Z"
   },
   {
    "duration": 16,
    "start_time": "2023-04-18T17:08:07.820Z"
   },
   {
    "duration": 58,
    "start_time": "2023-04-18T17:08:07.838Z"
   },
   {
    "duration": 15,
    "start_time": "2023-04-18T17:08:07.898Z"
   },
   {
    "duration": 24,
    "start_time": "2023-04-18T17:08:07.914Z"
   },
   {
    "duration": 20,
    "start_time": "2023-04-18T17:08:07.939Z"
   },
   {
    "duration": 12,
    "start_time": "2023-04-18T17:08:07.960Z"
   },
   {
    "duration": 19,
    "start_time": "2023-04-18T17:08:07.973Z"
   },
   {
    "duration": 239,
    "start_time": "2023-04-18T17:08:07.994Z"
   },
   {
    "duration": 6,
    "start_time": "2023-04-18T17:08:08.235Z"
   },
   {
    "duration": 258,
    "start_time": "2023-04-18T17:08:08.244Z"
   },
   {
    "duration": 6,
    "start_time": "2023-04-18T17:08:08.504Z"
   },
   {
    "duration": 1303,
    "start_time": "2023-04-18T18:19:23.939Z"
   },
   {
    "duration": 203,
    "start_time": "2023-04-18T18:19:25.244Z"
   },
   {
    "duration": 27,
    "start_time": "2023-04-18T18:19:25.449Z"
   },
   {
    "duration": 25,
    "start_time": "2023-04-18T18:19:25.478Z"
   },
   {
    "duration": 9,
    "start_time": "2023-04-18T18:19:25.504Z"
   },
   {
    "duration": 14,
    "start_time": "2023-04-18T18:19:25.515Z"
   },
   {
    "duration": 22,
    "start_time": "2023-04-18T18:19:25.531Z"
   },
   {
    "duration": 19,
    "start_time": "2023-04-18T18:19:25.585Z"
   },
   {
    "duration": 28,
    "start_time": "2023-04-18T18:19:25.606Z"
   },
   {
    "duration": 53,
    "start_time": "2023-04-18T18:19:25.638Z"
   },
   {
    "duration": 7,
    "start_time": "2023-04-18T18:19:25.692Z"
   },
   {
    "duration": 8,
    "start_time": "2023-04-18T18:19:25.701Z"
   },
   {
    "duration": 26,
    "start_time": "2023-04-18T18:19:25.711Z"
   },
   {
    "duration": 1068,
    "start_time": "2023-04-18T18:19:25.739Z"
   },
   {
    "duration": 6,
    "start_time": "2023-04-18T18:19:26.809Z"
   },
   {
    "duration": 16,
    "start_time": "2023-04-18T18:19:26.817Z"
   },
   {
    "duration": 16,
    "start_time": "2023-04-18T18:19:26.835Z"
   },
   {
    "duration": 42,
    "start_time": "2023-04-18T18:19:26.853Z"
   },
   {
    "duration": 24,
    "start_time": "2023-04-18T18:19:26.897Z"
   },
   {
    "duration": 16,
    "start_time": "2023-04-18T18:19:26.923Z"
   },
   {
    "duration": 225,
    "start_time": "2023-04-18T18:19:26.941Z"
   },
   {
    "duration": 28,
    "start_time": "2023-04-18T18:19:27.168Z"
   },
   {
    "duration": 530,
    "start_time": "2023-04-18T18:19:27.198Z"
   },
   {
    "duration": 20,
    "start_time": "2023-04-18T18:19:27.730Z"
   },
   {
    "duration": 33,
    "start_time": "2023-04-18T18:19:27.752Z"
   },
   {
    "duration": 111,
    "start_time": "2023-04-18T18:19:27.787Z"
   },
   {
    "duration": 117,
    "start_time": "2023-04-18T18:19:27.900Z"
   },
   {
    "duration": 114,
    "start_time": "2023-04-18T18:19:28.021Z"
   },
   {
    "duration": 105,
    "start_time": "2023-04-18T18:19:28.137Z"
   },
   {
    "duration": 13,
    "start_time": "2023-04-18T18:19:28.244Z"
   },
   {
    "duration": 32,
    "start_time": "2023-04-18T18:19:28.260Z"
   },
   {
    "duration": 23,
    "start_time": "2023-04-18T18:19:28.293Z"
   },
   {
    "duration": 11,
    "start_time": "2023-04-18T18:19:28.317Z"
   },
   {
    "duration": 624,
    "start_time": "2023-04-18T18:19:28.329Z"
   },
   {
    "duration": 8,
    "start_time": "2023-04-18T18:19:28.955Z"
   },
   {
    "duration": 13,
    "start_time": "2023-04-18T18:19:28.964Z"
   },
   {
    "duration": 13,
    "start_time": "2023-04-18T18:19:28.978Z"
   },
   {
    "duration": 667,
    "start_time": "2023-04-18T18:19:28.992Z"
   },
   {
    "duration": 9,
    "start_time": "2023-04-18T18:19:29.661Z"
   },
   {
    "duration": 26,
    "start_time": "2023-04-18T18:19:29.671Z"
   },
   {
    "duration": 10,
    "start_time": "2023-04-18T18:19:29.699Z"
   },
   {
    "duration": 570,
    "start_time": "2023-04-18T18:19:29.711Z"
   },
   {
    "duration": 15,
    "start_time": "2023-04-18T18:19:30.283Z"
   },
   {
    "duration": 41,
    "start_time": "2023-04-18T18:19:30.300Z"
   },
   {
    "duration": 14,
    "start_time": "2023-04-18T18:19:30.343Z"
   },
   {
    "duration": 44,
    "start_time": "2023-04-18T18:19:30.359Z"
   },
   {
    "duration": 53,
    "start_time": "2023-04-18T18:19:30.406Z"
   },
   {
    "duration": 52,
    "start_time": "2023-04-18T18:19:30.460Z"
   },
   {
    "duration": 22,
    "start_time": "2023-04-18T18:19:30.513Z"
   },
   {
    "duration": 39,
    "start_time": "2023-04-18T18:19:30.536Z"
   },
   {
    "duration": 36,
    "start_time": "2023-04-18T18:19:30.577Z"
   },
   {
    "duration": 35,
    "start_time": "2023-04-18T18:19:30.615Z"
   },
   {
    "duration": 15,
    "start_time": "2023-04-18T18:19:30.651Z"
   },
   {
    "duration": 49,
    "start_time": "2023-04-18T18:19:30.668Z"
   },
   {
    "duration": 44,
    "start_time": "2023-04-18T18:19:30.719Z"
   },
   {
    "duration": 22,
    "start_time": "2023-04-18T18:19:30.765Z"
   },
   {
    "duration": 52,
    "start_time": "2023-04-18T18:19:30.789Z"
   },
   {
    "duration": 250,
    "start_time": "2023-04-18T18:19:30.843Z"
   },
   {
    "duration": 6,
    "start_time": "2023-04-18T18:19:31.095Z"
   },
   {
    "duration": 255,
    "start_time": "2023-04-18T18:19:31.102Z"
   },
   {
    "duration": 5,
    "start_time": "2023-04-18T18:19:31.359Z"
   },
   {
    "duration": 87,
    "start_time": "2023-04-20T05:28:09.291Z"
   },
   {
    "duration": 55,
    "start_time": "2023-04-20T05:29:44.584Z"
   },
   {
    "duration": 1370,
    "start_time": "2023-04-20T05:29:54.077Z"
   },
   {
    "duration": 113,
    "start_time": "2023-04-20T05:29:55.449Z"
   },
   {
    "duration": 8,
    "start_time": "2023-04-20T05:29:55.563Z"
   },
   {
    "duration": 31,
    "start_time": "2023-04-20T05:29:55.573Z"
   },
   {
    "duration": 21,
    "start_time": "2023-04-20T05:29:55.606Z"
   },
   {
    "duration": 23,
    "start_time": "2023-04-20T05:29:55.629Z"
   },
   {
    "duration": 13,
    "start_time": "2023-04-20T05:29:55.654Z"
   },
   {
    "duration": 14,
    "start_time": "2023-04-20T05:29:55.668Z"
   },
   {
    "duration": 38,
    "start_time": "2023-04-20T05:29:55.683Z"
   },
   {
    "duration": 19,
    "start_time": "2023-04-20T05:29:55.723Z"
   },
   {
    "duration": 20,
    "start_time": "2023-04-20T05:29:55.743Z"
   },
   {
    "duration": 7,
    "start_time": "2023-04-20T05:29:55.764Z"
   },
   {
    "duration": 6,
    "start_time": "2023-04-20T05:29:55.772Z"
   },
   {
    "duration": 19,
    "start_time": "2023-04-20T05:29:55.779Z"
   },
   {
    "duration": 1002,
    "start_time": "2023-04-20T05:29:55.799Z"
   },
   {
    "duration": 4,
    "start_time": "2023-04-20T05:29:56.803Z"
   },
   {
    "duration": 22,
    "start_time": "2023-04-20T05:29:56.808Z"
   },
   {
    "duration": 27,
    "start_time": "2023-04-20T05:29:56.832Z"
   },
   {
    "duration": 18,
    "start_time": "2023-04-20T05:29:56.860Z"
   },
   {
    "duration": 29,
    "start_time": "2023-04-20T05:29:56.879Z"
   },
   {
    "duration": 21,
    "start_time": "2023-04-20T05:29:56.910Z"
   },
   {
    "duration": 165,
    "start_time": "2023-04-20T05:29:56.933Z"
   },
   {
    "duration": 17,
    "start_time": "2023-04-20T05:29:57.100Z"
   },
   {
    "duration": 433,
    "start_time": "2023-04-20T05:29:57.119Z"
   },
   {
    "duration": 14,
    "start_time": "2023-04-20T05:29:57.554Z"
   },
   {
    "duration": 22,
    "start_time": "2023-04-20T05:29:57.570Z"
   },
   {
    "duration": 109,
    "start_time": "2023-04-20T05:29:57.594Z"
   },
   {
    "duration": 108,
    "start_time": "2023-04-20T05:29:57.707Z"
   },
   {
    "duration": 104,
    "start_time": "2023-04-20T05:29:57.817Z"
   },
   {
    "duration": 93,
    "start_time": "2023-04-20T05:29:57.922Z"
   },
   {
    "duration": 10,
    "start_time": "2023-04-20T05:29:58.017Z"
   },
   {
    "duration": 23,
    "start_time": "2023-04-20T05:29:58.028Z"
   },
   {
    "duration": 30,
    "start_time": "2023-04-20T05:29:58.053Z"
   },
   {
    "duration": 21,
    "start_time": "2023-04-20T05:29:58.084Z"
   },
   {
    "duration": 590,
    "start_time": "2023-04-20T05:29:58.106Z"
   },
   {
    "duration": 8,
    "start_time": "2023-04-20T05:29:58.697Z"
   },
   {
    "duration": 14,
    "start_time": "2023-04-20T05:29:58.706Z"
   },
   {
    "duration": 11,
    "start_time": "2023-04-20T05:29:58.722Z"
   },
   {
    "duration": 600,
    "start_time": "2023-04-20T05:29:58.734Z"
   },
   {
    "duration": 7,
    "start_time": "2023-04-20T05:29:59.336Z"
   },
   {
    "duration": 23,
    "start_time": "2023-04-20T05:29:59.349Z"
   },
   {
    "duration": 22,
    "start_time": "2023-04-20T05:29:59.374Z"
   },
   {
    "duration": 552,
    "start_time": "2023-04-20T05:29:59.398Z"
   },
   {
    "duration": 13,
    "start_time": "2023-04-20T05:29:59.952Z"
   },
   {
    "duration": 27,
    "start_time": "2023-04-20T05:29:59.966Z"
   },
   {
    "duration": 12,
    "start_time": "2023-04-20T05:29:59.995Z"
   },
   {
    "duration": 47,
    "start_time": "2023-04-20T05:30:00.008Z"
   },
   {
    "duration": 15,
    "start_time": "2023-04-20T05:30:00.057Z"
   },
   {
    "duration": 39,
    "start_time": "2023-04-20T05:30:00.073Z"
   },
   {
    "duration": 14,
    "start_time": "2023-04-20T05:30:00.114Z"
   },
   {
    "duration": 38,
    "start_time": "2023-04-20T05:30:00.130Z"
   },
   {
    "duration": 39,
    "start_time": "2023-04-20T05:30:00.169Z"
   },
   {
    "duration": 59,
    "start_time": "2023-04-20T05:30:00.209Z"
   },
   {
    "duration": 17,
    "start_time": "2023-04-20T05:30:00.270Z"
   },
   {
    "duration": 28,
    "start_time": "2023-04-20T05:30:00.288Z"
   },
   {
    "duration": 41,
    "start_time": "2023-04-20T05:30:00.317Z"
   },
   {
    "duration": 16,
    "start_time": "2023-04-20T05:30:00.360Z"
   },
   {
    "duration": 43,
    "start_time": "2023-04-20T05:30:00.377Z"
   },
   {
    "duration": 249,
    "start_time": "2023-04-20T05:30:00.422Z"
   },
   {
    "duration": 6,
    "start_time": "2023-04-20T05:30:00.672Z"
   },
   {
    "duration": 228,
    "start_time": "2023-04-20T05:30:00.679Z"
   },
   {
    "duration": 5,
    "start_time": "2023-04-20T05:30:00.909Z"
   },
   {
    "duration": 17,
    "start_time": "2023-04-20T05:32:50.327Z"
   },
   {
    "duration": 15,
    "start_time": "2023-04-20T05:33:16.713Z"
   },
   {
    "duration": 1118,
    "start_time": "2023-04-20T05:34:30.819Z"
   },
   {
    "duration": 70,
    "start_time": "2023-04-20T05:34:31.939Z"
   },
   {
    "duration": 7,
    "start_time": "2023-04-20T05:34:32.010Z"
   },
   {
    "duration": 25,
    "start_time": "2023-04-20T05:34:32.019Z"
   },
   {
    "duration": 24,
    "start_time": "2023-04-20T05:34:32.045Z"
   },
   {
    "duration": 8,
    "start_time": "2023-04-20T05:34:32.070Z"
   },
   {
    "duration": 38,
    "start_time": "2023-04-20T05:34:32.080Z"
   },
   {
    "duration": 22,
    "start_time": "2023-04-20T05:34:32.119Z"
   },
   {
    "duration": 28,
    "start_time": "2023-04-20T05:34:32.142Z"
   },
   {
    "duration": 19,
    "start_time": "2023-04-20T05:34:32.173Z"
   },
   {
    "duration": 19,
    "start_time": "2023-04-20T05:34:32.193Z"
   },
   {
    "duration": 7,
    "start_time": "2023-04-20T05:34:32.213Z"
   },
   {
    "duration": 25,
    "start_time": "2023-04-20T05:34:32.221Z"
   },
   {
    "duration": 37,
    "start_time": "2023-04-20T05:34:32.248Z"
   },
   {
    "duration": 983,
    "start_time": "2023-04-20T05:34:32.287Z"
   },
   {
    "duration": 5,
    "start_time": "2023-04-20T05:34:33.272Z"
   },
   {
    "duration": 21,
    "start_time": "2023-04-20T05:34:33.279Z"
   },
   {
    "duration": 17,
    "start_time": "2023-04-20T05:34:33.302Z"
   },
   {
    "duration": 41,
    "start_time": "2023-04-20T05:34:33.321Z"
   },
   {
    "duration": 26,
    "start_time": "2023-04-20T05:34:33.363Z"
   },
   {
    "duration": 14,
    "start_time": "2023-04-20T05:34:33.391Z"
   },
   {
    "duration": 185,
    "start_time": "2023-04-20T05:34:33.407Z"
   },
   {
    "duration": 15,
    "start_time": "2023-04-20T05:34:33.594Z"
   },
   {
    "duration": 424,
    "start_time": "2023-04-20T05:34:33.610Z"
   },
   {
    "duration": 18,
    "start_time": "2023-04-20T05:34:34.036Z"
   },
   {
    "duration": 16,
    "start_time": "2023-04-20T05:34:34.055Z"
   },
   {
    "duration": 106,
    "start_time": "2023-04-20T05:34:34.072Z"
   },
   {
    "duration": 103,
    "start_time": "2023-04-20T05:34:34.181Z"
   },
   {
    "duration": 107,
    "start_time": "2023-04-20T05:34:34.285Z"
   },
   {
    "duration": 108,
    "start_time": "2023-04-20T05:34:34.393Z"
   },
   {
    "duration": 13,
    "start_time": "2023-04-20T05:34:34.503Z"
   },
   {
    "duration": 26,
    "start_time": "2023-04-20T05:34:34.518Z"
   },
   {
    "duration": 24,
    "start_time": "2023-04-20T05:34:34.546Z"
   },
   {
    "duration": 18,
    "start_time": "2023-04-20T05:34:34.573Z"
   },
   {
    "duration": 599,
    "start_time": "2023-04-20T05:34:34.593Z"
   },
   {
    "duration": 8,
    "start_time": "2023-04-20T05:34:35.194Z"
   },
   {
    "duration": 13,
    "start_time": "2023-04-20T05:34:35.203Z"
   },
   {
    "duration": 19,
    "start_time": "2023-04-20T05:34:35.217Z"
   },
   {
    "duration": 605,
    "start_time": "2023-04-20T05:34:35.238Z"
   },
   {
    "duration": 9,
    "start_time": "2023-04-20T05:34:35.845Z"
   },
   {
    "duration": 12,
    "start_time": "2023-04-20T05:34:35.856Z"
   },
   {
    "duration": 10,
    "start_time": "2023-04-20T05:34:35.870Z"
   },
   {
    "duration": 524,
    "start_time": "2023-04-20T05:34:35.881Z"
   },
   {
    "duration": 14,
    "start_time": "2023-04-20T05:34:36.407Z"
   },
   {
    "duration": 39,
    "start_time": "2023-04-20T05:34:36.423Z"
   },
   {
    "duration": 13,
    "start_time": "2023-04-20T05:34:36.464Z"
   },
   {
    "duration": 20,
    "start_time": "2023-04-20T05:34:36.479Z"
   },
   {
    "duration": 12,
    "start_time": "2023-04-20T05:34:36.501Z"
   },
   {
    "duration": 43,
    "start_time": "2023-04-20T05:34:36.514Z"
   },
   {
    "duration": 13,
    "start_time": "2023-04-20T05:34:36.559Z"
   },
   {
    "duration": 19,
    "start_time": "2023-04-20T05:34:36.574Z"
   },
   {
    "duration": 12,
    "start_time": "2023-04-20T05:34:36.595Z"
   },
   {
    "duration": 43,
    "start_time": "2023-04-20T05:34:36.609Z"
   },
   {
    "duration": 13,
    "start_time": "2023-04-20T05:34:36.654Z"
   },
   {
    "duration": 13,
    "start_time": "2023-04-20T05:34:36.668Z"
   },
   {
    "duration": 16,
    "start_time": "2023-04-20T05:34:36.683Z"
   },
   {
    "duration": 7,
    "start_time": "2023-04-20T05:34:36.701Z"
   },
   {
    "duration": 12,
    "start_time": "2023-04-20T05:34:36.709Z"
   },
   {
    "duration": 196,
    "start_time": "2023-04-20T05:34:36.748Z"
   },
   {
    "duration": 5,
    "start_time": "2023-04-20T05:34:36.948Z"
   },
   {
    "duration": 195,
    "start_time": "2023-04-20T05:34:36.954Z"
   },
   {
    "duration": 5,
    "start_time": "2023-04-20T05:34:37.151Z"
   },
   {
    "duration": 136,
    "start_time": "2023-04-20T05:35:54.430Z"
   },
   {
    "duration": 13,
    "start_time": "2023-04-20T05:36:03.231Z"
   },
   {
    "duration": 5,
    "start_time": "2023-04-20T05:37:59.946Z"
   },
   {
    "duration": 5,
    "start_time": "2023-04-20T05:39:11.265Z"
   },
   {
    "duration": 7,
    "start_time": "2023-04-20T05:39:53.200Z"
   },
   {
    "duration": 4,
    "start_time": "2023-04-20T05:40:02.944Z"
   },
   {
    "duration": 5,
    "start_time": "2023-04-20T05:40:14.030Z"
   },
   {
    "duration": 12,
    "start_time": "2023-04-20T05:40:58.295Z"
   },
   {
    "duration": 19,
    "start_time": "2023-04-20T05:44:08.295Z"
   },
   {
    "duration": 17,
    "start_time": "2023-04-20T05:45:52.632Z"
   },
   {
    "duration": 13,
    "start_time": "2023-04-20T05:47:56.732Z"
   },
   {
    "duration": 17,
    "start_time": "2023-04-20T05:48:24.878Z"
   },
   {
    "duration": 17,
    "start_time": "2023-04-20T05:48:47.414Z"
   },
   {
    "duration": 17,
    "start_time": "2023-04-20T05:49:08.282Z"
   },
   {
    "duration": 11,
    "start_time": "2023-04-20T05:52:21.095Z"
   },
   {
    "duration": 9,
    "start_time": "2023-04-20T05:52:33.997Z"
   },
   {
    "duration": 1092,
    "start_time": "2023-04-20T05:52:48.077Z"
   },
   {
    "duration": 71,
    "start_time": "2023-04-20T05:52:49.171Z"
   },
   {
    "duration": 9,
    "start_time": "2023-04-20T05:52:49.243Z"
   },
   {
    "duration": 1290,
    "start_time": "2023-04-20T05:52:49.253Z"
   },
   {
    "duration": 0,
    "start_time": "2023-04-20T05:52:50.546Z"
   },
   {
    "duration": 0,
    "start_time": "2023-04-20T05:52:50.547Z"
   },
   {
    "duration": 0,
    "start_time": "2023-04-20T05:52:50.548Z"
   },
   {
    "duration": 0,
    "start_time": "2023-04-20T05:52:50.549Z"
   },
   {
    "duration": 0,
    "start_time": "2023-04-20T05:52:50.550Z"
   },
   {
    "duration": 0,
    "start_time": "2023-04-20T05:52:50.551Z"
   },
   {
    "duration": 0,
    "start_time": "2023-04-20T05:52:50.552Z"
   },
   {
    "duration": 0,
    "start_time": "2023-04-20T05:52:50.553Z"
   },
   {
    "duration": 0,
    "start_time": "2023-04-20T05:52:50.554Z"
   },
   {
    "duration": 0,
    "start_time": "2023-04-20T05:52:50.555Z"
   },
   {
    "duration": 0,
    "start_time": "2023-04-20T05:52:50.556Z"
   },
   {
    "duration": 0,
    "start_time": "2023-04-20T05:52:50.557Z"
   },
   {
    "duration": 0,
    "start_time": "2023-04-20T05:52:50.558Z"
   },
   {
    "duration": 0,
    "start_time": "2023-04-20T05:52:50.559Z"
   },
   {
    "duration": 0,
    "start_time": "2023-04-20T05:52:50.560Z"
   },
   {
    "duration": 0,
    "start_time": "2023-04-20T05:52:50.561Z"
   },
   {
    "duration": 0,
    "start_time": "2023-04-20T05:52:50.562Z"
   },
   {
    "duration": 0,
    "start_time": "2023-04-20T05:52:50.563Z"
   },
   {
    "duration": 0,
    "start_time": "2023-04-20T05:52:50.564Z"
   },
   {
    "duration": 0,
    "start_time": "2023-04-20T05:52:50.564Z"
   },
   {
    "duration": 0,
    "start_time": "2023-04-20T05:52:50.565Z"
   },
   {
    "duration": 0,
    "start_time": "2023-04-20T05:52:50.566Z"
   },
   {
    "duration": 0,
    "start_time": "2023-04-20T05:52:50.567Z"
   },
   {
    "duration": 0,
    "start_time": "2023-04-20T05:52:50.568Z"
   },
   {
    "duration": 0,
    "start_time": "2023-04-20T05:52:50.569Z"
   },
   {
    "duration": 0,
    "start_time": "2023-04-20T05:52:50.570Z"
   },
   {
    "duration": 0,
    "start_time": "2023-04-20T05:52:50.571Z"
   },
   {
    "duration": 0,
    "start_time": "2023-04-20T05:52:50.572Z"
   },
   {
    "duration": 0,
    "start_time": "2023-04-20T05:52:50.573Z"
   },
   {
    "duration": 0,
    "start_time": "2023-04-20T05:52:50.574Z"
   },
   {
    "duration": 0,
    "start_time": "2023-04-20T05:52:50.575Z"
   },
   {
    "duration": 0,
    "start_time": "2023-04-20T05:52:50.576Z"
   },
   {
    "duration": 0,
    "start_time": "2023-04-20T05:52:50.577Z"
   },
   {
    "duration": 0,
    "start_time": "2023-04-20T05:52:50.577Z"
   },
   {
    "duration": 0,
    "start_time": "2023-04-20T05:52:50.578Z"
   },
   {
    "duration": 0,
    "start_time": "2023-04-20T05:52:50.579Z"
   },
   {
    "duration": 0,
    "start_time": "2023-04-20T05:52:50.580Z"
   },
   {
    "duration": 0,
    "start_time": "2023-04-20T05:52:50.581Z"
   },
   {
    "duration": 0,
    "start_time": "2023-04-20T05:52:50.582Z"
   },
   {
    "duration": 0,
    "start_time": "2023-04-20T05:52:50.583Z"
   },
   {
    "duration": 0,
    "start_time": "2023-04-20T05:52:50.584Z"
   },
   {
    "duration": 0,
    "start_time": "2023-04-20T05:52:50.585Z"
   },
   {
    "duration": 0,
    "start_time": "2023-04-20T05:52:50.586Z"
   },
   {
    "duration": 0,
    "start_time": "2023-04-20T05:52:50.648Z"
   },
   {
    "duration": 0,
    "start_time": "2023-04-20T05:52:50.649Z"
   },
   {
    "duration": 0,
    "start_time": "2023-04-20T05:52:50.650Z"
   },
   {
    "duration": 0,
    "start_time": "2023-04-20T05:52:50.651Z"
   },
   {
    "duration": 0,
    "start_time": "2023-04-20T05:52:50.652Z"
   },
   {
    "duration": 0,
    "start_time": "2023-04-20T05:52:50.653Z"
   },
   {
    "duration": 0,
    "start_time": "2023-04-20T05:52:50.653Z"
   },
   {
    "duration": 0,
    "start_time": "2023-04-20T05:52:50.654Z"
   },
   {
    "duration": 0,
    "start_time": "2023-04-20T05:52:50.655Z"
   },
   {
    "duration": 0,
    "start_time": "2023-04-20T05:52:50.656Z"
   },
   {
    "duration": 0,
    "start_time": "2023-04-20T05:52:50.656Z"
   },
   {
    "duration": 0,
    "start_time": "2023-04-20T05:52:50.657Z"
   },
   {
    "duration": 0,
    "start_time": "2023-04-20T05:52:50.658Z"
   },
   {
    "duration": 0,
    "start_time": "2023-04-20T05:52:50.659Z"
   },
   {
    "duration": 0,
    "start_time": "2023-04-20T05:52:50.660Z"
   },
   {
    "duration": 0,
    "start_time": "2023-04-20T05:52:50.661Z"
   },
   {
    "duration": 0,
    "start_time": "2023-04-20T05:52:50.662Z"
   },
   {
    "duration": 0,
    "start_time": "2023-04-20T05:52:50.663Z"
   },
   {
    "duration": 0,
    "start_time": "2023-04-20T05:52:50.664Z"
   },
   {
    "duration": 1223,
    "start_time": "2023-04-20T05:53:08.436Z"
   },
   {
    "duration": 6,
    "start_time": "2023-04-20T05:53:24.153Z"
   },
   {
    "duration": 1171,
    "start_time": "2023-04-20T05:53:43.065Z"
   },
   {
    "duration": 11,
    "start_time": "2023-04-20T05:53:51.101Z"
   },
   {
    "duration": 12,
    "start_time": "2023-04-20T05:54:02.671Z"
   },
   {
    "duration": 17,
    "start_time": "2023-04-20T05:54:27.187Z"
   },
   {
    "duration": 17,
    "start_time": "2023-04-20T05:54:42.458Z"
   },
   {
    "duration": 12,
    "start_time": "2023-04-20T05:59:36.002Z"
   },
   {
    "duration": 78,
    "start_time": "2023-04-20T06:03:27.718Z"
   },
   {
    "duration": 31,
    "start_time": "2023-04-20T06:04:54.554Z"
   },
   {
    "duration": 25,
    "start_time": "2023-04-20T06:05:18.395Z"
   },
   {
    "duration": 30,
    "start_time": "2023-04-20T06:05:34.792Z"
   },
   {
    "duration": 1177,
    "start_time": "2023-04-20T06:06:12.265Z"
   },
   {
    "duration": 73,
    "start_time": "2023-04-20T06:06:13.443Z"
   },
   {
    "duration": 8,
    "start_time": "2023-04-20T06:06:13.518Z"
   },
   {
    "duration": 9,
    "start_time": "2023-04-20T06:06:13.528Z"
   },
   {
    "duration": 16,
    "start_time": "2023-04-20T06:06:13.538Z"
   },
   {
    "duration": 23,
    "start_time": "2023-04-20T06:06:13.556Z"
   },
   {
    "duration": 135,
    "start_time": "2023-04-20T06:06:13.580Z"
   },
   {
    "duration": 12,
    "start_time": "2023-04-20T06:06:13.716Z"
   },
   {
    "duration": 28,
    "start_time": "2023-04-20T06:06:13.730Z"
   },
   {
    "duration": 26,
    "start_time": "2023-04-20T06:06:13.761Z"
   },
   {
    "duration": 8,
    "start_time": "2023-04-20T06:06:13.788Z"
   },
   {
    "duration": 14,
    "start_time": "2023-04-20T06:06:13.797Z"
   },
   {
    "duration": 15,
    "start_time": "2023-04-20T06:06:13.812Z"
   },
   {
    "duration": 34,
    "start_time": "2023-04-20T06:06:13.828Z"
   },
   {
    "duration": 20,
    "start_time": "2023-04-20T06:06:13.863Z"
   },
   {
    "duration": 26,
    "start_time": "2023-04-20T06:06:13.884Z"
   },
   {
    "duration": 6,
    "start_time": "2023-04-20T06:06:13.912Z"
   },
   {
    "duration": 19,
    "start_time": "2023-04-20T06:06:13.920Z"
   },
   {
    "duration": 22,
    "start_time": "2023-04-20T06:06:13.949Z"
   },
   {
    "duration": 1046,
    "start_time": "2023-04-20T06:06:13.973Z"
   },
   {
    "duration": 5,
    "start_time": "2023-04-20T06:06:15.021Z"
   },
   {
    "duration": 30,
    "start_time": "2023-04-20T06:06:15.027Z"
   },
   {
    "duration": 48,
    "start_time": "2023-04-20T06:06:15.059Z"
   },
   {
    "duration": 22,
    "start_time": "2023-04-20T06:06:15.108Z"
   },
   {
    "duration": 45,
    "start_time": "2023-04-20T06:06:15.132Z"
   },
   {
    "duration": 23,
    "start_time": "2023-04-20T06:06:15.179Z"
   },
   {
    "duration": 185,
    "start_time": "2023-04-20T06:06:15.205Z"
   },
   {
    "duration": 18,
    "start_time": "2023-04-20T06:06:15.395Z"
   },
   {
    "duration": 481,
    "start_time": "2023-04-20T06:06:15.415Z"
   },
   {
    "duration": 13,
    "start_time": "2023-04-20T06:06:15.898Z"
   },
   {
    "duration": 17,
    "start_time": "2023-04-20T06:06:15.913Z"
   },
   {
    "duration": 121,
    "start_time": "2023-04-20T06:06:15.932Z"
   },
   {
    "duration": 117,
    "start_time": "2023-04-20T06:06:16.055Z"
   },
   {
    "duration": 114,
    "start_time": "2023-04-20T06:06:16.174Z"
   },
   {
    "duration": 106,
    "start_time": "2023-04-20T06:06:16.290Z"
   },
   {
    "duration": 13,
    "start_time": "2023-04-20T06:06:16.397Z"
   },
   {
    "duration": 15,
    "start_time": "2023-04-20T06:06:16.411Z"
   },
   {
    "duration": 24,
    "start_time": "2023-04-20T06:06:16.428Z"
   },
   {
    "duration": 9,
    "start_time": "2023-04-20T06:06:16.453Z"
   },
   {
    "duration": 632,
    "start_time": "2023-04-20T06:06:16.464Z"
   },
   {
    "duration": 9,
    "start_time": "2023-04-20T06:06:17.098Z"
   },
   {
    "duration": 19,
    "start_time": "2023-04-20T06:06:17.109Z"
   },
   {
    "duration": 8,
    "start_time": "2023-04-20T06:06:17.129Z"
   },
   {
    "duration": 659,
    "start_time": "2023-04-20T06:06:17.139Z"
   },
   {
    "duration": 9,
    "start_time": "2023-04-20T06:06:17.800Z"
   },
   {
    "duration": 21,
    "start_time": "2023-04-20T06:06:17.811Z"
   },
   {
    "duration": 17,
    "start_time": "2023-04-20T06:06:17.833Z"
   },
   {
    "duration": 558,
    "start_time": "2023-04-20T06:06:17.852Z"
   },
   {
    "duration": 14,
    "start_time": "2023-04-20T06:06:18.412Z"
   },
   {
    "duration": 43,
    "start_time": "2023-04-20T06:06:18.427Z"
   },
   {
    "duration": 15,
    "start_time": "2023-04-20T06:06:18.472Z"
   },
   {
    "duration": 23,
    "start_time": "2023-04-20T06:06:18.489Z"
   },
   {
    "duration": 12,
    "start_time": "2023-04-20T06:06:18.514Z"
   },
   {
    "duration": 43,
    "start_time": "2023-04-20T06:06:18.527Z"
   },
   {
    "duration": 14,
    "start_time": "2023-04-20T06:06:18.572Z"
   },
   {
    "duration": 21,
    "start_time": "2023-04-20T06:06:18.588Z"
   },
   {
    "duration": 44,
    "start_time": "2023-04-20T06:06:18.611Z"
   },
   {
    "duration": 33,
    "start_time": "2023-04-20T06:06:18.657Z"
   },
   {
    "duration": 17,
    "start_time": "2023-04-20T06:06:18.692Z"
   },
   {
    "duration": 14,
    "start_time": "2023-04-20T06:06:18.710Z"
   },
   {
    "duration": 13,
    "start_time": "2023-04-20T06:06:18.726Z"
   },
   {
    "duration": 6,
    "start_time": "2023-04-20T06:06:18.749Z"
   },
   {
    "duration": 11,
    "start_time": "2023-04-20T06:06:18.757Z"
   },
   {
    "duration": 201,
    "start_time": "2023-04-20T06:06:18.769Z"
   },
   {
    "duration": 6,
    "start_time": "2023-04-20T06:06:18.971Z"
   },
   {
    "duration": 217,
    "start_time": "2023-04-20T06:06:18.978Z"
   },
   {
    "duration": 5,
    "start_time": "2023-04-20T06:06:19.196Z"
   },
   {
    "duration": 10,
    "start_time": "2023-04-20T06:07:36.920Z"
   },
   {
    "duration": 32,
    "start_time": "2023-04-20T06:07:43.372Z"
   },
   {
    "duration": 1146,
    "start_time": "2023-04-20T06:07:52.047Z"
   },
   {
    "duration": 81,
    "start_time": "2023-04-20T06:07:53.195Z"
   },
   {
    "duration": 10,
    "start_time": "2023-04-20T06:07:53.277Z"
   },
   {
    "duration": 37,
    "start_time": "2023-04-20T06:07:53.290Z"
   },
   {
    "duration": 31,
    "start_time": "2023-04-20T06:07:53.328Z"
   },
   {
    "duration": 45,
    "start_time": "2023-04-20T06:07:53.360Z"
   },
   {
    "duration": 17,
    "start_time": "2023-04-20T06:07:53.406Z"
   },
   {
    "duration": 35,
    "start_time": "2023-04-20T06:07:53.425Z"
   },
   {
    "duration": 30,
    "start_time": "2023-04-20T06:07:53.462Z"
   },
   {
    "duration": 23,
    "start_time": "2023-04-20T06:07:53.496Z"
   },
   {
    "duration": 29,
    "start_time": "2023-04-20T06:07:53.521Z"
   },
   {
    "duration": 13,
    "start_time": "2023-04-20T06:07:53.551Z"
   },
   {
    "duration": 24,
    "start_time": "2023-04-20T06:07:53.565Z"
   },
   {
    "duration": 20,
    "start_time": "2023-04-20T06:07:53.591Z"
   },
   {
    "duration": 20,
    "start_time": "2023-04-20T06:07:53.613Z"
   },
   {
    "duration": 35,
    "start_time": "2023-04-20T06:07:53.634Z"
   },
   {
    "duration": 6,
    "start_time": "2023-04-20T06:07:53.670Z"
   },
   {
    "duration": 5,
    "start_time": "2023-04-20T06:07:53.678Z"
   },
   {
    "duration": 20,
    "start_time": "2023-04-20T06:07:53.684Z"
   },
   {
    "duration": 1069,
    "start_time": "2023-04-20T06:07:53.705Z"
   },
   {
    "duration": 4,
    "start_time": "2023-04-20T06:07:54.776Z"
   },
   {
    "duration": 19,
    "start_time": "2023-04-20T06:07:54.782Z"
   },
   {
    "duration": 17,
    "start_time": "2023-04-20T06:07:54.802Z"
   },
   {
    "duration": 32,
    "start_time": "2023-04-20T06:07:54.820Z"
   },
   {
    "duration": 34,
    "start_time": "2023-04-20T06:07:54.853Z"
   },
   {
    "duration": 14,
    "start_time": "2023-04-20T06:07:54.888Z"
   },
   {
    "duration": 173,
    "start_time": "2023-04-20T06:07:54.904Z"
   },
   {
    "duration": 16,
    "start_time": "2023-04-20T06:07:55.082Z"
   },
   {
    "duration": 452,
    "start_time": "2023-04-20T06:07:55.100Z"
   },
   {
    "duration": 14,
    "start_time": "2023-04-20T06:07:55.554Z"
   },
   {
    "duration": 18,
    "start_time": "2023-04-20T06:07:55.570Z"
   },
   {
    "duration": 119,
    "start_time": "2023-04-20T06:07:55.590Z"
   },
   {
    "duration": 110,
    "start_time": "2023-04-20T06:07:55.711Z"
   },
   {
    "duration": 107,
    "start_time": "2023-04-20T06:07:55.823Z"
   },
   {
    "duration": 98,
    "start_time": "2023-04-20T06:07:55.932Z"
   },
   {
    "duration": 21,
    "start_time": "2023-04-20T06:07:56.032Z"
   },
   {
    "duration": 16,
    "start_time": "2023-04-20T06:07:56.055Z"
   },
   {
    "duration": 26,
    "start_time": "2023-04-20T06:07:56.072Z"
   },
   {
    "duration": 9,
    "start_time": "2023-04-20T06:07:56.100Z"
   },
   {
    "duration": 606,
    "start_time": "2023-04-20T06:07:56.110Z"
   },
   {
    "duration": 9,
    "start_time": "2023-04-20T06:07:56.718Z"
   },
   {
    "duration": 14,
    "start_time": "2023-04-20T06:07:56.728Z"
   },
   {
    "duration": 13,
    "start_time": "2023-04-20T06:07:56.744Z"
   },
   {
    "duration": 621,
    "start_time": "2023-04-20T06:07:56.758Z"
   },
   {
    "duration": 8,
    "start_time": "2023-04-20T06:07:57.380Z"
   },
   {
    "duration": 24,
    "start_time": "2023-04-20T06:07:57.390Z"
   },
   {
    "duration": 10,
    "start_time": "2023-04-20T06:07:57.415Z"
   },
   {
    "duration": 520,
    "start_time": "2023-04-20T06:07:57.427Z"
   },
   {
    "duration": 15,
    "start_time": "2023-04-20T06:07:57.948Z"
   },
   {
    "duration": 27,
    "start_time": "2023-04-20T06:07:57.964Z"
   },
   {
    "duration": 12,
    "start_time": "2023-04-20T06:07:57.992Z"
   },
   {
    "duration": 22,
    "start_time": "2023-04-20T06:07:58.006Z"
   },
   {
    "duration": 30,
    "start_time": "2023-04-20T06:07:58.029Z"
   },
   {
    "duration": 35,
    "start_time": "2023-04-20T06:07:58.060Z"
   },
   {
    "duration": 16,
    "start_time": "2023-04-20T06:07:58.097Z"
   },
   {
    "duration": 22,
    "start_time": "2023-04-20T06:07:58.115Z"
   },
   {
    "duration": 19,
    "start_time": "2023-04-20T06:07:58.138Z"
   },
   {
    "duration": 24,
    "start_time": "2023-04-20T06:07:58.158Z"
   },
   {
    "duration": 16,
    "start_time": "2023-04-20T06:07:58.183Z"
   },
   {
    "duration": 28,
    "start_time": "2023-04-20T06:07:58.200Z"
   },
   {
    "duration": 19,
    "start_time": "2023-04-20T06:07:58.230Z"
   },
   {
    "duration": 9,
    "start_time": "2023-04-20T06:07:58.251Z"
   },
   {
    "duration": 13,
    "start_time": "2023-04-20T06:07:58.262Z"
   },
   {
    "duration": 205,
    "start_time": "2023-04-20T06:07:58.277Z"
   },
   {
    "duration": 5,
    "start_time": "2023-04-20T06:07:58.484Z"
   },
   {
    "duration": 196,
    "start_time": "2023-04-20T06:07:58.490Z"
   },
   {
    "duration": 5,
    "start_time": "2023-04-20T06:07:58.688Z"
   },
   {
    "duration": 9,
    "start_time": "2023-04-20T06:09:16.473Z"
   },
   {
    "duration": 1050,
    "start_time": "2023-04-20T06:09:25.595Z"
   },
   {
    "duration": 72,
    "start_time": "2023-04-20T06:09:26.647Z"
   },
   {
    "duration": 9,
    "start_time": "2023-04-20T06:09:26.720Z"
   },
   {
    "duration": 21,
    "start_time": "2023-04-20T06:09:26.730Z"
   },
   {
    "duration": 34,
    "start_time": "2023-04-20T06:09:26.753Z"
   },
   {
    "duration": 40,
    "start_time": "2023-04-20T06:09:26.789Z"
   },
   {
    "duration": 14,
    "start_time": "2023-04-20T06:09:26.830Z"
   },
   {
    "duration": 30,
    "start_time": "2023-04-20T06:09:26.846Z"
   },
   {
    "duration": 27,
    "start_time": "2023-04-20T06:09:26.878Z"
   },
   {
    "duration": 23,
    "start_time": "2023-04-20T06:09:26.906Z"
   },
   {
    "duration": 9,
    "start_time": "2023-04-20T06:09:26.930Z"
   },
   {
    "duration": 23,
    "start_time": "2023-04-20T06:09:26.940Z"
   },
   {
    "duration": 26,
    "start_time": "2023-04-20T06:09:26.965Z"
   },
   {
    "duration": 14,
    "start_time": "2023-04-20T06:09:26.995Z"
   },
   {
    "duration": 29,
    "start_time": "2023-04-20T06:09:27.010Z"
   },
   {
    "duration": 28,
    "start_time": "2023-04-20T06:09:27.041Z"
   },
   {
    "duration": 20,
    "start_time": "2023-04-20T06:09:27.071Z"
   },
   {
    "duration": 23,
    "start_time": "2023-04-20T06:09:27.092Z"
   },
   {
    "duration": 28,
    "start_time": "2023-04-20T06:09:27.116Z"
   },
   {
    "duration": 986,
    "start_time": "2023-04-20T06:09:27.145Z"
   },
   {
    "duration": 4,
    "start_time": "2023-04-20T06:09:28.132Z"
   },
   {
    "duration": 18,
    "start_time": "2023-04-20T06:09:28.137Z"
   },
   {
    "duration": 14,
    "start_time": "2023-04-20T06:09:28.156Z"
   },
   {
    "duration": 17,
    "start_time": "2023-04-20T06:09:28.171Z"
   },
   {
    "duration": 18,
    "start_time": "2023-04-20T06:09:28.190Z"
   },
   {
    "duration": 40,
    "start_time": "2023-04-20T06:09:28.210Z"
   },
   {
    "duration": 165,
    "start_time": "2023-04-20T06:09:28.251Z"
   },
   {
    "duration": 15,
    "start_time": "2023-04-20T06:09:28.418Z"
   },
   {
    "duration": 431,
    "start_time": "2023-04-20T06:09:28.434Z"
   },
   {
    "duration": 13,
    "start_time": "2023-04-20T06:09:28.867Z"
   },
   {
    "duration": 17,
    "start_time": "2023-04-20T06:09:28.881Z"
   },
   {
    "duration": 107,
    "start_time": "2023-04-20T06:09:28.899Z"
   },
   {
    "duration": 112,
    "start_time": "2023-04-20T06:09:29.007Z"
   },
   {
    "duration": 107,
    "start_time": "2023-04-20T06:09:29.121Z"
   },
   {
    "duration": 92,
    "start_time": "2023-04-20T06:09:29.229Z"
   },
   {
    "duration": 10,
    "start_time": "2023-04-20T06:09:29.323Z"
   },
   {
    "duration": 21,
    "start_time": "2023-04-20T06:09:29.334Z"
   },
   {
    "duration": 16,
    "start_time": "2023-04-20T06:09:29.357Z"
   },
   {
    "duration": 10,
    "start_time": "2023-04-20T06:09:29.374Z"
   },
   {
    "duration": 602,
    "start_time": "2023-04-20T06:09:29.386Z"
   },
   {
    "duration": 8,
    "start_time": "2023-04-20T06:09:29.992Z"
   },
   {
    "duration": 39,
    "start_time": "2023-04-20T06:09:30.001Z"
   },
   {
    "duration": 28,
    "start_time": "2023-04-20T06:09:30.042Z"
   },
   {
    "duration": 619,
    "start_time": "2023-04-20T06:09:30.073Z"
   },
   {
    "duration": 9,
    "start_time": "2023-04-20T06:09:30.694Z"
   },
   {
    "duration": 41,
    "start_time": "2023-04-20T06:09:30.705Z"
   },
   {
    "duration": 40,
    "start_time": "2023-04-20T06:09:30.747Z"
   },
   {
    "duration": 572,
    "start_time": "2023-04-20T06:09:30.788Z"
   },
   {
    "duration": 14,
    "start_time": "2023-04-20T06:09:31.362Z"
   },
   {
    "duration": 56,
    "start_time": "2023-04-20T06:09:31.378Z"
   },
   {
    "duration": 30,
    "start_time": "2023-04-20T06:09:31.435Z"
   },
   {
    "duration": 45,
    "start_time": "2023-04-20T06:09:31.466Z"
   },
   {
    "duration": 32,
    "start_time": "2023-04-20T06:09:31.513Z"
   },
   {
    "duration": 53,
    "start_time": "2023-04-20T06:09:31.547Z"
   },
   {
    "duration": 36,
    "start_time": "2023-04-20T06:09:31.602Z"
   },
   {
    "duration": 48,
    "start_time": "2023-04-20T06:09:31.640Z"
   },
   {
    "duration": 34,
    "start_time": "2023-04-20T06:09:31.690Z"
   },
   {
    "duration": 43,
    "start_time": "2023-04-20T06:09:31.726Z"
   },
   {
    "duration": 12,
    "start_time": "2023-04-20T06:09:31.771Z"
   },
   {
    "duration": 30,
    "start_time": "2023-04-20T06:09:31.784Z"
   },
   {
    "duration": 25,
    "start_time": "2023-04-20T06:09:31.815Z"
   },
   {
    "duration": 35,
    "start_time": "2023-04-20T06:09:31.841Z"
   },
   {
    "duration": 47,
    "start_time": "2023-04-20T06:09:31.877Z"
   },
   {
    "duration": 221,
    "start_time": "2023-04-20T06:09:31.925Z"
   },
   {
    "duration": 6,
    "start_time": "2023-04-20T06:09:32.148Z"
   },
   {
    "duration": 220,
    "start_time": "2023-04-20T06:09:32.155Z"
   },
   {
    "duration": 5,
    "start_time": "2023-04-20T06:09:32.377Z"
   },
   {
    "duration": 90,
    "start_time": "2023-04-20T09:46:57.454Z"
   },
   {
    "duration": 134,
    "start_time": "2023-04-20T10:29:30.999Z"
   },
   {
    "duration": 23,
    "start_time": "2023-04-20T10:29:50.310Z"
   },
   {
    "duration": 22,
    "start_time": "2023-04-20T10:30:24.980Z"
   },
   {
    "duration": 171,
    "start_time": "2023-04-20T10:51:45.432Z"
   },
   {
    "duration": 233,
    "start_time": "2023-04-20T10:52:03.915Z"
   },
   {
    "duration": 148,
    "start_time": "2023-04-20T10:52:11.430Z"
   },
   {
    "duration": 152,
    "start_time": "2023-04-20T10:52:50.697Z"
   },
   {
    "duration": 158,
    "start_time": "2023-04-20T10:53:41.893Z"
   },
   {
    "duration": 188,
    "start_time": "2023-04-20T10:53:54.568Z"
   },
   {
    "duration": 154,
    "start_time": "2023-04-20T10:54:10.096Z"
   },
   {
    "duration": 166,
    "start_time": "2023-04-20T10:56:32.111Z"
   },
   {
    "duration": 160,
    "start_time": "2023-04-20T10:56:48.193Z"
   },
   {
    "duration": 176,
    "start_time": "2023-04-20T11:00:15.585Z"
   },
   {
    "duration": 178,
    "start_time": "2023-04-20T11:00:45.797Z"
   },
   {
    "duration": 162,
    "start_time": "2023-04-20T11:01:06.380Z"
   },
   {
    "duration": 169,
    "start_time": "2023-04-20T11:02:41.815Z"
   },
   {
    "duration": 252,
    "start_time": "2023-04-20T11:06:36.117Z"
   },
   {
    "duration": 170,
    "start_time": "2023-04-20T11:10:08.450Z"
   },
   {
    "duration": 167,
    "start_time": "2023-04-20T11:10:22.693Z"
   },
   {
    "duration": 174,
    "start_time": "2023-04-20T11:58:41.760Z"
   },
   {
    "duration": 175,
    "start_time": "2023-04-20T12:00:01.969Z"
   },
   {
    "duration": 170,
    "start_time": "2023-04-20T12:00:09.955Z"
   },
   {
    "duration": 241,
    "start_time": "2023-04-20T12:01:10.865Z"
   },
   {
    "duration": 173,
    "start_time": "2023-04-20T12:01:19.484Z"
   },
   {
    "duration": 248,
    "start_time": "2023-04-20T12:03:19.308Z"
   },
   {
    "duration": 169,
    "start_time": "2023-04-20T12:03:46.533Z"
   },
   {
    "duration": 237,
    "start_time": "2023-04-20T12:04:34.422Z"
   },
   {
    "duration": 309,
    "start_time": "2023-04-20T12:05:32.031Z"
   },
   {
    "duration": 250,
    "start_time": "2023-04-20T12:06:47.631Z"
   },
   {
    "duration": 261,
    "start_time": "2023-04-20T12:07:09.781Z"
   },
   {
    "duration": 237,
    "start_time": "2023-04-20T12:07:23.915Z"
   },
   {
    "duration": 236,
    "start_time": "2023-04-20T12:08:08.625Z"
   },
   {
    "duration": 232,
    "start_time": "2023-04-20T12:09:01.832Z"
   },
   {
    "duration": 480,
    "start_time": "2023-04-20T12:14:56.925Z"
   },
   {
    "duration": 550,
    "start_time": "2023-04-20T12:16:14.770Z"
   },
   {
    "duration": 464,
    "start_time": "2023-04-20T12:16:40.418Z"
   },
   {
    "duration": 504,
    "start_time": "2023-04-20T12:16:49.463Z"
   },
   {
    "duration": 264,
    "start_time": "2023-04-20T12:24:24.166Z"
   },
   {
    "duration": 176,
    "start_time": "2023-04-20T12:24:42.510Z"
   },
   {
    "duration": 186,
    "start_time": "2023-04-20T12:25:05.160Z"
   },
   {
    "duration": 179,
    "start_time": "2023-04-20T12:25:23.764Z"
   },
   {
    "duration": 175,
    "start_time": "2023-04-20T12:28:42.981Z"
   },
   {
    "duration": 167,
    "start_time": "2023-04-20T12:29:07.006Z"
   },
   {
    "duration": 161,
    "start_time": "2023-04-20T12:29:22.069Z"
   },
   {
    "duration": 191,
    "start_time": "2023-04-20T12:29:29.762Z"
   },
   {
    "duration": 15,
    "start_time": "2023-04-20T12:30:25.129Z"
   },
   {
    "duration": 164,
    "start_time": "2023-04-20T12:30:31.913Z"
   },
   {
    "duration": 14,
    "start_time": "2023-04-20T12:30:46.313Z"
   },
   {
    "duration": 169,
    "start_time": "2023-04-20T12:30:53.206Z"
   },
   {
    "duration": 176,
    "start_time": "2023-04-20T12:31:01.813Z"
   },
   {
    "duration": 543,
    "start_time": "2023-04-20T13:21:23.373Z"
   },
   {
    "duration": 584,
    "start_time": "2023-04-20T13:22:04.274Z"
   },
   {
    "duration": 434,
    "start_time": "2023-04-20T13:25:01.172Z"
   },
   {
    "duration": 425,
    "start_time": "2023-04-20T13:25:52.182Z"
   },
   {
    "duration": 435,
    "start_time": "2023-04-20T13:29:46.502Z"
   },
   {
    "duration": 430,
    "start_time": "2023-04-20T13:30:01.828Z"
   },
   {
    "duration": 2601,
    "start_time": "2023-04-20T13:35:27.793Z"
   },
   {
    "duration": 469,
    "start_time": "2023-04-20T13:36:26.846Z"
   },
   {
    "duration": 441,
    "start_time": "2023-04-20T13:37:02.881Z"
   },
   {
    "duration": 29,
    "start_time": "2023-04-20T13:41:34.032Z"
   },
   {
    "duration": 404,
    "start_time": "2023-04-20T13:41:44.303Z"
   },
   {
    "duration": 368,
    "start_time": "2023-04-20T13:46:35.507Z"
   },
   {
    "duration": 502,
    "start_time": "2023-04-20T13:58:05.797Z"
   },
   {
    "duration": 384,
    "start_time": "2023-04-20T13:59:24.707Z"
   },
   {
    "duration": 368,
    "start_time": "2023-04-20T13:59:49.293Z"
   },
   {
    "duration": 78,
    "start_time": "2023-04-20T14:00:39.609Z"
   },
   {
    "duration": 136,
    "start_time": "2023-04-20T14:06:35.208Z"
   },
   {
    "duration": 118,
    "start_time": "2023-04-20T14:06:58.907Z"
   },
   {
    "duration": 13,
    "start_time": "2023-04-20T14:07:07.600Z"
   },
   {
    "duration": 112,
    "start_time": "2023-04-20T14:07:49.361Z"
   },
   {
    "duration": 103,
    "start_time": "2023-04-20T14:08:58.561Z"
   },
   {
    "duration": 107,
    "start_time": "2023-04-20T14:11:06.523Z"
   },
   {
    "duration": 14,
    "start_time": "2023-04-20T14:15:42.597Z"
   },
   {
    "duration": 15,
    "start_time": "2023-04-20T14:28:28.611Z"
   },
   {
    "duration": 102,
    "start_time": "2023-04-20T14:29:39.556Z"
   },
   {
    "duration": 11,
    "start_time": "2023-04-20T14:30:55.197Z"
   },
   {
    "duration": 203,
    "start_time": "2023-04-20T14:32:04.063Z"
   },
   {
    "duration": 114,
    "start_time": "2023-04-20T14:32:31.661Z"
   },
   {
    "duration": 190,
    "start_time": "2023-04-20T14:36:39.972Z"
   },
   {
    "duration": 94,
    "start_time": "2023-04-20T14:42:54.317Z"
   },
   {
    "duration": 74,
    "start_time": "2023-04-20T14:43:44.340Z"
   },
   {
    "duration": 14,
    "start_time": "2023-04-20T14:47:09.518Z"
   },
   {
    "duration": 145,
    "start_time": "2023-04-20T14:48:08.548Z"
   },
   {
    "duration": 149,
    "start_time": "2023-04-20T14:49:03.104Z"
   },
   {
    "duration": 130,
    "start_time": "2023-04-20T14:49:13.032Z"
   },
   {
    "duration": 129,
    "start_time": "2023-04-20T14:49:39.200Z"
   },
   {
    "duration": 21,
    "start_time": "2023-04-20T14:51:24.639Z"
   },
   {
    "duration": 162,
    "start_time": "2023-04-20T15:12:48.540Z"
   },
   {
    "duration": 9,
    "start_time": "2023-04-20T15:16:26.932Z"
   },
   {
    "duration": 10,
    "start_time": "2023-04-20T15:16:45.408Z"
   },
   {
    "duration": 127,
    "start_time": "2023-04-20T15:17:06.317Z"
   },
   {
    "duration": 75,
    "start_time": "2023-04-20T15:17:26.196Z"
   },
   {
    "duration": 244,
    "start_time": "2023-04-20T15:19:08.181Z"
   },
   {
    "duration": 244,
    "start_time": "2023-04-20T15:19:41.435Z"
   },
   {
    "duration": 336,
    "start_time": "2023-04-20T15:20:36.386Z"
   },
   {
    "duration": 219,
    "start_time": "2023-04-20T15:21:28.559Z"
   },
   {
    "duration": 318,
    "start_time": "2023-04-20T15:21:37.754Z"
   },
   {
    "duration": 241,
    "start_time": "2023-04-20T15:28:19.950Z"
   },
   {
    "duration": 230,
    "start_time": "2023-04-20T15:29:40.553Z"
   },
   {
    "duration": 320,
    "start_time": "2023-04-20T15:31:08.470Z"
   },
   {
    "duration": 331,
    "start_time": "2023-04-20T15:31:21.869Z"
   },
   {
    "duration": 247,
    "start_time": "2023-04-20T15:31:51.434Z"
   },
   {
    "duration": 18,
    "start_time": "2023-04-20T15:33:24.874Z"
   },
   {
    "duration": 324,
    "start_time": "2023-04-20T15:33:34.704Z"
   },
   {
    "duration": 318,
    "start_time": "2023-04-20T15:34:13.110Z"
   },
   {
    "duration": 326,
    "start_time": "2023-04-20T15:34:38.835Z"
   },
   {
    "duration": 416,
    "start_time": "2023-04-20T15:35:00.073Z"
   },
   {
    "duration": 340,
    "start_time": "2023-04-20T15:35:49.472Z"
   },
   {
    "duration": 320,
    "start_time": "2023-04-20T15:38:23.069Z"
   },
   {
    "duration": 317,
    "start_time": "2023-04-20T15:41:02.221Z"
   },
   {
    "duration": 304,
    "start_time": "2023-04-20T15:41:19.838Z"
   },
   {
    "duration": 88,
    "start_time": "2023-04-20T15:41:53.145Z"
   },
   {
    "duration": 394,
    "start_time": "2023-04-20T15:43:49.772Z"
   },
   {
    "duration": 364,
    "start_time": "2023-04-20T15:44:55.366Z"
   },
   {
    "duration": 241,
    "start_time": "2023-04-20T15:45:04.403Z"
   },
   {
    "duration": 315,
    "start_time": "2023-04-20T15:46:26.202Z"
   },
   {
    "duration": 338,
    "start_time": "2023-04-20T15:47:32.323Z"
   },
   {
    "duration": 324,
    "start_time": "2023-04-20T15:47:48.337Z"
   },
   {
    "duration": 296,
    "start_time": "2023-04-20T15:50:13.770Z"
   },
   {
    "duration": 403,
    "start_time": "2023-04-20T15:50:22.196Z"
   },
   {
    "duration": 10,
    "start_time": "2023-04-20T15:53:39.488Z"
   },
   {
    "duration": 16,
    "start_time": "2023-04-20T15:53:56.024Z"
   },
   {
    "duration": 7,
    "start_time": "2023-04-20T15:59:06.114Z"
   },
   {
    "duration": 8,
    "start_time": "2023-04-20T15:59:28.189Z"
   },
   {
    "duration": 10,
    "start_time": "2023-04-20T16:00:23.093Z"
   },
   {
    "duration": 11,
    "start_time": "2023-04-20T16:19:19.819Z"
   },
   {
    "duration": 8,
    "start_time": "2023-04-20T16:19:29.310Z"
   },
   {
    "duration": 9,
    "start_time": "2023-04-20T16:19:39.125Z"
   },
   {
    "duration": 17,
    "start_time": "2023-04-20T16:21:43.550Z"
   },
   {
    "duration": 8,
    "start_time": "2023-04-20T16:27:47.097Z"
   },
   {
    "duration": 6,
    "start_time": "2023-04-20T16:27:58.105Z"
   },
   {
    "duration": 31,
    "start_time": "2023-04-20T16:30:28.097Z"
   },
   {
    "duration": 17,
    "start_time": "2023-04-20T16:31:28.008Z"
   },
   {
    "duration": 13,
    "start_time": "2023-04-20T16:31:56.660Z"
   },
   {
    "duration": 84,
    "start_time": "2023-04-20T16:38:42.497Z"
   },
   {
    "duration": 5,
    "start_time": "2023-04-20T16:39:04.237Z"
   },
   {
    "duration": 9,
    "start_time": "2023-04-20T16:40:19.487Z"
   },
   {
    "duration": 8,
    "start_time": "2023-04-20T16:40:38.838Z"
   },
   {
    "duration": 10,
    "start_time": "2023-04-20T16:41:12.009Z"
   },
   {
    "duration": 13,
    "start_time": "2023-04-20T16:42:01.093Z"
   },
   {
    "duration": 1494,
    "start_time": "2023-04-20T16:43:23.601Z"
   },
   {
    "duration": 159,
    "start_time": "2023-04-20T16:45:44.409Z"
   },
   {
    "duration": 140,
    "start_time": "2023-04-20T16:45:52.886Z"
   },
   {
    "duration": 17,
    "start_time": "2023-04-20T16:47:18.656Z"
   },
   {
    "duration": 1352,
    "start_time": "2023-04-20T16:49:33.185Z"
   },
   {
    "duration": 1184,
    "start_time": "2023-04-20T16:51:29.238Z"
   },
   {
    "duration": 74,
    "start_time": "2023-04-20T16:51:30.424Z"
   },
   {
    "duration": 10,
    "start_time": "2023-04-20T16:51:30.500Z"
   },
   {
    "duration": 30,
    "start_time": "2023-04-20T16:51:30.511Z"
   },
   {
    "duration": 36,
    "start_time": "2023-04-20T16:51:30.543Z"
   },
   {
    "duration": 51,
    "start_time": "2023-04-20T16:51:30.581Z"
   },
   {
    "duration": 34,
    "start_time": "2023-04-20T16:51:30.634Z"
   },
   {
    "duration": 52,
    "start_time": "2023-04-20T16:51:30.669Z"
   },
   {
    "duration": 61,
    "start_time": "2023-04-20T16:51:30.723Z"
   },
   {
    "duration": 39,
    "start_time": "2023-04-20T16:51:30.786Z"
   },
   {
    "duration": 27,
    "start_time": "2023-04-20T16:51:30.827Z"
   },
   {
    "duration": 40,
    "start_time": "2023-04-20T16:51:30.856Z"
   },
   {
    "duration": 20,
    "start_time": "2023-04-20T16:51:30.898Z"
   },
   {
    "duration": 20,
    "start_time": "2023-04-20T16:51:30.922Z"
   },
   {
    "duration": 20,
    "start_time": "2023-04-20T16:51:30.944Z"
   },
   {
    "duration": 56,
    "start_time": "2023-04-20T16:51:30.966Z"
   },
   {
    "duration": 34,
    "start_time": "2023-04-20T16:51:31.024Z"
   },
   {
    "duration": 54,
    "start_time": "2023-04-20T16:51:31.060Z"
   },
   {
    "duration": 47,
    "start_time": "2023-04-20T16:51:31.116Z"
   },
   {
    "duration": 1024,
    "start_time": "2023-04-20T16:51:31.164Z"
   },
   {
    "duration": 5,
    "start_time": "2023-04-20T16:51:32.189Z"
   },
   {
    "duration": 19,
    "start_time": "2023-04-20T16:51:32.195Z"
   },
   {
    "duration": 22,
    "start_time": "2023-04-20T16:51:32.216Z"
   },
   {
    "duration": 25,
    "start_time": "2023-04-20T16:51:32.239Z"
   },
   {
    "duration": 20,
    "start_time": "2023-04-20T16:51:32.266Z"
   },
   {
    "duration": 14,
    "start_time": "2023-04-20T16:51:32.287Z"
   },
   {
    "duration": 210,
    "start_time": "2023-04-20T16:51:32.302Z"
   },
   {
    "duration": 14,
    "start_time": "2023-04-20T16:51:32.513Z"
   },
   {
    "duration": 354,
    "start_time": "2023-04-20T16:51:32.529Z"
   },
   {
    "duration": 14,
    "start_time": "2023-04-20T16:51:32.885Z"
   },
   {
    "duration": 18,
    "start_time": "2023-04-20T16:51:32.901Z"
   },
   {
    "duration": 31,
    "start_time": "2023-04-20T16:51:32.921Z"
   },
   {
    "duration": 1373,
    "start_time": "2023-04-20T16:51:32.954Z"
   },
   {
    "duration": 0,
    "start_time": "2023-04-20T16:51:34.329Z"
   },
   {
    "duration": 0,
    "start_time": "2023-04-20T16:51:34.330Z"
   },
   {
    "duration": 0,
    "start_time": "2023-04-20T16:51:34.331Z"
   },
   {
    "duration": 0,
    "start_time": "2023-04-20T16:51:34.332Z"
   },
   {
    "duration": 0,
    "start_time": "2023-04-20T16:51:34.333Z"
   },
   {
    "duration": 0,
    "start_time": "2023-04-20T16:51:34.333Z"
   },
   {
    "duration": 0,
    "start_time": "2023-04-20T16:51:34.334Z"
   },
   {
    "duration": 0,
    "start_time": "2023-04-20T16:51:34.335Z"
   },
   {
    "duration": 0,
    "start_time": "2023-04-20T16:51:34.336Z"
   },
   {
    "duration": 0,
    "start_time": "2023-04-20T16:51:34.349Z"
   },
   {
    "duration": 0,
    "start_time": "2023-04-20T16:51:34.349Z"
   },
   {
    "duration": 0,
    "start_time": "2023-04-20T16:51:34.351Z"
   },
   {
    "duration": 0,
    "start_time": "2023-04-20T16:51:34.351Z"
   },
   {
    "duration": 1,
    "start_time": "2023-04-20T16:51:34.352Z"
   },
   {
    "duration": 0,
    "start_time": "2023-04-20T16:51:34.353Z"
   },
   {
    "duration": 0,
    "start_time": "2023-04-20T16:51:34.355Z"
   },
   {
    "duration": 0,
    "start_time": "2023-04-20T16:51:34.356Z"
   },
   {
    "duration": 0,
    "start_time": "2023-04-20T16:51:34.357Z"
   },
   {
    "duration": 0,
    "start_time": "2023-04-20T16:51:34.358Z"
   },
   {
    "duration": 0,
    "start_time": "2023-04-20T16:51:34.358Z"
   },
   {
    "duration": 0,
    "start_time": "2023-04-20T16:51:34.360Z"
   },
   {
    "duration": 0,
    "start_time": "2023-04-20T16:51:34.360Z"
   },
   {
    "duration": 0,
    "start_time": "2023-04-20T16:51:34.361Z"
   },
   {
    "duration": 0,
    "start_time": "2023-04-20T16:51:34.362Z"
   },
   {
    "duration": 0,
    "start_time": "2023-04-20T16:51:34.363Z"
   },
   {
    "duration": 0,
    "start_time": "2023-04-20T16:51:34.364Z"
   },
   {
    "duration": 0,
    "start_time": "2023-04-20T16:51:34.364Z"
   },
   {
    "duration": 0,
    "start_time": "2023-04-20T16:51:34.365Z"
   },
   {
    "duration": 0,
    "start_time": "2023-04-20T16:51:34.366Z"
   },
   {
    "duration": 0,
    "start_time": "2023-04-20T16:51:34.367Z"
   },
   {
    "duration": 0,
    "start_time": "2023-04-20T16:51:34.368Z"
   },
   {
    "duration": 0,
    "start_time": "2023-04-20T16:51:34.369Z"
   },
   {
    "duration": 0,
    "start_time": "2023-04-20T16:51:34.370Z"
   },
   {
    "duration": 0,
    "start_time": "2023-04-20T16:51:34.371Z"
   },
   {
    "duration": 0,
    "start_time": "2023-04-20T16:51:34.372Z"
   },
   {
    "duration": 0,
    "start_time": "2023-04-20T16:51:34.373Z"
   },
   {
    "duration": 0,
    "start_time": "2023-04-20T16:51:34.373Z"
   },
   {
    "duration": 1408,
    "start_time": "2023-04-20T16:52:30.576Z"
   },
   {
    "duration": 125,
    "start_time": "2023-04-20T16:52:53.396Z"
   },
   {
    "duration": 1350,
    "start_time": "2023-04-20T16:54:17.635Z"
   },
   {
    "duration": 123,
    "start_time": "2023-04-20T16:57:32.672Z"
   },
   {
    "duration": 118,
    "start_time": "2023-04-20T16:59:40.023Z"
   },
   {
    "duration": 130,
    "start_time": "2023-04-20T16:59:50.773Z"
   },
   {
    "duration": 164,
    "start_time": "2023-04-20T17:00:59.774Z"
   },
   {
    "duration": 142,
    "start_time": "2023-04-20T17:01:21.069Z"
   },
   {
    "duration": 127,
    "start_time": "2023-04-20T17:01:39.091Z"
   },
   {
    "duration": 134,
    "start_time": "2023-04-20T17:01:48.526Z"
   },
   {
    "duration": 191,
    "start_time": "2023-04-20T17:02:40.668Z"
   },
   {
    "duration": 140,
    "start_time": "2023-04-20T17:05:07.323Z"
   },
   {
    "duration": 1382,
    "start_time": "2023-04-20T17:06:53.908Z"
   },
   {
    "duration": 1093,
    "start_time": "2023-04-20T17:09:03.051Z"
   },
   {
    "duration": 71,
    "start_time": "2023-04-20T17:09:04.146Z"
   },
   {
    "duration": 8,
    "start_time": "2023-04-20T17:09:04.218Z"
   },
   {
    "duration": 12,
    "start_time": "2023-04-20T17:09:04.228Z"
   },
   {
    "duration": 13,
    "start_time": "2023-04-20T17:09:04.242Z"
   },
   {
    "duration": 21,
    "start_time": "2023-04-20T17:09:04.257Z"
   },
   {
    "duration": 16,
    "start_time": "2023-04-20T17:09:04.279Z"
   },
   {
    "duration": 12,
    "start_time": "2023-04-20T17:09:04.296Z"
   },
   {
    "duration": 46,
    "start_time": "2023-04-20T17:09:04.310Z"
   },
   {
    "duration": 23,
    "start_time": "2023-04-20T17:09:04.358Z"
   },
   {
    "duration": 9,
    "start_time": "2023-04-20T17:09:04.383Z"
   },
   {
    "duration": 27,
    "start_time": "2023-04-20T17:09:04.393Z"
   },
   {
    "duration": 50,
    "start_time": "2023-04-20T17:09:04.421Z"
   },
   {
    "duration": 16,
    "start_time": "2023-04-20T17:09:04.474Z"
   },
   {
    "duration": 19,
    "start_time": "2023-04-20T17:09:04.491Z"
   },
   {
    "duration": 19,
    "start_time": "2023-04-20T17:09:04.511Z"
   },
   {
    "duration": 9,
    "start_time": "2023-04-20T17:09:04.531Z"
   },
   {
    "duration": 13,
    "start_time": "2023-04-20T17:09:04.548Z"
   },
   {
    "duration": 38,
    "start_time": "2023-04-20T17:09:04.563Z"
   },
   {
    "duration": 1060,
    "start_time": "2023-04-20T17:09:04.603Z"
   },
   {
    "duration": 4,
    "start_time": "2023-04-20T17:09:05.665Z"
   },
   {
    "duration": 21,
    "start_time": "2023-04-20T17:09:05.670Z"
   },
   {
    "duration": 17,
    "start_time": "2023-04-20T17:09:05.693Z"
   },
   {
    "duration": 17,
    "start_time": "2023-04-20T17:09:05.711Z"
   },
   {
    "duration": 20,
    "start_time": "2023-04-20T17:09:05.749Z"
   },
   {
    "duration": 14,
    "start_time": "2023-04-20T17:09:05.771Z"
   },
   {
    "duration": 212,
    "start_time": "2023-04-20T17:09:05.787Z"
   },
   {
    "duration": 16,
    "start_time": "2023-04-20T17:09:06.000Z"
   },
   {
    "duration": 355,
    "start_time": "2023-04-20T17:09:06.017Z"
   },
   {
    "duration": 12,
    "start_time": "2023-04-20T17:09:06.374Z"
   },
   {
    "duration": 16,
    "start_time": "2023-04-20T17:09:06.388Z"
   },
   {
    "duration": 12,
    "start_time": "2023-04-20T17:09:06.406Z"
   },
   {
    "duration": 1494,
    "start_time": "2023-04-20T17:09:06.420Z"
   },
   {
    "duration": 0,
    "start_time": "2023-04-20T17:09:07.916Z"
   },
   {
    "duration": 0,
    "start_time": "2023-04-20T17:09:07.917Z"
   },
   {
    "duration": 0,
    "start_time": "2023-04-20T17:09:07.918Z"
   },
   {
    "duration": 0,
    "start_time": "2023-04-20T17:09:07.919Z"
   },
   {
    "duration": 0,
    "start_time": "2023-04-20T17:09:07.920Z"
   },
   {
    "duration": 0,
    "start_time": "2023-04-20T17:09:07.921Z"
   },
   {
    "duration": 0,
    "start_time": "2023-04-20T17:09:07.922Z"
   },
   {
    "duration": 0,
    "start_time": "2023-04-20T17:09:07.923Z"
   },
   {
    "duration": 0,
    "start_time": "2023-04-20T17:09:07.924Z"
   },
   {
    "duration": 0,
    "start_time": "2023-04-20T17:09:07.924Z"
   },
   {
    "duration": 0,
    "start_time": "2023-04-20T17:09:07.925Z"
   },
   {
    "duration": 0,
    "start_time": "2023-04-20T17:09:07.926Z"
   },
   {
    "duration": 0,
    "start_time": "2023-04-20T17:09:07.927Z"
   },
   {
    "duration": 0,
    "start_time": "2023-04-20T17:09:07.928Z"
   },
   {
    "duration": 0,
    "start_time": "2023-04-20T17:09:07.929Z"
   },
   {
    "duration": 0,
    "start_time": "2023-04-20T17:09:07.930Z"
   },
   {
    "duration": 0,
    "start_time": "2023-04-20T17:09:07.948Z"
   },
   {
    "duration": 0,
    "start_time": "2023-04-20T17:09:07.949Z"
   },
   {
    "duration": 0,
    "start_time": "2023-04-20T17:09:07.950Z"
   },
   {
    "duration": 0,
    "start_time": "2023-04-20T17:09:07.951Z"
   },
   {
    "duration": 0,
    "start_time": "2023-04-20T17:09:07.952Z"
   },
   {
    "duration": 0,
    "start_time": "2023-04-20T17:09:07.953Z"
   },
   {
    "duration": 0,
    "start_time": "2023-04-20T17:09:07.953Z"
   },
   {
    "duration": 0,
    "start_time": "2023-04-20T17:09:07.954Z"
   },
   {
    "duration": 0,
    "start_time": "2023-04-20T17:09:07.955Z"
   },
   {
    "duration": 0,
    "start_time": "2023-04-20T17:09:07.956Z"
   },
   {
    "duration": 0,
    "start_time": "2023-04-20T17:09:07.957Z"
   },
   {
    "duration": 0,
    "start_time": "2023-04-20T17:09:07.958Z"
   },
   {
    "duration": 0,
    "start_time": "2023-04-20T17:09:07.958Z"
   },
   {
    "duration": 0,
    "start_time": "2023-04-20T17:09:07.959Z"
   },
   {
    "duration": 0,
    "start_time": "2023-04-20T17:09:07.960Z"
   },
   {
    "duration": 0,
    "start_time": "2023-04-20T17:09:07.961Z"
   },
   {
    "duration": 0,
    "start_time": "2023-04-20T17:09:07.962Z"
   },
   {
    "duration": 0,
    "start_time": "2023-04-20T17:09:07.962Z"
   },
   {
    "duration": 0,
    "start_time": "2023-04-20T17:09:07.963Z"
   },
   {
    "duration": 0,
    "start_time": "2023-04-20T17:09:07.964Z"
   },
   {
    "duration": 0,
    "start_time": "2023-04-20T17:09:07.965Z"
   },
   {
    "duration": 286,
    "start_time": "2023-04-20T17:30:58.883Z"
   },
   {
    "duration": 90,
    "start_time": "2023-04-20T17:31:04.513Z"
   },
   {
    "duration": 91,
    "start_time": "2023-04-20T17:31:06.649Z"
   },
   {
    "duration": 211,
    "start_time": "2023-04-20T17:33:39.497Z"
   },
   {
    "duration": 216,
    "start_time": "2023-04-20T17:38:45.322Z"
   },
   {
    "duration": 213,
    "start_time": "2023-04-20T17:38:54.007Z"
   },
   {
    "duration": 1206,
    "start_time": "2023-04-20T17:39:36.829Z"
   },
   {
    "duration": 73,
    "start_time": "2023-04-20T17:39:38.036Z"
   },
   {
    "duration": 8,
    "start_time": "2023-04-20T17:39:38.110Z"
   },
   {
    "duration": 13,
    "start_time": "2023-04-20T17:39:38.120Z"
   },
   {
    "duration": 14,
    "start_time": "2023-04-20T17:39:38.134Z"
   },
   {
    "duration": 21,
    "start_time": "2023-04-20T17:39:38.149Z"
   },
   {
    "duration": 15,
    "start_time": "2023-04-20T17:39:38.171Z"
   },
   {
    "duration": 23,
    "start_time": "2023-04-20T17:39:38.188Z"
   },
   {
    "duration": 38,
    "start_time": "2023-04-20T17:39:38.212Z"
   },
   {
    "duration": 22,
    "start_time": "2023-04-20T17:39:38.253Z"
   },
   {
    "duration": 8,
    "start_time": "2023-04-20T17:39:38.277Z"
   },
   {
    "duration": 21,
    "start_time": "2023-04-20T17:39:38.287Z"
   },
   {
    "duration": 14,
    "start_time": "2023-04-20T17:39:38.309Z"
   },
   {
    "duration": 14,
    "start_time": "2023-04-20T17:39:38.349Z"
   },
   {
    "duration": 21,
    "start_time": "2023-04-20T17:39:38.364Z"
   },
   {
    "duration": 35,
    "start_time": "2023-04-20T17:39:38.387Z"
   },
   {
    "duration": 5,
    "start_time": "2023-04-20T17:39:38.424Z"
   },
   {
    "duration": 11,
    "start_time": "2023-04-20T17:39:38.431Z"
   },
   {
    "duration": 29,
    "start_time": "2023-04-20T17:39:38.443Z"
   },
   {
    "duration": 977,
    "start_time": "2023-04-20T17:39:38.473Z"
   },
   {
    "duration": 5,
    "start_time": "2023-04-20T17:39:39.451Z"
   },
   {
    "duration": 29,
    "start_time": "2023-04-20T17:39:39.457Z"
   },
   {
    "duration": 20,
    "start_time": "2023-04-20T17:39:39.488Z"
   },
   {
    "duration": 19,
    "start_time": "2023-04-20T17:39:39.510Z"
   },
   {
    "duration": 25,
    "start_time": "2023-04-20T17:39:39.531Z"
   },
   {
    "duration": 13,
    "start_time": "2023-04-20T17:39:39.557Z"
   },
   {
    "duration": 199,
    "start_time": "2023-04-20T17:39:39.572Z"
   },
   {
    "duration": 20,
    "start_time": "2023-04-20T17:39:39.776Z"
   },
   {
    "duration": 344,
    "start_time": "2023-04-20T17:39:39.798Z"
   },
   {
    "duration": 13,
    "start_time": "2023-04-20T17:39:40.144Z"
   },
   {
    "duration": 22,
    "start_time": "2023-04-20T17:39:40.158Z"
   },
   {
    "duration": 12,
    "start_time": "2023-04-20T17:39:40.181Z"
   },
   {
    "duration": 226,
    "start_time": "2023-04-20T17:39:40.195Z"
   },
   {
    "duration": 89,
    "start_time": "2023-04-20T17:39:40.423Z"
   },
   {
    "duration": 108,
    "start_time": "2023-04-20T17:39:40.514Z"
   },
   {
    "duration": 102,
    "start_time": "2023-04-20T17:39:40.624Z"
   },
   {
    "duration": 90,
    "start_time": "2023-04-20T17:39:40.728Z"
   },
   {
    "duration": 10,
    "start_time": "2023-04-20T17:39:40.819Z"
   },
   {
    "duration": 25,
    "start_time": "2023-04-20T17:39:40.830Z"
   },
   {
    "duration": 19,
    "start_time": "2023-04-20T17:39:40.856Z"
   },
   {
    "duration": 25,
    "start_time": "2023-04-20T17:39:40.876Z"
   },
   {
    "duration": 565,
    "start_time": "2023-04-20T17:39:40.903Z"
   },
   {
    "duration": 8,
    "start_time": "2023-04-20T17:39:41.469Z"
   },
   {
    "duration": 26,
    "start_time": "2023-04-20T17:39:41.478Z"
   },
   {
    "duration": 11,
    "start_time": "2023-04-20T17:39:41.506Z"
   },
   {
    "duration": 584,
    "start_time": "2023-04-20T17:39:41.519Z"
   },
   {
    "duration": 9,
    "start_time": "2023-04-20T17:39:42.105Z"
   },
   {
    "duration": 11,
    "start_time": "2023-04-20T17:39:42.115Z"
   },
   {
    "duration": 21,
    "start_time": "2023-04-20T17:39:42.128Z"
   },
   {
    "duration": 517,
    "start_time": "2023-04-20T17:39:42.151Z"
   },
   {
    "duration": 13,
    "start_time": "2023-04-20T17:39:42.670Z"
   },
   {
    "duration": 25,
    "start_time": "2023-04-20T17:39:42.685Z"
   },
   {
    "duration": 12,
    "start_time": "2023-04-20T17:39:42.712Z"
   },
   {
    "duration": 32,
    "start_time": "2023-04-20T17:39:42.725Z"
   },
   {
    "duration": 12,
    "start_time": "2023-04-20T17:39:42.759Z"
   },
   {
    "duration": 22,
    "start_time": "2023-04-20T17:39:42.772Z"
   },
   {
    "duration": 12,
    "start_time": "2023-04-20T17:39:42.795Z"
   },
   {
    "duration": 13,
    "start_time": "2023-04-20T17:39:42.809Z"
   },
   {
    "duration": 13,
    "start_time": "2023-04-20T17:39:42.848Z"
   },
   {
    "duration": 22,
    "start_time": "2023-04-20T17:39:42.862Z"
   },
   {
    "duration": 14,
    "start_time": "2023-04-20T17:39:42.885Z"
   },
   {
    "duration": 15,
    "start_time": "2023-04-20T17:39:42.900Z"
   },
   {
    "duration": 39,
    "start_time": "2023-04-20T17:39:42.916Z"
   },
   {
    "duration": 9,
    "start_time": "2023-04-20T17:39:42.956Z"
   },
   {
    "duration": 8,
    "start_time": "2023-04-20T17:39:42.966Z"
   },
   {
    "duration": 200,
    "start_time": "2023-04-20T17:39:42.976Z"
   },
   {
    "duration": 5,
    "start_time": "2023-04-20T17:39:43.177Z"
   },
   {
    "duration": 191,
    "start_time": "2023-04-20T17:39:43.183Z"
   },
   {
    "duration": 4,
    "start_time": "2023-04-20T17:39:43.376Z"
   },
   {
    "duration": 94,
    "start_time": "2023-04-20T17:40:21.123Z"
   },
   {
    "duration": 174,
    "start_time": "2023-04-20T17:41:31.401Z"
   },
   {
    "duration": 109,
    "start_time": "2023-04-20T17:43:23.967Z"
   },
   {
    "duration": 17,
    "start_time": "2023-04-20T17:43:30.703Z"
   },
   {
    "duration": 20,
    "start_time": "2023-04-20T17:44:00.687Z"
   },
   {
    "duration": 10,
    "start_time": "2023-04-20T17:45:58.673Z"
   },
   {
    "duration": 188,
    "start_time": "2023-04-20T17:46:26.729Z"
   },
   {
    "duration": 182,
    "start_time": "2023-04-20T17:46:32.774Z"
   },
   {
    "duration": 17,
    "start_time": "2023-04-20T17:48:48.801Z"
   },
   {
    "duration": 157,
    "start_time": "2023-04-20T17:48:59.350Z"
   },
   {
    "duration": 169,
    "start_time": "2023-04-20T17:50:16.236Z"
   },
   {
    "duration": 153,
    "start_time": "2023-04-20T17:50:51.551Z"
   },
   {
    "duration": 152,
    "start_time": "2023-04-20T17:51:05.685Z"
   },
   {
    "duration": 164,
    "start_time": "2023-04-20T17:51:12.968Z"
   },
   {
    "duration": 263,
    "start_time": "2023-04-20T17:52:45.374Z"
   },
   {
    "duration": 187,
    "start_time": "2023-04-20T17:52:58.620Z"
   },
   {
    "duration": 154,
    "start_time": "2023-04-20T17:53:22.667Z"
   },
   {
    "duration": 141,
    "start_time": "2023-04-20T17:53:36.967Z"
   },
   {
    "duration": 140,
    "start_time": "2023-04-20T17:53:46.583Z"
   },
   {
    "duration": 144,
    "start_time": "2023-04-20T17:53:52.723Z"
   },
   {
    "duration": 139,
    "start_time": "2023-04-20T17:54:02.057Z"
   },
   {
    "duration": 143,
    "start_time": "2023-04-20T17:54:43.399Z"
   },
   {
    "duration": 154,
    "start_time": "2023-04-20T17:54:55.365Z"
   },
   {
    "duration": 154,
    "start_time": "2023-04-20T17:55:25.650Z"
   },
   {
    "duration": 157,
    "start_time": "2023-04-20T17:55:33.068Z"
   },
   {
    "duration": 233,
    "start_time": "2023-04-20T17:55:43.485Z"
   },
   {
    "duration": 163,
    "start_time": "2023-04-20T17:55:52.965Z"
   },
   {
    "duration": 241,
    "start_time": "2023-04-20T17:55:59.783Z"
   },
   {
    "duration": 162,
    "start_time": "2023-04-20T17:56:17.816Z"
   },
   {
    "duration": 147,
    "start_time": "2023-04-20T17:56:28.698Z"
   },
   {
    "duration": 174,
    "start_time": "2023-04-20T17:56:42.714Z"
   },
   {
    "duration": 146,
    "start_time": "2023-04-20T17:56:57.481Z"
   },
   {
    "duration": 302,
    "start_time": "2023-04-20T17:57:09.408Z"
   },
   {
    "duration": 138,
    "start_time": "2023-04-20T17:57:21.487Z"
   },
   {
    "duration": 174,
    "start_time": "2023-04-20T17:57:32.384Z"
   },
   {
    "duration": 181,
    "start_time": "2023-04-20T17:58:05.713Z"
   },
   {
    "duration": 248,
    "start_time": "2023-04-20T17:58:30.469Z"
   },
   {
    "duration": 135,
    "start_time": "2023-04-20T17:58:38.061Z"
   },
   {
    "duration": 140,
    "start_time": "2023-04-20T17:59:05.798Z"
   },
   {
    "duration": 140,
    "start_time": "2023-04-20T17:59:14.356Z"
   },
   {
    "duration": 146,
    "start_time": "2023-04-20T17:59:35.289Z"
   },
   {
    "duration": 147,
    "start_time": "2023-04-20T18:00:05.474Z"
   },
   {
    "duration": 12,
    "start_time": "2023-04-20T18:29:37.902Z"
   },
   {
    "duration": 10,
    "start_time": "2023-04-20T18:30:13.020Z"
   },
   {
    "duration": 1206,
    "start_time": "2023-04-20T18:32:00.053Z"
   },
   {
    "duration": 74,
    "start_time": "2023-04-20T18:32:01.261Z"
   },
   {
    "duration": 9,
    "start_time": "2023-04-20T18:32:01.336Z"
   },
   {
    "duration": 30,
    "start_time": "2023-04-20T18:32:01.347Z"
   },
   {
    "duration": 41,
    "start_time": "2023-04-20T18:32:01.379Z"
   },
   {
    "duration": 60,
    "start_time": "2023-04-20T18:32:01.422Z"
   },
   {
    "duration": 27,
    "start_time": "2023-04-20T18:32:01.484Z"
   },
   {
    "duration": 40,
    "start_time": "2023-04-20T18:32:01.512Z"
   },
   {
    "duration": 70,
    "start_time": "2023-04-20T18:32:01.553Z"
   },
   {
    "duration": 57,
    "start_time": "2023-04-20T18:32:01.624Z"
   },
   {
    "duration": 41,
    "start_time": "2023-04-20T18:32:01.683Z"
   },
   {
    "duration": 68,
    "start_time": "2023-04-20T18:32:01.726Z"
   },
   {
    "duration": 45,
    "start_time": "2023-04-20T18:32:01.795Z"
   },
   {
    "duration": 56,
    "start_time": "2023-04-20T18:32:01.843Z"
   },
   {
    "duration": 47,
    "start_time": "2023-04-20T18:32:01.901Z"
   },
   {
    "duration": 35,
    "start_time": "2023-04-20T18:32:01.950Z"
   },
   {
    "duration": 32,
    "start_time": "2023-04-20T18:32:01.987Z"
   },
   {
    "duration": 39,
    "start_time": "2023-04-20T18:32:02.021Z"
   },
   {
    "duration": 74,
    "start_time": "2023-04-20T18:32:02.062Z"
   },
   {
    "duration": 1014,
    "start_time": "2023-04-20T18:32:02.137Z"
   },
   {
    "duration": 5,
    "start_time": "2023-04-20T18:32:03.153Z"
   },
   {
    "duration": 48,
    "start_time": "2023-04-20T18:32:03.160Z"
   },
   {
    "duration": 36,
    "start_time": "2023-04-20T18:32:03.210Z"
   },
   {
    "duration": 25,
    "start_time": "2023-04-20T18:32:03.248Z"
   },
   {
    "duration": 22,
    "start_time": "2023-04-20T18:32:03.275Z"
   },
   {
    "duration": 15,
    "start_time": "2023-04-20T18:32:03.298Z"
   },
   {
    "duration": 202,
    "start_time": "2023-04-20T18:32:03.315Z"
   },
   {
    "duration": 16,
    "start_time": "2023-04-20T18:32:03.519Z"
   },
   {
    "duration": 359,
    "start_time": "2023-04-20T18:32:03.537Z"
   },
   {
    "duration": 14,
    "start_time": "2023-04-20T18:32:03.898Z"
   },
   {
    "duration": 18,
    "start_time": "2023-04-20T18:32:03.914Z"
   },
   {
    "duration": 12,
    "start_time": "2023-04-20T18:32:03.948Z"
   },
   {
    "duration": 234,
    "start_time": "2023-04-20T18:32:03.961Z"
   },
   {
    "duration": 101,
    "start_time": "2023-04-20T18:32:04.196Z"
   },
   {
    "duration": 104,
    "start_time": "2023-04-20T18:32:04.298Z"
   },
   {
    "duration": 123,
    "start_time": "2023-04-20T18:32:04.403Z"
   },
   {
    "duration": 139,
    "start_time": "2023-04-20T18:32:04.528Z"
   },
   {
    "duration": 161,
    "start_time": "2023-04-20T18:32:04.669Z"
   },
   {
    "duration": 20,
    "start_time": "2023-04-20T18:32:04.831Z"
   },
   {
    "duration": 16,
    "start_time": "2023-04-20T18:32:04.852Z"
   },
   {
    "duration": 14,
    "start_time": "2023-04-20T18:32:04.872Z"
   },
   {
    "duration": 8,
    "start_time": "2023-04-20T18:32:04.888Z"
   },
   {
    "duration": 603,
    "start_time": "2023-04-20T18:32:04.897Z"
   },
   {
    "duration": 8,
    "start_time": "2023-04-20T18:32:05.501Z"
   },
   {
    "duration": 25,
    "start_time": "2023-04-20T18:32:05.511Z"
   },
   {
    "duration": 12,
    "start_time": "2023-04-20T18:32:05.537Z"
   },
   {
    "duration": 645,
    "start_time": "2023-04-20T18:32:05.551Z"
   },
   {
    "duration": 7,
    "start_time": "2023-04-20T18:32:06.198Z"
   },
   {
    "duration": 12,
    "start_time": "2023-04-20T18:32:06.207Z"
   },
   {
    "duration": 28,
    "start_time": "2023-04-20T18:32:06.221Z"
   },
   {
    "duration": 509,
    "start_time": "2023-04-20T18:32:06.251Z"
   },
   {
    "duration": 15,
    "start_time": "2023-04-20T18:32:06.762Z"
   },
   {
    "duration": 10,
    "start_time": "2023-04-20T18:32:06.779Z"
   },
   {
    "duration": 22,
    "start_time": "2023-04-20T18:32:06.791Z"
   },
   {
    "duration": 46,
    "start_time": "2023-04-20T18:32:06.815Z"
   },
   {
    "duration": 14,
    "start_time": "2023-04-20T18:32:06.863Z"
   },
   {
    "duration": 13,
    "start_time": "2023-04-20T18:32:06.879Z"
   },
   {
    "duration": 21,
    "start_time": "2023-04-20T18:32:06.893Z"
   },
   {
    "duration": 39,
    "start_time": "2023-04-20T18:32:06.915Z"
   },
   {
    "duration": 17,
    "start_time": "2023-04-20T18:32:06.955Z"
   },
   {
    "duration": 14,
    "start_time": "2023-04-20T18:32:06.974Z"
   },
   {
    "duration": 29,
    "start_time": "2023-04-20T18:32:06.989Z"
   },
   {
    "duration": 13,
    "start_time": "2023-04-20T18:32:07.019Z"
   },
   {
    "duration": 14,
    "start_time": "2023-04-20T18:32:07.049Z"
   },
   {
    "duration": 19,
    "start_time": "2023-04-20T18:32:07.065Z"
   },
   {
    "duration": 9,
    "start_time": "2023-04-20T18:32:07.085Z"
   },
   {
    "duration": 8,
    "start_time": "2023-04-20T18:32:07.096Z"
   },
   {
    "duration": 209,
    "start_time": "2023-04-20T18:32:07.106Z"
   },
   {
    "duration": 4,
    "start_time": "2023-04-20T18:32:07.317Z"
   },
   {
    "duration": 262,
    "start_time": "2023-04-20T18:32:07.322Z"
   },
   {
    "duration": 5,
    "start_time": "2023-04-20T18:32:07.585Z"
   },
   {
    "duration": 273,
    "start_time": "2023-04-20T18:37:49.035Z"
   },
   {
    "duration": 236,
    "start_time": "2023-04-20T18:38:10.136Z"
   },
   {
    "duration": 253,
    "start_time": "2023-04-20T18:38:24.182Z"
   },
   {
    "duration": 242,
    "start_time": "2023-04-20T18:38:53.653Z"
   },
   {
    "duration": 239,
    "start_time": "2023-04-20T18:39:07.233Z"
   },
   {
    "duration": 333,
    "start_time": "2023-04-20T18:40:57.333Z"
   },
   {
    "duration": 278,
    "start_time": "2023-04-20T18:41:53.009Z"
   },
   {
    "duration": 112,
    "start_time": "2023-04-20T18:48:46.388Z"
   },
   {
    "duration": 27,
    "start_time": "2023-04-20T18:49:13.737Z"
   },
   {
    "duration": 27,
    "start_time": "2023-04-20T18:51:54.752Z"
   },
   {
    "duration": 21,
    "start_time": "2023-04-20T18:52:09.475Z"
   },
   {
    "duration": 19,
    "start_time": "2023-04-20T18:52:36.459Z"
   },
   {
    "duration": 154,
    "start_time": "2023-04-20T18:53:06.748Z"
   },
   {
    "duration": 143,
    "start_time": "2023-04-20T18:53:20.376Z"
   },
   {
    "duration": 147,
    "start_time": "2023-04-20T18:53:35.340Z"
   },
   {
    "duration": 207,
    "start_time": "2023-04-20T18:54:36.281Z"
   },
   {
    "duration": 271,
    "start_time": "2023-04-20T18:55:06.531Z"
   },
   {
    "duration": 249,
    "start_time": "2023-04-20T18:55:18.882Z"
   },
   {
    "duration": 200,
    "start_time": "2023-04-20T18:55:29.236Z"
   },
   {
    "duration": 423,
    "start_time": "2023-04-20T19:14:26.159Z"
   },
   {
    "duration": 153,
    "start_time": "2023-04-20T19:16:36.984Z"
   },
   {
    "duration": 14,
    "start_time": "2023-04-20T19:19:37.317Z"
   },
   {
    "duration": 141,
    "start_time": "2023-04-20T19:20:51.993Z"
   },
   {
    "duration": 33,
    "start_time": "2023-04-20T19:22:41.689Z"
   },
   {
    "duration": 11,
    "start_time": "2023-04-20T19:23:28.768Z"
   },
   {
    "duration": 190,
    "start_time": "2023-04-20T19:23:50.203Z"
   },
   {
    "duration": 13,
    "start_time": "2023-04-20T19:24:14.879Z"
   },
   {
    "duration": 12,
    "start_time": "2023-04-20T19:24:19.746Z"
   },
   {
    "duration": 15,
    "start_time": "2023-04-20T19:24:26.419Z"
   },
   {
    "duration": 226,
    "start_time": "2023-04-20T19:24:30.986Z"
   },
   {
    "duration": 1318,
    "start_time": "2023-04-20T19:28:02.110Z"
   },
   {
    "duration": 186,
    "start_time": "2023-04-20T19:28:15.074Z"
   },
   {
    "duration": 273,
    "start_time": "2023-04-20T19:29:06.754Z"
   },
   {
    "duration": 188,
    "start_time": "2023-04-20T19:30:49.155Z"
   },
   {
    "duration": 187,
    "start_time": "2023-04-20T19:31:44.721Z"
   },
   {
    "duration": 203,
    "start_time": "2023-04-20T19:39:11.623Z"
   },
   {
    "duration": 255,
    "start_time": "2023-04-20T19:40:12.476Z"
   },
   {
    "duration": 177,
    "start_time": "2023-04-20T19:40:57.924Z"
   },
   {
    "duration": 152,
    "start_time": "2023-04-20T19:43:26.056Z"
   },
   {
    "duration": 117,
    "start_time": "2023-04-20T19:43:34.520Z"
   },
   {
    "duration": 139,
    "start_time": "2023-04-20T19:44:45.279Z"
   },
   {
    "duration": 135,
    "start_time": "2023-04-20T19:45:33.379Z"
   },
   {
    "duration": 224,
    "start_time": "2023-04-20T19:45:48.500Z"
   },
   {
    "duration": 109,
    "start_time": "2023-04-20T19:51:06.572Z"
   },
   {
    "duration": 76,
    "start_time": "2023-04-20T19:51:53.926Z"
   },
   {
    "duration": 1232,
    "start_time": "2023-04-20T19:52:19.379Z"
   },
   {
    "duration": 83,
    "start_time": "2023-04-20T19:52:20.614Z"
   },
   {
    "duration": 11,
    "start_time": "2023-04-20T19:52:20.699Z"
   },
   {
    "duration": 11,
    "start_time": "2023-04-20T19:52:20.712Z"
   },
   {
    "duration": 24,
    "start_time": "2023-04-20T19:52:20.726Z"
   },
   {
    "duration": 27,
    "start_time": "2023-04-20T19:52:20.753Z"
   },
   {
    "duration": 18,
    "start_time": "2023-04-20T19:52:20.781Z"
   },
   {
    "duration": 14,
    "start_time": "2023-04-20T19:52:20.801Z"
   },
   {
    "duration": 65,
    "start_time": "2023-04-20T19:52:20.817Z"
   },
   {
    "duration": 25,
    "start_time": "2023-04-20T19:52:20.884Z"
   },
   {
    "duration": 16,
    "start_time": "2023-04-20T19:52:20.911Z"
   },
   {
    "duration": 33,
    "start_time": "2023-04-20T19:52:20.928Z"
   },
   {
    "duration": 24,
    "start_time": "2023-04-20T19:52:20.963Z"
   },
   {
    "duration": 24,
    "start_time": "2023-04-20T19:52:20.990Z"
   },
   {
    "duration": 45,
    "start_time": "2023-04-20T19:52:21.018Z"
   },
   {
    "duration": 29,
    "start_time": "2023-04-20T19:52:21.065Z"
   },
   {
    "duration": 15,
    "start_time": "2023-04-20T19:52:21.096Z"
   },
   {
    "duration": 14,
    "start_time": "2023-04-20T19:52:21.113Z"
   },
   {
    "duration": 39,
    "start_time": "2023-04-20T19:52:21.129Z"
   },
   {
    "duration": 1168,
    "start_time": "2023-04-20T19:52:21.170Z"
   },
   {
    "duration": 9,
    "start_time": "2023-04-20T19:52:22.341Z"
   },
   {
    "duration": 35,
    "start_time": "2023-04-20T19:52:22.354Z"
   },
   {
    "duration": 38,
    "start_time": "2023-04-20T19:52:22.392Z"
   },
   {
    "duration": 20,
    "start_time": "2023-04-20T19:52:22.432Z"
   },
   {
    "duration": 41,
    "start_time": "2023-04-20T19:52:22.454Z"
   },
   {
    "duration": 15,
    "start_time": "2023-04-20T19:52:22.497Z"
   },
   {
    "duration": 211,
    "start_time": "2023-04-20T19:52:22.515Z"
   },
   {
    "duration": 27,
    "start_time": "2023-04-20T19:52:22.727Z"
   },
   {
    "duration": 414,
    "start_time": "2023-04-20T19:52:22.755Z"
   },
   {
    "duration": 19,
    "start_time": "2023-04-20T19:52:23.172Z"
   },
   {
    "duration": 23,
    "start_time": "2023-04-20T19:52:23.193Z"
   },
   {
    "duration": 35,
    "start_time": "2023-04-20T19:52:23.218Z"
   },
   {
    "duration": 279,
    "start_time": "2023-04-20T19:52:23.254Z"
   },
   {
    "duration": 143,
    "start_time": "2023-04-20T19:52:23.534Z"
   },
   {
    "duration": 130,
    "start_time": "2023-04-20T19:52:23.679Z"
   },
   {
    "duration": 154,
    "start_time": "2023-04-20T19:52:23.812Z"
   },
   {
    "duration": 118,
    "start_time": "2023-04-20T19:52:23.968Z"
   },
   {
    "duration": 163,
    "start_time": "2023-04-20T19:52:24.088Z"
   },
   {
    "duration": 14,
    "start_time": "2023-04-20T19:52:24.254Z"
   },
   {
    "duration": 42,
    "start_time": "2023-04-20T19:52:24.270Z"
   },
   {
    "duration": 35,
    "start_time": "2023-04-20T19:52:24.319Z"
   },
   {
    "duration": 20,
    "start_time": "2023-04-20T19:52:24.356Z"
   },
   {
    "duration": 723,
    "start_time": "2023-04-20T19:52:24.377Z"
   },
   {
    "duration": 9,
    "start_time": "2023-04-20T19:52:25.102Z"
   },
   {
    "duration": 41,
    "start_time": "2023-04-20T19:52:25.112Z"
   },
   {
    "duration": 21,
    "start_time": "2023-04-20T19:52:25.155Z"
   },
   {
    "duration": 739,
    "start_time": "2023-04-20T19:52:25.178Z"
   },
   {
    "duration": 9,
    "start_time": "2023-04-20T19:52:25.918Z"
   },
   {
    "duration": 18,
    "start_time": "2023-04-20T19:52:25.929Z"
   },
   {
    "duration": 28,
    "start_time": "2023-04-20T19:52:25.949Z"
   },
   {
    "duration": 813,
    "start_time": "2023-04-20T19:52:25.978Z"
   },
   {
    "duration": 15,
    "start_time": "2023-04-20T19:52:26.793Z"
   },
   {
    "duration": 200,
    "start_time": "2023-04-20T19:52:26.809Z"
   },
   {
    "duration": 273,
    "start_time": "2023-04-20T19:52:27.010Z"
   },
   {
    "duration": 28,
    "start_time": "2023-04-20T19:52:27.285Z"
   },
   {
    "duration": 42,
    "start_time": "2023-04-20T19:52:27.315Z"
   },
   {
    "duration": 312,
    "start_time": "2023-04-20T19:52:27.359Z"
   },
   {
    "duration": 14,
    "start_time": "2023-04-20T19:52:27.673Z"
   },
   {
    "duration": 321,
    "start_time": "2023-04-20T19:52:27.689Z"
   },
   {
    "duration": 19,
    "start_time": "2023-04-20T19:52:28.012Z"
   },
   {
    "duration": 169,
    "start_time": "2023-04-20T19:52:28.033Z"
   },
   {
    "duration": 46,
    "start_time": "2023-04-20T19:52:28.204Z"
   },
   {
    "duration": 13,
    "start_time": "2023-04-20T19:52:28.252Z"
   },
   {
    "duration": 201,
    "start_time": "2023-04-20T19:52:28.267Z"
   },
   {
    "duration": 15,
    "start_time": "2023-04-20T19:52:28.470Z"
   },
   {
    "duration": 283,
    "start_time": "2023-04-20T19:52:28.488Z"
   },
   {
    "duration": 13,
    "start_time": "2023-04-20T19:52:28.772Z"
   },
   {
    "duration": 149,
    "start_time": "2023-04-20T19:52:28.787Z"
   },
   {
    "duration": 30,
    "start_time": "2023-04-20T19:52:28.939Z"
   },
   {
    "duration": 23,
    "start_time": "2023-04-20T19:52:28.972Z"
   },
   {
    "duration": 216,
    "start_time": "2023-04-20T19:52:28.997Z"
   },
   {
    "duration": 14,
    "start_time": "2023-04-20T19:52:29.215Z"
   },
   {
    "duration": 215,
    "start_time": "2023-04-20T19:52:29.230Z"
   },
   {
    "duration": 13,
    "start_time": "2023-04-20T19:52:29.449Z"
   },
   {
    "duration": 129,
    "start_time": "2023-04-20T19:52:29.464Z"
   },
   {
    "duration": 9,
    "start_time": "2023-04-20T19:52:29.595Z"
   },
   {
    "duration": 17,
    "start_time": "2023-04-20T19:52:29.607Z"
   },
   {
    "duration": 248,
    "start_time": "2023-04-20T19:52:29.626Z"
   },
   {
    "duration": 10,
    "start_time": "2023-04-20T19:52:29.877Z"
   },
   {
    "duration": 278,
    "start_time": "2023-04-20T19:52:29.889Z"
   },
   {
    "duration": 6,
    "start_time": "2023-04-20T19:52:30.169Z"
   }
  ],
  "kernelspec": {
   "display_name": "Python 3 (ipykernel)",
   "language": "python",
   "name": "python3"
  },
  "language_info": {
   "codemirror_mode": {
    "name": "ipython",
    "version": 3
   },
   "file_extension": ".py",
   "mimetype": "text/x-python",
   "name": "python",
   "nbconvert_exporter": "python",
   "pygments_lexer": "ipython3",
   "version": "3.9.5"
  },
  "toc": {
   "base_numbering": 1,
   "nav_menu": {},
   "number_sections": true,
   "sideBar": true,
   "skip_h1_title": true,
   "title_cell": "Table of Contents",
   "title_sidebar": "Contents",
   "toc_cell": false,
   "toc_position": {},
   "toc_section_display": true,
   "toc_window_display": false
  }
 },
 "nbformat": 4,
 "nbformat_minor": 2
}

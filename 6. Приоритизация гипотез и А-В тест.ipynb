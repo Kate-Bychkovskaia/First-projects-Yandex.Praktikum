{
 "cells": [
  {
   "cell_type": "markdown",
   "id": "4f11de00",
   "metadata": {
    "deletable": false,
    "editable": false,
    "id": "4f11de00"
   },
"source": [
    "# Проект: принятие решений в бизнесе"
   ]
  },
  {
   "cell_type": "markdown",
   "metadata": {},
   "source": [
    "# Приоритизация гипотез и анализ А/B теста \n",
    "\n",
    "## Описание данных\n",
    "**Данные для первой части**\n",
    "Файл /datasets/hypothesis.csv. \n",
    "- Hypothesis — краткое описание гипотезы;\n",
    "- Reach — охват пользователей по 10-балльной шкале;\n",
    "- Impact — влияние на пользователей по 10-балльной шкале;\n",
    "- Confidence — уверенность в гипотезе по 10-балльной шкале;\n",
    "- Efforts — затраты ресурсов на проверку гипотезы по 10-балльной шкале. Чем больше значение Efforts, тем дороже проверка гипотезы.\n",
    "\n",
    "**Данные для второй части**\n",
    "Файл /datasets/orders.csv. Скачать датасет\n",
    "- transactionId — идентификатор заказа;\n",
    "- visitorId — идентификатор пользователя, совершившего заказ;\n",
    "- date — дата, когда был совершён заказ;\n",
    "- revenue — выручка заказа;\n",
    "- group — группа A/B-теста, в которую попал заказ.\n",
    "\n",
    "Файл /datasets/visitors.csv.\n",
    "- date — дата;\n",
    "- group — группа A/B-теста;\n",
    "- visitors — количество пользователей в указанную дату в указанной группе A/B-теста\n",
    "\n",
    "**Описание проекта**\n",
    "\n",
    "На основе данных крупного интернет-магазина необходимо: \n",
    "- Вместе с отделом маркетинга необходимо подготовить список гипотез для увеличения выручки.\n",
    "- Приоритизировать гипотезы, запустить A/B-тест и проанализировать результаты. "
   ]
  },
  {
   "cell_type": "markdown",
   "metadata": {},
   "source": [
    "## Часть 1. Приоритизация гипотез.\n",
    "В файле /datasets/hypothesis.csv 9 гипотез по увеличению выручки интернет-магазина с указанными параметрами Reach, Impact, Confidence, Effort.\n",
    "Задача\n",
    "\n",
    "- С помощью фреймворка ICE приоритезировать гипотезы. Отсортировать их по убыванию приоритета.\n",
    "- С помощью фреймворка RICE приоритезировать гипотезы. Отсортировать их по убыванию приоритета.\n",
    "- Оценить, как изменилась приоритизация гипотез при применении RICE вместо ICE.\n",
    "\n",
    "\n",
    "**Гипотезы**\n",
    "- 0. Добавить два новых канала привлечения трафика, что позволит привлекать на 30% больше пользователей\n",
    "- 1. Запустить собственную службу доставки, что сократит срок доставки заказов\n",
    "- 2. Добавить блоки рекомендаций товаров на сайт интернет магазина, чтобы повысить конверсию и средний чек заказа\n",
    "- 3. Изменить структура категорий, что увеличит конверсию, т.к. пользователи быстрее найдут нужный товар\n",
    "- 4. Изменить цвет фона главной страницы, чтобы увеличить вовлеченность пользователей\n",
    "- 5. Добавить страницу отзывов клиентов о магазине, что позволит увеличить количество заказов\n",
    "- 6. Показать на главной странице баннеры с актуальными акциями и распродажами, чтобы увеличить конверсию\n",
    "- 7. Добавить форму подписки на все основные страницы, чтобы собрать базу клиентов для email-рассылок\n",
    "- 8. Запустить акцию, дающую скидку на товар в день рождения"
   ]
  },
  {
   "cell_type": "markdown",
   "metadata": {},
   "source": [
    "## Часть 2. Анализ A/B-теста\n",
    "Проеведен A/B-тест и получены результаты, которые описаны в файлах /datasets/orders.csv и /datasets/visitors.csv.\n",
    "Задача\n",
    "Проанализировать A/B-тест:\n",
    "\n",
    "- Построить график кумулятивной выручки по группам. Сделаать выводы и предположения.\n",
    "- Построить график кумулятивного среднего чека по группам. Сделать выводы и предположения.\n",
    "- Построить график относительного изменения кумулятивного среднего чека группы B к группе A. Сделать выводы и предположения.\n",
    "- Построить график кумулятивного среднего количества заказов на посетителя по группам. Сделать выводы и предположения.\n",
    "- Построить график относительного изменения кумулятивного среднего количества заказов на посетителя группы B к группе A. Сделать выводы и предположения.\n",
    "- Построить точечный график количества заказов по пользователям. Сделать выводы и предположения.\n",
    "- Посчитать 95-й и 99-й перцентили количества заказов на пользователя. Выберать границу для определения аномальных пользователей.\n",
    "- Построить точечный график стоимостей заказов. Сделать выводы и предположения.\n",
    "- Построить 95-й и 99-й перцентили стоимости заказов. Выбрать границу для определения аномальных заказов.\n",
    "- Построить статистическую значимость различий в среднем количестве заказов на посетителя между группами по «сырым» данным. Сделать выводы и предположения.\n",
    "- Построить статистическую значимость различий в среднем чеке заказа между группами по «сырым» данным. Сделать выводы и предположения.\n",
    "- Построить статистическую значимость различий в среднем количестве заказов на посетителя между группами по «очищенным» данным. Сделать выводы и предположения.\n",
    "- Построить статистическую значимость различий в среднем чеке заказа между группами по «очищенным» данным. Сделать выводы и предположения.\n",
    "\n",
    "Принять решение по результатам теста. Варианты решений:\n",
    "1. Остановить тест, зафиксировать победу одной из групп.\n",
    "2. Остановить тест, зафиксировать отсутствие различий между группами.\n",
    "3. Продолжить тест."
   ]
  },
  {
   "cell_type": "markdown",
   "metadata": {},
   "source": [
    "# Предобработка данных \n",
    "\n",
    "Изначально загрузим данные, проверим на дубликаты, пропуски, на соответствие форматов данных "
   ]
  },
  {
   "cell_type": "code",
   "execution_count": 1,
   "metadata": {},
   "outputs": [],
   "source": [
    "import pandas as pd\n",
    "import matplotlib.pyplot as plt\n",
    "import seaborn as sns\n",
    "sns.set(rc={'figure.figsize':(10, 8)})\n",
    "import scipy.stats as stats\n",
    "from scipy import stats as st\n",
    "import math\n",
    "import numpy as np"
   ]
  },
  {
   "cell_type": "markdown",
   "metadata": {},
   "source": [
    "Загрузим данные"
   ]
  },
  {
   "cell_type": "code",
   "execution_count": 2,
   "metadata": {},
   "outputs": [],
   "source": [
    "#загрузим данные\n",
    "hypothesis = pd.read_csv('/datasets/hypothesis.csv')\n",
    "orders = pd.read_csv('/datasets/orders.csv')\n",
    "visitors = pd.read_csv('/datasets/visitors.csv')"
   ]
  },
  {
   "cell_type": "markdown",
   "metadata": {},
   "source": [
    "Посмотрим что в данных"
   ]
  },
  {
   "cell_type": "code",
   "execution_count": 3,
   "metadata": {},
   "outputs": [
    {
     "data": {
      "text/html": [
       "<div>\n",
       "<style scoped>\n",
       "    .dataframe tbody tr th:only-of-type {\n",
       "        vertical-align: middle;\n",
       "    }\n",
       "\n",
       "    .dataframe tbody tr th {\n",
       "        vertical-align: top;\n",
       "    }\n",
       "\n",
       "    .dataframe thead th {\n",
       "        text-align: right;\n",
       "    }\n",
       "</style>\n",
       "<table border=\"1\" class=\"dataframe\">\n",
       "  <thead>\n",
       "    <tr style=\"text-align: right;\">\n",
       "      <th></th>\n",
       "      <th>Hypothesis</th>\n",
       "      <th>Reach</th>\n",
       "      <th>Impact</th>\n",
       "      <th>Confidence</th>\n",
       "      <th>Efforts</th>\n",
       "    </tr>\n",
       "  </thead>\n",
       "  <tbody>\n",
       "    <tr>\n",
       "      <th>0</th>\n",
       "      <td>Добавить два новых канала привлечения трафика,...</td>\n",
       "      <td>3</td>\n",
       "      <td>10</td>\n",
       "      <td>8</td>\n",
       "      <td>6</td>\n",
       "    </tr>\n",
       "    <tr>\n",
       "      <th>1</th>\n",
       "      <td>Запустить собственную службу доставки, что сок...</td>\n",
       "      <td>2</td>\n",
       "      <td>5</td>\n",
       "      <td>4</td>\n",
       "      <td>10</td>\n",
       "    </tr>\n",
       "    <tr>\n",
       "      <th>2</th>\n",
       "      <td>Добавить блоки рекомендаций товаров на сайт ин...</td>\n",
       "      <td>8</td>\n",
       "      <td>3</td>\n",
       "      <td>7</td>\n",
       "      <td>3</td>\n",
       "    </tr>\n",
       "    <tr>\n",
       "      <th>3</th>\n",
       "      <td>Изменить структура категорий, что увеличит кон...</td>\n",
       "      <td>8</td>\n",
       "      <td>3</td>\n",
       "      <td>3</td>\n",
       "      <td>8</td>\n",
       "    </tr>\n",
       "    <tr>\n",
       "      <th>4</th>\n",
       "      <td>Изменить цвет фона главной страницы, чтобы уве...</td>\n",
       "      <td>3</td>\n",
       "      <td>1</td>\n",
       "      <td>1</td>\n",
       "      <td>1</td>\n",
       "    </tr>\n",
       "  </tbody>\n",
       "</table>\n",
       "</div>"
      ],
      "text/plain": [
       "                                          Hypothesis  Reach  Impact  \\\n",
       "0  Добавить два новых канала привлечения трафика,...      3      10   \n",
       "1  Запустить собственную службу доставки, что сок...      2       5   \n",
       "2  Добавить блоки рекомендаций товаров на сайт ин...      8       3   \n",
       "3  Изменить структура категорий, что увеличит кон...      8       3   \n",
       "4  Изменить цвет фона главной страницы, чтобы уве...      3       1   \n",
       "\n",
       "   Confidence  Efforts  \n",
       "0           8        6  \n",
       "1           4       10  \n",
       "2           7        3  \n",
       "3           3        8  \n",
       "4           1        1  "
      ]
     },
     "execution_count": 3,
     "metadata": {},
     "output_type": "execute_result"
    }
   ],
   "source": [
    "hypothesis.head()"
   ]
  },
  {
   "cell_type": "markdown",
   "metadata": {},
   "source": [
    "**Вывод** \n",
    "\n",
    "Названия столбцов написаны с большой буквы, при работе это вызовет неудобство. Поэтому приведем все названия к нижнему регистру на этапе предобработки данных"
   ]
  },
  {
   "cell_type": "code",
   "execution_count": 4,
   "metadata": {},
   "outputs": [
    {
     "data": {
      "text/html": [
       "<div>\n",
       "<style scoped>\n",
       "    .dataframe tbody tr th:only-of-type {\n",
       "        vertical-align: middle;\n",
       "    }\n",
       "\n",
       "    .dataframe tbody tr th {\n",
       "        vertical-align: top;\n",
       "    }\n",
       "\n",
       "    .dataframe thead th {\n",
       "        text-align: right;\n",
       "    }\n",
       "</style>\n",
       "<table border=\"1\" class=\"dataframe\">\n",
       "  <thead>\n",
       "    <tr style=\"text-align: right;\">\n",
       "      <th></th>\n",
       "      <th>transactionId</th>\n",
       "      <th>visitorId</th>\n",
       "      <th>date</th>\n",
       "      <th>revenue</th>\n",
       "      <th>group</th>\n",
       "    </tr>\n",
       "  </thead>\n",
       "  <tbody>\n",
       "    <tr>\n",
       "      <th>0</th>\n",
       "      <td>3667963787</td>\n",
       "      <td>3312258926</td>\n",
       "      <td>2019-08-15</td>\n",
       "      <td>1650</td>\n",
       "      <td>B</td>\n",
       "    </tr>\n",
       "    <tr>\n",
       "      <th>1</th>\n",
       "      <td>2804400009</td>\n",
       "      <td>3642806036</td>\n",
       "      <td>2019-08-15</td>\n",
       "      <td>730</td>\n",
       "      <td>B</td>\n",
       "    </tr>\n",
       "    <tr>\n",
       "      <th>2</th>\n",
       "      <td>2961555356</td>\n",
       "      <td>4069496402</td>\n",
       "      <td>2019-08-15</td>\n",
       "      <td>400</td>\n",
       "      <td>A</td>\n",
       "    </tr>\n",
       "    <tr>\n",
       "      <th>3</th>\n",
       "      <td>3797467345</td>\n",
       "      <td>1196621759</td>\n",
       "      <td>2019-08-15</td>\n",
       "      <td>9759</td>\n",
       "      <td>B</td>\n",
       "    </tr>\n",
       "    <tr>\n",
       "      <th>4</th>\n",
       "      <td>2282983706</td>\n",
       "      <td>2322279887</td>\n",
       "      <td>2019-08-15</td>\n",
       "      <td>2308</td>\n",
       "      <td>B</td>\n",
       "    </tr>\n",
       "  </tbody>\n",
       "</table>\n",
       "</div>"
      ],
      "text/plain": [
       "   transactionId   visitorId        date  revenue group\n",
       "0     3667963787  3312258926  2019-08-15     1650     B\n",
       "1     2804400009  3642806036  2019-08-15      730     B\n",
       "2     2961555356  4069496402  2019-08-15      400     A\n",
       "3     3797467345  1196621759  2019-08-15     9759     B\n",
       "4     2282983706  2322279887  2019-08-15     2308     B"
      ]
     },
     "execution_count": 4,
     "metadata": {},
     "output_type": "execute_result"
    }
   ],
   "source": [
    "orders.head()"
   ]
  },
  {
   "cell_type": "markdown",
   "metadata": {},
   "source": [
    "transactionId и visitorId надо привести к нижнему регистру"
   ]
  },
  {
   "cell_type": "code",
   "execution_count": 5,
   "metadata": {},
   "outputs": [
    {
     "data": {
      "text/html": [
       "<div>\n",
       "<style scoped>\n",
       "    .dataframe tbody tr th:only-of-type {\n",
       "        vertical-align: middle;\n",
       "    }\n",
       "\n",
       "    .dataframe tbody tr th {\n",
       "        vertical-align: top;\n",
       "    }\n",
       "\n",
       "    .dataframe thead th {\n",
       "        text-align: right;\n",
       "    }\n",
       "</style>\n",
       "<table border=\"1\" class=\"dataframe\">\n",
       "  <thead>\n",
       "    <tr style=\"text-align: right;\">\n",
       "      <th></th>\n",
       "      <th>date</th>\n",
       "      <th>group</th>\n",
       "      <th>visitors</th>\n",
       "    </tr>\n",
       "  </thead>\n",
       "  <tbody>\n",
       "    <tr>\n",
       "      <th>0</th>\n",
       "      <td>2019-08-01</td>\n",
       "      <td>A</td>\n",
       "      <td>719</td>\n",
       "    </tr>\n",
       "    <tr>\n",
       "      <th>1</th>\n",
       "      <td>2019-08-02</td>\n",
       "      <td>A</td>\n",
       "      <td>619</td>\n",
       "    </tr>\n",
       "    <tr>\n",
       "      <th>2</th>\n",
       "      <td>2019-08-03</td>\n",
       "      <td>A</td>\n",
       "      <td>507</td>\n",
       "    </tr>\n",
       "    <tr>\n",
       "      <th>3</th>\n",
       "      <td>2019-08-04</td>\n",
       "      <td>A</td>\n",
       "      <td>717</td>\n",
       "    </tr>\n",
       "    <tr>\n",
       "      <th>4</th>\n",
       "      <td>2019-08-05</td>\n",
       "      <td>A</td>\n",
       "      <td>756</td>\n",
       "    </tr>\n",
       "  </tbody>\n",
       "</table>\n",
       "</div>"
      ],
      "text/plain": [
       "         date group  visitors\n",
       "0  2019-08-01     A       719\n",
       "1  2019-08-02     A       619\n",
       "2  2019-08-03     A       507\n",
       "3  2019-08-04     A       717\n",
       "4  2019-08-05     A       756"
      ]
     },
     "execution_count": 5,
     "metadata": {},
     "output_type": "execute_result"
    }
   ],
   "source": [
    "visitors.head()"
   ]
  },
  {
   "cell_type": "markdown",
   "metadata": {},
   "source": [
    "Посмотрим формат данных"
   ]
  },
  {
   "cell_type": "code",
   "execution_count": 6,
   "metadata": {},
   "outputs": [
    {
     "name": "stdout",
     "output_type": "stream",
     "text": [
      "*** ДАННЫЕ ФАЙЛА hypothesis ***\n",
      "<class 'pandas.core.frame.DataFrame'>\n",
      "RangeIndex: 9 entries, 0 to 8\n",
      "Data columns (total 5 columns):\n",
      " #   Column      Non-Null Count  Dtype \n",
      "---  ------      --------------  ----- \n",
      " 0   Hypothesis  9 non-null      object\n",
      " 1   Reach       9 non-null      int64 \n",
      " 2   Impact      9 non-null      int64 \n",
      " 3   Confidence  9 non-null      int64 \n",
      " 4   Efforts     9 non-null      int64 \n",
      "dtypes: int64(4), object(1)\n",
      "memory usage: 488.0+ bytes\n",
      "*** ДАННЫЕ ФАЙЛА orders ***\n",
      "<class 'pandas.core.frame.DataFrame'>\n",
      "RangeIndex: 1197 entries, 0 to 1196\n",
      "Data columns (total 5 columns):\n",
      " #   Column         Non-Null Count  Dtype \n",
      "---  ------         --------------  ----- \n",
      " 0   transactionId  1197 non-null   int64 \n",
      " 1   visitorId      1197 non-null   int64 \n",
      " 2   date           1197 non-null   object\n",
      " 3   revenue        1197 non-null   int64 \n",
      " 4   group          1197 non-null   object\n",
      "dtypes: int64(3), object(2)\n",
      "memory usage: 46.9+ KB\n",
      "*** ДАННЫЕ ФАЙЛА visitors ***\n",
      "<class 'pandas.core.frame.DataFrame'>\n",
      "RangeIndex: 62 entries, 0 to 61\n",
      "Data columns (total 3 columns):\n",
      " #   Column    Non-Null Count  Dtype \n",
      "---  ------    --------------  ----- \n",
      " 0   date      62 non-null     object\n",
      " 1   group     62 non-null     object\n",
      " 2   visitors  62 non-null     int64 \n",
      "dtypes: int64(1), object(2)\n",
      "memory usage: 1.6+ KB\n"
     ]
    }
   ],
   "source": [
    "#проверим формат данных\n",
    "print('*** ДАННЫЕ ФАЙЛА hypothesis ***')\n",
    "hypothesis.info()\n",
    "print('*** ДАННЫЕ ФАЙЛА orders ***')\n",
    "orders.info()\n",
    "print('*** ДАННЫЕ ФАЙЛА visitors ***')\n",
    "visitors.info()"
   ]
  },
  {
   "cell_type": "markdown",
   "metadata": {},
   "source": [
    "**Вывод** даты в формате object, нужно перевести их в формат даты. Проверим на дубликаты, чтобы обозначить весь список работ для предобработки"
   ]
  },
  {
   "cell_type": "code",
   "execution_count": 7,
   "metadata": {},
   "outputs": [
    {
     "data": {
      "text/plain": [
       "Hypothesis    0\n",
       "Reach         0\n",
       "Impact        0\n",
       "Confidence    0\n",
       "Efforts       0\n",
       "dtype: int64"
      ]
     },
     "execution_count": 7,
     "metadata": {},
     "output_type": "execute_result"
    }
   ],
   "source": [
    "hypothesis.isna().sum()"
   ]
  },
  {
   "cell_type": "code",
   "execution_count": 8,
   "metadata": {},
   "outputs": [
    {
     "data": {
      "text/plain": [
       "0"
      ]
     },
     "execution_count": 8,
     "metadata": {},
     "output_type": "execute_result"
    }
   ],
   "source": [
    "hypothesis.duplicated().sum()"
   ]
  },
  {
   "cell_type": "code",
   "execution_count": 9,
   "metadata": {},
   "outputs": [
    {
     "data": {
      "text/plain": [
       "transactionId    0\n",
       "visitorId        0\n",
       "date             0\n",
       "revenue          0\n",
       "group            0\n",
       "dtype: int64"
      ]
     },
     "execution_count": 9,
     "metadata": {},
     "output_type": "execute_result"
    }
   ],
   "source": [
    "orders.isna().sum()"
   ]
  },
  {
   "cell_type": "code",
   "execution_count": 10,
   "metadata": {},
   "outputs": [
    {
     "data": {
      "text/plain": [
       "0"
      ]
     },
     "execution_count": 10,
     "metadata": {},
     "output_type": "execute_result"
    }
   ],
   "source": [
    "orders.duplicated().sum()"
   ]
  },
  {
   "cell_type": "code",
   "execution_count": 11,
   "metadata": {},
   "outputs": [
    {
     "data": {
      "text/plain": [
       "date        0\n",
       "group       0\n",
       "visitors    0\n",
       "dtype: int64"
      ]
     },
     "execution_count": 11,
     "metadata": {},
     "output_type": "execute_result"
    }
   ],
   "source": [
    "visitors.isna().sum()"
   ]
  },
  {
   "cell_type": "code",
   "execution_count": 12,
   "metadata": {},
   "outputs": [
    {
     "data": {
      "text/plain": [
       "0"
      ]
     },
     "execution_count": 12,
     "metadata": {},
     "output_type": "execute_result"
    }
   ],
   "source": [
    "visitors.duplicated().sum()"
   ]
  },
  {
   "cell_type": "markdown",
   "metadata": {},
   "source": [
    "**Вывод** \n",
    "\n",
    "Дубликатов, пропусков не обнаружено. Но есть 3 пункта, которые нужно исправить:\n",
    "\n",
    "- Переведем формат данных 3х файлов даты из object в date\n",
    "- Переведем все названия стобцов файла hypothesis к нижнему регистру\n",
    "- Переименовать столбец visitorId и transactionId, исправив Id на id"
   ]
  },
  {
   "cell_type": "code",
   "execution_count": 13,
   "metadata": {},
   "outputs": [],
   "source": [
    "# исправим формат на datetime64\n",
    "orders['date'] = pd.to_datetime(orders['date'])\n",
    "visitors['date'] = pd.to_datetime(visitors['date'])"
   ]
  },
  {
   "cell_type": "code",
   "execution_count": 14,
   "metadata": {},
   "outputs": [],
   "source": [
    "#переведм названия колонок к нижнему регистру\n",
    "hypothesis.columns = hypothesis.columns.str.lower()"
   ]
  },
  {
   "cell_type": "code",
   "execution_count": 15,
   "metadata": {},
   "outputs": [],
   "source": [
    "#переименуем 2 столбца файла orders\n",
    "orders.rename(columns={'transactionId':'transactionid', 'visitorId':'visitorid'}, inplace=True)"
   ]
  },
  {
   "cell_type": "code",
   "execution_count": 16,
   "metadata": {},
   "outputs": [
    {
     "name": "stdout",
     "output_type": "stream",
     "text": [
      "Кол-во посетителей в группе А: 18736\n",
      "Кол-во посетителей в группе B: 18916\n",
      "Кол-во покупок в группе A: 557\n",
      "Кол-во покупок в группе B: 640\n"
     ]
    }
   ],
   "source": [
    "print('Кол-во посетителей в группе А: {}\\n'\n",
    "      'Кол-во посетителей в группе B: {}'.format(visitors[visitors['group']=='A']['visitors'].sum(), \n",
    "                                                 visitors[visitors['group']=='B']['visitors'].sum()))\n",
    "purchasesA = len(orders[orders['group']=='A'])\n",
    "purchasesB = len(orders[orders['group']=='B'])\n",
    "print('Кол-во покупок в группе A: {}'.format(purchasesA))\n",
    "print('Кол-во покупок в группе B: {}'.format(purchasesB))"
   ]
  },
  {
   "cell_type": "markdown",
   "metadata": {},
   "source": [
    "# ЧАСТЬ 1. Приоритизация гипотез\n",
    "\n",
    "**1.1 Применим фреймворк ICE для приоритизации гипотез. Отсортируем их по убыванию приоритета.**"
   ]
  },
  {
   "cell_type": "code",
   "execution_count": 17,
   "metadata": {},
   "outputs": [
    {
     "name": "stdout",
     "output_type": "stream",
     "text": [
      "                                          hypothesis        ICE\n",
      "8  Запустить акцию, дающую скидку на товар в день...  16.200000\n",
      "0  Добавить два новых канала привлечения трафика,...  13.333333\n",
      "7  Добавить форму подписки на все основные страни...  11.200000\n",
      "6  Показать на главной странице баннеры с актуаль...   8.000000\n",
      "2  Добавить блоки рекомендаций товаров на сайт ин...   7.000000\n",
      "1  Запустить собственную службу доставки, что сок...   2.000000\n",
      "5  Добавить страницу отзывов клиентов о магазине,...   1.333333\n",
      "3  Изменить структура категорий, что увеличит кон...   1.125000\n",
      "4  Изменить цвет фона главной страницы, чтобы уве...   1.000000\n"
     ]
    }
   ],
   "source": [
    "hypothesis['ICE'] = (hypothesis['impact'] * hypothesis['confidence']) / hypothesis['efforts']\n",
    "print(hypothesis[['hypothesis', 'ICE']].sort_values(by='ICE', ascending=False))"
   ]
  },
  {
   "cell_type": "code",
   "execution_count": 18,
   "metadata": {},
   "outputs": [
    {
     "data": {
      "image/png": "[encoded data removed]",
      "text/plain": [
       "<Figure size 720x576 with 1 Axes>"
      ]
     },
     "metadata": {},
     "output_type": "display_data"
    }
   ],
   "source": [
    "ax = hypothesis[['hypothesis', 'ICE']].set_index('hypothesis').sort_values('ICE', ascending=True).plot(kind='barh')\n",
    "ax.set_xlabel('Приоритет')\n",
    "ax.set_ylabel('Гипотеза')\n",
    "ax.set_title('ICE')\n",
    "plt.show()"
   ]
  },
  {
   "cell_type": "markdown",
   "metadata": {},
   "source": [
    "**1.2 Применим фреймворк RICE для приоритизации гипотез. Отсортируем их по убыванию приоритета.**"
   ]
  },
  {
   "cell_type": "code",
   "execution_count": 19,
   "metadata": {},
   "outputs": [
    {
     "name": "stdout",
     "output_type": "stream",
     "text": [
      "                                          hypothesis   RICE\n",
      "7  Добавить форму подписки на все основные страни...  112.0\n",
      "2  Добавить блоки рекомендаций товаров на сайт ин...   56.0\n",
      "0  Добавить два новых канала привлечения трафика,...   40.0\n",
      "6  Показать на главной странице баннеры с актуаль...   40.0\n",
      "8  Запустить акцию, дающую скидку на товар в день...   16.2\n",
      "3  Изменить структура категорий, что увеличит кон...    9.0\n",
      "1  Запустить собственную службу доставки, что сок...    4.0\n",
      "5  Добавить страницу отзывов клиентов о магазине,...    4.0\n",
      "4  Изменить цвет фона главной страницы, чтобы уве...    3.0\n"
     ]
    }
   ],
   "source": [
    "hypothesis['RICE'] = (hypothesis['reach'] * hypothesis['impact']*hypothesis['confidence'])/hypothesis['efforts']\n",
    "print(hypothesis[['hypothesis', 'RICE']].sort_values(by='RICE', ascending=False))"
   ]
  },
  {
   "cell_type": "code",
   "execution_count": 20,
   "metadata": {},
   "outputs": [
    {
     "data": {
      "image/png": "[encoded data removed]",
      "text/plain": [
       "<Figure size 720x576 with 1 Axes>"
      ]
     },
     "metadata": {},
     "output_type": "display_data"
    }
   ],
   "source": [
    "ax = hypothesis[['hypothesis', 'RICE']].set_index('hypothesis').sort_values('RICE', ascending=True).plot(kind='barh')\n",
    "ax.set_xlabel('Приоритет')\n",
    "ax.set_ylabel('Гипотеза')\n",
    "ax.set_title('RICE')\n",
    "plt.show()"
   ]
  },
  {
   "cell_type": "markdown",
   "metadata": {},
   "source": [
    "**1.3 Укажите, как изменилась приоритизация гипотез при применении RICE вместо ICE. Объясните, почему так произошло.**"
   ]
  },
  {
   "cell_type": "code",
   "execution_count": 21,
   "metadata": {},
   "outputs": [
    {
     "data": {
      "text/html": [
       "<div>\n",
       "<style scoped>\n",
       "    .dataframe tbody tr th:only-of-type {\n",
       "        vertical-align: middle;\n",
       "    }\n",
       "\n",
       "    .dataframe tbody tr th {\n",
       "        vertical-align: top;\n",
       "    }\n",
       "\n",
       "    .dataframe thead th {\n",
       "        text-align: right;\n",
       "    }\n",
       "</style>\n",
       "<table border=\"1\" class=\"dataframe\">\n",
       "  <thead>\n",
       "    <tr style=\"text-align: right;\">\n",
       "      <th></th>\n",
       "      <th>hypothesis</th>\n",
       "      <th>ICE</th>\n",
       "      <th>RICE</th>\n",
       "    </tr>\n",
       "  </thead>\n",
       "  <tbody>\n",
       "    <tr>\n",
       "      <th>7</th>\n",
       "      <td>Добавить форму подписки на все основные страни...</td>\n",
       "      <td>11.200000</td>\n",
       "      <td>112.0</td>\n",
       "    </tr>\n",
       "    <tr>\n",
       "      <th>2</th>\n",
       "      <td>Добавить блоки рекомендаций товаров на сайт ин...</td>\n",
       "      <td>7.000000</td>\n",
       "      <td>56.0</td>\n",
       "    </tr>\n",
       "    <tr>\n",
       "      <th>0</th>\n",
       "      <td>Добавить два новых канала привлечения трафика,...</td>\n",
       "      <td>13.333333</td>\n",
       "      <td>40.0</td>\n",
       "    </tr>\n",
       "    <tr>\n",
       "      <th>6</th>\n",
       "      <td>Показать на главной странице баннеры с актуаль...</td>\n",
       "      <td>8.000000</td>\n",
       "      <td>40.0</td>\n",
       "    </tr>\n",
       "    <tr>\n",
       "      <th>8</th>\n",
       "      <td>Запустить акцию, дающую скидку на товар в день...</td>\n",
       "      <td>16.200000</td>\n",
       "      <td>16.2</td>\n",
       "    </tr>\n",
       "    <tr>\n",
       "      <th>3</th>\n",
       "      <td>Изменить структура категорий, что увеличит кон...</td>\n",
       "      <td>1.125000</td>\n",
       "      <td>9.0</td>\n",
       "    </tr>\n",
       "    <tr>\n",
       "      <th>1</th>\n",
       "      <td>Запустить собственную службу доставки, что сок...</td>\n",
       "      <td>2.000000</td>\n",
       "      <td>4.0</td>\n",
       "    </tr>\n",
       "    <tr>\n",
       "      <th>5</th>\n",
       "      <td>Добавить страницу отзывов клиентов о магазине,...</td>\n",
       "      <td>1.333333</td>\n",
       "      <td>4.0</td>\n",
       "    </tr>\n",
       "    <tr>\n",
       "      <th>4</th>\n",
       "      <td>Изменить цвет фона главной страницы, чтобы уве...</td>\n",
       "      <td>1.000000</td>\n",
       "      <td>3.0</td>\n",
       "    </tr>\n",
       "  </tbody>\n",
       "</table>\n",
       "</div>"
      ],
      "text/plain": [
       "                                          hypothesis        ICE   RICE\n",
       "7  Добавить форму подписки на все основные страни...  11.200000  112.0\n",
       "2  Добавить блоки рекомендаций товаров на сайт ин...   7.000000   56.0\n",
       "0  Добавить два новых канала привлечения трафика,...  13.333333   40.0\n",
       "6  Показать на главной странице баннеры с актуаль...   8.000000   40.0\n",
       "8  Запустить акцию, дающую скидку на товар в день...  16.200000   16.2\n",
       "3  Изменить структура категорий, что увеличит кон...   1.125000    9.0\n",
       "1  Запустить собственную службу доставки, что сок...   2.000000    4.0\n",
       "5  Добавить страницу отзывов клиентов о магазине,...   1.333333    4.0\n",
       "4  Изменить цвет фона главной страницы, чтобы уве...   1.000000    3.0"
      ]
     },
     "metadata": {},
     "output_type": "display_data"
    }
   ],
   "source": [
    "display(hypothesis[['hypothesis', 'ICE','RICE']].sort_values(by='RICE', ascending=False))"
   ]
  },
  {
   "cell_type": "markdown",
   "metadata": {},
   "source": [
    "Так произошло, потому в RICE помимо достижимости, дешевизны тестирование оценивается еще и объем пользователей, которых затронет изменение."
   ]
  },
  {
   "cell_type": "markdown",
   "metadata": {},
   "source": [
    "**Вывод по части 1**\n",
    "\n",
    "В приоритизации по ICE в топе 3 гипотезы № 8, 0, 7\n",
    "В приоритизации по RICE в топе 4 гипотезы № 7, 2, 0, 6\n",
    "\n",
    "Разница фреймворков в том, что в RICE оценивается еще и число пользователей, которых затронут изменения. Поэтому вывод по приоритизации надо делать исходя из обоих результатов. \n",
    "\n",
    "То есть гипотеза 7, например, в явном приоритете по обоим фреймворкам, так как не только сильно повлияет на пользователей и их удовлетворение продуктом, сравнительна дешевая в тестировании, но еще и затронет бОльшее число пользователей. Поэтому именно с нее и стоит начать. \n",
    "\n",
    "Итого гипотезы в порядке приоритета:\n",
    "\n",
    "1. Гипотеза № 7 *-Добавить форму подписки на все основные страницы, чтобы собрать базу клиентов для email-рассылок*\n",
    "2. Гипотеза № 0 *-Добавить два новых канала привлечения трафика, что позволит привлекать на 30% больше пользователей*\n",
    "3. Гипотеза № 2 *-Добавить блоки рекомендаций товаров на сайт интернет магазина, чтобы повысить конверсию и средний чек заказа*\n",
    "4. Гипотеза № 8 *-Запустить акцию, дающую скидку на товар в день рождения*\n",
    "5. Гипотеза № 6 *-Показать на главной странице баннеры с актуальными акциями и распродажами, чтобы увеличить конверсию*\n",
    "6. Гипотеза № 3 *-Изменить структура категорий, что увеличит конверсию, т.к. пользователи быстрее найдут нужный товар*\n",
    "7. Гипотеза № 5 *-Добавить страницу отзывов клиентов о магазине, что позволит увеличить количество заказов*\n",
    "8. Гипотеза № 4 *-Изменить цвет фона главной страницы, чтобы увеличить вовлеченность пользователей*"
   ]
  },
  {
   "cell_type": "markdown",
   "metadata": {},
   "source": [
    "# Часть 2. Анализ A/B-теста\n",
    "Провели A/B-тест и получили результаты, которые описаны в файлах /datasets/orders.csv и /datasets/visitors.csv\n",
    "\n",
    "**Задача проанализировать A/B-тест**\n",
    "\n",
    "Для начала посмотрим на распределение данных, период тестирования, размеры групп в выборке"
   ]
  },
  {
   "cell_type": "code",
   "execution_count": 22,
   "metadata": {},
   "outputs": [
    {
     "name": "stdout",
     "output_type": "stream",
     "text": [
      "2019-08-31 00:00:00\n",
      "2019-08-31 00:00:00\n"
     ]
    }
   ],
   "source": [
    "#определим дату конца А/В тестирования\n",
    "print(orders['date'].max())\n",
    "print(visitors['date'].max())"
   ]
  },
  {
   "cell_type": "code",
   "execution_count": 23,
   "metadata": {},
   "outputs": [
    {
     "name": "stdout",
     "output_type": "stream",
     "text": [
      "2019-08-01 00:00:00\n",
      "2019-08-01 00:00:00\n"
     ]
    }
   ],
   "source": [
    "#определим дату старта А/В тестирования\n",
    "print(orders['date'].min())\n",
    "print(visitors['date'].min())"
   ]
  },
  {
   "cell_type": "code",
   "execution_count": 24,
   "metadata": {},
   "outputs": [
    {
     "name": "stdout",
     "output_type": "stream",
     "text": [
      "Кол-во посетителей в группе А: 18736\n",
      "Кол-во посетителей в группе B: 18916\n",
      "Кол-во покупок в группе A: 557\n",
      "Кол-во покупок в группе B: 640\n"
     ]
    }
   ],
   "source": [
    "#посмотрим сколько пользователей было в группах\n",
    "print('Кол-во посетителей в группе А: {}\\n'\n",
    "      'Кол-во посетителей в группе B: {}'.format(visitors[visitors['group']=='A']['visitors'].sum(), \n",
    "                                                 visitors[visitors['group']=='B']['visitors'].sum()))\n",
    "#оценим общее число покупок\n",
    "purchasesA = len(orders[orders['group']=='A'])\n",
    "purchasesB = len(orders[orders['group']=='B'])\n",
    "print('Кол-во покупок в группе A: {}'.format(purchasesA))\n",
    "print('Кол-во покупок в группе B: {}'.format(purchasesB))"
   ]
  },
  {
   "cell_type": "code",
   "execution_count": 25,
   "metadata": {},
   "outputs": [
    {
     "data": {
      "image/png": "[encoded data removed]",
      "text/plain": [
       "<Figure size 720x576 with 1 Axes>"
      ]
     },
     "metadata": {},
     "output_type": "display_data"
    },
    {
     "name": "stdout",
     "output_type": "stream",
     "text": [
      "P-value:0.7301376549390499\n",
      "Разница в количестве посетителей в группах A и B статистически НЕ значима\n",
      "\n",
      "Начальная конверсия: 0.034\n",
      "Полученная после изменений конверсия: 0.034\n",
      "Относительное изменение конверсии после изменений: 0.121\n",
      "\n",
      "Вводим начальную конверсию и полученное относительное изменение конверсии в калькулятор\n",
      "Сайт калькулятора: https://www.evanmiller.org/ab-testing/sample-size.htmlПолучаем необходимое количество выборки 35855 для корректного проведения тестирования\n",
      "В нашем случае количество 37652 посещений\n",
      "Кол-во выборки для A/B тестирования корректно подобрано, статистически значимой разницы\n",
      "в количестве посещений между группами не обнаружено\n",
      "\n",
      "\n"
     ]
    }
   ],
   "source": [
    "#оценим конверсию и корректность числа пользователей дла А В тестирования\n",
    "plt.hist(visitors[visitors['group']=='A']['visitors'], alpha = 0.8, label='A', bins = 50)\n",
    "plt.hist(visitors[visitors['group']=='B']['visitors'], alpha = 0.8, label='B', bins = 50)\n",
    "plt.legend()\n",
    "plt.title('Количество посетителей в день по группам A и B')\n",
    "plt.show()\n",
    "results = stats.mannwhitneyu(visitors[visitors['group']=='A']['visitors'], visitors[visitors['group']=='B']['visitors'])\n",
    "alpha = 0.05\n",
    "print('P-value:{}'.format(results.pvalue))\n",
    "if results.pvalue < alpha:\n",
    "    print('Разница в количестве посетителей в группах A и B статистически значима\\n')\n",
    "else:\n",
    "    print('Разница в количестве посетителей в группах A и B статистически НЕ значима\\n')\n",
    "\n",
    "start_conversion = len(orders[orders['group']=='A']) / visitors[visitors['group']=='A']['visitors'].sum() \n",
    "final_conversion = len(orders[orders['group']=='B']) / visitors[visitors['group']=='B']['visitors'].sum()\n",
    "print('Начальная конверсия: {:.3f}'.format(final_conversion))\n",
    "print('Полученная после изменений конверсия: {:.3f}'.format(final_conversion))\n",
    "print('Относительное изменение конверсии после изменений: {:.3f}'.format(abs(1-(start_conversion/final_conversion))))\n",
    "print('\\nВводим начальную конверсию и полученное относительное изменение конверсии в калькулятор\\n'\n",
    "     'Сайт калькулятора: https://www.evanmiller.org/ab-testing/sample-size.html'\n",
    "     'Получаем необходимое количество выборки 35855 для корректного проведения тестирования\\n'\n",
    "     'В нашем случае количество {} посещений\\n'\n",
    "      'Кол-во выборки для A/B тестирования корректно подобрано, ' \n",
    "      'статистически значимой разницы\\nв количестве посещений между группами не обнаружено\\n\\n'.format(visitors['visitors'].sum()))"
   ]
  },
  {
   "cell_type": "markdown",
   "metadata": {},
   "source": [
    "**2.1** Построим график кумулятивной выручки по группам. Сделаем выводы и предположения. Создадим датафрейм orders_grouped с уникальными парами значений 'date' и 'group'"
   ]
  },
  {
   "cell_type": "code",
   "execution_count": 26,
   "metadata": {},
   "outputs": [],
   "source": [
    "orders_grouped = (orders.groupby(['date','group'], as_index=False)\n",
    "                        .agg({'transactionid':'nunique','visitorid':'nunique','revenue':'sum'}))\\\n",
    "                        .rename(columns={'transactionid':'orders','visitorid':'buyers'})\n",
    "orders_grouped['group_copy'] = orders_grouped['group']\n",
    "orders_grouped = orders_grouped.set_index(['date','group'])\n",
    "orders_cumsum = orders_grouped.sort_values(['date','group']).groupby('group_copy').cumsum().reset_index()"
   ]
  },
  {
   "cell_type": "code",
   "execution_count": 27,
   "metadata": {},
   "outputs": [],
   "source": [
    "# посчитаем сумму визитов по дням в каждой группе\n",
    "visitors_cumsum = visitors.groupby(['date','group'], as_index=False).agg({'visitors':'sum'}).sort_values(['date','group'])\n",
    "# скопируем group чтобы провести по ней кумулятивную сумму\n",
    "visitors_cumsum['group_copy'] = visitors_cumsum['group']\n",
    "visitors_cumsum = visitors_cumsum.set_index(['date','group']).groupby('group_copy').cumsum().reset_index() "
   ]
  },
  {
   "cell_type": "code",
   "execution_count": 28,
   "metadata": {},
   "outputs": [],
   "source": [
    "cummulative = orders_cumsum.join(visitors_cumsum[['visitors']])"
   ]
  },
  {
   "cell_type": "markdown",
   "metadata": {},
   "source": [
    "**Посчитаем куммулятивную выручку**"
   ]
  },
  {
   "cell_type": "code",
   "execution_count": 29,
   "metadata": {},
   "outputs": [],
   "source": [
    "cummulative['average_check'] = cummulative['revenue'] / cummulative['orders']\n",
    "cummulative['conversion'] = cummulative['orders'] / cummulative['visitors']"
   ]
  },
  {
   "cell_type": "code",
   "execution_count": 30,
   "metadata": {},
   "outputs": [
    {
     "data": {
      "text/html": [
       "<div>\n",
       "<style scoped>\n",
       "    .dataframe tbody tr th:only-of-type {\n",
       "        vertical-align: middle;\n",
       "    }\n",
       "\n",
       "    .dataframe tbody tr th {\n",
       "        vertical-align: top;\n",
       "    }\n",
       "\n",
       "    .dataframe thead th {\n",
       "        text-align: right;\n",
       "    }\n",
       "</style>\n",
       "<table border=\"1\" class=\"dataframe\">\n",
       "  <thead>\n",
       "    <tr style=\"text-align: right;\">\n",
       "      <th></th>\n",
       "      <th>date</th>\n",
       "      <th>group</th>\n",
       "      <th>orders</th>\n",
       "      <th>buyers</th>\n",
       "      <th>revenue</th>\n",
       "      <th>visitors</th>\n",
       "      <th>average_check</th>\n",
       "      <th>conversion</th>\n",
       "    </tr>\n",
       "  </thead>\n",
       "  <tbody>\n",
       "    <tr>\n",
       "      <th>0</th>\n",
       "      <td>2019-08-01</td>\n",
       "      <td>A</td>\n",
       "      <td>24</td>\n",
       "      <td>20</td>\n",
       "      <td>148579</td>\n",
       "      <td>719</td>\n",
       "      <td>6190.791667</td>\n",
       "      <td>0.033380</td>\n",
       "    </tr>\n",
       "    <tr>\n",
       "      <th>1</th>\n",
       "      <td>2019-08-01</td>\n",
       "      <td>B</td>\n",
       "      <td>21</td>\n",
       "      <td>20</td>\n",
       "      <td>101217</td>\n",
       "      <td>713</td>\n",
       "      <td>4819.857143</td>\n",
       "      <td>0.029453</td>\n",
       "    </tr>\n",
       "    <tr>\n",
       "      <th>2</th>\n",
       "      <td>2019-08-02</td>\n",
       "      <td>A</td>\n",
       "      <td>44</td>\n",
       "      <td>39</td>\n",
       "      <td>242401</td>\n",
       "      <td>1338</td>\n",
       "      <td>5509.113636</td>\n",
       "      <td>0.032885</td>\n",
       "    </tr>\n",
       "    <tr>\n",
       "      <th>3</th>\n",
       "      <td>2019-08-02</td>\n",
       "      <td>B</td>\n",
       "      <td>45</td>\n",
       "      <td>43</td>\n",
       "      <td>266748</td>\n",
       "      <td>1294</td>\n",
       "      <td>5927.733333</td>\n",
       "      <td>0.034776</td>\n",
       "    </tr>\n",
       "    <tr>\n",
       "      <th>4</th>\n",
       "      <td>2019-08-03</td>\n",
       "      <td>A</td>\n",
       "      <td>68</td>\n",
       "      <td>63</td>\n",
       "      <td>354874</td>\n",
       "      <td>1845</td>\n",
       "      <td>5218.735294</td>\n",
       "      <td>0.036856</td>\n",
       "    </tr>\n",
       "  </tbody>\n",
       "</table>\n",
       "</div>"
      ],
      "text/plain": [
       "        date group  orders  buyers  revenue  visitors  average_check  \\\n",
       "0 2019-08-01     A      24      20   148579       719    6190.791667   \n",
       "1 2019-08-01     B      21      20   101217       713    4819.857143   \n",
       "2 2019-08-02     A      44      39   242401      1338    5509.113636   \n",
       "3 2019-08-02     B      45      43   266748      1294    5927.733333   \n",
       "4 2019-08-03     A      68      63   354874      1845    5218.735294   \n",
       "\n",
       "   conversion  \n",
       "0    0.033380  \n",
       "1    0.029453  \n",
       "2    0.032885  \n",
       "3    0.034776  \n",
       "4    0.036856  "
      ]
     },
     "execution_count": 30,
     "metadata": {},
     "output_type": "execute_result"
    }
   ],
   "source": [
    "cummulative.head()"
   ]
  },
  {
   "cell_type": "markdown",
   "metadata": {},
   "source": [
    "**Построим график кумулятивной выручки**"
   ]
  },
  {
   "cell_type": "code",
   "execution_count": 31,
   "metadata": {},
   "outputs": [
    {
     "data": {
      "image/png": "[encoded data removed]",
      "text/plain": [
       "<Figure size 720x576 with 1 Axes>"
      ]
     },
     "metadata": {},
     "output_type": "display_data"
    }
   ],
   "source": [
    "cummulativeA = cummulative[cummulative['group']=='A'][['date', 'revenue']]\n",
    "cummulativeB = cummulative[cummulative['group']=='B'][['date', 'revenue']]\n",
    "plt.plot(cummulativeA.iloc[:,0].to_frame(), cummulativeA.iloc[:,1].to_frame(), label='A' )\n",
    "plt.plot(cummulativeB.iloc[:,0].to_frame(), cummulativeB.iloc[:,1].to_frame(), label='B')\n",
    "plt.title('График кумулятивной выручки по группам')\n",
    "plt.ylabel(\"Выручка\")\n",
    "plt.xticks(rotation=50)\n",
    "plt.legend()\n",
    "plt.show()"
   ]
  },
  {
   "cell_type": "markdown",
   "metadata": {},
   "source": [
    "**Вывод по анализу кумулятивной выручки**\n",
    "\n",
    "В целом выручка с группы В выше, чем с А. В период с 1 августа по 8 августа выручка обеих групп была на равне, но дальше группа В выросла.\n",
    "18-19 августа произошел резкий скачок роста выручки у группы А - необходимо проверить, есть ли аномальные значения в данных или выбросы."
   ]
  },
  {
   "cell_type": "markdown",
   "metadata": {},
   "source": [
    "**2.2 Постройте график кумулятивного среднего чека по группам. Сделайте выводы и предположения.**"
   ]
  },
  {
   "cell_type": "code",
   "execution_count": 32,
   "metadata": {},
   "outputs": [
    {
     "data": {
      "image/png": "[encoded data removed]",
      "text/plain": [
       "<Figure size 720x576 with 1 Axes>"
      ]
     },
     "metadata": {},
     "output_type": "display_data"
    }
   ],
   "source": [
    "cummulativeA = cummulative[cummulative['group']=='A'][['date', 'average_check']]\n",
    "cummulativeB = cummulative[cummulative['group']=='B'][['date', 'average_check']]\n",
    "\n",
    "#составим график на основе полученных данных\n",
    "plt.plot(cummulativeA.iloc[:,0].to_frame(), cummulativeA.iloc[:,1].to_frame(), label='A' )\n",
    "plt.plot(cummulativeB.iloc[:,0].to_frame(), cummulativeB.iloc[:,1].to_frame(), label='B')\n",
    "plt.title('График кумулятивного среднего чека по группам')\n",
    "plt.ylabel(\"Размер среднего чека\")\n",
    "plt.xticks(rotation=45)\n",
    "plt.legend()\n",
    "plt.show()"
   ]
  },
  {
   "cell_type": "markdown",
   "metadata": {},
   "source": [
    "**Вывод по анализу кумулятивного среднего чека** \n",
    "\n",
    "В целом средний чек по группе B выше. \n",
    "Но опять в группе В виден аномальный рост на 18-19 августа по среднему чеку - значит скорее всего что-то не так в данных по оплате заказов, и выбросы по выручке были из-за этого. С 20-21 августа данные выровнялись, средний чек группы В остался в пределах 9-10 тысяч до конца тестирования.\n",
    "Группа А показывает результат хуже, был резкий спад 6 августа, далее чек рос до 13 числа (и вырос до 7500). После-стабилизировался в пределах (6800-7500)"
   ]
  },
  {
   "cell_type": "markdown",
   "metadata": {},
   "source": [
    "**2.3 Постройте график относительного изменения кумулятивного среднего чека группы B к группе A. Сделайте выводы и предположения.**"
   ]
  },
  {
   "cell_type": "code",
   "execution_count": 33,
   "metadata": {},
   "outputs": [
    {
     "data": {
      "image/png": "[encoded data removed]",
      "text/plain": [
       "<Figure size 720x576 with 1 Axes>"
      ]
     },
     "metadata": {},
     "output_type": "display_data"
    }
   ],
   "source": [
    "avg_bill = (cummulativeA[['date', 'average_check']].merge(cummulativeB[['date', 'average_check']], \n",
    "                                            left_on='date', right_on='date', how='left', suffixes=['_A', '_B']))\n",
    "plt.plot(avg_bill['date'], avg_bill['average_check_B'] / avg_bill['average_check_A']-1)\n",
    "plt.title('График относительного изменения кумулятивного среднего чека группы B к группе A')\n",
    "plt.axhline(y=0, color='red', linestyle='-')\n",
    "plt.xticks(rotation=30)\n",
    "plt.show()"
   ]
  },
  {
   "cell_type": "markdown",
   "metadata": {},
   "source": [
    "**Вывод по анализу относительного изменения кумулятивного среднего чека группы B к группе A**\n",
    "\n",
    "В нескольких точках график различия между сегментами резко «скачет», значит в данных по оплатам есть аномалии и выбросы. Резкие скачки например есть 2, 6 и 18 августа"
   ]
  },
  {
   "cell_type": "markdown",
   "metadata": {},
   "source": [
    "**2.4 Постройте график кумулятивного среднего количества заказов на посетителя по группам. Сделайте выводы и предположения.**"
   ]
  },
  {
   "cell_type": "code",
   "execution_count": 34,
   "metadata": {},
   "outputs": [
    {
     "data": {
      "text/html": [
       "<div>\n",
       "<style scoped>\n",
       "    .dataframe tbody tr th:only-of-type {\n",
       "        vertical-align: middle;\n",
       "    }\n",
       "\n",
       "    .dataframe tbody tr th {\n",
       "        vertical-align: top;\n",
       "    }\n",
       "\n",
       "    .dataframe thead th {\n",
       "        text-align: right;\n",
       "    }\n",
       "</style>\n",
       "<table border=\"1\" class=\"dataframe\">\n",
       "  <thead>\n",
       "    <tr style=\"text-align: right;\">\n",
       "      <th></th>\n",
       "      <th>date</th>\n",
       "      <th>ordersPerDateA</th>\n",
       "      <th>revenuePerDateA</th>\n",
       "      <th>ordersPerDateB</th>\n",
       "      <th>revenuePerDateB</th>\n",
       "      <th>ordersCummulativeA</th>\n",
       "      <th>revenueCummulativeA</th>\n",
       "      <th>ordersCummulativeB</th>\n",
       "      <th>revenueCummulativeB</th>\n",
       "      <th>visitorsPerDateA</th>\n",
       "      <th>visitorsPerDateB</th>\n",
       "      <th>visitorsCummulativeA</th>\n",
       "      <th>visitorsCummulativeB</th>\n",
       "      <th>order_per_visitorA</th>\n",
       "      <th>order_per_visitorB</th>\n",
       "    </tr>\n",
       "  </thead>\n",
       "  <tbody>\n",
       "    <tr>\n",
       "      <th>0</th>\n",
       "      <td>2019-08-01</td>\n",
       "      <td>20</td>\n",
       "      <td>148579</td>\n",
       "      <td>21</td>\n",
       "      <td>101217</td>\n",
       "      <td>20</td>\n",
       "      <td>148579</td>\n",
       "      <td>21</td>\n",
       "      <td>101217</td>\n",
       "      <td>719</td>\n",
       "      <td>713</td>\n",
       "      <td>719</td>\n",
       "      <td>713</td>\n",
       "      <td>0.027816</td>\n",
       "      <td>0.029453</td>\n",
       "    </tr>\n",
       "    <tr>\n",
       "      <th>1</th>\n",
       "      <td>2019-08-02</td>\n",
       "      <td>19</td>\n",
       "      <td>93822</td>\n",
       "      <td>24</td>\n",
       "      <td>165531</td>\n",
       "      <td>39</td>\n",
       "      <td>242401</td>\n",
       "      <td>45</td>\n",
       "      <td>266748</td>\n",
       "      <td>619</td>\n",
       "      <td>581</td>\n",
       "      <td>1338</td>\n",
       "      <td>1294</td>\n",
       "      <td>0.029148</td>\n",
       "      <td>0.034776</td>\n",
       "    </tr>\n",
       "    <tr>\n",
       "      <th>2</th>\n",
       "      <td>2019-08-03</td>\n",
       "      <td>24</td>\n",
       "      <td>112473</td>\n",
       "      <td>16</td>\n",
       "      <td>114248</td>\n",
       "      <td>63</td>\n",
       "      <td>354874</td>\n",
       "      <td>61</td>\n",
       "      <td>380996</td>\n",
       "      <td>507</td>\n",
       "      <td>509</td>\n",
       "      <td>1845</td>\n",
       "      <td>1803</td>\n",
       "      <td>0.034146</td>\n",
       "      <td>0.033833</td>\n",
       "    </tr>\n",
       "    <tr>\n",
       "      <th>3</th>\n",
       "      <td>2019-08-04</td>\n",
       "      <td>15</td>\n",
       "      <td>70825</td>\n",
       "      <td>17</td>\n",
       "      <td>108571</td>\n",
       "      <td>78</td>\n",
       "      <td>425699</td>\n",
       "      <td>78</td>\n",
       "      <td>489567</td>\n",
       "      <td>717</td>\n",
       "      <td>770</td>\n",
       "      <td>2562</td>\n",
       "      <td>2573</td>\n",
       "      <td>0.030445</td>\n",
       "      <td>0.030315</td>\n",
       "    </tr>\n",
       "    <tr>\n",
       "      <th>4</th>\n",
       "      <td>2019-08-05</td>\n",
       "      <td>25</td>\n",
       "      <td>124218</td>\n",
       "      <td>23</td>\n",
       "      <td>92428</td>\n",
       "      <td>103</td>\n",
       "      <td>549917</td>\n",
       "      <td>101</td>\n",
       "      <td>581995</td>\n",
       "      <td>756</td>\n",
       "      <td>707</td>\n",
       "      <td>3318</td>\n",
       "      <td>3280</td>\n",
       "      <td>0.031043</td>\n",
       "      <td>0.030793</td>\n",
       "    </tr>\n",
       "  </tbody>\n",
       "</table>\n",
       "</div>"
      ],
      "text/plain": [
       "        date  ordersPerDateA  revenuePerDateA  ordersPerDateB  \\\n",
       "0 2019-08-01              20           148579              21   \n",
       "1 2019-08-02              19            93822              24   \n",
       "2 2019-08-03              24           112473              16   \n",
       "3 2019-08-04              15            70825              17   \n",
       "4 2019-08-05              25           124218              23   \n",
       "\n",
       "   revenuePerDateB  ordersCummulativeA  revenueCummulativeA  \\\n",
       "0           101217                  20               148579   \n",
       "1           165531                  39               242401   \n",
       "2           114248                  63               354874   \n",
       "3           108571                  78               425699   \n",
       "4            92428                 103               549917   \n",
       "\n",
       "   ordersCummulativeB  revenueCummulativeB  visitorsPerDateA  \\\n",
       "0                  21               101217               719   \n",
       "1                  45               266748               619   \n",
       "2                  61               380996               507   \n",
       "3                  78               489567               717   \n",
       "4                 101               581995               756   \n",
       "\n",
       "   visitorsPerDateB  visitorsCummulativeA  visitorsCummulativeB  \\\n",
       "0               713                   719                   713   \n",
       "1               581                  1338                  1294   \n",
       "2               509                  1845                  1803   \n",
       "3               770                  2562                  2573   \n",
       "4               707                  3318                  3280   \n",
       "\n",
       "   order_per_visitorA  order_per_visitorB  \n",
       "0            0.027816            0.029453  \n",
       "1            0.029148            0.034776  \n",
       "2            0.034146            0.033833  \n",
       "3            0.030445            0.030315  \n",
       "4            0.031043            0.030793  "
      ]
     },
     "execution_count": 34,
     "metadata": {},
     "output_type": "execute_result"
    }
   ],
   "source": [
    "visitorsADaily = visitors[visitors['group'] == 'A'][['date', 'visitors']]\n",
    "visitorsADaily.columns = ['date', 'visitorsPerDateA']\n",
    "\n",
    "visitorsACummulative = visitorsADaily.apply(\n",
    "    lambda x: visitorsADaily[visitorsADaily['date'] <= x['date']].agg(\n",
    "        {'date': 'max', 'visitorsPerDateA': 'sum'}\n",
    "    ),\n",
    "    axis=1,\n",
    ")\n",
    "visitorsACummulative.columns = ['date', 'visitorsCummulativeA']\n",
    "\n",
    "visitorsBDaily = visitors[visitors['group'] == 'B'][['date', 'visitors']]\n",
    "visitorsBDaily.columns = ['date', 'visitorsPerDateB']\n",
    "\n",
    "visitorsBCummulative = visitorsBDaily.apply(\n",
    "    lambda x: visitorsBDaily[visitorsBDaily['date'] <= x['date']].agg(\n",
    "        {'date': 'max', 'visitorsPerDateB': 'sum'}\n",
    "    ),\n",
    "    axis=1,\n",
    ")\n",
    "visitorsBCummulative.columns = ['date', 'visitorsCummulativeB']\n",
    "\n",
    "ordersADaily = (\n",
    "    orders[orders['group'] == 'A'][['date', 'transactionid', 'visitorid', 'revenue']]\n",
    "    .groupby('date', as_index=False)\n",
    "    .agg({'visitorid': pd.Series.nunique, 'revenue': 'sum'})\n",
    ")\n",
    "ordersADaily.columns = ['date', 'ordersPerDateA', 'revenuePerDateA']\n",
    "\n",
    "ordersACummulative = ordersADaily.apply(\n",
    "    lambda x: ordersADaily[ordersADaily['date'] <= x['date']].agg(\n",
    "        {'date': 'max', 'ordersPerDateA': 'sum', 'revenuePerDateA': 'sum'}\n",
    "    ),\n",
    "    axis=1,\n",
    ").sort_values(by=['date'])\n",
    "ordersACummulative.columns = [\n",
    "    'date',\n",
    "    'ordersCummulativeA',\n",
    "    'revenueCummulativeA',\n",
    "]\n",
    "\n",
    "ordersBDaily = (\n",
    "    orders[orders['group'] == 'B'][['date', 'transactionid', 'visitorid', 'revenue']]\n",
    "    .groupby('date', as_index=False)\n",
    "    .agg({'transactionid': pd.Series.nunique, 'revenue': 'sum'})\n",
    ")\n",
    "ordersBDaily.columns = ['date', 'ordersPerDateB', 'revenuePerDateB']\n",
    "\n",
    "ordersBCummulative = ordersBDaily.apply(\n",
    "    lambda x: ordersBDaily[ordersBDaily['date'] <= x['date']].agg(\n",
    "        {'date': 'max', 'ordersPerDateB': 'sum', 'revenuePerDateB': 'sum'}\n",
    "    ),\n",
    "    axis=1,\n",
    ").sort_values(by=['date'])\n",
    "ordersBCummulative.columns = [\n",
    "    'date',\n",
    "    'ordersCummulativeB',\n",
    "    'revenueCummulativeB',\n",
    "]\n",
    "\n",
    "data = (\n",
    "    ordersADaily.merge(\n",
    "        ordersBDaily, left_on='date', right_on='date', how='left'\n",
    "    )\n",
    "    .merge(ordersACummulative, left_on='date', right_on='date', how='left')\n",
    "    .merge(ordersBCummulative, left_on='date', right_on='date', how='left')\n",
    "    .merge(visitorsADaily, left_on='date', right_on='date', how='left')\n",
    "    .merge(visitorsBDaily, left_on='date', right_on='date', how='left')\n",
    "    .merge(visitorsACummulative, left_on='date', right_on='date', how='left')\n",
    "    .merge(visitorsBCummulative, left_on='date', right_on='date', how='left')\n",
    ")\n",
    "\n",
    "#исправлено\n",
    "#куммулятивное среднее число заказов\n",
    "data['order_per_visitorA'] = data['ordersCummulativeA'] / data['visitorsCummulativeA'] \n",
    "data['order_per_visitorB'] = data['ordersCummulativeB'] / data['visitorsCummulativeB'] \n",
    "\n",
    "data.head(5)"
   ]
  },
  {
   "cell_type": "code",
   "execution_count": 35,
   "metadata": {},
   "outputs": [
    {
     "data": {
      "image/png": "[encoded data removed]",
      "text/plain": [
       "<Figure size 720x288 with 1 Axes>"
      ]
     },
     "metadata": {},
     "output_type": "display_data"
    }
   ],
   "source": [
    "plt.figure(figsize=(10,4))\n",
    "plt.plot(data['date'], data['order_per_visitorA'], label='A')\n",
    "plt.plot(data['date'], data['order_per_visitorB'], label='B')\n",
    "plt.title('График кумулятивного среднего количества заказов на посетителя по группам A/B')\n",
    "plt.xlabel('Дата')\n",
    "plt.ylabel('Среднее число заказов')\n",
    "plt.legend()\n",
    "plt.show()"
   ]
  },
  {
   "cell_type": "markdown",
   "metadata": {},
   "source": [
    "**Вывод по анализу кумулятивного среднего количества заказов на посетителя по группам**\n",
    "\n",
    "На графике видно, что группа В лучше группы А по куммулятивному среднему количству заказов. У обеих групп был всплеск значений 2-3 августа, далее он упал. После 5 августа у обеих групп показатели стаблизировались. У группы В он остался в пределах 0.33-0.36, у группы А 0.31-0.28. Разница не большая, но группа В лидирует."
   ]
  },
  {
   "cell_type": "markdown",
   "metadata": {},
   "source": [
    "**2.5 Постройте график относительного изменения кумулятивного среднего количества заказов на посетителя группы B к группе A. Сделайте выводы и предположения**"
   ]
  },
  {
   "cell_type": "code",
   "execution_count": 36,
   "metadata": {},
   "outputs": [
    {
     "data": {
      "image/png": "[encoded data removed]",
      "text/plain": [
       "<Figure size 720x288 with 1 Axes>"
      ]
     },
     "metadata": {},
     "output_type": "display_data"
    }
   ],
   "source": [
    "plt.figure(figsize=(10,4))\n",
    "plt.plot(data['date'], ((data['order_per_visitorB']/data['order_per_visitorA'])-1))\n",
    "plt.title('График относительного изменения кумулятивного среднего количества заказов на посетителя группы B к группе A')\n",
    "plt.axhline(y=0, color='black', linestyle='--')\n",
    "plt.axhline(y=0.1, color='grey', linestyle='--')\n",
    "plt.xlabel('Дата')\n",
    "plt.show()"
   ]
  },
  {
   "cell_type": "markdown",
   "metadata": {},
   "source": [
    "**Вывод по анализу относительного изменения кумулятивного среднего количества заказов на посетителя группы B к группе A**\n",
    "\n",
    "Группа В показывает лучшие результаты относительно А. Был период когда у А и В 2-3 августа не было заказов. Но с 6 числа и до конца теста - группа В была в лидерах."
   ]
  },
  {
   "cell_type": "markdown",
   "metadata": {},
   "source": [
    "**2.6 Постройте точечный график количества заказов по пользователям. Сделайте выводы и предположения.**"
   ]
  },
  {
   "cell_type": "code",
   "execution_count": 37,
   "metadata": {},
   "outputs": [
    {
     "data": {
      "text/html": [
       "<div>\n",
       "<style scoped>\n",
       "    .dataframe tbody tr th:only-of-type {\n",
       "        vertical-align: middle;\n",
       "    }\n",
       "\n",
       "    .dataframe tbody tr th {\n",
       "        vertical-align: top;\n",
       "    }\n",
       "\n",
       "    .dataframe thead th {\n",
       "        text-align: right;\n",
       "    }\n",
       "</style>\n",
       "<table border=\"1\" class=\"dataframe\">\n",
       "  <thead>\n",
       "    <tr style=\"text-align: right;\">\n",
       "      <th></th>\n",
       "      <th>visitorid</th>\n",
       "      <th>orders</th>\n",
       "    </tr>\n",
       "  </thead>\n",
       "  <tbody>\n",
       "    <tr>\n",
       "      <th>0</th>\n",
       "      <td>5114589</td>\n",
       "      <td>1</td>\n",
       "    </tr>\n",
       "    <tr>\n",
       "      <th>1</th>\n",
       "      <td>6958315</td>\n",
       "      <td>1</td>\n",
       "    </tr>\n",
       "    <tr>\n",
       "      <th>2</th>\n",
       "      <td>8300375</td>\n",
       "      <td>2</td>\n",
       "    </tr>\n",
       "    <tr>\n",
       "      <th>3</th>\n",
       "      <td>11685486</td>\n",
       "      <td>1</td>\n",
       "    </tr>\n",
       "    <tr>\n",
       "      <th>4</th>\n",
       "      <td>39475350</td>\n",
       "      <td>1</td>\n",
       "    </tr>\n",
       "  </tbody>\n",
       "</table>\n",
       "</div>"
      ],
      "text/plain": [
       "   visitorid  orders\n",
       "0    5114589       1\n",
       "1    6958315       1\n",
       "2    8300375       2\n",
       "3   11685486       1\n",
       "4   39475350       1"
      ]
     },
     "execution_count": 37,
     "metadata": {},
     "output_type": "execute_result"
    }
   ],
   "source": [
    "#посчитаем среднее число заказов на покупателя\n",
    "orders_per_user = orders.groupby('visitorid', as_index=False).agg({'transactionid':'nunique'})\\\n",
    "                         .rename(columns={'transactionid':'orders'})\n",
    "orders_per_user.head()"
   ]
  },
  {
   "cell_type": "code",
   "execution_count": 38,
   "metadata": {},
   "outputs": [
    {
     "data": {
      "image/png": "[encoded data removed]",
      "text/plain": [
       "<Figure size 720x576 with 1 Axes>"
      ]
     },
     "metadata": {},
     "output_type": "display_data"
    }
   ],
   "source": [
    "#создадим график \n",
    "x_values = pd.Series(range(0,len(orders_per_user['orders'])))\n",
    "plt.scatter(x_values, orders_per_user['orders'], color='green')\n",
    "plt.title('Точечный график количества заказов по пользователям')\n",
    "plt.xlabel('Число пользователей')\n",
    "plt.ylabel('Количество заказов на 1 пользователя')\n",
    "plt.show()"
   ]
  },
  {
   "cell_type": "code",
   "execution_count": 39,
   "metadata": {},
   "outputs": [
    {
     "data": {
      "image/png": "[encoded data removed]",
      "text/plain": [
       "<Figure size 720x288 with 1 Axes>"
      ]
     },
     "metadata": {},
     "output_type": "display_data"
    }
   ],
   "source": [
    "plt.figure(figsize=(10,4))\n",
    "plt.hist(orders_per_user['orders'], bins = 10)\n",
    "plt.title('Гистрограмма распределения количества заказов на одного пользователя')\n",
    "plt.ylabel('Число пользователей')\n",
    "plt.xlabel('Количество заказов на 1 пользователя')\n",
    "plt.show()\n",
    "plt.show()"
   ]
  },
  {
   "cell_type": "markdown",
   "metadata": {},
   "source": [
    "**Вывод по анализу графика количества заказов по пользователям.**\n",
    "\n",
    "В основном каждый покупатель делает по 1 заказу, меньше 50 пользователей делают 2 заказа, 3 заказа сделали менее 10 человек. Есть единичные случаи, когда заказов пользователь делал больше 4х."
   ]
  },
  {
   "cell_type": "markdown",
   "metadata": {},
   "source": [
    "**2.7 Посчитайте 95-й и 99-й перцентили количества заказов на пользователя. Выберите границу для определения аномальных пользователей.**"
   ]
  },
  {
   "cell_type": "code",
   "execution_count": 40,
   "metadata": {},
   "outputs": [
    {
     "name": "stdout",
     "output_type": "stream",
     "text": [
      "95 перцентиль: 2.00\n",
      "99 перцентиль: 4.00\n"
     ]
    }
   ],
   "source": [
    "print('95 перцентиль: %.2f' %(np.percentile(orders_per_user['orders'], [95])))\n",
    "print('99 перцентиль: %.2f' %(np.percentile(orders_per_user['orders'], [99])))"
   ]
  },
  {
   "cell_type": "markdown",
   "metadata": {},
   "source": [
    "Проверим распределение значений количества заказов"
   ]
  },
  {
   "cell_type": "code",
   "execution_count": 41,
   "metadata": {},
   "outputs": [
    {
     "data": {
      "text/plain": [
       "count    1031.000000\n",
       "mean        1.161009\n",
       "std         0.724919\n",
       "min         1.000000\n",
       "25%         1.000000\n",
       "50%         1.000000\n",
       "75%         1.000000\n",
       "max        11.000000\n",
       "Name: orders, dtype: float64"
      ]
     },
     "execution_count": 41,
     "metadata": {},
     "output_type": "execute_result"
    }
   ],
   "source": [
    "orders_per_user['orders'].describe()"
   ]
  },
  {
   "cell_type": "markdown",
   "metadata": {},
   "source": [
    "**Вывод по анализу 95-й и 99-й перцентили количества заказов на пользователя**"
   ]
  },
  {
   "cell_type": "markdown",
   "metadata": {},
   "source": [
    "То есть в среднем 1 заказ на 1 посетителя. Менее 5% делают 3 заказа. И менее 1% сделали от 4х заказов (максимум 11), то есть выбросов в данных всего на 1%"
   ]
  },
  {
   "cell_type": "markdown",
   "metadata": {},
   "source": [
    "**2.8 Постройте точечный график стоимостей заказов. Сделайте выводы и предположения.**"
   ]
  },
  {
   "cell_type": "code",
   "execution_count": 42,
   "metadata": {},
   "outputs": [
    {
     "data": {
      "image/png": "[encoded data removed]",
      "text/plain": [
       "<Figure size 720x576 with 1 Axes>"
      ]
     },
     "metadata": {},
     "output_type": "display_data"
    }
   ],
   "source": [
    "x_values = pd.Series(range(0,len(orders['revenue'])))\n",
    "plt.scatter(x_values, orders['revenue'], color='green')\n",
    "plt.title('Точечная диаграмма стоимостей заказов на одного пользователя')\n",
    "plt.ylabel('Стоимость заказов')\n",
    "plt.xlabel('Заказы')\n",
    "plt.axis([0, 1200, 0, 300000])\n",
    "plt.show()"
   ]
  },
  {
   "cell_type": "code",
   "execution_count": 43,
   "metadata": {},
   "outputs": [
    {
     "data": {
      "image/png": "[encoded data removed]",
      "text/plain": [
       "<Figure size 720x288 with 1 Axes>"
      ]
     },
     "metadata": {},
     "output_type": "display_data"
    }
   ],
   "source": [
    "plt.figure(figsize=(10,4))\n",
    "plt.hist(orders['revenue'], range=(0,40000), bins = 100)\n",
    "plt.title('Гистрограмма распределения сумм заказов на одного пользователя')\n",
    "plt.xlabel('Заказы')\n",
    "plt.ylabel('Стоимость заказов')\n",
    "plt.show()"
   ]
  },
  {
   "cell_type": "markdown",
   "metadata": {},
   "source": [
    "Посмотрим данные по диаграмм размаха или ящику с усами."
   ]
  },
  {
   "cell_type": "code",
   "execution_count": 44,
   "metadata": {},
   "outputs": [
    {
     "data": {
      "text/plain": [
       "(-50.0, 60000.0)"
      ]
     },
     "execution_count": 44,
     "metadata": {},
     "output_type": "execute_result"
    },
    {
     "data": {
      "image/png": "[encoded data removed]",
      "text/plain": [
       "<Figure size 720x576 with 1 Axes>"
      ]
     },
     "metadata": {},
     "output_type": "display_data"
    }
   ],
   "source": [
    "orders.boxplot(column=['revenue']) \n",
    "plt.ylim(-50, 60000) "
   ]
  },
  {
   "cell_type": "code",
   "execution_count": 45,
   "metadata": {},
   "outputs": [
    {
     "name": "stdout",
     "output_type": "stream",
     "text": [
      "Средняя стоимость заказа 8348.01\n",
      "Медианная стоимость заказа 2978.0\n",
      "Максимальная стоимость заказа 1294500\n",
      "Минимальная стоимость заказа 50\n"
     ]
    }
   ],
   "source": [
    "#какие в целом показатели значений в столбце\n",
    "print(\"Средняя стоимость заказа\", round(orders['revenue'].mean(),2))\n",
    "print(\"Медианная стоимость заказа\", round(orders['revenue'].median(),2))\n",
    "print(\"Максимальная стоимость заказа\", round(orders['revenue'].max(),2))\n",
    "print(\"Минимальная стоимость заказа\", round(orders['revenue'].min(),2))"
   ]
  },
  {
   "cell_type": "markdown",
   "metadata": {},
   "source": [
    "**Вывод по анализу стоимостей заказов**\n",
    "\n",
    "По точечной диаграмме видны выбросы заказов на сумму от 75К. Большая часть заказов не превышает 25К. По диаграмме размаха видно, что нормальное распрделение до 19К. Средний чек на 1 пользователя очень сильно разнится, на столько сильно, что например минимальный заказ-50, а максимальный 1 294 500, вместе это дает ненормальное распределение."
   ]
  },
  {
   "cell_type": "markdown",
   "metadata": {},
   "source": [
    "**2.9 Посчитайте 95-й и 99-й перцентили стоимости заказов. Выберите границу для определения аномальных заказов.**"
   ]
  },
  {
   "cell_type": "code",
   "execution_count": 46,
   "metadata": {},
   "outputs": [
    {
     "name": "stdout",
     "output_type": "stream",
     "text": [
      "90 перцентиль: 18168.00\n",
      "95 перцентиль: 28000.00\n",
      "99 перцентиль: 58233.20\n"
     ]
    }
   ],
   "source": [
    "#посчитаем перцентили\n",
    "print('90 перцентиль: %.2f' %(np.percentile(orders['revenue'], [90])))\n",
    "print('95 перцентиль: %.2f' %(np.percentile(orders['revenue'], [95])))\n",
    "print('99 перцентиль: %.2f' %(np.percentile(orders['revenue'], [99])))"
   ]
  },
  {
   "cell_type": "markdown",
   "metadata": {},
   "source": [
    "**Вывод по перцентилям стоимости заказов**\n",
    "\n",
    "Около 5% стоимостей заказов на много выше медианного значения. Это в полне возможно из-за большой разницы в сумме, какой-то заказ на 50 рублей, а какой-то на 9950, а в среднем они дали 5 тысяч. Не более 1%: сделали заказ на сумму выше 58К. Все, что выше 99 перцентиля - это аномальные значения."
   ]
  },
  {
   "cell_type": "markdown",
   "metadata": {},
   "source": [
    "**2.10 Посчитайте статистическую значимость различий в среднем количестве заказов на посетителя между группами по «сырым» данным. Сделайте выводы и предположения.**"
   ]
  },
  {
   "cell_type": "markdown",
   "metadata": {},
   "source": [
    "Оценим сырые, неочищенные от выбросов и аномалий данные. \n",
    "\n",
    "Гипотезы: \n",
    "- Нулевая гипотеза: различий в среднем количестве заказов на посетителя между группами нет. (Принимаем, в случае если полученный результат > p-value)\n",
    "- Альтернативная гипотеза: различия в среднем количестве заказов на посетителя  между группами есть. \n",
    "\n",
    "**P-value = 0.05**"
   ]
  },
  {
   "cell_type": "code",
   "execution_count": 47,
   "metadata": {},
   "outputs": [
    {
     "name": "stdout",
     "output_type": "stream",
     "text": [
      "P-value 0.01679\n",
      "Относительный выигрыш группы B равен 0.138\n"
     ]
    }
   ],
   "source": [
    "#заказы группы А\n",
    "ordersByUsersA = (\n",
    "    orders[orders['group'] == 'A']\n",
    "    .groupby('visitorid', as_index=False)\n",
    "    .agg({'transactionid': pd.Series.nunique})\n",
    ")\n",
    "ordersByUsersA.columns = ['userId', 'orders']\n",
    "#заказы группы В\n",
    "ordersByUsersB = (\n",
    "    orders[orders['group'] == 'B']\n",
    "    .groupby('visitorid', as_index=False)\n",
    "    .agg({'transactionid': pd.Series.nunique})\n",
    ")\n",
    "ordersByUsersB.columns = ['userId', 'orders']\n",
    "\n",
    "pd.Series(0, index=np.arange(data['visitorsPerDateA'].sum() - len(ordersByUsersA['orders'])), name='orders')\n",
    "[ordersByUsersA['orders'],pd.Series(0, index=np.arange(data['visitorsPerDateA'].sum() - len(ordersByUsersA['orders'])), name='orders')]\n",
    "\n",
    "#зададим переменные sampleA, sampleB \n",
    "sampleA = pd.concat([ordersByUsersA['orders'],pd.Series(0, index=np.arange(data['visitorsPerDateA'].sum() - len(ordersByUsersA['orders'])), name='orders')],axis=0)\n",
    "\n",
    "sampleB = pd.concat([ordersByUsersB['orders'],pd.Series(0, index=np.arange(data['visitorsPerDateB'].sum() - len(ordersByUsersB['orders'])), name='orders')],axis=0)\n",
    "\n",
    "ordersByUsersA = (\n",
    "    orders[orders['group'] == 'A']\n",
    "    .groupby('visitorid', as_index=False)\n",
    "    .agg({'transactionid': pd.Series.nunique})\n",
    ")\n",
    "ordersByUsersA.columns = ['userId', 'orders']\n",
    "\n",
    "ordersByUsersB = (\n",
    "    orders[orders['group'] == 'B']\n",
    "    .groupby('visitorid', as_index=False)\n",
    "    .agg({'transactionid': pd.Series.nunique})\n",
    ")\n",
    "ordersByUsersB.columns = ['userId', 'orders']\n",
    "\n",
    "#sample A\n",
    "sampleA = pd.concat(\n",
    "    [\n",
    "        ordersByUsersA['orders'],\n",
    "        pd.Series(\n",
    "            0,\n",
    "            index=np.arange(\n",
    "                data['visitorsPerDateA'].sum() - len(ordersByUsersA['orders'])\n",
    "            ),\n",
    "            name='orders',\n",
    "        ),\n",
    "    ],\n",
    "    axis=0,\n",
    ")\n",
    "#sample B\n",
    "sampleB = pd.concat(\n",
    "    [\n",
    "        ordersByUsersB['orders'],\n",
    "        pd.Series(\n",
    "            0,\n",
    "            index=np.arange(\n",
    "                data['visitorsPerDateB'].sum() - len(ordersByUsersB['orders'])\n",
    "            ),\n",
    "            name='orders',\n",
    "        ),\n",
    "    ],\n",
    "    axis=0,\n",
    ")\n",
    "\n",
    "print(\"P-value {0:.5f}\".format(stats.mannwhitneyu(sampleA, sampleB)[1]))\n",
    "print(\"Относительный выигрыш группы B равен {0:.3f}\".format(sampleB.mean() / sampleA.mean() - 1))"
   ]
  },
  {
   "cell_type": "markdown",
   "metadata": {},
   "source": [
    "**Вывод по статистической значимости различий в среднем количестве заказов на посетителя в *сырых* данных** \n",
    "Вывод: По «сырым» данным различия в среднем числе заказов групп A и B есть. \n",
    "Первое число — p-value = 0.016, меньше 0.05. Значит, нулевую гипотезу о том, что статистически значимых различий в среднем числе заказов между группами нет - отвергаем. Относительный выигрыш группы B по сравнению с группой А равен 13.8%. "
   ]
  },
  {
   "cell_type": "markdown",
   "metadata": {},
   "source": [
    "**2.11 Посчитайте статистическую значимость различий в среднем чеке заказа между группами по «сырым» данным. Сделайте выводы и предположения.**"
   ]
  },
  {
   "cell_type": "markdown",
   "metadata": {},
   "source": [
    "Теперь проверим статистическую значимость различий в среднем чеке между сегментами. \n",
    "\n",
    "Гипотезы\n",
    "\n",
    "- Нулевая гипотеза: различий в среднем чеке между группами нет. (Принимаем, в случае если полученный результат > p-value) \n",
    "- Альтернативная гипотеза: различия в среднем чеке между группами есть. \n",
    "\n",
    "**p-value = 0.05**"
   ]
  },
  {
   "cell_type": "code",
   "execution_count": 48,
   "metadata": {},
   "outputs": [
    {
     "name": "stdout",
     "output_type": "stream",
     "text": [
      "P-value 0.729\n",
      "Различие среднего чека группы В от группы А 0.259\n"
     ]
    }
   ],
   "source": [
    "print('P-value {0:.3f}'.format(stats.mannwhitneyu(orders[orders['group']=='A']['revenue'], orders[orders['group']=='B']['revenue'])[1]))\n",
    "print('Различие среднего чека группы В от группы А {0:.3f}'.format(orders[orders['group']=='B']['revenue'].mean()/orders[orders['group']=='A']['revenue'].mean()-1))"
   ]
  },
  {
   "cell_type": "code",
   "execution_count": 49,
   "metadata": {},
   "outputs": [
    {
     "name": "stdout",
     "output_type": "stream",
     "text": [
      "Средняя сумма заказа на посетителя в группе А 7333.578096947936\n"
     ]
    }
   ],
   "source": [
    "print(\"Средняя сумма заказа на посетителя в группе А\", orders[orders['group']=='A']['revenue'].mean())"
   ]
  },
  {
   "cell_type": "code",
   "execution_count": 50,
   "metadata": {},
   "outputs": [
    {
     "name": "stdout",
     "output_type": "stream",
     "text": [
      "Средняя сумма заказа на посетителя в группе В 9230.875\n"
     ]
    }
   ],
   "source": [
    "print(\"Средняя сумма заказа на посетителя в группе В\",orders[orders['group']=='B']['revenue'].mean())"
   ]
  },
  {
   "cell_type": "markdown",
   "metadata": {},
   "source": [
    "**Вывод по анализу статистической значимости различий в среднем чеке заказа**\n",
    "\n",
    "Первое число — p-value = 0.729 больше 0.05. Значит, нулевую гипотезу о том, что статистически значимых различий в среднем чеке заказов между группами нет, не отвергаем. \n",
    "\n",
    "Анализ сырых данных показал, что разница в среднем значении суммы заказа на 1 покупателя статистически не значима. Относительная разница группы В в средней сумме заказа составляет примерно 25,9% "
   ]
  },
  {
   "cell_type": "markdown",
   "metadata": {},
   "source": [
    "**2.12 Посчитайте статистическую значимость различий в среднем количестве заказов на посетителя между группами по «очищенным» данным. Сделайте выводы и предположения.**"
   ]
  },
  {
   "cell_type": "markdown",
   "metadata": {},
   "source": [
    "Сначала очистим данные. Перцентиль показал 5% - 2 заказа на пользователя, 1% - 4 заказа. То есть все что больше 4 заказов выбросы. По среднему чеку заказов: 95й перцентиль - 28 000, 99й-58 233. Не более 1%: сделали заказ на сумму выше 58К. Все, что выше 99 перцентиля - это аномальные значения. Узнаем сколько всего аномальных заказов."
   ]
  },
  {
   "cell_type": "code",
   "execution_count": 51,
   "metadata": {},
   "outputs": [
    {
     "name": "stdout",
     "output_type": "stream",
     "text": [
      "227    2038680547\n",
      "278    2458001652\n",
      "499    4256040402\n",
      "326    2378935119\n",
      "340    2458001652\n",
      "Name: userId, dtype: int64\n",
      "Число пользователей с аномально высоким к-вом заказов: 5\n"
     ]
    }
   ],
   "source": [
    "usersWithManyOrders = pd.concat(\n",
    "    [\n",
    "        ordersByUsersA[ordersByUsersA['orders'] > 4]['userId'],\n",
    "        ordersByUsersB[ordersByUsersB['orders'] > 4]['userId'],\n",
    "    ],\n",
    "    axis=0,\n",
    ")\n",
    "print(usersWithManyOrders)\n",
    "print(\"Число пользователей с аномально высоким к-вом заказов:\", len(usersWithManyOrders))"
   ]
  },
  {
   "cell_type": "markdown",
   "metadata": {},
   "source": [
    "Итого: 5 пользователей с аномальными значениями среднего числа заказов. Зададим аномальные значения в abnormalUsers и очистим от них данные."
   ]
  },
  {
   "cell_type": "code",
   "execution_count": 52,
   "metadata": {},
   "outputs": [],
   "source": [
    "abnormalUsers = (\n",
    "    pd.concat([usersWithManyOrders], axis=0)\n",
    "    .drop_duplicates()\n",
    "    .sort_values()\n",
    ")"
   ]
  },
  {
   "cell_type": "code",
   "execution_count": 53,
   "metadata": {},
   "outputs": [],
   "source": [
    "sampleAFiltered = pd.concat(\n",
    "    [\n",
    "        ordersByUsersA[\n",
    "            np.logical_not(ordersByUsersA['userId'].isin(abnormalUsers))\n",
    "        ]['orders'],\n",
    "        pd.Series(\n",
    "            0,\n",
    "            index=np.arange(\n",
    "                data['visitorsPerDateA'].sum() - len(ordersByUsersA['orders'])\n",
    "            ),\n",
    "            name='orders',\n",
    "        ),\n",
    "    ],\n",
    "    axis=0,\n",
    ")\n",
    "\n",
    "sampleBFiltered = pd.concat(\n",
    "    [\n",
    "        ordersByUsersB[\n",
    "            np.logical_not(ordersByUsersB['userId'].isin(abnormalUsers))\n",
    "        ]['orders'],\n",
    "        pd.Series(\n",
    "            0,\n",
    "            index=np.arange(\n",
    "                data['visitorsPerDateB'].sum() - len(ordersByUsersB['orders'])\n",
    "            ),\n",
    "            name='orders',\n",
    "        ),\n",
    "    ],\n",
    "    axis=0,\n",
    ")"
   ]
  },
  {
   "cell_type": "markdown",
   "metadata": {},
   "source": [
    "**Гипотезы:** \n",
    "- Нулевая гипотеза: различий в среднем количестве заказов на посетителя *по отфильтрованным данным* между группами нет. (Принимаем, в случае если полученный результат > p-value)\n",
    "- Альтернативная гипотеза: различия в среднем количестве заказов *по отфильтрованным данным* на посетителя  между группами есть. \n",
    "\n",
    "**P-value = 0.05**"
   ]
  },
  {
   "cell_type": "code",
   "execution_count": 54,
   "metadata": {},
   "outputs": [
    {
     "name": "stdout",
     "output_type": "stream",
     "text": [
      "P-value 0.016\n",
      "Относительный выигрыш группы B равен 0.149\n"
     ]
    }
   ],
   "source": [
    "print('P-value {0:.3f}'.format(stats.mannwhitneyu(sampleAFiltered, sampleBFiltered)[1]))\n",
    "print('Относительный выигрыш группы B равен {0:.3f}'.format(sampleBFiltered.mean()/sampleAFiltered.mean()-1))"
   ]
  },
  {
   "cell_type": "markdown",
   "metadata": {},
   "source": [
    "**Вывод по количеству заказов в очищенных данных по числу заказов на 1 пользователя**\n",
    "В неочищенных данных P-value - 0.01679, меньше 0.05. Относительный выигрыш группы B равен 13.8. \n",
    "\n",
    "В очищенных данных p-value 0.012 уменьшился, это еще раз подтверждает, что \"Нулевую гипотезу различий в среднем количестве заказов на посетителя *по отфильтрованным данным* между группами нет.\" - *отвергаем*  Группа В имеет больший показатель количества заказов группы А на 17%"
   ]
  },
  {
   "cell_type": "markdown",
   "metadata": {},
   "source": [
    "**2.13 Посчитайте статистическую значимость различий в среднем чеке заказа между группами по «очищенным» данным. Сделайте выводы и предположения.**"
   ]
  },
  {
   "cell_type": "markdown",
   "metadata": {},
   "source": [
    "Для начала отсортируем данные. Перцентили показали 95% - 28 000, 99%-58233.2. На диаграмме размаха и точечном графике видно, что разброс минимальной, максимальной суммы высок, медианная - 2978, поэтому уберем заказы выше 58234, если вощьмем ниже- то сильно смажем данные из-за большой разницы\n",
    "\n",
    "И проверим статистическую значимость различий в среднем чеке между сегментами по \"очищенным данным\". \n",
    "\n",
    "**Гипотезы**\n",
    "\n",
    "- Нулевая гипотеза: различий в среднем чеке *по очищенным данным* между группами нет. (Принимаем, в случае если полученный результат > p-value) \n",
    "- Альтернативная гипотеза: различия в среднем чеке *по очищенным данным* между группами есть. \n",
    "\n",
    "**p-value = 0.05**"
   ]
  },
  {
   "cell_type": "code",
   "execution_count": 55,
   "metadata": {},
   "outputs": [
    {
     "name": "stdout",
     "output_type": "stream",
     "text": [
      "p value:  0.6208626966847455\n",
      "Принимаем H0: Нулевая гипотеза: различий в среднем чеке по очищенным данным между группами нет.\n",
      "Различие среднего чека группы В от группы А 0.019\n"
     ]
    }
   ],
   "source": [
    "orders_filtered = orders.query('revenue <= 58234')\n",
    "alpha = 0.05\n",
    "results = st.mannwhitneyu(orders_filtered[orders_filtered['group']=='A']['revenue'], orders_filtered[orders_filtered['group']=='B']['revenue'])\n",
    "pvalue = results.pvalue\n",
    "print('p value: ', pvalue)\n",
    "if (pvalue > alpha):\n",
    "    print(\"Принимаем H0: Нулевая гипотеза: различий в среднем чеке по очищенным данным между группами нет.\")\n",
    "else:\n",
    "    print(\"Различия в среднем чеке по очищенным данным между группами есть.\")\n",
    "\n",
    "print('Различие среднего чека группы В от группы А {0:.3f}'.format(orders_filtered[orders_filtered['group']=='B']['revenue'].mean()/orders_filtered[orders_filtered['group']=='A']['revenue'].mean()-1))"
   ]
  },
  {
   "cell_type": "code",
   "execution_count": 56,
   "metadata": {},
   "outputs": [
    {
     "name": "stdout",
     "output_type": "stream",
     "text": [
      "   transactionid   visitorid       date  revenue group\n",
      "0     3667963787  3312258926 2019-08-15     1650     B\n",
      "1     2804400009  3642806036 2019-08-15      730     B\n",
      "2     2961555356  4069496402 2019-08-15      400     A\n",
      "3     3797467345  1196621759 2019-08-15     9759     B\n",
      "4     2282983706  2322279887 2019-08-15     2308     B\n",
      "1185\n"
     ]
    }
   ],
   "source": [
    "print(orders_filtered.head(5))\n",
    "print(orders_filtered.shape[0]) "
   ]
  },
  {
   "cell_type": "code",
   "execution_count": 57,
   "metadata": {},
   "outputs": [
    {
     "name": "stdout",
     "output_type": "stream",
     "text": [
      "99.0\n"
     ]
    }
   ],
   "source": [
    "#проверим процент очищаемых данных относительно общего числа покупок\n",
    "differ = round(orders_filtered.shape[0] * 100/ len(orders['revenue']),2)\n",
    "print(differ)"
   ]
  },
  {
   "cell_type": "markdown",
   "metadata": {},
   "source": [
    "Всего покупателей 1197, после очистки останется 1185. Итого мы уберем 12 заказов, что составляет 1% от данных. Прорверим как теперь выглядит средний чек"
   ]
  },
  {
   "cell_type": "code",
   "execution_count": 58,
   "metadata": {},
   "outputs": [
    {
     "name": "stdout",
     "output_type": "stream",
     "text": [
      "Средняя сумма заказа на посетителя в группе А 6470.587272727273\n"
     ]
    }
   ],
   "source": [
    "print(\"Средняя сумма заказа на посетителя в группе А\", orders_filtered[orders_filtered['group']=='A']['revenue'].mean())"
   ]
  },
  {
   "cell_type": "code",
   "execution_count": 59,
   "metadata": {},
   "outputs": [
    {
     "name": "stdout",
     "output_type": "stream",
     "text": [
      "Средняя сумма заказа на посетителя в группе А 6592.692913385827\n"
     ]
    }
   ],
   "source": [
    "print(\"Средняя сумма заказа на посетителя в группе А\", orders_filtered[orders_filtered['group']=='B']['revenue'].mean())"
   ]
  },
  {
   "cell_type": "markdown",
   "metadata": {},
   "source": [
    "Результаты сильно изменились по разнице среднего чека. По неочищенным данным P-value был 0.729, различие среднего чека группы В от группы А 25,9%. Сейчас p-value 0.62, различие среднего чека группы В от группы А 1,9%. P-value значительно больше 0.05. Значит, причин отвергать нулевую гипотезу и считать, что в среднем чеке есть различия, нет. "
   ]
  },
  {
   "cell_type": "markdown",
   "metadata": {},
   "source": [
    "**2.14 Примите решение по результатам теста и объясните его.**\n",
    "\n",
    "Варианты решений:\n",
    "1. Остановить тест, зафиксировать победу одной из групп.\n",
    "2. Остановить тест, зафиксировать отсутствие различий между группами.\n",
    "3. Продолжить тест."
   ]
  },
  {
   "cell_type": "markdown",
   "metadata": {},
   "source": [
    "Для анализа были взяты 37 652 пользователя, необходимо было 35 855. То есть для анализа взято досттаточное число пользователей.\n",
    "*Выводы по анализу*\n",
    "\n",
    "Анализ статистической значимости показал:\n",
    "\n",
    "- Статистическая значимость различия количества заказов на посетителя по сырым данным есть. Даже после фильтрации данных от аномальных значений показатели не сильно изменились. А показатель разницы количества заказов группы В относительно А вырос с 13.8% до 17%\n",
    "\n",
    "- Различия среднего чек ни по сырым данным, ни по очищенным не имеет статистической значимости. Разница в среднем чеке группы В относительно группы А до очистки данных - 25.9%, после - 1.9%. В группе В был высокий % выбросов аномальных заказов.\n",
    "\n",
    "\n",
    "*Общий вывод: тест можно приостановить и признать его успешным. Группа В успешнее, чем группа А. При относительно равных чеках, конверсия из посетителя в покупателя у группы В - выше на 3,2%.*"
   ]
  },
  {
   "cell_type": "code",
   "execution_count": null,
   "metadata": {},
   "outputs": [],
   "source": []
  }
 ],
 "metadata": {
  "ExecuteTimeLog": [
   {
    "duration": 66,
    "start_time": "2023-06-28T05:57:45.904Z"
   },
   {
    "duration": 1322,
    "start_time": "2023-06-28T06:04:25.453Z"
   },
   {
    "duration": 3,
    "start_time": "2023-06-28T06:04:28.466Z"
   },
   {
    "duration": 189,
    "start_time": "2023-06-28T06:04:29.295Z"
   },
   {
    "duration": 92,
    "start_time": "2023-06-28T06:04:30.420Z"
   },
   {
    "duration": 12,
    "start_time": "2023-06-28T06:06:06.116Z"
   },
   {
    "duration": 19,
    "start_time": "2023-06-28T06:07:05.556Z"
   },
   {
    "duration": 7,
    "start_time": "2023-06-28T06:07:21.863Z"
   },
   {
    "duration": 1204,
    "start_time": "2023-06-28T06:07:48.029Z"
   },
   {
    "duration": 1152,
    "start_time": "2023-06-28T06:08:12.420Z"
   },
   {
    "duration": 5,
    "start_time": "2023-06-28T06:08:22.085Z"
   },
   {
    "duration": 4,
    "start_time": "2023-06-28T06:08:47.089Z"
   },
   {
    "duration": 5,
    "start_time": "2023-06-28T06:08:55.139Z"
   },
   {
    "duration": 4,
    "start_time": "2023-06-28T06:13:54.507Z"
   },
   {
    "duration": 4,
    "start_time": "2023-06-28T06:14:02.706Z"
   },
   {
    "duration": 5,
    "start_time": "2023-06-28T06:22:05.337Z"
   },
   {
    "duration": 5,
    "start_time": "2023-06-28T06:22:19.937Z"
   },
   {
    "duration": 3,
    "start_time": "2023-06-28T06:23:24.338Z"
   },
   {
    "duration": 13,
    "start_time": "2023-06-28T06:25:20.122Z"
   },
   {
    "duration": 9,
    "start_time": "2023-06-28T06:27:14.319Z"
   },
   {
    "duration": 8,
    "start_time": "2023-06-28T06:27:31.135Z"
   },
   {
    "duration": 7,
    "start_time": "2023-06-28T06:27:40.106Z"
   },
   {
    "duration": 8,
    "start_time": "2023-06-28T06:27:50.024Z"
   },
   {
    "duration": 8,
    "start_time": "2023-06-28T06:28:08.156Z"
   },
   {
    "duration": 7,
    "start_time": "2023-06-28T06:28:15.162Z"
   },
   {
    "duration": 23,
    "start_time": "2023-06-28T06:28:16.024Z"
   },
   {
    "duration": 1074,
    "start_time": "2023-06-28T06:28:29.892Z"
   },
   {
    "duration": 76,
    "start_time": "2023-06-28T06:28:30.969Z"
   },
   {
    "duration": 7,
    "start_time": "2023-06-28T06:28:31.046Z"
   },
   {
    "duration": 43,
    "start_time": "2023-06-28T06:28:31.054Z"
   },
   {
    "duration": 41,
    "start_time": "2023-06-28T06:28:31.099Z"
   },
   {
    "duration": 28,
    "start_time": "2023-06-28T06:28:31.141Z"
   },
   {
    "duration": 8,
    "start_time": "2023-06-28T06:28:44.892Z"
   },
   {
    "duration": 8,
    "start_time": "2023-06-28T06:29:08.232Z"
   },
   {
    "duration": 7,
    "start_time": "2023-06-28T06:29:20.772Z"
   },
   {
    "duration": 56,
    "start_time": "2023-06-28T08:52:44.830Z"
   },
   {
    "duration": 1812,
    "start_time": "2023-06-28T08:52:54.480Z"
   },
   {
    "duration": 250,
    "start_time": "2023-06-28T08:52:56.294Z"
   },
   {
    "duration": 11,
    "start_time": "2023-06-28T08:52:56.546Z"
   },
   {
    "duration": 27,
    "start_time": "2023-06-28T08:52:56.560Z"
   },
   {
    "duration": 45,
    "start_time": "2023-06-28T08:52:56.589Z"
   },
   {
    "duration": 13,
    "start_time": "2023-06-28T08:52:56.635Z"
   },
   {
    "duration": 48,
    "start_time": "2023-06-28T08:52:56.649Z"
   },
   {
    "duration": 26,
    "start_time": "2023-06-28T08:52:56.699Z"
   },
   {
    "duration": 10,
    "start_time": "2023-06-28T08:56:36.336Z"
   },
   {
    "duration": 22,
    "start_time": "2023-06-28T08:56:42.430Z"
   },
   {
    "duration": 8,
    "start_time": "2023-06-28T08:57:08.264Z"
   },
   {
    "duration": 9,
    "start_time": "2023-06-28T08:57:23.036Z"
   },
   {
    "duration": 8,
    "start_time": "2023-06-28T08:57:39.281Z"
   },
   {
    "duration": 15,
    "start_time": "2023-06-28T08:58:14.330Z"
   },
   {
    "duration": 40,
    "start_time": "2023-06-28T09:16:44.058Z"
   },
   {
    "duration": 26,
    "start_time": "2023-06-28T09:16:57.072Z"
   },
   {
    "duration": 7,
    "start_time": "2023-06-28T09:17:14.854Z"
   },
   {
    "duration": 1399,
    "start_time": "2023-06-28T09:17:25.629Z"
   },
   {
    "duration": 118,
    "start_time": "2023-06-28T09:17:27.032Z"
   },
   {
    "duration": 9,
    "start_time": "2023-06-28T09:17:27.153Z"
   },
   {
    "duration": 95,
    "start_time": "2023-06-28T09:17:27.164Z"
   },
   {
    "duration": 16,
    "start_time": "2023-06-28T09:17:27.262Z"
   },
   {
    "duration": 98,
    "start_time": "2023-06-28T09:17:27.282Z"
   },
   {
    "duration": 130,
    "start_time": "2023-06-28T09:17:27.382Z"
   },
   {
    "duration": 13,
    "start_time": "2023-06-28T09:17:27.517Z"
   },
   {
    "duration": 35,
    "start_time": "2023-06-28T09:17:27.536Z"
   },
   {
    "duration": 71,
    "start_time": "2023-06-28T09:17:27.574Z"
   },
   {
    "duration": 10,
    "start_time": "2023-06-28T09:17:27.647Z"
   },
   {
    "duration": 8,
    "start_time": "2023-06-28T09:17:27.660Z"
   },
   {
    "duration": 13,
    "start_time": "2023-06-28T09:17:27.670Z"
   },
   {
    "duration": 17,
    "start_time": "2023-06-28T09:17:27.687Z"
   },
   {
    "duration": 123,
    "start_time": "2023-06-28T09:48:56.867Z"
   },
   {
    "duration": 15,
    "start_time": "2023-06-28T09:49:36.118Z"
   },
   {
    "duration": 1,
    "start_time": "2023-06-28T09:50:29.830Z"
   },
   {
    "duration": 6198,
    "start_time": "2023-06-28T09:50:42.030Z"
   },
   {
    "duration": 9,
    "start_time": "2023-06-28T09:54:13.981Z"
   },
   {
    "duration": 10,
    "start_time": "2023-06-28T09:54:28.054Z"
   },
   {
    "duration": 16,
    "start_time": "2023-06-28T09:54:38.353Z"
   },
   {
    "duration": 11,
    "start_time": "2023-06-28T09:54:58.546Z"
   },
   {
    "duration": 7,
    "start_time": "2023-06-28T09:56:12.642Z"
   },
   {
    "duration": 6,
    "start_time": "2023-06-28T09:56:28.185Z"
   },
   {
    "duration": 9,
    "start_time": "2023-06-28T09:56:41.641Z"
   },
   {
    "duration": 9,
    "start_time": "2023-06-28T09:57:27.349Z"
   },
   {
    "duration": 5,
    "start_time": "2023-06-28T09:57:37.030Z"
   },
   {
    "duration": 11,
    "start_time": "2023-06-28T09:57:40.272Z"
   },
   {
    "duration": 13,
    "start_time": "2023-06-28T10:00:43.241Z"
   },
   {
    "duration": 1356,
    "start_time": "2023-06-28T10:00:53.087Z"
   },
   {
    "duration": 109,
    "start_time": "2023-06-28T10:00:54.450Z"
   },
   {
    "duration": 13,
    "start_time": "2023-06-28T10:00:54.561Z"
   },
   {
    "duration": 10,
    "start_time": "2023-06-28T10:00:54.576Z"
   },
   {
    "duration": 31,
    "start_time": "2023-06-28T10:00:54.589Z"
   },
   {
    "duration": 61,
    "start_time": "2023-06-28T10:00:54.622Z"
   },
   {
    "duration": 6,
    "start_time": "2023-06-28T10:00:54.685Z"
   },
   {
    "duration": 14,
    "start_time": "2023-06-28T10:00:54.693Z"
   },
   {
    "duration": 50,
    "start_time": "2023-06-28T10:00:54.712Z"
   },
   {
    "duration": 10,
    "start_time": "2023-06-28T10:00:54.764Z"
   },
   {
    "duration": 12,
    "start_time": "2023-06-28T10:00:54.775Z"
   },
   {
    "duration": 17,
    "start_time": "2023-06-28T10:00:54.789Z"
   },
   {
    "duration": 54,
    "start_time": "2023-06-28T10:00:54.809Z"
   },
   {
    "duration": 5,
    "start_time": "2023-06-28T10:00:54.866Z"
   },
   {
    "duration": 13,
    "start_time": "2023-06-28T10:00:54.873Z"
   },
   {
    "duration": 8,
    "start_time": "2023-06-28T10:06:42.484Z"
   },
   {
    "duration": 167,
    "start_time": "2023-06-28T10:35:10.426Z"
   },
   {
    "duration": 465,
    "start_time": "2023-06-28T10:35:19.461Z"
   },
   {
    "duration": 491,
    "start_time": "2023-06-28T10:36:02.755Z"
   },
   {
    "duration": 172,
    "start_time": "2023-06-28T10:37:34.619Z"
   },
   {
    "duration": 14,
    "start_time": "2023-06-28T10:37:45.662Z"
   },
   {
    "duration": 15,
    "start_time": "2023-06-28T10:38:08.746Z"
   },
   {
    "duration": 250,
    "start_time": "2023-06-28T10:41:27.026Z"
   },
   {
    "duration": 161,
    "start_time": "2023-06-28T10:43:49.929Z"
   },
   {
    "duration": 6,
    "start_time": "2023-06-28T10:45:36.956Z"
   },
   {
    "duration": 1394,
    "start_time": "2023-06-28T10:45:44.185Z"
   },
   {
    "duration": 111,
    "start_time": "2023-06-28T10:45:45.581Z"
   },
   {
    "duration": 34,
    "start_time": "2023-06-28T10:45:45.694Z"
   },
   {
    "duration": 48,
    "start_time": "2023-06-28T10:45:45.730Z"
   },
   {
    "duration": 14,
    "start_time": "2023-06-28T10:45:45.780Z"
   },
   {
    "duration": 51,
    "start_time": "2023-06-28T10:45:45.796Z"
   },
   {
    "duration": 27,
    "start_time": "2023-06-28T10:45:45.856Z"
   },
   {
    "duration": 11,
    "start_time": "2023-06-28T10:45:45.885Z"
   },
   {
    "duration": 68,
    "start_time": "2023-06-28T10:45:45.898Z"
   },
   {
    "duration": 9,
    "start_time": "2023-06-28T10:45:45.968Z"
   },
   {
    "duration": 8,
    "start_time": "2023-06-28T10:45:45.978Z"
   },
   {
    "duration": 7,
    "start_time": "2023-06-28T10:45:45.988Z"
   },
   {
    "duration": 65,
    "start_time": "2023-06-28T10:45:45.996Z"
   },
   {
    "duration": 20,
    "start_time": "2023-06-28T10:45:46.064Z"
   },
   {
    "duration": 10,
    "start_time": "2023-06-28T10:45:46.086Z"
   },
   {
    "duration": 66,
    "start_time": "2023-06-28T10:45:46.097Z"
   },
   {
    "duration": 498,
    "start_time": "2023-06-28T10:45:46.167Z"
   },
   {
    "duration": 11,
    "start_time": "2023-06-28T10:45:46.667Z"
   },
   {
    "duration": 481,
    "start_time": "2023-06-28T10:45:46.680Z"
   },
   {
    "duration": 23,
    "start_time": "2023-06-28T10:45:47.163Z"
   },
   {
    "duration": 113,
    "start_time": "2023-06-28T10:51:06.935Z"
   },
   {
    "duration": 47,
    "start_time": "2023-06-28T10:51:12.985Z"
   },
   {
    "duration": 21,
    "start_time": "2023-06-28T10:51:13.526Z"
   },
   {
    "duration": 5,
    "start_time": "2023-06-28T10:51:14.069Z"
   },
   {
    "duration": 6,
    "start_time": "2023-06-28T10:51:14.534Z"
   },
   {
    "duration": 12,
    "start_time": "2023-06-28T10:51:15.651Z"
   },
   {
    "duration": 553,
    "start_time": "2023-06-28T10:54:21.326Z"
   },
   {
    "duration": 497,
    "start_time": "2023-06-28T10:54:29.588Z"
   },
   {
    "duration": 375,
    "start_time": "2023-06-28T10:54:46.048Z"
   },
   {
    "duration": 531,
    "start_time": "2023-06-28T11:02:47.646Z"
   },
   {
    "duration": 687,
    "start_time": "2023-06-28T11:08:39.658Z"
   },
   {
    "duration": 694,
    "start_time": "2023-06-28T11:09:38.231Z"
   },
   {
    "duration": 387,
    "start_time": "2023-06-28T11:15:12.135Z"
   },
   {
    "duration": 688,
    "start_time": "2023-06-28T11:16:40.839Z"
   },
   {
    "duration": 17,
    "start_time": "2023-06-28T11:18:05.041Z"
   },
   {
    "duration": 401,
    "start_time": "2023-06-28T11:19:08.406Z"
   },
   {
    "duration": 16,
    "start_time": "2023-06-28T11:29:05.480Z"
   },
   {
    "duration": 49,
    "start_time": "2023-06-28T11:31:50.854Z"
   },
   {
    "duration": 4,
    "start_time": "2023-06-28T11:32:46.269Z"
   },
   {
    "duration": 7,
    "start_time": "2023-06-28T11:33:18.322Z"
   },
   {
    "duration": 17,
    "start_time": "2023-06-28T11:38:09.659Z"
   },
   {
    "duration": 31,
    "start_time": "2023-06-28T11:38:21.975Z"
   },
   {
    "duration": 27,
    "start_time": "2023-06-28T11:38:59.858Z"
   },
   {
    "duration": 440,
    "start_time": "2023-06-28T11:40:33.649Z"
   },
   {
    "duration": 547,
    "start_time": "2023-06-28T11:40:55.322Z"
   },
   {
    "duration": 22,
    "start_time": "2023-06-28T11:44:01.611Z"
   },
   {
    "duration": 4558,
    "start_time": "2023-06-28T12:07:57.332Z"
   },
   {
    "duration": 502,
    "start_time": "2023-06-28T12:08:28.724Z"
   },
   {
    "duration": 17,
    "start_time": "2023-06-28T12:09:22.974Z"
   },
   {
    "duration": 8,
    "start_time": "2023-06-28T12:09:53.576Z"
   },
   {
    "duration": 32,
    "start_time": "2023-06-28T12:16:30.748Z"
   },
   {
    "duration": 245,
    "start_time": "2023-06-28T12:17:50.652Z"
   },
   {
    "duration": 16,
    "start_time": "2023-06-28T12:29:23.603Z"
   },
   {
    "duration": 11,
    "start_time": "2023-06-28T12:30:12.533Z"
   },
   {
    "duration": 684,
    "start_time": "2023-06-28T12:31:10.570Z"
   },
   {
    "duration": 43,
    "start_time": "2023-06-28T12:32:35.278Z"
   },
   {
    "duration": 618,
    "start_time": "2023-06-28T12:33:05.318Z"
   },
   {
    "duration": 484,
    "start_time": "2023-06-28T12:34:15.523Z"
   },
   {
    "duration": 560,
    "start_time": "2023-06-28T12:34:47.825Z"
   },
   {
    "duration": 562,
    "start_time": "2023-06-28T12:36:00.361Z"
   },
   {
    "duration": 707,
    "start_time": "2023-06-28T12:36:43.314Z"
   },
   {
    "duration": 692,
    "start_time": "2023-06-28T12:37:01.411Z"
   },
   {
    "duration": 638,
    "start_time": "2023-06-28T12:37:21.623Z"
   },
   {
    "duration": 226,
    "start_time": "2023-06-28T12:40:43.333Z"
   },
   {
    "duration": 9,
    "start_time": "2023-06-28T12:44:07.127Z"
   },
   {
    "duration": 8,
    "start_time": "2023-06-28T12:44:21.323Z"
   },
   {
    "duration": 9,
    "start_time": "2023-06-28T12:44:43.145Z"
   },
   {
    "duration": 10,
    "start_time": "2023-06-28T12:44:54.442Z"
   },
   {
    "duration": 7,
    "start_time": "2023-06-28T12:45:28.656Z"
   },
   {
    "duration": 33,
    "start_time": "2023-06-28T12:46:22.726Z"
   },
   {
    "duration": 23,
    "start_time": "2023-06-28T12:46:34.399Z"
   },
   {
    "duration": 19,
    "start_time": "2023-06-28T12:52:09.434Z"
   },
   {
    "duration": 30,
    "start_time": "2023-06-28T12:53:36.055Z"
   },
   {
    "duration": 219,
    "start_time": "2023-06-28T12:56:29.742Z"
   },
   {
    "duration": 313,
    "start_time": "2023-06-28T12:57:12.495Z"
   },
   {
    "duration": 315,
    "start_time": "2023-06-28T12:57:50.561Z"
   },
   {
    "duration": 260,
    "start_time": "2023-06-28T12:58:05.731Z"
   },
   {
    "duration": 739,
    "start_time": "2023-06-28T12:58:49.888Z"
   },
   {
    "duration": 364,
    "start_time": "2023-06-28T13:00:33.326Z"
   },
   {
    "duration": 18,
    "start_time": "2023-06-28T13:01:07.359Z"
   },
   {
    "duration": 25,
    "start_time": "2023-06-28T13:02:45.294Z"
   },
   {
    "duration": 303,
    "start_time": "2023-06-28T13:03:45.472Z"
   },
   {
    "duration": 456,
    "start_time": "2023-06-28T13:03:52.125Z"
   },
   {
    "duration": 294,
    "start_time": "2023-06-28T13:06:22.832Z"
   },
   {
    "duration": 312,
    "start_time": "2023-06-28T13:09:29.753Z"
   },
   {
    "duration": 337,
    "start_time": "2023-06-28T13:09:48.687Z"
   },
   {
    "duration": 384,
    "start_time": "2023-06-28T13:10:17.193Z"
   },
   {
    "duration": 267,
    "start_time": "2023-06-28T13:10:32.426Z"
   },
   {
    "duration": 298,
    "start_time": "2023-06-28T13:10:44.161Z"
   },
   {
    "duration": 249,
    "start_time": "2023-06-28T13:10:55.628Z"
   },
   {
    "duration": 236,
    "start_time": "2023-06-28T13:11:05.259Z"
   },
   {
    "duration": 282,
    "start_time": "2023-06-28T13:11:12.208Z"
   },
   {
    "duration": 296,
    "start_time": "2023-06-28T13:11:20.781Z"
   },
   {
    "duration": 12,
    "start_time": "2023-06-28T13:12:59.521Z"
   },
   {
    "duration": 9,
    "start_time": "2023-06-28T13:14:37.990Z"
   },
   {
    "duration": 8,
    "start_time": "2023-06-28T13:15:42.928Z"
   },
   {
    "duration": 11,
    "start_time": "2023-06-28T13:16:03.062Z"
   },
   {
    "duration": 7,
    "start_time": "2023-06-28T13:16:25.863Z"
   },
   {
    "duration": 10,
    "start_time": "2023-06-28T13:16:46.527Z"
   },
   {
    "duration": 5,
    "start_time": "2023-06-28T13:17:00.392Z"
   },
   {
    "duration": 6,
    "start_time": "2023-06-28T13:17:37.977Z"
   },
   {
    "duration": 9,
    "start_time": "2023-06-28T13:17:55.538Z"
   },
   {
    "duration": 9,
    "start_time": "2023-06-28T13:21:08.874Z"
   },
   {
    "duration": 473,
    "start_time": "2023-06-28T13:22:51.641Z"
   },
   {
    "duration": 398,
    "start_time": "2023-06-28T13:23:09.954Z"
   },
   {
    "duration": 429,
    "start_time": "2023-06-28T13:23:21.042Z"
   },
   {
    "duration": 24,
    "start_time": "2023-06-28T13:28:39.829Z"
   },
   {
    "duration": 39,
    "start_time": "2023-06-28T13:33:47.525Z"
   },
   {
    "duration": 18,
    "start_time": "2023-06-28T13:33:53.488Z"
   },
   {
    "duration": 15,
    "start_time": "2023-06-28T13:36:04.658Z"
   },
   {
    "duration": 10,
    "start_time": "2023-06-28T13:36:43.389Z"
   },
   {
    "duration": 13,
    "start_time": "2023-06-28T13:37:55.970Z"
   },
   {
    "duration": 7,
    "start_time": "2023-06-28T13:37:59.127Z"
   },
   {
    "duration": 11,
    "start_time": "2023-06-28T13:40:44.270Z"
   },
   {
    "duration": 15,
    "start_time": "2023-06-28T13:40:49.157Z"
   },
   {
    "duration": 31,
    "start_time": "2023-06-28T13:54:36.619Z"
   },
   {
    "duration": 7,
    "start_time": "2023-06-28T13:55:00.992Z"
   },
   {
    "duration": 19,
    "start_time": "2023-06-28T13:55:12.326Z"
   },
   {
    "duration": 15,
    "start_time": "2023-06-28T13:57:02.026Z"
   },
   {
    "duration": 15,
    "start_time": "2023-06-28T13:57:11.630Z"
   },
   {
    "duration": 926,
    "start_time": "2023-06-28T14:17:16.851Z"
   },
   {
    "duration": 262,
    "start_time": "2023-06-28T14:17:54.394Z"
   },
   {
    "duration": 10,
    "start_time": "2023-06-28T14:22:53.327Z"
   },
   {
    "duration": 11,
    "start_time": "2023-06-28T14:25:57.643Z"
   },
   {
    "duration": 11,
    "start_time": "2023-06-28T14:26:17.770Z"
   },
   {
    "duration": 13,
    "start_time": "2023-06-28T14:26:27.167Z"
   },
   {
    "duration": 67,
    "start_time": "2023-06-28T14:32:52.887Z"
   },
   {
    "duration": 37,
    "start_time": "2023-06-28T14:34:23.501Z"
   },
   {
    "duration": 15,
    "start_time": "2023-06-28T14:41:42.217Z"
   },
   {
    "duration": 12,
    "start_time": "2023-06-28T14:43:19.584Z"
   },
   {
    "duration": 24,
    "start_time": "2023-06-28T14:44:34.634Z"
   },
   {
    "duration": 34,
    "start_time": "2023-06-28T14:47:08.503Z"
   },
   {
    "duration": 1417,
    "start_time": "2023-06-28T14:47:28.464Z"
   },
   {
    "duration": 298,
    "start_time": "2023-06-28T14:47:29.883Z"
   },
   {
    "duration": 12,
    "start_time": "2023-06-28T14:47:30.183Z"
   },
   {
    "duration": 68,
    "start_time": "2023-06-28T14:47:30.197Z"
   },
   {
    "duration": 41,
    "start_time": "2023-06-28T14:47:30.267Z"
   },
   {
    "duration": 136,
    "start_time": "2023-06-28T14:47:30.310Z"
   },
   {
    "duration": 127,
    "start_time": "2023-06-28T14:47:30.447Z"
   },
   {
    "duration": 94,
    "start_time": "2023-06-28T14:47:30.576Z"
   },
   {
    "duration": 70,
    "start_time": "2023-06-28T14:47:30.673Z"
   },
   {
    "duration": 87,
    "start_time": "2023-06-28T14:47:30.759Z"
   },
   {
    "duration": 99,
    "start_time": "2023-06-28T14:47:30.856Z"
   },
   {
    "duration": 30,
    "start_time": "2023-06-28T14:47:30.960Z"
   },
   {
    "duration": 56,
    "start_time": "2023-06-28T14:47:30.992Z"
   },
   {
    "duration": 55,
    "start_time": "2023-06-28T14:47:31.050Z"
   },
   {
    "duration": 77,
    "start_time": "2023-06-28T14:47:31.116Z"
   },
   {
    "duration": 77,
    "start_time": "2023-06-28T14:47:31.195Z"
   },
   {
    "duration": 488,
    "start_time": "2023-06-28T14:47:31.273Z"
   },
   {
    "duration": 11,
    "start_time": "2023-06-28T14:47:31.763Z"
   },
   {
    "duration": 447,
    "start_time": "2023-06-28T14:47:31.776Z"
   },
   {
    "duration": 21,
    "start_time": "2023-06-28T14:47:32.232Z"
   },
   {
    "duration": 17,
    "start_time": "2023-06-28T14:47:32.255Z"
   },
   {
    "duration": 24,
    "start_time": "2023-06-28T14:47:32.274Z"
   },
   {
    "duration": 163,
    "start_time": "2023-06-28T14:47:32.301Z"
   },
   {
    "duration": 509,
    "start_time": "2023-06-28T14:47:32.467Z"
   },
   {
    "duration": 69,
    "start_time": "2023-06-28T14:47:32.979Z"
   },
   {
    "duration": 16,
    "start_time": "2023-06-28T14:47:33.054Z"
   },
   {
    "duration": 12,
    "start_time": "2023-06-28T14:47:33.072Z"
   },
   {
    "duration": 24,
    "start_time": "2023-06-28T14:47:33.088Z"
   },
   {
    "duration": 53,
    "start_time": "2023-06-28T14:47:33.118Z"
   },
   {
    "duration": 471,
    "start_time": "2023-06-28T14:47:33.173Z"
   },
   {
    "duration": 394,
    "start_time": "2023-06-28T14:47:33.646Z"
   },
   {
    "duration": 418,
    "start_time": "2023-06-28T14:47:34.047Z"
   },
   {
    "duration": 20,
    "start_time": "2023-06-28T14:47:34.467Z"
   },
   {
    "duration": 507,
    "start_time": "2023-06-28T14:47:34.489Z"
   },
   {
    "duration": 561,
    "start_time": "2023-06-28T14:47:34.997Z"
   },
   {
    "duration": 16,
    "start_time": "2023-06-28T14:47:35.560Z"
   },
   {
    "duration": 205,
    "start_time": "2023-06-28T14:47:35.578Z"
   },
   {
    "duration": 182,
    "start_time": "2023-06-28T14:47:35.784Z"
   },
   {
    "duration": 6,
    "start_time": "2023-06-28T14:47:35.968Z"
   },
   {
    "duration": 24,
    "start_time": "2023-06-28T14:47:35.976Z"
   },
   {
    "duration": 296,
    "start_time": "2023-06-28T14:47:36.008Z"
   },
   {
    "duration": 370,
    "start_time": "2023-06-28T14:47:36.305Z"
   },
   {
    "duration": 6,
    "start_time": "2023-06-28T14:47:36.676Z"
   },
   {
    "duration": 44,
    "start_time": "2023-06-28T14:47:36.684Z"
   },
   {
    "duration": 41,
    "start_time": "2023-06-28T14:47:36.735Z"
   },
   {
    "duration": 26,
    "start_time": "2023-06-28T14:47:36.778Z"
   },
   {
    "duration": 264,
    "start_time": "2023-06-28T14:47:36.811Z"
   },
   {
    "duration": 0,
    "start_time": "2023-06-28T14:47:37.076Z"
   },
   {
    "duration": 0,
    "start_time": "2023-06-28T14:47:37.078Z"
   },
   {
    "duration": 0,
    "start_time": "2023-06-28T14:47:37.079Z"
   },
   {
    "duration": 118,
    "start_time": "2023-06-28T14:49:40.598Z"
   },
   {
    "duration": 178,
    "start_time": "2023-06-28T14:51:35.863Z"
   },
   {
    "duration": 144,
    "start_time": "2023-06-28T14:52:01.550Z"
   },
   {
    "duration": 10,
    "start_time": "2023-06-28T14:54:18.756Z"
   },
   {
    "duration": 10,
    "start_time": "2023-06-28T14:55:59.695Z"
   },
   {
    "duration": 16,
    "start_time": "2023-06-28T15:02:54.953Z"
   },
   {
    "duration": 1328,
    "start_time": "2023-06-28T15:03:25.280Z"
   },
   {
    "duration": 108,
    "start_time": "2023-06-28T15:03:26.615Z"
   },
   {
    "duration": 27,
    "start_time": "2023-06-28T15:03:26.734Z"
   },
   {
    "duration": 12,
    "start_time": "2023-06-28T15:03:26.763Z"
   },
   {
    "duration": 26,
    "start_time": "2023-06-28T15:03:26.777Z"
   },
   {
    "duration": 94,
    "start_time": "2023-06-28T15:03:26.813Z"
   },
   {
    "duration": 54,
    "start_time": "2023-06-28T15:03:26.917Z"
   },
   {
    "duration": 24,
    "start_time": "2023-06-28T15:03:26.973Z"
   },
   {
    "duration": 68,
    "start_time": "2023-06-28T15:03:26.999Z"
   },
   {
    "duration": 109,
    "start_time": "2023-06-28T15:03:27.071Z"
   },
   {
    "duration": 77,
    "start_time": "2023-06-28T15:03:27.182Z"
   },
   {
    "duration": 19,
    "start_time": "2023-06-28T15:03:27.260Z"
   },
   {
    "duration": 23,
    "start_time": "2023-06-28T15:03:27.281Z"
   },
   {
    "duration": 5,
    "start_time": "2023-06-28T15:03:27.307Z"
   },
   {
    "duration": 55,
    "start_time": "2023-06-28T15:03:27.314Z"
   },
   {
    "duration": 26,
    "start_time": "2023-06-28T15:03:27.371Z"
   },
   {
    "duration": 488,
    "start_time": "2023-06-28T15:03:27.399Z"
   },
   {
    "duration": 10,
    "start_time": "2023-06-28T15:03:27.889Z"
   },
   {
    "duration": 432,
    "start_time": "2023-06-28T15:03:27.900Z"
   },
   {
    "duration": 19,
    "start_time": "2023-06-28T15:03:28.340Z"
   },
   {
    "duration": 24,
    "start_time": "2023-06-28T15:03:28.360Z"
   },
   {
    "duration": 9,
    "start_time": "2023-06-28T15:03:28.386Z"
   },
   {
    "duration": 76,
    "start_time": "2023-06-28T15:03:28.397Z"
   },
   {
    "duration": 457,
    "start_time": "2023-06-28T15:03:28.476Z"
   },
   {
    "duration": 37,
    "start_time": "2023-06-28T15:03:28.935Z"
   },
   {
    "duration": 23,
    "start_time": "2023-06-28T15:03:28.974Z"
   },
   {
    "duration": 68,
    "start_time": "2023-06-28T15:03:28.999Z"
   },
   {
    "duration": 13,
    "start_time": "2023-06-28T15:03:29.070Z"
   },
   {
    "duration": 31,
    "start_time": "2023-06-28T15:03:29.084Z"
   },
   {
    "duration": 477,
    "start_time": "2023-06-28T15:03:29.126Z"
   },
   {
    "duration": 360,
    "start_time": "2023-06-28T15:03:29.611Z"
   },
   {
    "duration": 449,
    "start_time": "2023-06-28T15:03:29.973Z"
   },
   {
    "duration": 23,
    "start_time": "2023-06-28T15:03:30.424Z"
   },
   {
    "duration": 545,
    "start_time": "2023-06-28T15:03:30.449Z"
   },
   {
    "duration": 464,
    "start_time": "2023-06-28T15:03:30.996Z"
   },
   {
    "duration": 11,
    "start_time": "2023-06-28T15:03:31.462Z"
   },
   {
    "duration": 273,
    "start_time": "2023-06-28T15:03:31.475Z"
   },
   {
    "duration": 194,
    "start_time": "2023-06-28T15:03:31.756Z"
   },
   {
    "duration": 10,
    "start_time": "2023-06-28T15:03:31.952Z"
   },
   {
    "duration": 38,
    "start_time": "2023-06-28T15:03:31.972Z"
   },
   {
    "duration": 270,
    "start_time": "2023-06-28T15:03:32.011Z"
   },
   {
    "duration": 379,
    "start_time": "2023-06-28T15:03:32.282Z"
   },
   {
    "duration": 6,
    "start_time": "2023-06-28T15:03:32.663Z"
   },
   {
    "duration": 48,
    "start_time": "2023-06-28T15:03:32.671Z"
   },
   {
    "duration": 44,
    "start_time": "2023-06-28T15:03:32.728Z"
   },
   {
    "duration": 10,
    "start_time": "2023-06-28T15:03:32.774Z"
   },
   {
    "duration": 230,
    "start_time": "2023-06-28T15:03:32.786Z"
   },
   {
    "duration": 17,
    "start_time": "2023-06-28T15:03:33.024Z"
   },
   {
    "duration": 186,
    "start_time": "2023-06-28T15:03:33.042Z"
   },
   {
    "duration": 44,
    "start_time": "2023-06-28T15:03:33.230Z"
   },
   {
    "duration": 30,
    "start_time": "2023-06-28T15:03:33.276Z"
   },
   {
    "duration": 56,
    "start_time": "2023-06-28T15:03:33.309Z"
   },
   {
    "duration": 18,
    "start_time": "2023-06-28T15:09:15.092Z"
   },
   {
    "duration": 14,
    "start_time": "2023-06-28T15:11:03.709Z"
   },
   {
    "duration": 223,
    "start_time": "2023-06-28T15:15:32.758Z"
   },
   {
    "duration": 166,
    "start_time": "2023-06-28T15:15:52.323Z"
   },
   {
    "duration": 11,
    "start_time": "2023-06-28T15:18:02.944Z"
   },
   {
    "duration": 282,
    "start_time": "2023-06-28T15:20:30.627Z"
   },
   {
    "duration": 256,
    "start_time": "2023-06-28T15:20:39.538Z"
   },
   {
    "duration": 35,
    "start_time": "2023-06-28T15:25:13.358Z"
   },
   {
    "duration": 328,
    "start_time": "2023-06-28T15:25:54.232Z"
   },
   {
    "duration": 263,
    "start_time": "2023-06-28T15:26:32.316Z"
   },
   {
    "duration": 332,
    "start_time": "2023-06-28T15:42:54.385Z"
   },
   {
    "duration": 471,
    "start_time": "2023-06-28T15:43:13.656Z"
   },
   {
    "duration": 6,
    "start_time": "2023-06-28T15:47:44.852Z"
   },
   {
    "duration": 6,
    "start_time": "2023-06-28T15:47:56.466Z"
   },
   {
    "duration": 12,
    "start_time": "2023-06-28T15:51:24.665Z"
   },
   {
    "duration": 11,
    "start_time": "2023-06-28T15:54:18.393Z"
   },
   {
    "duration": 11,
    "start_time": "2023-06-28T15:56:25.886Z"
   },
   {
    "duration": 2236,
    "start_time": "2023-06-28T16:23:50.758Z"
   },
   {
    "duration": 2702,
    "start_time": "2023-06-28T16:24:25.126Z"
   },
   {
    "duration": 22,
    "start_time": "2023-06-28T16:24:40.142Z"
   },
   {
    "duration": 12,
    "start_time": "2023-06-28T16:27:11.639Z"
   },
   {
    "duration": 7,
    "start_time": "2023-06-28T16:28:57.459Z"
   },
   {
    "duration": 8,
    "start_time": "2023-06-28T16:29:13.862Z"
   },
   {
    "duration": 324,
    "start_time": "2023-06-28T16:29:57.430Z"
   },
   {
    "duration": 15,
    "start_time": "2023-06-28T16:30:11.829Z"
   },
   {
    "duration": 14,
    "start_time": "2023-06-28T16:30:42.745Z"
   },
   {
    "duration": 20,
    "start_time": "2023-06-28T16:32:22.822Z"
   },
   {
    "duration": 6,
    "start_time": "2023-06-28T16:33:44.913Z"
   },
   {
    "duration": 15,
    "start_time": "2023-06-28T16:33:45.819Z"
   },
   {
    "duration": 24,
    "start_time": "2023-06-28T16:33:49.262Z"
   },
   {
    "duration": 30,
    "start_time": "2023-06-28T16:37:01.646Z"
   },
   {
    "duration": 11,
    "start_time": "2023-06-28T16:43:41.612Z"
   },
   {
    "duration": 15,
    "start_time": "2023-06-28T16:44:47.643Z"
   },
   {
    "duration": 4,
    "start_time": "2023-06-28T16:49:43.038Z"
   },
   {
    "duration": 11,
    "start_time": "2023-06-28T16:52:36.239Z"
   },
   {
    "duration": 5,
    "start_time": "2023-06-28T16:53:50.560Z"
   },
   {
    "duration": 156,
    "start_time": "2023-06-28T16:54:47.983Z"
   },
   {
    "duration": 19,
    "start_time": "2023-06-28T17:00:50.518Z"
   },
   {
    "duration": 224,
    "start_time": "2023-06-28T17:01:27.405Z"
   },
   {
    "duration": 5,
    "start_time": "2023-06-28T17:02:28.292Z"
   },
   {
    "duration": 22,
    "start_time": "2023-06-28T17:03:03.660Z"
   },
   {
    "duration": 29,
    "start_time": "2023-06-28T17:03:13.218Z"
   },
   {
    "duration": 65,
    "start_time": "2023-06-28T17:03:25.002Z"
   },
   {
    "duration": 30,
    "start_time": "2023-06-28T17:03:40.839Z"
   },
   {
    "duration": 10,
    "start_time": "2023-06-28T17:06:36.057Z"
   },
   {
    "duration": 17,
    "start_time": "2023-06-28T17:11:07.456Z"
   },
   {
    "duration": 233,
    "start_time": "2023-06-28T17:11:54.030Z"
   },
   {
    "duration": 338,
    "start_time": "2023-06-28T17:13:32.560Z"
   },
   {
    "duration": 241,
    "start_time": "2023-06-28T17:13:50.520Z"
   },
   {
    "duration": 162,
    "start_time": "2023-06-28T17:13:57.722Z"
   },
   {
    "duration": 179,
    "start_time": "2023-06-28T17:14:04.666Z"
   },
   {
    "duration": 142,
    "start_time": "2023-06-28T17:14:15.560Z"
   },
   {
    "duration": 184,
    "start_time": "2023-06-28T17:14:33.292Z"
   },
   {
    "duration": 13,
    "start_time": "2023-06-28T17:18:53.754Z"
   },
   {
    "duration": 8,
    "start_time": "2023-06-28T17:23:03.044Z"
   },
   {
    "duration": 3,
    "start_time": "2023-06-28T17:23:15.269Z"
   },
   {
    "duration": 8,
    "start_time": "2023-06-28T17:26:42.890Z"
   },
   {
    "duration": 5,
    "start_time": "2023-06-28T17:26:46.756Z"
   },
   {
    "duration": 28,
    "start_time": "2023-06-28T17:28:16.757Z"
   },
   {
    "duration": 9,
    "start_time": "2023-06-28T17:29:44.177Z"
   },
   {
    "duration": 5,
    "start_time": "2023-06-28T17:30:00.557Z"
   },
   {
    "duration": 9,
    "start_time": "2023-06-28T17:32:29.845Z"
   },
   {
    "duration": 24,
    "start_time": "2023-06-28T17:33:52.524Z"
   },
   {
    "duration": 5,
    "start_time": "2023-06-28T17:42:55.557Z"
   },
   {
    "duration": 16,
    "start_time": "2023-06-28T17:45:09.467Z"
   },
   {
    "duration": 46,
    "start_time": "2023-06-28T17:49:47.089Z"
   },
   {
    "duration": 13,
    "start_time": "2023-06-28T17:50:54.573Z"
   },
   {
    "duration": 17,
    "start_time": "2023-06-28T17:51:25.124Z"
   },
   {
    "duration": 15,
    "start_time": "2023-06-28T17:51:40.946Z"
   },
   {
    "duration": 31,
    "start_time": "2023-06-28T17:52:25.101Z"
   },
   {
    "duration": 36,
    "start_time": "2023-06-28T17:53:00.989Z"
   },
   {
    "duration": 12,
    "start_time": "2023-06-28T17:53:17.342Z"
   },
   {
    "duration": 5388,
    "start_time": "2023-06-28T17:54:05.970Z"
   },
   {
    "duration": 19,
    "start_time": "2023-06-28T17:54:19.602Z"
   },
   {
    "duration": 26,
    "start_time": "2023-06-28T17:56:07.219Z"
   },
   {
    "duration": 22,
    "start_time": "2023-06-28T18:00:59.687Z"
   },
   {
    "duration": 6,
    "start_time": "2023-06-28T18:04:44.693Z"
   },
   {
    "duration": 6,
    "start_time": "2023-06-28T18:05:02.960Z"
   },
   {
    "duration": 1586,
    "start_time": "2023-06-28T18:05:55.126Z"
   },
   {
    "duration": 111,
    "start_time": "2023-06-28T18:05:56.715Z"
   },
   {
    "duration": 15,
    "start_time": "2023-06-28T18:05:56.828Z"
   },
   {
    "duration": 35,
    "start_time": "2023-06-28T18:05:56.849Z"
   },
   {
    "duration": 19,
    "start_time": "2023-06-28T18:05:56.886Z"
   },
   {
    "duration": 82,
    "start_time": "2023-06-28T18:05:56.906Z"
   },
   {
    "duration": 6,
    "start_time": "2023-06-28T18:05:56.990Z"
   },
   {
    "duration": 25,
    "start_time": "2023-06-28T18:05:56.997Z"
   },
   {
    "duration": 37,
    "start_time": "2023-06-28T18:05:57.030Z"
   },
   {
    "duration": 13,
    "start_time": "2023-06-28T18:05:57.068Z"
   },
   {
    "duration": 9,
    "start_time": "2023-06-28T18:05:57.083Z"
   },
   {
    "duration": 45,
    "start_time": "2023-06-28T18:05:57.093Z"
   },
   {
    "duration": 21,
    "start_time": "2023-06-28T18:05:57.140Z"
   },
   {
    "duration": 6,
    "start_time": "2023-06-28T18:05:57.164Z"
   },
   {
    "duration": 9,
    "start_time": "2023-06-28T18:05:57.172Z"
   },
   {
    "duration": 12,
    "start_time": "2023-06-28T18:05:57.183Z"
   },
   {
    "duration": 463,
    "start_time": "2023-06-28T18:05:57.196Z"
   },
   {
    "duration": 10,
    "start_time": "2023-06-28T18:05:57.661Z"
   },
   {
    "duration": 388,
    "start_time": "2023-06-28T18:05:57.673Z"
   },
   {
    "duration": 12,
    "start_time": "2023-06-28T18:05:58.065Z"
   },
   {
    "duration": 36,
    "start_time": "2023-06-28T18:05:58.078Z"
   },
   {
    "duration": 47,
    "start_time": "2023-06-28T18:05:58.115Z"
   },
   {
    "duration": 25,
    "start_time": "2023-06-28T18:05:58.164Z"
   },
   {
    "duration": 546,
    "start_time": "2023-06-28T18:05:58.192Z"
   },
   {
    "duration": 26,
    "start_time": "2023-06-28T18:05:58.740Z"
   },
   {
    "duration": 26,
    "start_time": "2023-06-28T18:05:58.770Z"
   },
   {
    "duration": 93,
    "start_time": "2023-06-28T18:05:58.797Z"
   },
   {
    "duration": 53,
    "start_time": "2023-06-28T18:05:58.892Z"
   },
   {
    "duration": 24,
    "start_time": "2023-06-28T18:05:58.949Z"
   },
   {
    "duration": 498,
    "start_time": "2023-06-28T18:05:58.975Z"
   },
   {
    "duration": 379,
    "start_time": "2023-06-28T18:05:59.475Z"
   },
   {
    "duration": 474,
    "start_time": "2023-06-28T18:05:59.856Z"
   },
   {
    "duration": 25,
    "start_time": "2023-06-28T18:06:00.333Z"
   },
   {
    "duration": 621,
    "start_time": "2023-06-28T18:06:00.360Z"
   },
   {
    "duration": 546,
    "start_time": "2023-06-28T18:06:00.984Z"
   },
   {
    "duration": 16,
    "start_time": "2023-06-28T18:06:01.541Z"
   },
   {
    "duration": 313,
    "start_time": "2023-06-28T18:06:01.569Z"
   },
   {
    "duration": 205,
    "start_time": "2023-06-28T18:06:01.885Z"
   },
   {
    "duration": 25,
    "start_time": "2023-06-28T18:06:02.092Z"
   },
   {
    "duration": 76,
    "start_time": "2023-06-28T18:06:02.122Z"
   },
   {
    "duration": 308,
    "start_time": "2023-06-28T18:06:02.215Z"
   },
   {
    "duration": 401,
    "start_time": "2023-06-28T18:06:02.524Z"
   },
   {
    "duration": 208,
    "start_time": "2023-06-28T18:06:02.927Z"
   },
   {
    "duration": 15,
    "start_time": "2023-06-28T18:06:03.140Z"
   },
   {
    "duration": 40,
    "start_time": "2023-06-28T18:06:03.158Z"
   },
   {
    "duration": 363,
    "start_time": "2023-06-28T18:06:03.200Z"
   },
   {
    "duration": 377,
    "start_time": "2023-06-28T18:06:03.564Z"
   },
   {
    "duration": 19,
    "start_time": "2023-06-28T18:06:03.945Z"
   },
   {
    "duration": 37,
    "start_time": "2023-06-28T18:06:03.966Z"
   },
   {
    "duration": 71,
    "start_time": "2023-06-28T18:06:04.005Z"
   },
   {
    "duration": 22,
    "start_time": "2023-06-28T18:06:04.078Z"
   },
   {
    "duration": 58,
    "start_time": "2023-06-28T18:06:04.110Z"
   },
   {
    "duration": 104,
    "start_time": "2023-06-28T18:06:04.171Z"
   },
   {
    "duration": 35,
    "start_time": "2023-06-28T18:06:04.277Z"
   },
   {
    "duration": 28,
    "start_time": "2023-06-28T18:06:04.318Z"
   },
   {
    "duration": 12,
    "start_time": "2023-06-28T18:06:04.351Z"
   },
   {
    "duration": 10,
    "start_time": "2023-06-28T18:06:04.365Z"
   },
   {
    "duration": 11,
    "start_time": "2023-06-28T18:06:04.376Z"
   },
   {
    "duration": 8,
    "start_time": "2023-06-28T18:06:04.389Z"
   },
   {
    "duration": 1898,
    "start_time": "2023-06-28T18:44:28.547Z"
   },
   {
    "duration": 125,
    "start_time": "2023-06-28T18:44:30.456Z"
   },
   {
    "duration": 44,
    "start_time": "2023-06-28T18:44:30.588Z"
   },
   {
    "duration": 55,
    "start_time": "2023-06-28T18:44:30.640Z"
   },
   {
    "duration": 97,
    "start_time": "2023-06-28T18:44:30.699Z"
   },
   {
    "duration": 109,
    "start_time": "2023-06-28T18:44:30.799Z"
   },
   {
    "duration": 65,
    "start_time": "2023-06-28T18:44:30.911Z"
   },
   {
    "duration": 87,
    "start_time": "2023-06-28T18:44:30.978Z"
   },
   {
    "duration": 55,
    "start_time": "2023-06-28T18:44:31.077Z"
   },
   {
    "duration": 73,
    "start_time": "2023-06-28T18:44:31.135Z"
   },
   {
    "duration": 119,
    "start_time": "2023-06-28T18:44:31.217Z"
   },
   {
    "duration": 67,
    "start_time": "2023-06-28T18:44:31.340Z"
   },
   {
    "duration": 78,
    "start_time": "2023-06-28T18:44:31.422Z"
   },
   {
    "duration": 149,
    "start_time": "2023-06-28T18:44:31.516Z"
   },
   {
    "duration": 93,
    "start_time": "2023-06-28T18:44:31.674Z"
   },
   {
    "duration": 54,
    "start_time": "2023-06-28T18:44:31.769Z"
   },
   {
    "duration": 797,
    "start_time": "2023-06-28T18:44:31.828Z"
   },
   {
    "duration": 53,
    "start_time": "2023-06-28T18:44:32.637Z"
   },
   {
    "duration": 633,
    "start_time": "2023-06-28T18:44:32.699Z"
   },
   {
    "duration": 15,
    "start_time": "2023-06-28T18:44:33.334Z"
   },
   {
    "duration": 126,
    "start_time": "2023-06-28T18:44:33.351Z"
   },
   {
    "duration": 87,
    "start_time": "2023-06-28T18:44:33.480Z"
   },
   {
    "duration": 76,
    "start_time": "2023-06-28T18:44:33.579Z"
   },
   {
    "duration": 757,
    "start_time": "2023-06-28T18:44:33.660Z"
   },
   {
    "duration": 39,
    "start_time": "2023-06-28T18:44:34.419Z"
   },
   {
    "duration": 28,
    "start_time": "2023-06-28T18:44:34.464Z"
   },
   {
    "duration": 93,
    "start_time": "2023-06-28T18:44:34.495Z"
   },
   {
    "duration": 45,
    "start_time": "2023-06-28T18:44:34.591Z"
   },
   {
    "duration": 39,
    "start_time": "2023-06-28T18:44:34.644Z"
   },
   {
    "duration": 498,
    "start_time": "2023-06-28T18:44:34.686Z"
   },
   {
    "duration": 391,
    "start_time": "2023-06-28T18:44:35.186Z"
   },
   {
    "duration": 619,
    "start_time": "2023-06-28T18:44:35.579Z"
   },
   {
    "duration": 31,
    "start_time": "2023-06-28T18:44:36.201Z"
   },
   {
    "duration": 518,
    "start_time": "2023-06-28T18:44:36.234Z"
   },
   {
    "duration": 424,
    "start_time": "2023-06-28T18:44:36.760Z"
   },
   {
    "duration": 37,
    "start_time": "2023-06-28T18:44:37.187Z"
   },
   {
    "duration": 247,
    "start_time": "2023-06-28T18:44:37.232Z"
   },
   {
    "duration": 206,
    "start_time": "2023-06-28T18:44:37.481Z"
   },
   {
    "duration": 6,
    "start_time": "2023-06-28T18:44:37.688Z"
   },
   {
    "duration": 24,
    "start_time": "2023-06-28T18:44:37.716Z"
   },
   {
    "duration": 246,
    "start_time": "2023-06-28T18:44:37.748Z"
   },
   {
    "duration": 377,
    "start_time": "2023-06-28T18:44:37.996Z"
   },
   {
    "duration": 184,
    "start_time": "2023-06-28T18:44:38.375Z"
   },
   {
    "duration": 10,
    "start_time": "2023-06-28T18:44:38.561Z"
   },
   {
    "duration": 11,
    "start_time": "2023-06-28T18:44:38.572Z"
   },
   {
    "duration": 307,
    "start_time": "2023-06-28T18:44:38.585Z"
   },
   {
    "duration": 557,
    "start_time": "2023-06-28T18:44:38.894Z"
   },
   {
    "duration": 19,
    "start_time": "2023-06-28T18:44:39.453Z"
   },
   {
    "duration": 10,
    "start_time": "2023-06-28T18:44:39.475Z"
   },
   {
    "duration": 18,
    "start_time": "2023-06-28T18:44:39.487Z"
   },
   {
    "duration": 61,
    "start_time": "2023-06-28T18:44:39.508Z"
   },
   {
    "duration": 15,
    "start_time": "2023-06-28T18:44:39.570Z"
   },
   {
    "duration": 12,
    "start_time": "2023-06-28T18:44:39.587Z"
   },
   {
    "duration": 85,
    "start_time": "2023-06-28T18:44:39.601Z"
   },
   {
    "duration": 28,
    "start_time": "2023-06-28T18:44:39.687Z"
   },
   {
    "duration": 16,
    "start_time": "2023-06-28T18:44:39.728Z"
   },
   {
    "duration": 26,
    "start_time": "2023-06-28T18:44:39.746Z"
   },
   {
    "duration": 9,
    "start_time": "2023-06-28T18:44:39.775Z"
   },
   {
    "duration": 11,
    "start_time": "2023-06-28T18:44:39.786Z"
   },
   {
    "duration": 122,
    "start_time": "2023-06-29T17:13:50.770Z"
   },
   {
    "duration": 1842,
    "start_time": "2023-06-29T17:13:58.931Z"
   },
   {
    "duration": 410,
    "start_time": "2023-06-29T17:14:00.776Z"
   },
   {
    "duration": 25,
    "start_time": "2023-06-29T17:14:01.188Z"
   },
   {
    "duration": 273,
    "start_time": "2023-06-29T17:14:01.216Z"
   },
   {
    "duration": 223,
    "start_time": "2023-06-29T17:14:01.492Z"
   },
   {
    "duration": 174,
    "start_time": "2023-06-29T17:14:01.719Z"
   },
   {
    "duration": 106,
    "start_time": "2023-06-29T17:14:01.896Z"
   },
   {
    "duration": 87,
    "start_time": "2023-06-29T17:14:02.005Z"
   },
   {
    "duration": 113,
    "start_time": "2023-06-29T17:14:02.095Z"
   },
   {
    "duration": 140,
    "start_time": "2023-06-29T17:14:02.211Z"
   },
   {
    "duration": 131,
    "start_time": "2023-06-29T17:14:02.356Z"
   },
   {
    "duration": 147,
    "start_time": "2023-06-29T17:14:02.493Z"
   },
   {
    "duration": 53,
    "start_time": "2023-06-29T17:14:02.642Z"
   },
   {
    "duration": 98,
    "start_time": "2023-06-29T17:14:02.701Z"
   },
   {
    "duration": 79,
    "start_time": "2023-06-29T17:14:02.802Z"
   },
   {
    "duration": 52,
    "start_time": "2023-06-29T17:14:02.885Z"
   },
   {
    "duration": 627,
    "start_time": "2023-06-29T17:14:02.939Z"
   },
   {
    "duration": 11,
    "start_time": "2023-06-29T17:14:03.568Z"
   },
   {
    "duration": 512,
    "start_time": "2023-06-29T17:14:03.582Z"
   },
   {
    "duration": 34,
    "start_time": "2023-06-29T17:14:04.096Z"
   },
   {
    "duration": 60,
    "start_time": "2023-06-29T17:14:04.134Z"
   },
   {
    "duration": 85,
    "start_time": "2023-06-29T17:14:04.197Z"
   },
   {
    "duration": 13,
    "start_time": "2023-06-29T17:14:04.284Z"
   },
   {
    "duration": 634,
    "start_time": "2023-06-29T17:14:04.300Z"
   },
   {
    "duration": 45,
    "start_time": "2023-06-29T17:14:04.936Z"
   },
   {
    "duration": 30,
    "start_time": "2023-06-29T17:14:04.984Z"
   },
   {
    "duration": 53,
    "start_time": "2023-06-29T17:14:05.025Z"
   },
   {
    "duration": 11,
    "start_time": "2023-06-29T17:14:05.081Z"
   },
   {
    "duration": 86,
    "start_time": "2023-06-29T17:14:05.094Z"
   },
   {
    "duration": 484,
    "start_time": "2023-06-29T17:14:05.183Z"
   },
   {
    "duration": 394,
    "start_time": "2023-06-29T17:14:05.669Z"
   },
   {
    "duration": 482,
    "start_time": "2023-06-29T17:14:06.066Z"
   },
   {
    "duration": 24,
    "start_time": "2023-06-29T17:14:06.551Z"
   },
   {
    "duration": 473,
    "start_time": "2023-06-29T17:14:06.578Z"
   },
   {
    "duration": 11,
    "start_time": "2023-06-29T17:14:07.053Z"
   },
   {
    "duration": 21,
    "start_time": "2023-06-29T17:14:07.066Z"
   },
   {
    "duration": 631,
    "start_time": "2023-06-29T17:14:07.106Z"
   },
   {
    "duration": 16,
    "start_time": "2023-06-29T17:14:07.740Z"
   },
   {
    "duration": 269,
    "start_time": "2023-06-29T17:14:07.759Z"
   },
   {
    "duration": 242,
    "start_time": "2023-06-29T17:14:08.030Z"
   },
   {
    "duration": 35,
    "start_time": "2023-06-29T17:14:08.280Z"
   },
   {
    "duration": 38,
    "start_time": "2023-06-29T17:14:08.322Z"
   },
   {
    "duration": 391,
    "start_time": "2023-06-29T17:14:08.363Z"
   },
   {
    "duration": 521,
    "start_time": "2023-06-29T17:14:08.756Z"
   },
   {
    "duration": 244,
    "start_time": "2023-06-29T17:14:09.280Z"
   },
   {
    "duration": 13,
    "start_time": "2023-06-29T17:14:09.527Z"
   },
   {
    "duration": 36,
    "start_time": "2023-06-29T17:14:09.542Z"
   },
   {
    "duration": 309,
    "start_time": "2023-06-29T17:14:09.581Z"
   },
   {
    "duration": 745,
    "start_time": "2023-06-29T17:14:09.892Z"
   },
   {
    "duration": 30,
    "start_time": "2023-06-29T17:14:10.654Z"
   },
   {
    "duration": 20,
    "start_time": "2023-06-29T17:14:10.687Z"
   },
   {
    "duration": 65,
    "start_time": "2023-06-29T17:14:10.716Z"
   },
   {
    "duration": 16,
    "start_time": "2023-06-29T17:14:10.783Z"
   },
   {
    "duration": 77,
    "start_time": "2023-06-29T17:14:10.801Z"
   },
   {
    "duration": 25,
    "start_time": "2023-06-29T17:14:10.880Z"
   },
   {
    "duration": 79,
    "start_time": "2023-06-29T17:14:10.908Z"
   },
   {
    "duration": 68,
    "start_time": "2023-06-29T17:14:10.990Z"
   },
   {
    "duration": 49,
    "start_time": "2023-06-29T17:14:11.060Z"
   },
   {
    "duration": 59,
    "start_time": "2023-06-29T17:14:11.113Z"
   },
   {
    "duration": 36,
    "start_time": "2023-06-29T17:14:11.174Z"
   },
   {
    "duration": 132,
    "start_time": "2023-06-29T17:14:11.217Z"
   },
   {
    "duration": 48,
    "start_time": "2023-06-29T18:08:31.948Z"
   },
   {
    "duration": 1318,
    "start_time": "2023-06-29T18:08:41.961Z"
   },
   {
    "duration": 206,
    "start_time": "2023-06-29T18:08:43.281Z"
   },
   {
    "duration": 11,
    "start_time": "2023-06-29T18:08:43.489Z"
   },
   {
    "duration": 6,
    "start_time": "2023-06-29T18:08:43.502Z"
   },
   {
    "duration": 8,
    "start_time": "2023-06-29T18:08:43.510Z"
   },
   {
    "duration": 25,
    "start_time": "2023-06-29T18:08:43.519Z"
   },
   {
    "duration": 6,
    "start_time": "2023-06-29T18:08:43.545Z"
   },
   {
    "duration": 24,
    "start_time": "2023-06-29T18:08:43.552Z"
   },
   {
    "duration": 7,
    "start_time": "2023-06-29T18:08:43.577Z"
   },
   {
    "duration": 7,
    "start_time": "2023-06-29T18:08:43.587Z"
   },
   {
    "duration": 6,
    "start_time": "2023-06-29T18:08:43.596Z"
   },
   {
    "duration": 6,
    "start_time": "2023-06-29T18:08:43.603Z"
   },
   {
    "duration": 8,
    "start_time": "2023-06-29T18:08:43.611Z"
   },
   {
    "duration": 7,
    "start_time": "2023-06-29T18:08:43.621Z"
   },
   {
    "duration": 3,
    "start_time": "2023-06-29T18:08:43.630Z"
   },
   {
    "duration": 35,
    "start_time": "2023-06-29T18:08:43.635Z"
   },
   {
    "duration": 380,
    "start_time": "2023-06-29T18:08:43.672Z"
   },
   {
    "duration": 12,
    "start_time": "2023-06-29T18:08:44.054Z"
   },
   {
    "duration": 326,
    "start_time": "2023-06-29T18:08:44.068Z"
   },
   {
    "duration": 10,
    "start_time": "2023-06-29T18:08:44.396Z"
   },
   {
    "duration": 5,
    "start_time": "2023-06-29T18:08:44.408Z"
   },
   {
    "duration": 6,
    "start_time": "2023-06-29T18:08:44.415Z"
   },
   {
    "duration": 8,
    "start_time": "2023-06-29T18:08:44.422Z"
   },
   {
    "duration": 358,
    "start_time": "2023-06-29T18:08:44.432Z"
   },
   {
    "duration": 20,
    "start_time": "2023-06-29T18:08:44.791Z"
   },
   {
    "duration": 14,
    "start_time": "2023-06-29T18:08:44.813Z"
   },
   {
    "duration": 4,
    "start_time": "2023-06-29T18:08:44.828Z"
   },
   {
    "duration": 9,
    "start_time": "2023-06-29T18:08:44.835Z"
   },
   {
    "duration": 29,
    "start_time": "2023-06-29T18:08:44.845Z"
   },
   {
    "duration": 362,
    "start_time": "2023-06-29T18:08:44.875Z"
   },
   {
    "duration": 285,
    "start_time": "2023-06-29T18:08:45.239Z"
   },
   {
    "duration": 63,
    "start_time": "2023-06-29T18:08:45.526Z"
   },
   {
    "duration": 0,
    "start_time": "2023-06-29T18:08:45.591Z"
   },
   {
    "duration": 0,
    "start_time": "2023-06-29T18:08:45.592Z"
   },
   {
    "duration": 0,
    "start_time": "2023-06-29T18:08:45.594Z"
   },
   {
    "duration": 0,
    "start_time": "2023-06-29T18:08:45.595Z"
   },
   {
    "duration": 0,
    "start_time": "2023-06-29T18:08:45.597Z"
   },
   {
    "duration": 0,
    "start_time": "2023-06-29T18:08:45.598Z"
   },
   {
    "duration": 0,
    "start_time": "2023-06-29T18:08:45.600Z"
   },
   {
    "duration": 0,
    "start_time": "2023-06-29T18:08:45.601Z"
   },
   {
    "duration": 0,
    "start_time": "2023-06-29T18:08:45.603Z"
   },
   {
    "duration": 0,
    "start_time": "2023-06-29T18:08:45.604Z"
   },
   {
    "duration": 0,
    "start_time": "2023-06-29T18:08:45.605Z"
   },
   {
    "duration": 0,
    "start_time": "2023-06-29T18:08:45.607Z"
   },
   {
    "duration": 0,
    "start_time": "2023-06-29T18:08:45.608Z"
   },
   {
    "duration": 0,
    "start_time": "2023-06-29T18:08:45.610Z"
   },
   {
    "duration": 0,
    "start_time": "2023-06-29T18:08:45.611Z"
   },
   {
    "duration": 0,
    "start_time": "2023-06-29T18:08:45.613Z"
   },
   {
    "duration": 0,
    "start_time": "2023-06-29T18:08:45.614Z"
   },
   {
    "duration": 0,
    "start_time": "2023-06-29T18:08:45.616Z"
   },
   {
    "duration": 0,
    "start_time": "2023-06-29T18:08:45.617Z"
   },
   {
    "duration": 0,
    "start_time": "2023-06-29T18:08:45.619Z"
   },
   {
    "duration": 0,
    "start_time": "2023-06-29T18:08:45.620Z"
   },
   {
    "duration": 0,
    "start_time": "2023-06-29T18:08:45.622Z"
   },
   {
    "duration": 0,
    "start_time": "2023-06-29T18:08:45.623Z"
   },
   {
    "duration": 0,
    "start_time": "2023-06-29T18:08:45.624Z"
   },
   {
    "duration": 0,
    "start_time": "2023-06-29T18:08:45.626Z"
   },
   {
    "duration": 0,
    "start_time": "2023-06-29T18:08:45.628Z"
   },
   {
    "duration": 0,
    "start_time": "2023-06-29T18:08:45.668Z"
   },
   {
    "duration": 0,
    "start_time": "2023-06-29T18:08:45.670Z"
   },
   {
    "duration": 63,
    "start_time": "2023-06-29T18:09:56.827Z"
   },
   {
    "duration": 481,
    "start_time": "2023-06-29T18:12:41.623Z"
   },
   {
    "duration": 17,
    "start_time": "2023-06-29T18:12:55.453Z"
   },
   {
    "duration": 81,
    "start_time": "2023-06-29T18:15:07.523Z"
   },
   {
    "duration": 17,
    "start_time": "2023-06-29T18:21:08.384Z"
   },
   {
    "duration": 350,
    "start_time": "2023-06-29T18:21:32.255Z"
   },
   {
    "duration": 278,
    "start_time": "2023-06-29T18:21:57.747Z"
   },
   {
    "duration": 11,
    "start_time": "2023-06-29T18:25:42.566Z"
   },
   {
    "duration": 13,
    "start_time": "2023-06-29T18:26:04.339Z"
   },
   {
    "duration": 197,
    "start_time": "2023-06-29T18:53:27.845Z"
   },
   {
    "duration": 109,
    "start_time": "2023-06-29T18:56:06.964Z"
   },
   {
    "duration": 101,
    "start_time": "2023-06-29T18:56:47.956Z"
   },
   {
    "duration": 218,
    "start_time": "2023-06-29T18:57:25.743Z"
   },
   {
    "duration": 209,
    "start_time": "2023-06-29T18:57:45.385Z"
   },
   {
    "duration": 226,
    "start_time": "2023-06-29T19:03:33.763Z"
   },
   {
    "duration": 286,
    "start_time": "2023-06-29T19:05:38.885Z"
   },
   {
    "duration": 226,
    "start_time": "2023-06-29T19:08:39.616Z"
   },
   {
    "duration": 217,
    "start_time": "2023-06-29T19:10:06.570Z"
   },
   {
    "duration": 227,
    "start_time": "2023-06-29T19:10:13.798Z"
   },
   {
    "duration": 242,
    "start_time": "2023-06-29T19:11:17.331Z"
   },
   {
    "duration": 16,
    "start_time": "2023-06-29T19:11:34.030Z"
   },
   {
    "duration": 280,
    "start_time": "2023-06-29T19:12:06.733Z"
   },
   {
    "duration": 332,
    "start_time": "2023-06-29T19:25:09.918Z"
   },
   {
    "duration": 1097,
    "start_time": "2023-06-29T19:25:27.690Z"
   },
   {
    "duration": 73,
    "start_time": "2023-06-29T19:25:28.788Z"
   },
   {
    "duration": 10,
    "start_time": "2023-06-29T19:25:28.863Z"
   },
   {
    "duration": 7,
    "start_time": "2023-06-29T19:25:28.875Z"
   },
   {
    "duration": 7,
    "start_time": "2023-06-29T19:25:28.883Z"
   },
   {
    "duration": 34,
    "start_time": "2023-06-29T19:25:28.892Z"
   },
   {
    "duration": 5,
    "start_time": "2023-06-29T19:25:28.928Z"
   },
   {
    "duration": 7,
    "start_time": "2023-06-29T19:25:28.934Z"
   },
   {
    "duration": 30,
    "start_time": "2023-06-29T19:25:28.942Z"
   },
   {
    "duration": 5,
    "start_time": "2023-06-29T19:25:28.974Z"
   },
   {
    "duration": 5,
    "start_time": "2023-06-29T19:25:28.980Z"
   },
   {
    "duration": 6,
    "start_time": "2023-06-29T19:25:28.987Z"
   },
   {
    "duration": 9,
    "start_time": "2023-06-29T19:25:28.995Z"
   },
   {
    "duration": 19,
    "start_time": "2023-06-29T19:25:29.006Z"
   },
   {
    "duration": 5,
    "start_time": "2023-06-29T19:25:29.028Z"
   },
   {
    "duration": 36,
    "start_time": "2023-06-29T19:25:29.036Z"
   },
   {
    "duration": 366,
    "start_time": "2023-06-29T19:25:29.074Z"
   },
   {
    "duration": 9,
    "start_time": "2023-06-29T19:25:29.441Z"
   },
   {
    "duration": 285,
    "start_time": "2023-06-29T19:25:29.452Z"
   },
   {
    "duration": 10,
    "start_time": "2023-06-29T19:25:29.738Z"
   },
   {
    "duration": 18,
    "start_time": "2023-06-29T19:25:29.750Z"
   },
   {
    "duration": 5,
    "start_time": "2023-06-29T19:25:29.770Z"
   },
   {
    "duration": 8,
    "start_time": "2023-06-29T19:25:29.776Z"
   },
   {
    "duration": 356,
    "start_time": "2023-06-29T19:25:29.786Z"
   },
   {
    "duration": 30,
    "start_time": "2023-06-29T19:25:30.143Z"
   },
   {
    "duration": 22,
    "start_time": "2023-06-29T19:25:30.175Z"
   },
   {
    "duration": 26,
    "start_time": "2023-06-29T19:25:30.198Z"
   },
   {
    "duration": 37,
    "start_time": "2023-06-29T19:25:30.227Z"
   },
   {
    "duration": 60,
    "start_time": "2023-06-29T19:25:30.266Z"
   },
   {
    "duration": 365,
    "start_time": "2023-06-29T19:25:30.328Z"
   },
   {
    "duration": 283,
    "start_time": "2023-06-29T19:25:30.696Z"
   },
   {
    "duration": 428,
    "start_time": "2023-06-29T19:25:30.980Z"
   },
   {
    "duration": 305,
    "start_time": "2023-06-29T19:25:31.411Z"
   },
   {
    "duration": 282,
    "start_time": "2023-06-29T19:25:31.718Z"
   },
   {
    "duration": 110,
    "start_time": "2023-06-29T19:25:32.001Z"
   },
   {
    "duration": 0,
    "start_time": "2023-06-29T19:25:32.112Z"
   },
   {
    "duration": 0,
    "start_time": "2023-06-29T19:25:32.113Z"
   },
   {
    "duration": 0,
    "start_time": "2023-06-29T19:25:32.114Z"
   },
   {
    "duration": 0,
    "start_time": "2023-06-29T19:25:32.116Z"
   },
   {
    "duration": 0,
    "start_time": "2023-06-29T19:25:32.118Z"
   },
   {
    "duration": 0,
    "start_time": "2023-06-29T19:25:32.119Z"
   },
   {
    "duration": 0,
    "start_time": "2023-06-29T19:25:32.120Z"
   },
   {
    "duration": 0,
    "start_time": "2023-06-29T19:25:32.121Z"
   },
   {
    "duration": 0,
    "start_time": "2023-06-29T19:25:32.122Z"
   },
   {
    "duration": 0,
    "start_time": "2023-06-29T19:25:32.123Z"
   },
   {
    "duration": 0,
    "start_time": "2023-06-29T19:25:32.124Z"
   },
   {
    "duration": 0,
    "start_time": "2023-06-29T19:25:32.125Z"
   },
   {
    "duration": 0,
    "start_time": "2023-06-29T19:25:32.126Z"
   },
   {
    "duration": 0,
    "start_time": "2023-06-29T19:25:32.127Z"
   },
   {
    "duration": 0,
    "start_time": "2023-06-29T19:25:32.128Z"
   },
   {
    "duration": 0,
    "start_time": "2023-06-29T19:25:32.129Z"
   },
   {
    "duration": 0,
    "start_time": "2023-06-29T19:25:32.130Z"
   },
   {
    "duration": 0,
    "start_time": "2023-06-29T19:25:32.131Z"
   },
   {
    "duration": 0,
    "start_time": "2023-06-29T19:25:32.169Z"
   },
   {
    "duration": 0,
    "start_time": "2023-06-29T19:25:32.170Z"
   },
   {
    "duration": 0,
    "start_time": "2023-06-29T19:25:32.172Z"
   },
   {
    "duration": 0,
    "start_time": "2023-06-29T19:25:32.174Z"
   },
   {
    "duration": 0,
    "start_time": "2023-06-29T19:25:32.174Z"
   },
   {
    "duration": 0,
    "start_time": "2023-06-29T19:25:32.177Z"
   },
   {
    "duration": 377,
    "start_time": "2023-06-29T19:33:29.063Z"
   },
   {
    "duration": 10,
    "start_time": "2023-06-29T19:43:47.876Z"
   },
   {
    "duration": 146,
    "start_time": "2023-06-29T19:43:52.133Z"
   },
   {
    "duration": 139,
    "start_time": "2023-06-29T19:43:54.417Z"
   },
   {
    "duration": 177,
    "start_time": "2023-06-29T19:47:49.086Z"
   },
   {
    "duration": 176,
    "start_time": "2023-06-29T19:48:04.337Z"
   },
   {
    "duration": 153,
    "start_time": "2023-06-29T19:48:59.594Z"
   },
   {
    "duration": 6,
    "start_time": "2023-06-29T19:49:46.796Z"
   },
   {
    "duration": 8,
    "start_time": "2023-06-29T19:49:48.650Z"
   },
   {
    "duration": 187,
    "start_time": "2023-06-29T19:49:56.066Z"
   },
   {
    "duration": 267,
    "start_time": "2023-06-29T19:49:57.465Z"
   },
   {
    "duration": 279,
    "start_time": "2023-06-29T19:51:25.716Z"
   },
   {
    "duration": 309,
    "start_time": "2023-06-29T19:51:37.999Z"
   },
   {
    "duration": 117,
    "start_time": "2023-06-29T19:51:44.648Z"
   },
   {
    "duration": 7,
    "start_time": "2023-06-29T19:51:50.119Z"
   },
   {
    "duration": 7,
    "start_time": "2023-06-29T19:52:28.031Z"
   },
   {
    "duration": 223,
    "start_time": "2023-06-29T19:53:13.533Z"
   },
   {
    "duration": 1143,
    "start_time": "2023-06-29T20:03:19.818Z"
   },
   {
    "duration": 79,
    "start_time": "2023-06-29T20:03:20.963Z"
   },
   {
    "duration": 14,
    "start_time": "2023-06-29T20:03:21.044Z"
   },
   {
    "duration": 17,
    "start_time": "2023-06-29T20:03:21.060Z"
   },
   {
    "duration": 12,
    "start_time": "2023-06-29T20:03:21.078Z"
   },
   {
    "duration": 25,
    "start_time": "2023-06-29T20:03:21.094Z"
   },
   {
    "duration": 7,
    "start_time": "2023-06-29T20:03:21.121Z"
   },
   {
    "duration": 5,
    "start_time": "2023-06-29T20:03:21.130Z"
   },
   {
    "duration": 37,
    "start_time": "2023-06-29T20:03:21.137Z"
   },
   {
    "duration": 10,
    "start_time": "2023-06-29T20:03:21.181Z"
   },
   {
    "duration": 18,
    "start_time": "2023-06-29T20:03:21.192Z"
   },
   {
    "duration": 22,
    "start_time": "2023-06-29T20:03:21.211Z"
   },
   {
    "duration": 17,
    "start_time": "2023-06-29T20:03:21.235Z"
   },
   {
    "duration": 23,
    "start_time": "2023-06-29T20:03:21.254Z"
   },
   {
    "duration": 19,
    "start_time": "2023-06-29T20:03:21.278Z"
   },
   {
    "duration": 14,
    "start_time": "2023-06-29T20:03:21.298Z"
   },
   {
    "duration": 372,
    "start_time": "2023-06-29T20:03:21.314Z"
   },
   {
    "duration": 12,
    "start_time": "2023-06-29T20:03:21.689Z"
   },
   {
    "duration": 308,
    "start_time": "2023-06-29T20:03:21.703Z"
   },
   {
    "duration": 11,
    "start_time": "2023-06-29T20:03:22.012Z"
   },
   {
    "duration": 5,
    "start_time": "2023-06-29T20:03:22.025Z"
   },
   {
    "duration": 12,
    "start_time": "2023-06-29T20:03:22.031Z"
   },
   {
    "duration": 30,
    "start_time": "2023-06-29T20:03:22.045Z"
   },
   {
    "duration": 360,
    "start_time": "2023-06-29T20:03:22.077Z"
   },
   {
    "duration": 32,
    "start_time": "2023-06-29T20:03:22.439Z"
   },
   {
    "duration": 23,
    "start_time": "2023-06-29T20:03:22.478Z"
   },
   {
    "duration": 5,
    "start_time": "2023-06-29T20:03:22.503Z"
   },
   {
    "duration": 9,
    "start_time": "2023-06-29T20:03:22.512Z"
   },
   {
    "duration": 16,
    "start_time": "2023-06-29T20:03:22.522Z"
   },
   {
    "duration": 374,
    "start_time": "2023-06-29T20:03:22.540Z"
   },
   {
    "duration": 314,
    "start_time": "2023-06-29T20:03:22.916Z"
   },
   {
    "duration": 441,
    "start_time": "2023-06-29T20:03:23.232Z"
   },
   {
    "duration": 363,
    "start_time": "2023-06-29T20:03:23.682Z"
   },
   {
    "duration": 394,
    "start_time": "2023-06-29T20:03:24.048Z"
   },
   {
    "duration": 391,
    "start_time": "2023-06-29T20:03:24.444Z"
   },
   {
    "duration": 9,
    "start_time": "2023-06-29T20:03:24.837Z"
   },
   {
    "duration": 191,
    "start_time": "2023-06-29T20:03:24.848Z"
   },
   {
    "duration": 170,
    "start_time": "2023-06-29T20:03:25.040Z"
   },
   {
    "duration": 5,
    "start_time": "2023-06-29T20:03:25.211Z"
   },
   {
    "duration": 10,
    "start_time": "2023-06-29T20:03:25.217Z"
   },
   {
    "duration": 211,
    "start_time": "2023-06-29T20:03:25.229Z"
   },
   {
    "duration": 293,
    "start_time": "2023-06-29T20:03:25.442Z"
   },
   {
    "duration": 145,
    "start_time": "2023-06-29T20:03:25.737Z"
   },
   {
    "duration": 14,
    "start_time": "2023-06-29T20:03:25.884Z"
   },
   {
    "duration": 11,
    "start_time": "2023-06-29T20:03:25.900Z"
   },
   {
    "duration": 285,
    "start_time": "2023-06-29T20:03:25.914Z"
   },
   {
    "duration": 11,
    "start_time": "2023-06-29T20:03:26.200Z"
   },
   {
    "duration": 5,
    "start_time": "2023-06-29T20:03:26.212Z"
   },
   {
    "duration": 7,
    "start_time": "2023-06-29T20:03:26.218Z"
   },
   {
    "duration": 11,
    "start_time": "2023-06-29T20:03:26.226Z"
   },
   {
    "duration": 8,
    "start_time": "2023-06-29T20:03:26.272Z"
   },
   {
    "duration": 11,
    "start_time": "2023-06-29T20:03:26.282Z"
   },
   {
    "duration": 27,
    "start_time": "2023-06-29T20:03:26.294Z"
   },
   {
    "duration": 13,
    "start_time": "2023-06-29T20:03:26.322Z"
   },
   {
    "duration": 6,
    "start_time": "2023-06-29T20:03:26.336Z"
   },
   {
    "duration": 8,
    "start_time": "2023-06-29T20:03:26.368Z"
   },
   {
    "duration": 10,
    "start_time": "2023-06-29T20:03:26.378Z"
   },
   {
    "duration": 6,
    "start_time": "2023-06-29T20:03:26.391Z"
   },
   {
    "duration": 96,
    "start_time": "2023-06-29T20:24:50.531Z"
   },
   {
    "duration": 22,
    "start_time": "2023-06-29T20:34:57.817Z"
   },
   {
    "duration": 1359,
    "start_time": "2023-06-29T20:43:04.805Z"
   },
   {
    "duration": 113,
    "start_time": "2023-06-29T20:43:06.165Z"
   },
   {
    "duration": 18,
    "start_time": "2023-06-29T20:43:06.290Z"
   },
   {
    "duration": 14,
    "start_time": "2023-06-29T20:43:06.311Z"
   },
   {
    "duration": 12,
    "start_time": "2023-06-29T20:43:06.328Z"
   },
   {
    "duration": 64,
    "start_time": "2023-06-29T20:43:06.342Z"
   },
   {
    "duration": 10,
    "start_time": "2023-06-29T20:43:06.408Z"
   },
   {
    "duration": 16,
    "start_time": "2023-06-29T20:43:06.421Z"
   },
   {
    "duration": 12,
    "start_time": "2023-06-29T20:43:06.439Z"
   },
   {
    "duration": 8,
    "start_time": "2023-06-29T20:43:06.452Z"
   },
   {
    "duration": 13,
    "start_time": "2023-06-29T20:43:06.462Z"
   },
   {
    "duration": 9,
    "start_time": "2023-06-29T20:43:06.479Z"
   },
   {
    "duration": 9,
    "start_time": "2023-06-29T20:43:06.490Z"
   },
   {
    "duration": 4,
    "start_time": "2023-06-29T20:43:06.503Z"
   },
   {
    "duration": 4,
    "start_time": "2023-06-29T20:43:06.509Z"
   },
   {
    "duration": 12,
    "start_time": "2023-06-29T20:43:06.515Z"
   },
   {
    "duration": 465,
    "start_time": "2023-06-29T20:43:06.529Z"
   },
   {
    "duration": 16,
    "start_time": "2023-06-29T20:43:06.996Z"
   },
   {
    "duration": 364,
    "start_time": "2023-06-29T20:43:07.017Z"
   },
   {
    "duration": 13,
    "start_time": "2023-06-29T20:43:07.383Z"
   },
   {
    "duration": 6,
    "start_time": "2023-06-29T20:43:07.398Z"
   },
   {
    "duration": 4,
    "start_time": "2023-06-29T20:43:07.406Z"
   },
   {
    "duration": 19,
    "start_time": "2023-06-29T20:43:07.412Z"
   },
   {
    "duration": 425,
    "start_time": "2023-06-29T20:43:07.433Z"
   },
   {
    "duration": 29,
    "start_time": "2023-06-29T20:43:07.860Z"
   },
   {
    "duration": 34,
    "start_time": "2023-06-29T20:43:07.892Z"
   },
   {
    "duration": 5,
    "start_time": "2023-06-29T20:43:07.931Z"
   },
   {
    "duration": 9,
    "start_time": "2023-06-29T20:43:07.937Z"
   },
   {
    "duration": 15,
    "start_time": "2023-06-29T20:43:07.947Z"
   },
   {
    "duration": 464,
    "start_time": "2023-06-29T20:43:07.964Z"
   },
   {
    "duration": 352,
    "start_time": "2023-06-29T20:43:08.430Z"
   },
   {
    "duration": 472,
    "start_time": "2023-06-29T20:43:08.791Z"
   },
   {
    "duration": 398,
    "start_time": "2023-06-29T20:43:09.265Z"
   },
   {
    "duration": 364,
    "start_time": "2023-06-29T20:43:09.665Z"
   },
   {
    "duration": 423,
    "start_time": "2023-06-29T20:43:10.035Z"
   },
   {
    "duration": 23,
    "start_time": "2023-06-29T20:43:10.460Z"
   },
   {
    "duration": 205,
    "start_time": "2023-06-29T20:43:10.486Z"
   },
   {
    "duration": 190,
    "start_time": "2023-06-29T20:43:10.693Z"
   },
   {
    "duration": 5,
    "start_time": "2023-06-29T20:43:10.885Z"
   },
   {
    "duration": 14,
    "start_time": "2023-06-29T20:43:10.892Z"
   },
   {
    "duration": 256,
    "start_time": "2023-06-29T20:43:10.910Z"
   },
   {
    "duration": 417,
    "start_time": "2023-06-29T20:43:11.168Z"
   },
   {
    "duration": 186,
    "start_time": "2023-06-29T20:43:11.588Z"
   },
   {
    "duration": 12,
    "start_time": "2023-06-29T20:43:11.783Z"
   },
   {
    "duration": 9,
    "start_time": "2023-06-29T20:43:11.800Z"
   },
   {
    "duration": 372,
    "start_time": "2023-06-29T20:43:11.814Z"
   },
   {
    "duration": 14,
    "start_time": "2023-06-29T20:43:12.188Z"
   },
   {
    "duration": 6,
    "start_time": "2023-06-29T20:43:12.204Z"
   },
   {
    "duration": 5,
    "start_time": "2023-06-29T20:43:12.212Z"
   },
   {
    "duration": 11,
    "start_time": "2023-06-29T20:43:12.219Z"
   },
   {
    "duration": 12,
    "start_time": "2023-06-29T20:43:12.232Z"
   },
   {
    "duration": 11,
    "start_time": "2023-06-29T20:43:12.268Z"
   },
   {
    "duration": 41,
    "start_time": "2023-06-29T20:43:12.281Z"
   },
   {
    "duration": 18,
    "start_time": "2023-06-29T20:43:12.324Z"
   },
   {
    "duration": 7,
    "start_time": "2023-06-29T20:43:12.345Z"
   },
   {
    "duration": 3,
    "start_time": "2023-06-29T20:43:12.380Z"
   },
   {
    "duration": 17,
    "start_time": "2023-06-29T20:43:12.387Z"
   },
   {
    "duration": 19,
    "start_time": "2023-06-29T20:43:12.405Z"
   },
   {
    "duration": 1382,
    "start_time": "2023-06-29T21:12:47.842Z"
   },
   {
    "duration": 116,
    "start_time": "2023-06-29T21:12:49.235Z"
   },
   {
    "duration": 10,
    "start_time": "2023-06-29T21:12:49.353Z"
   },
   {
    "duration": 13,
    "start_time": "2023-06-29T21:12:49.365Z"
   },
   {
    "duration": 14,
    "start_time": "2023-06-29T21:12:49.384Z"
   },
   {
    "duration": 33,
    "start_time": "2023-06-29T21:12:49.402Z"
   },
   {
    "duration": 6,
    "start_time": "2023-06-29T21:12:49.438Z"
   },
   {
    "duration": 5,
    "start_time": "2023-06-29T21:12:49.445Z"
   },
   {
    "duration": 4,
    "start_time": "2023-06-29T21:12:49.452Z"
   },
   {
    "duration": 13,
    "start_time": "2023-06-29T21:12:49.458Z"
   },
   {
    "duration": 9,
    "start_time": "2023-06-29T21:12:49.473Z"
   },
   {
    "duration": 19,
    "start_time": "2023-06-29T21:12:49.485Z"
   },
   {
    "duration": 13,
    "start_time": "2023-06-29T21:12:49.505Z"
   },
   {
    "duration": 4,
    "start_time": "2023-06-29T21:12:49.520Z"
   },
   {
    "duration": 7,
    "start_time": "2023-06-29T21:12:49.526Z"
   },
   {
    "duration": 17,
    "start_time": "2023-06-29T21:12:49.535Z"
   },
   {
    "duration": 463,
    "start_time": "2023-06-29T21:12:49.553Z"
   },
   {
    "duration": 27,
    "start_time": "2023-06-29T21:12:50.017Z"
   },
   {
    "duration": 446,
    "start_time": "2023-06-29T21:12:50.046Z"
   },
   {
    "duration": 21,
    "start_time": "2023-06-29T21:12:50.497Z"
   },
   {
    "duration": 14,
    "start_time": "2023-06-29T21:12:50.519Z"
   },
   {
    "duration": 8,
    "start_time": "2023-06-29T21:12:50.540Z"
   },
   {
    "duration": 8,
    "start_time": "2023-06-29T21:12:50.549Z"
   },
   {
    "duration": 453,
    "start_time": "2023-06-29T21:12:50.559Z"
   },
   {
    "duration": 23,
    "start_time": "2023-06-29T21:12:51.014Z"
   },
   {
    "duration": 16,
    "start_time": "2023-06-29T21:12:51.038Z"
   },
   {
    "duration": 4,
    "start_time": "2023-06-29T21:12:51.056Z"
   },
   {
    "duration": 19,
    "start_time": "2023-06-29T21:12:51.069Z"
   },
   {
    "duration": 34,
    "start_time": "2023-06-29T21:12:51.089Z"
   },
   {
    "duration": 464,
    "start_time": "2023-06-29T21:12:51.126Z"
   },
   {
    "duration": 360,
    "start_time": "2023-06-29T21:12:51.595Z"
   },
   {
    "duration": 507,
    "start_time": "2023-06-29T21:12:51.957Z"
   },
   {
    "duration": 401,
    "start_time": "2023-06-29T21:12:52.466Z"
   },
   {
    "duration": 400,
    "start_time": "2023-06-29T21:12:52.882Z"
   },
   {
    "duration": 493,
    "start_time": "2023-06-29T21:12:53.284Z"
   },
   {
    "duration": 23,
    "start_time": "2023-06-29T21:12:53.783Z"
   },
   {
    "duration": 247,
    "start_time": "2023-06-29T21:12:53.812Z"
   },
   {
    "duration": 222,
    "start_time": "2023-06-29T21:12:54.061Z"
   },
   {
    "duration": 9,
    "start_time": "2023-06-29T21:12:54.288Z"
   },
   {
    "duration": 24,
    "start_time": "2023-06-29T21:12:54.304Z"
   },
   {
    "duration": 242,
    "start_time": "2023-06-29T21:12:54.332Z"
   },
   {
    "duration": 386,
    "start_time": "2023-06-29T21:12:54.575Z"
   },
   {
    "duration": 188,
    "start_time": "2023-06-29T21:12:54.963Z"
   },
   {
    "duration": 7,
    "start_time": "2023-06-29T21:12:55.152Z"
   },
   {
    "duration": 54,
    "start_time": "2023-06-29T21:12:55.160Z"
   },
   {
    "duration": 330,
    "start_time": "2023-06-29T21:12:55.219Z"
   },
   {
    "duration": 10,
    "start_time": "2023-06-29T21:12:55.554Z"
   },
   {
    "duration": 12,
    "start_time": "2023-06-29T21:12:55.566Z"
   },
   {
    "duration": 18,
    "start_time": "2023-06-29T21:12:55.580Z"
   },
   {
    "duration": 15,
    "start_time": "2023-06-29T21:12:55.599Z"
   },
   {
    "duration": 4,
    "start_time": "2023-06-29T21:12:55.615Z"
   },
   {
    "duration": 8,
    "start_time": "2023-06-29T21:12:55.621Z"
   },
   {
    "duration": 31,
    "start_time": "2023-06-29T21:12:55.630Z"
   },
   {
    "duration": 15,
    "start_time": "2023-06-29T21:12:55.662Z"
   },
   {
    "duration": 8,
    "start_time": "2023-06-29T21:12:55.680Z"
   },
   {
    "duration": 3,
    "start_time": "2023-06-29T21:12:55.690Z"
   },
   {
    "duration": 5,
    "start_time": "2023-06-29T21:12:55.695Z"
   },
   {
    "duration": 7,
    "start_time": "2023-06-29T21:12:55.702Z"
   },
   {
    "duration": 1347,
    "start_time": "2023-06-29T22:40:25.377Z"
   },
   {
    "duration": 192,
    "start_time": "2023-06-29T22:40:26.726Z"
   },
   {
    "duration": 10,
    "start_time": "2023-06-29T22:40:26.920Z"
   },
   {
    "duration": 8,
    "start_time": "2023-06-29T22:40:26.932Z"
   },
   {
    "duration": 8,
    "start_time": "2023-06-29T22:40:26.941Z"
   },
   {
    "duration": 22,
    "start_time": "2023-06-29T22:40:26.951Z"
   },
   {
    "duration": 5,
    "start_time": "2023-06-29T22:40:26.974Z"
   },
   {
    "duration": 8,
    "start_time": "2023-06-29T22:40:26.981Z"
   },
   {
    "duration": 40,
    "start_time": "2023-06-29T22:40:26.992Z"
   },
   {
    "duration": 46,
    "start_time": "2023-06-29T22:40:27.035Z"
   },
   {
    "duration": 42,
    "start_time": "2023-06-29T22:40:27.082Z"
   },
   {
    "duration": 54,
    "start_time": "2023-06-29T22:40:27.126Z"
   },
   {
    "duration": 12,
    "start_time": "2023-06-29T22:40:27.181Z"
   },
   {
    "duration": 7,
    "start_time": "2023-06-29T22:40:27.194Z"
   },
   {
    "duration": 6,
    "start_time": "2023-06-29T22:40:27.202Z"
   },
   {
    "duration": 12,
    "start_time": "2023-06-29T22:40:27.209Z"
   },
   {
    "duration": 359,
    "start_time": "2023-06-29T22:40:27.222Z"
   },
   {
    "duration": 9,
    "start_time": "2023-06-29T22:40:27.582Z"
   },
   {
    "duration": 311,
    "start_time": "2023-06-29T22:40:27.592Z"
   },
   {
    "duration": 10,
    "start_time": "2023-06-29T22:40:27.904Z"
   },
   {
    "duration": 18,
    "start_time": "2023-06-29T22:40:27.915Z"
   },
   {
    "duration": 10,
    "start_time": "2023-06-29T22:40:27.935Z"
   },
   {
    "duration": 22,
    "start_time": "2023-06-29T22:40:27.949Z"
   },
   {
    "duration": 344,
    "start_time": "2023-06-29T22:40:27.972Z"
   },
   {
    "duration": 30,
    "start_time": "2023-06-29T22:40:28.317Z"
   },
   {
    "duration": 14,
    "start_time": "2023-06-29T22:40:28.348Z"
   },
   {
    "duration": 4,
    "start_time": "2023-06-29T22:40:28.364Z"
   },
   {
    "duration": 4,
    "start_time": "2023-06-29T22:40:28.371Z"
   },
   {
    "duration": 11,
    "start_time": "2023-06-29T22:40:28.376Z"
   },
   {
    "duration": 373,
    "start_time": "2023-06-29T22:40:28.389Z"
   },
   {
    "duration": 308,
    "start_time": "2023-06-29T22:40:28.764Z"
   },
   {
    "duration": 443,
    "start_time": "2023-06-29T22:40:29.074Z"
   },
   {
    "duration": 350,
    "start_time": "2023-06-29T22:40:29.519Z"
   },
   {
    "duration": 278,
    "start_time": "2023-06-29T22:40:29.871Z"
   },
   {
    "duration": 373,
    "start_time": "2023-06-29T22:40:30.151Z"
   },
   {
    "duration": 17,
    "start_time": "2023-06-29T22:40:30.525Z"
   },
   {
    "duration": 222,
    "start_time": "2023-06-29T22:40:30.544Z"
   },
   {
    "duration": 195,
    "start_time": "2023-06-29T22:40:30.767Z"
   },
   {
    "duration": 5,
    "start_time": "2023-06-29T22:40:30.965Z"
   },
   {
    "duration": 69,
    "start_time": "2023-06-29T22:40:30.971Z"
   },
   {
    "duration": 234,
    "start_time": "2023-06-29T22:40:31.042Z"
   },
   {
    "duration": 292,
    "start_time": "2023-06-29T22:40:31.277Z"
   },
   {
    "duration": 136,
    "start_time": "2023-06-29T22:40:31.572Z"
   },
   {
    "duration": 6,
    "start_time": "2023-06-29T22:40:31.710Z"
   },
   {
    "duration": 50,
    "start_time": "2023-06-29T22:40:31.718Z"
   },
   {
    "duration": 294,
    "start_time": "2023-06-29T22:40:31.770Z"
   },
   {
    "duration": 11,
    "start_time": "2023-06-29T22:40:32.065Z"
   },
   {
    "duration": 43,
    "start_time": "2023-06-29T22:40:32.077Z"
   },
   {
    "duration": 50,
    "start_time": "2023-06-29T22:40:32.122Z"
   },
   {
    "duration": 14,
    "start_time": "2023-06-29T22:40:32.174Z"
   },
   {
    "duration": 30,
    "start_time": "2023-06-29T22:40:32.190Z"
   },
   {
    "duration": 55,
    "start_time": "2023-06-29T22:40:32.221Z"
   },
   {
    "duration": 37,
    "start_time": "2023-06-29T22:40:32.278Z"
   },
   {
    "duration": 40,
    "start_time": "2023-06-29T22:40:32.317Z"
   },
   {
    "duration": 48,
    "start_time": "2023-06-29T22:40:32.359Z"
   },
   {
    "duration": 18,
    "start_time": "2023-06-29T22:40:32.409Z"
   },
   {
    "duration": 36,
    "start_time": "2023-06-29T22:40:32.429Z"
   },
   {
    "duration": 25,
    "start_time": "2023-06-29T22:40:32.467Z"
   },
   {
    "duration": 50,
    "start_time": "2023-06-30T06:18:34.512Z"
   },
   {
    "duration": 1292,
    "start_time": "2023-06-30T06:18:43.575Z"
   },
   {
    "duration": 206,
    "start_time": "2023-06-30T06:18:44.869Z"
   },
   {
    "duration": 12,
    "start_time": "2023-06-30T06:18:45.086Z"
   },
   {
    "duration": 17,
    "start_time": "2023-06-30T06:18:45.100Z"
   },
   {
    "duration": 17,
    "start_time": "2023-06-30T06:18:45.119Z"
   },
   {
    "duration": 37,
    "start_time": "2023-06-30T06:18:45.137Z"
   },
   {
    "duration": 15,
    "start_time": "2023-06-30T06:18:45.177Z"
   },
   {
    "duration": 9,
    "start_time": "2023-06-30T06:18:45.193Z"
   },
   {
    "duration": 18,
    "start_time": "2023-06-30T06:18:45.204Z"
   },
   {
    "duration": 10,
    "start_time": "2023-06-30T06:18:45.224Z"
   },
   {
    "duration": 8,
    "start_time": "2023-06-30T06:18:45.236Z"
   },
   {
    "duration": 15,
    "start_time": "2023-06-30T06:18:45.245Z"
   },
   {
    "duration": 16,
    "start_time": "2023-06-30T06:18:45.262Z"
   },
   {
    "duration": 6,
    "start_time": "2023-06-30T06:18:45.281Z"
   },
   {
    "duration": 9,
    "start_time": "2023-06-30T06:18:45.289Z"
   },
   {
    "duration": 15,
    "start_time": "2023-06-30T06:18:45.300Z"
   },
   {
    "duration": 407,
    "start_time": "2023-06-30T06:18:45.317Z"
   },
   {
    "duration": 9,
    "start_time": "2023-06-30T06:18:45.726Z"
   },
   {
    "duration": 385,
    "start_time": "2023-06-30T06:18:45.736Z"
   },
   {
    "duration": 10,
    "start_time": "2023-06-30T06:18:46.122Z"
   },
   {
    "duration": 45,
    "start_time": "2023-06-30T06:18:46.133Z"
   },
   {
    "duration": 17,
    "start_time": "2023-06-30T06:18:46.180Z"
   },
   {
    "duration": 13,
    "start_time": "2023-06-30T06:18:46.199Z"
   },
   {
    "duration": 364,
    "start_time": "2023-06-30T06:18:46.213Z"
   },
   {
    "duration": 26,
    "start_time": "2023-06-30T06:18:46.580Z"
   },
   {
    "duration": 34,
    "start_time": "2023-06-30T06:18:46.608Z"
   },
   {
    "duration": 18,
    "start_time": "2023-06-30T06:18:46.644Z"
   },
   {
    "duration": 29,
    "start_time": "2023-06-30T06:18:46.665Z"
   },
   {
    "duration": 34,
    "start_time": "2023-06-30T06:18:46.696Z"
   },
   {
    "duration": 475,
    "start_time": "2023-06-30T06:18:46.731Z"
   },
   {
    "duration": 328,
    "start_time": "2023-06-30T06:18:47.208Z"
   },
   {
    "duration": 449,
    "start_time": "2023-06-30T06:18:47.537Z"
   },
   {
    "duration": 1779,
    "start_time": "2023-06-30T06:18:47.989Z"
   },
   {
    "duration": 0,
    "start_time": "2023-06-30T06:18:49.770Z"
   },
   {
    "duration": 0,
    "start_time": "2023-06-30T06:18:49.771Z"
   },
   {
    "duration": 0,
    "start_time": "2023-06-30T06:18:49.772Z"
   },
   {
    "duration": 0,
    "start_time": "2023-06-30T06:18:49.773Z"
   },
   {
    "duration": 0,
    "start_time": "2023-06-30T06:18:49.774Z"
   },
   {
    "duration": 0,
    "start_time": "2023-06-30T06:18:49.775Z"
   },
   {
    "duration": 0,
    "start_time": "2023-06-30T06:18:49.777Z"
   },
   {
    "duration": 0,
    "start_time": "2023-06-30T06:18:49.778Z"
   },
   {
    "duration": 0,
    "start_time": "2023-06-30T06:18:49.780Z"
   },
   {
    "duration": 0,
    "start_time": "2023-06-30T06:18:49.781Z"
   },
   {
    "duration": 0,
    "start_time": "2023-06-30T06:18:49.782Z"
   },
   {
    "duration": 0,
    "start_time": "2023-06-30T06:18:49.784Z"
   },
   {
    "duration": 0,
    "start_time": "2023-06-30T06:18:49.785Z"
   },
   {
    "duration": 0,
    "start_time": "2023-06-30T06:18:49.788Z"
   },
   {
    "duration": 0,
    "start_time": "2023-06-30T06:18:49.789Z"
   },
   {
    "duration": 0,
    "start_time": "2023-06-30T06:18:49.791Z"
   },
   {
    "duration": 0,
    "start_time": "2023-06-30T06:18:49.793Z"
   },
   {
    "duration": 0,
    "start_time": "2023-06-30T06:18:49.794Z"
   },
   {
    "duration": 0,
    "start_time": "2023-06-30T06:18:49.795Z"
   },
   {
    "duration": 0,
    "start_time": "2023-06-30T06:18:49.796Z"
   },
   {
    "duration": 1,
    "start_time": "2023-06-30T06:18:49.796Z"
   },
   {
    "duration": 0,
    "start_time": "2023-06-30T06:18:49.797Z"
   },
   {
    "duration": 0,
    "start_time": "2023-06-30T06:18:49.799Z"
   },
   {
    "duration": 0,
    "start_time": "2023-06-30T06:18:49.800Z"
   },
   {
    "duration": 0,
    "start_time": "2023-06-30T06:18:49.801Z"
   },
   {
    "duration": 2169,
    "start_time": "2023-06-30T06:19:36.695Z"
   },
   {
    "duration": 206,
    "start_time": "2023-06-30T06:19:56.992Z"
   },
   {
    "duration": 272,
    "start_time": "2023-06-30T06:20:03.797Z"
   },
   {
    "duration": 6,
    "start_time": "2023-06-30T06:34:24.736Z"
   },
   {
    "duration": 5,
    "start_time": "2023-06-30T06:35:23.007Z"
   },
   {
    "duration": 11,
    "start_time": "2023-06-30T06:35:47.881Z"
   },
   {
    "duration": 10,
    "start_time": "2023-06-30T06:36:01.378Z"
   },
   {
    "duration": 5,
    "start_time": "2023-06-30T06:37:28.381Z"
   },
   {
    "duration": 227,
    "start_time": "2023-06-30T06:38:41.014Z"
   },
   {
    "duration": 10,
    "start_time": "2023-06-30T06:38:48.330Z"
   },
   {
    "duration": 7,
    "start_time": "2023-06-30T06:39:22.768Z"
   },
   {
    "duration": 5,
    "start_time": "2023-06-30T06:39:52.456Z"
   },
   {
    "duration": 6,
    "start_time": "2023-06-30T06:39:57.858Z"
   },
   {
    "duration": 6,
    "start_time": "2023-06-30T06:40:06.598Z"
   },
   {
    "duration": 91,
    "start_time": "2023-06-30T06:49:17.900Z"
   },
   {
    "duration": 4,
    "start_time": "2023-06-30T06:51:43.465Z"
   },
   {
    "duration": 82,
    "start_time": "2023-06-30T06:53:32.394Z"
   },
   {
    "duration": 8,
    "start_time": "2023-06-30T06:53:53.375Z"
   },
   {
    "duration": 68,
    "start_time": "2023-06-30T06:58:58.233Z"
   },
   {
    "duration": 393,
    "start_time": "2023-06-30T07:03:45.151Z"
   },
   {
    "duration": 11,
    "start_time": "2023-06-30T07:07:08.995Z"
   },
   {
    "duration": 163,
    "start_time": "2023-06-30T07:07:12.898Z"
   },
   {
    "duration": 143,
    "start_time": "2023-06-30T07:07:18.217Z"
   },
   {
    "duration": 4,
    "start_time": "2023-06-30T07:07:28.217Z"
   },
   {
    "duration": 7,
    "start_time": "2023-06-30T07:07:29.396Z"
   },
   {
    "duration": 165,
    "start_time": "2023-06-30T07:08:00.291Z"
   },
   {
    "duration": 276,
    "start_time": "2023-06-30T07:08:32.299Z"
   },
   {
    "duration": 76,
    "start_time": "2023-06-30T07:09:27.390Z"
   },
   {
    "duration": 113,
    "start_time": "2023-06-30T07:10:31.458Z"
   },
   {
    "duration": 6,
    "start_time": "2023-06-30T07:10:36.563Z"
   },
   {
    "duration": 5,
    "start_time": "2023-06-30T07:10:46.767Z"
   },
   {
    "duration": 273,
    "start_time": "2023-06-30T07:12:12.267Z"
   },
   {
    "duration": 10,
    "start_time": "2023-06-30T07:30:39.569Z"
   },
   {
    "duration": 238,
    "start_time": "2023-06-30T07:33:15.488Z"
   },
   {
    "duration": 1189,
    "start_time": "2023-06-30T07:34:29.684Z"
   },
   {
    "duration": 77,
    "start_time": "2023-06-30T07:34:30.876Z"
   },
   {
    "duration": 11,
    "start_time": "2023-06-30T07:34:30.955Z"
   },
   {
    "duration": 33,
    "start_time": "2023-06-30T07:34:30.968Z"
   },
   {
    "duration": 50,
    "start_time": "2023-06-30T07:34:31.003Z"
   },
   {
    "duration": 55,
    "start_time": "2023-06-30T07:34:31.055Z"
   },
   {
    "duration": 17,
    "start_time": "2023-06-30T07:34:31.111Z"
   },
   {
    "duration": 57,
    "start_time": "2023-06-30T07:34:31.130Z"
   },
   {
    "duration": 51,
    "start_time": "2023-06-30T07:34:31.189Z"
   },
   {
    "duration": 61,
    "start_time": "2023-06-30T07:34:31.242Z"
   },
   {
    "duration": 84,
    "start_time": "2023-06-30T07:34:31.305Z"
   },
   {
    "duration": 43,
    "start_time": "2023-06-30T07:34:31.390Z"
   },
   {
    "duration": 39,
    "start_time": "2023-06-30T07:34:31.435Z"
   },
   {
    "duration": 46,
    "start_time": "2023-06-30T07:34:31.475Z"
   },
   {
    "duration": 33,
    "start_time": "2023-06-30T07:34:31.523Z"
   },
   {
    "duration": 28,
    "start_time": "2023-06-30T07:34:31.558Z"
   },
   {
    "duration": 43,
    "start_time": "2023-06-30T07:34:31.588Z"
   },
   {
    "duration": 432,
    "start_time": "2023-06-30T07:34:31.632Z"
   },
   {
    "duration": 8,
    "start_time": "2023-06-30T07:34:32.065Z"
   },
   {
    "duration": 300,
    "start_time": "2023-06-30T07:34:32.075Z"
   },
   {
    "duration": 10,
    "start_time": "2023-06-30T07:34:32.377Z"
   },
   {
    "duration": 9,
    "start_time": "2023-06-30T07:34:32.389Z"
   },
   {
    "duration": 11,
    "start_time": "2023-06-30T07:34:32.400Z"
   },
   {
    "duration": 16,
    "start_time": "2023-06-30T07:34:32.413Z"
   },
   {
    "duration": 354,
    "start_time": "2023-06-30T07:34:32.431Z"
   },
   {
    "duration": 16,
    "start_time": "2023-06-30T07:34:32.787Z"
   },
   {
    "duration": 14,
    "start_time": "2023-06-30T07:34:32.804Z"
   },
   {
    "duration": 5,
    "start_time": "2023-06-30T07:34:32.821Z"
   },
   {
    "duration": 12,
    "start_time": "2023-06-30T07:34:32.827Z"
   },
   {
    "duration": 10,
    "start_time": "2023-06-30T07:34:32.850Z"
   },
   {
    "duration": 342,
    "start_time": "2023-06-30T07:34:32.875Z"
   },
   {
    "duration": 300,
    "start_time": "2023-06-30T07:34:33.219Z"
   },
   {
    "duration": 356,
    "start_time": "2023-06-30T07:34:33.521Z"
   },
   {
    "duration": 302,
    "start_time": "2023-06-30T07:34:33.879Z"
   },
   {
    "duration": 240,
    "start_time": "2023-06-30T07:34:34.182Z"
   },
   {
    "duration": 320,
    "start_time": "2023-06-30T07:34:34.424Z"
   },
   {
    "duration": 11,
    "start_time": "2023-06-30T07:34:34.746Z"
   },
   {
    "duration": 177,
    "start_time": "2023-06-30T07:34:34.759Z"
   },
   {
    "duration": 154,
    "start_time": "2023-06-30T07:34:34.938Z"
   },
   {
    "duration": 5,
    "start_time": "2023-06-30T07:34:35.094Z"
   },
   {
    "duration": 11,
    "start_time": "2023-06-30T07:34:35.101Z"
   },
   {
    "duration": 194,
    "start_time": "2023-06-30T07:34:35.114Z"
   },
   {
    "duration": 283,
    "start_time": "2023-06-30T07:34:35.310Z"
   },
   {
    "duration": 134,
    "start_time": "2023-06-30T07:34:35.595Z"
   },
   {
    "duration": 7,
    "start_time": "2023-06-30T07:34:35.731Z"
   },
   {
    "duration": 40,
    "start_time": "2023-06-30T07:34:35.740Z"
   },
   {
    "duration": 290,
    "start_time": "2023-06-30T07:34:35.782Z"
   },
   {
    "duration": 10,
    "start_time": "2023-06-30T07:34:36.075Z"
   },
   {
    "duration": 3,
    "start_time": "2023-06-30T07:34:36.087Z"
   },
   {
    "duration": 6,
    "start_time": "2023-06-30T07:34:36.092Z"
   },
   {
    "duration": 9,
    "start_time": "2023-06-30T07:34:36.099Z"
   },
   {
    "duration": 5,
    "start_time": "2023-06-30T07:34:36.110Z"
   },
   {
    "duration": 10,
    "start_time": "2023-06-30T07:34:36.116Z"
   },
   {
    "duration": 22,
    "start_time": "2023-06-30T07:34:36.127Z"
   },
   {
    "duration": 12,
    "start_time": "2023-06-30T07:34:36.175Z"
   },
   {
    "duration": 5,
    "start_time": "2023-06-30T07:34:36.189Z"
   },
   {
    "duration": 6,
    "start_time": "2023-06-30T07:34:36.195Z"
   },
   {
    "duration": 15,
    "start_time": "2023-06-30T07:34:36.202Z"
   },
   {
    "duration": 7,
    "start_time": "2023-06-30T07:34:36.218Z"
   }
  ],
  "kernelspec": {
   "display_name": "Python 3 (ipykernel)",
   "language": "python",
   "name": "python3"
  },
  "language_info": {
   "codemirror_mode": {
    "name": "ipython",
    "version": 3
   },
   "file_extension": ".py",
   "mimetype": "text/x-python",
   "name": "python",
   "nbconvert_exporter": "python",
   "pygments_lexer": "ipython3",
   "version": "3.9.5"
  },
  "toc": {
   "base_numbering": 1,
   "nav_menu": {},
   "number_sections": true,
   "sideBar": true,
   "skip_h1_title": true,
   "title_cell": "Table of Contents",
   "title_sidebar": "Contents",
   "toc_cell": false,
   "toc_position": {},
   "toc_section_display": true,
   "toc_window_display": false
  }
 },
 "nbformat": 4,
 "nbformat_minor": 2
}

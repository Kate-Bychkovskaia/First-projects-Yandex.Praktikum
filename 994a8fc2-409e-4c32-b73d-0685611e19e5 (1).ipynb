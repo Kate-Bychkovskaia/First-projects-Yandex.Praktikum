{
 "cells": [
  {
   "cell_type": "markdown",
   "id": "4f11de00",
   "metadata": {
    "deletable": false,
    "editable": false,
    "id": "4f11de00"
   },
   "source": [
    "# Исследование объявлений о продаже квартир\n",
    "\n",
    "В вашем распоряжении данные сервиса Яндекс.Недвижимость — архив объявлений о продаже квартир в Санкт-Петербурге и соседних населённых пунктов за несколько лет. Нужно научиться определять рыночную стоимость объектов недвижимости. Ваша задача — установить параметры. Это позволит построить автоматизированную систему: она отследит аномалии и мошенническую деятельность. \n",
    "\n",
    "По каждой квартире на продажу доступны два вида данных. Первые вписаны пользователем, вторые — получены автоматически на основе картографических данных. Например, расстояние до центра, аэропорта, ближайшего парка и водоёма. \n",
    "\n",
    "Цель исследования - найти интересные особенности и зависимости, которые существуют на рынке недвижимости.\n",
    "\n",
    "airports_nearest — расстояние до ближайшего аэропорта в метрах (м)\n",
    "balcony — число балконов\n",
    "ceiling_height — высота потолков (м)\n",
    "cityCenters_nearest — расстояние до центра города (м)\n",
    "days_exposition — сколько дней было размещено объявление (от публикации до снятия)\n",
    "first_day_exposition — дата публикации\n",
    "floor — этаж\n",
    "floors_total — всего этажей в доме\n",
    "is_apartment — апартаменты (булев тип)\n",
    "kitchen_area — площадь кухни в квадратных метрах (м²)\n",
    "last_price — цена на момент снятия с публикации\n",
    "living_area — жилая площадь в квадратных метрах (м²)\n",
    "locality_name — название населённого пункта\n",
    "open_plan — свободная планировка (булев тип)\n",
    "parks_around3000 — число парков в радиусе 3 км\n",
    "parks_nearest — расстояние до ближайшего парка (м)\n",
    "ponds_around3000 — число водоёмов в радиусе 3 км\n",
    "ponds_nearest — расстояние до ближайшего водоёма (м)\n",
    "rooms — число комнат\n",
    "studio — квартира-студия (булев тип)\n",
    "total_area — общая площадь квартиры в квадратных метрах (м²)\n",
    "total_images — число фотографий квартиры в объявлении"
   ]
  },
  {
   "cell_type": "markdown",
   "metadata": {},
   "source": [
    "### Откройте файл с данными и изучите общую информацию. "
   ]
  },
  {
   "cell_type": "code",
   "execution_count": 1,
   "metadata": {},
   "outputs": [
    {
     "data": {
      "text/html": [
       "<div>\n",
       "<style scoped>\n",
       "    .dataframe tbody tr th:only-of-type {\n",
       "        vertical-align: middle;\n",
       "    }\n",
       "\n",
       "    .dataframe tbody tr th {\n",
       "        vertical-align: top;\n",
       "    }\n",
       "\n",
       "    .dataframe thead th {\n",
       "        text-align: right;\n",
       "    }\n",
       "</style>\n",
       "<table border=\"1\" class=\"dataframe\">\n",
       "  <thead>\n",
       "    <tr style=\"text-align: right;\">\n",
       "      <th></th>\n",
       "      <th>total_images</th>\n",
       "      <th>last_price</th>\n",
       "      <th>total_area</th>\n",
       "      <th>first_day_exposition</th>\n",
       "      <th>rooms</th>\n",
       "      <th>ceiling_height</th>\n",
       "      <th>floors_total</th>\n",
       "      <th>living_area</th>\n",
       "      <th>floor</th>\n",
       "      <th>is_apartment</th>\n",
       "      <th>...</th>\n",
       "      <th>kitchen_area</th>\n",
       "      <th>balcony</th>\n",
       "      <th>locality_name</th>\n",
       "      <th>airports_nearest</th>\n",
       "      <th>cityCenters_nearest</th>\n",
       "      <th>parks_around3000</th>\n",
       "      <th>parks_nearest</th>\n",
       "      <th>ponds_around3000</th>\n",
       "      <th>ponds_nearest</th>\n",
       "      <th>days_exposition</th>\n",
       "    </tr>\n",
       "  </thead>\n",
       "  <tbody>\n",
       "    <tr>\n",
       "      <th>0</th>\n",
       "      <td>20</td>\n",
       "      <td>13000000.0</td>\n",
       "      <td>108.00</td>\n",
       "      <td>2019-03-07T00:00:00</td>\n",
       "      <td>3</td>\n",
       "      <td>2.70</td>\n",
       "      <td>16.0</td>\n",
       "      <td>51.0</td>\n",
       "      <td>8</td>\n",
       "      <td>NaN</td>\n",
       "      <td>...</td>\n",
       "      <td>25.00</td>\n",
       "      <td>NaN</td>\n",
       "      <td>Санкт-Петербург</td>\n",
       "      <td>18863.0</td>\n",
       "      <td>16028.0</td>\n",
       "      <td>1.0</td>\n",
       "      <td>482.0</td>\n",
       "      <td>2.0</td>\n",
       "      <td>755.0</td>\n",
       "      <td>NaN</td>\n",
       "    </tr>\n",
       "    <tr>\n",
       "      <th>1</th>\n",
       "      <td>7</td>\n",
       "      <td>3350000.0</td>\n",
       "      <td>40.40</td>\n",
       "      <td>2018-12-04T00:00:00</td>\n",
       "      <td>1</td>\n",
       "      <td>NaN</td>\n",
       "      <td>11.0</td>\n",
       "      <td>18.6</td>\n",
       "      <td>1</td>\n",
       "      <td>NaN</td>\n",
       "      <td>...</td>\n",
       "      <td>11.00</td>\n",
       "      <td>2.0</td>\n",
       "      <td>посёлок Шушары</td>\n",
       "      <td>12817.0</td>\n",
       "      <td>18603.0</td>\n",
       "      <td>0.0</td>\n",
       "      <td>NaN</td>\n",
       "      <td>0.0</td>\n",
       "      <td>NaN</td>\n",
       "      <td>81.0</td>\n",
       "    </tr>\n",
       "    <tr>\n",
       "      <th>2</th>\n",
       "      <td>10</td>\n",
       "      <td>5196000.0</td>\n",
       "      <td>56.00</td>\n",
       "      <td>2015-08-20T00:00:00</td>\n",
       "      <td>2</td>\n",
       "      <td>NaN</td>\n",
       "      <td>5.0</td>\n",
       "      <td>34.3</td>\n",
       "      <td>4</td>\n",
       "      <td>NaN</td>\n",
       "      <td>...</td>\n",
       "      <td>8.30</td>\n",
       "      <td>0.0</td>\n",
       "      <td>Санкт-Петербург</td>\n",
       "      <td>21741.0</td>\n",
       "      <td>13933.0</td>\n",
       "      <td>1.0</td>\n",
       "      <td>90.0</td>\n",
       "      <td>2.0</td>\n",
       "      <td>574.0</td>\n",
       "      <td>558.0</td>\n",
       "    </tr>\n",
       "    <tr>\n",
       "      <th>3</th>\n",
       "      <td>0</td>\n",
       "      <td>64900000.0</td>\n",
       "      <td>159.00</td>\n",
       "      <td>2015-07-24T00:00:00</td>\n",
       "      <td>3</td>\n",
       "      <td>NaN</td>\n",
       "      <td>14.0</td>\n",
       "      <td>NaN</td>\n",
       "      <td>9</td>\n",
       "      <td>NaN</td>\n",
       "      <td>...</td>\n",
       "      <td>NaN</td>\n",
       "      <td>0.0</td>\n",
       "      <td>Санкт-Петербург</td>\n",
       "      <td>28098.0</td>\n",
       "      <td>6800.0</td>\n",
       "      <td>2.0</td>\n",
       "      <td>84.0</td>\n",
       "      <td>3.0</td>\n",
       "      <td>234.0</td>\n",
       "      <td>424.0</td>\n",
       "    </tr>\n",
       "    <tr>\n",
       "      <th>4</th>\n",
       "      <td>2</td>\n",
       "      <td>10000000.0</td>\n",
       "      <td>100.00</td>\n",
       "      <td>2018-06-19T00:00:00</td>\n",
       "      <td>2</td>\n",
       "      <td>3.03</td>\n",
       "      <td>14.0</td>\n",
       "      <td>32.0</td>\n",
       "      <td>13</td>\n",
       "      <td>NaN</td>\n",
       "      <td>...</td>\n",
       "      <td>41.00</td>\n",
       "      <td>NaN</td>\n",
       "      <td>Санкт-Петербург</td>\n",
       "      <td>31856.0</td>\n",
       "      <td>8098.0</td>\n",
       "      <td>2.0</td>\n",
       "      <td>112.0</td>\n",
       "      <td>1.0</td>\n",
       "      <td>48.0</td>\n",
       "      <td>121.0</td>\n",
       "    </tr>\n",
       "    <tr>\n",
       "      <th>...</th>\n",
       "      <td>...</td>\n",
       "      <td>...</td>\n",
       "      <td>...</td>\n",
       "      <td>...</td>\n",
       "      <td>...</td>\n",
       "      <td>...</td>\n",
       "      <td>...</td>\n",
       "      <td>...</td>\n",
       "      <td>...</td>\n",
       "      <td>...</td>\n",
       "      <td>...</td>\n",
       "      <td>...</td>\n",
       "      <td>...</td>\n",
       "      <td>...</td>\n",
       "      <td>...</td>\n",
       "      <td>...</td>\n",
       "      <td>...</td>\n",
       "      <td>...</td>\n",
       "      <td>...</td>\n",
       "      <td>...</td>\n",
       "      <td>...</td>\n",
       "    </tr>\n",
       "    <tr>\n",
       "      <th>23694</th>\n",
       "      <td>9</td>\n",
       "      <td>9700000.0</td>\n",
       "      <td>133.81</td>\n",
       "      <td>2017-03-21T00:00:00</td>\n",
       "      <td>3</td>\n",
       "      <td>3.70</td>\n",
       "      <td>5.0</td>\n",
       "      <td>73.3</td>\n",
       "      <td>3</td>\n",
       "      <td>NaN</td>\n",
       "      <td>...</td>\n",
       "      <td>13.83</td>\n",
       "      <td>NaN</td>\n",
       "      <td>Санкт-Петербург</td>\n",
       "      <td>24665.0</td>\n",
       "      <td>4232.0</td>\n",
       "      <td>1.0</td>\n",
       "      <td>796.0</td>\n",
       "      <td>3.0</td>\n",
       "      <td>381.0</td>\n",
       "      <td>NaN</td>\n",
       "    </tr>\n",
       "    <tr>\n",
       "      <th>23695</th>\n",
       "      <td>14</td>\n",
       "      <td>3100000.0</td>\n",
       "      <td>59.00</td>\n",
       "      <td>2018-01-15T00:00:00</td>\n",
       "      <td>3</td>\n",
       "      <td>NaN</td>\n",
       "      <td>5.0</td>\n",
       "      <td>38.0</td>\n",
       "      <td>4</td>\n",
       "      <td>NaN</td>\n",
       "      <td>...</td>\n",
       "      <td>8.50</td>\n",
       "      <td>NaN</td>\n",
       "      <td>Тосно</td>\n",
       "      <td>NaN</td>\n",
       "      <td>NaN</td>\n",
       "      <td>NaN</td>\n",
       "      <td>NaN</td>\n",
       "      <td>NaN</td>\n",
       "      <td>NaN</td>\n",
       "      <td>45.0</td>\n",
       "    </tr>\n",
       "    <tr>\n",
       "      <th>23696</th>\n",
       "      <td>18</td>\n",
       "      <td>2500000.0</td>\n",
       "      <td>56.70</td>\n",
       "      <td>2018-02-11T00:00:00</td>\n",
       "      <td>2</td>\n",
       "      <td>NaN</td>\n",
       "      <td>3.0</td>\n",
       "      <td>29.7</td>\n",
       "      <td>1</td>\n",
       "      <td>NaN</td>\n",
       "      <td>...</td>\n",
       "      <td>NaN</td>\n",
       "      <td>NaN</td>\n",
       "      <td>село Рождествено</td>\n",
       "      <td>NaN</td>\n",
       "      <td>NaN</td>\n",
       "      <td>NaN</td>\n",
       "      <td>NaN</td>\n",
       "      <td>NaN</td>\n",
       "      <td>NaN</td>\n",
       "      <td>NaN</td>\n",
       "    </tr>\n",
       "    <tr>\n",
       "      <th>23697</th>\n",
       "      <td>13</td>\n",
       "      <td>11475000.0</td>\n",
       "      <td>76.75</td>\n",
       "      <td>2017-03-28T00:00:00</td>\n",
       "      <td>2</td>\n",
       "      <td>3.00</td>\n",
       "      <td>17.0</td>\n",
       "      <td>NaN</td>\n",
       "      <td>12</td>\n",
       "      <td>NaN</td>\n",
       "      <td>...</td>\n",
       "      <td>23.30</td>\n",
       "      <td>2.0</td>\n",
       "      <td>Санкт-Петербург</td>\n",
       "      <td>39140.0</td>\n",
       "      <td>10364.0</td>\n",
       "      <td>2.0</td>\n",
       "      <td>173.0</td>\n",
       "      <td>3.0</td>\n",
       "      <td>196.0</td>\n",
       "      <td>602.0</td>\n",
       "    </tr>\n",
       "    <tr>\n",
       "      <th>23698</th>\n",
       "      <td>4</td>\n",
       "      <td>1350000.0</td>\n",
       "      <td>32.30</td>\n",
       "      <td>2017-07-21T00:00:00</td>\n",
       "      <td>1</td>\n",
       "      <td>2.50</td>\n",
       "      <td>5.0</td>\n",
       "      <td>12.3</td>\n",
       "      <td>1</td>\n",
       "      <td>NaN</td>\n",
       "      <td>...</td>\n",
       "      <td>9.00</td>\n",
       "      <td>NaN</td>\n",
       "      <td>поселок Новый Учхоз</td>\n",
       "      <td>NaN</td>\n",
       "      <td>NaN</td>\n",
       "      <td>NaN</td>\n",
       "      <td>NaN</td>\n",
       "      <td>NaN</td>\n",
       "      <td>NaN</td>\n",
       "      <td>NaN</td>\n",
       "    </tr>\n",
       "  </tbody>\n",
       "</table>\n",
       "<p>23699 rows × 22 columns</p>\n",
       "</div>"
      ],
      "text/plain": [
       "       total_images  last_price  total_area first_day_exposition  rooms  \\\n",
       "0                20  13000000.0      108.00  2019-03-07T00:00:00      3   \n",
       "1                 7   3350000.0       40.40  2018-12-04T00:00:00      1   \n",
       "2                10   5196000.0       56.00  2015-08-20T00:00:00      2   \n",
       "3                 0  64900000.0      159.00  2015-07-24T00:00:00      3   \n",
       "4                 2  10000000.0      100.00  2018-06-19T00:00:00      2   \n",
       "...             ...         ...         ...                  ...    ...   \n",
       "23694             9   9700000.0      133.81  2017-03-21T00:00:00      3   \n",
       "23695            14   3100000.0       59.00  2018-01-15T00:00:00      3   \n",
       "23696            18   2500000.0       56.70  2018-02-11T00:00:00      2   \n",
       "23697            13  11475000.0       76.75  2017-03-28T00:00:00      2   \n",
       "23698             4   1350000.0       32.30  2017-07-21T00:00:00      1   \n",
       "\n",
       "       ceiling_height  floors_total  living_area  floor is_apartment  ...  \\\n",
       "0                2.70          16.0         51.0      8          NaN  ...   \n",
       "1                 NaN          11.0         18.6      1          NaN  ...   \n",
       "2                 NaN           5.0         34.3      4          NaN  ...   \n",
       "3                 NaN          14.0          NaN      9          NaN  ...   \n",
       "4                3.03          14.0         32.0     13          NaN  ...   \n",
       "...               ...           ...          ...    ...          ...  ...   \n",
       "23694            3.70           5.0         73.3      3          NaN  ...   \n",
       "23695             NaN           5.0         38.0      4          NaN  ...   \n",
       "23696             NaN           3.0         29.7      1          NaN  ...   \n",
       "23697            3.00          17.0          NaN     12          NaN  ...   \n",
       "23698            2.50           5.0         12.3      1          NaN  ...   \n",
       "\n",
       "       kitchen_area  balcony        locality_name  airports_nearest  \\\n",
       "0             25.00      NaN      Санкт-Петербург           18863.0   \n",
       "1             11.00      2.0       посёлок Шушары           12817.0   \n",
       "2              8.30      0.0      Санкт-Петербург           21741.0   \n",
       "3               NaN      0.0      Санкт-Петербург           28098.0   \n",
       "4             41.00      NaN      Санкт-Петербург           31856.0   \n",
       "...             ...      ...                  ...               ...   \n",
       "23694         13.83      NaN      Санкт-Петербург           24665.0   \n",
       "23695          8.50      NaN                Тосно               NaN   \n",
       "23696           NaN      NaN     село Рождествено               NaN   \n",
       "23697         23.30      2.0      Санкт-Петербург           39140.0   \n",
       "23698          9.00      NaN  поселок Новый Учхоз               NaN   \n",
       "\n",
       "      cityCenters_nearest  parks_around3000  parks_nearest  ponds_around3000  \\\n",
       "0                 16028.0               1.0          482.0               2.0   \n",
       "1                 18603.0               0.0            NaN               0.0   \n",
       "2                 13933.0               1.0           90.0               2.0   \n",
       "3                  6800.0               2.0           84.0               3.0   \n",
       "4                  8098.0               2.0          112.0               1.0   \n",
       "...                   ...               ...            ...               ...   \n",
       "23694              4232.0               1.0          796.0               3.0   \n",
       "23695                 NaN               NaN            NaN               NaN   \n",
       "23696                 NaN               NaN            NaN               NaN   \n",
       "23697             10364.0               2.0          173.0               3.0   \n",
       "23698                 NaN               NaN            NaN               NaN   \n",
       "\n",
       "       ponds_nearest  days_exposition  \n",
       "0              755.0              NaN  \n",
       "1                NaN             81.0  \n",
       "2              574.0            558.0  \n",
       "3              234.0            424.0  \n",
       "4               48.0            121.0  \n",
       "...              ...              ...  \n",
       "23694          381.0              NaN  \n",
       "23695            NaN             45.0  \n",
       "23696            NaN              NaN  \n",
       "23697          196.0            602.0  \n",
       "23698            NaN              NaN  \n",
       "\n",
       "[23699 rows x 22 columns]"
      ]
     },
     "metadata": {},
     "output_type": "display_data"
    },
    {
     "data": {
      "image/png": "[encoded data removed]",
      "text/plain": [
       "<Figure size 1080x1440 with 20 Axes>"
      ]
     },
     "metadata": {
      "needs_background": "light"
     },
     "output_type": "display_data"
    }
   ],
   "source": [
    "import pandas as pd\n",
    "data = pd.read_csv('/datasets/real_estate_data.csv', sep = '\\t')\n",
    "display(data)\n",
    "data.hist(figsize=(15, 20));"
   ]
  },
  {
   "cell_type": "markdown",
   "metadata": {},
   "source": [
    "Вывод: есть пропущенные значения, по гистограммам видно, что есть аномальные значение ближе к 0 (в данных по этажам, площади,днях показа объявлений,ценой)"
   ]
  },
  {
   "cell_type": "markdown",
   "metadata": {},
   "source": [
    "### Предобработка данных\n",
    "ЭТАП №1. Найти и изучить пропущенные значения в столбцах. Оценим объем пропусков:"
   ]
  },
  {
   "cell_type": "code",
   "execution_count": 2,
   "metadata": {},
   "outputs": [
    {
     "name": "stdout",
     "output_type": "stream",
     "text": [
      "<class 'pandas.core.frame.DataFrame'>\n",
      "RangeIndex: 23699 entries, 0 to 23698\n",
      "Data columns (total 22 columns):\n",
      " #   Column                Non-Null Count  Dtype  \n",
      "---  ------                --------------  -----  \n",
      " 0   total_images          23699 non-null  int64  \n",
      " 1   last_price            23699 non-null  float64\n",
      " 2   total_area            23699 non-null  float64\n",
      " 3   first_day_exposition  23699 non-null  object \n",
      " 4   rooms                 23699 non-null  int64  \n",
      " 5   ceiling_height        14504 non-null  float64\n",
      " 6   floors_total          23613 non-null  float64\n",
      " 7   living_area           21796 non-null  float64\n",
      " 8   floor                 23699 non-null  int64  \n",
      " 9   is_apartment          2775 non-null   object \n",
      " 10  studio                23699 non-null  bool   \n",
      " 11  open_plan             23699 non-null  bool   \n",
      " 12  kitchen_area          21421 non-null  float64\n",
      " 13  balcony               12180 non-null  float64\n",
      " 14  locality_name         23650 non-null  object \n",
      " 15  airports_nearest      18157 non-null  float64\n",
      " 16  cityCenters_nearest   18180 non-null  float64\n",
      " 17  parks_around3000      18181 non-null  float64\n",
      " 18  parks_nearest         8079 non-null   float64\n",
      " 19  ponds_around3000      18181 non-null  float64\n",
      " 20  ponds_nearest         9110 non-null   float64\n",
      " 21  days_exposition       20518 non-null  float64\n",
      "dtypes: bool(2), float64(14), int64(3), object(3)\n",
      "memory usage: 3.7+ MB\n",
      "total_images                0\n",
      "last_price                  0\n",
      "total_area                  0\n",
      "first_day_exposition        0\n",
      "rooms                       0\n",
      "ceiling_height           9195\n",
      "floors_total               86\n",
      "living_area              1903\n",
      "floor                       0\n",
      "is_apartment            20924\n",
      "studio                      0\n",
      "open_plan                   0\n",
      "kitchen_area             2278\n",
      "balcony                 11519\n",
      "locality_name              49\n",
      "airports_nearest         5542\n",
      "cityCenters_nearest      5519\n",
      "parks_around3000         5518\n",
      "parks_nearest           15620\n",
      "ponds_around3000         5518\n",
      "ponds_nearest           14589\n",
      "days_exposition          3181\n",
      "dtype: int64\n"
     ]
    }
   ],
   "source": [
    "data.info()\n",
    "print(data.isna().sum())"
   ]
  },
  {
   "cell_type": "markdown",
   "metadata": {},
   "source": [
    "Пропуски встречаются в 14 столбцах. Все данные могут влиять на стоимость и на число дней экспозиции объявления. Для каждого столбца будет свой порядок замены.\n",
    "\n",
    "1.Заменить Nan на unknown в:\n",
    "\n",
    "locality_name\n",
    "\n",
    "2.Замена Nan медианным значением в столбцах:\n",
    "\n",
    "ceiling_height\n",
    "floors_total\n",
    "kitchen_area\n",
    "living_area\n",
    "\n",
    "3.Замена на 0 в следующих столбцах, так как если не указали балкон, то скорее всего его нет:\n",
    "\n",
    "balcony \n",
    "\n",
    "4.Замена на 'unknown' в столбце апартаменты это или нет, так как больше 20 000 объявлений пропустили этот пункт\n",
    "\n",
    "is_apartment         \n",
    "\n",
    "5.Привести даты к значениям читаемых дат first_day_exposition, отсчитать сколько дней прошло до сегодняшнего момента (вписать вместо в nan получившиеся значения), посчитать медианное и оценить, что с ними делать:\n",
    "\n",
    "days_exposition"
   ]
  },
  {
   "cell_type": "markdown",
   "metadata": {},
   "source": [
    "2.1.1 Замена неизвестных названий населенного пункта на 'unknown' "
   ]
  },
  {
   "cell_type": "code",
   "execution_count": 3,
   "metadata": {},
   "outputs": [
    {
     "name": "stdout",
     "output_type": "stream",
     "text": [
      "0\n",
      "['Санкт-Петербург' 'посёлок Шушары' 'городской посёлок Янино-1'\n",
      " 'посёлок Парголово' 'посёлок Мурино' 'Ломоносов' 'Сертолово' 'Петергоф'\n",
      " 'Пушкин' 'деревня Кудрово' 'Коммунар' 'Колпино'\n",
      " 'поселок городского типа Красный Бор' 'Гатчина' 'поселок Мурино'\n",
      " 'деревня Фёдоровское' 'Выборг' 'Кронштадт' 'Кировск'\n",
      " 'деревня Новое Девяткино' 'посёлок Металлострой'\n",
      " 'посёлок городского типа Лебяжье' 'посёлок городского типа Сиверский'\n",
      " 'поселок Молодцово' 'поселок городского типа Кузьмоловский'\n",
      " 'садовое товарищество Новая Ропша' 'Павловск' 'деревня Пикколово'\n",
      " 'Всеволожск' 'Волхов' 'Кингисепп' 'Приозерск' 'Сестрорецк'\n",
      " 'деревня Куттузи' 'посёлок Аннино' 'поселок городского типа Ефимовский'\n",
      " 'посёлок Плодовое' 'деревня Заклинье' 'поселок Торковичи'\n",
      " 'поселок Первомайское' 'Красное Село' 'посёлок Понтонный' 'Сясьстрой'\n",
      " 'деревня Старая' 'деревня Лесколово' 'посёлок Новый Свет' 'Сланцы'\n",
      " 'село Путилово' 'Ивангород' 'Мурино' 'Шлиссельбург' 'Никольское'\n",
      " 'Зеленогорск' 'Сосновый Бор' 'поселок Новый Свет' 'деревня Оржицы'\n",
      " 'деревня Кальтино' 'Кудрово' 'поселок Романовка' 'посёлок Бугры'\n",
      " 'поселок Бугры' 'поселок городского типа Рощино' 'Кириши' 'Луга'\n",
      " 'Волосово' 'Отрадное' 'село Павлово' 'поселок Оредеж' 'село Копорье'\n",
      " 'посёлок городского типа Красный Бор' 'посёлок Молодёжное' 'Тихвин'\n",
      " 'посёлок Победа' 'деревня Нурма' 'поселок городского типа Синявино'\n",
      " 'Тосно' 'посёлок городского типа Кузьмоловский' 'посёлок Стрельна'\n",
      " 'Бокситогорск' 'посёлок Александровская' 'деревня Лопухинка' 'Пикалёво'\n",
      " 'поселок Терволово' 'поселок городского типа Советский' 'Подпорожье'\n",
      " 'посёлок Петровское' 'посёлок городского типа Токсово' 'поселок Сельцо'\n",
      " 'посёлок городского типа Вырица' 'деревня Кипень' 'деревня Келози'\n",
      " 'деревня Вартемяги' 'посёлок Тельмана' 'поселок Севастьяново'\n",
      " 'городской поселок Большая Ижора' 'unknown' 'городской посёлок Павлово'\n",
      " 'деревня Агалатово' 'посёлок Новогорелово'\n",
      " 'городской посёлок Лесогорский' 'деревня Лаголово' 'поселок Цвелодубово'\n",
      " 'поселок городского типа Рахья' 'поселок городского типа Вырица'\n",
      " 'деревня Белогорка' 'поселок Заводской' 'городской посёлок Новоселье'\n",
      " 'деревня Большие Колпаны' 'деревня Горбунки' 'деревня Батово'\n",
      " 'деревня Заневка' 'деревня Иссад' 'Приморск'\n",
      " 'городской посёлок Фёдоровское' 'деревня Мистолово' 'Новая Ладога'\n",
      " 'поселок Зимитицы' 'поселок Барышево' 'деревня Разметелево'\n",
      " 'поселок городского типа имени Свердлова' 'деревня Пеники'\n",
      " 'поселок Рябово' 'деревня Пудомяги' 'поселок станции Корнево'\n",
      " 'деревня Низино' 'деревня Бегуницы' 'посёлок Поляны'\n",
      " 'городской посёлок Мга' 'поселок Елизаветино'\n",
      " 'посёлок городского типа Кузнечное' 'деревня Колтуши'\n",
      " 'поселок Запорожское' 'посёлок городского типа Рощино'\n",
      " 'деревня Гостилицы' 'деревня Малое Карлино' 'посёлок Мичуринское'\n",
      " 'посёлок городского типа имени Морозова' 'посёлок Песочный'\n",
      " 'посёлок Сосново' 'деревня Аро' 'поселок Ильичёво'\n",
      " 'посёлок городского типа Тайцы' 'деревня Малое Верево' 'деревня Извара'\n",
      " 'поселок станции Вещево' 'село Паша' 'деревня Калитино'\n",
      " 'посёлок городского типа Ульяновка' 'деревня Чудской Бор'\n",
      " 'поселок городского типа Дубровка' 'деревня Мины' 'поселок Войсковицы'\n",
      " 'посёлок городского типа имени Свердлова' 'деревня Коркино'\n",
      " 'посёлок Ропша' 'поселок городского типа Приладожский' 'посёлок Щеглово'\n",
      " 'посёлок Гаврилово' 'Лодейное Поле' 'деревня Рабитицы'\n",
      " 'поселок городского типа Никольский' 'деревня Кузьмолово'\n",
      " 'деревня Малые Колпаны' 'поселок Тельмана' 'посёлок Петро-Славянка'\n",
      " 'городской посёлок Назия' 'посёлок Репино' 'посёлок Ильичёво'\n",
      " 'поселок Углово' 'поселок Старая Малукса' 'садовое товарищество Рахья'\n",
      " 'поселок Аннино' 'поселок Победа' 'деревня Меньково'\n",
      " 'деревня Старые Бегуницы' 'посёлок Сапёрный' 'поселок Семрино'\n",
      " 'поселок Гаврилово' 'поселок Глажево' 'поселок Кобринское'\n",
      " 'деревня Гарболово' 'деревня Юкки' 'поселок станции Приветнинское'\n",
      " 'деревня Мануйлово' 'деревня Пчева' 'поселок Поляны' 'поселок Цвылёво'\n",
      " 'поселок Мельниково' 'посёлок Пудость' 'посёлок Усть-Луга' 'Светогорск'\n",
      " 'Любань' 'поселок Селезнёво' 'поселок городского типа Рябово'\n",
      " 'Каменногорск' 'деревня Кривко' 'поселок Глебычево' 'деревня Парицы'\n",
      " 'поселок Жилпосёлок' 'посёлок городского типа Мга'\n",
      " 'городской поселок Янино-1' 'посёлок Войскорово' 'село Никольское'\n",
      " 'посёлок Терволово' 'поселок Стеклянный' 'посёлок городского типа Важины'\n",
      " 'посёлок Мыза-Ивановка' 'село Русско-Высоцкое'\n",
      " 'поселок городского типа Лебяжье' 'поселок городского типа Форносово'\n",
      " 'село Старая Ладога' 'поселок Житково' 'городской посёлок Виллози'\n",
      " 'деревня Лампово' 'деревня Шпаньково' 'деревня Лаврики' 'посёлок Сумино'\n",
      " 'посёлок Возрождение' 'деревня Старосиверская' 'посёлок Кикерино'\n",
      " 'поселок Возрождение' 'деревня Старое Хинколово' 'посёлок Пригородный'\n",
      " 'посёлок Торфяное' 'городской посёлок Будогощь' 'поселок Суходолье'\n",
      " 'поселок Красная Долина' 'деревня Хапо-Ое'\n",
      " 'поселок городского типа Дружная Горка' 'поселок Лисий Нос'\n",
      " 'деревня Яльгелево' 'посёлок Стеклянный' 'село Рождествено'\n",
      " 'деревня Старополье' 'посёлок Левашово' 'деревня Сяськелево'\n",
      " 'деревня Камышовка'\n",
      " 'садоводческое некоммерческое товарищество Лесная Поляна'\n",
      " 'деревня Хязельки' 'поселок Жилгородок' 'посёлок городского типа Павлово'\n",
      " 'деревня Ялгино' 'поселок Новый Учхоз' 'городской посёлок Рощино'\n",
      " 'поселок Гончарово' 'поселок Почап' 'посёлок Сапёрное'\n",
      " 'посёлок Платформа 69-й километр' 'поселок Каложицы' 'деревня Фалилеево'\n",
      " 'деревня Пельгора' 'поселок городского типа Лесогорский'\n",
      " 'деревня Торошковичи' 'посёлок Белоостров' 'посёлок Алексеевка'\n",
      " 'поселок Серебрянский' 'поселок Лукаши' 'поселок Петровское'\n",
      " 'деревня Щеглово' 'поселок Мичуринское' 'деревня Тарасово'\n",
      " 'поселок Кингисеппский' 'посёлок при железнодорожной станции Вещево'\n",
      " 'поселок Ушаки' 'деревня Котлы' 'деревня Сижно' 'деревня Торосово'\n",
      " 'посёлок Форт Красная Горка' 'поселок городского типа Токсово'\n",
      " 'деревня Новолисино' 'посёлок станции Громово' 'деревня Глинка'\n",
      " 'посёлок Мельниково' 'поселок городского типа Назия'\n",
      " 'деревня Старая Пустошь' 'поселок Коммунары' 'поселок Починок'\n",
      " 'посёлок городского типа Вознесенье' 'деревня Разбегаево'\n",
      " 'посёлок городского типа Рябово' 'поселок Гладкое'\n",
      " 'посёлок при железнодорожной станции Приветнинское' 'поселок Тёсово-4'\n",
      " 'посёлок Жилгородок' 'деревня Бор' 'посёлок Коробицыно'\n",
      " 'деревня Большая Вруда' 'деревня Курковицы' 'посёлок Лисий Нос'\n",
      " 'городской посёлок Советский' 'посёлок Кобралово' 'деревня Суоранда'\n",
      " 'поселок Кобралово' 'поселок городского типа Кондратьево'\n",
      " 'коттеджный поселок Счастье' 'поселок Любань' 'деревня Реброво'\n",
      " 'деревня Зимитицы' 'деревня Тойворово' 'поселок Семиозерье'\n",
      " 'поселок Лесное' 'поселок Совхозный' 'поселок Усть-Луга'\n",
      " 'посёлок Ленинское' 'посёлок Суйда' 'посёлок городского типа Форносово'\n",
      " 'деревня Нижние Осельки' 'посёлок станции Свирь' 'поселок Перово'\n",
      " 'Высоцк' 'поселок Гарболово' 'село Шум' 'поселок Котельский'\n",
      " 'поселок станции Лужайка' 'деревня Большая Пустомержа'\n",
      " 'поселок Красносельское' 'деревня Вахнова Кара' 'деревня Пижма'\n",
      " 'коттеджный поселок Кивеннапа Север' 'поселок Коробицыно'\n",
      " 'поселок Ромашки' 'посёлок Перово' 'деревня Каськово' 'деревня Куровицы'\n",
      " 'посёлок Плоское' 'поселок Сумино'\n",
      " 'поселок городского типа Большая Ижора' 'поселок Кирпичное'\n",
      " 'деревня Ям-Тесово' 'деревня Раздолье' 'деревня Терпилицы'\n",
      " 'посёлок Шугозеро' 'деревня Ваганово' 'поселок Пушное'\n",
      " 'садовое товарищество Садко' 'посёлок Усть-Ижора' 'деревня Выскатка'\n",
      " 'городской посёлок Свирьстрой' 'поселок Громово' 'деревня Кисельня'\n",
      " 'посёлок Старая Малукса' 'деревня Трубников Бор' 'поселок Калитино'\n",
      " 'посёлок Высокоключевой' 'садовое товарищество Приладожский'\n",
      " 'посёлок Пансионат Зелёный Бор' 'деревня Ненимяки'\n",
      " 'поселок Пансионат Зелёный Бор' 'деревня Снегирёвка' 'деревня Рапполово'\n",
      " 'деревня Пустынка' 'поселок Рабитицы' 'деревня Большой Сабск'\n",
      " 'деревня Русско' 'деревня Лупполово' 'деревня Большое Рейзино'\n",
      " 'деревня Малая Романовка' 'поселок Дружноселье' 'поселок Пчевжа'\n",
      " 'поселок Володарское' 'деревня Нижняя' 'коттеджный посёлок Лесное'\n",
      " 'деревня Тихковицы' 'деревня Борисова Грива' 'посёлок Дзержинского']\n"
     ]
    }
   ],
   "source": [
    "data['locality_name'] = data['locality_name'].fillna('unknown')\n",
    "#print(data.loc[data['locality_name'] == 'unknown'])\n",
    "\n",
    "#проверка\n",
    "print(data['locality_name'].isna().sum())\n",
    "print(data['locality_name'].unique())"
   ]
  },
  {
   "cell_type": "markdown",
   "metadata": {},
   "source": [
    "2.1.2 Замена медианными значениямивысоты потолков, жилой площади, площади кухни и количество этажей"
   ]
  },
  {
   "cell_type": "code",
   "execution_count": 4,
   "metadata": {},
   "outputs": [
    {
     "name": "stdout",
     "output_type": "stream",
     "text": [
      "total_images                0\n",
      "last_price                  0\n",
      "total_area                  0\n",
      "first_day_exposition        0\n",
      "rooms                       0\n",
      "ceiling_height              0\n",
      "floors_total               86\n",
      "living_area              1903\n",
      "floor                       0\n",
      "is_apartment            20924\n",
      "studio                      0\n",
      "open_plan                   0\n",
      "kitchen_area                0\n",
      "balcony                 11519\n",
      "locality_name               0\n",
      "airports_nearest         5542\n",
      "cityCenters_nearest      5519\n",
      "parks_around3000         5518\n",
      "parks_nearest           15620\n",
      "ponds_around3000         5518\n",
      "ponds_nearest           14589\n",
      "days_exposition          3181\n",
      "dtype: int64\n"
     ]
    }
   ],
   "source": [
    "data['ceiling_height'] = data['ceiling_height'].fillna(data['ceiling_height'].median())\n",
    "data['kitchen_area'] = data['kitchen_area'].fillna(data['kitchen_area'].median())\n",
    "\n",
    "#проверка\n",
    "\n",
    "print(data.isna().sum())"
   ]
  },
  {
   "cell_type": "markdown",
   "metadata": {},
   "source": [
    "Количество этажей в floors_total заменим на медианное по населенному пункту так как в Кудрово например - многоэтажные дома, а в Рождественно-в основном 1-2-3 этажные"
   ]
  },
  {
   "cell_type": "code",
   "execution_count": 5,
   "metadata": {},
   "outputs": [
    {
     "name": "stdout",
     "output_type": "stream",
     "text": [
      "total_images                0\n",
      "last_price                  0\n",
      "total_area                  0\n",
      "first_day_exposition        0\n",
      "rooms                       0\n",
      "ceiling_height              0\n",
      "floors_total                0\n",
      "living_area              1903\n",
      "floor                       0\n",
      "is_apartment            20924\n",
      "studio                      0\n",
      "open_plan                   0\n",
      "kitchen_area                0\n",
      "balcony                 11519\n",
      "locality_name               0\n",
      "airports_nearest         5542\n",
      "cityCenters_nearest      5519\n",
      "parks_around3000         5518\n",
      "parks_nearest           15620\n",
      "ponds_around3000         5518\n",
      "ponds_nearest           14589\n",
      "days_exposition          3181\n",
      "dtype: int64\n"
     ]
    }
   ],
   "source": [
    "for d in data['locality_name'].unique():\n",
    "    data.loc[(data['locality_name'] == d) & (data['floors_total'].isna()), 'floors_total'] = data.loc[(data['locality_name'] == d), 'floors_total'].median()\n",
    "#проверка\n",
    "\n",
    "print(data.isna().sum())"
   ]
  },
  {
   "cell_type": "markdown",
   "metadata": {},
   "source": [
    "2.1.3 Замена Nan на 0 по балконам, где их не указали, так как если не указали-их скорее всего нет"
   ]
  },
  {
   "cell_type": "code",
   "execution_count": 6,
   "metadata": {},
   "outputs": [
    {
     "name": "stdout",
     "output_type": "stream",
     "text": [
      "total_images                0\n",
      "last_price                  0\n",
      "total_area                  0\n",
      "first_day_exposition        0\n",
      "rooms                       0\n",
      "ceiling_height              0\n",
      "floors_total                0\n",
      "living_area              1903\n",
      "floor                       0\n",
      "is_apartment            20924\n",
      "studio                      0\n",
      "open_plan                   0\n",
      "kitchen_area                0\n",
      "balcony                     0\n",
      "locality_name               0\n",
      "airports_nearest         5542\n",
      "cityCenters_nearest      5519\n",
      "parks_around3000         5518\n",
      "parks_nearest           15620\n",
      "ponds_around3000         5518\n",
      "ponds_nearest           14589\n",
      "days_exposition          3181\n",
      "dtype: int64\n"
     ]
    }
   ],
   "source": [
    "data['balcony'] = data['balcony'] .fillna(0)\n",
    "\n",
    "#проверка\n",
    "\n",
    "print(data.isna().sum())"
   ]
  },
  {
   "cell_type": "markdown",
   "metadata": {},
   "source": [
    "2.1.4 Замена неизвестных данных апартаменты это или нет на 'unknown', пропущенных свыше 20 000 значений, скорее всего этот пункт просто пропускали при заполнении данных, но он не важен при анализе, так как квартира это или нет может быть понятно из числа этажей"
   ]
  },
  {
   "cell_type": "code",
   "execution_count": 7,
   "metadata": {},
   "outputs": [
    {
     "name": "stdout",
     "output_type": "stream",
     "text": [
      "total_images                0\n",
      "last_price                  0\n",
      "total_area                  0\n",
      "first_day_exposition        0\n",
      "rooms                       0\n",
      "ceiling_height              0\n",
      "floors_total                0\n",
      "living_area              1903\n",
      "floor                       0\n",
      "is_apartment                0\n",
      "studio                      0\n",
      "open_plan                   0\n",
      "kitchen_area                0\n",
      "balcony                     0\n",
      "locality_name               0\n",
      "airports_nearest         5542\n",
      "cityCenters_nearest      5519\n",
      "parks_around3000         5518\n",
      "parks_nearest           15620\n",
      "ponds_around3000         5518\n",
      "ponds_nearest           14589\n",
      "days_exposition          3181\n",
      "dtype: int64\n"
     ]
    }
   ],
   "source": [
    "data['is_apartment'] = data['is_apartment'] .fillna('False')\n",
    "\n",
    "#проверка\n",
    "\n",
    "print(data.isna().sum())"
   ]
  },
  {
   "cell_type": "markdown",
   "metadata": {},
   "source": [
    "2.1.5 Пропуски в числе дней публикации можно заменить на медианные значения, но так как известны все даты первой публикации можно рассчитать по формуле сегодняшний день - дата первой публикации.\n",
    "Но, я не знаю какой давности таблица, поэтому если возьму сегодняшний день, получатся слишком большой период. Предполагаю, что аналитики выгрузили свежие данные, поэтому вычислю дату последней публикации \"most_recent_date\" объявления и вычту из нее дату первой публикации \"first_day_exposition\". Этим значением заполню пропуски в столбце 'days_exposition'"
   ]
  },
  {
   "cell_type": "code",
   "execution_count": 8,
   "metadata": {},
   "outputs": [
    {
     "name": "stdout",
     "output_type": "stream",
     "text": [
      "0         57.0\n",
      "1         81.0\n",
      "2        558.0\n",
      "3        424.0\n",
      "4        121.0\n",
      "         ...  \n",
      "23694    773.0\n",
      "23695     45.0\n",
      "23696    446.0\n",
      "23697    602.0\n",
      "23698    651.0\n",
      "Name: days_exposition, Length: 23699, dtype: float64\n",
      "0\n"
     ]
    }
   ],
   "source": [
    "#уберем из даты минуты\n",
    "data['first_day_exposition'] = pd.to_datetime(data['first_day_exposition'], format='%Y-%m-%d')\n",
    "\n",
    "#вычислим дату последней публикации\n",
    "most_recent_date = pd.to_datetime(data['first_day_exposition'].max())\n",
    "data['days_exposition'] = data['days_exposition'].fillna((most_recent_date - data['first_day_exposition']).dt.round('D').dt.days)\n",
    "\n",
    "#проверка\n",
    "print(data['days_exposition'])\n",
    "print(data['days_exposition'].isna().sum())"
   ]
  },
  {
   "cell_type": "markdown",
   "metadata": {},
   "source": [
    "ЭТАП №2 Анализ типа данных"
   ]
  },
  {
   "cell_type": "code",
   "execution_count": 9,
   "metadata": {},
   "outputs": [
    {
     "name": "stdout",
     "output_type": "stream",
     "text": [
      "<class 'pandas.core.frame.DataFrame'>\n",
      "RangeIndex: 23699 entries, 0 to 23698\n",
      "Data columns (total 22 columns):\n",
      " #   Column                Non-Null Count  Dtype         \n",
      "---  ------                --------------  -----         \n",
      " 0   total_images          23699 non-null  int64         \n",
      " 1   last_price            23699 non-null  float64       \n",
      " 2   total_area            23699 non-null  float64       \n",
      " 3   first_day_exposition  23699 non-null  datetime64[ns]\n",
      " 4   rooms                 23699 non-null  int64         \n",
      " 5   ceiling_height        23699 non-null  float64       \n",
      " 6   floors_total          23699 non-null  float64       \n",
      " 7   living_area           21796 non-null  float64       \n",
      " 8   floor                 23699 non-null  int64         \n",
      " 9   is_apartment          23699 non-null  object        \n",
      " 10  studio                23699 non-null  bool          \n",
      " 11  open_plan             23699 non-null  bool          \n",
      " 12  kitchen_area          23699 non-null  float64       \n",
      " 13  balcony               23699 non-null  float64       \n",
      " 14  locality_name         23699 non-null  object        \n",
      " 15  airports_nearest      18157 non-null  float64       \n",
      " 16  cityCenters_nearest   18180 non-null  float64       \n",
      " 17  parks_around3000      18181 non-null  float64       \n",
      " 18  parks_nearest         8079 non-null   float64       \n",
      " 19  ponds_around3000      18181 non-null  float64       \n",
      " 20  ponds_nearest         9110 non-null   float64       \n",
      " 21  days_exposition       23699 non-null  float64       \n",
      "dtypes: bool(2), datetime64[ns](1), float64(14), int64(3), object(2)\n",
      "memory usage: 3.7+ MB\n"
     ]
    }
   ],
   "source": [
    "data.info()"
   ]
  },
  {
   "cell_type": "markdown",
   "metadata": {},
   "source": [
    "Встречаются все типы данных bool(2), datetime64(1), float64(13), int64(3), object(3). Чтобы корректно считать значения по столбцам необходимо поменять тип данных\n",
    "\n",
    "1.Данные вроде этажей не могут быть типом float, так как это фактическое число, поэтому следующие столбцы переведем в int:\n",
    "\n",
    "floors_total\n",
    "balcony \n",
    "parks_around3000\n",
    "ponds_around3000\n",
    "days_exposition\n",
    "\n",
    "2.Булевы значения переведем в 0 и 1 (int), так будет легче считать по столбцам:\n",
    "studio  \n",
    "open_plan \n",
    "\n",
    "3.Округление значений в столбцах parks_nearest и ponds_nearest, так как там указаны данные с 6 нулями после точки "
   ]
  },
  {
   "cell_type": "markdown",
   "metadata": {},
   "source": [
    "2.2.1 Перевод типа данных из float в int в 4 столбцах"
   ]
  },
  {
   "cell_type": "code",
   "execution_count": 10,
   "metadata": {},
   "outputs": [
    {
     "name": "stdout",
     "output_type": "stream",
     "text": [
      "0         57\n",
      "1         81\n",
      "2        558\n",
      "3        424\n",
      "4        121\n",
      "        ... \n",
      "23694    773\n",
      "23695     45\n",
      "23696    446\n",
      "23697    602\n",
      "23698    651\n",
      "Name: days_exposition, Length: 23699, dtype: int64\n"
     ]
    },
    {
     "data": {
      "text/plain": [
       "0        13000000\n",
       "1         3350000\n",
       "2         5196000\n",
       "3        64900000\n",
       "4        10000000\n",
       "           ...   \n",
       "23694     9700000\n",
       "23695     3100000\n",
       "23696     2500000\n",
       "23697    11475000\n",
       "23698     1350000\n",
       "Name: last_price, Length: 23699, dtype: int64"
      ]
     },
     "execution_count": 10,
     "metadata": {},
     "output_type": "execute_result"
    }
   ],
   "source": [
    "import numpy as np\n",
    "data['floors_total'] = np.floor(pd.to_numeric(data['floors_total'], errors='coerce')).astype('int')\n",
    "#print(data['floors_total'])\n",
    "\n",
    "data['balcony'] = np.floor(pd.to_numeric(data['balcony'], errors='coerce')).astype('int')\n",
    "#print(data['balcony'])\n",
    "\n",
    "data['days_exposition'] = np.floor(pd.to_numeric(data['days_exposition'], errors='coerce')).astype('int')\n",
    "print(data['days_exposition'])\n",
    "\n",
    "#изменим цену на тип int для удобства просмотра\n",
    "data['last_price'] = data['last_price'].astype('int')\n",
    "data['last_price']"
   ]
  },
  {
   "cell_type": "markdown",
   "metadata": {},
   "source": [
    "2.2.2 Перевод булевых значений"
   ]
  },
  {
   "cell_type": "code",
   "execution_count": 11,
   "metadata": {},
   "outputs": [
    {
     "name": "stdout",
     "output_type": "stream",
     "text": [
      "0        0\n",
      "1        0\n",
      "2        0\n",
      "3        0\n",
      "4        0\n",
      "        ..\n",
      "23694    0\n",
      "23695    0\n",
      "23696    0\n",
      "23697    0\n",
      "23698    0\n",
      "Name: open_plan, Length: 23699, dtype: int64\n"
     ]
    }
   ],
   "source": [
    "#сначала посчитаем перед применением функции сколько False и True в столбце до\n",
    "data['studio'].value_counts(sort=True).to_dict()\n",
    "#получилось False 23550, True 149\n",
    "\n",
    "#заменим false на 0, True на 1\n",
    "data['studio'].replace({False: 0, True: 1}, inplace=True)\n",
    "\n",
    "#переведем в тип данных int\n",
    "data['studio'] = data['studio'].astype(int)\n",
    "\n",
    "#проверка\n",
    "#print(data['studio'].sum())\n",
    "\n",
    "#сделаем то же самое со столбцом 'open_plan'\n",
    "data['open_plan'].value_counts(sort=True).to_dict()\n",
    "#получилось False 23632, True 67\n",
    "\n",
    "data['open_plan'].replace({False: 0, True: 1}, inplace=True)\n",
    "data['open_plan'] = data['open_plan'].astype(int)\n",
    "\n",
    "#проверка\n",
    "print(data['open_plan'])"
   ]
  },
  {
   "cell_type": "markdown",
   "metadata": {},
   "source": [
    "2.2.3 Округлим в 2х столбцах числа 482.000000 до 1 цифры после точки, как в столбцах по паркам и водоемам по близости. Расстояния до парков и водоемов оставим в метрах."
   ]
  },
  {
   "cell_type": "code",
   "execution_count": 12,
   "metadata": {},
   "outputs": [
    {
     "name": "stdout",
     "output_type": "stream",
     "text": [
      "0    482.0\n",
      "1      NaN\n",
      "2     90.0\n",
      "3     84.0\n",
      "4    112.0\n",
      "Name: parks_nearest, dtype: float64\n",
      "0    755.0\n",
      "1      NaN\n",
      "2    574.0\n",
      "3    234.0\n",
      "4     48.0\n",
      "Name: ponds_nearest, dtype: float64\n"
     ]
    }
   ],
   "source": [
    "#parks_nearest\n",
    "#ponds_nearest\n",
    "\n",
    "data['parks_nearest'] = np.around(data['parks_nearest'], decimals=0)\n",
    "data['ponds_nearest'] = np.around(data['ponds_nearest'], decimals=0)\n",
    "\n",
    "#проверка\n",
    "print(data['parks_nearest'].head())\n",
    "print(data['ponds_nearest'].head())"
   ]
  },
  {
   "cell_type": "markdown",
   "metadata": {},
   "source": [
    "Проверка как обработаны все данные:"
   ]
  },
  {
   "cell_type": "code",
   "execution_count": 13,
   "metadata": {},
   "outputs": [
    {
     "name": "stdout",
     "output_type": "stream",
     "text": [
      "<class 'pandas.core.frame.DataFrame'>\n",
      "RangeIndex: 23699 entries, 0 to 23698\n",
      "Data columns (total 22 columns):\n",
      " #   Column                Non-Null Count  Dtype         \n",
      "---  ------                --------------  -----         \n",
      " 0   total_images          23699 non-null  int64         \n",
      " 1   last_price            23699 non-null  int64         \n",
      " 2   total_area            23699 non-null  float64       \n",
      " 3   first_day_exposition  23699 non-null  datetime64[ns]\n",
      " 4   rooms                 23699 non-null  int64         \n",
      " 5   ceiling_height        23699 non-null  float64       \n",
      " 6   floors_total          23699 non-null  int64         \n",
      " 7   living_area           21796 non-null  float64       \n",
      " 8   floor                 23699 non-null  int64         \n",
      " 9   is_apartment          23699 non-null  object        \n",
      " 10  studio                23699 non-null  int64         \n",
      " 11  open_plan             23699 non-null  int64         \n",
      " 12  kitchen_area          23699 non-null  float64       \n",
      " 13  balcony               23699 non-null  int64         \n",
      " 14  locality_name         23699 non-null  object        \n",
      " 15  airports_nearest      18157 non-null  float64       \n",
      " 16  cityCenters_nearest   18180 non-null  float64       \n",
      " 17  parks_around3000      18181 non-null  float64       \n",
      " 18  parks_nearest         8079 non-null   float64       \n",
      " 19  ponds_around3000      18181 non-null  float64       \n",
      " 20  ponds_nearest         9110 non-null   float64       \n",
      " 21  days_exposition       23699 non-null  int64         \n",
      "dtypes: datetime64[ns](1), float64(10), int64(9), object(2)\n",
      "memory usage: 4.0+ MB\n",
      "None\n",
      "   total_images  last_price  total_area first_day_exposition  rooms  \\\n",
      "0            20    13000000       108.0           2019-03-07      3   \n",
      "1             7     3350000        40.4           2018-12-04      1   \n",
      "2            10     5196000        56.0           2015-08-20      2   \n",
      "3             0    64900000       159.0           2015-07-24      3   \n",
      "4             2    10000000       100.0           2018-06-19      2   \n",
      "\n",
      "   ceiling_height  floors_total  living_area  floor is_apartment  ...  \\\n",
      "0            2.70            16         51.0      8        False  ...   \n",
      "1            2.65            11         18.6      1        False  ...   \n",
      "2            2.65             5         34.3      4        False  ...   \n",
      "3            2.65            14          NaN      9        False  ...   \n",
      "4            3.03            14         32.0     13        False  ...   \n",
      "\n",
      "   kitchen_area  balcony    locality_name  airports_nearest  \\\n",
      "0          25.0        0  Санкт-Петербург           18863.0   \n",
      "1          11.0        2   посёлок Шушары           12817.0   \n",
      "2           8.3        0  Санкт-Петербург           21741.0   \n",
      "3           9.1        0  Санкт-Петербург           28098.0   \n",
      "4          41.0        0  Санкт-Петербург           31856.0   \n",
      "\n",
      "  cityCenters_nearest  parks_around3000  parks_nearest  ponds_around3000  \\\n",
      "0             16028.0               1.0          482.0               2.0   \n",
      "1             18603.0               0.0            NaN               0.0   \n",
      "2             13933.0               1.0           90.0               2.0   \n",
      "3              6800.0               2.0           84.0               3.0   \n",
      "4              8098.0               2.0          112.0               1.0   \n",
      "\n",
      "   ponds_nearest  days_exposition  \n",
      "0          755.0               57  \n",
      "1            NaN               81  \n",
      "2          574.0              558  \n",
      "3          234.0              424  \n",
      "4           48.0              121  \n",
      "\n",
      "[5 rows x 22 columns]\n"
     ]
    }
   ],
   "source": [
    "print(data.info())\n",
    "print(data.head())"
   ]
  },
  {
   "cell_type": "markdown",
   "metadata": {},
   "source": [
    "ЭТАП №3 \n",
    "Есть задвоенность названий, где-то Мурино указано просто как \"Мурино\", где-то как \"поселок Мурино\". Слово поселок писалось чере \"Е\" и \"Ё\". Чтобы система не посчитала это как разные значения - уберем дубли.\n",
    "\n",
    "Сделаем обработку значений в 2 шага:\n",
    "Ё заменим на Е, заменим названия вроде \"поселок городского типра\", \"городской поселок\" на просто \"поселок\""
   ]
  },
  {
   "cell_type": "code",
   "execution_count": 14,
   "metadata": {},
   "outputs": [
    {
     "name": "stdout",
     "output_type": "stream",
     "text": [
      "['Санкт-Петербург' 'посёлок Шушары' 'городской посёлок Янино-1'\n",
      " 'посёлок Парголово' 'посёлок Мурино' 'Ломоносов' 'Сертолово' 'Петергоф'\n",
      " 'Пушкин' 'деревня Кудрово' 'Коммунар' 'Колпино'\n",
      " 'поселок городского типа Красный Бор' 'Гатчина' 'поселок Мурино'\n",
      " 'деревня Фёдоровское' 'Выборг' 'Кронштадт' 'Кировск'\n",
      " 'деревня Новое Девяткино' 'посёлок Металлострой'\n",
      " 'посёлок городского типа Лебяжье' 'посёлок городского типа Сиверский'\n",
      " 'поселок Молодцово' 'поселок городского типа Кузьмоловский'\n",
      " 'садовое товарищество Новая Ропша' 'Павловск' 'деревня Пикколово'\n",
      " 'Всеволожск' 'Волхов' 'Кингисепп' 'Приозерск' 'Сестрорецк'\n",
      " 'деревня Куттузи' 'посёлок Аннино' 'поселок городского типа Ефимовский'\n",
      " 'посёлок Плодовое' 'деревня Заклинье' 'поселок Торковичи'\n",
      " 'поселок Первомайское' 'Красное Село' 'посёлок Понтонный' 'Сясьстрой'\n",
      " 'деревня Старая' 'деревня Лесколово' 'посёлок Новый Свет' 'Сланцы'\n",
      " 'село Путилово' 'Ивангород' 'Мурино' 'Шлиссельбург' 'Никольское'\n",
      " 'Зеленогорск' 'Сосновый Бор' 'поселок Новый Свет' 'деревня Оржицы'\n",
      " 'деревня Кальтино' 'Кудрово' 'поселок Романовка' 'посёлок Бугры'\n",
      " 'поселок Бугры' 'поселок городского типа Рощино' 'Кириши' 'Луга'\n",
      " 'Волосово' 'Отрадное' 'село Павлово' 'поселок Оредеж' 'село Копорье'\n",
      " 'посёлок городского типа Красный Бор' 'посёлок Молодёжное' 'Тихвин'\n",
      " 'посёлок Победа' 'деревня Нурма' 'поселок городского типа Синявино'\n",
      " 'Тосно' 'посёлок городского типа Кузьмоловский' 'посёлок Стрельна'\n",
      " 'Бокситогорск' 'посёлок Александровская' 'деревня Лопухинка' 'Пикалёво'\n",
      " 'поселок Терволово' 'поселок городского типа Советский' 'Подпорожье'\n",
      " 'посёлок Петровское' 'посёлок городского типа Токсово' 'поселок Сельцо'\n",
      " 'посёлок городского типа Вырица' 'деревня Кипень' 'деревня Келози'\n",
      " 'деревня Вартемяги' 'посёлок Тельмана' 'поселок Севастьяново'\n",
      " 'городской поселок Большая Ижора' 'unknown' 'городской посёлок Павлово'\n",
      " 'деревня Агалатово' 'посёлок Новогорелово'\n",
      " 'городской посёлок Лесогорский' 'деревня Лаголово' 'поселок Цвелодубово'\n",
      " 'поселок городского типа Рахья' 'поселок городского типа Вырица'\n",
      " 'деревня Белогорка' 'поселок Заводской' 'городской посёлок Новоселье'\n",
      " 'деревня Большие Колпаны' 'деревня Горбунки' 'деревня Батово'\n",
      " 'деревня Заневка' 'деревня Иссад' 'Приморск'\n",
      " 'городской посёлок Фёдоровское' 'деревня Мистолово' 'Новая Ладога'\n",
      " 'поселок Зимитицы' 'поселок Барышево' 'деревня Разметелево'\n",
      " 'поселок городского типа имени Свердлова' 'деревня Пеники'\n",
      " 'поселок Рябово' 'деревня Пудомяги' 'поселок станции Корнево'\n",
      " 'деревня Низино' 'деревня Бегуницы' 'посёлок Поляны'\n",
      " 'городской посёлок Мга' 'поселок Елизаветино'\n",
      " 'посёлок городского типа Кузнечное' 'деревня Колтуши'\n",
      " 'поселок Запорожское' 'посёлок городского типа Рощино'\n",
      " 'деревня Гостилицы' 'деревня Малое Карлино' 'посёлок Мичуринское'\n",
      " 'посёлок городского типа имени Морозова' 'посёлок Песочный'\n",
      " 'посёлок Сосново' 'деревня Аро' 'поселок Ильичёво'\n",
      " 'посёлок городского типа Тайцы' 'деревня Малое Верево' 'деревня Извара'\n",
      " 'поселок станции Вещево' 'село Паша' 'деревня Калитино'\n",
      " 'посёлок городского типа Ульяновка' 'деревня Чудской Бор'\n",
      " 'поселок городского типа Дубровка' 'деревня Мины' 'поселок Войсковицы'\n",
      " 'посёлок городского типа имени Свердлова' 'деревня Коркино'\n",
      " 'посёлок Ропша' 'поселок городского типа Приладожский' 'посёлок Щеглово'\n",
      " 'посёлок Гаврилово' 'Лодейное Поле' 'деревня Рабитицы'\n",
      " 'поселок городского типа Никольский' 'деревня Кузьмолово'\n",
      " 'деревня Малые Колпаны' 'поселок Тельмана' 'посёлок Петро-Славянка'\n",
      " 'городской посёлок Назия' 'посёлок Репино' 'посёлок Ильичёво'\n",
      " 'поселок Углово' 'поселок Старая Малукса' 'садовое товарищество Рахья'\n",
      " 'поселок Аннино' 'поселок Победа' 'деревня Меньково'\n",
      " 'деревня Старые Бегуницы' 'посёлок Сапёрный' 'поселок Семрино'\n",
      " 'поселок Гаврилово' 'поселок Глажево' 'поселок Кобринское'\n",
      " 'деревня Гарболово' 'деревня Юкки' 'поселок станции Приветнинское'\n",
      " 'деревня Мануйлово' 'деревня Пчева' 'поселок Поляны' 'поселок Цвылёво'\n",
      " 'поселок Мельниково' 'посёлок Пудость' 'посёлок Усть-Луга' 'Светогорск'\n",
      " 'Любань' 'поселок Селезнёво' 'поселок городского типа Рябово'\n",
      " 'Каменногорск' 'деревня Кривко' 'поселок Глебычево' 'деревня Парицы'\n",
      " 'поселок Жилпосёлок' 'посёлок городского типа Мга'\n",
      " 'городской поселок Янино-1' 'посёлок Войскорово' 'село Никольское'\n",
      " 'посёлок Терволово' 'поселок Стеклянный' 'посёлок городского типа Важины'\n",
      " 'посёлок Мыза-Ивановка' 'село Русско-Высоцкое'\n",
      " 'поселок городского типа Лебяжье' 'поселок городского типа Форносово'\n",
      " 'село Старая Ладога' 'поселок Житково' 'городской посёлок Виллози'\n",
      " 'деревня Лампово' 'деревня Шпаньково' 'деревня Лаврики' 'посёлок Сумино'\n",
      " 'посёлок Возрождение' 'деревня Старосиверская' 'посёлок Кикерино'\n",
      " 'поселок Возрождение' 'деревня Старое Хинколово' 'посёлок Пригородный'\n",
      " 'посёлок Торфяное' 'городской посёлок Будогощь' 'поселок Суходолье'\n",
      " 'поселок Красная Долина' 'деревня Хапо-Ое'\n",
      " 'поселок городского типа Дружная Горка' 'поселок Лисий Нос'\n",
      " 'деревня Яльгелево' 'посёлок Стеклянный' 'село Рождествено'\n",
      " 'деревня Старополье' 'посёлок Левашово' 'деревня Сяськелево'\n",
      " 'деревня Камышовка'\n",
      " 'садоводческое некоммерческое товарищество Лесная Поляна'\n",
      " 'деревня Хязельки' 'поселок Жилгородок' 'посёлок городского типа Павлово'\n",
      " 'деревня Ялгино' 'поселок Новый Учхоз' 'городской посёлок Рощино'\n",
      " 'поселок Гончарово' 'поселок Почап' 'посёлок Сапёрное'\n",
      " 'посёлок Платформа 69-й километр' 'поселок Каложицы' 'деревня Фалилеево'\n",
      " 'деревня Пельгора' 'поселок городского типа Лесогорский'\n",
      " 'деревня Торошковичи' 'посёлок Белоостров' 'посёлок Алексеевка'\n",
      " 'поселок Серебрянский' 'поселок Лукаши' 'поселок Петровское'\n",
      " 'деревня Щеглово' 'поселок Мичуринское' 'деревня Тарасово'\n",
      " 'поселок Кингисеппский' 'посёлок при железнодорожной станции Вещево'\n",
      " 'поселок Ушаки' 'деревня Котлы' 'деревня Сижно' 'деревня Торосово'\n",
      " 'посёлок Форт Красная Горка' 'поселок городского типа Токсово'\n",
      " 'деревня Новолисино' 'посёлок станции Громово' 'деревня Глинка'\n",
      " 'посёлок Мельниково' 'поселок городского типа Назия'\n",
      " 'деревня Старая Пустошь' 'поселок Коммунары' 'поселок Починок'\n",
      " 'посёлок городского типа Вознесенье' 'деревня Разбегаево'\n",
      " 'посёлок городского типа Рябово' 'поселок Гладкое'\n",
      " 'посёлок при железнодорожной станции Приветнинское' 'поселок Тёсово-4'\n",
      " 'посёлок Жилгородок' 'деревня Бор' 'посёлок Коробицыно'\n",
      " 'деревня Большая Вруда' 'деревня Курковицы' 'посёлок Лисий Нос'\n",
      " 'городской посёлок Советский' 'посёлок Кобралово' 'деревня Суоранда'\n",
      " 'поселок Кобралово' 'поселок городского типа Кондратьево'\n",
      " 'коттеджный поселок Счастье' 'поселок Любань' 'деревня Реброво'\n",
      " 'деревня Зимитицы' 'деревня Тойворово' 'поселок Семиозерье'\n",
      " 'поселок Лесное' 'поселок Совхозный' 'поселок Усть-Луга'\n",
      " 'посёлок Ленинское' 'посёлок Суйда' 'посёлок городского типа Форносово'\n",
      " 'деревня Нижние Осельки' 'посёлок станции Свирь' 'поселок Перово'\n",
      " 'Высоцк' 'поселок Гарболово' 'село Шум' 'поселок Котельский'\n",
      " 'поселок станции Лужайка' 'деревня Большая Пустомержа'\n",
      " 'поселок Красносельское' 'деревня Вахнова Кара' 'деревня Пижма'\n",
      " 'коттеджный поселок Кивеннапа Север' 'поселок Коробицыно'\n",
      " 'поселок Ромашки' 'посёлок Перово' 'деревня Каськово' 'деревня Куровицы'\n",
      " 'посёлок Плоское' 'поселок Сумино'\n",
      " 'поселок городского типа Большая Ижора' 'поселок Кирпичное'\n",
      " 'деревня Ям-Тесово' 'деревня Раздолье' 'деревня Терпилицы'\n",
      " 'посёлок Шугозеро' 'деревня Ваганово' 'поселок Пушное'\n",
      " 'садовое товарищество Садко' 'посёлок Усть-Ижора' 'деревня Выскатка'\n",
      " 'городской посёлок Свирьстрой' 'поселок Громово' 'деревня Кисельня'\n",
      " 'посёлок Старая Малукса' 'деревня Трубников Бор' 'поселок Калитино'\n",
      " 'посёлок Высокоключевой' 'садовое товарищество Приладожский'\n",
      " 'посёлок Пансионат Зелёный Бор' 'деревня Ненимяки'\n",
      " 'поселок Пансионат Зелёный Бор' 'деревня Снегирёвка' 'деревня Рапполово'\n",
      " 'деревня Пустынка' 'поселок Рабитицы' 'деревня Большой Сабск'\n",
      " 'деревня Русско' 'деревня Лупполово' 'деревня Большое Рейзино'\n",
      " 'деревня Малая Романовка' 'поселок Дружноселье' 'поселок Пчевжа'\n",
      " 'поселок Володарское' 'деревня Нижняя' 'коттеджный посёлок Лесное'\n",
      " 'деревня Тихковицы' 'деревня Борисова Грива' 'посёлок Дзержинского']\n"
     ]
    }
   ],
   "source": [
    "#посмотрим уникальные значения\n",
    "print(data['locality_name'].unique())"
   ]
  },
  {
   "cell_type": "markdown",
   "metadata": {},
   "source": [
    "2.3.1 Уберем неявные дубликаты"
   ]
  },
  {
   "cell_type": "code",
   "execution_count": 15,
   "metadata": {},
   "outputs": [
    {
     "name": "stdout",
     "output_type": "stream",
     "text": [
      "Санкт-Петербург                    15721\n",
      "Мурино                               590\n",
      "Кудрово                              472\n",
      "Шушары                               440\n",
      "Всеволожск                           398\n",
      "Пушкин                               369\n",
      "Колпино                              338\n",
      "Парголово                            327\n",
      "Гатчина                              307\n",
      "Выборг                               237\n",
      "Петергоф                             201\n",
      "Сестрорецк                           183\n",
      "Красное Село                         178\n",
      "Новое Девяткино                      144\n",
      "Сертолово                            142\n",
      "Ломоносов                            133\n",
      "Кириши                               125\n",
      "поселок Бугры                        114\n",
      "Сланцы                               112\n",
      "Волхов                               111\n",
      "Тосно                                104\n",
      "Кингисепп                            104\n",
      "Кронштадт                             96\n",
      "Никольское                            93\n",
      "Коммунар                              89\n",
      "Сосновый Бор                          87\n",
      "Кировск                               84\n",
      "Отрадное                              80\n",
      "поселок Янино-1                       68\n",
      "поселок Металлострой                  66\n",
      "Приозерск                             66\n",
      "деревня Старая                        64\n",
      "Шлиссельбург                          57\n",
      "Луга                                  56\n",
      "Тихвин                                49\n",
      "unknown                               49\n",
      "поселок Стрельна                      44\n",
      "поселок Тельмана                      41\n",
      "поселок Рощино                        39\n",
      "Павловск                              38\n",
      "поселок имени Свердлова               36\n",
      "поселок Романовка                     36\n",
      "Волосово                              36\n",
      "поселок Кузьмоловский                 35\n",
      "поселок Мга                           33\n",
      "поселок Сиверский                     29\n",
      "поселок Новоселье                     28\n",
      "Ивангород                             28\n",
      "Сясьстрой                             24\n",
      "Зеленогорск                           24\n",
      "поселок Щеглово                       23\n",
      "поселок Новый Свет                    22\n",
      "поселок Вырица                        22\n",
      "поселок Синявино                      21\n",
      "деревня Лесколово                     20\n",
      "поселок Понтонный                     20\n",
      "поселок Новогорелово                  20\n",
      "поселок Токсово                       20\n",
      "Лодейное Поле                         20\n",
      "деревня Вартемяги                     20\n",
      "Подпорожье                            19\n",
      "поселок Сосново                       18\n",
      "Пикалево                              18\n",
      "поселок имени Морозова                17\n",
      "поселок Назия                         17\n",
      "поселок Большая Ижора                 17\n",
      "деревня Бегуницы                      17\n",
      "деревня Большие Колпаны               16\n",
      "Бокситогорск                          16\n",
      "поселок Аннино                        16\n",
      "поселок Дубровка                      15\n",
      "поселок Лебяжье                       15\n",
      "деревня Горбунки                      15\n",
      "поселок Рахья                         15\n",
      "Новая Ладога                          14\n",
      "поселок Кузнечное                     13\n",
      "поселок Елизаветино                   13\n",
      "деревня Гарболово                     13\n",
      "Каменногорск                          13\n",
      "поселок Ульяновка                     13\n",
      "деревня Нурма                         11\n",
      "деревня Белогорка                     11\n",
      "деревня Мистолово                     11\n",
      "поселок Советский                     11\n",
      "поселок Мичуринское                   11\n",
      "деревня Колтуши                       11\n",
      "деревня Гостилицы                     11\n",
      "деревня Малое Верево                  11\n",
      "поселок Павлово                       11\n",
      "Светогорск                            11\n",
      "деревня Сяськелево                    10\n",
      "деревня Низино                        10\n",
      "деревня Лаголово                      10\n",
      "поселок Войсковицы                    10\n",
      "деревня Малое Карлино                  9\n",
      "поселок Приладожский                   9\n",
      "поселок Пудость                        9\n",
      "деревня Оржицы                         9\n",
      "деревня Батово                         9\n",
      "поселок Кобралово                      9\n",
      "поселок Молодцово                      9\n",
      "поселок Сельцо                         9\n",
      "село Русско-Высоцкое                   9\n",
      "поселок Красный Бор                    8\n",
      "поселок Первомайское                   8\n",
      "Приморск                               8\n",
      "Любань                                 8\n",
      "поселок Стеклянный                     8\n",
      "поселок Суходолье                      8\n",
      "деревня Федоровское                    8\n",
      "поселок Запорожское                    8\n",
      "поселок Ильичево                       8\n",
      "деревня Извара                         7\n",
      "деревня Калитино                       7\n",
      "поселок Федоровское                    7\n",
      "деревня Кипень                         7\n",
      "деревня Куттузи                        7\n",
      "село Павлово                           7\n",
      "деревня Кальтино                       7\n",
      "поселок Углово                         7\n",
      "деревня Кузьмолово                     7\n",
      "поселок Никольский                     7\n",
      "деревня Малые Колпаны                  7\n",
      "поселок Саперный                       6\n",
      "поселок Форносово                      6\n",
      "поселок Терволово                      6\n",
      "поселок Новый Учхоз                    6\n",
      "поселок Ушаки                          6\n",
      "поселок Победа                         6\n",
      "деревня Заневка                        6\n",
      "деревня Лопухинка                      6\n",
      "поселок Тайцы                          6\n",
      "поселок Поляны                         6\n",
      "деревня Яльгелево                      6\n",
      "поселок Кобринское                     6\n",
      "деревня Пудомяги                       6\n",
      "поселок Громово                        6\n",
      "деревня Лампово                        6\n",
      "поселок Важины                         6\n",
      "деревня Пеники                         6\n",
      "поселок Селезнево                      5\n",
      "поселок Лесогорский                    5\n",
      "поселок Войскорово                     5\n",
      "поселок Гаврилово                      5\n",
      "поселок Усть-Луга                      5\n",
      "поселок Семрино                        5\n",
      "поселок Плодовое                       5\n",
      "поселок Глажево                        5\n",
      "поселок Дружная Горка                  5\n",
      "поселок Молодежное                     5\n",
      "деревня Юкки                           5\n",
      "поселок Петровское                     5\n",
      "поселок Вещево                         5\n",
      "поселок Мельниково                     5\n",
      "село Копорье                           5\n",
      "поселок Репино                         4\n",
      "поселок Цвелодубово                    4\n",
      "поселок Старая Малукса                 4\n",
      "поселок Перово                         4\n",
      "поселок Рябово                         4\n",
      "Высоцк                                 4\n",
      "деревня Келози                         4\n",
      "деревня Агалатово                      4\n",
      "поселок Гарболово                      4\n",
      "поселок Песочный                       4\n",
      "деревня Разметелево                    4\n",
      "деревня Разбегаево                     4\n",
      "поселок Будогощь                       4\n",
      "поселок Торфяное                       4\n",
      "деревня Большая Вруда                  4\n",
      "деревня Парицы                         4\n",
      "поселок Кикерино                       4\n",
      "поселок Суйда                          4\n",
      "поселок Лукаши                         3\n",
      "деревня Торошковичи                    3\n",
      "поселок Котельский                     3\n",
      "поселок Приветнинское                  3\n",
      "село Рождествено                       3\n",
      "поселок Виллози                        3\n",
      "поселок Оредеж                         3\n",
      "поселок Любань                         3\n",
      "деревня Заклинье                       3\n",
      "поселок Красная Долина                 3\n",
      "деревня Торосово                       3\n",
      "поселок Глебычево                      3\n",
      "деревня Аро                            3\n",
      "деревня Ваганово                       3\n",
      "поселок Пригородный                    3\n",
      "поселок Ефимовский                     3\n",
      "поселок Заводской                      3\n",
      "поселок Торковичи                      3\n",
      "деревня Старосиверская                 3\n",
      "поселок Жилгородок                     3\n",
      "деревня Старополье                     3\n",
      "поселок Зимитицы                       3\n",
      "поселок Возрождение                    3\n",
      "поселок Лисий Нос                      3\n",
      "поселок Лесное                         3\n",
      "поселок Барышево                       2\n",
      "деревня Коркино                        2\n",
      "поселок Ленинское                      2\n",
      "село Паша                              2\n",
      "деревня Фалилеево                      2\n",
      "поселок Серебрянский                   2\n",
      "поселок Кингисеппский                  2\n",
      "село Старая Ладога                     2\n",
      "деревня Выскатка                       2\n",
      "поселок Александровская                2\n",
      "деревня Бор                            2\n",
      "поселок Усть-Ижора                     2\n",
      "деревня Старая Пустошь                 2\n",
      "деревня Глинка                         2\n",
      "деревня Ям-Тесово                      2\n",
      "деревня Рабитицы                       2\n",
      "деревня Ненимяки                       2\n",
      "поселок Сумино                         2\n",
      "поселок Починок                        2\n",
      "поселок Совхозный                      2\n",
      "поселок Пушное                         2\n",
      "поселок Саперное                       2\n",
      "поселок Житково                        2\n",
      "село Путилово                          2\n",
      "поселок Пансионат Зеленый Бор          2\n",
      "поселок Коробицыно                     2\n",
      "деревня Тарасово                       2\n",
      "деревня Старые Бегуницы                2\n",
      "деревня Суоранда                       2\n",
      "поселок Свирь                          2\n",
      "поселок Вознесенье                     2\n",
      "деревня Мины                           2\n",
      "деревня Камышовка                      2\n",
      "деревня Терпилицы                      1\n",
      "деревня Меньково                       1\n",
      "деревня Лупполово                      1\n",
      "деревня Пустынка                       1\n",
      "деревня Вахнова Кара                   1\n",
      "деревня Котлы                          1\n",
      "деревня Сижно                          1\n",
      "деревня Зимитицы                       1\n",
      "деревня Нижние Осельки                 1\n",
      "деревня Старое Хинколово               1\n",
      "деревня Русско                         1\n",
      "сад Садко                              1\n",
      "деревня Пельгора                       1\n",
      "деревня Кривко                         1\n",
      "поселок Калитино                       1\n",
      "деревня Малая Романовка                1\n",
      "деревня Мануйлово                      1\n",
      "поселок Ромашки                        1\n",
      "поселок Кирпичное                      1\n",
      "деревня Снегиревка                     1\n",
      "деревня Раздолье                       1\n",
      "деревня Иссад                          1\n",
      "поселок Лужайка                        1\n",
      "деревня Рапполово                      1\n",
      "деревня Пикколово                      1\n",
      "деревня Тойворово                      1\n",
      "поселок Гончарово                      1\n",
      "поселок Кондратьево                    1\n",
      "сад Новая Ропша                        1\n",
      "деревня Тихковицы                      1\n",
      "поселок Алексеевка                     1\n",
      "поселок Мыза-Ивановка                  1\n",
      "поселок Красносельское                 1\n",
      "поселок Цвылево                        1\n",
      "поселок Ропша                          1\n",
      "деревня Каськово                       1\n",
      "поселок Дружноселье                    1\n",
      "поселок Шугозеро                       1\n",
      "поселок Петро-Славянка                 1\n",
      "деревня Куровицы                       1\n",
      "поселок Белоостров                     1\n",
      "поселок Корнево                        1\n",
      "село Никольское                        1\n",
      "поселок Жилпоселок                     1\n",
      "деревня Щеглово                        1\n",
      "деревня Чудской Бор                    1\n",
      "поселок Счастье                        1\n",
      "поселок Коммунары                      1\n",
      "деревня Курковицы                      1\n",
      "поселок Каложицы                       1\n",
      "поселок Кивеннапа Север                1\n",
      "деревня Пчева                          1\n",
      "деревня Кисельня                       1\n",
      "сад Приладожский                       1\n",
      "сад Рахья                              1\n",
      "поселок Гладкое                        1\n",
      "поселок Левашово                       1\n",
      "деревня Лаврики                        1\n",
      "поселок Семиозерье                     1\n",
      "деревня Большое Рейзино                1\n",
      "поселок Рабитицы                       1\n",
      "деревня Нижняя                         1\n",
      "поселок Платформа 69-й километр        1\n",
      "поселок Севастьяново                   1\n",
      "деревня Ялгино                         1\n",
      "поселок Дзержинского                   1\n",
      "сад Лесная Поляна                      1\n",
      "деревня Борисова Грива                 1\n",
      "поселок Володарское                    1\n",
      "поселок Свирьстрой                     1\n",
      "деревня Шпаньково                      1\n",
      "деревня Пижма                          1\n",
      "деревня Хапо-Ое                        1\n",
      "деревня Хязельки                       1\n",
      "поселок Высокоключевой                 1\n",
      "деревня Трубников Бор                  1\n",
      "деревня Большая Пустомержа             1\n",
      "поселок Плоское                        1\n",
      "поселок Пчевжа                         1\n",
      "поселок Тесово-4                       1\n",
      "поселок Почап                          1\n",
      "село Шум                               1\n",
      "деревня Реброво                        1\n",
      "деревня Большой Сабск                  1\n",
      "поселок Форт Красная Горка             1\n",
      "деревня Новолисино                     1\n",
      "Name: locality_name, dtype: int64\n"
     ]
    }
   ],
   "source": [
    "#заменим везде ё на е\n",
    "data['locality_name'] = data['locality_name'].str.replace('ё', 'е')\n",
    "\n",
    "#у крупных населенных пунктов, где много новостроек и большая населенность уберем слова \"деревня\" и \"поселок\", чтобы потом скомпоновать их в группы\n",
    "data['locality_name'] = data['locality_name'].str.replace('поселок Мурино','Мурино')\n",
    "data['locality_name'] = data['locality_name'].str.replace('деревня Кудрово','Кудрово')\n",
    "data['locality_name'] = data['locality_name'].str.replace('деревня Новое Девяткино','Новое Девяткино')\n",
    "\n",
    "data['locality_name'] = data['locality_name'].str.replace('поселок Парголово','Парголово')\n",
    "data['locality_name'] = data['locality_name'].str.replace('поселок Шушары','Шушары')\n",
    "data['locality_name'] = data['locality_name'].str.replace('поселок городского типа','поселок')    \n",
    "data['locality_name'] = data['locality_name'].str.replace('городской поселок','поселок') \n",
    "data['locality_name'] = data['locality_name'].str.replace('коттеджный поселок','поселок') \n",
    "data['locality_name'] = data['locality_name'].str.replace('поселок станции','поселок') \n",
    "data['locality_name'] = data['locality_name'].str.replace('поселок при железнодорожной станции','поселок')\n",
    "\n",
    "data['locality_name'] = data['locality_name'].str.replace('садовое товарищество','сад') \n",
    "data['locality_name'] = data['locality_name'].str.replace('садоводческое некоммерческое товарищество','сад') \n",
    "\n",
    "#проверка\n",
    "with pd.option_context('display.max_rows',999):\n",
    "    print(data['locality_name'].value_counts())"
   ]
  },
  {
   "cell_type": "markdown",
   "metadata": {},
   "source": [
    "ЭТАП №4 Поиск аномалий\n",
    "Попробуем найти по стобцам редкие и выбивающиеся значения. Посмотрим в целом на таблицу"
   ]
  },
  {
   "cell_type": "code",
   "execution_count": 16,
   "metadata": {},
   "outputs": [
    {
     "data": {
      "text/html": [
       "<div>\n",
       "<style scoped>\n",
       "    .dataframe tbody tr th:only-of-type {\n",
       "        vertical-align: middle;\n",
       "    }\n",
       "\n",
       "    .dataframe tbody tr th {\n",
       "        vertical-align: top;\n",
       "    }\n",
       "\n",
       "    .dataframe thead th {\n",
       "        text-align: right;\n",
       "    }\n",
       "</style>\n",
       "<table border=\"1\" class=\"dataframe\">\n",
       "  <thead>\n",
       "    <tr style=\"text-align: right;\">\n",
       "      <th></th>\n",
       "      <th>total_images</th>\n",
       "      <th>last_price</th>\n",
       "      <th>total_area</th>\n",
       "      <th>rooms</th>\n",
       "      <th>ceiling_height</th>\n",
       "      <th>floors_total</th>\n",
       "      <th>living_area</th>\n",
       "      <th>floor</th>\n",
       "      <th>studio</th>\n",
       "      <th>open_plan</th>\n",
       "      <th>kitchen_area</th>\n",
       "      <th>balcony</th>\n",
       "      <th>airports_nearest</th>\n",
       "      <th>cityCenters_nearest</th>\n",
       "      <th>parks_around3000</th>\n",
       "      <th>parks_nearest</th>\n",
       "      <th>ponds_around3000</th>\n",
       "      <th>ponds_nearest</th>\n",
       "      <th>days_exposition</th>\n",
       "    </tr>\n",
       "  </thead>\n",
       "  <tbody>\n",
       "    <tr>\n",
       "      <th>count</th>\n",
       "      <td>23699.000000</td>\n",
       "      <td>2.369900e+04</td>\n",
       "      <td>23699.000000</td>\n",
       "      <td>23699.000000</td>\n",
       "      <td>23699.000000</td>\n",
       "      <td>23699.000000</td>\n",
       "      <td>21796.000000</td>\n",
       "      <td>23699.000000</td>\n",
       "      <td>23699.000000</td>\n",
       "      <td>23699.000000</td>\n",
       "      <td>23699.000000</td>\n",
       "      <td>23699.000000</td>\n",
       "      <td>18157.000000</td>\n",
       "      <td>18180.000000</td>\n",
       "      <td>18181.000000</td>\n",
       "      <td>8079.000000</td>\n",
       "      <td>18181.000000</td>\n",
       "      <td>9110.000000</td>\n",
       "      <td>23699.000000</td>\n",
       "    </tr>\n",
       "    <tr>\n",
       "      <th>mean</th>\n",
       "      <td>9.858475</td>\n",
       "      <td>6.541549e+06</td>\n",
       "      <td>60.348651</td>\n",
       "      <td>2.070636</td>\n",
       "      <td>2.724358</td>\n",
       "      <td>10.670028</td>\n",
       "      <td>34.457852</td>\n",
       "      <td>5.892358</td>\n",
       "      <td>0.006287</td>\n",
       "      <td>0.002827</td>\n",
       "      <td>10.428526</td>\n",
       "      <td>0.591080</td>\n",
       "      <td>28793.672193</td>\n",
       "      <td>14191.277833</td>\n",
       "      <td>0.611408</td>\n",
       "      <td>490.804555</td>\n",
       "      <td>0.770255</td>\n",
       "      <td>517.980900</td>\n",
       "      <td>185.821722</td>\n",
       "    </tr>\n",
       "    <tr>\n",
       "      <th>std</th>\n",
       "      <td>5.682529</td>\n",
       "      <td>1.088701e+07</td>\n",
       "      <td>35.654083</td>\n",
       "      <td>1.078405</td>\n",
       "      <td>0.988298</td>\n",
       "      <td>6.587831</td>\n",
       "      <td>22.030445</td>\n",
       "      <td>4.885249</td>\n",
       "      <td>0.079044</td>\n",
       "      <td>0.053097</td>\n",
       "      <td>5.631126</td>\n",
       "      <td>0.959298</td>\n",
       "      <td>12630.880622</td>\n",
       "      <td>8608.386210</td>\n",
       "      <td>0.802074</td>\n",
       "      <td>342.317995</td>\n",
       "      <td>0.938346</td>\n",
       "      <td>277.720643</td>\n",
       "      <td>233.380877</td>\n",
       "    </tr>\n",
       "    <tr>\n",
       "      <th>min</th>\n",
       "      <td>0.000000</td>\n",
       "      <td>1.219000e+04</td>\n",
       "      <td>12.000000</td>\n",
       "      <td>0.000000</td>\n",
       "      <td>1.000000</td>\n",
       "      <td>1.000000</td>\n",
       "      <td>2.000000</td>\n",
       "      <td>1.000000</td>\n",
       "      <td>0.000000</td>\n",
       "      <td>0.000000</td>\n",
       "      <td>1.300000</td>\n",
       "      <td>0.000000</td>\n",
       "      <td>0.000000</td>\n",
       "      <td>181.000000</td>\n",
       "      <td>0.000000</td>\n",
       "      <td>1.000000</td>\n",
       "      <td>0.000000</td>\n",
       "      <td>13.000000</td>\n",
       "      <td>0.000000</td>\n",
       "    </tr>\n",
       "    <tr>\n",
       "      <th>25%</th>\n",
       "      <td>6.000000</td>\n",
       "      <td>3.400000e+06</td>\n",
       "      <td>40.000000</td>\n",
       "      <td>1.000000</td>\n",
       "      <td>2.600000</td>\n",
       "      <td>5.000000</td>\n",
       "      <td>18.600000</td>\n",
       "      <td>2.000000</td>\n",
       "      <td>0.000000</td>\n",
       "      <td>0.000000</td>\n",
       "      <td>7.400000</td>\n",
       "      <td>0.000000</td>\n",
       "      <td>18585.000000</td>\n",
       "      <td>9238.000000</td>\n",
       "      <td>0.000000</td>\n",
       "      <td>288.000000</td>\n",
       "      <td>0.000000</td>\n",
       "      <td>294.000000</td>\n",
       "      <td>43.000000</td>\n",
       "    </tr>\n",
       "    <tr>\n",
       "      <th>50%</th>\n",
       "      <td>9.000000</td>\n",
       "      <td>4.650000e+06</td>\n",
       "      <td>52.000000</td>\n",
       "      <td>2.000000</td>\n",
       "      <td>2.650000</td>\n",
       "      <td>9.000000</td>\n",
       "      <td>30.000000</td>\n",
       "      <td>4.000000</td>\n",
       "      <td>0.000000</td>\n",
       "      <td>0.000000</td>\n",
       "      <td>9.100000</td>\n",
       "      <td>0.000000</td>\n",
       "      <td>26726.000000</td>\n",
       "      <td>13098.500000</td>\n",
       "      <td>0.000000</td>\n",
       "      <td>455.000000</td>\n",
       "      <td>1.000000</td>\n",
       "      <td>502.000000</td>\n",
       "      <td>94.000000</td>\n",
       "    </tr>\n",
       "    <tr>\n",
       "      <th>75%</th>\n",
       "      <td>14.000000</td>\n",
       "      <td>6.800000e+06</td>\n",
       "      <td>69.900000</td>\n",
       "      <td>3.000000</td>\n",
       "      <td>2.700000</td>\n",
       "      <td>16.000000</td>\n",
       "      <td>42.300000</td>\n",
       "      <td>8.000000</td>\n",
       "      <td>0.000000</td>\n",
       "      <td>0.000000</td>\n",
       "      <td>11.440000</td>\n",
       "      <td>1.000000</td>\n",
       "      <td>37273.000000</td>\n",
       "      <td>16293.000000</td>\n",
       "      <td>1.000000</td>\n",
       "      <td>612.000000</td>\n",
       "      <td>1.000000</td>\n",
       "      <td>729.000000</td>\n",
       "      <td>237.000000</td>\n",
       "    </tr>\n",
       "    <tr>\n",
       "      <th>max</th>\n",
       "      <td>50.000000</td>\n",
       "      <td>7.630000e+08</td>\n",
       "      <td>900.000000</td>\n",
       "      <td>19.000000</td>\n",
       "      <td>100.000000</td>\n",
       "      <td>60.000000</td>\n",
       "      <td>409.700000</td>\n",
       "      <td>33.000000</td>\n",
       "      <td>1.000000</td>\n",
       "      <td>1.000000</td>\n",
       "      <td>112.000000</td>\n",
       "      <td>5.000000</td>\n",
       "      <td>84869.000000</td>\n",
       "      <td>65968.000000</td>\n",
       "      <td>3.000000</td>\n",
       "      <td>3190.000000</td>\n",
       "      <td>3.000000</td>\n",
       "      <td>1344.000000</td>\n",
       "      <td>1618.000000</td>\n",
       "    </tr>\n",
       "  </tbody>\n",
       "</table>\n",
       "</div>"
      ],
      "text/plain": [
       "       total_images    last_price    total_area         rooms  ceiling_height  \\\n",
       "count  23699.000000  2.369900e+04  23699.000000  23699.000000    23699.000000   \n",
       "mean       9.858475  6.541549e+06     60.348651      2.070636        2.724358   \n",
       "std        5.682529  1.088701e+07     35.654083      1.078405        0.988298   \n",
       "min        0.000000  1.219000e+04     12.000000      0.000000        1.000000   \n",
       "25%        6.000000  3.400000e+06     40.000000      1.000000        2.600000   \n",
       "50%        9.000000  4.650000e+06     52.000000      2.000000        2.650000   \n",
       "75%       14.000000  6.800000e+06     69.900000      3.000000        2.700000   \n",
       "max       50.000000  7.630000e+08    900.000000     19.000000      100.000000   \n",
       "\n",
       "       floors_total   living_area         floor        studio     open_plan  \\\n",
       "count  23699.000000  21796.000000  23699.000000  23699.000000  23699.000000   \n",
       "mean      10.670028     34.457852      5.892358      0.006287      0.002827   \n",
       "std        6.587831     22.030445      4.885249      0.079044      0.053097   \n",
       "min        1.000000      2.000000      1.000000      0.000000      0.000000   \n",
       "25%        5.000000     18.600000      2.000000      0.000000      0.000000   \n",
       "50%        9.000000     30.000000      4.000000      0.000000      0.000000   \n",
       "75%       16.000000     42.300000      8.000000      0.000000      0.000000   \n",
       "max       60.000000    409.700000     33.000000      1.000000      1.000000   \n",
       "\n",
       "       kitchen_area       balcony  airports_nearest  cityCenters_nearest  \\\n",
       "count  23699.000000  23699.000000      18157.000000         18180.000000   \n",
       "mean      10.428526      0.591080      28793.672193         14191.277833   \n",
       "std        5.631126      0.959298      12630.880622          8608.386210   \n",
       "min        1.300000      0.000000          0.000000           181.000000   \n",
       "25%        7.400000      0.000000      18585.000000          9238.000000   \n",
       "50%        9.100000      0.000000      26726.000000         13098.500000   \n",
       "75%       11.440000      1.000000      37273.000000         16293.000000   \n",
       "max      112.000000      5.000000      84869.000000         65968.000000   \n",
       "\n",
       "       parks_around3000  parks_nearest  ponds_around3000  ponds_nearest  \\\n",
       "count      18181.000000    8079.000000      18181.000000    9110.000000   \n",
       "mean           0.611408     490.804555          0.770255     517.980900   \n",
       "std            0.802074     342.317995          0.938346     277.720643   \n",
       "min            0.000000       1.000000          0.000000      13.000000   \n",
       "25%            0.000000     288.000000          0.000000     294.000000   \n",
       "50%            0.000000     455.000000          1.000000     502.000000   \n",
       "75%            1.000000     612.000000          1.000000     729.000000   \n",
       "max            3.000000    3190.000000          3.000000    1344.000000   \n",
       "\n",
       "       days_exposition  \n",
       "count     23699.000000  \n",
       "mean        185.821722  \n",
       "std         233.380877  \n",
       "min           0.000000  \n",
       "25%          43.000000  \n",
       "50%          94.000000  \n",
       "75%         237.000000  \n",
       "max        1618.000000  "
      ]
     },
     "execution_count": 16,
     "metadata": {},
     "output_type": "execute_result"
    }
   ],
   "source": [
    "data.describe()"
   ]
  },
  {
   "cell_type": "markdown",
   "metadata": {},
   "source": [
    "2.4 Найденные аномалии по столбцам:\n",
    "1. total_area (max знач 900, проверить сколько это всего значений)\n",
    "2. ceiling_height (max высота потолков 100м)\n",
    "3. floors_total (max этаж 60, оценить много их или нет, может быть это 1 значение из Лахта-центр)\n",
    "4. airports_nearest, cityCenters_nearest,parks_nearest,ponds_nearest странные расстояния больше чем в несколько 1000 км\n",
    "5. last_price\n",
    "6. rooms (max количество комнат - 19, возможно эта недвижимость в коммунальной квартире)\n",
    "    \n",
    "разберем каждый по порядку: \n",
    "\n",
    "2.4.1 Рассмотрим значения в столбце общей площади. В нем было значение в 900м.кв."
   ]
  },
  {
   "cell_type": "code",
   "execution_count": 17,
   "metadata": {},
   "outputs": [
    {
     "data": {
      "text/plain": [
       "count    23699.000000\n",
       "mean        60.348651\n",
       "std         35.654083\n",
       "min         12.000000\n",
       "25%         40.000000\n",
       "50%         52.000000\n",
       "75%         69.900000\n",
       "max        900.000000\n",
       "Name: total_area, dtype: float64"
      ]
     },
     "execution_count": 17,
     "metadata": {},
     "output_type": "execute_result"
    },
    {
     "data": {
      "image/png": "[encoded data removed]",
      "text/plain": [
       "<Figure size 432x288 with 1 Axes>"
      ]
     },
     "metadata": {
      "needs_background": "light"
     },
     "output_type": "display_data"
    },
    {
     "data": {
      "image/png": "[encoded data removed]",
      "text/plain": [
       "<Figure size 360x216 with 1 Axes>"
      ]
     },
     "metadata": {
      "needs_background": "light"
     },
     "output_type": "display_data"
    }
   ],
   "source": [
    "#посмотрим распределение значений\n",
    "import matplotlib.pyplot as plt\n",
    "plt.boxplot(data['total_area'])\n",
    "plt.ylim(1,200)\n",
    "\n",
    "#составим гистограмму\n",
    "data.plot(y = 'total_area', kind = 'hist', bins = 60, grid=True, figsize = (5,3), range = (0,500))\n",
    "\n",
    "#посмотрим значения по столбцу\n",
    "data['total_area'].describe()"
   ]
  },
  {
   "cell_type": "markdown",
   "metadata": {},
   "source": [
    "Общая площадь в данных от 12 до 900 м2, среднее значение 60, а медиана 35 м2. Распределение данных Гаусса. \n",
    "Есть объекты выше 200-300 метров, их немного. По диаграмме размаха, видно что квартили на 10 и 120 м.кв. Отсечем значения по квартилям от 12 до 120 и оценим их объем."
   ]
  },
  {
   "cell_type": "code",
   "execution_count": 18,
   "metadata": {},
   "outputs": [
    {
     "data": {
      "text/plain": [
       "<AxesSubplot:ylabel='Frequency'>"
      ]
     },
     "execution_count": 18,
     "metadata": {},
     "output_type": "execute_result"
    },
    {
     "data": {
      "image/png": "[encoded data removed]",
      "text/plain": [
       "<Figure size 360x216 with 1 Axes>"
      ]
     },
     "metadata": {
      "needs_background": "light"
     },
     "output_type": "display_data"
    }
   ],
   "source": [
    "#отсечем выбивающиеся значения\n",
    "good_data = data.query('12 <= total_area <= 120')\n",
    "\n",
    "#проверим объем\n",
    "good_data['total_area'].shape[0]/ data['total_area'].shape[0]\n",
    "\n",
    "#посторим гистограмму по новым данным\n",
    "good_data.plot(y = 'total_area', kind = 'hist', bins = 60, grid=True, figsize = (5,3), range = (0,120))"
   ]
  },
  {
   "cell_type": "markdown",
   "metadata": {},
   "source": [
    "Удалено почти 5% данных. "
   ]
  },
  {
   "cell_type": "markdown",
   "metadata": {},
   "source": [
    "2.4.2 Переходим к высоте потолков \"ceiling_height\". В сталинках и элитном жилье высота потолка максимум 3.3 метра. В частных домах в Лен.области высота потолков в старых частных домах может быть около 2.0 м. Посчитаем сколько таких аномальных значений > 3.5 метров и <1.8."
   ]
  },
  {
   "cell_type": "code",
   "execution_count": 19,
   "metadata": {},
   "outputs": [
    {
     "name": "stdout",
     "output_type": "stream",
     "text": [
      "total_images            304\n",
      "last_price              304\n",
      "total_area              304\n",
      "first_day_exposition    304\n",
      "rooms                   304\n",
      "ceiling_height          304\n",
      "floors_total            304\n",
      "living_area             287\n",
      "floor                   304\n",
      "is_apartment            304\n",
      "studio                  304\n",
      "open_plan               304\n",
      "kitchen_area            304\n",
      "balcony                 304\n",
      "locality_name           304\n",
      "airports_nearest        279\n",
      "cityCenters_nearest     282\n",
      "parks_around3000        282\n",
      "parks_nearest           207\n",
      "ponds_around3000        282\n",
      "ponds_nearest           204\n",
      "days_exposition         304\n",
      "dtype: int64\n",
      "total_images            3\n",
      "last_price              3\n",
      "total_area              3\n",
      "first_day_exposition    3\n",
      "rooms                   3\n",
      "ceiling_height          3\n",
      "floors_total            3\n",
      "living_area             3\n",
      "floor                   3\n",
      "is_apartment            3\n",
      "studio                  3\n",
      "open_plan               3\n",
      "kitchen_area            3\n",
      "balcony                 3\n",
      "locality_name           3\n",
      "airports_nearest        2\n",
      "cityCenters_nearest     2\n",
      "parks_around3000        2\n",
      "parks_nearest           1\n",
      "ponds_around3000        2\n",
      "ponds_nearest           2\n",
      "days_exposition         3\n",
      "dtype: int64\n"
     ]
    }
   ],
   "source": [
    "#print(data.query('ceiling_height == 100'))\n",
    "print(data.query('ceiling_height > 3.5').count())\n",
    "print(data.query('ceiling_height < 2.0').count())"
   ]
  },
  {
   "cell_type": "markdown",
   "metadata": {},
   "source": [
    "В итоге жилья с потолками свыше 3.5 м 304 шт, а домов с потолками меньше 2.0м 3 шт. (в целом это 1,2% данных). Заменим все потолки выше 3.5 метров средним (mean = 2.7), а потолки ниже 1,8 на 2 метра, чтобы не удалять строки."
   ]
  },
  {
   "cell_type": "code",
   "execution_count": 20,
   "metadata": {},
   "outputs": [
    {
     "data": {
      "text/plain": [
       "count    23699.000000\n",
       "mean         2.683201\n",
       "std          0.175420\n",
       "min          2.000000\n",
       "25%          2.600000\n",
       "50%          2.650000\n",
       "75%          2.700000\n",
       "max          3.500000\n",
       "Name: ceiling_height, dtype: float64"
      ]
     },
     "execution_count": 20,
     "metadata": {},
     "output_type": "execute_result"
    }
   ],
   "source": [
    "def change_height(row):\n",
    "    if row > 3.5:\n",
    "        return 2.7\n",
    "    elif row < 2.0:\n",
    "        return 2.0 \n",
    "    else: \n",
    "        return row\n",
    "        \n",
    "data['ceiling_height'] = data['ceiling_height'].apply(change_height)\n",
    "data['ceiling_height'].describe()"
   ]
  },
  {
   "cell_type": "code",
   "execution_count": 21,
   "metadata": {},
   "outputs": [
    {
     "data": {
      "text/plain": [
       "<AxesSubplot:>"
      ]
     },
     "execution_count": 21,
     "metadata": {},
     "output_type": "execute_result"
    },
    {
     "data": {
      "image/png": "[encoded data removed]",
      "text/plain": [
       "<Figure size 432x288 with 1 Axes>"
      ]
     },
     "metadata": {
      "needs_background": "light"
     },
     "output_type": "display_data"
    }
   ],
   "source": [
    "data['ceiling_height'].hist(bins=10)"
   ]
  },
  {
   "cell_type": "markdown",
   "metadata": {},
   "source": [
    "2.4.3 Оценим аномалии в floors_total, жилых зданий в 60 этажей в СПб и ЛО 0 шт, не жилых выше 35 этажей тоже можно по пальцам пересчитать, максимум 36 этажей в доме на Обуховской обороны, и в объявлении так же указан максимальный этаж недвижимости 33. Оценим сумму и объем аномалий:"
   ]
  },
  {
   "cell_type": "code",
   "execution_count": 22,
   "metadata": {},
   "outputs": [
    {
     "data": {
      "text/plain": [
       "<AxesSubplot:ylabel='Frequency'>"
      ]
     },
     "execution_count": 22,
     "metadata": {},
     "output_type": "execute_result"
    },
    {
     "data": {
      "image/png": "[encoded data removed]",
      "text/plain": [
       "<Figure size 432x288 with 1 Axes>"
      ]
     },
     "metadata": {
      "needs_background": "light"
     },
     "output_type": "display_data"
    },
    {
     "data": {
      "image/png": "[encoded data removed]",
      "text/plain": [
       "<Figure size 360x216 with 1 Axes>"
      ]
     },
     "metadata": {
      "needs_background": "light"
     },
     "output_type": "display_data"
    }
   ],
   "source": [
    "#print(data.query('floors_total > 35').count())\n",
    "#print(data.query('floors_total == 60'))\n",
    "\n",
    "plt.boxplot(data['floors_total'])\n",
    "plt.ylim(1,60)\n",
    "\n",
    "#составим гистограмму\n",
    "data.plot(y = 'floors_total', kind = 'hist', bins = 30, grid=True, figsize = (5,3), range = (0,60))"
   ]
  },
  {
   "cell_type": "markdown",
   "metadata": {},
   "source": [
    "В целом на гистограмме видно, что самыми популярными домами в СПб и ЛО являются 5-этажные, 9-этажные дома. Медианное значение на 9 этажах.По диаграмме размаха квартиль лежит до 30 этажей. Отсортируем данные до 29 этажа и запишев в good_data"
   ]
  },
  {
   "cell_type": "code",
   "execution_count": 23,
   "metadata": {},
   "outputs": [
    {
     "data": {
      "text/plain": [
       "<AxesSubplot:ylabel='Frequency'>"
      ]
     },
     "execution_count": 23,
     "metadata": {},
     "output_type": "execute_result"
    },
    {
     "data": {
      "image/png": "[encoded data removed]",
      "text/plain": [
       "<Figure size 360x216 with 1 Axes>"
      ]
     },
     "metadata": {
      "needs_background": "light"
     },
     "output_type": "display_data"
    }
   ],
   "source": [
    "#отсечем выбивающиеся значения\n",
    "good_data = data.query('floors_total <= 29')\n",
    "\n",
    "#проверим объем\n",
    "good_data['floors_total'].shape[0]/ data['floors_total'].shape[0]\n",
    "\n",
    "#гистограмма по новым данным\n",
    "good_data.plot(y = 'floors_total', kind = 'hist', bins = 30, grid=True, figsize = (5,3), range = (0,60))"
   ]
  },
  {
   "cell_type": "markdown",
   "metadata": {},
   "source": [
    "Менее 1% убрано из данных. Есть большие значения данных по этажам, но я списываю на то, что в городе типовые застройки (в 5, 9, 16 этажей - это как раз пики на гистограмме, все что выше-уже новостройки, там есть разброс в числе этажей, но в целом широкой палитры этажности в городе - нет, поэтому оставляю столбец с этими пиками на 5-9 и 16 этажах так, как есть)."
   ]
  },
  {
   "cell_type": "markdown",
   "metadata": {},
   "source": [
    "2.4.4 Переходим к анализу airports_nearest, cityCenters_nearest,parks_nearest,ponds_nearest, странные расстояния больше чем в несколько 1000 км. Выведем на экран в каких населенных пунктах какое расстояние до аэропорта указано:"
   ]
  },
  {
   "cell_type": "code",
   "execution_count": 24,
   "metadata": {},
   "outputs": [
    {
     "name": "stdout",
     "output_type": "stream",
     "text": [
      "               airports_nearest\n",
      "locality_name                  \n",
      "unknown            24572.341463\n",
      "Зеленогорск        73300.250000\n",
      "Колпино            26375.863501\n",
      "Красное Село       26595.579545\n",
      "Кронштадт          67469.263158\n",
      "Ломоносов          48308.280303\n",
      "Мурино             51553.000000\n",
      "Павловск           21053.342105\n",
      "Парголово          53994.926606\n",
      "Петергоф           40184.676617\n",
      "total_images            1532\n",
      "last_price              1532\n",
      "total_area              1532\n",
      "first_day_exposition    1532\n",
      "rooms                   1532\n",
      "ceiling_height          1532\n",
      "floors_total            1532\n",
      "living_area             1431\n",
      "floor                   1532\n",
      "is_apartment            1532\n",
      "studio                  1532\n",
      "open_plan               1532\n",
      "kitchen_area            1532\n",
      "balcony                 1532\n",
      "locality_name           1532\n",
      "airports_nearest        1532\n",
      "cityCenters_nearest     1532\n",
      "parks_around3000        1532\n",
      "parks_nearest            845\n",
      "ponds_around3000        1532\n",
      "ponds_nearest            738\n",
      "days_exposition         1532\n",
      "dtype: int64\n"
     ]
    },
    {
     "data": {
      "image/png": "[encoded data removed]",
      "text/plain": [
       "<Figure size 432x288 with 1 Axes>"
      ]
     },
     "metadata": {
      "needs_background": "light"
     },
     "output_type": "display_data"
    }
   ],
   "source": [
    "#сводная по поселкам и расстоянию\n",
    "airports_nearest_inormal = data.pivot_table(index='locality_name', values='airports_nearest', aggfunc='mean')\n",
    "\n",
    "airports_nearest_inormal.hist(bins=70)\n",
    "print(airports_nearest_inormal.head(10))\n",
    "print(data.query('25000 < airports_nearest < 28000').count())"
   ]
  },
  {
   "cell_type": "markdown",
   "metadata": {},
   "source": [
    "Странно, от Петергофа до Пулково-43 км, от Зеленогорска 82 км, от Колпино 26, от Парголово 53 км. А тут данные в тысячах. Кажется, данные указаны в метрах. c CityCenters_nearest то же самое. Пока значения пусть останутся такими, далее для анализа будут созданы отдельные столбцы с преобразованными данными"
   ]
  },
  {
   "cell_type": "code",
   "execution_count": 25,
   "metadata": {},
   "outputs": [
    {
     "data": {
      "text/plain": [
       "count    18180.000000\n",
       "mean        14.191278\n",
       "std          8.608386\n",
       "min          0.181000\n",
       "25%          9.238000\n",
       "50%         13.098500\n",
       "75%         16.293000\n",
       "max         65.968000\n",
       "Name: cityCenters_nearest, dtype: float64"
      ]
     },
     "execution_count": 25,
     "metadata": {},
     "output_type": "execute_result"
    }
   ],
   "source": [
    "#поделим все значения, кроме Nan на 1000м\n",
    "def airports_nearest(x):\n",
    "    if x > 0:\n",
    "        return x / 1000\n",
    "    else: \n",
    "        return x    \n",
    "data['airports_nearest'] = data['airports_nearest'].apply(airports_nearest)\n",
    "\n",
    "#проверка\n",
    "data['airports_nearest'].describe()\n",
    "\n",
    "#сделаем то же самое для CityCenters_nearest\n",
    "def citycenter_nearest(x):\n",
    "    if x > 0:\n",
    "        return x / 1000\n",
    "    else: \n",
    "        return x   \n",
    "\n",
    "data['cityCenters_nearest'] = data['cityCenters_nearest'].apply(citycenter_nearest)\n",
    "\n",
    "#проверка\n",
    "data['cityCenters_nearest'].describe()"
   ]
  },
  {
   "cell_type": "markdown",
   "metadata": {},
   "source": [
    "Расстояние до аэропорта и города теперь в км, расстояние до парков и водоемов в в метрах\n",
    "Nan в столбцах с расстоянием и эатажами останутся, при анализе отбросим эти значения\n",
    "Переходим к созданию новых колонок для анализа."
   ]
  },
  {
   "cell_type": "markdown",
   "metadata": {},
   "source": [
    "2.4.5 Анализ столбца стоимости квартиры last_price. Из-за большого числа нулей не удобно считать данные. Посмотрим какие цифры тут:"
   ]
  },
  {
   "cell_type": "code",
   "execution_count": 26,
   "metadata": {},
   "outputs": [
    {
     "name": "stdout",
     "output_type": "stream",
     "text": [
      "0        13000000\n",
      "1         3350000\n",
      "2         5196000\n",
      "3        64900000\n",
      "4        10000000\n",
      "           ...   \n",
      "23694     9700000\n",
      "23695     3100000\n",
      "23696     2500000\n",
      "23697    11475000\n",
      "23698     1350000\n",
      "Name: last_price, Length: 23699, dtype: int64\n"
     ]
    }
   ],
   "source": [
    "print(data['last_price'])"
   ]
  },
  {
   "cell_type": "markdown",
   "metadata": {},
   "source": [
    "Переведем из числа из 1 350 000 в 1.35 млн, чтобы было удобнее работать с данными, оценим разброс и значения:"
   ]
  },
  {
   "cell_type": "code",
   "execution_count": 27,
   "metadata": {},
   "outputs": [
    {
     "data": {
      "text/plain": [
       "count    23699.000000\n",
       "mean         6.541549\n",
       "std         10.887013\n",
       "min          0.012190\n",
       "25%          3.400000\n",
       "50%          4.650000\n",
       "75%          6.800000\n",
       "max        763.000000\n",
       "Name: last_price, dtype: float64"
      ]
     },
     "execution_count": 27,
     "metadata": {},
     "output_type": "execute_result"
    },
    {
     "data": {
      "image/png": "[encoded data removed]",
      "text/plain": [
       "<Figure size 432x288 with 1 Axes>"
      ]
     },
     "metadata": {
      "needs_background": "light"
     },
     "output_type": "display_data"
    },
    {
     "data": {
      "image/png": "[encoded data removed]",
      "text/plain": [
       "<Figure size 360x216 with 1 Axes>"
      ]
     },
     "metadata": {
      "needs_background": "light"
     },
     "output_type": "display_data"
    }
   ],
   "source": [
    "#сократим числа, убрав нули\n",
    "def price(x):\n",
    "    if x > 0:\n",
    "        return x / 1000000\n",
    "    else: \n",
    "        return x    \n",
    "data['last_price'] = data['last_price'].apply(price)\n",
    "\n",
    "round(data['last_price'],3)\n",
    "\n",
    "#составим диаграмму размаха значений\n",
    "plt.boxplot(data['last_price'])\n",
    "plt.ylim(0,15)\n",
    "\n",
    "#составим гистограмму\n",
    "data.plot(y = 'last_price', kind = 'hist', bins = 5, grid=True, figsize = (5,3), range = (0,10))\n",
    "\n",
    "#оценка значений\n",
    "data['last_price'].describe()\n"
   ]
  },
  {
   "cell_type": "markdown",
   "metadata": {},
   "source": [
    "Средняя стоимость жилья 6.54 млн, минимальная 121 тыс., максимальная 763 млн. Квартильный размах от 0 до 12 млн. Возьмем эта данные для анализа и отсечем выбивающиеся значения."
   ]
  },
  {
   "cell_type": "code",
   "execution_count": 28,
   "metadata": {},
   "outputs": [
    {
     "data": {
      "text/plain": [
       "0.9180978100341787"
      ]
     },
     "execution_count": 28,
     "metadata": {},
     "output_type": "execute_result"
    }
   ],
   "source": [
    "#отсечем выбивающиеся значения\n",
    "good_data = data.query('last_price <= 12')\n",
    "\n",
    "#проверим объем\n",
    "good_data['last_price'].shape[0]/ data['last_price'].shape[0]\n",
    "\n",
    "#проверим распределение значений\n",
    "#good_data.plot(y = 'last_price', kind = 'hist', bins = 5, grid=True, figsize = (5,3), range = (0,10))"
   ]
  },
  {
   "cell_type": "markdown",
   "metadata": {},
   "source": [
    "Убрано около 9% данных. "
   ]
  },
  {
   "cell_type": "markdown",
   "metadata": {},
   "source": [
    "2.4.6 Рассмотрим данные в столбце rooms "
   ]
  },
  {
   "cell_type": "code",
   "execution_count": 29,
   "metadata": {},
   "outputs": [
    {
     "data": {
      "text/plain": [
       "count    23699.000000\n",
       "mean         2.070636\n",
       "std          1.078405\n",
       "min          0.000000\n",
       "25%          1.000000\n",
       "50%          2.000000\n",
       "75%          3.000000\n",
       "max         19.000000\n",
       "Name: rooms, dtype: float64"
      ]
     },
     "execution_count": 29,
     "metadata": {},
     "output_type": "execute_result"
    },
    {
     "data": {
      "image/png": "[encoded data removed]",
      "text/plain": [
       "<Figure size 432x288 with 1 Axes>"
      ]
     },
     "metadata": {
      "needs_background": "light"
     },
     "output_type": "display_data"
    },
    {
     "data": {
      "image/png": "[encoded data removed]",
      "text/plain": [
       "<Figure size 360x216 with 1 Axes>"
      ]
     },
     "metadata": {
      "needs_background": "light"
     },
     "output_type": "display_data"
    }
   ],
   "source": [
    "plt.boxplot(data['rooms'])\n",
    "plt.ylim(1,15)\n",
    "\n",
    "#составим гистограмму\n",
    "data.plot(y = 'rooms', kind = 'hist', bins = 20, grid=True, figsize = (5,3), range = (0,20))\n",
    "\n",
    "data['rooms'].describe()"
   ]
  },
  {
   "cell_type": "markdown",
   "metadata": {},
   "source": [
    "Максимальное число комнат 19, возможно это коммунальные квартиры дают такой показать, минимальное - 0, возможно это студии. В среднем число комнат = 2. Квартильный размах от 0 до 6. Отсечем все лишние значения."
   ]
  },
  {
   "cell_type": "code",
   "execution_count": 30,
   "metadata": {},
   "outputs": [
    {
     "data": {
      "text/plain": [
       "0.9962023714080763"
      ]
     },
     "execution_count": 30,
     "metadata": {},
     "output_type": "execute_result"
    }
   ],
   "source": [
    "#отсечем выбивающиеся значения\n",
    "good_data = data.query('rooms <= 6')\n",
    "\n",
    "#проверим объем\n",
    "good_data['rooms'].shape[0]/ data['rooms'].shape[0]"
   ]
  },
  {
   "cell_type": "markdown",
   "metadata": {},
   "source": [
    "Удалено менее 1% данных"
   ]
  },
  {
   "cell_type": "markdown",
   "metadata": {},
   "source": [
    "### Посчитайте и добавьте в таблицу новые столбцы"
   ]
  },
  {
   "cell_type": "markdown",
   "metadata": {},
   "source": [
    "3. Добавим в таблицу новые столбцы со следующими параметрами:\n",
    "\n",
    "-цена одного квадратного метра;\n",
    "-день недели публикации объявления (0 — понедельник, 1 — вторник и так далее);\n",
    "-месяц публикации объявления;\n",
    "-год публикации объявления;\n",
    "-тип этажа квартиры (значения — «первый», «последний», «другой»);\n",
    "-расстояние до центра города в километрах (переведите из м в км и округлите до целых значений)."
   ]
  },
  {
   "cell_type": "code",
   "execution_count": 31,
   "metadata": {},
   "outputs": [
    {
     "name": "stderr",
     "output_type": "stream",
     "text": [
      "/tmp/ipykernel_303/1851157227.py:2: SettingWithCopyWarning: \n",
      "A value is trying to be set on a copy of a slice from a DataFrame.\n",
      "Try using .loc[row_indexer,col_indexer] = value instead\n",
      "\n",
      "See the caveats in the documentation: https://pandas.pydata.org/pandas-docs/stable/user_guide/indexing.html#returning-a-view-versus-a-copy\n",
      "  good_data['price_per_square_meter'] = data['last_price'] / data['total_area']\n",
      "/tmp/ipykernel_303/1851157227.py:5: SettingWithCopyWarning: \n",
      "A value is trying to be set on a copy of a slice from a DataFrame.\n",
      "Try using .loc[row_indexer,col_indexer] = value instead\n",
      "\n",
      "See the caveats in the documentation: https://pandas.pydata.org/pandas-docs/stable/user_guide/indexing.html#returning-a-view-versus-a-copy\n",
      "  good_data['price_per_square_meter'] = good_data['price_per_square_meter'].round(decimals=2)\n",
      "/tmp/ipykernel_303/1851157227.py:8: SettingWithCopyWarning: \n",
      "A value is trying to be set on a copy of a slice from a DataFrame.\n",
      "Try using .loc[row_indexer,col_indexer] = value instead\n",
      "\n",
      "See the caveats in the documentation: https://pandas.pydata.org/pandas-docs/stable/user_guide/indexing.html#returning-a-view-versus-a-copy\n",
      "  good_data['weekday_exposition'] = data['first_day_exposition'].dt.weekday\n",
      "/tmp/ipykernel_303/1851157227.py:11: SettingWithCopyWarning: \n",
      "A value is trying to be set on a copy of a slice from a DataFrame.\n",
      "Try using .loc[row_indexer,col_indexer] = value instead\n",
      "\n",
      "See the caveats in the documentation: https://pandas.pydata.org/pandas-docs/stable/user_guide/indexing.html#returning-a-view-versus-a-copy\n",
      "  good_data['month_exposition'] = data['first_day_exposition'].dt.month\n",
      "/tmp/ipykernel_303/1851157227.py:14: SettingWithCopyWarning: \n",
      "A value is trying to be set on a copy of a slice from a DataFrame.\n",
      "Try using .loc[row_indexer,col_indexer] = value instead\n",
      "\n",
      "See the caveats in the documentation: https://pandas.pydata.org/pandas-docs/stable/user_guide/indexing.html#returning-a-view-versus-a-copy\n",
      "  good_data['year_exposition'] = data['first_day_exposition'].dt.year\n",
      "/tmp/ipykernel_303/1851157227.py:28: SettingWithCopyWarning: \n",
      "A value is trying to be set on a copy of a slice from a DataFrame.\n",
      "Try using .loc[row_indexer,col_indexer] = value instead\n",
      "\n",
      "See the caveats in the documentation: https://pandas.pydata.org/pandas-docs/stable/user_guide/indexing.html#returning-a-view-versus-a-copy\n",
      "  good_data['floor_category'] = good_data.apply(floor_category, axis = 1)\n",
      "/tmp/ipykernel_303/1851157227.py:31: SettingWithCopyWarning: \n",
      "A value is trying to be set on a copy of a slice from a DataFrame.\n",
      "Try using .loc[row_indexer,col_indexer] = value instead\n",
      "\n",
      "See the caveats in the documentation: https://pandas.pydata.org/pandas-docs/stable/user_guide/indexing.html#returning-a-view-versus-a-copy\n",
      "  good_data['living_area_ratio'] = data['living_area'] / data['total_area']\n",
      "/tmp/ipykernel_303/1851157227.py:34: SettingWithCopyWarning: \n",
      "A value is trying to be set on a copy of a slice from a DataFrame.\n",
      "Try using .loc[row_indexer,col_indexer] = value instead\n",
      "\n",
      "See the caveats in the documentation: https://pandas.pydata.org/pandas-docs/stable/user_guide/indexing.html#returning-a-view-versus-a-copy\n",
      "  good_data['kitchen_area_ratio'] = data['kitchen_area'] / data['total_area']\n",
      "/tmp/ipykernel_303/1851157227.py:37: SettingWithCopyWarning: \n",
      "A value is trying to be set on a copy of a slice from a DataFrame.\n",
      "Try using .loc[row_indexer,col_indexer] = value instead\n",
      "\n",
      "See the caveats in the documentation: https://pandas.pydata.org/pandas-docs/stable/user_guide/indexing.html#returning-a-view-versus-a-copy\n",
      "  good_data['cityCenters_km'] = data['cityCenters_nearest'].round(decimals=1)\n"
     ]
    },
    {
     "data": {
      "text/html": [
       "<div>\n",
       "<style scoped>\n",
       "    .dataframe tbody tr th:only-of-type {\n",
       "        vertical-align: middle;\n",
       "    }\n",
       "\n",
       "    .dataframe tbody tr th {\n",
       "        vertical-align: top;\n",
       "    }\n",
       "\n",
       "    .dataframe thead th {\n",
       "        text-align: right;\n",
       "    }\n",
       "</style>\n",
       "<table border=\"1\" class=\"dataframe\">\n",
       "  <thead>\n",
       "    <tr style=\"text-align: right;\">\n",
       "      <th></th>\n",
       "      <th>total_images</th>\n",
       "      <th>last_price</th>\n",
       "      <th>total_area</th>\n",
       "      <th>first_day_exposition</th>\n",
       "      <th>rooms</th>\n",
       "      <th>ceiling_height</th>\n",
       "      <th>floors_total</th>\n",
       "      <th>living_area</th>\n",
       "      <th>floor</th>\n",
       "      <th>is_apartment</th>\n",
       "      <th>...</th>\n",
       "      <th>ponds_nearest</th>\n",
       "      <th>days_exposition</th>\n",
       "      <th>price_per_square_meter</th>\n",
       "      <th>weekday_exposition</th>\n",
       "      <th>month_exposition</th>\n",
       "      <th>year_exposition</th>\n",
       "      <th>floor_category</th>\n",
       "      <th>living_area_ratio</th>\n",
       "      <th>kitchen_area_ratio</th>\n",
       "      <th>cityCenters_km</th>\n",
       "    </tr>\n",
       "  </thead>\n",
       "  <tbody>\n",
       "    <tr>\n",
       "      <th>0</th>\n",
       "      <td>20</td>\n",
       "      <td>13.000</td>\n",
       "      <td>108.00</td>\n",
       "      <td>2019-03-07</td>\n",
       "      <td>3</td>\n",
       "      <td>2.70</td>\n",
       "      <td>16</td>\n",
       "      <td>51.0</td>\n",
       "      <td>8</td>\n",
       "      <td>False</td>\n",
       "      <td>...</td>\n",
       "      <td>755.0</td>\n",
       "      <td>57</td>\n",
       "      <td>0.12</td>\n",
       "      <td>3</td>\n",
       "      <td>3</td>\n",
       "      <td>2019</td>\n",
       "      <td>другой</td>\n",
       "      <td>0.472222</td>\n",
       "      <td>0.231481</td>\n",
       "      <td>16.0</td>\n",
       "    </tr>\n",
       "    <tr>\n",
       "      <th>1</th>\n",
       "      <td>7</td>\n",
       "      <td>3.350</td>\n",
       "      <td>40.40</td>\n",
       "      <td>2018-12-04</td>\n",
       "      <td>1</td>\n",
       "      <td>2.65</td>\n",
       "      <td>11</td>\n",
       "      <td>18.6</td>\n",
       "      <td>1</td>\n",
       "      <td>False</td>\n",
       "      <td>...</td>\n",
       "      <td>NaN</td>\n",
       "      <td>81</td>\n",
       "      <td>0.08</td>\n",
       "      <td>1</td>\n",
       "      <td>12</td>\n",
       "      <td>2018</td>\n",
       "      <td>первый</td>\n",
       "      <td>0.460396</td>\n",
       "      <td>0.272277</td>\n",
       "      <td>18.6</td>\n",
       "    </tr>\n",
       "    <tr>\n",
       "      <th>2</th>\n",
       "      <td>10</td>\n",
       "      <td>5.196</td>\n",
       "      <td>56.00</td>\n",
       "      <td>2015-08-20</td>\n",
       "      <td>2</td>\n",
       "      <td>2.65</td>\n",
       "      <td>5</td>\n",
       "      <td>34.3</td>\n",
       "      <td>4</td>\n",
       "      <td>False</td>\n",
       "      <td>...</td>\n",
       "      <td>574.0</td>\n",
       "      <td>558</td>\n",
       "      <td>0.09</td>\n",
       "      <td>3</td>\n",
       "      <td>8</td>\n",
       "      <td>2015</td>\n",
       "      <td>другой</td>\n",
       "      <td>0.612500</td>\n",
       "      <td>0.148214</td>\n",
       "      <td>13.9</td>\n",
       "    </tr>\n",
       "    <tr>\n",
       "      <th>3</th>\n",
       "      <td>0</td>\n",
       "      <td>64.900</td>\n",
       "      <td>159.00</td>\n",
       "      <td>2015-07-24</td>\n",
       "      <td>3</td>\n",
       "      <td>2.65</td>\n",
       "      <td>14</td>\n",
       "      <td>NaN</td>\n",
       "      <td>9</td>\n",
       "      <td>False</td>\n",
       "      <td>...</td>\n",
       "      <td>234.0</td>\n",
       "      <td>424</td>\n",
       "      <td>0.41</td>\n",
       "      <td>4</td>\n",
       "      <td>7</td>\n",
       "      <td>2015</td>\n",
       "      <td>другой</td>\n",
       "      <td>NaN</td>\n",
       "      <td>0.057233</td>\n",
       "      <td>6.8</td>\n",
       "    </tr>\n",
       "    <tr>\n",
       "      <th>4</th>\n",
       "      <td>2</td>\n",
       "      <td>10.000</td>\n",
       "      <td>100.00</td>\n",
       "      <td>2018-06-19</td>\n",
       "      <td>2</td>\n",
       "      <td>3.03</td>\n",
       "      <td>14</td>\n",
       "      <td>32.0</td>\n",
       "      <td>13</td>\n",
       "      <td>False</td>\n",
       "      <td>...</td>\n",
       "      <td>48.0</td>\n",
       "      <td>121</td>\n",
       "      <td>0.10</td>\n",
       "      <td>1</td>\n",
       "      <td>6</td>\n",
       "      <td>2018</td>\n",
       "      <td>другой</td>\n",
       "      <td>0.320000</td>\n",
       "      <td>0.410000</td>\n",
       "      <td>8.1</td>\n",
       "    </tr>\n",
       "    <tr>\n",
       "      <th>...</th>\n",
       "      <td>...</td>\n",
       "      <td>...</td>\n",
       "      <td>...</td>\n",
       "      <td>...</td>\n",
       "      <td>...</td>\n",
       "      <td>...</td>\n",
       "      <td>...</td>\n",
       "      <td>...</td>\n",
       "      <td>...</td>\n",
       "      <td>...</td>\n",
       "      <td>...</td>\n",
       "      <td>...</td>\n",
       "      <td>...</td>\n",
       "      <td>...</td>\n",
       "      <td>...</td>\n",
       "      <td>...</td>\n",
       "      <td>...</td>\n",
       "      <td>...</td>\n",
       "      <td>...</td>\n",
       "      <td>...</td>\n",
       "      <td>...</td>\n",
       "    </tr>\n",
       "    <tr>\n",
       "      <th>23694</th>\n",
       "      <td>9</td>\n",
       "      <td>9.700</td>\n",
       "      <td>133.81</td>\n",
       "      <td>2017-03-21</td>\n",
       "      <td>3</td>\n",
       "      <td>2.70</td>\n",
       "      <td>5</td>\n",
       "      <td>73.3</td>\n",
       "      <td>3</td>\n",
       "      <td>False</td>\n",
       "      <td>...</td>\n",
       "      <td>381.0</td>\n",
       "      <td>773</td>\n",
       "      <td>0.07</td>\n",
       "      <td>1</td>\n",
       "      <td>3</td>\n",
       "      <td>2017</td>\n",
       "      <td>другой</td>\n",
       "      <td>0.547792</td>\n",
       "      <td>0.103356</td>\n",
       "      <td>4.2</td>\n",
       "    </tr>\n",
       "    <tr>\n",
       "      <th>23695</th>\n",
       "      <td>14</td>\n",
       "      <td>3.100</td>\n",
       "      <td>59.00</td>\n",
       "      <td>2018-01-15</td>\n",
       "      <td>3</td>\n",
       "      <td>2.65</td>\n",
       "      <td>5</td>\n",
       "      <td>38.0</td>\n",
       "      <td>4</td>\n",
       "      <td>False</td>\n",
       "      <td>...</td>\n",
       "      <td>NaN</td>\n",
       "      <td>45</td>\n",
       "      <td>0.05</td>\n",
       "      <td>0</td>\n",
       "      <td>1</td>\n",
       "      <td>2018</td>\n",
       "      <td>другой</td>\n",
       "      <td>0.644068</td>\n",
       "      <td>0.144068</td>\n",
       "      <td>NaN</td>\n",
       "    </tr>\n",
       "    <tr>\n",
       "      <th>23696</th>\n",
       "      <td>18</td>\n",
       "      <td>2.500</td>\n",
       "      <td>56.70</td>\n",
       "      <td>2018-02-11</td>\n",
       "      <td>2</td>\n",
       "      <td>2.65</td>\n",
       "      <td>3</td>\n",
       "      <td>29.7</td>\n",
       "      <td>1</td>\n",
       "      <td>False</td>\n",
       "      <td>...</td>\n",
       "      <td>NaN</td>\n",
       "      <td>446</td>\n",
       "      <td>0.04</td>\n",
       "      <td>6</td>\n",
       "      <td>2</td>\n",
       "      <td>2018</td>\n",
       "      <td>первый</td>\n",
       "      <td>0.523810</td>\n",
       "      <td>0.160494</td>\n",
       "      <td>NaN</td>\n",
       "    </tr>\n",
       "    <tr>\n",
       "      <th>23697</th>\n",
       "      <td>13</td>\n",
       "      <td>11.475</td>\n",
       "      <td>76.75</td>\n",
       "      <td>2017-03-28</td>\n",
       "      <td>2</td>\n",
       "      <td>3.00</td>\n",
       "      <td>17</td>\n",
       "      <td>NaN</td>\n",
       "      <td>12</td>\n",
       "      <td>False</td>\n",
       "      <td>...</td>\n",
       "      <td>196.0</td>\n",
       "      <td>602</td>\n",
       "      <td>0.15</td>\n",
       "      <td>1</td>\n",
       "      <td>3</td>\n",
       "      <td>2017</td>\n",
       "      <td>другой</td>\n",
       "      <td>NaN</td>\n",
       "      <td>0.303583</td>\n",
       "      <td>10.4</td>\n",
       "    </tr>\n",
       "    <tr>\n",
       "      <th>23698</th>\n",
       "      <td>4</td>\n",
       "      <td>1.350</td>\n",
       "      <td>32.30</td>\n",
       "      <td>2017-07-21</td>\n",
       "      <td>1</td>\n",
       "      <td>2.50</td>\n",
       "      <td>5</td>\n",
       "      <td>12.3</td>\n",
       "      <td>1</td>\n",
       "      <td>False</td>\n",
       "      <td>...</td>\n",
       "      <td>NaN</td>\n",
       "      <td>651</td>\n",
       "      <td>0.04</td>\n",
       "      <td>4</td>\n",
       "      <td>7</td>\n",
       "      <td>2017</td>\n",
       "      <td>первый</td>\n",
       "      <td>0.380805</td>\n",
       "      <td>0.278638</td>\n",
       "      <td>NaN</td>\n",
       "    </tr>\n",
       "  </tbody>\n",
       "</table>\n",
       "<p>23609 rows × 30 columns</p>\n",
       "</div>"
      ],
      "text/plain": [
       "       total_images  last_price  total_area first_day_exposition  rooms  \\\n",
       "0                20      13.000      108.00           2019-03-07      3   \n",
       "1                 7       3.350       40.40           2018-12-04      1   \n",
       "2                10       5.196       56.00           2015-08-20      2   \n",
       "3                 0      64.900      159.00           2015-07-24      3   \n",
       "4                 2      10.000      100.00           2018-06-19      2   \n",
       "...             ...         ...         ...                  ...    ...   \n",
       "23694             9       9.700      133.81           2017-03-21      3   \n",
       "23695            14       3.100       59.00           2018-01-15      3   \n",
       "23696            18       2.500       56.70           2018-02-11      2   \n",
       "23697            13      11.475       76.75           2017-03-28      2   \n",
       "23698             4       1.350       32.30           2017-07-21      1   \n",
       "\n",
       "       ceiling_height  floors_total  living_area  floor is_apartment  ...  \\\n",
       "0                2.70            16         51.0      8        False  ...   \n",
       "1                2.65            11         18.6      1        False  ...   \n",
       "2                2.65             5         34.3      4        False  ...   \n",
       "3                2.65            14          NaN      9        False  ...   \n",
       "4                3.03            14         32.0     13        False  ...   \n",
       "...               ...           ...          ...    ...          ...  ...   \n",
       "23694            2.70             5         73.3      3        False  ...   \n",
       "23695            2.65             5         38.0      4        False  ...   \n",
       "23696            2.65             3         29.7      1        False  ...   \n",
       "23697            3.00            17          NaN     12        False  ...   \n",
       "23698            2.50             5         12.3      1        False  ...   \n",
       "\n",
       "       ponds_nearest  days_exposition  price_per_square_meter  \\\n",
       "0              755.0               57                    0.12   \n",
       "1                NaN               81                    0.08   \n",
       "2              574.0              558                    0.09   \n",
       "3              234.0              424                    0.41   \n",
       "4               48.0              121                    0.10   \n",
       "...              ...              ...                     ...   \n",
       "23694          381.0              773                    0.07   \n",
       "23695            NaN               45                    0.05   \n",
       "23696            NaN              446                    0.04   \n",
       "23697          196.0              602                    0.15   \n",
       "23698            NaN              651                    0.04   \n",
       "\n",
       "       weekday_exposition month_exposition  year_exposition  floor_category  \\\n",
       "0                       3                3             2019          другой   \n",
       "1                       1               12             2018          первый   \n",
       "2                       3                8             2015          другой   \n",
       "3                       4                7             2015          другой   \n",
       "4                       1                6             2018          другой   \n",
       "...                   ...              ...              ...             ...   \n",
       "23694                   1                3             2017          другой   \n",
       "23695                   0                1             2018          другой   \n",
       "23696                   6                2             2018          первый   \n",
       "23697                   1                3             2017          другой   \n",
       "23698                   4                7             2017          первый   \n",
       "\n",
       "       living_area_ratio  kitchen_area_ratio  cityCenters_km  \n",
       "0               0.472222            0.231481            16.0  \n",
       "1               0.460396            0.272277            18.6  \n",
       "2               0.612500            0.148214            13.9  \n",
       "3                    NaN            0.057233             6.8  \n",
       "4               0.320000            0.410000             8.1  \n",
       "...                  ...                 ...             ...  \n",
       "23694           0.547792            0.103356             4.2  \n",
       "23695           0.644068            0.144068             NaN  \n",
       "23696           0.523810            0.160494             NaN  \n",
       "23697                NaN            0.303583            10.4  \n",
       "23698           0.380805            0.278638             NaN  \n",
       "\n",
       "[23609 rows x 30 columns]"
      ]
     },
     "metadata": {},
     "output_type": "display_data"
    }
   ],
   "source": [
    "#посчитаем цену квадратного метра\n",
    "good_data['price_per_square_meter'] = data['last_price'] / data['total_area']\n",
    "\n",
    "#округлим значения\n",
    "good_data['price_per_square_meter'] = good_data['price_per_square_meter'].round(decimals=2)\n",
    "\n",
    "#создадим столбец дня недели публикации\n",
    "good_data['weekday_exposition'] = data['first_day_exposition'].dt.weekday\n",
    "\n",
    "#создаю столбец месяца\n",
    "good_data['month_exposition'] = data['first_day_exposition'].dt.month\n",
    "\n",
    "#создаю столбец года\n",
    "good_data['year_exposition'] = data['first_day_exposition'].dt.year\n",
    "\n",
    "#напишем функцию категоризации по этажам, используя метод apply применимо к каждой строке датафрейма через axis = 1\n",
    "def floor_category(row):\n",
    "    floors_total = row['floors_total']\n",
    "    floor = row['floor']\n",
    "    if floor == 1:\n",
    "        return 'первый'\n",
    "    elif floor == floors_total:\n",
    "        return 'последний'\n",
    "    elif 1 < floor < floors_total:\n",
    "        return 'другой'\n",
    "    \n",
    "#категоризуем этажи с помощью функции  \n",
    "good_data['floor_category'] = good_data.apply(floor_category, axis = 1)\n",
    "\n",
    "#добавим столбец соотношения жилой плозади к общей\n",
    "good_data['living_area_ratio'] = data['living_area'] / data['total_area']\n",
    "\n",
    "#добавим столбец отношения площади кухни к общей\n",
    "good_data['kitchen_area_ratio'] = data['kitchen_area'] / data['total_area']\n",
    "\n",
    "#добавим столбец расстояния в км, округленный\n",
    "good_data['cityCenters_km'] = data['cityCenters_nearest'].round(decimals=1)\n",
    "\n",
    "#проверка\n",
    "display(good_data)"
   ]
  },
  {
   "cell_type": "markdown",
   "metadata": {},
   "source": [
    "### Проведите исследовательский анализ данных"
   ]
  },
  {
   "cell_type": "markdown",
   "metadata": {},
   "source": [
    "4.1 Изучим следующие параметры объектов:\n",
    "общая площадь;\n",
    "жилая площадь;\n",
    "площадь кухни;\n",
    "цена объекта;\n",
    "количество комнат;\n",
    "высота потолков;\n",
    "этаж квартиры;\n",
    "тип этажа квартиры («первый», «последний», «другой»);\n",
    "общее количество этажей в доме;\n",
    "расстояние до центра города в метрах;\n",
    "расстояние до ближайшего аэропорта;\n",
    "расстояние до ближайшего парка;\n",
    "день и месяц публикации объявления.\n",
    "Построим отдельные гистограммы для каждого из этих параметров."
   ]
  },
  {
   "cell_type": "code",
   "execution_count": 32,
   "metadata": {},
   "outputs": [
    {
     "data": {
      "text/plain": [
       "count    23699.000000\n",
       "mean         2.683201\n",
       "std          0.175420\n",
       "min          2.000000\n",
       "25%          2.600000\n",
       "50%          2.650000\n",
       "75%          2.700000\n",
       "max          3.500000\n",
       "Name: ceiling_height, dtype: float64"
      ]
     },
     "execution_count": 32,
     "metadata": {},
     "output_type": "execute_result"
    },
    {
     "data": {
      "image/png": "[encoded data removed]",
      "text/plain": [
       "<Figure size 360x216 with 1 Axes>"
      ]
     },
     "metadata": {
      "needs_background": "light"
     },
     "output_type": "display_data"
    },
    {
     "data": {
      "image/png": "[encoded data removed]",
      "text/plain": [
       "<Figure size 360x216 with 1 Axes>"
      ]
     },
     "metadata": {
      "needs_background": "light"
     },
     "output_type": "display_data"
    },
    {
     "data": {
      "image/png": "[encoded data removed]",
      "text/plain": [
       "<Figure size 360x216 with 1 Axes>"
      ]
     },
     "metadata": {
      "needs_background": "light"
     },
     "output_type": "display_data"
    },
    {
     "data": {
      "image/png": "[encoded data removed]",
      "text/plain": [
       "<Figure size 360x216 with 1 Axes>"
      ]
     },
     "metadata": {
      "needs_background": "light"
     },
     "output_type": "display_data"
    },
    {
     "data": {
      "image/png": "[encoded data removed]",
      "text/plain": [
       "<Figure size 360x216 with 1 Axes>"
      ]
     },
     "metadata": {
      "needs_background": "light"
     },
     "output_type": "display_data"
    },
    {
     "data": {
      "image/png": "[encoded data removed]",
      "text/plain": [
       "<Figure size 360x216 with 1 Axes>"
      ]
     },
     "metadata": {
      "needs_background": "light"
     },
     "output_type": "display_data"
    }
   ],
   "source": [
    "#изучим общую площадь\n",
    "data\n",
    "data.plot(y = 'total_area', kind = 'hist', bins = 100, grid=True, figsize = (5,3), range = (0,200))\n",
    "data['total_area'].describe()\n",
    "\n",
    "#изучим жилую площадь\n",
    "data.plot(y = 'living_area', kind = 'hist', bins = 100, grid=True, figsize = (5,3), range = (0,200))\n",
    "data['living_area'].describe()\n",
    "\n",
    "#изучим площадь кухни\n",
    "data.plot(y = 'kitchen_area', kind = 'hist', bins = 50, grid=True, figsize = (5,3), range = (0,50))\n",
    "data['kitchen_area'].describe()\n",
    "\n",
    "#изучим цену\n",
    "data.plot(y = 'last_price', kind = 'hist', bins = 100, grid=True, range = (0,15), figsize = (5,3))\n",
    "data['last_price'].describe()\n",
    "\n",
    "#изучим число комнат\n",
    "data['rooms']=data['rooms'].astype(int)\n",
    "data\n",
    "data.plot(y = 'rooms', kind = 'hist', bins = 30, grid=True, range =(0,8), figsize = (5,3))\n",
    "data['rooms'].describe()\n",
    "\n",
    "#изучим высоту потолков\n",
    "data\n",
    "data.plot(y = 'ceiling_height', kind = 'hist', bins = 30, range = (2,5), grid=True, figsize = (5,3))\n",
    "data['ceiling_height'].describe()"
   ]
  },
  {
   "cell_type": "markdown",
   "metadata": {},
   "source": [
    "Вывод:\n",
    "Общая площадь в выборке от 12 до 900 м.кв. Самые распространненные объекты с площзадью в 45 м.кв. Объектов от 30-45 кв.м. в 1,5 раза больше, чем кавартир с бОльшей площадью.\n",
    "Жилая площадь от 10 до 100 м.кв., в среднем либо около 17, либо около 30 м.кв.\n",
    "Площадь кухни от 3 до 50 м.кв, в среднем около 9-10 м.кв. \n",
    "Цены на недвижимость варьируются от 0 до 17 млн. Стоимость в среднем от 3 до 6 млн.руб. Распределение данных Гаусса.\n",
    "Число комнат от 0 до 7. Самое распространеное жилье с 1-2 комнатами\n",
    "Высота потолков от 1.8 до 3.8 м. В среднем от 2.5-2.7 м. "
   ]
  },
  {
   "cell_type": "code",
   "execution_count": 33,
   "metadata": {},
   "outputs": [
    {
     "name": "stdout",
     "output_type": "stream",
     "text": [
      "другой       17357\n",
      "последний     3313\n",
      "первый        2907\n",
      "Name: floor_category, dtype: int64\n"
     ]
    },
    {
     "data": {
      "text/plain": [
       "<AxesSubplot:ylabel='Frequency'>"
      ]
     },
     "execution_count": 33,
     "metadata": {},
     "output_type": "execute_result"
    },
    {
     "data": {
      "image/png": "[encoded data removed]",
      "text/plain": [
       "<Figure size 216x360 with 1 Axes>"
      ]
     },
     "metadata": {
      "needs_background": "light"
     },
     "output_type": "display_data"
    },
    {
     "data": {
      "image/png": "[encoded data removed]",
      "text/plain": [
       "<Figure size 216x360 with 1 Axes>"
      ]
     },
     "metadata": {
      "needs_background": "light"
     },
     "output_type": "display_data"
    },
    {
     "data": {
      "image/png": "[encoded data removed]",
      "text/plain": [
       "<Figure size 216x360 with 1 Axes>"
      ]
     },
     "metadata": {
      "needs_background": "light"
     },
     "output_type": "display_data"
    },
    {
     "data": {
      "image/png": "[encoded data removed]",
      "text/plain": [
       "<Figure size 216x360 with 1 Axes>"
      ]
     },
     "metadata": {
      "needs_background": "light"
     },
     "output_type": "display_data"
    },
    {
     "data": {
      "image/png": "[encoded data removed]",
      "text/plain": [
       "<Figure size 216x360 with 1 Axes>"
      ]
     },
     "metadata": {
      "needs_background": "light"
     },
     "output_type": "display_data"
    },
    {
     "data": {
      "image/png": "[encoded data removed]",
      "text/plain": [
       "<Figure size 216x360 with 1 Axes>"
      ]
     },
     "metadata": {
      "needs_background": "light"
     },
     "output_type": "display_data"
    },
    {
     "data": {
      "image/png": "[encoded data removed]",
      "text/plain": [
       "<Figure size 216x360 with 1 Axes>"
      ]
     },
     "metadata": {
      "needs_background": "light"
     },
     "output_type": "display_data"
    }
   ],
   "source": [
    "#изучим этаж квартиры\n",
    "data.plot(y = 'floor', kind = 'hist', bins = 10, range = (0,30), grid=True, figsize = (3,5))\n",
    "data['floor'].describe()\n",
    "\n",
    "#тип этажа квартиры («первый», «последний», «другой»)\n",
    "floor_category = good_data['floor_category'].value_counts()\n",
    "print(floor_category)\n",
    "\n",
    "#общее количество этажей в доме\n",
    "data.plot(y = 'floors_total', kind = 'hist', bins = 20, range = (0,35), grid=True, figsize = (3,5))\n",
    "\n",
    "#расстояние до центра города в метрах\n",
    "data['cityCenters_nearest'].describe()\n",
    "data.plot(y = 'cityCenters_nearest', kind = 'hist', bins = 10, range = (0,60), grid=True, figsize = (3,5))\n",
    "\n",
    "#расстояние до ближайшего аэропорта\n",
    "data.plot(y = 'airports_nearest', kind = 'hist', bins = 30, range = (0,200), grid=True, figsize = (3,5))\n",
    "\n",
    "#расстояние до ближайшего парка\n",
    "data.plot(y = 'ponds_nearest', kind = 'hist', bins = 10, range = (0,1000), grid=True, figsize = (3,5))\n",
    "\n",
    "#месяц публикации объявления\n",
    "good_data.plot(y = 'month_exposition', kind = 'hist', bins = 10, range = (0,12), grid=True, figsize = (3,5))\n",
    "\n",
    "#день публикации\n",
    "good_data.plot(y = 'weekday_exposition', kind = 'hist', bins = 7, range = (0,7), grid=True, figsize = (3,5))"
   ]
  },
  {
   "cell_type": "markdown",
   "metadata": {},
   "source": [
    "Вывод: Только 12% недвижимости расположено на 1м или последнем этаже.  \n",
    "Больше 50% из них расположены в домах до 10 этажа, чаще всего недвижимость находится в 0-9 этаже\n",
    "Наиболее распространенные дома с 5 или 10 эатажами\n",
    "Расположение от центра варьируется от 0 до 50 км, большинство объектов находится на расстоянии 10-17 км от центра, чуть реже от 0-10, и совсем редко больше 20 км\n",
    "Распложение от аэропорта от 20-25 км, реже всего размещены объекты с отдаленностью больше 50 км\n",
    "Водоемы возле объектов недвижимости есть практически везде, в среднем они удалены на 250-750 м\n",
    "Пик сезона публикаций объявлений приходится на ноябрь-декабрь, чуть меньше всплеск в июле, спад сезона в мае и январе (февраль, март, апрель) чуть более популярен, чем (июль, август и сентябрь)\n",
    "По дням публикаций объявлений в в топе вт-вт-ср-чт, чуть меньше понедельник. Самыми непопулярными днями публикаций объявлений-пятница, суббота и воскресение."
   ]
  },
  {
   "cell_type": "markdown",
   "metadata": {},
   "source": [
    "4.2 Изучим, как быстро продавались квартиры (столбец days_exposition). Этот параметр показывает, сколько дней было размещено каждое объявление. "
   ]
  },
  {
   "cell_type": "code",
   "execution_count": 34,
   "metadata": {},
   "outputs": [
    {
     "data": {
      "text/plain": [
       "count    23679.000000\n",
       "mean       185.978673\n",
       "std        233.416900\n",
       "min          1.000000\n",
       "25%         43.000000\n",
       "50%         94.000000\n",
       "75%        237.000000\n",
       "max       1618.000000\n",
       "Name: days_exposition, dtype: float64"
      ]
     },
     "execution_count": 34,
     "metadata": {},
     "output_type": "execute_result"
    },
    {
     "data": {
      "image/png": "[encoded data removed]",
      "text/plain": [
       "<Figure size 432x288 with 1 Axes>"
      ]
     },
     "metadata": {
      "needs_background": "light"
     },
     "output_type": "display_data"
    },
    {
     "data": {
      "image/png": "[encoded data removed]",
      "text/plain": [
       "<Figure size 432x288 with 1 Axes>"
      ]
     },
     "metadata": {
      "needs_background": "light"
     },
     "output_type": "display_data"
    },
    {
     "data": {
      "image/png": "[encoded data removed]",
      "text/plain": [
       "<Figure size 432x288 with 1 Axes>"
      ]
     },
     "metadata": {
      "needs_background": "light"
     },
     "output_type": "display_data"
    }
   ],
   "source": [
    "#диаграмма размаха\n",
    "import matplotlib.pyplot as plt\n",
    "plt.boxplot(data[data['days_exposition']!=0]['days_exposition'])\n",
    "plt.ylim(1,300)\n",
    "\n",
    "data.plot(y = 'days_exposition', kind = 'hist', bins = 40, grid = True, range = (1,1600))\n",
    "data.plot(y = 'days_exposition', kind = 'hist', bins = 80, grid = True, range = (1,200))\n",
    "\n",
    "#среднее значение, медиана и межквартильный размах\n",
    "data[data['days_exposition']!=0]['days_exposition'].describe()"
   ]
  },
  {
   "cell_type": "markdown",
   "metadata": {},
   "source": [
    "Cудя по гистограмме - мы имеем распределение Пуассона. Средний период публикации - 185 дней, а медиана - 233 дня. В большинстве случаев обьявление висит от 43 до 237 дней. Сделав гистограмму, обнаружено, что выбивающиеся значения и аномалии на 45, чуть меньше на 60, 7 и 30 день - это наиболее популярное количество дней до снятия объявления из-за особенности функционирования системы размещения яндекса."
   ]
  },
  {
   "cell_type": "markdown",
   "metadata": {},
   "source": [
    "В среднем объект недвижимости продается за 200 дней, бОльшинство объявлений висит не дольше 112 дней."
   ]
  },
  {
   "cell_type": "markdown",
   "metadata": {},
   "source": [
    "4.3 Какие факторы больше всего влияют на общую (полную) стоимость объекта?\n",
    "Изучите, зависит ли цена от:\n",
    "общей площади;\n",
    "жилой площади;\n",
    "площади кухни;\n",
    "количества комнат;\n",
    "этажа, на котором расположена квартира (первый, последний, другой);\n",
    "даты размещения (день недели, месяц, год).\n",
    "Постройте графики, которые покажут зависимость цены от указанных выше параметров. Для подготовки данных перед визуализацией вы можете использовать сводные таблицы."
   ]
  },
  {
   "cell_type": "code",
   "execution_count": 35,
   "metadata": {},
   "outputs": [
    {
     "data": {
      "text/plain": [
       "0.6536750579657243"
      ]
     },
     "execution_count": 35,
     "metadata": {},
     "output_type": "execute_result"
    },
    {
     "data": {
      "image/png": "[encoded data removed]",
      "text/plain": [
       "<Figure size 432x288 with 1 Axes>"
      ]
     },
     "metadata": {
      "needs_background": "light"
     },
     "output_type": "display_data"
    }
   ],
   "source": [
    "#изучим зависимость от общей площади\n",
    "\n",
    "pivot_table_total_area = good_data.pivot_table(index = 'total_area', values = 'last_price', aggfunc = ['mean', 'count', 'median'])\n",
    "pivot_table_total_area.columns = ['mean', 'count', 'median']\n",
    "pivot_table_total_area.plot(y = 'median', style = 'o', alpha = 0.1) \n",
    "\n",
    "pivot_table_total_area.sort_values('median', ascending = False)\n",
    "\n",
    "data['total_area'].corr(data['last_price'])"
   ]
  },
  {
   "cell_type": "markdown",
   "metadata": {},
   "source": [
    "Корреляция 0.65, влияние площади на стоимость есть. Чем больше общая площадь-тем выше стоимость жилья."
   ]
  },
  {
   "cell_type": "markdown",
   "metadata": {},
   "source": [
    "Зависимость цены от жилой площади"
   ]
  },
  {
   "cell_type": "code",
   "execution_count": 36,
   "metadata": {},
   "outputs": [
    {
     "data": {
      "text/plain": [
       "0.5664915336952651"
      ]
     },
     "execution_count": 36,
     "metadata": {},
     "output_type": "execute_result"
    },
    {
     "data": {
      "image/png": "[encoded data removed]",
      "text/plain": [
       "<Figure size 432x288 with 1 Axes>"
      ]
     },
     "metadata": {
      "needs_background": "light"
     },
     "output_type": "display_data"
    }
   ],
   "source": [
    "pivot_table_total_area = good_data.pivot_table(index = 'living_area', values = 'last_price', aggfunc = ['mean', 'count', 'median'])\n",
    "pivot_table_total_area.columns = ['mean', 'count', 'median']\n",
    "pivot_table_total_area.plot(y = 'median', style = 'o', alpha = 0.1) \n",
    "\n",
    "pivot_table_total_area.sort_values('median', ascending = False)\n",
    "\n",
    "data['living_area'].corr(data['last_price'])"
   ]
  },
  {
   "cell_type": "markdown",
   "metadata": {},
   "source": [
    "Корреляция 0.56, то есть стоимость м.кв. зависит от жилой площади, чуть меньше, чем от общей площади жилья.\n",
    "\n",
    "Рассмотрим зависимость от площади кухни:"
   ]
  },
  {
   "cell_type": "code",
   "execution_count": 37,
   "metadata": {},
   "outputs": [
    {
     "data": {
      "text/plain": [
       "0.4403156124344652"
      ]
     },
     "execution_count": 37,
     "metadata": {},
     "output_type": "execute_result"
    },
    {
     "data": {
      "image/png": "[encoded data removed]",
      "text/plain": [
       "<Figure size 432x288 with 1 Axes>"
      ]
     },
     "metadata": {
      "needs_background": "light"
     },
     "output_type": "display_data"
    }
   ],
   "source": [
    "pivot_table_total_area = good_data.pivot_table(index = 'kitchen_area', values = 'last_price', aggfunc = ['mean', 'count', 'median'])\n",
    "pivot_table_total_area.columns = ['mean', 'count', 'median']\n",
    "pivot_table_total_area.plot(y = 'mean', style = 'o', alpha = 0.1) \n",
    "\n",
    "pivot_table_total_area.sort_values('median', ascending = False)\n",
    "\n",
    "data['kitchen_area'].corr(data['last_price'])"
   ]
  },
  {
   "cell_type": "markdown",
   "metadata": {},
   "source": [
    "Коэфициент корреляции 0,4. То есть стоимость в меньшей степени зависит от площади кухни.\n",
    "\n",
    "Рассмотрим зависимость от количества комнат:"
   ]
  },
  {
   "cell_type": "code",
   "execution_count": 38,
   "metadata": {},
   "outputs": [
    {
     "data": {
      "text/plain": [
       "0.3633428499648948"
      ]
     },
     "execution_count": 38,
     "metadata": {},
     "output_type": "execute_result"
    },
    {
     "data": {
      "image/png": "[encoded data removed]",
      "text/plain": [
       "<Figure size 432x288 with 1 Axes>"
      ]
     },
     "metadata": {
      "needs_background": "light"
     },
     "output_type": "display_data"
    }
   ],
   "source": [
    "pivot_table_rooms = good_data.pivot_table(index = 'rooms', values = 'last_price', aggfunc = ['mean', 'count', 'median'])\n",
    "pivot_table_rooms.columns = ['mean', 'count', 'median']\n",
    "pivot_table_rooms.query('count > 50').plot(y = 'median')\n",
    "\n",
    "pivot_table_rooms.query('count > 50').sort_values('median', ascending = False)\n",
    "\n",
    "data['rooms'].corr(data['last_price'])"
   ]
  },
  {
   "cell_type": "markdown",
   "metadata": {},
   "source": [
    "Коэфициент корреляции 0,4 не сильно большая зависимость, но она есть. Чем выше число комнат-тем выше стоимость.\n",
    "\n",
    "Рассмотрим зависимость от этажа, на котором расположена квартира (первый, последний, другой):"
   ]
  },
  {
   "cell_type": "code",
   "execution_count": 39,
   "metadata": {},
   "outputs": [
    {
     "data": {
      "text/html": [
       "<div>\n",
       "<style scoped>\n",
       "    .dataframe tbody tr th:only-of-type {\n",
       "        vertical-align: middle;\n",
       "    }\n",
       "\n",
       "    .dataframe tbody tr th {\n",
       "        vertical-align: top;\n",
       "    }\n",
       "\n",
       "    .dataframe thead th {\n",
       "        text-align: right;\n",
       "    }\n",
       "</style>\n",
       "<table border=\"1\" class=\"dataframe\">\n",
       "  <thead>\n",
       "    <tr style=\"text-align: right;\">\n",
       "      <th></th>\n",
       "      <th>mean</th>\n",
       "      <th>count</th>\n",
       "      <th>median</th>\n",
       "    </tr>\n",
       "    <tr>\n",
       "      <th>floor_category</th>\n",
       "      <th></th>\n",
       "      <th></th>\n",
       "      <th></th>\n",
       "    </tr>\n",
       "  </thead>\n",
       "  <tbody>\n",
       "    <tr>\n",
       "      <th>другой</th>\n",
       "      <td>6.580795</td>\n",
       "      <td>17357</td>\n",
       "      <td>4.8</td>\n",
       "    </tr>\n",
       "    <tr>\n",
       "      <th>первый</th>\n",
       "      <td>4.696334</td>\n",
       "      <td>2907</td>\n",
       "      <td>3.9</td>\n",
       "    </tr>\n",
       "    <tr>\n",
       "      <th>последний</th>\n",
       "      <td>6.731262</td>\n",
       "      <td>3313</td>\n",
       "      <td>4.3</td>\n",
       "    </tr>\n",
       "  </tbody>\n",
       "</table>\n",
       "</div>"
      ],
      "text/plain": [
       "                    mean  count  median\n",
       "floor_category                         \n",
       "другой          6.580795  17357     4.8\n",
       "первый          4.696334   2907     3.9\n",
       "последний       6.731262   3313     4.3"
      ]
     },
     "execution_count": 39,
     "metadata": {},
     "output_type": "execute_result"
    },
    {
     "data": {
      "image/png": "[encoded data removed]",
      "text/plain": [
       "<Figure size 432x288 with 1 Axes>"
      ]
     },
     "metadata": {
      "needs_background": "light"
     },
     "output_type": "display_data"
    }
   ],
   "source": [
    "pivot_table_floor_category = good_data.pivot_table(index = 'floor_category', values = 'last_price', aggfunc = ['mean', 'count', 'median'])\n",
    "pivot_table_floor_category.columns = ['mean', 'count', 'median']\n",
    "pivot_table_floor_category.plot(y = 'median')\n",
    "pivot_table_floor_category"
   ]
  },
  {
   "cell_type": "markdown",
   "metadata": {},
   "source": [
    "Стоимость жилья зависит от этажа, первый этаж ценится меньше всего, медианная стоимость такого жилья 3.8 млн, последний этаж цениться чуть больше на 4,05. Другие этажи выше в цене (медианная в 4,6 млн)"
   ]
  },
  {
   "cell_type": "markdown",
   "metadata": {},
   "source": [
    "Прямопропорциональная зависимость от высоты этажа, последний этаж ценится в 4 тысячи дороже за 1 м.кв, чем первый.\n",
    "\n",
    "Изучим зависимость от года размещения, проследим динамику цены"
   ]
  },
  {
   "cell_type": "code",
   "execution_count": 40,
   "metadata": {},
   "outputs": [
    {
     "data": {
      "text/html": [
       "<div>\n",
       "<style scoped>\n",
       "    .dataframe tbody tr th:only-of-type {\n",
       "        vertical-align: middle;\n",
       "    }\n",
       "\n",
       "    .dataframe tbody tr th {\n",
       "        vertical-align: top;\n",
       "    }\n",
       "\n",
       "    .dataframe thead th {\n",
       "        text-align: right;\n",
       "    }\n",
       "</style>\n",
       "<table border=\"1\" class=\"dataframe\">\n",
       "  <thead>\n",
       "    <tr style=\"text-align: right;\">\n",
       "      <th></th>\n",
       "      <th>mean</th>\n",
       "      <th>count</th>\n",
       "      <th>median</th>\n",
       "    </tr>\n",
       "    <tr>\n",
       "      <th>year_exposition</th>\n",
       "      <th></th>\n",
       "      <th></th>\n",
       "      <th></th>\n",
       "    </tr>\n",
       "  </thead>\n",
       "  <tbody>\n",
       "    <tr>\n",
       "      <th>2014</th>\n",
       "      <td>12.087136</td>\n",
       "      <td>137</td>\n",
       "      <td>7.7000</td>\n",
       "    </tr>\n",
       "    <tr>\n",
       "      <th>2015</th>\n",
       "      <td>8.378621</td>\n",
       "      <td>1186</td>\n",
       "      <td>5.3125</td>\n",
       "    </tr>\n",
       "    <tr>\n",
       "      <th>2019</th>\n",
       "      <td>6.564578</td>\n",
       "      <td>2864</td>\n",
       "      <td>5.0300</td>\n",
       "    </tr>\n",
       "    <tr>\n",
       "      <th>2018</th>\n",
       "      <td>5.897862</td>\n",
       "      <td>8501</td>\n",
       "      <td>4.5500</td>\n",
       "    </tr>\n",
       "    <tr>\n",
       "      <th>2016</th>\n",
       "      <td>6.773295</td>\n",
       "      <td>2774</td>\n",
       "      <td>4.5000</td>\n",
       "    </tr>\n",
       "    <tr>\n",
       "      <th>2017</th>\n",
       "      <td>6.268115</td>\n",
       "      <td>8147</td>\n",
       "      <td>4.5000</td>\n",
       "    </tr>\n",
       "  </tbody>\n",
       "</table>\n",
       "</div>"
      ],
      "text/plain": [
       "                      mean  count  median\n",
       "year_exposition                          \n",
       "2014             12.087136    137  7.7000\n",
       "2015              8.378621   1186  5.3125\n",
       "2019              6.564578   2864  5.0300\n",
       "2018              5.897862   8501  4.5500\n",
       "2016              6.773295   2774  4.5000\n",
       "2017              6.268115   8147  4.5000"
      ]
     },
     "execution_count": 40,
     "metadata": {},
     "output_type": "execute_result"
    },
    {
     "data": {
      "image/png": "[encoded data removed]",
      "text/plain": [
       "<Figure size 432x288 with 1 Axes>"
      ]
     },
     "metadata": {
      "needs_background": "light"
     },
     "output_type": "display_data"
    }
   ],
   "source": [
    "pivot_table_year_exposition = good_data.pivot_table(index = 'year_exposition', values = 'last_price', aggfunc = ['mean', 'count', 'median'])\n",
    "pivot_table_year_exposition.columns = ['mean', 'count', 'median']\n",
    "pivot_table_year_exposition.plot(y = 'median')\n",
    "\n",
    "pivot_table_year_exposition.sort_values('median', ascending = False)"
   ]
  },
  {
   "cell_type": "markdown",
   "metadata": {},
   "source": [
    "Пик стоимости жилья был в 2014 - 7.7 млн, а потом стоимость резко начала падать.В 2015 достигла 5.3 млн. А в 2016-2017 стоимость достигла самых низких значений 4.5 млн. Но начиная с 2018 она начала расти в цене, за 2018 г. медианная стоимость от 4.5 млн выросла примерно до 5.0 млн.\n",
    "\n",
    "Проверим сезонный спрос, оценим зависимость цены от месяца:"
   ]
  },
  {
   "cell_type": "code",
   "execution_count": 41,
   "metadata": {},
   "outputs": [
    {
     "data": {
      "text/html": [
       "<div>\n",
       "<style scoped>\n",
       "    .dataframe tbody tr th:only-of-type {\n",
       "        vertical-align: middle;\n",
       "    }\n",
       "\n",
       "    .dataframe tbody tr th {\n",
       "        vertical-align: top;\n",
       "    }\n",
       "\n",
       "    .dataframe thead th {\n",
       "        text-align: right;\n",
       "    }\n",
       "</style>\n",
       "<table border=\"1\" class=\"dataframe\">\n",
       "  <thead>\n",
       "    <tr style=\"text-align: right;\">\n",
       "      <th></th>\n",
       "      <th>mean</th>\n",
       "      <th>count</th>\n",
       "      <th>median</th>\n",
       "    </tr>\n",
       "    <tr>\n",
       "      <th>month_exposition</th>\n",
       "      <th></th>\n",
       "      <th></th>\n",
       "      <th></th>\n",
       "    </tr>\n",
       "  </thead>\n",
       "  <tbody>\n",
       "    <tr>\n",
       "      <th>4</th>\n",
       "      <td>6.620724</td>\n",
       "      <td>2369</td>\n",
       "      <td>4.8000</td>\n",
       "    </tr>\n",
       "    <tr>\n",
       "      <th>11</th>\n",
       "      <td>6.356139</td>\n",
       "      <td>2362</td>\n",
       "      <td>4.6995</td>\n",
       "    </tr>\n",
       "    <tr>\n",
       "      <th>9</th>\n",
       "      <td>6.343418</td>\n",
       "      <td>1974</td>\n",
       "      <td>4.6900</td>\n",
       "    </tr>\n",
       "    <tr>\n",
       "      <th>12</th>\n",
       "      <td>6.527271</td>\n",
       "      <td>1634</td>\n",
       "      <td>4.6900</td>\n",
       "    </tr>\n",
       "    <tr>\n",
       "      <th>2</th>\n",
       "      <td>6.408225</td>\n",
       "      <td>2631</td>\n",
       "      <td>4.6500</td>\n",
       "    </tr>\n",
       "    <tr>\n",
       "      <th>3</th>\n",
       "      <td>6.178997</td>\n",
       "      <td>2575</td>\n",
       "      <td>4.6500</td>\n",
       "    </tr>\n",
       "    <tr>\n",
       "      <th>1</th>\n",
       "      <td>6.516277</td>\n",
       "      <td>1496</td>\n",
       "      <td>4.6000</td>\n",
       "    </tr>\n",
       "    <tr>\n",
       "      <th>7</th>\n",
       "      <td>6.512754</td>\n",
       "      <td>1684</td>\n",
       "      <td>4.6000</td>\n",
       "    </tr>\n",
       "    <tr>\n",
       "      <th>8</th>\n",
       "      <td>6.313603</td>\n",
       "      <td>1739</td>\n",
       "      <td>4.5500</td>\n",
       "    </tr>\n",
       "    <tr>\n",
       "      <th>10</th>\n",
       "      <td>6.037764</td>\n",
       "      <td>2119</td>\n",
       "      <td>4.5500</td>\n",
       "    </tr>\n",
       "    <tr>\n",
       "      <th>5</th>\n",
       "      <td>6.558191</td>\n",
       "      <td>1271</td>\n",
       "      <td>4.5000</td>\n",
       "    </tr>\n",
       "    <tr>\n",
       "      <th>6</th>\n",
       "      <td>6.214430</td>\n",
       "      <td>1755</td>\n",
       "      <td>4.4000</td>\n",
       "    </tr>\n",
       "  </tbody>\n",
       "</table>\n",
       "</div>"
      ],
      "text/plain": [
       "                      mean  count  median\n",
       "month_exposition                         \n",
       "4                 6.620724   2369  4.8000\n",
       "11                6.356139   2362  4.6995\n",
       "9                 6.343418   1974  4.6900\n",
       "12                6.527271   1634  4.6900\n",
       "2                 6.408225   2631  4.6500\n",
       "3                 6.178997   2575  4.6500\n",
       "1                 6.516277   1496  4.6000\n",
       "7                 6.512754   1684  4.6000\n",
       "8                 6.313603   1739  4.5500\n",
       "10                6.037764   2119  4.5500\n",
       "5                 6.558191   1271  4.5000\n",
       "6                 6.214430   1755  4.4000"
      ]
     },
     "execution_count": 41,
     "metadata": {},
     "output_type": "execute_result"
    },
    {
     "data": {
      "image/png": "[encoded data removed]",
      "text/plain": [
       "<Figure size 432x288 with 1 Axes>"
      ]
     },
     "metadata": {
      "needs_background": "light"
     },
     "output_type": "display_data"
    }
   ],
   "source": [
    "pivot_table_month_exposition = good_data.pivot_table(index = 'month_exposition', values = 'last_price', aggfunc = ['mean', 'count', 'median'])\n",
    "pivot_table_month_exposition.columns = ['mean', 'count', 'median']\n",
    "pivot_table_month_exposition.plot(y = 'median')\n",
    "\n",
    "pivot_table_month_exposition.sort_values('median', ascending = False)"
   ]
  },
  {
   "cell_type": "markdown",
   "metadata": {},
   "source": [
    "Пик роста цен приходится на 3 месяца-апрель, ноябрь и сентябрь. А пик публикаций объявлений о продаже с марта по апрель, с августа-сентябрь, с октября по декабрь. Самый глубокий спад предложения (размещенных объявлений) с апреля по июнь."
   ]
  },
  {
   "cell_type": "markdown",
   "metadata": {},
   "source": [
    "Посчитаем среднюю цену одного квадратного метра в 10 населённых пунктах с наибольшим числом объявлений. Выделим населённые пункты с самой высокой и низкой стоимостью квадратного метра. Эти данные можно найти по имени в столбце locality_name."
   ]
  },
  {
   "cell_type": "code",
   "execution_count": 42,
   "metadata": {},
   "outputs": [
    {
     "name": "stdout",
     "output_type": "stream",
     "text": [
      "                 count      mean\n",
      "locality_name                   \n",
      "Санкт-Петербург  15634  7.816069\n",
      "Пушкин             368  6.372484\n",
      "Парголово          326  4.477609\n",
      "Кудрово            472  4.358688\n",
      "Шушары             440  4.108082\n",
      "Колпино            337  3.866289\n",
      "Всеволожск         398  3.789068\n",
      "Мурино             590  3.678462\n",
      "Гатчина            307  3.488337\n",
      "Выборг             237  3.250983\n"
     ]
    }
   ],
   "source": [
    "locality_pivot_table = good_data.pivot_table(index = 'locality_name', values = 'last_price', aggfunc=['count', 'mean'])\n",
    "locality_pivot_table.columns = ['count', 'mean']\n",
    "locality_pivot_table = locality_pivot_table.sort_values('count', ascending = False).head(10)\n",
    "print(locality_pivot_table.sort_values(by='mean', ascending=False))"
   ]
  },
  {
   "cell_type": "markdown",
   "metadata": {},
   "source": [
    "Если оценивать средние значения стоимости, то самая высокая цена в СПб - 7.8 млн, на 2м месте по стоимости недвижимость в Пушкине - 6.3, на 350 000 дешевле, чем в СПб. Дальше на 3-4-5 месте соответсвенно конгломераты новостроек: Парголово, Кудрово и Шушары, стоимость от 4,48 до 4,10 млн. На последнем месте- Выборг, где жилой фонд не такой новый и большая удаленность от СПб  - 3,2 млн. Мурино не смотря на схожие типы районов с Кудрово занимает 8 позицию, жилье стоит в среднем на 600 тысяч дешевле, чем в Кудрово. "
   ]
  },
  {
   "cell_type": "markdown",
   "metadata": {},
   "source": [
    "Ранее вы посчитали расстояние до центра в километрах. Теперь выделите квартиры в Санкт-Петербурге с помощью столбца locality_name и вычислите среднюю цену каждого километра. Опишите, как стоимость объектов зависит от расстояния до центра города."
   ]
  },
  {
   "cell_type": "code",
   "execution_count": 43,
   "metadata": {},
   "outputs": [
    {
     "name": "stdout",
     "output_type": "stream",
     "text": [
      "                     mean\n",
      "               last_price\n",
      "cityCenters_km           \n",
      "29.5                2.450\n",
      "29.3                4.525\n",
      "28.8                4.370\n",
      "28.6                4.775\n",
      "28.1                7.600\n",
      "                     mean\n",
      "               last_price\n",
      "cityCenters_km           \n",
      "0.2             15.963000\n",
      "0.3             35.630648\n",
      "0.4             39.177778\n",
      "0.5             12.320000\n",
      "0.6             39.934687\n"
     ]
    },
    {
     "data": {
      "image/png": "[encoded data removed]",
      "text/plain": [
       "<Figure size 432x288 with 1 Axes>"
      ]
     },
     "metadata": {
      "needs_background": "light"
     },
     "output_type": "display_data"
    }
   ],
   "source": [
    "center_pivot_table = good_data.query('locality_name == \"Санкт-Петербург\"').pivot_table(index = 'cityCenters_km', values = 'last_price', aggfunc=['mean'])\n",
    "center_pivot_table.plot(y='mean')\n",
    "print(center_pivot_table.sort_values(by = 'cityCenters_km', ascending=False).head())\n",
    "print(center_pivot_table.sort_values(by = 'cityCenters_km', ascending=True).head())"
   ]
  },
  {
   "cell_type": "markdown",
   "metadata": {},
   "source": [
    "Чем ближе жилье к центру-тем выше стоимость. Самое дорогое жилье в диапазоне от 8 до 39 млн в радиусе от 0 до 3 км от центра. Самый дорогой радиус квартир лежит в пределах от 0-8 км. Интересно, что цена сновы растет в удаленности от 26 до 27 км."
   ]
  },
  {
   "cell_type": "markdown",
   "metadata": {},
   "source": [
    "### Общий вывод"
   ]
  },
  {
   "cell_type": "markdown",
   "metadata": {},
   "source": [
    "Пройден тернистый путь исследования данных."
   ]
  },
  {
   "cell_type": "markdown",
   "metadata": {},
   "source": [
    "Были обработаны пропуски в данных, дубликаты и неявные дубликаты, групироввка данных по датам, месяцам, годам, изменен тип данных для удобства просчета.Найдены и устранены выбивающиеся и аномальные значения в высоте потолков, расстоянии до центра города и аэропорта.\n",
    "На основе очищенных данных были просчитаны и добавлены новые столбцы со значениями цены одного квадратного метра; дня недели, месяца и года публикации, определены типы этажа квартиры (значения — «первый», «последний», «другой»);расстояние до центра города в километрах.\n",
    "\n",
    "Изучено, как быстро продавались квартиры. Какие факторы влияют на общую(полную) стоимость объекта. На сколько и как зависит ли цена от:\n",
    "общей площади; жилой площади; площади кухни; количества комнат; этажа, на котором расположена квартира (первый, последний, другой); даты размещения (день недели, месяц, год).\n",
    "\n",
    "На основе данных были пострены графики зависимости цены от указанных выше параметров. Посчитаны средняя цена одного квадратного метра в 10 населённых пунктах с наибольшим числом объявлений. Выделены населённые пункты с самой высокой и низкой стоимостью квадратного метра. Проанализирована зависимость стоимости жилья в СПб от удаленности от цента города. \n",
    "\n",
    "На основе этой работы можно сделать следующие выводы о том, что влияет на стоимость метра квадратного:\n",
    "\n",
    "1. Топ 10 населенных пунктов с самой высоко стоимостью жилья:\n",
    "Санкт-Петербург  15634  7.816069\n",
    "Пушкин             368  6.372484\n",
    "Парголово          326  4.477609\n",
    "Кудрово            472  4.358688\n",
    "Шушары             440  4.108082\n",
    "Колпино            337  3.866289\n",
    "Всеволожск         398  3.789068\n",
    "Мурино             590  3.678462\n",
    "Гатчина            307  3.488337\n",
    "Выборг             237  3.250983\n",
    "\n",
    "2. Чем ближе к центру, тем дороже жилье в Санкт-Петербурге.  \n",
    "Расположение в СПб влияет на цены.Так жилье в центре на 40% дороже недвижимости удаленной от него больше чем на 20 км. Самое дорогое жилье в диапазоне от 8 до 39 млн в радиусе от 0 до 3 км от центра. В среднем квартиры в пределах от 0-8 км от центра дороже выборки.\n",
    "\n",
    "3. Больше всего на стоимость влияет общая площадь\n",
    "Влияние площади на стоимость есть. Чем больше общая площадь-тем выше стоимость жилья. Еще меньше стоимость зависит от жилой площади, и очень слабая зависимость стоимости от площади кухни.\n",
    "\n",
    "4. Этаж, число комнат\n",
    "Чем выше число комнат-тем больше стоимость. Стоимость жилья так же зависит от этажа, первый этаж ценится меньше всего, медианная стоимость такого жилья 3.8 млн, последний этаж цениться чуть больше на 4,05. Другие этажи выше в цене (медианная в 4,6 млн)\n",
    "\n",
    "5. Сезонность и спрос\n",
    "По годам: рынок недвижимости пережил глубокий спад, в 2018 после 4 лет падения рынок начал восстанавливаться. Пик стоимости жилья был в 2014 - 7.7 млн, а потом стоимость резко начала падать.В 2015 достигла 5.3 млн. А в 2016-2017 стоимость достигла самых низких значений 4.5 млн. Но начиная с 2018 она начала расти в цене, за 2018 г. медианная стоимость от 4.5 млн выросла примерно до 5.0 млн.\n",
    "\n",
    "По месяцам: пик роста цен приходится на 3 месяца-апрель, ноябрь и сентябрь. А пик публикаций объявлений о продаже с марта по апрель, с августа-сентябрь, с октября по декабрь. Самый глубокий спад предложения (размещенных объявлений) с апреля по июнь. То есть, чтобы выгодно продать, из всего года лучше публиковать объявления в конце августа-начале сентября.\n",
    "\n",
    "6. Период продажи\n",
    "Средний период публикации - 185 дней, а медиана - 233 дня. В большинстве случаев обьявление висит от 43 до 237 дней. "
   ]
  },
  {
   "cell_type": "code",
   "execution_count": null,
   "id": "31af2f9c",
   "metadata": {},
   "outputs": [],
   "source": []
  }
 ],
 "metadata": {
  "ExecuteTimeLog": [
   {
    "duration": 65,
    "start_time": "2023-03-29T17:56:27.157Z"
   },
   {
    "duration": 559,
    "start_time": "2023-03-29T17:56:44.045Z"
   },
   {
    "duration": 87,
    "start_time": "2023-03-29T17:58:05.036Z"
   },
   {
    "duration": 85,
    "start_time": "2023-03-29T17:58:25.119Z"
   },
   {
    "duration": 486,
    "start_time": "2023-03-29T18:03:38.615Z"
   },
   {
    "duration": 96,
    "start_time": "2023-03-29T18:05:27.293Z"
   },
   {
    "duration": 114,
    "start_time": "2023-03-29T18:05:35.148Z"
   },
   {
    "duration": 106,
    "start_time": "2023-03-29T18:07:34.159Z"
   },
   {
    "duration": 2373,
    "start_time": "2023-03-29T18:07:54.045Z"
   },
   {
    "duration": 743,
    "start_time": "2023-03-30T05:51:23.367Z"
   },
   {
    "duration": 15,
    "start_time": "2023-03-30T05:56:52.833Z"
   },
   {
    "duration": 20,
    "start_time": "2023-03-30T06:01:48.182Z"
   },
   {
    "duration": 55,
    "start_time": "2023-03-30T06:05:35.211Z"
   },
   {
    "duration": 123,
    "start_time": "2023-03-30T06:10:24.887Z"
   },
   {
    "duration": 9,
    "start_time": "2023-03-30T06:10:34.439Z"
   },
   {
    "duration": 25,
    "start_time": "2023-03-30T06:17:04.131Z"
   },
   {
    "duration": 14,
    "start_time": "2023-03-30T06:17:17.943Z"
   },
   {
    "duration": 19,
    "start_time": "2023-03-30T06:18:17.009Z"
   },
   {
    "duration": 3245,
    "start_time": "2023-03-30T07:21:56.270Z"
   },
   {
    "duration": 42,
    "start_time": "2023-03-30T07:51:43.977Z"
   },
   {
    "duration": 8,
    "start_time": "2023-03-30T07:51:55.855Z"
   },
   {
    "duration": 9,
    "start_time": "2023-03-30T07:55:58.621Z"
   },
   {
    "duration": 120,
    "start_time": "2023-03-30T08:10:48.343Z"
   },
   {
    "duration": 99,
    "start_time": "2023-03-30T08:11:01.647Z"
   },
   {
    "duration": 122,
    "start_time": "2023-03-30T08:11:11.608Z"
   },
   {
    "duration": 135,
    "start_time": "2023-03-30T08:11:24.983Z"
   },
   {
    "duration": 2515,
    "start_time": "2023-03-30T08:11:34.200Z"
   },
   {
    "duration": 5,
    "start_time": "2023-03-30T08:11:50.176Z"
   },
   {
    "duration": 6,
    "start_time": "2023-03-30T08:12:25.280Z"
   },
   {
    "duration": 5,
    "start_time": "2023-03-30T08:12:36.316Z"
   },
   {
    "duration": 9,
    "start_time": "2023-03-30T08:12:43.382Z"
   },
   {
    "duration": 10,
    "start_time": "2023-03-30T08:13:21.921Z"
   },
   {
    "duration": 23,
    "start_time": "2023-03-30T08:13:44.101Z"
   },
   {
    "duration": 40,
    "start_time": "2023-03-30T08:20:25.988Z"
   },
   {
    "duration": 37,
    "start_time": "2023-03-30T08:20:49.653Z"
   },
   {
    "duration": 15,
    "start_time": "2023-03-30T08:21:46.713Z"
   },
   {
    "duration": 33,
    "start_time": "2023-03-30T08:21:58.182Z"
   },
   {
    "duration": 20,
    "start_time": "2023-03-30T08:22:06.554Z"
   },
   {
    "duration": 34,
    "start_time": "2023-03-30T08:22:33.284Z"
   },
   {
    "duration": 24,
    "start_time": "2023-03-30T08:22:44.706Z"
   },
   {
    "duration": 12,
    "start_time": "2023-03-30T08:23:05.351Z"
   },
   {
    "duration": 7,
    "start_time": "2023-03-30T08:23:23.733Z"
   },
   {
    "duration": 20,
    "start_time": "2023-03-30T08:23:41.175Z"
   },
   {
    "duration": 19,
    "start_time": "2023-03-30T08:24:00.938Z"
   },
   {
    "duration": 18,
    "start_time": "2023-03-30T08:25:39.456Z"
   },
   {
    "duration": 67,
    "start_time": "2023-03-30T08:28:50.298Z"
   },
   {
    "duration": 38,
    "start_time": "2023-03-30T08:32:34.326Z"
   },
   {
    "duration": 124,
    "start_time": "2023-03-30T08:33:47.341Z"
   },
   {
    "duration": 81,
    "start_time": "2023-03-30T08:46:04.158Z"
   },
   {
    "duration": 114,
    "start_time": "2023-03-30T08:46:58.042Z"
   },
   {
    "duration": 116,
    "start_time": "2023-03-30T08:49:48.173Z"
   },
   {
    "duration": 87,
    "start_time": "2023-03-30T08:50:21.367Z"
   },
   {
    "duration": 524,
    "start_time": "2023-03-30T08:51:32.738Z"
   },
   {
    "duration": 184,
    "start_time": "2023-03-30T08:53:07.186Z"
   },
   {
    "duration": 180,
    "start_time": "2023-03-30T08:53:23.891Z"
   },
   {
    "duration": 2479,
    "start_time": "2023-03-30T08:53:47.122Z"
   },
   {
    "duration": 2516,
    "start_time": "2023-03-30T08:54:36.854Z"
   },
   {
    "duration": 108,
    "start_time": "2023-03-30T08:55:52.375Z"
   },
   {
    "duration": 1748,
    "start_time": "2023-03-30T08:56:03.812Z"
   },
   {
    "duration": 2021,
    "start_time": "2023-03-30T08:57:32.551Z"
   },
   {
    "duration": 1849,
    "start_time": "2023-03-30T09:05:24.576Z"
   },
   {
    "duration": 2043,
    "start_time": "2023-03-30T09:07:22.017Z"
   },
   {
    "duration": 2105,
    "start_time": "2023-03-30T09:07:57.216Z"
   },
   {
    "duration": 1980,
    "start_time": "2023-03-30T09:13:46.129Z"
   },
   {
    "duration": 2101,
    "start_time": "2023-03-30T09:15:31.785Z"
   },
   {
    "duration": 3794,
    "start_time": "2023-03-30T09:19:11.162Z"
   },
   {
    "duration": 3898,
    "start_time": "2023-03-30T09:20:04.170Z"
   },
   {
    "duration": 4530,
    "start_time": "2023-03-30T09:21:21.064Z"
   },
   {
    "duration": 4610,
    "start_time": "2023-03-30T09:22:18.266Z"
   },
   {
    "duration": 4518,
    "start_time": "2023-03-30T09:23:05.180Z"
   },
   {
    "duration": 4587,
    "start_time": "2023-03-30T09:23:19.360Z"
   },
   {
    "duration": 4895,
    "start_time": "2023-03-30T09:23:29.069Z"
   },
   {
    "duration": 5156,
    "start_time": "2023-03-30T09:25:26.614Z"
   },
   {
    "duration": 4222,
    "start_time": "2023-03-30T09:27:31.716Z"
   },
   {
    "duration": 0,
    "start_time": "2023-03-30T09:32:34.167Z"
   },
   {
    "duration": 0,
    "start_time": "2023-03-30T09:32:44.824Z"
   },
   {
    "duration": 5919,
    "start_time": "2023-03-30T09:32:51.539Z"
   },
   {
    "duration": 5638,
    "start_time": "2023-03-30T09:33:06.263Z"
   },
   {
    "duration": 5389,
    "start_time": "2023-03-30T09:33:12.337Z"
   },
   {
    "duration": 6407,
    "start_time": "2023-03-30T09:37:23.007Z"
   },
   {
    "duration": 6757,
    "start_time": "2023-03-30T09:38:12.615Z"
   },
   {
    "duration": 8546,
    "start_time": "2023-03-30T09:46:24.071Z"
   },
   {
    "duration": 10562,
    "start_time": "2023-03-30T09:48:45.579Z"
   },
   {
    "duration": 8729,
    "start_time": "2023-03-30T09:50:24.267Z"
   },
   {
    "duration": 23,
    "start_time": "2023-03-30T09:55:14.235Z"
   },
   {
    "duration": 23,
    "start_time": "2023-03-30T10:07:56.908Z"
   },
   {
    "duration": 26,
    "start_time": "2023-03-30T10:13:15.513Z"
   },
   {
    "duration": 54,
    "start_time": "2023-03-30T16:31:55.237Z"
   },
   {
    "duration": 7,
    "start_time": "2023-03-30T16:34:39.882Z"
   },
   {
    "duration": 7,
    "start_time": "2023-03-30T16:34:53.133Z"
   },
   {
    "duration": 3487,
    "start_time": "2023-03-30T16:35:03.736Z"
   },
   {
    "duration": 23,
    "start_time": "2023-03-30T16:35:08.256Z"
   },
   {
    "duration": 15,
    "start_time": "2023-03-30T16:35:10.030Z"
   },
   {
    "duration": 15,
    "start_time": "2023-03-30T16:35:10.753Z"
   },
   {
    "duration": 1606,
    "start_time": "2023-03-30T16:35:11.266Z"
   },
   {
    "duration": 10,
    "start_time": "2023-03-30T16:35:12.874Z"
   },
   {
    "duration": 26,
    "start_time": "2023-03-30T16:35:12.885Z"
   },
   {
    "duration": 5848,
    "start_time": "2023-03-30T16:35:13.271Z"
   },
   {
    "duration": 18,
    "start_time": "2023-03-30T16:35:19.129Z"
   },
   {
    "duration": 12,
    "start_time": "2023-03-30T16:35:19.149Z"
   },
   {
    "duration": 12,
    "start_time": "2023-03-30T16:35:19.164Z"
   },
   {
    "duration": 14,
    "start_time": "2023-03-30T16:35:28.687Z"
   },
   {
    "duration": 15,
    "start_time": "2023-03-30T16:35:45.335Z"
   },
   {
    "duration": 14,
    "start_time": "2023-03-30T16:35:59.086Z"
   },
   {
    "duration": 1109,
    "start_time": "2023-03-30T16:38:44.936Z"
   },
   {
    "duration": 26,
    "start_time": "2023-03-30T16:39:26.538Z"
   },
   {
    "duration": 42,
    "start_time": "2023-03-30T16:40:24.250Z"
   },
   {
    "duration": 51,
    "start_time": "2023-03-30T16:40:54.790Z"
   },
   {
    "duration": 67,
    "start_time": "2023-03-30T16:41:36.870Z"
   },
   {
    "duration": 57,
    "start_time": "2023-03-30T16:41:51.088Z"
   },
   {
    "duration": 938,
    "start_time": "2023-03-30T16:42:39.738Z"
   },
   {
    "duration": 34,
    "start_time": "2023-03-30T16:43:42.255Z"
   },
   {
    "duration": 70,
    "start_time": "2023-03-30T16:44:29.185Z"
   },
   {
    "duration": 1034,
    "start_time": "2023-03-30T16:45:36.053Z"
   },
   {
    "duration": 93,
    "start_time": "2023-03-30T16:46:27.155Z"
   },
   {
    "duration": 25,
    "start_time": "2023-03-30T16:50:30.253Z"
   },
   {
    "duration": 29,
    "start_time": "2023-03-30T16:50:43.428Z"
   },
   {
    "duration": 31,
    "start_time": "2023-03-30T16:50:53.612Z"
   },
   {
    "duration": 50,
    "start_time": "2023-03-30T16:52:26.171Z"
   },
   {
    "duration": 25,
    "start_time": "2023-03-30T16:52:45.954Z"
   },
   {
    "duration": 24,
    "start_time": "2023-03-30T16:52:55.239Z"
   },
   {
    "duration": 23,
    "start_time": "2023-03-30T16:53:15.053Z"
   },
   {
    "duration": 34,
    "start_time": "2023-03-30T16:55:51.079Z"
   },
   {
    "duration": 94,
    "start_time": "2023-03-30T16:56:28.053Z"
   },
   {
    "duration": 25,
    "start_time": "2023-03-30T16:56:38.744Z"
   },
   {
    "duration": 26,
    "start_time": "2023-03-30T16:56:51.053Z"
   },
   {
    "duration": 8,
    "start_time": "2023-03-30T16:57:50.887Z"
   },
   {
    "duration": 10,
    "start_time": "2023-03-30T16:58:21.432Z"
   },
   {
    "duration": 10,
    "start_time": "2023-03-30T16:58:50.069Z"
   },
   {
    "duration": 9,
    "start_time": "2023-03-30T16:59:29.154Z"
   },
   {
    "duration": 5,
    "start_time": "2023-03-30T17:20:22.627Z"
   },
   {
    "duration": 6,
    "start_time": "2023-03-30T17:21:09.590Z"
   },
   {
    "duration": 17,
    "start_time": "2023-03-30T17:26:21.727Z"
   },
   {
    "duration": 12,
    "start_time": "2023-03-30T17:28:14.797Z"
   },
   {
    "duration": 13,
    "start_time": "2023-03-30T17:29:26.087Z"
   },
   {
    "duration": 8,
    "start_time": "2023-03-30T17:30:26.819Z"
   },
   {
    "duration": 5,
    "start_time": "2023-03-30T17:32:36.492Z"
   },
   {
    "duration": 6,
    "start_time": "2023-03-30T17:33:52.142Z"
   },
   {
    "duration": 16,
    "start_time": "2023-03-30T17:34:01.089Z"
   },
   {
    "duration": 5,
    "start_time": "2023-03-30T17:34:08.772Z"
   },
   {
    "duration": 2402,
    "start_time": "2023-03-30T17:34:34.092Z"
   },
   {
    "duration": 21,
    "start_time": "2023-03-30T17:34:42.442Z"
   },
   {
    "duration": 4,
    "start_time": "2023-03-30T17:34:46.354Z"
   },
   {
    "duration": 21,
    "start_time": "2023-03-30T17:34:50.120Z"
   },
   {
    "duration": 17,
    "start_time": "2023-03-30T17:34:53.041Z"
   },
   {
    "duration": 1415,
    "start_time": "2023-03-30T17:34:55.430Z"
   },
   {
    "duration": 10,
    "start_time": "2023-03-30T17:35:00.190Z"
   },
   {
    "duration": 13,
    "start_time": "2023-03-30T17:35:04.956Z"
   },
   {
    "duration": 5623,
    "start_time": "2023-03-30T17:35:07.321Z"
   },
   {
    "duration": 21,
    "start_time": "2023-03-30T17:35:13.388Z"
   },
   {
    "duration": 16,
    "start_time": "2023-03-30T17:35:16.600Z"
   },
   {
    "duration": 5,
    "start_time": "2023-03-30T17:35:26.658Z"
   },
   {
    "duration": 11,
    "start_time": "2023-03-30T17:35:44.244Z"
   },
   {
    "duration": 12,
    "start_time": "2023-03-30T17:38:25.431Z"
   },
   {
    "duration": 57,
    "start_time": "2023-03-30T17:38:50.014Z"
   },
   {
    "duration": 17,
    "start_time": "2023-03-30T17:40:59.012Z"
   },
   {
    "duration": 14,
    "start_time": "2023-03-30T17:42:18.543Z"
   },
   {
    "duration": 17,
    "start_time": "2023-03-30T17:43:12.127Z"
   },
   {
    "duration": 25,
    "start_time": "2023-03-30T17:44:13.699Z"
   },
   {
    "duration": 25,
    "start_time": "2023-03-30T17:44:36.417Z"
   },
   {
    "duration": 13,
    "start_time": "2023-03-30T17:45:36.940Z"
   },
   {
    "duration": 112,
    "start_time": "2023-03-30T17:45:47.584Z"
   },
   {
    "duration": 19,
    "start_time": "2023-03-30T17:45:59.588Z"
   },
   {
    "duration": 21,
    "start_time": "2023-03-30T17:47:01.324Z"
   },
   {
    "duration": 13,
    "start_time": "2023-03-30T17:47:19.545Z"
   },
   {
    "duration": 5,
    "start_time": "2023-03-30T17:47:39.623Z"
   },
   {
    "duration": 30,
    "start_time": "2023-03-30T17:48:12.092Z"
   },
   {
    "duration": 17,
    "start_time": "2023-03-30T17:49:48.556Z"
   },
   {
    "duration": 21,
    "start_time": "2023-03-30T17:58:48.590Z"
   },
   {
    "duration": 21,
    "start_time": "2023-03-30T18:00:11.553Z"
   },
   {
    "duration": 40,
    "start_time": "2023-03-30T18:00:51.732Z"
   },
   {
    "duration": 16,
    "start_time": "2023-03-30T18:12:56.421Z"
   },
   {
    "duration": 5,
    "start_time": "2023-03-30T18:17:17.022Z"
   },
   {
    "duration": 4,
    "start_time": "2023-03-30T18:17:34.720Z"
   },
   {
    "duration": 8,
    "start_time": "2023-03-30T18:18:12.697Z"
   },
   {
    "duration": 26,
    "start_time": "2023-03-30T18:19:54.290Z"
   },
   {
    "duration": 14,
    "start_time": "2023-03-30T18:20:05.455Z"
   },
   {
    "duration": 6,
    "start_time": "2023-03-30T18:23:34.305Z"
   },
   {
    "duration": 5,
    "start_time": "2023-03-30T18:32:15.189Z"
   },
   {
    "duration": 20,
    "start_time": "2023-03-30T18:36:27.955Z"
   },
   {
    "duration": 17,
    "start_time": "2023-03-30T18:37:22.511Z"
   },
   {
    "duration": 5,
    "start_time": "2023-03-30T18:41:56.360Z"
   },
   {
    "duration": 27,
    "start_time": "2023-03-30T18:42:48.818Z"
   },
   {
    "duration": 16,
    "start_time": "2023-03-30T18:42:53.695Z"
   },
   {
    "duration": 19,
    "start_time": "2023-03-30T18:43:12.544Z"
   },
   {
    "duration": 19,
    "start_time": "2023-03-30T18:44:00.535Z"
   },
   {
    "duration": 19,
    "start_time": "2023-03-30T18:44:33.875Z"
   },
   {
    "duration": 10,
    "start_time": "2023-03-30T18:45:53.816Z"
   },
   {
    "duration": 20,
    "start_time": "2023-03-30T18:46:05.237Z"
   },
   {
    "duration": 19,
    "start_time": "2023-03-30T18:46:32.782Z"
   },
   {
    "duration": 13,
    "start_time": "2023-03-30T18:47:38.453Z"
   },
   {
    "duration": 50,
    "start_time": "2023-03-30T18:48:15.030Z"
   },
   {
    "duration": 57,
    "start_time": "2023-03-30T18:48:22.481Z"
   },
   {
    "duration": 40,
    "start_time": "2023-03-30T18:48:47.274Z"
   },
   {
    "duration": 56,
    "start_time": "2023-03-30T18:49:00.482Z"
   },
   {
    "duration": 49,
    "start_time": "2023-03-30T18:49:18.699Z"
   },
   {
    "duration": 16,
    "start_time": "2023-03-30T18:49:28.733Z"
   },
   {
    "duration": 17,
    "start_time": "2023-03-30T18:49:35.616Z"
   },
   {
    "duration": 18,
    "start_time": "2023-03-30T18:50:15.647Z"
   },
   {
    "duration": 30,
    "start_time": "2023-03-30T18:50:42.246Z"
   },
   {
    "duration": 103,
    "start_time": "2023-03-31T05:10:31.925Z"
   },
   {
    "duration": 3135,
    "start_time": "2023-03-31T05:10:39.460Z"
   },
   {
    "duration": 28,
    "start_time": "2023-03-31T05:10:43.218Z"
   },
   {
    "duration": 5,
    "start_time": "2023-03-31T05:10:45.306Z"
   },
   {
    "duration": 21,
    "start_time": "2023-03-31T05:10:46.042Z"
   },
   {
    "duration": 1347,
    "start_time": "2023-03-31T05:10:47.275Z"
   },
   {
    "duration": 8,
    "start_time": "2023-03-31T05:10:52.774Z"
   },
   {
    "duration": 11,
    "start_time": "2023-03-31T05:10:53.977Z"
   },
   {
    "duration": 5392,
    "start_time": "2023-03-31T05:10:55.684Z"
   },
   {
    "duration": 16,
    "start_time": "2023-03-31T05:11:01.078Z"
   },
   {
    "duration": 24,
    "start_time": "2023-03-31T05:11:01.095Z"
   },
   {
    "duration": 131,
    "start_time": "2023-03-31T05:11:01.180Z"
   },
   {
    "duration": 14,
    "start_time": "2023-03-31T05:11:03.159Z"
   },
   {
    "duration": 86,
    "start_time": "2023-03-31T05:11:06.584Z"
   },
   {
    "duration": 98,
    "start_time": "2023-03-31T05:11:14.699Z"
   },
   {
    "duration": 76,
    "start_time": "2023-03-31T05:11:57.193Z"
   },
   {
    "duration": 167,
    "start_time": "2023-03-31T05:12:05.814Z"
   },
   {
    "duration": 21,
    "start_time": "2023-03-31T05:12:12.896Z"
   },
   {
    "duration": 13,
    "start_time": "2023-03-31T05:12:24.657Z"
   },
   {
    "duration": 13,
    "start_time": "2023-03-31T05:13:41.185Z"
   },
   {
    "duration": 1350,
    "start_time": "2023-03-31T05:27:55.227Z"
   },
   {
    "duration": 5,
    "start_time": "2023-03-31T05:28:15.627Z"
   },
   {
    "duration": 15,
    "start_time": "2023-03-31T05:31:40.602Z"
   },
   {
    "duration": 4,
    "start_time": "2023-03-31T05:34:48.515Z"
   },
   {
    "duration": 18,
    "start_time": "2023-03-31T05:35:00.036Z"
   },
   {
    "duration": 6,
    "start_time": "2023-03-31T05:35:18.230Z"
   },
   {
    "duration": 7,
    "start_time": "2023-03-31T05:36:12.195Z"
   },
   {
    "duration": 16,
    "start_time": "2023-03-31T05:37:22.744Z"
   },
   {
    "duration": 8,
    "start_time": "2023-03-31T05:38:03.495Z"
   },
   {
    "duration": 8,
    "start_time": "2023-03-31T05:39:03.713Z"
   },
   {
    "duration": 10,
    "start_time": "2023-03-31T05:39:48.521Z"
   },
   {
    "duration": 14,
    "start_time": "2023-03-31T05:40:31.949Z"
   },
   {
    "duration": 10,
    "start_time": "2023-03-31T05:41:18.915Z"
   },
   {
    "duration": 5,
    "start_time": "2023-03-31T05:43:55.872Z"
   },
   {
    "duration": 15,
    "start_time": "2023-03-31T05:44:31.332Z"
   },
   {
    "duration": 8,
    "start_time": "2023-03-31T05:45:00.977Z"
   },
   {
    "duration": 9,
    "start_time": "2023-03-31T05:46:58.664Z"
   },
   {
    "duration": 4,
    "start_time": "2023-03-31T05:48:40.891Z"
   },
   {
    "duration": 5,
    "start_time": "2023-03-31T05:49:04.316Z"
   },
   {
    "duration": 5,
    "start_time": "2023-03-31T05:49:20.518Z"
   },
   {
    "duration": 4,
    "start_time": "2023-03-31T05:50:34.284Z"
   },
   {
    "duration": 5,
    "start_time": "2023-03-31T05:57:33.623Z"
   },
   {
    "duration": 5,
    "start_time": "2023-03-31T05:57:55.855Z"
   },
   {
    "duration": 5,
    "start_time": "2023-03-31T05:58:08.887Z"
   },
   {
    "duration": 6,
    "start_time": "2023-03-31T05:59:43.987Z"
   },
   {
    "duration": 5,
    "start_time": "2023-03-31T06:00:26.913Z"
   },
   {
    "duration": 10,
    "start_time": "2023-03-31T06:00:58.608Z"
   },
   {
    "duration": 64,
    "start_time": "2023-03-31T06:09:28.409Z"
   },
   {
    "duration": 2733,
    "start_time": "2023-03-31T06:09:40.606Z"
   },
   {
    "duration": 28,
    "start_time": "2023-03-31T06:09:45.917Z"
   },
   {
    "duration": 6,
    "start_time": "2023-03-31T06:09:48.070Z"
   },
   {
    "duration": 19,
    "start_time": "2023-03-31T06:09:48.720Z"
   },
   {
    "duration": 1267,
    "start_time": "2023-03-31T06:09:50.007Z"
   },
   {
    "duration": 15,
    "start_time": "2023-03-31T06:09:51.277Z"
   },
   {
    "duration": 15,
    "start_time": "2023-03-31T06:09:51.552Z"
   },
   {
    "duration": 5169,
    "start_time": "2023-03-31T06:09:52.150Z"
   },
   {
    "duration": 28,
    "start_time": "2023-03-31T06:09:57.321Z"
   },
   {
    "duration": 29,
    "start_time": "2023-03-31T06:09:57.351Z"
   },
   {
    "duration": 14,
    "start_time": "2023-03-31T06:09:57.382Z"
   },
   {
    "duration": 23,
    "start_time": "2023-03-31T06:09:57.398Z"
   },
   {
    "duration": 44,
    "start_time": "2023-03-31T06:09:57.423Z"
   },
   {
    "duration": 6,
    "start_time": "2023-03-31T06:09:57.917Z"
   },
   {
    "duration": 8,
    "start_time": "2023-03-31T06:10:35.600Z"
   },
   {
    "duration": 8,
    "start_time": "2023-03-31T06:12:29.973Z"
   },
   {
    "duration": 13,
    "start_time": "2023-03-31T06:13:20.966Z"
   },
   {
    "duration": 45,
    "start_time": "2023-03-31T06:14:00.901Z"
   },
   {
    "duration": 8,
    "start_time": "2023-03-31T06:14:39.562Z"
   },
   {
    "duration": 17,
    "start_time": "2023-03-31T06:14:47.390Z"
   },
   {
    "duration": 11,
    "start_time": "2023-03-31T06:14:57.618Z"
   },
   {
    "duration": 13,
    "start_time": "2023-03-31T06:15:29.853Z"
   },
   {
    "duration": 14,
    "start_time": "2023-03-31T06:15:52.702Z"
   },
   {
    "duration": 24,
    "start_time": "2023-03-31T06:18:51.951Z"
   },
   {
    "duration": 6,
    "start_time": "2023-03-31T06:28:28.170Z"
   },
   {
    "duration": 6,
    "start_time": "2023-03-31T06:28:56.255Z"
   },
   {
    "duration": 7,
    "start_time": "2023-03-31T06:29:07.621Z"
   },
   {
    "duration": 4,
    "start_time": "2023-03-31T06:29:22.038Z"
   },
   {
    "duration": 5,
    "start_time": "2023-03-31T06:30:40.459Z"
   },
   {
    "duration": 7,
    "start_time": "2023-03-31T06:31:01.705Z"
   },
   {
    "duration": 7,
    "start_time": "2023-03-31T06:32:01.223Z"
   },
   {
    "duration": 7,
    "start_time": "2023-03-31T06:32:08.593Z"
   },
   {
    "duration": 5,
    "start_time": "2023-03-31T06:32:19.026Z"
   },
   {
    "duration": 5,
    "start_time": "2023-03-31T06:35:30.207Z"
   },
   {
    "duration": 6,
    "start_time": "2023-03-31T06:36:19.155Z"
   },
   {
    "duration": 5,
    "start_time": "2023-03-31T06:41:41.626Z"
   },
   {
    "duration": 8,
    "start_time": "2023-03-31T06:53:54.212Z"
   },
   {
    "duration": 11,
    "start_time": "2023-03-31T06:56:04.257Z"
   },
   {
    "duration": 5,
    "start_time": "2023-03-31T06:56:11.915Z"
   },
   {
    "duration": 8,
    "start_time": "2023-03-31T06:56:20.798Z"
   },
   {
    "duration": 4,
    "start_time": "2023-03-31T06:56:26.570Z"
   },
   {
    "duration": 4,
    "start_time": "2023-03-31T06:57:28.318Z"
   },
   {
    "duration": 6,
    "start_time": "2023-03-31T07:00:51.800Z"
   },
   {
    "duration": 10,
    "start_time": "2023-03-31T07:01:15.136Z"
   },
   {
    "duration": 15,
    "start_time": "2023-03-31T07:01:51.802Z"
   },
   {
    "duration": 12,
    "start_time": "2023-03-31T07:02:33.100Z"
   },
   {
    "duration": 11,
    "start_time": "2023-03-31T07:05:54.947Z"
   },
   {
    "duration": 12,
    "start_time": "2023-03-31T07:06:10.519Z"
   },
   {
    "duration": 14,
    "start_time": "2023-03-31T07:06:32.805Z"
   },
   {
    "duration": 21,
    "start_time": "2023-03-31T07:15:56.472Z"
   },
   {
    "duration": 29,
    "start_time": "2023-03-31T07:19:44.893Z"
   },
   {
    "duration": 19,
    "start_time": "2023-03-31T07:21:22.376Z"
   },
   {
    "duration": 24,
    "start_time": "2023-03-31T07:21:46.626Z"
   },
   {
    "duration": 12,
    "start_time": "2023-03-31T07:28:42.167Z"
   },
   {
    "duration": 39,
    "start_time": "2023-03-31T07:34:25.479Z"
   },
   {
    "duration": 70,
    "start_time": "2023-03-31T07:35:50.987Z"
   },
   {
    "duration": 87,
    "start_time": "2023-03-31T07:39:17.659Z"
   },
   {
    "duration": 58,
    "start_time": "2023-03-31T08:44:58.361Z"
   },
   {
    "duration": 60,
    "start_time": "2023-03-31T09:03:16.724Z"
   },
   {
    "duration": 96,
    "start_time": "2023-03-31T09:03:35.104Z"
   },
   {
    "duration": 81,
    "start_time": "2023-03-31T09:13:13.293Z"
   },
   {
    "duration": 68,
    "start_time": "2023-03-31T09:13:41.411Z"
   },
   {
    "duration": 63,
    "start_time": "2023-03-31T09:17:18.743Z"
   },
   {
    "duration": 86,
    "start_time": "2023-03-31T09:23:38.069Z"
   },
   {
    "duration": 75,
    "start_time": "2023-03-31T09:24:28.850Z"
   },
   {
    "duration": 74,
    "start_time": "2023-03-31T09:24:41.900Z"
   },
   {
    "duration": 77,
    "start_time": "2023-03-31T09:25:07.716Z"
   },
   {
    "duration": 76,
    "start_time": "2023-03-31T09:25:26.095Z"
   },
   {
    "duration": 94,
    "start_time": "2023-03-31T09:32:56.911Z"
   },
   {
    "duration": 107,
    "start_time": "2023-03-31T09:33:20.110Z"
   },
   {
    "duration": 77,
    "start_time": "2023-03-31T09:33:27.330Z"
   },
   {
    "duration": 96,
    "start_time": "2023-03-31T09:33:41.273Z"
   },
   {
    "duration": 98,
    "start_time": "2023-03-31T09:34:52.688Z"
   },
   {
    "duration": 73,
    "start_time": "2023-03-31T09:35:32.689Z"
   },
   {
    "duration": 93,
    "start_time": "2023-03-31T09:36:07.773Z"
   },
   {
    "duration": 142,
    "start_time": "2023-03-31T09:43:09.809Z"
   },
   {
    "duration": 141,
    "start_time": "2023-03-31T09:44:31.741Z"
   },
   {
    "duration": 129,
    "start_time": "2023-03-31T09:44:37.995Z"
   },
   {
    "duration": 126,
    "start_time": "2023-03-31T09:44:54.244Z"
   },
   {
    "duration": 129,
    "start_time": "2023-03-31T09:45:16.663Z"
   },
   {
    "duration": 135,
    "start_time": "2023-03-31T09:45:29.094Z"
   },
   {
    "duration": 127,
    "start_time": "2023-03-31T09:45:39.479Z"
   },
   {
    "duration": 154,
    "start_time": "2023-03-31T09:46:07.245Z"
   },
   {
    "duration": 129,
    "start_time": "2023-03-31T09:46:24.310Z"
   },
   {
    "duration": 240,
    "start_time": "2023-03-31T09:49:28.055Z"
   },
   {
    "duration": 218,
    "start_time": "2023-03-31T09:49:44.512Z"
   },
   {
    "duration": 76,
    "start_time": "2023-03-31T09:55:50.541Z"
   },
   {
    "duration": 5,
    "start_time": "2023-03-31T09:57:15.621Z"
   },
   {
    "duration": 65,
    "start_time": "2023-03-31T09:57:25.618Z"
   },
   {
    "duration": 4,
    "start_time": "2023-03-31T10:06:31.523Z"
   },
   {
    "duration": 16,
    "start_time": "2023-03-31T10:07:13.655Z"
   },
   {
    "duration": 5,
    "start_time": "2023-03-31T10:10:43.278Z"
   },
   {
    "duration": 15,
    "start_time": "2023-03-31T10:11:16.451Z"
   },
   {
    "duration": 2971,
    "start_time": "2023-03-31T10:12:06.148Z"
   },
   {
    "duration": 188,
    "start_time": "2023-03-31T10:12:26.889Z"
   },
   {
    "duration": 118,
    "start_time": "2023-03-31T10:12:40.865Z"
   },
   {
    "duration": 125,
    "start_time": "2023-03-31T10:13:36.673Z"
   },
   {
    "duration": 4,
    "start_time": "2023-03-31T10:17:42.494Z"
   },
   {
    "duration": 135,
    "start_time": "2023-03-31T10:17:52.133Z"
   },
   {
    "duration": 127,
    "start_time": "2023-03-31T10:18:28.909Z"
   },
   {
    "duration": 132,
    "start_time": "2023-03-31T10:18:40.853Z"
   },
   {
    "duration": 130,
    "start_time": "2023-03-31T10:19:49.698Z"
   },
   {
    "duration": 137,
    "start_time": "2023-03-31T10:23:31.221Z"
   },
   {
    "duration": 133,
    "start_time": "2023-03-31T10:23:54.281Z"
   },
   {
    "duration": 304,
    "start_time": "2023-03-31T10:25:05.112Z"
   },
   {
    "duration": 140,
    "start_time": "2023-03-31T10:25:44.849Z"
   },
   {
    "duration": 148,
    "start_time": "2023-03-31T10:26:38.452Z"
   },
   {
    "duration": 130,
    "start_time": "2023-03-31T10:27:25.930Z"
   },
   {
    "duration": 122,
    "start_time": "2023-03-31T10:27:51.368Z"
   },
   {
    "duration": 130,
    "start_time": "2023-03-31T10:29:04.216Z"
   },
   {
    "duration": 123,
    "start_time": "2023-03-31T10:29:22.058Z"
   },
   {
    "duration": 123,
    "start_time": "2023-03-31T10:31:38.322Z"
   },
   {
    "duration": 133,
    "start_time": "2023-03-31T10:32:12.873Z"
   },
   {
    "duration": 149,
    "start_time": "2023-03-31T10:40:05.372Z"
   },
   {
    "duration": 145,
    "start_time": "2023-03-31T10:40:58.565Z"
   },
   {
    "duration": 132,
    "start_time": "2023-03-31T10:42:14.195Z"
   },
   {
    "duration": 13,
    "start_time": "2023-03-31T10:43:42.577Z"
   },
   {
    "duration": 97,
    "start_time": "2023-03-31T11:09:12.377Z"
   },
   {
    "duration": 110,
    "start_time": "2023-03-31T11:09:35.793Z"
   },
   {
    "duration": 124,
    "start_time": "2023-03-31T11:09:43.935Z"
   },
   {
    "duration": 156,
    "start_time": "2023-03-31T11:10:08.727Z"
   },
   {
    "duration": 89,
    "start_time": "2023-03-31T11:10:42.969Z"
   },
   {
    "duration": 94,
    "start_time": "2023-03-31T11:10:53.821Z"
   },
   {
    "duration": 169,
    "start_time": "2023-03-31T11:11:00.095Z"
   },
   {
    "duration": 93,
    "start_time": "2023-03-31T11:12:00.229Z"
   },
   {
    "duration": 149,
    "start_time": "2023-03-31T11:12:37.661Z"
   },
   {
    "duration": 307,
    "start_time": "2023-03-31T11:13:07.797Z"
   },
   {
    "duration": 20,
    "start_time": "2023-03-31T11:14:46.254Z"
   },
   {
    "duration": 45,
    "start_time": "2023-03-31T11:15:24.626Z"
   },
   {
    "duration": 19,
    "start_time": "2023-03-31T11:15:57.778Z"
   },
   {
    "duration": 19,
    "start_time": "2023-03-31T11:16:32.564Z"
   },
   {
    "duration": 106,
    "start_time": "2023-03-31T11:17:00.616Z"
   },
   {
    "duration": 152,
    "start_time": "2023-03-31T11:17:48.962Z"
   },
   {
    "duration": 73,
    "start_time": "2023-03-31T11:18:36.030Z"
   },
   {
    "duration": 14,
    "start_time": "2023-03-31T11:19:05.364Z"
   },
   {
    "duration": 2635,
    "start_time": "2023-03-31T11:20:11.914Z"
   },
   {
    "duration": 34,
    "start_time": "2023-03-31T11:20:14.650Z"
   },
   {
    "duration": 5,
    "start_time": "2023-03-31T11:20:16.403Z"
   },
   {
    "duration": 21,
    "start_time": "2023-03-31T11:20:16.972Z"
   },
   {
    "duration": 1500,
    "start_time": "2023-03-31T11:20:17.565Z"
   },
   {
    "duration": 9,
    "start_time": "2023-03-31T11:20:19.067Z"
   },
   {
    "duration": 33,
    "start_time": "2023-03-31T11:20:19.077Z"
   },
   {
    "duration": 5764,
    "start_time": "2023-03-31T11:20:19.419Z"
   },
   {
    "duration": 15,
    "start_time": "2023-03-31T11:20:25.185Z"
   },
   {
    "duration": 12,
    "start_time": "2023-03-31T11:20:25.202Z"
   },
   {
    "duration": 21,
    "start_time": "2023-03-31T11:20:25.235Z"
   },
   {
    "duration": 40,
    "start_time": "2023-03-31T11:20:25.258Z"
   },
   {
    "duration": 15,
    "start_time": "2023-03-31T11:20:29.730Z"
   },
   {
    "duration": 13,
    "start_time": "2023-03-31T11:20:30.700Z"
   },
   {
    "duration": 11,
    "start_time": "2023-03-31T11:20:31.331Z"
   },
   {
    "duration": 30,
    "start_time": "2023-03-31T11:20:31.962Z"
   },
   {
    "duration": 8,
    "start_time": "2023-03-31T11:20:32.697Z"
   },
   {
    "duration": 170,
    "start_time": "2023-03-31T11:20:34.255Z"
   },
   {
    "duration": 72,
    "start_time": "2023-03-31T11:20:36.074Z"
   },
   {
    "duration": 110,
    "start_time": "2023-03-31T11:20:37.488Z"
   },
   {
    "duration": 14,
    "start_time": "2023-03-31T11:20:38.511Z"
   },
   {
    "duration": 14,
    "start_time": "2023-03-31T11:30:20.372Z"
   },
   {
    "duration": 188,
    "start_time": "2023-03-31T11:42:21.977Z"
   },
   {
    "duration": 18,
    "start_time": "2023-03-31T11:42:32.088Z"
   },
   {
    "duration": 166,
    "start_time": "2023-03-31T11:43:27.956Z"
   },
   {
    "duration": 15,
    "start_time": "2023-03-31T11:47:00.908Z"
   },
   {
    "duration": 189,
    "start_time": "2023-03-31T11:47:07.778Z"
   },
   {
    "duration": 21,
    "start_time": "2023-03-31T11:48:28.526Z"
   },
   {
    "duration": 195,
    "start_time": "2023-03-31T11:53:14.217Z"
   },
   {
    "duration": 0,
    "start_time": "2023-03-31T12:17:24.879Z"
   },
   {
    "duration": 0,
    "start_time": "2023-03-31T12:17:24.891Z"
   },
   {
    "duration": 0,
    "start_time": "2023-03-31T12:17:24.895Z"
   },
   {
    "duration": 0,
    "start_time": "2023-03-31T12:17:24.897Z"
   },
   {
    "duration": 8,
    "start_time": "2023-03-31T15:04:22.299Z"
   },
   {
    "duration": 125,
    "start_time": "2023-03-31T15:04:50.687Z"
   },
   {
    "duration": 243,
    "start_time": "2023-03-31T15:09:39.820Z"
   },
   {
    "duration": 176,
    "start_time": "2023-03-31T15:11:29.587Z"
   },
   {
    "duration": 18,
    "start_time": "2023-03-31T15:14:37.470Z"
   },
   {
    "duration": 208,
    "start_time": "2023-03-31T15:15:12.072Z"
   },
   {
    "duration": 182,
    "start_time": "2023-03-31T15:19:59.353Z"
   },
   {
    "duration": 217,
    "start_time": "2023-03-31T15:20:08.887Z"
   },
   {
    "duration": 176,
    "start_time": "2023-03-31T15:20:31.569Z"
   },
   {
    "duration": 21,
    "start_time": "2023-03-31T16:28:54.869Z"
   },
   {
    "duration": 15,
    "start_time": "2023-03-31T16:30:01.164Z"
   },
   {
    "duration": 14,
    "start_time": "2023-03-31T16:30:54.215Z"
   },
   {
    "duration": 17,
    "start_time": "2023-03-31T16:31:37.768Z"
   },
   {
    "duration": 32,
    "start_time": "2023-03-31T16:32:04.950Z"
   },
   {
    "duration": 376,
    "start_time": "2023-03-31T16:32:12.415Z"
   },
   {
    "duration": 273,
    "start_time": "2023-03-31T16:33:45.233Z"
   },
   {
    "duration": 339,
    "start_time": "2023-03-31T16:34:11.566Z"
   },
   {
    "duration": 78,
    "start_time": "2023-03-31T16:34:25.915Z"
   },
   {
    "duration": 1928,
    "start_time": "2023-03-31T16:35:45.349Z"
   },
   {
    "duration": 24,
    "start_time": "2023-03-31T16:35:48.733Z"
   },
   {
    "duration": 5,
    "start_time": "2023-03-31T16:35:50.751Z"
   },
   {
    "duration": 13,
    "start_time": "2023-03-31T16:35:51.903Z"
   },
   {
    "duration": 1357,
    "start_time": "2023-03-31T16:35:52.927Z"
   },
   {
    "duration": 12,
    "start_time": "2023-03-31T16:35:54.286Z"
   },
   {
    "duration": 23,
    "start_time": "2023-03-31T16:35:54.552Z"
   },
   {
    "duration": 5203,
    "start_time": "2023-03-31T16:35:55.000Z"
   },
   {
    "duration": 14,
    "start_time": "2023-03-31T16:36:00.205Z"
   },
   {
    "duration": 34,
    "start_time": "2023-03-31T16:36:00.221Z"
   },
   {
    "duration": 23,
    "start_time": "2023-03-31T16:36:00.257Z"
   },
   {
    "duration": 36,
    "start_time": "2023-03-31T16:36:00.282Z"
   },
   {
    "duration": 31,
    "start_time": "2023-03-31T16:36:00.320Z"
   },
   {
    "duration": 14,
    "start_time": "2023-03-31T16:36:01.016Z"
   },
   {
    "duration": 8,
    "start_time": "2023-03-31T16:36:06.251Z"
   },
   {
    "duration": 26,
    "start_time": "2023-03-31T16:36:15.699Z"
   },
   {
    "duration": 13,
    "start_time": "2023-03-31T16:36:18.429Z"
   },
   {
    "duration": 170,
    "start_time": "2023-03-31T16:36:24.747Z"
   },
   {
    "duration": 101,
    "start_time": "2023-03-31T16:36:28.294Z"
   },
   {
    "duration": 14,
    "start_time": "2023-03-31T16:36:36.615Z"
   },
   {
    "duration": 23,
    "start_time": "2023-03-31T16:36:47.425Z"
   },
   {
    "duration": 16,
    "start_time": "2023-03-31T16:36:59.277Z"
   },
   {
    "duration": 141,
    "start_time": "2023-03-31T16:37:07.934Z"
   },
   {
    "duration": 197,
    "start_time": "2023-03-31T16:37:13.502Z"
   },
   {
    "duration": 14,
    "start_time": "2023-03-31T16:37:21.383Z"
   },
   {
    "duration": 161,
    "start_time": "2023-03-31T16:38:00.849Z"
   },
   {
    "duration": 132,
    "start_time": "2023-03-31T16:38:08.829Z"
   },
   {
    "duration": 164,
    "start_time": "2023-03-31T16:38:27.280Z"
   },
   {
    "duration": 11,
    "start_time": "2023-03-31T16:38:39.402Z"
   },
   {
    "duration": 5,
    "start_time": "2023-03-31T16:40:20.301Z"
   },
   {
    "duration": 8,
    "start_time": "2023-03-31T16:40:31.034Z"
   },
   {
    "duration": 6,
    "start_time": "2023-03-31T16:40:52.220Z"
   },
   {
    "duration": 1200,
    "start_time": "2023-03-31T16:46:50.036Z"
   },
   {
    "duration": 1181,
    "start_time": "2023-03-31T16:48:25.635Z"
   },
   {
    "duration": 1247,
    "start_time": "2023-03-31T16:48:45.136Z"
   },
   {
    "duration": 9,
    "start_time": "2023-03-31T16:50:21.587Z"
   },
   {
    "duration": 9,
    "start_time": "2023-03-31T16:51:54.517Z"
   },
   {
    "duration": 126,
    "start_time": "2023-03-31T16:55:15.556Z"
   },
   {
    "duration": 1200,
    "start_time": "2023-03-31T16:55:27.185Z"
   },
   {
    "duration": 79,
    "start_time": "2023-03-31T16:55:45.159Z"
   },
   {
    "duration": 3,
    "start_time": "2023-03-31T16:56:22.220Z"
   },
   {
    "duration": 3,
    "start_time": "2023-03-31T16:56:38.825Z"
   },
   {
    "duration": 11,
    "start_time": "2023-03-31T16:59:17.113Z"
   },
   {
    "duration": 9,
    "start_time": "2023-03-31T17:00:17.991Z"
   },
   {
    "duration": 8,
    "start_time": "2023-03-31T17:00:55.121Z"
   },
   {
    "duration": 7,
    "start_time": "2023-03-31T17:02:39.939Z"
   },
   {
    "duration": 76,
    "start_time": "2023-03-31T17:05:34.612Z"
   },
   {
    "duration": 79,
    "start_time": "2023-03-31T17:07:05.788Z"
   },
   {
    "duration": 42,
    "start_time": "2023-03-31T17:10:04.139Z"
   },
   {
    "duration": 42,
    "start_time": "2023-03-31T17:15:25.928Z"
   },
   {
    "duration": 22,
    "start_time": "2023-03-31T17:15:50.456Z"
   },
   {
    "duration": 8,
    "start_time": "2023-03-31T17:16:02.941Z"
   },
   {
    "duration": 5,
    "start_time": "2023-03-31T17:16:16.234Z"
   },
   {
    "duration": 8,
    "start_time": "2023-03-31T17:16:37.187Z"
   },
   {
    "duration": 29,
    "start_time": "2023-03-31T17:16:44.092Z"
   },
   {
    "duration": 12,
    "start_time": "2023-03-31T17:19:50.430Z"
   },
   {
    "duration": 12,
    "start_time": "2023-03-31T17:19:59.576Z"
   },
   {
    "duration": 12,
    "start_time": "2023-03-31T17:20:30.411Z"
   },
   {
    "duration": 12,
    "start_time": "2023-03-31T17:20:44.670Z"
   },
   {
    "duration": 166,
    "start_time": "2023-03-31T17:25:37.677Z"
   },
   {
    "duration": 61,
    "start_time": "2023-03-31T17:25:39.355Z"
   },
   {
    "duration": 15,
    "start_time": "2023-03-31T17:25:39.970Z"
   },
   {
    "duration": 9,
    "start_time": "2023-03-31T17:25:40.553Z"
   },
   {
    "duration": 17,
    "start_time": "2023-03-31T17:25:41.021Z"
   },
   {
    "duration": 127,
    "start_time": "2023-03-31T17:25:41.296Z"
   },
   {
    "duration": 176,
    "start_time": "2023-03-31T17:25:41.722Z"
   },
   {
    "duration": 12,
    "start_time": "2023-03-31T17:25:42.428Z"
   },
   {
    "duration": 44,
    "start_time": "2023-03-31T17:29:22.385Z"
   },
   {
    "duration": 6,
    "start_time": "2023-03-31T17:29:51.132Z"
   },
   {
    "duration": 2765,
    "start_time": "2023-03-31T17:30:00.654Z"
   },
   {
    "duration": 19,
    "start_time": "2023-03-31T17:30:03.421Z"
   },
   {
    "duration": 4,
    "start_time": "2023-03-31T17:30:04.492Z"
   },
   {
    "duration": 13,
    "start_time": "2023-03-31T17:30:06.065Z"
   },
   {
    "duration": 1257,
    "start_time": "2023-03-31T17:30:06.699Z"
   },
   {
    "duration": 9,
    "start_time": "2023-03-31T17:30:07.957Z"
   },
   {
    "duration": 15,
    "start_time": "2023-03-31T17:30:08.285Z"
   },
   {
    "duration": 4772,
    "start_time": "2023-03-31T17:30:08.922Z"
   },
   {
    "duration": 12,
    "start_time": "2023-03-31T17:30:13.696Z"
   },
   {
    "duration": 26,
    "start_time": "2023-03-31T17:30:13.709Z"
   },
   {
    "duration": 14,
    "start_time": "2023-03-31T17:30:13.737Z"
   },
   {
    "duration": 13,
    "start_time": "2023-03-31T17:30:13.753Z"
   },
   {
    "duration": 13,
    "start_time": "2023-03-31T17:30:15.248Z"
   },
   {
    "duration": 12,
    "start_time": "2023-03-31T17:30:16.962Z"
   },
   {
    "duration": 7,
    "start_time": "2023-03-31T17:30:19.395Z"
   },
   {
    "duration": 22,
    "start_time": "2023-03-31T17:30:29.807Z"
   },
   {
    "duration": 6,
    "start_time": "2023-03-31T17:30:32.596Z"
   },
   {
    "duration": 139,
    "start_time": "2023-03-31T17:30:36.852Z"
   },
   {
    "duration": 64,
    "start_time": "2023-03-31T17:30:40.084Z"
   },
   {
    "duration": 16,
    "start_time": "2023-03-31T17:30:44.327Z"
   },
   {
    "duration": 12,
    "start_time": "2023-03-31T17:30:47.325Z"
   },
   {
    "duration": 15,
    "start_time": "2023-03-31T17:30:50.224Z"
   },
   {
    "duration": 135,
    "start_time": "2023-03-31T17:30:55.413Z"
   },
   {
    "duration": 186,
    "start_time": "2023-03-31T17:30:57.072Z"
   },
   {
    "duration": 0,
    "start_time": "2023-03-31T17:32:47.418Z"
   },
   {
    "duration": 16,
    "start_time": "2023-03-31T17:32:59.619Z"
   },
   {
    "duration": 16,
    "start_time": "2023-03-31T17:34:18.848Z"
   },
   {
    "duration": 1270,
    "start_time": "2023-03-31T17:37:03.638Z"
   },
   {
    "duration": 1330,
    "start_time": "2023-03-31T17:38:19.521Z"
   },
   {
    "duration": 223,
    "start_time": "2023-03-31T17:40:11.979Z"
   },
   {
    "duration": 211,
    "start_time": "2023-03-31T17:43:26.794Z"
   },
   {
    "duration": 3475,
    "start_time": "2023-03-31T17:43:48.022Z"
   },
   {
    "duration": 199,
    "start_time": "2023-03-31T17:44:25.821Z"
   },
   {
    "duration": 199,
    "start_time": "2023-03-31T17:44:47.324Z"
   },
   {
    "duration": 209,
    "start_time": "2023-03-31T17:46:52.967Z"
   },
   {
    "duration": 218,
    "start_time": "2023-03-31T17:47:30.372Z"
   },
   {
    "duration": 215,
    "start_time": "2023-03-31T17:48:00.221Z"
   },
   {
    "duration": 206,
    "start_time": "2023-03-31T17:48:34.822Z"
   },
   {
    "duration": 45,
    "start_time": "2023-04-01T07:22:20.887Z"
   },
   {
    "duration": 2588,
    "start_time": "2023-04-01T07:22:50.218Z"
   },
   {
    "duration": 17,
    "start_time": "2023-04-01T07:22:52.808Z"
   },
   {
    "duration": 6,
    "start_time": "2023-04-01T07:22:54.502Z"
   },
   {
    "duration": 11,
    "start_time": "2023-04-01T07:22:55.527Z"
   },
   {
    "duration": 1085,
    "start_time": "2023-04-01T07:22:56.685Z"
   },
   {
    "duration": 8,
    "start_time": "2023-04-01T07:22:57.772Z"
   },
   {
    "duration": 11,
    "start_time": "2023-04-01T07:22:58.659Z"
   },
   {
    "duration": 2011,
    "start_time": "2023-04-01T07:22:59.770Z"
   },
   {
    "duration": 10,
    "start_time": "2023-04-01T07:23:01.782Z"
   },
   {
    "duration": 10,
    "start_time": "2023-04-01T07:23:02.166Z"
   },
   {
    "duration": 13,
    "start_time": "2023-04-01T07:23:03.310Z"
   },
   {
    "duration": 14,
    "start_time": "2023-04-01T07:23:04.400Z"
   },
   {
    "duration": 12,
    "start_time": "2023-04-01T07:23:07.003Z"
   },
   {
    "duration": 11,
    "start_time": "2023-04-01T07:23:10.863Z"
   },
   {
    "duration": 7,
    "start_time": "2023-04-01T07:23:30.635Z"
   },
   {
    "duration": 21,
    "start_time": "2023-04-01T07:23:32.347Z"
   },
   {
    "duration": 5,
    "start_time": "2023-04-01T07:23:36.848Z"
   },
   {
    "duration": 229,
    "start_time": "2023-04-01T07:23:39.666Z"
   },
   {
    "duration": 58,
    "start_time": "2023-04-01T07:23:51.399Z"
   },
   {
    "duration": 14,
    "start_time": "2023-04-01T07:23:58.077Z"
   },
   {
    "duration": 11,
    "start_time": "2023-04-01T07:24:02.396Z"
   },
   {
    "duration": 13,
    "start_time": "2023-04-01T07:24:19.927Z"
   },
   {
    "duration": 110,
    "start_time": "2023-04-01T07:24:23.989Z"
   },
   {
    "duration": 161,
    "start_time": "2023-04-01T07:24:28.204Z"
   },
   {
    "duration": 179,
    "start_time": "2023-04-01T07:24:37.106Z"
   },
   {
    "duration": 3111,
    "start_time": "2023-04-02T14:11:43.605Z"
   },
   {
    "duration": 33,
    "start_time": "2023-04-02T14:12:05.241Z"
   },
   {
    "duration": 5,
    "start_time": "2023-04-02T14:12:50.710Z"
   },
   {
    "duration": 16,
    "start_time": "2023-04-02T14:12:54.809Z"
   },
   {
    "duration": 1200,
    "start_time": "2023-04-02T14:13:05.809Z"
   },
   {
    "duration": 9,
    "start_time": "2023-04-02T14:13:11.365Z"
   },
   {
    "duration": 14,
    "start_time": "2023-04-02T14:13:15.179Z"
   },
   {
    "duration": 12,
    "start_time": "2023-04-02T14:13:48.266Z"
   },
   {
    "duration": 17,
    "start_time": "2023-04-02T14:13:54.068Z"
   },
   {
    "duration": 17,
    "start_time": "2023-04-02T14:14:02.712Z"
   },
   {
    "duration": 16,
    "start_time": "2023-04-02T14:14:08.862Z"
   },
   {
    "duration": 12,
    "start_time": "2023-04-02T14:14:13.105Z"
   },
   {
    "duration": 8,
    "start_time": "2023-04-02T14:14:42.202Z"
   },
   {
    "duration": 9,
    "start_time": "2023-04-02T14:14:46.138Z"
   },
   {
    "duration": 6,
    "start_time": "2023-04-02T14:14:56.428Z"
   },
   {
    "duration": 28,
    "start_time": "2023-04-02T14:15:10.527Z"
   },
   {
    "duration": 6,
    "start_time": "2023-04-02T14:15:15.741Z"
   },
   {
    "duration": 215,
    "start_time": "2023-04-02T14:15:21.044Z"
   },
   {
    "duration": 74,
    "start_time": "2023-04-02T14:15:26.807Z"
   },
   {
    "duration": 20,
    "start_time": "2023-04-02T14:15:45.742Z"
   },
   {
    "duration": 12,
    "start_time": "2023-04-02T14:15:49.407Z"
   },
   {
    "duration": 18,
    "start_time": "2023-04-02T14:15:53.962Z"
   },
   {
    "duration": 213,
    "start_time": "2023-04-02T14:16:05.130Z"
   },
   {
    "duration": 189,
    "start_time": "2023-04-02T14:16:49.207Z"
   },
   {
    "duration": 2089,
    "start_time": "2023-04-02T14:17:43.121Z"
   },
   {
    "duration": 12,
    "start_time": "2023-04-02T14:28:25.848Z"
   },
   {
    "duration": 1372,
    "start_time": "2023-04-02T14:28:41.972Z"
   },
   {
    "duration": 216,
    "start_time": "2023-04-02T14:29:33.995Z"
   },
   {
    "duration": 181,
    "start_time": "2023-04-02T14:29:44.827Z"
   },
   {
    "duration": 21,
    "start_time": "2023-04-02T14:30:13.140Z"
   },
   {
    "duration": 1740,
    "start_time": "2023-04-02T14:30:28.202Z"
   },
   {
    "duration": 19,
    "start_time": "2023-04-02T14:30:57.222Z"
   },
   {
    "duration": 8,
    "start_time": "2023-04-02T14:31:04.668Z"
   },
   {
    "duration": 16,
    "start_time": "2023-04-02T14:31:08.175Z"
   },
   {
    "duration": 1049,
    "start_time": "2023-04-02T14:31:16.425Z"
   },
   {
    "duration": 8,
    "start_time": "2023-04-02T14:31:24.366Z"
   },
   {
    "duration": 9,
    "start_time": "2023-04-02T14:31:28.368Z"
   },
   {
    "duration": 10,
    "start_time": "2023-04-02T14:31:46.293Z"
   },
   {
    "duration": 18,
    "start_time": "2023-04-02T14:31:55.293Z"
   },
   {
    "duration": 17,
    "start_time": "2023-04-02T14:32:03.287Z"
   },
   {
    "duration": 11,
    "start_time": "2023-04-02T14:32:14.609Z"
   },
   {
    "duration": 10,
    "start_time": "2023-04-02T14:32:18.189Z"
   },
   {
    "duration": 5,
    "start_time": "2023-04-02T14:32:36.508Z"
   },
   {
    "duration": 22,
    "start_time": "2023-04-02T14:32:42.074Z"
   },
   {
    "duration": 7,
    "start_time": "2023-04-02T14:32:47.167Z"
   },
   {
    "duration": 157,
    "start_time": "2023-04-02T14:33:16.861Z"
   },
   {
    "duration": 70,
    "start_time": "2023-04-02T14:33:21.527Z"
   },
   {
    "duration": 13,
    "start_time": "2023-04-02T14:33:43.374Z"
   },
   {
    "duration": 11,
    "start_time": "2023-04-02T14:33:47.223Z"
   },
   {
    "duration": 13,
    "start_time": "2023-04-02T14:33:51.676Z"
   },
   {
    "duration": 111,
    "start_time": "2023-04-02T14:33:56.462Z"
   },
   {
    "duration": 154,
    "start_time": "2023-04-02T14:34:00.661Z"
   },
   {
    "duration": 177,
    "start_time": "2023-04-02T14:34:43.801Z"
   },
   {
    "duration": 26,
    "start_time": "2023-04-02T14:35:00.042Z"
   },
   {
    "duration": 16,
    "start_time": "2023-04-02T14:35:45.673Z"
   },
   {
    "duration": 17,
    "start_time": "2023-04-02T14:36:04.575Z"
   },
   {
    "duration": 14,
    "start_time": "2023-04-02T14:36:29.058Z"
   },
   {
    "duration": 13,
    "start_time": "2023-04-02T14:36:52.063Z"
   },
   {
    "duration": 23,
    "start_time": "2023-04-02T14:37:36.744Z"
   },
   {
    "duration": 21,
    "start_time": "2023-04-02T14:37:47.609Z"
   },
   {
    "duration": 1859,
    "start_time": "2023-04-02T14:38:09.032Z"
   },
   {
    "duration": 17015,
    "start_time": "2023-04-02T14:39:17.708Z"
   },
   {
    "duration": 12347,
    "start_time": "2023-04-02T14:39:36.044Z"
   },
   {
    "duration": 211,
    "start_time": "2023-04-02T14:39:49.606Z"
   },
   {
    "duration": 13,
    "start_time": "2023-04-02T14:40:15.226Z"
   },
   {
    "duration": 123,
    "start_time": "2023-04-02T14:42:21.355Z"
   },
   {
    "duration": 83,
    "start_time": "2023-04-02T14:43:08.929Z"
   },
   {
    "duration": 14,
    "start_time": "2023-04-02T14:44:04.776Z"
   },
   {
    "duration": 1942,
    "start_time": "2023-04-02T14:45:51.465Z"
   },
   {
    "duration": 2392,
    "start_time": "2023-04-02T14:47:45.528Z"
   },
   {
    "duration": 19,
    "start_time": "2023-04-02T14:50:25.568Z"
   },
   {
    "duration": 20,
    "start_time": "2023-04-02T14:50:54.694Z"
   },
   {
    "duration": 2525,
    "start_time": "2023-04-02T14:51:27.283Z"
   },
   {
    "duration": 2062,
    "start_time": "2023-04-02T14:51:52.665Z"
   },
   {
    "duration": 2051,
    "start_time": "2023-04-02T14:53:05.564Z"
   },
   {
    "duration": 2281,
    "start_time": "2023-04-02T14:53:39.078Z"
   },
   {
    "duration": 2111,
    "start_time": "2023-04-02T14:57:14.537Z"
   },
   {
    "duration": 101,
    "start_time": "2023-04-02T14:57:50.268Z"
   },
   {
    "duration": 2075,
    "start_time": "2023-04-02T14:58:06.935Z"
   },
   {
    "duration": 2055,
    "start_time": "2023-04-02T14:58:42.281Z"
   },
   {
    "duration": 238,
    "start_time": "2023-04-02T14:59:02.943Z"
   },
   {
    "duration": 7,
    "start_time": "2023-04-02T14:59:23.366Z"
   },
   {
    "duration": 198,
    "start_time": "2023-04-02T15:00:14.070Z"
   },
   {
    "duration": 11,
    "start_time": "2023-04-02T15:00:35.994Z"
   },
   {
    "duration": 3142,
    "start_time": "2023-04-03T02:06:51.975Z"
   },
   {
    "duration": 20,
    "start_time": "2023-04-03T02:07:00.370Z"
   },
   {
    "duration": 5,
    "start_time": "2023-04-03T02:07:05.985Z"
   },
   {
    "duration": 14,
    "start_time": "2023-04-03T02:07:09.787Z"
   },
   {
    "duration": 1396,
    "start_time": "2023-04-03T02:07:13.386Z"
   },
   {
    "duration": 13,
    "start_time": "2023-04-03T02:07:18.736Z"
   },
   {
    "duration": 12,
    "start_time": "2023-04-03T02:07:25.215Z"
   },
   {
    "duration": 12,
    "start_time": "2023-04-03T02:07:58.470Z"
   },
   {
    "duration": 17,
    "start_time": "2023-04-03T02:08:02.767Z"
   },
   {
    "duration": 14,
    "start_time": "2023-04-03T02:08:19.187Z"
   },
   {
    "duration": 14,
    "start_time": "2023-04-03T02:08:23.387Z"
   },
   {
    "duration": 13,
    "start_time": "2023-04-03T02:08:27.186Z"
   },
   {
    "duration": 8,
    "start_time": "2023-04-03T02:08:30.719Z"
   },
   {
    "duration": 31,
    "start_time": "2023-04-03T02:08:36.970Z"
   },
   {
    "duration": 8,
    "start_time": "2023-04-03T02:08:42.578Z"
   },
   {
    "duration": 215,
    "start_time": "2023-04-03T02:08:48.785Z"
   },
   {
    "duration": 76,
    "start_time": "2023-04-03T02:08:55.420Z"
   },
   {
    "duration": 22,
    "start_time": "2023-04-03T02:09:27.822Z"
   },
   {
    "duration": 16,
    "start_time": "2023-04-03T02:09:31.820Z"
   },
   {
    "duration": 22,
    "start_time": "2023-04-03T02:09:35.966Z"
   },
   {
    "duration": 159,
    "start_time": "2023-04-03T02:09:40.086Z"
   },
   {
    "duration": 219,
    "start_time": "2023-04-03T02:09:44.471Z"
   },
   {
    "duration": 243,
    "start_time": "2023-04-03T02:10:09.102Z"
   },
   {
    "duration": 1272,
    "start_time": "2023-04-03T02:10:50.636Z"
   },
   {
    "duration": 1173,
    "start_time": "2023-04-03T02:11:43.338Z"
   },
   {
    "duration": 1427,
    "start_time": "2023-04-03T02:12:23.921Z"
   },
   {
    "duration": 1403,
    "start_time": "2023-04-03T02:13:24.016Z"
   },
   {
    "duration": 1432,
    "start_time": "2023-04-03T02:14:37.821Z"
   },
   {
    "duration": 89,
    "start_time": "2023-04-03T02:15:13.087Z"
   },
   {
    "duration": 1313,
    "start_time": "2023-04-03T02:15:41.771Z"
   },
   {
    "duration": 1448,
    "start_time": "2023-04-03T02:18:03.950Z"
   },
   {
    "duration": 40,
    "start_time": "2023-04-03T02:26:07.457Z"
   },
   {
    "duration": 70,
    "start_time": "2023-04-03T02:26:17.791Z"
   },
   {
    "duration": 52,
    "start_time": "2023-04-03T02:26:32.039Z"
   },
   {
    "duration": 67,
    "start_time": "2023-04-03T02:26:41.789Z"
   },
   {
    "duration": 40,
    "start_time": "2023-04-03T02:26:55.961Z"
   },
   {
    "duration": 19,
    "start_time": "2023-04-03T02:37:31.949Z"
   },
   {
    "duration": 1297,
    "start_time": "2023-04-03T02:38:28.282Z"
   },
   {
    "duration": 1096,
    "start_time": "2023-04-03T02:39:09.041Z"
   },
   {
    "duration": 18,
    "start_time": "2023-04-03T02:52:46.171Z"
   },
   {
    "duration": 53,
    "start_time": "2023-04-03T02:58:48.261Z"
   },
   {
    "duration": 13,
    "start_time": "2023-04-03T02:59:24.011Z"
   },
   {
    "duration": 9,
    "start_time": "2023-04-03T03:10:32.777Z"
   },
   {
    "duration": 9,
    "start_time": "2023-04-03T03:11:04.374Z"
   },
   {
    "duration": 434,
    "start_time": "2023-04-03T03:12:41.989Z"
   },
   {
    "duration": 1031,
    "start_time": "2023-04-03T03:40:12.815Z"
   },
   {
    "duration": 2423,
    "start_time": "2023-04-03T03:43:24.936Z"
   },
   {
    "duration": 42,
    "start_time": "2023-04-03T03:43:27.362Z"
   },
   {
    "duration": 9,
    "start_time": "2023-04-03T03:43:28.025Z"
   },
   {
    "duration": 15,
    "start_time": "2023-04-03T03:43:28.533Z"
   },
   {
    "duration": 1461,
    "start_time": "2023-04-03T03:43:29.037Z"
   },
   {
    "duration": 19,
    "start_time": "2023-04-03T03:43:30.502Z"
   },
   {
    "duration": 36,
    "start_time": "2023-04-03T03:43:30.523Z"
   },
   {
    "duration": 34,
    "start_time": "2023-04-03T03:43:30.561Z"
   },
   {
    "duration": 20,
    "start_time": "2023-04-03T03:43:31.070Z"
   },
   {
    "duration": 14,
    "start_time": "2023-04-03T03:43:32.441Z"
   },
   {
    "duration": 20,
    "start_time": "2023-04-03T03:43:34.102Z"
   },
   {
    "duration": 15,
    "start_time": "2023-04-03T03:43:36.095Z"
   },
   {
    "duration": 9,
    "start_time": "2023-04-03T03:43:38.084Z"
   },
   {
    "duration": 37,
    "start_time": "2023-04-03T03:43:39.674Z"
   },
   {
    "duration": 6,
    "start_time": "2023-04-03T03:43:41.117Z"
   },
   {
    "duration": 175,
    "start_time": "2023-04-03T03:43:42.506Z"
   },
   {
    "duration": 95,
    "start_time": "2023-04-03T03:43:44.586Z"
   },
   {
    "duration": 17,
    "start_time": "2023-04-03T03:43:46.077Z"
   },
   {
    "duration": 15,
    "start_time": "2023-04-03T03:43:47.660Z"
   },
   {
    "duration": 16,
    "start_time": "2023-04-03T03:43:49.984Z"
   },
   {
    "duration": 157,
    "start_time": "2023-04-03T03:43:51.371Z"
   },
   {
    "duration": 237,
    "start_time": "2023-04-03T03:43:56.240Z"
   },
   {
    "duration": 257,
    "start_time": "2023-04-03T03:43:59.758Z"
   },
   {
    "duration": 477,
    "start_time": "2023-04-03T03:44:05.888Z"
   },
   {
    "duration": 1215,
    "start_time": "2023-04-03T03:44:14.578Z"
   },
   {
    "duration": 6,
    "start_time": "2023-04-03T03:44:41.167Z"
   },
   {
    "duration": 10,
    "start_time": "2023-04-03T03:45:46.564Z"
   },
   {
    "duration": 1135,
    "start_time": "2023-04-03T03:46:11.888Z"
   },
   {
    "duration": 1093,
    "start_time": "2023-04-03T03:46:22.728Z"
   },
   {
    "duration": 977,
    "start_time": "2023-04-03T03:46:41.019Z"
   },
   {
    "duration": 1072,
    "start_time": "2023-04-03T03:48:02.622Z"
   },
   {
    "duration": 1067,
    "start_time": "2023-04-03T03:54:26.762Z"
   },
   {
    "duration": 943,
    "start_time": "2023-04-03T03:55:06.945Z"
   },
   {
    "duration": 6,
    "start_time": "2023-04-03T03:57:07.224Z"
   },
   {
    "duration": 10,
    "start_time": "2023-04-03T03:57:23.223Z"
   },
   {
    "duration": 1118,
    "start_time": "2023-04-03T03:59:13.985Z"
   },
   {
    "duration": 49,
    "start_time": "2023-04-03T04:00:33.881Z"
   },
   {
    "duration": 1027,
    "start_time": "2023-04-03T04:00:42.304Z"
   },
   {
    "duration": 1640,
    "start_time": "2023-04-03T04:15:22.055Z"
   },
   {
    "duration": 1467,
    "start_time": "2023-04-03T04:15:49.701Z"
   },
   {
    "duration": 1841,
    "start_time": "2023-04-03T04:22:49.282Z"
   },
   {
    "duration": 1772,
    "start_time": "2023-04-03T04:23:15.563Z"
   },
   {
    "duration": 181,
    "start_time": "2023-04-03T04:23:28.300Z"
   },
   {
    "duration": 204,
    "start_time": "2023-04-03T04:23:46.399Z"
   },
   {
    "duration": 205,
    "start_time": "2023-04-03T04:25:32.468Z"
   },
   {
    "duration": 210,
    "start_time": "2023-04-03T04:25:42.503Z"
   },
   {
    "duration": 220,
    "start_time": "2023-04-03T04:25:56.919Z"
   },
   {
    "duration": 193,
    "start_time": "2023-04-03T04:26:53.230Z"
   },
   {
    "duration": 194,
    "start_time": "2023-04-03T04:26:59.817Z"
   },
   {
    "duration": 234,
    "start_time": "2023-04-03T04:32:01.033Z"
   },
   {
    "duration": 210,
    "start_time": "2023-04-03T04:32:07.459Z"
   },
   {
    "duration": 197,
    "start_time": "2023-04-03T04:33:31.232Z"
   },
   {
    "duration": 186,
    "start_time": "2023-04-03T04:33:46.420Z"
   },
   {
    "duration": 233,
    "start_time": "2023-04-03T04:34:10.976Z"
   },
   {
    "duration": 217,
    "start_time": "2023-04-03T04:34:30.131Z"
   },
   {
    "duration": 249,
    "start_time": "2023-04-03T04:35:59.002Z"
   },
   {
    "duration": 453,
    "start_time": "2023-04-03T04:46:11.422Z"
   },
   {
    "duration": 60,
    "start_time": "2023-04-03T04:48:59.641Z"
   },
   {
    "duration": 204,
    "start_time": "2023-04-03T04:49:04.480Z"
   },
   {
    "duration": 294,
    "start_time": "2023-04-03T04:49:28.635Z"
   },
   {
    "duration": 193,
    "start_time": "2023-04-03T04:49:55.096Z"
   },
   {
    "duration": 294,
    "start_time": "2023-04-03T04:50:17.631Z"
   },
   {
    "duration": 300,
    "start_time": "2023-04-03T04:50:27.061Z"
   },
   {
    "duration": 198,
    "start_time": "2023-04-03T04:51:08.795Z"
   },
   {
    "duration": 352,
    "start_time": "2023-04-03T04:51:57.277Z"
   },
   {
    "duration": 230,
    "start_time": "2023-04-03T04:54:29.066Z"
   },
   {
    "duration": 271,
    "start_time": "2023-04-03T04:54:52.064Z"
   },
   {
    "duration": 212,
    "start_time": "2023-04-03T04:55:12.830Z"
   },
   {
    "duration": 426,
    "start_time": "2023-04-03T04:56:15.928Z"
   },
   {
    "duration": 745,
    "start_time": "2023-04-03T04:57:12.344Z"
   },
   {
    "duration": 598,
    "start_time": "2023-04-03T04:57:34.149Z"
   },
   {
    "duration": 391,
    "start_time": "2023-04-03T04:58:02.717Z"
   },
   {
    "duration": 400,
    "start_time": "2023-04-03T04:59:44.086Z"
   },
   {
    "duration": 7,
    "start_time": "2023-04-03T05:00:25.629Z"
   },
   {
    "duration": 642,
    "start_time": "2023-04-03T05:00:31.625Z"
   },
   {
    "duration": 857,
    "start_time": "2023-04-03T05:04:24.035Z"
   },
   {
    "duration": 638,
    "start_time": "2023-04-03T05:04:44.439Z"
   },
   {
    "duration": 596,
    "start_time": "2023-04-03T05:05:08.234Z"
   },
   {
    "duration": 617,
    "start_time": "2023-04-03T05:08:49.342Z"
   },
   {
    "duration": 10,
    "start_time": "2023-04-03T05:09:26.052Z"
   },
   {
    "duration": 13,
    "start_time": "2023-04-03T05:09:35.627Z"
   },
   {
    "duration": 16,
    "start_time": "2023-04-03T05:09:45.840Z"
   },
   {
    "duration": 16,
    "start_time": "2023-04-03T05:10:03.951Z"
   },
   {
    "duration": 13,
    "start_time": "2023-04-03T05:11:14.975Z"
   },
   {
    "duration": 16,
    "start_time": "2023-04-03T05:11:30.452Z"
   },
   {
    "duration": 187,
    "start_time": "2023-04-03T05:11:43.651Z"
   },
   {
    "duration": 235,
    "start_time": "2023-04-03T05:11:51.923Z"
   },
   {
    "duration": 171,
    "start_time": "2023-04-03T05:12:16.430Z"
   },
   {
    "duration": 15,
    "start_time": "2023-04-03T05:12:25.150Z"
   },
   {
    "duration": 238,
    "start_time": "2023-04-03T05:13:15.532Z"
   },
   {
    "duration": 2928,
    "start_time": "2023-04-03T07:05:37.976Z"
   },
   {
    "duration": 20,
    "start_time": "2023-04-03T07:05:46.036Z"
   },
   {
    "duration": 5,
    "start_time": "2023-04-03T07:05:51.459Z"
   },
   {
    "duration": 16,
    "start_time": "2023-04-03T07:05:54.258Z"
   },
   {
    "duration": 1238,
    "start_time": "2023-04-03T07:05:56.430Z"
   },
   {
    "duration": 11,
    "start_time": "2023-04-03T07:05:57.670Z"
   },
   {
    "duration": 10,
    "start_time": "2023-04-03T07:05:58.019Z"
   },
   {
    "duration": 15,
    "start_time": "2023-04-03T07:05:58.741Z"
   },
   {
    "duration": 16,
    "start_time": "2023-04-03T07:05:59.544Z"
   },
   {
    "duration": 14,
    "start_time": "2023-04-03T07:06:01.974Z"
   },
   {
    "duration": 17,
    "start_time": "2023-04-03T07:06:07.793Z"
   },
   {
    "duration": 13,
    "start_time": "2023-04-03T07:06:17.044Z"
   },
   {
    "duration": 7,
    "start_time": "2023-04-03T07:06:24.484Z"
   },
   {
    "duration": 9,
    "start_time": "2023-04-03T07:07:09.624Z"
   },
   {
    "duration": 8,
    "start_time": "2023-04-03T07:08:35.430Z"
   },
   {
    "duration": 6,
    "start_time": "2023-04-03T07:09:11.612Z"
   },
   {
    "duration": 23,
    "start_time": "2023-04-03T07:09:19.092Z"
   },
   {
    "duration": 5,
    "start_time": "2023-04-03T07:09:24.740Z"
   },
   {
    "duration": 158,
    "start_time": "2023-04-03T07:09:29.918Z"
   },
   {
    "duration": 77,
    "start_time": "2023-04-03T07:09:34.455Z"
   },
   {
    "duration": 17,
    "start_time": "2023-04-03T07:09:37.579Z"
   },
   {
    "duration": 15,
    "start_time": "2023-04-03T07:09:39.320Z"
   },
   {
    "duration": 15,
    "start_time": "2023-04-03T07:09:43.050Z"
   },
   {
    "duration": 138,
    "start_time": "2023-04-03T07:09:47.742Z"
   },
   {
    "duration": 228,
    "start_time": "2023-04-03T07:09:53.758Z"
   },
   {
    "duration": 253,
    "start_time": "2023-04-03T07:09:56.000Z"
   },
   {
    "duration": 6,
    "start_time": "2023-04-03T07:10:36.645Z"
   },
   {
    "duration": 7,
    "start_time": "2023-04-03T07:10:59.919Z"
   },
   {
    "duration": 12,
    "start_time": "2023-04-03T07:12:03.641Z"
   },
   {
    "duration": 8,
    "start_time": "2023-04-03T07:12:31.092Z"
   },
   {
    "duration": 8,
    "start_time": "2023-04-03T07:12:40.412Z"
   },
   {
    "duration": 75,
    "start_time": "2023-04-03T07:13:00.857Z"
   },
   {
    "duration": 374,
    "start_time": "2023-04-03T07:13:51.575Z"
   },
   {
    "duration": 231,
    "start_time": "2023-04-03T07:14:06.915Z"
   },
   {
    "duration": 24,
    "start_time": "2023-04-03T07:15:43.753Z"
   },
   {
    "duration": 8,
    "start_time": "2023-04-03T07:15:57.346Z"
   },
   {
    "duration": 44,
    "start_time": "2023-04-03T07:16:16.922Z"
   },
   {
    "duration": 41,
    "start_time": "2023-04-03T07:16:23.491Z"
   },
   {
    "duration": 13,
    "start_time": "2023-04-03T07:16:28.809Z"
   },
   {
    "duration": 10,
    "start_time": "2023-04-03T07:16:49.296Z"
   },
   {
    "duration": 13,
    "start_time": "2023-04-03T07:18:07.178Z"
   },
   {
    "duration": 291,
    "start_time": "2023-04-03T07:20:17.499Z"
   },
   {
    "duration": 308,
    "start_time": "2023-04-03T07:20:25.537Z"
   },
   {
    "duration": 1407,
    "start_time": "2023-04-03T07:20:37.475Z"
   },
   {
    "duration": 1349,
    "start_time": "2023-04-03T07:20:58.275Z"
   },
   {
    "duration": 1644,
    "start_time": "2023-04-03T07:21:16.077Z"
   },
   {
    "duration": 153,
    "start_time": "2023-04-03T07:22:03.159Z"
   },
   {
    "duration": 478,
    "start_time": "2023-04-03T07:22:21.992Z"
   },
   {
    "duration": 12,
    "start_time": "2023-04-03T07:23:11.137Z"
   },
   {
    "duration": 10,
    "start_time": "2023-04-03T07:23:41.193Z"
   },
   {
    "duration": 180,
    "start_time": "2023-04-03T07:24:28.544Z"
   },
   {
    "duration": 350,
    "start_time": "2023-04-03T07:24:48.745Z"
   },
   {
    "duration": 157,
    "start_time": "2023-04-03T07:25:11.245Z"
   },
   {
    "duration": 194,
    "start_time": "2023-04-03T07:25:33.694Z"
   },
   {
    "duration": 354,
    "start_time": "2023-04-03T07:25:52.985Z"
   },
   {
    "duration": 152,
    "start_time": "2023-04-03T07:27:03.247Z"
   },
   {
    "duration": 12,
    "start_time": "2023-04-03T07:27:14.211Z"
   },
   {
    "duration": 2312,
    "start_time": "2023-04-03T07:30:42.753Z"
   },
   {
    "duration": 20,
    "start_time": "2023-04-03T07:30:52.586Z"
   },
   {
    "duration": 12,
    "start_time": "2023-04-03T07:31:09.768Z"
   },
   {
    "duration": 17,
    "start_time": "2023-04-03T07:31:16.618Z"
   },
   {
    "duration": 1422,
    "start_time": "2023-04-03T07:31:20.966Z"
   },
   {
    "duration": 12,
    "start_time": "2023-04-03T07:31:28.401Z"
   },
   {
    "duration": 11,
    "start_time": "2023-04-03T07:31:41.769Z"
   },
   {
    "duration": 10,
    "start_time": "2023-04-03T07:31:54.447Z"
   },
   {
    "duration": 14,
    "start_time": "2023-04-03T07:32:05.071Z"
   },
   {
    "duration": 18,
    "start_time": "2023-04-03T07:32:14.235Z"
   },
   {
    "duration": 15,
    "start_time": "2023-04-03T07:32:42.485Z"
   },
   {
    "duration": 18,
    "start_time": "2023-04-03T07:33:09.024Z"
   },
   {
    "duration": 19,
    "start_time": "2023-04-03T07:33:13.986Z"
   },
   {
    "duration": 9,
    "start_time": "2023-04-03T07:33:34.108Z"
   },
   {
    "duration": 38,
    "start_time": "2023-04-03T07:33:58.346Z"
   },
   {
    "duration": 8,
    "start_time": "2023-04-03T07:34:14.866Z"
   },
   {
    "duration": 162,
    "start_time": "2023-04-03T07:34:19.319Z"
   },
   {
    "duration": 108,
    "start_time": "2023-04-03T07:34:25.124Z"
   },
   {
    "duration": 22,
    "start_time": "2023-04-03T07:34:37.417Z"
   },
   {
    "duration": 16,
    "start_time": "2023-04-03T07:34:42.170Z"
   },
   {
    "duration": 25,
    "start_time": "2023-04-03T07:34:47.388Z"
   },
   {
    "duration": 155,
    "start_time": "2023-04-03T07:34:53.884Z"
   },
   {
    "duration": 216,
    "start_time": "2023-04-03T07:34:58.536Z"
   },
   {
    "duration": 281,
    "start_time": "2023-04-03T07:35:03.918Z"
   },
   {
    "duration": 16,
    "start_time": "2023-04-03T07:36:18.035Z"
   },
   {
    "duration": 17,
    "start_time": "2023-04-03T07:36:28.878Z"
   },
   {
    "duration": 19,
    "start_time": "2023-04-03T07:36:40.445Z"
   },
   {
    "duration": 21,
    "start_time": "2023-04-03T07:40:28.757Z"
   },
   {
    "duration": 12,
    "start_time": "2023-04-03T07:41:01.509Z"
   },
   {
    "duration": 16,
    "start_time": "2023-04-03T07:41:31.852Z"
   },
   {
    "duration": 11,
    "start_time": "2023-04-03T07:41:37.219Z"
   },
   {
    "duration": 17,
    "start_time": "2023-04-03T07:41:56.320Z"
   },
   {
    "duration": 16,
    "start_time": "2023-04-03T07:43:58.524Z"
   },
   {
    "duration": 16,
    "start_time": "2023-04-03T07:44:33.604Z"
   },
   {
    "duration": 13,
    "start_time": "2023-04-03T07:48:54.221Z"
   },
   {
    "duration": 56,
    "start_time": "2023-04-03T07:53:45.922Z"
   },
   {
    "duration": 51,
    "start_time": "2023-04-03T07:53:54.768Z"
   },
   {
    "duration": 18,
    "start_time": "2023-04-03T07:54:39.348Z"
   },
   {
    "duration": 14,
    "start_time": "2023-04-03T07:54:51.256Z"
   },
   {
    "duration": 31,
    "start_time": "2023-04-03T07:55:06.305Z"
   },
   {
    "duration": 31,
    "start_time": "2023-04-03T07:55:18.524Z"
   },
   {
    "duration": 43,
    "start_time": "2023-04-03T07:55:34.167Z"
   },
   {
    "duration": 11,
    "start_time": "2023-04-03T07:58:38.241Z"
   },
   {
    "duration": 12,
    "start_time": "2023-04-03T07:58:51.492Z"
   },
   {
    "duration": 15,
    "start_time": "2023-04-03T07:59:22.993Z"
   },
   {
    "duration": 376,
    "start_time": "2023-04-03T08:00:18.665Z"
   },
   {
    "duration": 1573,
    "start_time": "2023-04-03T08:00:31.497Z"
   },
   {
    "duration": 183,
    "start_time": "2023-04-03T08:00:51.452Z"
   },
   {
    "duration": 12,
    "start_time": "2023-04-03T08:02:05.981Z"
   },
   {
    "duration": 2736,
    "start_time": "2023-04-03T08:05:53.616Z"
   },
   {
    "duration": 19,
    "start_time": "2023-04-03T08:06:01.133Z"
   },
   {
    "duration": 11,
    "start_time": "2023-04-03T08:06:08.788Z"
   },
   {
    "duration": 14,
    "start_time": "2023-04-03T08:06:13.145Z"
   },
   {
    "duration": 1340,
    "start_time": "2023-04-03T08:06:17.249Z"
   },
   {
    "duration": 10,
    "start_time": "2023-04-03T08:06:23.112Z"
   },
   {
    "duration": 13,
    "start_time": "2023-04-03T08:06:27.398Z"
   },
   {
    "duration": 16,
    "start_time": "2023-04-03T08:06:31.741Z"
   },
   {
    "duration": 17,
    "start_time": "2023-04-03T08:06:36.548Z"
   },
   {
    "duration": 21,
    "start_time": "2023-04-03T08:07:13.118Z"
   },
   {
    "duration": 14,
    "start_time": "2023-04-03T08:07:34.604Z"
   },
   {
    "duration": 19,
    "start_time": "2023-04-03T08:07:57.616Z"
   },
   {
    "duration": 15,
    "start_time": "2023-04-03T08:08:04.648Z"
   },
   {
    "duration": 16,
    "start_time": "2023-04-03T08:08:09.475Z"
   },
   {
    "duration": 15,
    "start_time": "2023-04-03T08:08:29.067Z"
   },
   {
    "duration": 12,
    "start_time": "2023-04-03T08:08:40.141Z"
   },
   {
    "duration": 8,
    "start_time": "2023-04-03T08:08:45.401Z"
   },
   {
    "duration": 80,
    "start_time": "2023-04-03T08:09:39.409Z"
   },
   {
    "duration": 9,
    "start_time": "2023-04-03T08:09:54.094Z"
   },
   {
    "duration": 26,
    "start_time": "2023-04-03T08:09:59.432Z"
   },
   {
    "duration": 5,
    "start_time": "2023-04-03T08:10:11.187Z"
   },
   {
    "duration": 170,
    "start_time": "2023-04-03T08:10:16.882Z"
   },
   {
    "duration": 100,
    "start_time": "2023-04-03T08:10:22.464Z"
   },
   {
    "duration": 19,
    "start_time": "2023-04-03T08:10:26.952Z"
   },
   {
    "duration": 19,
    "start_time": "2023-04-03T08:10:30.862Z"
   },
   {
    "duration": 16,
    "start_time": "2023-04-03T08:10:35.253Z"
   },
   {
    "duration": 147,
    "start_time": "2023-04-03T08:10:41.818Z"
   },
   {
    "duration": 217,
    "start_time": "2023-04-03T08:10:47.551Z"
   },
   {
    "duration": 305,
    "start_time": "2023-04-03T08:10:54.988Z"
   },
   {
    "duration": 14,
    "start_time": "2023-04-03T08:11:20.677Z"
   },
   {
    "duration": 14,
    "start_time": "2023-04-03T08:11:44.818Z"
   },
   {
    "duration": 16,
    "start_time": "2023-04-03T08:12:05.285Z"
   },
   {
    "duration": 18,
    "start_time": "2023-04-03T08:12:14.220Z"
   },
   {
    "duration": 16,
    "start_time": "2023-04-03T08:12:23.215Z"
   },
   {
    "duration": 14,
    "start_time": "2023-04-03T08:13:29.209Z"
   },
   {
    "duration": 16,
    "start_time": "2023-04-03T08:13:55.349Z"
   },
   {
    "duration": 13,
    "start_time": "2023-04-03T08:14:47.901Z"
   },
   {
    "duration": 22,
    "start_time": "2023-04-03T08:16:35.662Z"
   },
   {
    "duration": 24,
    "start_time": "2023-04-03T08:16:49.456Z"
   },
   {
    "duration": 24,
    "start_time": "2023-04-03T08:17:08.621Z"
   },
   {
    "duration": 25,
    "start_time": "2023-04-03T08:17:30.086Z"
   },
   {
    "duration": 33,
    "start_time": "2023-04-03T08:17:47.505Z"
   },
   {
    "duration": 37,
    "start_time": "2023-04-03T08:18:01.262Z"
   },
   {
    "duration": 17,
    "start_time": "2023-04-03T08:18:23.137Z"
   },
   {
    "duration": 17,
    "start_time": "2023-04-03T08:18:39.704Z"
   },
   {
    "duration": 16,
    "start_time": "2023-04-03T08:18:47.838Z"
   },
   {
    "duration": 14,
    "start_time": "2023-04-03T08:22:45.856Z"
   },
   {
    "duration": 13,
    "start_time": "2023-04-03T08:23:01.192Z"
   },
   {
    "duration": 24,
    "start_time": "2023-04-03T08:23:06.822Z"
   },
   {
    "duration": 16,
    "start_time": "2023-04-03T08:23:29.124Z"
   },
   {
    "duration": 5,
    "start_time": "2023-04-03T08:24:29.726Z"
   },
   {
    "duration": 7,
    "start_time": "2023-04-03T08:25:02.803Z"
   },
   {
    "duration": 7,
    "start_time": "2023-04-03T08:26:04.559Z"
   },
   {
    "duration": 13,
    "start_time": "2023-04-03T09:13:25.569Z"
   },
   {
    "duration": 6,
    "start_time": "2023-04-03T09:16:41.200Z"
   },
   {
    "duration": 7,
    "start_time": "2023-04-03T09:17:23.018Z"
   },
   {
    "duration": 3015,
    "start_time": "2023-04-03T14:46:06.352Z"
   },
   {
    "duration": 21,
    "start_time": "2023-04-03T14:46:09.369Z"
   },
   {
    "duration": 11,
    "start_time": "2023-04-03T14:46:09.392Z"
   },
   {
    "duration": 17,
    "start_time": "2023-04-03T14:46:09.405Z"
   },
   {
    "duration": 1406,
    "start_time": "2023-04-03T14:46:09.424Z"
   },
   {
    "duration": 18,
    "start_time": "2023-04-03T14:46:10.832Z"
   },
   {
    "duration": 10,
    "start_time": "2023-04-03T14:46:10.852Z"
   },
   {
    "duration": 12,
    "start_time": "2023-04-03T14:46:10.863Z"
   },
   {
    "duration": 37,
    "start_time": "2023-04-03T14:46:10.877Z"
   },
   {
    "duration": 15,
    "start_time": "2023-04-03T14:46:10.916Z"
   },
   {
    "duration": 19,
    "start_time": "2023-04-03T14:46:10.933Z"
   },
   {
    "duration": 11,
    "start_time": "2023-04-03T14:46:10.954Z"
   },
   {
    "duration": 39,
    "start_time": "2023-04-03T14:46:10.967Z"
   },
   {
    "duration": 27,
    "start_time": "2023-04-03T14:46:11.008Z"
   },
   {
    "duration": 5,
    "start_time": "2023-04-03T14:46:11.036Z"
   },
   {
    "duration": 195,
    "start_time": "2023-04-03T14:46:11.043Z"
   },
   {
    "duration": 89,
    "start_time": "2023-04-03T14:46:11.241Z"
   },
   {
    "duration": 18,
    "start_time": "2023-04-03T14:46:11.332Z"
   },
   {
    "duration": 14,
    "start_time": "2023-04-03T14:46:11.352Z"
   },
   {
    "duration": 42,
    "start_time": "2023-04-03T14:46:11.368Z"
   },
   {
    "duration": 157,
    "start_time": "2023-04-03T14:46:11.412Z"
   },
   {
    "duration": 224,
    "start_time": "2023-04-03T14:46:11.571Z"
   },
   {
    "duration": 280,
    "start_time": "2023-04-03T14:46:11.797Z"
   },
   {
    "duration": 8,
    "start_time": "2023-04-03T14:46:12.079Z"
   },
   {
    "duration": 431,
    "start_time": "2023-04-03T14:46:12.103Z"
   },
   {
    "duration": 1386,
    "start_time": "2023-04-03T14:46:12.536Z"
   },
   {
    "duration": 181,
    "start_time": "2023-04-03T14:46:13.923Z"
   },
   {
    "duration": 2251,
    "start_time": "2023-04-03T14:46:15.010Z"
   },
   {
    "duration": 20,
    "start_time": "2023-04-03T14:46:25.222Z"
   },
   {
    "duration": 11,
    "start_time": "2023-04-03T14:46:32.727Z"
   },
   {
    "duration": 14,
    "start_time": "2023-04-03T14:46:38.169Z"
   },
   {
    "duration": 1278,
    "start_time": "2023-04-03T14:46:44.976Z"
   },
   {
    "duration": 9,
    "start_time": "2023-04-03T14:46:55.778Z"
   },
   {
    "duration": 10,
    "start_time": "2023-04-03T14:47:00.777Z"
   },
   {
    "duration": 12,
    "start_time": "2023-04-03T14:47:13.125Z"
   },
   {
    "duration": 17,
    "start_time": "2023-04-03T14:47:20.171Z"
   },
   {
    "duration": 16,
    "start_time": "2023-04-03T14:47:27.508Z"
   },
   {
    "duration": 20,
    "start_time": "2023-04-03T14:47:35.283Z"
   },
   {
    "duration": 17,
    "start_time": "2023-04-03T14:48:08.406Z"
   },
   {
    "duration": 14,
    "start_time": "2023-04-03T14:48:18.576Z"
   },
   {
    "duration": 9,
    "start_time": "2023-04-03T14:48:39.591Z"
   },
   {
    "duration": 26,
    "start_time": "2023-04-03T14:50:54.872Z"
   },
   {
    "duration": 5,
    "start_time": "2023-04-03T14:51:01.268Z"
   },
   {
    "duration": 153,
    "start_time": "2023-04-03T14:51:07.116Z"
   },
   {
    "duration": 73,
    "start_time": "2023-04-03T14:51:26.084Z"
   },
   {
    "duration": 18,
    "start_time": "2023-04-03T14:51:33.421Z"
   },
   {
    "duration": 14,
    "start_time": "2023-04-03T14:51:37.990Z"
   },
   {
    "duration": 21,
    "start_time": "2023-04-03T14:52:08.022Z"
   },
   {
    "duration": 148,
    "start_time": "2023-04-03T14:52:16.858Z"
   },
   {
    "duration": 227,
    "start_time": "2023-04-03T14:52:24.222Z"
   },
   {
    "duration": 366,
    "start_time": "2023-04-03T14:52:31.523Z"
   },
   {
    "duration": 13,
    "start_time": "2023-04-03T14:53:11.175Z"
   },
   {
    "duration": 13,
    "start_time": "2023-04-03T14:54:17.592Z"
   },
   {
    "duration": 13,
    "start_time": "2023-04-03T14:54:36.919Z"
   },
   {
    "duration": 11,
    "start_time": "2023-04-03T14:54:52.874Z"
   },
   {
    "duration": 12,
    "start_time": "2023-04-03T14:55:22.444Z"
   },
   {
    "duration": 88,
    "start_time": "2023-04-03T14:55:34.288Z"
   },
   {
    "duration": 2852,
    "start_time": "2023-04-03T14:56:06.579Z"
   },
   {
    "duration": 21,
    "start_time": "2023-04-03T14:56:09.434Z"
   },
   {
    "duration": 9,
    "start_time": "2023-04-03T14:56:09.456Z"
   },
   {
    "duration": 15,
    "start_time": "2023-04-03T14:56:09.467Z"
   },
   {
    "duration": 1395,
    "start_time": "2023-04-03T14:56:09.484Z"
   },
   {
    "duration": 9,
    "start_time": "2023-04-03T14:56:10.881Z"
   },
   {
    "duration": 18,
    "start_time": "2023-04-03T14:56:10.892Z"
   },
   {
    "duration": 11,
    "start_time": "2023-04-03T14:56:10.912Z"
   },
   {
    "duration": 22,
    "start_time": "2023-04-03T14:56:10.925Z"
   },
   {
    "duration": 13,
    "start_time": "2023-04-03T14:56:10.949Z"
   },
   {
    "duration": 44,
    "start_time": "2023-04-03T14:56:10.964Z"
   },
   {
    "duration": 13,
    "start_time": "2023-04-03T14:56:11.010Z"
   },
   {
    "duration": 15,
    "start_time": "2023-04-03T14:56:11.024Z"
   },
   {
    "duration": 26,
    "start_time": "2023-04-03T14:56:11.042Z"
   },
   {
    "duration": 7,
    "start_time": "2023-04-03T14:56:11.069Z"
   },
   {
    "duration": 176,
    "start_time": "2023-04-03T14:56:11.103Z"
   },
   {
    "duration": 87,
    "start_time": "2023-04-03T14:56:11.281Z"
   },
   {
    "duration": 18,
    "start_time": "2023-04-03T14:56:11.369Z"
   },
   {
    "duration": 27,
    "start_time": "2023-04-03T14:56:11.389Z"
   },
   {
    "duration": 15,
    "start_time": "2023-04-03T14:56:11.418Z"
   },
   {
    "duration": 169,
    "start_time": "2023-04-03T14:56:11.434Z"
   },
   {
    "duration": 220,
    "start_time": "2023-04-03T14:56:11.604Z"
   },
   {
    "duration": 241,
    "start_time": "2023-04-03T14:56:11.825Z"
   },
   {
    "duration": 13,
    "start_time": "2023-04-03T14:56:12.068Z"
   },
   {
    "duration": 477,
    "start_time": "2023-04-03T14:56:12.082Z"
   },
   {
    "duration": 1341,
    "start_time": "2023-04-03T14:56:12.561Z"
   },
   {
    "duration": 169,
    "start_time": "2023-04-03T14:56:13.904Z"
   },
   {
    "duration": 2153,
    "start_time": "2023-04-03T14:56:14.289Z"
   },
   {
    "duration": 22,
    "start_time": "2023-04-03T14:56:22.688Z"
   },
   {
    "duration": 10,
    "start_time": "2023-04-03T14:56:34.190Z"
   },
   {
    "duration": 14,
    "start_time": "2023-04-03T14:56:36.823Z"
   },
   {
    "duration": 1333,
    "start_time": "2023-04-03T14:56:37.708Z"
   },
   {
    "duration": 10,
    "start_time": "2023-04-03T14:56:39.043Z"
   },
   {
    "duration": 20,
    "start_time": "2023-04-03T14:56:39.054Z"
   },
   {
    "duration": 12,
    "start_time": "2023-04-03T14:56:39.779Z"
   },
   {
    "duration": 16,
    "start_time": "2023-04-03T14:56:40.573Z"
   },
   {
    "duration": 19,
    "start_time": "2023-04-03T14:56:41.807Z"
   },
   {
    "duration": 18,
    "start_time": "2023-04-03T14:56:44.394Z"
   },
   {
    "duration": 15,
    "start_time": "2023-04-03T14:56:47.154Z"
   },
   {
    "duration": 8,
    "start_time": "2023-04-03T14:57:03.440Z"
   },
   {
    "duration": 28,
    "start_time": "2023-04-03T14:57:24.905Z"
   },
   {
    "duration": 6,
    "start_time": "2023-04-03T14:57:28.975Z"
   },
   {
    "duration": 166,
    "start_time": "2023-04-03T14:57:31.257Z"
   },
   {
    "duration": 74,
    "start_time": "2023-04-03T14:57:33.563Z"
   },
   {
    "duration": 18,
    "start_time": "2023-04-03T14:57:37.207Z"
   },
   {
    "duration": 14,
    "start_time": "2023-04-03T14:57:39.810Z"
   },
   {
    "duration": 18,
    "start_time": "2023-04-03T14:57:43.491Z"
   },
   {
    "duration": 151,
    "start_time": "2023-04-03T14:57:47.040Z"
   },
   {
    "duration": 220,
    "start_time": "2023-04-03T14:57:49.031Z"
   },
   {
    "duration": 405,
    "start_time": "2023-04-03T14:57:50.777Z"
   },
   {
    "duration": 22,
    "start_time": "2023-04-03T14:58:05.175Z"
   },
   {
    "duration": 28,
    "start_time": "2023-04-03T15:01:44.171Z"
   },
   {
    "duration": 30,
    "start_time": "2023-04-03T15:04:59.506Z"
   },
   {
    "duration": 28,
    "start_time": "2023-04-03T15:05:46.528Z"
   },
   {
    "duration": 26,
    "start_time": "2023-04-03T15:06:06.479Z"
   },
   {
    "duration": 25,
    "start_time": "2023-04-03T15:06:17.539Z"
   },
   {
    "duration": 2963,
    "start_time": "2023-04-03T15:06:50.484Z"
   },
   {
    "duration": 24,
    "start_time": "2023-04-03T15:06:53.450Z"
   },
   {
    "duration": 9,
    "start_time": "2023-04-03T15:06:53.475Z"
   },
   {
    "duration": 13,
    "start_time": "2023-04-03T15:06:53.486Z"
   },
   {
    "duration": 1313,
    "start_time": "2023-04-03T15:06:53.501Z"
   },
   {
    "duration": 9,
    "start_time": "2023-04-03T15:06:54.817Z"
   },
   {
    "duration": 10,
    "start_time": "2023-04-03T15:06:54.828Z"
   },
   {
    "duration": 13,
    "start_time": "2023-04-03T15:06:54.840Z"
   },
   {
    "duration": 16,
    "start_time": "2023-04-03T15:06:54.855Z"
   },
   {
    "duration": 15,
    "start_time": "2023-04-03T15:06:54.902Z"
   },
   {
    "duration": 22,
    "start_time": "2023-04-03T15:06:54.919Z"
   },
   {
    "duration": 13,
    "start_time": "2023-04-03T15:06:54.943Z"
   },
   {
    "duration": 7,
    "start_time": "2023-04-03T15:06:54.957Z"
   },
   {
    "duration": 60,
    "start_time": "2023-04-03T15:06:54.966Z"
   },
   {
    "duration": 5,
    "start_time": "2023-04-03T15:06:55.028Z"
   },
   {
    "duration": 182,
    "start_time": "2023-04-03T15:06:55.035Z"
   },
   {
    "duration": 89,
    "start_time": "2023-04-03T15:06:55.219Z"
   },
   {
    "duration": 17,
    "start_time": "2023-04-03T15:06:55.309Z"
   },
   {
    "duration": 23,
    "start_time": "2023-04-03T15:06:55.328Z"
   },
   {
    "duration": 16,
    "start_time": "2023-04-03T15:06:55.353Z"
   },
   {
    "duration": 177,
    "start_time": "2023-04-03T15:06:55.370Z"
   },
   {
    "duration": 232,
    "start_time": "2023-04-03T15:06:55.549Z"
   },
   {
    "duration": 265,
    "start_time": "2023-04-03T15:06:55.783Z"
   },
   {
    "duration": 29,
    "start_time": "2023-04-03T15:06:56.050Z"
   },
   {
    "duration": 412,
    "start_time": "2023-04-03T15:06:56.081Z"
   },
   {
    "duration": 1416,
    "start_time": "2023-04-03T15:06:56.495Z"
   },
   {
    "duration": 175,
    "start_time": "2023-04-03T15:06:57.914Z"
   },
   {
    "duration": 2275,
    "start_time": "2023-04-03T15:08:30.473Z"
   },
   {
    "duration": 20,
    "start_time": "2023-04-03T15:08:32.873Z"
   },
   {
    "duration": 10,
    "start_time": "2023-04-03T15:08:34.074Z"
   },
   {
    "duration": 18,
    "start_time": "2023-04-03T15:08:34.666Z"
   },
   {
    "duration": 1373,
    "start_time": "2023-04-03T15:08:35.225Z"
   },
   {
    "duration": 11,
    "start_time": "2023-04-03T15:08:36.600Z"
   },
   {
    "duration": 13,
    "start_time": "2023-04-03T15:08:36.613Z"
   },
   {
    "duration": 13,
    "start_time": "2023-04-03T15:08:36.973Z"
   },
   {
    "duration": 17,
    "start_time": "2023-04-03T15:08:37.530Z"
   },
   {
    "duration": 14,
    "start_time": "2023-04-03T15:08:38.092Z"
   },
   {
    "duration": 19,
    "start_time": "2023-04-03T15:08:41.190Z"
   },
   {
    "duration": 13,
    "start_time": "2023-04-03T15:08:42.689Z"
   },
   {
    "duration": 7,
    "start_time": "2023-04-03T15:08:44.774Z"
   },
   {
    "duration": 24,
    "start_time": "2023-04-03T15:08:49.392Z"
   },
   {
    "duration": 6,
    "start_time": "2023-04-03T15:08:51.698Z"
   },
   {
    "duration": 156,
    "start_time": "2023-04-03T15:08:55.008Z"
   },
   {
    "duration": 83,
    "start_time": "2023-04-03T15:08:57.075Z"
   },
   {
    "duration": 16,
    "start_time": "2023-04-03T15:08:57.705Z"
   },
   {
    "duration": 13,
    "start_time": "2023-04-03T15:08:58.241Z"
   },
   {
    "duration": 16,
    "start_time": "2023-04-03T15:08:59.290Z"
   },
   {
    "duration": 149,
    "start_time": "2023-04-03T15:09:00.278Z"
   },
   {
    "duration": 212,
    "start_time": "2023-04-03T15:09:02.575Z"
   },
   {
    "duration": 361,
    "start_time": "2023-04-03T15:09:04.856Z"
   },
   {
    "duration": 31,
    "start_time": "2023-04-03T15:09:18.740Z"
   },
   {
    "duration": 316,
    "start_time": "2023-04-03T15:12:18.078Z"
   },
   {
    "duration": 1440,
    "start_time": "2023-04-03T15:12:22.172Z"
   },
   {
    "duration": 1590,
    "start_time": "2023-04-03T15:13:14.797Z"
   },
   {
    "duration": 1807,
    "start_time": "2023-04-03T15:13:50.816Z"
   },
   {
    "duration": 1469,
    "start_time": "2023-04-03T15:21:51.127Z"
   },
   {
    "duration": 876,
    "start_time": "2023-04-03T15:22:34.077Z"
   },
   {
    "duration": 132,
    "start_time": "2023-04-03T15:23:00.492Z"
   },
   {
    "duration": 10,
    "start_time": "2023-04-03T15:25:06.019Z"
   },
   {
    "duration": 233,
    "start_time": "2023-04-03T15:27:39.950Z"
   },
   {
    "duration": 11,
    "start_time": "2023-04-03T15:28:05.159Z"
   },
   {
    "duration": 11,
    "start_time": "2023-04-03T15:28:16.777Z"
   },
   {
    "duration": 9,
    "start_time": "2023-04-03T15:30:46.142Z"
   },
   {
    "duration": 50,
    "start_time": "2023-04-03T15:32:42.845Z"
   },
   {
    "duration": 135,
    "start_time": "2023-04-03T15:32:54.779Z"
   },
   {
    "duration": 161,
    "start_time": "2023-04-03T15:33:05.870Z"
   },
   {
    "duration": 1177,
    "start_time": "2023-04-03T15:35:09.027Z"
   },
   {
    "duration": 1106,
    "start_time": "2023-04-03T15:35:34.012Z"
   },
   {
    "duration": 1305,
    "start_time": "2023-04-03T15:38:20.462Z"
   },
   {
    "duration": 1162,
    "start_time": "2023-04-03T15:41:23.793Z"
   },
   {
    "duration": 1285,
    "start_time": "2023-04-03T15:45:17.557Z"
   },
   {
    "duration": 1100,
    "start_time": "2023-04-03T15:45:48.373Z"
   },
   {
    "duration": 629,
    "start_time": "2023-04-03T16:01:38.028Z"
   },
   {
    "duration": 845,
    "start_time": "2023-04-03T16:02:36.421Z"
   },
   {
    "duration": 585,
    "start_time": "2023-04-03T16:02:54.184Z"
   },
   {
    "duration": 601,
    "start_time": "2023-04-03T16:04:38.824Z"
   },
   {
    "duration": 764,
    "start_time": "2023-04-03T16:05:02.110Z"
   },
   {
    "duration": 621,
    "start_time": "2023-04-03T16:05:35.494Z"
   },
   {
    "duration": 595,
    "start_time": "2023-04-03T16:06:12.298Z"
   },
   {
    "duration": 619,
    "start_time": "2023-04-03T16:12:05.389Z"
   },
   {
    "duration": 769,
    "start_time": "2023-04-03T16:32:37.302Z"
   },
   {
    "duration": 689,
    "start_time": "2023-04-03T16:40:11.544Z"
   },
   {
    "duration": 665,
    "start_time": "2023-04-03T16:40:51.093Z"
   },
   {
    "duration": 813,
    "start_time": "2023-04-03T16:41:32.344Z"
   },
   {
    "duration": 611,
    "start_time": "2023-04-03T16:41:56.310Z"
   },
   {
    "duration": 165,
    "start_time": "2023-04-03T16:49:45.774Z"
   },
   {
    "duration": 207,
    "start_time": "2023-04-03T16:52:17.444Z"
   },
   {
    "duration": 182,
    "start_time": "2023-04-03T16:52:26.898Z"
   },
   {
    "duration": 188,
    "start_time": "2023-04-03T16:52:32.398Z"
   },
   {
    "duration": 168,
    "start_time": "2023-04-03T16:52:39.908Z"
   },
   {
    "duration": 170,
    "start_time": "2023-04-03T16:52:47.402Z"
   },
   {
    "duration": 35,
    "start_time": "2023-04-03T16:53:48.959Z"
   },
   {
    "duration": 33,
    "start_time": "2023-04-03T16:54:45.550Z"
   },
   {
    "duration": 838,
    "start_time": "2023-04-03T16:55:00.718Z"
   },
   {
    "duration": 36,
    "start_time": "2023-04-03T16:56:03.261Z"
   },
   {
    "duration": 48,
    "start_time": "2023-04-03T16:56:33.086Z"
   },
   {
    "duration": 161,
    "start_time": "2023-04-03T16:56:54.130Z"
   },
   {
    "duration": 183,
    "start_time": "2023-04-03T17:00:13.861Z"
   },
   {
    "duration": 160,
    "start_time": "2023-04-03T17:03:24.159Z"
   },
   {
    "duration": 332,
    "start_time": "2023-04-03T17:07:06.929Z"
   },
   {
    "duration": 184,
    "start_time": "2023-04-03T17:08:49.906Z"
   },
   {
    "duration": 167,
    "start_time": "2023-04-03T17:12:25.147Z"
   },
   {
    "duration": 181,
    "start_time": "2023-04-03T17:15:47.713Z"
   },
   {
    "duration": 171,
    "start_time": "2023-04-03T17:19:06.102Z"
   },
   {
    "duration": 139,
    "start_time": "2023-04-03T17:20:00.291Z"
   },
   {
    "duration": 166,
    "start_time": "2023-04-03T17:20:10.514Z"
   },
   {
    "duration": 33,
    "start_time": "2023-04-03T17:29:29.948Z"
   },
   {
    "duration": 23,
    "start_time": "2023-04-03T17:30:05.948Z"
   },
   {
    "duration": 31,
    "start_time": "2023-04-03T17:31:35.464Z"
   },
   {
    "duration": 25,
    "start_time": "2023-04-03T17:31:50.882Z"
   },
   {
    "duration": 553,
    "start_time": "2023-04-03T17:32:16.284Z"
   },
   {
    "duration": 26,
    "start_time": "2023-04-03T17:32:23.531Z"
   },
   {
    "duration": 25,
    "start_time": "2023-04-03T17:42:18.765Z"
   },
   {
    "duration": 24,
    "start_time": "2023-04-03T17:42:42.831Z"
   },
   {
    "duration": 37,
    "start_time": "2023-04-03T17:45:57.432Z"
   },
   {
    "duration": 18,
    "start_time": "2023-04-03T17:50:25.634Z"
   },
   {
    "duration": 34,
    "start_time": "2023-04-03T17:51:05.918Z"
   },
   {
    "duration": 24,
    "start_time": "2023-04-03T17:53:26.817Z"
   },
   {
    "duration": 24,
    "start_time": "2023-04-03T17:53:56.251Z"
   },
   {
    "duration": 49,
    "start_time": "2023-04-03T17:54:58.107Z"
   },
   {
    "duration": 48,
    "start_time": "2023-04-03T17:55:09.565Z"
   },
   {
    "duration": 25,
    "start_time": "2023-04-03T17:55:41.305Z"
   },
   {
    "duration": 18,
    "start_time": "2023-04-03T17:55:48.668Z"
   },
   {
    "duration": 54,
    "start_time": "2023-04-03T17:57:29.912Z"
   },
   {
    "duration": 45,
    "start_time": "2023-04-03T17:58:37.435Z"
   },
   {
    "duration": 275,
    "start_time": "2023-04-03T18:00:29.065Z"
   },
   {
    "duration": 175,
    "start_time": "2023-04-03T18:01:19.653Z"
   },
   {
    "duration": 216,
    "start_time": "2023-04-03T18:02:31.109Z"
   },
   {
    "duration": 190,
    "start_time": "2023-04-03T18:03:07.036Z"
   },
   {
    "duration": 69,
    "start_time": "2023-04-03T18:04:24.670Z"
   },
   {
    "duration": 189,
    "start_time": "2023-04-03T18:04:33.035Z"
   },
   {
    "duration": 191,
    "start_time": "2023-04-03T18:04:56.515Z"
   },
   {
    "duration": 2806,
    "start_time": "2023-04-03T19:52:23.242Z"
   },
   {
    "duration": 21,
    "start_time": "2023-04-03T19:52:26.050Z"
   },
   {
    "duration": 27,
    "start_time": "2023-04-03T19:52:26.072Z"
   },
   {
    "duration": 20,
    "start_time": "2023-04-03T19:52:26.102Z"
   },
   {
    "duration": 1502,
    "start_time": "2023-04-03T19:52:26.124Z"
   },
   {
    "duration": 9,
    "start_time": "2023-04-03T19:52:27.628Z"
   },
   {
    "duration": 10,
    "start_time": "2023-04-03T19:52:27.639Z"
   },
   {
    "duration": 40,
    "start_time": "2023-04-03T19:52:27.651Z"
   },
   {
    "duration": 25,
    "start_time": "2023-04-03T19:52:27.693Z"
   },
   {
    "duration": 14,
    "start_time": "2023-04-03T19:52:27.720Z"
   },
   {
    "duration": 19,
    "start_time": "2023-04-03T19:52:27.736Z"
   },
   {
    "duration": 38,
    "start_time": "2023-04-03T19:52:27.756Z"
   },
   {
    "duration": 10,
    "start_time": "2023-04-03T19:52:27.799Z"
   },
   {
    "duration": 30,
    "start_time": "2023-04-03T19:52:27.811Z"
   },
   {
    "duration": 6,
    "start_time": "2023-04-03T19:52:27.842Z"
   },
   {
    "duration": 224,
    "start_time": "2023-04-03T19:52:27.850Z"
   },
   {
    "duration": 81,
    "start_time": "2023-04-03T19:52:28.075Z"
   },
   {
    "duration": 16,
    "start_time": "2023-04-03T19:52:28.157Z"
   },
   {
    "duration": 20,
    "start_time": "2023-04-03T19:52:28.188Z"
   },
   {
    "duration": 16,
    "start_time": "2023-04-03T19:52:28.210Z"
   },
   {
    "duration": 177,
    "start_time": "2023-04-03T19:52:28.228Z"
   },
   {
    "duration": 226,
    "start_time": "2023-04-03T19:52:28.407Z"
   },
   {
    "duration": 271,
    "start_time": "2023-04-03T19:52:28.635Z"
   },
   {
    "duration": 42,
    "start_time": "2023-04-03T19:52:28.908Z"
   },
   {
    "duration": 412,
    "start_time": "2023-04-03T19:52:28.952Z"
   },
   {
    "duration": 1711,
    "start_time": "2023-04-03T19:52:29.366Z"
   },
   {
    "duration": 1251,
    "start_time": "2023-04-03T19:52:31.079Z"
   },
   {
    "duration": 623,
    "start_time": "2023-04-03T19:52:32.333Z"
   },
   {
    "duration": 692,
    "start_time": "2023-04-03T19:52:32.958Z"
   },
   {
    "duration": 197,
    "start_time": "2023-04-03T19:52:33.652Z"
   },
   {
    "duration": 153,
    "start_time": "2023-04-03T19:52:33.851Z"
   },
   {
    "duration": 0,
    "start_time": "2023-04-03T19:52:34.006Z"
   },
   {
    "duration": 0,
    "start_time": "2023-04-03T19:52:34.008Z"
   },
   {
    "duration": 0,
    "start_time": "2023-04-03T19:52:34.010Z"
   },
   {
    "duration": 0,
    "start_time": "2023-04-03T19:52:34.011Z"
   },
   {
    "duration": 0,
    "start_time": "2023-04-03T19:52:34.012Z"
   },
   {
    "duration": 0,
    "start_time": "2023-04-03T19:52:34.014Z"
   },
   {
    "duration": 0,
    "start_time": "2023-04-03T19:52:34.015Z"
   },
   {
    "duration": 0,
    "start_time": "2023-04-03T19:52:34.016Z"
   },
   {
    "duration": 0,
    "start_time": "2023-04-03T19:52:34.018Z"
   },
   {
    "duration": 2504,
    "start_time": "2023-04-04T12:11:11.959Z"
   },
   {
    "duration": 21,
    "start_time": "2023-04-04T12:11:14.465Z"
   },
   {
    "duration": 9,
    "start_time": "2023-04-04T12:11:14.487Z"
   },
   {
    "duration": 24,
    "start_time": "2023-04-04T12:11:14.498Z"
   },
   {
    "duration": 1164,
    "start_time": "2023-04-04T12:11:14.524Z"
   },
   {
    "duration": 12,
    "start_time": "2023-04-04T12:11:15.691Z"
   },
   {
    "duration": 43,
    "start_time": "2023-04-04T12:11:15.705Z"
   },
   {
    "duration": 29,
    "start_time": "2023-04-04T12:11:15.750Z"
   },
   {
    "duration": 30,
    "start_time": "2023-04-04T12:11:15.780Z"
   },
   {
    "duration": 15,
    "start_time": "2023-04-04T12:11:15.812Z"
   },
   {
    "duration": 16,
    "start_time": "2023-04-04T12:11:15.829Z"
   },
   {
    "duration": 15,
    "start_time": "2023-04-04T12:11:15.846Z"
   },
   {
    "duration": 18,
    "start_time": "2023-04-04T12:11:15.862Z"
   },
   {
    "duration": 57,
    "start_time": "2023-04-04T12:11:15.882Z"
   },
   {
    "duration": 7,
    "start_time": "2023-04-04T12:11:15.940Z"
   },
   {
    "duration": 208,
    "start_time": "2023-04-04T12:11:15.948Z"
   },
   {
    "duration": 102,
    "start_time": "2023-04-04T12:11:16.158Z"
   },
   {
    "duration": 15,
    "start_time": "2023-04-04T12:11:16.261Z"
   },
   {
    "duration": 15,
    "start_time": "2023-04-04T12:11:16.278Z"
   },
   {
    "duration": 32,
    "start_time": "2023-04-04T12:11:16.294Z"
   },
   {
    "duration": 151,
    "start_time": "2023-04-04T12:11:16.328Z"
   },
   {
    "duration": 188,
    "start_time": "2023-04-04T12:11:16.481Z"
   },
   {
    "duration": 201,
    "start_time": "2023-04-04T12:11:16.671Z"
   },
   {
    "duration": 25,
    "start_time": "2023-04-04T12:11:16.873Z"
   },
   {
    "duration": 379,
    "start_time": "2023-04-04T12:11:16.900Z"
   },
   {
    "duration": 1322,
    "start_time": "2023-04-04T12:11:17.281Z"
   },
   {
    "duration": 1127,
    "start_time": "2023-04-04T12:11:18.605Z"
   },
   {
    "duration": 543,
    "start_time": "2023-04-04T12:11:19.734Z"
   },
   {
    "duration": 533,
    "start_time": "2023-04-04T12:11:20.279Z"
   },
   {
    "duration": 150,
    "start_time": "2023-04-04T12:11:20.814Z"
   },
   {
    "duration": 183,
    "start_time": "2023-04-04T12:11:20.965Z"
   },
   {
    "duration": 157,
    "start_time": "2023-04-04T12:11:21.150Z"
   },
   {
    "duration": 157,
    "start_time": "2023-04-04T12:11:21.308Z"
   },
   {
    "duration": 0,
    "start_time": "2023-04-04T12:11:21.467Z"
   },
   {
    "duration": 0,
    "start_time": "2023-04-04T12:11:21.468Z"
   },
   {
    "duration": 0,
    "start_time": "2023-04-04T12:11:21.469Z"
   },
   {
    "duration": 0,
    "start_time": "2023-04-04T12:11:21.470Z"
   },
   {
    "duration": 0,
    "start_time": "2023-04-04T12:11:21.471Z"
   },
   {
    "duration": 0,
    "start_time": "2023-04-04T12:11:21.472Z"
   },
   {
    "duration": 1745,
    "start_time": "2023-04-04T12:11:23.775Z"
   },
   {
    "duration": 23,
    "start_time": "2023-04-04T12:11:27.053Z"
   },
   {
    "duration": 9,
    "start_time": "2023-04-04T12:11:32.903Z"
   },
   {
    "duration": 12,
    "start_time": "2023-04-04T12:11:33.516Z"
   },
   {
    "duration": 1117,
    "start_time": "2023-04-04T12:11:34.117Z"
   },
   {
    "duration": 9,
    "start_time": "2023-04-04T12:11:35.236Z"
   },
   {
    "duration": 11,
    "start_time": "2023-04-04T12:11:35.287Z"
   },
   {
    "duration": 11,
    "start_time": "2023-04-04T12:11:35.905Z"
   },
   {
    "duration": 16,
    "start_time": "2023-04-04T12:11:36.367Z"
   },
   {
    "duration": 13,
    "start_time": "2023-04-04T12:11:36.910Z"
   },
   {
    "duration": 14,
    "start_time": "2023-04-04T12:11:37.701Z"
   },
   {
    "duration": 12,
    "start_time": "2023-04-04T12:11:38.224Z"
   },
   {
    "duration": 8,
    "start_time": "2023-04-04T12:11:38.745Z"
   },
   {
    "duration": 23,
    "start_time": "2023-04-04T12:11:39.278Z"
   },
   {
    "duration": 6,
    "start_time": "2023-04-04T12:11:39.825Z"
   },
   {
    "duration": 146,
    "start_time": "2023-04-04T12:11:40.335Z"
   },
   {
    "duration": 61,
    "start_time": "2023-04-04T12:11:41.609Z"
   },
   {
    "duration": 13,
    "start_time": "2023-04-04T12:11:42.515Z"
   },
   {
    "duration": 12,
    "start_time": "2023-04-04T12:11:43.143Z"
   },
   {
    "duration": 12,
    "start_time": "2023-04-04T12:11:43.967Z"
   },
   {
    "duration": 114,
    "start_time": "2023-04-04T12:11:44.149Z"
   },
   {
    "duration": 170,
    "start_time": "2023-04-04T12:11:44.942Z"
   },
   {
    "duration": 272,
    "start_time": "2023-04-04T12:11:45.200Z"
   },
   {
    "duration": 27,
    "start_time": "2023-04-04T12:11:45.811Z"
   },
   {
    "duration": 310,
    "start_time": "2023-04-04T12:11:47.007Z"
   },
   {
    "duration": 1398,
    "start_time": "2023-04-04T12:11:47.850Z"
   },
   {
    "duration": 980,
    "start_time": "2023-04-04T12:11:49.251Z"
   },
   {
    "duration": 517,
    "start_time": "2023-04-04T12:11:50.232Z"
   },
   {
    "duration": 548,
    "start_time": "2023-04-04T12:11:50.752Z"
   },
   {
    "duration": 295,
    "start_time": "2023-04-04T12:11:51.301Z"
   },
   {
    "duration": 162,
    "start_time": "2023-04-04T12:11:52.785Z"
   },
   {
    "duration": 135,
    "start_time": "2023-04-04T12:11:53.330Z"
   },
   {
    "duration": 81,
    "start_time": "2023-04-04T12:11:53.708Z"
   },
   {
    "duration": 152,
    "start_time": "2023-04-04T12:11:54.059Z"
   },
   {
    "duration": 140,
    "start_time": "2023-04-04T12:11:54.664Z"
   },
   {
    "duration": 154,
    "start_time": "2023-04-04T12:11:55.512Z"
   },
   {
    "duration": 150,
    "start_time": "2023-04-04T12:11:56.729Z"
   },
   {
    "duration": 22,
    "start_time": "2023-04-04T12:11:57.863Z"
   },
   {
    "duration": 162,
    "start_time": "2023-04-04T12:11:58.712Z"
   },
   {
    "duration": 2413,
    "start_time": "2023-04-04T12:12:31.750Z"
   },
   {
    "duration": 18,
    "start_time": "2023-04-04T12:12:34.164Z"
   },
   {
    "duration": 9,
    "start_time": "2023-04-04T12:12:34.183Z"
   },
   {
    "duration": 14,
    "start_time": "2023-04-04T12:12:34.193Z"
   },
   {
    "duration": 1090,
    "start_time": "2023-04-04T12:12:34.209Z"
   },
   {
    "duration": 8,
    "start_time": "2023-04-04T12:12:35.300Z"
   },
   {
    "duration": 9,
    "start_time": "2023-04-04T12:12:35.309Z"
   },
   {
    "duration": 13,
    "start_time": "2023-04-04T12:12:35.319Z"
   },
   {
    "duration": 31,
    "start_time": "2023-04-04T12:12:35.333Z"
   },
   {
    "duration": 14,
    "start_time": "2023-04-04T12:12:35.365Z"
   },
   {
    "duration": 16,
    "start_time": "2023-04-04T12:12:35.380Z"
   },
   {
    "duration": 10,
    "start_time": "2023-04-04T12:12:35.397Z"
   },
   {
    "duration": 12,
    "start_time": "2023-04-04T12:12:35.409Z"
   },
   {
    "duration": 33,
    "start_time": "2023-04-04T12:12:35.424Z"
   },
   {
    "duration": 5,
    "start_time": "2023-04-04T12:12:35.458Z"
   },
   {
    "duration": 152,
    "start_time": "2023-04-04T12:12:35.472Z"
   },
   {
    "duration": 71,
    "start_time": "2023-04-04T12:12:35.625Z"
   },
   {
    "duration": 18,
    "start_time": "2023-04-04T12:12:35.697Z"
   },
   {
    "duration": 13,
    "start_time": "2023-04-04T12:12:35.716Z"
   },
   {
    "duration": 33,
    "start_time": "2023-04-04T12:12:35.731Z"
   },
   {
    "duration": 132,
    "start_time": "2023-04-04T12:12:35.766Z"
   },
   {
    "duration": 182,
    "start_time": "2023-04-04T12:12:35.899Z"
   },
   {
    "duration": 192,
    "start_time": "2023-04-04T12:12:36.082Z"
   },
   {
    "duration": 25,
    "start_time": "2023-04-04T12:12:36.275Z"
   },
   {
    "duration": 406,
    "start_time": "2023-04-04T12:12:36.302Z"
   },
   {
    "duration": 1194,
    "start_time": "2023-04-04T12:12:36.710Z"
   },
   {
    "duration": 978,
    "start_time": "2023-04-04T12:12:37.906Z"
   },
   {
    "duration": 475,
    "start_time": "2023-04-04T12:12:38.885Z"
   },
   {
    "duration": 472,
    "start_time": "2023-04-04T12:12:39.361Z"
   },
   {
    "duration": 141,
    "start_time": "2023-04-04T12:12:39.834Z"
   },
   {
    "duration": 160,
    "start_time": "2023-04-04T12:12:39.976Z"
   },
   {
    "duration": 130,
    "start_time": "2023-04-04T12:12:40.137Z"
   },
   {
    "duration": 84,
    "start_time": "2023-04-04T12:12:40.272Z"
   },
   {
    "duration": 0,
    "start_time": "2023-04-04T12:12:40.357Z"
   },
   {
    "duration": 0,
    "start_time": "2023-04-04T12:12:40.359Z"
   },
   {
    "duration": 0,
    "start_time": "2023-04-04T12:12:40.360Z"
   },
   {
    "duration": 0,
    "start_time": "2023-04-04T12:12:40.361Z"
   },
   {
    "duration": 0,
    "start_time": "2023-04-04T12:12:40.363Z"
   },
   {
    "duration": 0,
    "start_time": "2023-04-04T12:12:40.364Z"
   },
   {
    "duration": 2580,
    "start_time": "2023-04-04T15:27:30.974Z"
   },
   {
    "duration": 18,
    "start_time": "2023-04-04T15:27:33.556Z"
   },
   {
    "duration": 8,
    "start_time": "2023-04-04T15:27:33.576Z"
   },
   {
    "duration": 12,
    "start_time": "2023-04-04T15:27:33.586Z"
   },
   {
    "duration": 1240,
    "start_time": "2023-04-04T15:27:33.600Z"
   },
   {
    "duration": 9,
    "start_time": "2023-04-04T15:27:34.841Z"
   },
   {
    "duration": 10,
    "start_time": "2023-04-04T15:27:34.852Z"
   },
   {
    "duration": 11,
    "start_time": "2023-04-04T15:27:34.863Z"
   },
   {
    "duration": 14,
    "start_time": "2023-04-04T15:27:34.875Z"
   },
   {
    "duration": 13,
    "start_time": "2023-04-04T15:27:34.891Z"
   },
   {
    "duration": 18,
    "start_time": "2023-04-04T15:27:34.941Z"
   },
   {
    "duration": 12,
    "start_time": "2023-04-04T15:27:34.960Z"
   },
   {
    "duration": 6,
    "start_time": "2023-04-04T15:27:34.973Z"
   },
   {
    "duration": 24,
    "start_time": "2023-04-04T15:27:34.982Z"
   },
   {
    "duration": 36,
    "start_time": "2023-04-04T15:27:35.007Z"
   },
   {
    "duration": 222,
    "start_time": "2023-04-04T15:27:35.045Z"
   },
   {
    "duration": 73,
    "start_time": "2023-04-04T15:27:35.269Z"
   },
   {
    "duration": 14,
    "start_time": "2023-04-04T15:27:35.344Z"
   },
   {
    "duration": 29,
    "start_time": "2023-04-04T15:27:35.360Z"
   },
   {
    "duration": 14,
    "start_time": "2023-04-04T15:27:35.391Z"
   },
   {
    "duration": 139,
    "start_time": "2023-04-04T15:27:35.407Z"
   },
   {
    "duration": 208,
    "start_time": "2023-04-04T15:27:35.548Z"
   },
   {
    "duration": 221,
    "start_time": "2023-04-04T15:27:35.757Z"
   },
   {
    "duration": 27,
    "start_time": "2023-04-04T15:27:35.980Z"
   },
   {
    "duration": 414,
    "start_time": "2023-04-04T15:27:36.009Z"
   },
   {
    "duration": 1406,
    "start_time": "2023-04-04T15:27:36.424Z"
   },
   {
    "duration": 1096,
    "start_time": "2023-04-04T15:27:37.832Z"
   },
   {
    "duration": 536,
    "start_time": "2023-04-04T15:27:38.930Z"
   },
   {
    "duration": 549,
    "start_time": "2023-04-04T15:27:39.468Z"
   },
   {
    "duration": 157,
    "start_time": "2023-04-04T15:27:40.018Z"
   },
   {
    "duration": 173,
    "start_time": "2023-04-04T15:27:40.177Z"
   },
   {
    "duration": 154,
    "start_time": "2023-04-04T15:27:40.351Z"
   },
   {
    "duration": 135,
    "start_time": "2023-04-04T15:27:40.507Z"
   },
   {
    "duration": 0,
    "start_time": "2023-04-04T15:27:40.643Z"
   },
   {
    "duration": 0,
    "start_time": "2023-04-04T15:27:40.644Z"
   },
   {
    "duration": 0,
    "start_time": "2023-04-04T15:27:40.645Z"
   },
   {
    "duration": 0,
    "start_time": "2023-04-04T15:27:40.646Z"
   },
   {
    "duration": 0,
    "start_time": "2023-04-04T15:27:40.647Z"
   },
   {
    "duration": 1,
    "start_time": "2023-04-04T15:27:40.648Z"
   },
   {
    "duration": 252,
    "start_time": "2023-04-04T15:27:57.027Z"
   },
   {
    "duration": 145,
    "start_time": "2023-04-04T15:27:57.395Z"
   },
   {
    "duration": 153,
    "start_time": "2023-04-04T15:27:57.928Z"
   },
   {
    "duration": 156,
    "start_time": "2023-04-04T15:27:58.638Z"
   },
   {
    "duration": 23,
    "start_time": "2023-04-04T15:27:59.646Z"
   },
   {
    "duration": 164,
    "start_time": "2023-04-04T15:28:00.759Z"
   },
   {
    "duration": 2735,
    "start_time": "2023-04-04T17:15:57.108Z"
   },
   {
    "duration": 21,
    "start_time": "2023-04-04T17:15:59.845Z"
   },
   {
    "duration": 11,
    "start_time": "2023-04-04T17:15:59.868Z"
   },
   {
    "duration": 13,
    "start_time": "2023-04-04T17:15:59.880Z"
   },
   {
    "duration": 1209,
    "start_time": "2023-04-04T17:15:59.895Z"
   },
   {
    "duration": 8,
    "start_time": "2023-04-04T17:16:01.106Z"
   },
   {
    "duration": 25,
    "start_time": "2023-04-04T17:16:01.116Z"
   },
   {
    "duration": 21,
    "start_time": "2023-04-04T17:16:01.142Z"
   },
   {
    "duration": 30,
    "start_time": "2023-04-04T17:16:01.164Z"
   },
   {
    "duration": 13,
    "start_time": "2023-04-04T17:16:01.196Z"
   },
   {
    "duration": 19,
    "start_time": "2023-04-04T17:16:01.210Z"
   },
   {
    "duration": 16,
    "start_time": "2023-04-04T17:16:01.230Z"
   },
   {
    "duration": 21,
    "start_time": "2023-04-04T17:16:01.247Z"
   },
   {
    "duration": 39,
    "start_time": "2023-04-04T17:16:01.270Z"
   },
   {
    "duration": 19,
    "start_time": "2023-04-04T17:16:01.311Z"
   },
   {
    "duration": 178,
    "start_time": "2023-04-04T17:16:01.332Z"
   },
   {
    "duration": 74,
    "start_time": "2023-04-04T17:16:01.512Z"
   },
   {
    "duration": 17,
    "start_time": "2023-04-04T17:16:01.587Z"
   },
   {
    "duration": 45,
    "start_time": "2023-04-04T17:16:01.606Z"
   },
   {
    "duration": 37,
    "start_time": "2023-04-04T17:16:01.653Z"
   },
   {
    "duration": 138,
    "start_time": "2023-04-04T17:16:01.692Z"
   },
   {
    "duration": 202,
    "start_time": "2023-04-04T17:16:01.831Z"
   },
   {
    "duration": 215,
    "start_time": "2023-04-04T17:16:02.035Z"
   },
   {
    "duration": 27,
    "start_time": "2023-04-04T17:16:02.252Z"
   },
   {
    "duration": 413,
    "start_time": "2023-04-04T17:16:02.281Z"
   },
   {
    "duration": 1333,
    "start_time": "2023-04-04T17:16:02.696Z"
   },
   {
    "duration": 1088,
    "start_time": "2023-04-04T17:16:04.031Z"
   },
   {
    "duration": 539,
    "start_time": "2023-04-04T17:16:05.121Z"
   },
   {
    "duration": 563,
    "start_time": "2023-04-04T17:16:05.662Z"
   },
   {
    "duration": 174,
    "start_time": "2023-04-04T17:16:06.226Z"
   },
   {
    "duration": 180,
    "start_time": "2023-04-04T17:16:06.402Z"
   },
   {
    "duration": 296,
    "start_time": "2023-04-04T17:16:06.583Z"
   },
   {
    "duration": 186,
    "start_time": "2023-04-04T17:16:06.881Z"
   },
   {
    "duration": 150,
    "start_time": "2023-04-04T17:16:07.069Z"
   },
   {
    "duration": 160,
    "start_time": "2023-04-04T17:16:07.221Z"
   },
   {
    "duration": 163,
    "start_time": "2023-04-04T17:16:07.382Z"
   },
   {
    "duration": 21,
    "start_time": "2023-04-04T17:16:07.547Z"
   },
   {
    "duration": 176,
    "start_time": "2023-04-04T17:16:07.570Z"
   },
   {
    "duration": 6,
    "start_time": "2023-04-04T17:17:58.543Z"
   },
   {
    "duration": 13,
    "start_time": "2023-04-04T17:18:15.792Z"
   },
   {
    "duration": 82,
    "start_time": "2023-04-04T17:18:19.359Z"
   },
   {
    "duration": 7,
    "start_time": "2023-04-04T17:18:30.740Z"
   },
   {
    "duration": 910,
    "start_time": "2023-04-06T03:53:12.706Z"
   },
   {
    "duration": 2883,
    "start_time": "2023-04-06T03:53:26.058Z"
   },
   {
    "duration": 2341,
    "start_time": "2023-04-06T03:54:05.263Z"
   },
   {
    "duration": 106,
    "start_time": "2023-04-06T03:56:26.404Z"
   },
   {
    "duration": 20,
    "start_time": "2023-04-06T03:59:13.391Z"
   },
   {
    "duration": 11,
    "start_time": "2023-04-06T03:59:22.909Z"
   },
   {
    "duration": 31,
    "start_time": "2023-04-06T04:01:20.629Z"
   },
   {
    "duration": 118,
    "start_time": "2023-04-06T04:02:35.394Z"
   },
   {
    "duration": 1716,
    "start_time": "2023-04-06T04:04:06.617Z"
   },
   {
    "duration": 138,
    "start_time": "2023-04-06T04:06:49.479Z"
   },
   {
    "duration": 10,
    "start_time": "2023-04-06T04:07:35.805Z"
   },
   {
    "duration": 18,
    "start_time": "2023-04-06T04:07:44.887Z"
   },
   {
    "duration": 17,
    "start_time": "2023-04-06T04:07:49.604Z"
   },
   {
    "duration": 30,
    "start_time": "2023-04-06T04:09:52.227Z"
   },
   {
    "duration": 17,
    "start_time": "2023-04-06T04:10:06.575Z"
   },
   {
    "duration": 11,
    "start_time": "2023-04-06T04:11:01.821Z"
   },
   {
    "duration": 1595,
    "start_time": "2023-04-06T04:11:48.867Z"
   },
   {
    "duration": 13,
    "start_time": "2023-04-06T04:12:06.654Z"
   },
   {
    "duration": 10,
    "start_time": "2023-04-06T04:12:18.209Z"
   },
   {
    "duration": 25,
    "start_time": "2023-04-06T04:13:15.255Z"
   },
   {
    "duration": 17,
    "start_time": "2023-04-06T04:13:27.991Z"
   },
   {
    "duration": 18,
    "start_time": "2023-04-06T04:13:40.358Z"
   },
   {
    "duration": 15,
    "start_time": "2023-04-06T04:13:46.754Z"
   },
   {
    "duration": 9,
    "start_time": "2023-04-06T04:14:13.458Z"
   },
   {
    "duration": 23,
    "start_time": "2023-04-06T04:14:27.986Z"
   },
   {
    "duration": 7,
    "start_time": "2023-04-06T04:14:47.562Z"
   },
   {
    "duration": 195,
    "start_time": "2023-04-06T04:14:52.776Z"
   },
   {
    "duration": 2606,
    "start_time": "2023-04-06T08:45:32.298Z"
   },
   {
    "duration": 20,
    "start_time": "2023-04-06T08:45:34.905Z"
   },
   {
    "duration": 8,
    "start_time": "2023-04-06T08:45:34.926Z"
   },
   {
    "duration": 13,
    "start_time": "2023-04-06T08:45:34.935Z"
   },
   {
    "duration": 1218,
    "start_time": "2023-04-06T08:45:34.950Z"
   },
   {
    "duration": 8,
    "start_time": "2023-04-06T08:45:36.170Z"
   },
   {
    "duration": 9,
    "start_time": "2023-04-06T08:45:36.179Z"
   },
   {
    "duration": 13,
    "start_time": "2023-04-06T08:45:36.189Z"
   },
   {
    "duration": 13,
    "start_time": "2023-04-06T08:45:36.235Z"
   },
   {
    "duration": 100,
    "start_time": "2023-04-06T08:45:36.250Z"
   },
   {
    "duration": 0,
    "start_time": "2023-04-06T08:45:36.351Z"
   },
   {
    "duration": 0,
    "start_time": "2023-04-06T08:45:36.353Z"
   },
   {
    "duration": 0,
    "start_time": "2023-04-06T08:45:36.354Z"
   },
   {
    "duration": 0,
    "start_time": "2023-04-06T08:45:36.355Z"
   },
   {
    "duration": 0,
    "start_time": "2023-04-06T08:45:36.356Z"
   },
   {
    "duration": 0,
    "start_time": "2023-04-06T08:45:36.357Z"
   },
   {
    "duration": 0,
    "start_time": "2023-04-06T08:45:36.358Z"
   },
   {
    "duration": 0,
    "start_time": "2023-04-06T08:45:36.359Z"
   },
   {
    "duration": 0,
    "start_time": "2023-04-06T08:45:36.360Z"
   },
   {
    "duration": 0,
    "start_time": "2023-04-06T08:45:36.361Z"
   },
   {
    "duration": 0,
    "start_time": "2023-04-06T08:45:36.362Z"
   },
   {
    "duration": 0,
    "start_time": "2023-04-06T08:45:36.363Z"
   },
   {
    "duration": 0,
    "start_time": "2023-04-06T08:45:36.364Z"
   },
   {
    "duration": 0,
    "start_time": "2023-04-06T08:45:36.365Z"
   },
   {
    "duration": 0,
    "start_time": "2023-04-06T08:45:36.366Z"
   },
   {
    "duration": 0,
    "start_time": "2023-04-06T08:45:36.368Z"
   },
   {
    "duration": 0,
    "start_time": "2023-04-06T08:45:36.369Z"
   },
   {
    "duration": 0,
    "start_time": "2023-04-06T08:45:36.370Z"
   },
   {
    "duration": 0,
    "start_time": "2023-04-06T08:45:36.371Z"
   },
   {
    "duration": 0,
    "start_time": "2023-04-06T08:45:36.372Z"
   },
   {
    "duration": 0,
    "start_time": "2023-04-06T08:45:36.374Z"
   },
   {
    "duration": 0,
    "start_time": "2023-04-06T08:45:36.375Z"
   },
   {
    "duration": 0,
    "start_time": "2023-04-06T08:45:36.376Z"
   },
   {
    "duration": 0,
    "start_time": "2023-04-06T08:45:36.377Z"
   },
   {
    "duration": 0,
    "start_time": "2023-04-06T08:45:36.379Z"
   },
   {
    "duration": 0,
    "start_time": "2023-04-06T08:45:36.380Z"
   },
   {
    "duration": 0,
    "start_time": "2023-04-06T08:45:36.381Z"
   },
   {
    "duration": 1905,
    "start_time": "2023-04-06T08:46:31.574Z"
   },
   {
    "duration": 20,
    "start_time": "2023-04-06T08:46:41.566Z"
   },
   {
    "duration": 18,
    "start_time": "2023-04-06T08:47:14.970Z"
   },
   {
    "duration": 11,
    "start_time": "2023-04-06T08:47:29.886Z"
   },
   {
    "duration": 11,
    "start_time": "2023-04-06T08:47:44.086Z"
   },
   {
    "duration": 1204,
    "start_time": "2023-04-06T08:47:53.172Z"
   },
   {
    "duration": 10,
    "start_time": "2023-04-06T08:47:59.018Z"
   },
   {
    "duration": 11,
    "start_time": "2023-04-06T08:48:04.098Z"
   },
   {
    "duration": 15,
    "start_time": "2023-04-06T08:48:09.647Z"
   },
   {
    "duration": 14,
    "start_time": "2023-04-06T08:48:17.098Z"
   },
   {
    "duration": 18,
    "start_time": "2023-04-06T08:48:34.515Z"
   },
   {
    "duration": 13,
    "start_time": "2023-04-06T08:54:08.974Z"
   },
   {
    "duration": 12,
    "start_time": "2023-04-06T08:56:27.531Z"
   },
   {
    "duration": 7,
    "start_time": "2023-04-06T08:56:32.674Z"
   },
   {
    "duration": 7,
    "start_time": "2023-04-06T08:56:45.070Z"
   },
   {
    "duration": 21,
    "start_time": "2023-04-06T08:56:54.195Z"
   },
   {
    "duration": 5,
    "start_time": "2023-04-06T08:57:18.316Z"
   },
   {
    "duration": 148,
    "start_time": "2023-04-06T08:57:23.785Z"
   },
   {
    "duration": 71,
    "start_time": "2023-04-06T08:57:50.043Z"
   },
   {
    "duration": 14,
    "start_time": "2023-04-06T09:17:13.390Z"
   },
   {
    "duration": 160,
    "start_time": "2023-04-06T09:18:53.090Z"
   },
   {
    "duration": 139,
    "start_time": "2023-04-06T09:19:57.290Z"
   },
   {
    "duration": 100,
    "start_time": "2023-04-06T09:20:36.495Z"
   },
   {
    "duration": 133,
    "start_time": "2023-04-06T09:20:48.729Z"
   },
   {
    "duration": 141,
    "start_time": "2023-04-06T09:22:07.893Z"
   },
   {
    "duration": 9,
    "start_time": "2023-04-06T09:22:25.303Z"
   },
   {
    "duration": 99,
    "start_time": "2023-04-06T09:23:29.694Z"
   },
   {
    "duration": 204,
    "start_time": "2023-04-06T09:23:37.503Z"
   },
   {
    "duration": 151,
    "start_time": "2023-04-06T09:23:46.102Z"
   },
   {
    "duration": 277,
    "start_time": "2023-04-06T09:27:41.534Z"
   },
   {
    "duration": 138,
    "start_time": "2023-04-06T10:13:45.915Z"
   },
   {
    "duration": 201,
    "start_time": "2023-04-06T10:13:58.922Z"
   },
   {
    "duration": 12,
    "start_time": "2023-04-06T10:18:09.814Z"
   },
   {
    "duration": 208,
    "start_time": "2023-04-06T10:22:01.016Z"
   },
   {
    "duration": 200,
    "start_time": "2023-04-06T10:22:12.714Z"
   },
   {
    "duration": 9,
    "start_time": "2023-04-06T10:22:22.940Z"
   },
   {
    "duration": 13,
    "start_time": "2023-04-06T10:29:12.586Z"
   },
   {
    "duration": 14,
    "start_time": "2023-04-06T10:29:24.131Z"
   },
   {
    "duration": 234,
    "start_time": "2023-04-06T10:29:29.614Z"
   },
   {
    "duration": 131,
    "start_time": "2023-04-06T10:29:39.387Z"
   },
   {
    "duration": 201,
    "start_time": "2023-04-06T10:30:37.880Z"
   },
   {
    "duration": 275,
    "start_time": "2023-04-06T10:34:42.613Z"
   },
   {
    "duration": 278,
    "start_time": "2023-04-06T10:35:10.712Z"
   },
   {
    "duration": 5,
    "start_time": "2023-04-06T10:35:35.769Z"
   },
   {
    "duration": 19,
    "start_time": "2023-04-06T10:35:43.239Z"
   },
   {
    "duration": 293,
    "start_time": "2023-04-06T10:36:01.159Z"
   },
   {
    "duration": 382,
    "start_time": "2023-04-06T10:36:10.018Z"
   },
   {
    "duration": 286,
    "start_time": "2023-04-06T10:37:25.444Z"
   },
   {
    "duration": 284,
    "start_time": "2023-04-06T10:37:46.091Z"
   },
   {
    "duration": 8,
    "start_time": "2023-04-06T10:46:42.398Z"
   },
   {
    "duration": 8,
    "start_time": "2023-04-06T10:48:02.617Z"
   },
   {
    "duration": 8,
    "start_time": "2023-04-06T10:51:15.702Z"
   },
   {
    "duration": 8,
    "start_time": "2023-04-06T10:51:26.448Z"
   },
   {
    "duration": 9,
    "start_time": "2023-04-06T10:51:42.284Z"
   },
   {
    "duration": 9,
    "start_time": "2023-04-06T10:51:52.170Z"
   },
   {
    "duration": 8,
    "start_time": "2023-04-06T10:52:00.615Z"
   },
   {
    "duration": 200,
    "start_time": "2023-04-06T10:54:09.815Z"
   },
   {
    "duration": 208,
    "start_time": "2023-04-06T10:55:39.055Z"
   },
   {
    "duration": 10,
    "start_time": "2023-04-06T10:55:59.735Z"
   },
   {
    "duration": 10,
    "start_time": "2023-04-06T10:56:52.332Z"
   },
   {
    "duration": 9,
    "start_time": "2023-04-06T10:57:44.349Z"
   },
   {
    "duration": 18,
    "start_time": "2023-04-06T10:57:49.465Z"
   },
   {
    "duration": 127,
    "start_time": "2023-04-06T10:57:58.563Z"
   },
   {
    "duration": 389,
    "start_time": "2023-04-06T10:59:32.482Z"
   },
   {
    "duration": 348,
    "start_time": "2023-04-06T10:59:45.224Z"
   },
   {
    "duration": 252,
    "start_time": "2023-04-06T10:59:54.767Z"
   },
   {
    "duration": 242,
    "start_time": "2023-04-06T11:00:07.417Z"
   },
   {
    "duration": 237,
    "start_time": "2023-04-06T11:00:38.948Z"
   },
   {
    "duration": 17,
    "start_time": "2023-04-06T12:16:01.020Z"
   },
   {
    "duration": 2896,
    "start_time": "2023-04-06T12:16:28.152Z"
   },
   {
    "duration": 20,
    "start_time": "2023-04-06T12:16:31.050Z"
   },
   {
    "duration": 29,
    "start_time": "2023-04-06T12:16:31.072Z"
   },
   {
    "duration": 48,
    "start_time": "2023-04-06T12:16:31.103Z"
   },
   {
    "duration": 1508,
    "start_time": "2023-04-06T12:16:31.153Z"
   },
   {
    "duration": 7,
    "start_time": "2023-04-06T12:16:32.663Z"
   },
   {
    "duration": 42,
    "start_time": "2023-04-06T12:16:32.672Z"
   },
   {
    "duration": 26,
    "start_time": "2023-04-06T12:16:32.715Z"
   },
   {
    "duration": 34,
    "start_time": "2023-04-06T12:16:32.745Z"
   },
   {
    "duration": 15,
    "start_time": "2023-04-06T12:16:32.781Z"
   },
   {
    "duration": 26,
    "start_time": "2023-04-06T12:16:32.798Z"
   },
   {
    "duration": 32,
    "start_time": "2023-04-06T12:16:32.825Z"
   },
   {
    "duration": 38,
    "start_time": "2023-04-06T12:16:32.859Z"
   },
   {
    "duration": 5,
    "start_time": "2023-04-06T12:16:32.898Z"
   },
   {
    "duration": 174,
    "start_time": "2023-04-06T12:16:32.942Z"
   },
   {
    "duration": 80,
    "start_time": "2023-04-06T12:16:33.118Z"
   },
   {
    "duration": 320,
    "start_time": "2023-04-06T12:16:33.199Z"
   },
   {
    "duration": 28,
    "start_time": "2023-04-06T12:16:33.521Z"
   },
   {
    "duration": 44,
    "start_time": "2023-04-06T12:16:33.550Z"
   },
   {
    "duration": 21,
    "start_time": "2023-04-06T12:16:33.596Z"
   },
   {
    "duration": 156,
    "start_time": "2023-04-06T12:16:33.619Z"
   },
   {
    "duration": 285,
    "start_time": "2023-04-06T12:16:33.777Z"
   },
   {
    "duration": 337,
    "start_time": "2023-04-06T12:16:34.064Z"
   },
   {
    "duration": 42,
    "start_time": "2023-04-06T12:16:34.403Z"
   },
   {
    "duration": 322,
    "start_time": "2023-04-06T12:16:34.448Z"
   },
   {
    "duration": 1592,
    "start_time": "2023-04-06T12:16:34.772Z"
   },
   {
    "duration": 1143,
    "start_time": "2023-04-06T12:16:36.366Z"
   },
   {
    "duration": 579,
    "start_time": "2023-04-06T12:16:37.513Z"
   },
   {
    "duration": 589,
    "start_time": "2023-04-06T12:16:38.094Z"
   },
   {
    "duration": 246,
    "start_time": "2023-04-06T12:16:38.684Z"
   },
   {
    "duration": 174,
    "start_time": "2023-04-06T12:16:38.935Z"
   },
   {
    "duration": 150,
    "start_time": "2023-04-06T12:16:39.111Z"
   },
   {
    "duration": 189,
    "start_time": "2023-04-06T12:16:39.263Z"
   },
   {
    "duration": 143,
    "start_time": "2023-04-06T12:16:39.453Z"
   },
   {
    "duration": 178,
    "start_time": "2023-04-06T12:16:39.598Z"
   },
   {
    "duration": 166,
    "start_time": "2023-04-06T12:16:39.777Z"
   },
   {
    "duration": 24,
    "start_time": "2023-04-06T12:16:39.947Z"
   },
   {
    "duration": 175,
    "start_time": "2023-04-06T12:16:39.973Z"
   },
   {
    "duration": 2028,
    "start_time": "2023-04-06T12:16:46.454Z"
   },
   {
    "duration": 9,
    "start_time": "2023-04-06T12:31:54.092Z"
   },
   {
    "duration": 307,
    "start_time": "2023-04-06T12:41:00.859Z"
   },
   {
    "duration": 323,
    "start_time": "2023-04-06T12:41:16.991Z"
   },
   {
    "duration": 5,
    "start_time": "2023-04-06T12:41:56.490Z"
   },
   {
    "duration": 12,
    "start_time": "2023-04-06T12:47:22.360Z"
   },
   {
    "duration": 358,
    "start_time": "2023-04-06T12:50:16.976Z"
   },
   {
    "duration": 296,
    "start_time": "2023-04-06T12:50:24.692Z"
   },
   {
    "duration": 259,
    "start_time": "2023-04-06T12:50:39.141Z"
   },
   {
    "duration": 187,
    "start_time": "2023-04-06T12:51:30.609Z"
   },
   {
    "duration": 135,
    "start_time": "2023-04-06T12:51:44.872Z"
   },
   {
    "duration": 148,
    "start_time": "2023-04-06T12:51:54.176Z"
   },
   {
    "duration": 172,
    "start_time": "2023-04-06T12:52:23.794Z"
   },
   {
    "duration": 143,
    "start_time": "2023-04-06T12:52:33.508Z"
   },
   {
    "duration": 17,
    "start_time": "2023-04-06T12:52:53.602Z"
   },
   {
    "duration": 17,
    "start_time": "2023-04-06T12:53:56.756Z"
   },
   {
    "duration": 16,
    "start_time": "2023-04-06T13:02:08.560Z"
   },
   {
    "duration": 20,
    "start_time": "2023-04-06T13:02:30.327Z"
   },
   {
    "duration": 18,
    "start_time": "2023-04-06T13:03:29.619Z"
   },
   {
    "duration": 233,
    "start_time": "2023-04-06T13:04:17.927Z"
   },
   {
    "duration": 2809,
    "start_time": "2023-04-06T13:04:34.550Z"
   },
   {
    "duration": 20,
    "start_time": "2023-04-06T13:04:37.362Z"
   },
   {
    "duration": 10,
    "start_time": "2023-04-06T13:04:37.383Z"
   },
   {
    "duration": 11,
    "start_time": "2023-04-06T13:04:37.395Z"
   },
   {
    "duration": 1212,
    "start_time": "2023-04-06T13:04:37.408Z"
   },
   {
    "duration": 13,
    "start_time": "2023-04-06T13:04:38.622Z"
   },
   {
    "duration": 11,
    "start_time": "2023-04-06T13:04:38.637Z"
   },
   {
    "duration": 18,
    "start_time": "2023-04-06T13:04:38.650Z"
   },
   {
    "duration": 15,
    "start_time": "2023-04-06T13:04:38.670Z"
   },
   {
    "duration": 49,
    "start_time": "2023-04-06T13:04:38.687Z"
   },
   {
    "duration": 14,
    "start_time": "2023-04-06T13:04:38.738Z"
   },
   {
    "duration": 9,
    "start_time": "2023-04-06T13:04:38.753Z"
   },
   {
    "duration": 31,
    "start_time": "2023-04-06T13:04:38.764Z"
   },
   {
    "duration": 6,
    "start_time": "2023-04-06T13:04:38.798Z"
   },
   {
    "duration": 148,
    "start_time": "2023-04-06T13:04:38.834Z"
   },
   {
    "duration": 81,
    "start_time": "2023-04-06T13:04:38.984Z"
   },
   {
    "duration": 307,
    "start_time": "2023-04-06T13:04:39.067Z"
   },
   {
    "duration": 11,
    "start_time": "2023-04-06T13:04:39.375Z"
   },
   {
    "duration": 18,
    "start_time": "2023-04-06T13:04:39.387Z"
   },
   {
    "duration": 33,
    "start_time": "2023-04-06T13:04:39.406Z"
   },
   {
    "duration": 147,
    "start_time": "2023-04-06T13:04:39.440Z"
   },
   {
    "duration": 279,
    "start_time": "2023-04-06T13:04:39.588Z"
   },
   {
    "duration": 9,
    "start_time": "2023-04-06T13:04:39.869Z"
   },
   {
    "duration": 318,
    "start_time": "2023-04-06T13:04:39.879Z"
   },
   {
    "duration": 36,
    "start_time": "2023-04-06T13:04:40.199Z"
   },
   {
    "duration": 3,
    "start_time": "2023-04-06T13:04:40.237Z"
   },
   {
    "duration": 249,
    "start_time": "2023-04-06T13:04:40.242Z"
   },
   {
    "duration": 288,
    "start_time": "2023-04-06T13:04:40.493Z"
   },
   {
    "duration": 1429,
    "start_time": "2023-04-06T13:04:40.783Z"
   },
   {
    "duration": 998,
    "start_time": "2023-04-06T13:04:42.214Z"
   },
   {
    "duration": 567,
    "start_time": "2023-04-06T13:04:43.213Z"
   },
   {
    "duration": 684,
    "start_time": "2023-04-06T13:04:43.781Z"
   },
   {
    "duration": 169,
    "start_time": "2023-04-06T13:04:44.467Z"
   },
   {
    "duration": 181,
    "start_time": "2023-04-06T13:04:44.638Z"
   },
   {
    "duration": 160,
    "start_time": "2023-04-06T13:04:44.821Z"
   },
   {
    "duration": 151,
    "start_time": "2023-04-06T13:04:44.983Z"
   },
   {
    "duration": 150,
    "start_time": "2023-04-06T13:04:45.136Z"
   },
   {
    "duration": 173,
    "start_time": "2023-04-06T13:04:45.288Z"
   },
   {
    "duration": 151,
    "start_time": "2023-04-06T13:04:45.462Z"
   },
   {
    "duration": 39,
    "start_time": "2023-04-06T13:04:45.615Z"
   },
   {
    "duration": 161,
    "start_time": "2023-04-06T13:04:45.658Z"
   },
   {
    "duration": 246,
    "start_time": "2023-04-06T14:19:35.205Z"
   },
   {
    "duration": 2794,
    "start_time": "2023-04-06T14:19:50.437Z"
   },
   {
    "duration": 21,
    "start_time": "2023-04-06T14:19:53.233Z"
   },
   {
    "duration": 22,
    "start_time": "2023-04-06T14:19:53.255Z"
   },
   {
    "duration": 26,
    "start_time": "2023-04-06T14:19:53.279Z"
   },
   {
    "duration": 1312,
    "start_time": "2023-04-06T14:19:53.306Z"
   },
   {
    "duration": 18,
    "start_time": "2023-04-06T14:19:54.620Z"
   },
   {
    "duration": 13,
    "start_time": "2023-04-06T14:19:54.639Z"
   },
   {
    "duration": 21,
    "start_time": "2023-04-06T14:19:54.654Z"
   },
   {
    "duration": 16,
    "start_time": "2023-04-06T14:19:54.677Z"
   },
   {
    "duration": 19,
    "start_time": "2023-04-06T14:19:54.696Z"
   },
   {
    "duration": 28,
    "start_time": "2023-04-06T14:19:54.717Z"
   },
   {
    "duration": 19,
    "start_time": "2023-04-06T14:19:54.747Z"
   },
   {
    "duration": 38,
    "start_time": "2023-04-06T14:19:54.767Z"
   },
   {
    "duration": 5,
    "start_time": "2023-04-06T14:19:54.807Z"
   },
   {
    "duration": 151,
    "start_time": "2023-04-06T14:19:54.814Z"
   },
   {
    "duration": 78,
    "start_time": "2023-04-06T14:19:54.967Z"
   },
   {
    "duration": 305,
    "start_time": "2023-04-06T14:19:55.047Z"
   },
   {
    "duration": 13,
    "start_time": "2023-04-06T14:19:55.353Z"
   },
   {
    "duration": 15,
    "start_time": "2023-04-06T14:19:55.368Z"
   },
   {
    "duration": 21,
    "start_time": "2023-04-06T14:19:55.385Z"
   },
   {
    "duration": 158,
    "start_time": "2023-04-06T14:19:55.408Z"
   },
   {
    "duration": 269,
    "start_time": "2023-04-06T14:19:55.567Z"
   },
   {
    "duration": 10,
    "start_time": "2023-04-06T14:19:55.838Z"
   },
   {
    "duration": 305,
    "start_time": "2023-04-06T14:19:55.849Z"
   },
   {
    "duration": 24,
    "start_time": "2023-04-06T14:19:56.156Z"
   },
   {
    "duration": 4,
    "start_time": "2023-04-06T14:19:56.182Z"
   },
   {
    "duration": 237,
    "start_time": "2023-04-06T14:19:56.187Z"
   },
   {
    "duration": 283,
    "start_time": "2023-04-06T14:19:56.434Z"
   },
   {
    "duration": 1394,
    "start_time": "2023-04-06T14:19:56.719Z"
   },
   {
    "duration": 943,
    "start_time": "2023-04-06T14:19:58.114Z"
   },
   {
    "duration": 525,
    "start_time": "2023-04-06T14:19:59.058Z"
   },
   {
    "duration": 507,
    "start_time": "2023-04-06T14:19:59.584Z"
   },
   {
    "duration": 278,
    "start_time": "2023-04-06T14:20:00.092Z"
   },
   {
    "duration": 162,
    "start_time": "2023-04-06T14:20:00.372Z"
   },
   {
    "duration": 155,
    "start_time": "2023-04-06T14:20:00.536Z"
   },
   {
    "duration": 155,
    "start_time": "2023-04-06T14:20:00.692Z"
   },
   {
    "duration": 131,
    "start_time": "2023-04-06T14:20:00.849Z"
   },
   {
    "duration": 145,
    "start_time": "2023-04-06T14:20:00.981Z"
   },
   {
    "duration": 145,
    "start_time": "2023-04-06T14:20:01.128Z"
   },
   {
    "duration": 23,
    "start_time": "2023-04-06T14:20:01.274Z"
   },
   {
    "duration": 182,
    "start_time": "2023-04-06T14:20:01.298Z"
   },
   {
    "duration": 10,
    "start_time": "2023-04-06T14:21:40.091Z"
   },
   {
    "duration": 228,
    "start_time": "2023-04-06T14:22:50.924Z"
   },
   {
    "duration": 2501,
    "start_time": "2023-04-06T14:23:08.478Z"
   },
   {
    "duration": 19,
    "start_time": "2023-04-06T14:23:10.981Z"
   },
   {
    "duration": 12,
    "start_time": "2023-04-06T14:23:11.001Z"
   },
   {
    "duration": 35,
    "start_time": "2023-04-06T14:23:11.016Z"
   },
   {
    "duration": 1219,
    "start_time": "2023-04-06T14:23:11.053Z"
   },
   {
    "duration": 8,
    "start_time": "2023-04-06T14:23:12.274Z"
   },
   {
    "duration": 10,
    "start_time": "2023-04-06T14:23:12.283Z"
   },
   {
    "duration": 19,
    "start_time": "2023-04-06T14:23:12.294Z"
   },
   {
    "duration": 13,
    "start_time": "2023-04-06T14:23:12.335Z"
   },
   {
    "duration": 22,
    "start_time": "2023-04-06T14:23:12.350Z"
   },
   {
    "duration": 15,
    "start_time": "2023-04-06T14:23:12.374Z"
   },
   {
    "duration": 13,
    "start_time": "2023-04-06T14:23:12.390Z"
   },
   {
    "duration": 35,
    "start_time": "2023-04-06T14:23:12.404Z"
   },
   {
    "duration": 21,
    "start_time": "2023-04-06T14:23:12.441Z"
   },
   {
    "duration": 150,
    "start_time": "2023-04-06T14:23:12.464Z"
   },
   {
    "duration": 73,
    "start_time": "2023-04-06T14:23:12.615Z"
   },
   {
    "duration": 302,
    "start_time": "2023-04-06T14:23:12.690Z"
   },
   {
    "duration": 11,
    "start_time": "2023-04-06T14:23:12.994Z"
   },
   {
    "duration": 26,
    "start_time": "2023-04-06T14:23:13.008Z"
   },
   {
    "duration": 15,
    "start_time": "2023-04-06T14:23:13.036Z"
   },
   {
    "duration": 148,
    "start_time": "2023-04-06T14:23:13.053Z"
   },
   {
    "duration": 263,
    "start_time": "2023-04-06T14:23:13.202Z"
   },
   {
    "duration": 9,
    "start_time": "2023-04-06T14:23:13.467Z"
   },
   {
    "duration": 308,
    "start_time": "2023-04-06T14:23:13.478Z"
   },
   {
    "duration": 23,
    "start_time": "2023-04-06T14:23:13.788Z"
   },
   {
    "duration": 15,
    "start_time": "2023-04-06T14:23:13.813Z"
   },
   {
    "duration": 219,
    "start_time": "2023-04-06T14:23:13.834Z"
   },
   {
    "duration": 284,
    "start_time": "2023-04-06T14:23:14.056Z"
   },
   {
    "duration": 1383,
    "start_time": "2023-04-06T14:23:14.341Z"
   },
   {
    "duration": 991,
    "start_time": "2023-04-06T14:23:15.726Z"
   },
   {
    "duration": 544,
    "start_time": "2023-04-06T14:23:16.718Z"
   },
   {
    "duration": 565,
    "start_time": "2023-04-06T14:23:17.264Z"
   },
   {
    "duration": 256,
    "start_time": "2023-04-06T14:23:17.831Z"
   },
   {
    "duration": 149,
    "start_time": "2023-04-06T14:23:18.089Z"
   },
   {
    "duration": 151,
    "start_time": "2023-04-06T14:23:18.239Z"
   },
   {
    "duration": 138,
    "start_time": "2023-04-06T14:23:18.392Z"
   },
   {
    "duration": 124,
    "start_time": "2023-04-06T14:23:18.535Z"
   },
   {
    "duration": 144,
    "start_time": "2023-04-06T14:23:18.661Z"
   },
   {
    "duration": 135,
    "start_time": "2023-04-06T14:23:18.807Z"
   },
   {
    "duration": 22,
    "start_time": "2023-04-06T14:23:18.943Z"
   },
   {
    "duration": 161,
    "start_time": "2023-04-06T14:23:18.966Z"
   },
   {
    "duration": 207,
    "start_time": "2023-04-06T14:24:53.916Z"
   },
   {
    "duration": 236,
    "start_time": "2023-04-06T14:26:23.262Z"
   },
   {
    "duration": 2527,
    "start_time": "2023-04-06T14:26:32.480Z"
   },
   {
    "duration": 20,
    "start_time": "2023-04-06T14:26:35.009Z"
   },
   {
    "duration": 12,
    "start_time": "2023-04-06T14:26:35.031Z"
   },
   {
    "duration": 11,
    "start_time": "2023-04-06T14:26:35.045Z"
   },
   {
    "duration": 1273,
    "start_time": "2023-04-06T14:26:35.057Z"
   },
   {
    "duration": 10,
    "start_time": "2023-04-06T14:26:36.335Z"
   },
   {
    "duration": 11,
    "start_time": "2023-04-06T14:26:36.347Z"
   },
   {
    "duration": 14,
    "start_time": "2023-04-06T14:26:36.359Z"
   },
   {
    "duration": 22,
    "start_time": "2023-04-06T14:26:36.374Z"
   },
   {
    "duration": 38,
    "start_time": "2023-04-06T14:26:36.399Z"
   },
   {
    "duration": 12,
    "start_time": "2023-04-06T14:26:36.438Z"
   },
   {
    "duration": 17,
    "start_time": "2023-04-06T14:26:36.451Z"
   },
   {
    "duration": 37,
    "start_time": "2023-04-06T14:26:36.469Z"
   },
   {
    "duration": 7,
    "start_time": "2023-04-06T14:26:36.509Z"
   },
   {
    "duration": 181,
    "start_time": "2023-04-06T14:26:36.518Z"
   },
   {
    "duration": 80,
    "start_time": "2023-04-06T14:26:36.701Z"
   },
   {
    "duration": 307,
    "start_time": "2023-04-06T14:26:36.783Z"
   },
   {
    "duration": 12,
    "start_time": "2023-04-06T14:26:37.091Z"
   },
   {
    "duration": 33,
    "start_time": "2023-04-06T14:26:37.105Z"
   },
   {
    "duration": 14,
    "start_time": "2023-04-06T14:26:37.140Z"
   },
   {
    "duration": 168,
    "start_time": "2023-04-06T14:26:37.156Z"
   },
   {
    "duration": 264,
    "start_time": "2023-04-06T14:26:37.325Z"
   },
   {
    "duration": 11,
    "start_time": "2023-04-06T14:26:37.590Z"
   },
   {
    "duration": 331,
    "start_time": "2023-04-06T14:26:37.603Z"
   },
   {
    "duration": 25,
    "start_time": "2023-04-06T14:26:37.936Z"
   },
   {
    "duration": 3,
    "start_time": "2023-04-06T14:26:37.963Z"
   },
   {
    "duration": 231,
    "start_time": "2023-04-06T14:26:37.968Z"
   },
   {
    "duration": 281,
    "start_time": "2023-04-06T14:26:38.203Z"
   },
   {
    "duration": 1487,
    "start_time": "2023-04-06T14:26:38.487Z"
   },
   {
    "duration": 989,
    "start_time": "2023-04-06T14:26:39.976Z"
   },
   {
    "duration": 593,
    "start_time": "2023-04-06T14:26:40.967Z"
   },
   {
    "duration": 583,
    "start_time": "2023-04-06T14:26:41.562Z"
   },
   {
    "duration": 275,
    "start_time": "2023-04-06T14:26:42.147Z"
   },
   {
    "duration": 179,
    "start_time": "2023-04-06T14:26:42.424Z"
   },
   {
    "duration": 172,
    "start_time": "2023-04-06T14:26:42.605Z"
   },
   {
    "duration": 142,
    "start_time": "2023-04-06T14:26:42.779Z"
   },
   {
    "duration": 140,
    "start_time": "2023-04-06T14:26:42.923Z"
   },
   {
    "duration": 137,
    "start_time": "2023-04-06T14:26:43.065Z"
   },
   {
    "duration": 175,
    "start_time": "2023-04-06T14:26:43.205Z"
   },
   {
    "duration": 21,
    "start_time": "2023-04-06T14:26:43.381Z"
   },
   {
    "duration": 159,
    "start_time": "2023-04-06T14:26:43.404Z"
   },
   {
    "duration": 230,
    "start_time": "2023-04-06T14:27:42.833Z"
   },
   {
    "duration": 212,
    "start_time": "2023-04-06T14:29:39.139Z"
   },
   {
    "duration": 225,
    "start_time": "2023-04-06T14:29:52.057Z"
   },
   {
    "duration": 2441,
    "start_time": "2023-04-06T14:30:35.538Z"
   },
   {
    "duration": 19,
    "start_time": "2023-04-06T14:30:37.981Z"
   },
   {
    "duration": 21,
    "start_time": "2023-04-06T14:30:38.001Z"
   },
   {
    "duration": 56,
    "start_time": "2023-04-06T14:30:38.024Z"
   },
   {
    "duration": 1233,
    "start_time": "2023-04-06T14:30:38.081Z"
   },
   {
    "duration": 8,
    "start_time": "2023-04-06T14:30:39.316Z"
   },
   {
    "duration": 25,
    "start_time": "2023-04-06T14:30:39.325Z"
   },
   {
    "duration": 29,
    "start_time": "2023-04-06T14:30:39.351Z"
   },
   {
    "duration": 21,
    "start_time": "2023-04-06T14:30:39.382Z"
   },
   {
    "duration": 24,
    "start_time": "2023-04-06T14:30:39.406Z"
   },
   {
    "duration": 17,
    "start_time": "2023-04-06T14:30:39.432Z"
   },
   {
    "duration": 21,
    "start_time": "2023-04-06T14:30:39.450Z"
   },
   {
    "duration": 27,
    "start_time": "2023-04-06T14:30:39.472Z"
   },
   {
    "duration": 6,
    "start_time": "2023-04-06T14:30:39.500Z"
   },
   {
    "duration": 151,
    "start_time": "2023-04-06T14:30:39.508Z"
   },
   {
    "duration": 76,
    "start_time": "2023-04-06T14:30:39.660Z"
   },
   {
    "duration": 291,
    "start_time": "2023-04-06T14:30:39.737Z"
   },
   {
    "duration": 14,
    "start_time": "2023-04-06T14:30:40.029Z"
   },
   {
    "duration": 22,
    "start_time": "2023-04-06T14:30:40.044Z"
   },
   {
    "duration": 21,
    "start_time": "2023-04-06T14:30:40.067Z"
   },
   {
    "duration": 134,
    "start_time": "2023-04-06T14:30:40.090Z"
   },
   {
    "duration": 259,
    "start_time": "2023-04-06T14:30:40.225Z"
   },
   {
    "duration": 9,
    "start_time": "2023-04-06T14:30:40.486Z"
   },
   {
    "duration": 296,
    "start_time": "2023-04-06T14:30:40.497Z"
   },
   {
    "duration": 24,
    "start_time": "2023-04-06T14:30:40.794Z"
   },
   {
    "duration": 20,
    "start_time": "2023-04-06T14:30:40.819Z"
   },
   {
    "duration": 261,
    "start_time": "2023-04-06T14:30:40.840Z"
   },
   {
    "duration": 289,
    "start_time": "2023-04-06T14:30:41.104Z"
   },
   {
    "duration": 1339,
    "start_time": "2023-04-06T14:30:41.395Z"
   },
   {
    "duration": 928,
    "start_time": "2023-04-06T14:30:42.736Z"
   },
   {
    "duration": 510,
    "start_time": "2023-04-06T14:30:43.666Z"
   },
   {
    "duration": 577,
    "start_time": "2023-04-06T14:30:44.178Z"
   },
   {
    "duration": 326,
    "start_time": "2023-04-06T14:30:44.757Z"
   },
   {
    "duration": 176,
    "start_time": "2023-04-06T14:30:45.084Z"
   },
   {
    "duration": 204,
    "start_time": "2023-04-06T14:30:45.262Z"
   },
   {
    "duration": 158,
    "start_time": "2023-04-06T14:30:45.467Z"
   },
   {
    "duration": 145,
    "start_time": "2023-04-06T14:30:45.626Z"
   },
   {
    "duration": 152,
    "start_time": "2023-04-06T14:30:45.774Z"
   },
   {
    "duration": 157,
    "start_time": "2023-04-06T14:30:45.928Z"
   },
   {
    "duration": 23,
    "start_time": "2023-04-06T14:30:46.087Z"
   },
   {
    "duration": 195,
    "start_time": "2023-04-06T14:30:46.112Z"
   },
   {
    "duration": 1857,
    "start_time": "2023-04-06T14:30:46.309Z"
   },
   {
    "duration": 19,
    "start_time": "2023-04-06T14:32:10.862Z"
   },
   {
    "duration": 10,
    "start_time": "2023-04-06T14:32:15.206Z"
   },
   {
    "duration": 12,
    "start_time": "2023-04-06T14:32:18.274Z"
   },
   {
    "duration": 1310,
    "start_time": "2023-04-06T14:32:21.444Z"
   },
   {
    "duration": 9,
    "start_time": "2023-04-06T14:32:27.772Z"
   },
   {
    "duration": 11,
    "start_time": "2023-04-06T14:32:31.274Z"
   },
   {
    "duration": 13,
    "start_time": "2023-04-06T14:32:39.422Z"
   },
   {
    "duration": 12,
    "start_time": "2023-04-06T14:32:41.497Z"
   },
   {
    "duration": 13,
    "start_time": "2023-04-06T14:32:45.691Z"
   },
   {
    "duration": 12,
    "start_time": "2023-04-06T14:32:48.544Z"
   },
   {
    "duration": 8,
    "start_time": "2023-04-06T14:32:54.172Z"
   },
   {
    "duration": 23,
    "start_time": "2023-04-06T14:32:55.823Z"
   },
   {
    "duration": 7,
    "start_time": "2023-04-06T14:32:59.222Z"
   },
   {
    "duration": 148,
    "start_time": "2023-04-06T14:33:00.706Z"
   },
   {
    "duration": 69,
    "start_time": "2023-04-06T14:33:03.871Z"
   },
   {
    "duration": 283,
    "start_time": "2023-04-06T14:33:08.692Z"
   },
   {
    "duration": 8,
    "start_time": "2023-04-06T14:33:12.473Z"
   },
   {
    "duration": 14,
    "start_time": "2023-04-06T14:33:20.397Z"
   },
   {
    "duration": 14,
    "start_time": "2023-04-06T14:33:22.788Z"
   },
   {
    "duration": 134,
    "start_time": "2023-04-06T14:33:26.272Z"
   },
   {
    "duration": 272,
    "start_time": "2023-04-06T14:33:29.928Z"
   },
   {
    "duration": 8,
    "start_time": "2023-04-06T14:33:40.747Z"
   },
   {
    "duration": 347,
    "start_time": "2023-04-06T14:33:47.188Z"
   },
   {
    "duration": 23,
    "start_time": "2023-04-06T14:33:58.440Z"
   },
   {
    "duration": 5,
    "start_time": "2023-04-06T14:34:06.181Z"
   },
   {
    "duration": 210,
    "start_time": "2023-04-06T14:34:16.439Z"
   },
   {
    "duration": 225,
    "start_time": "2023-04-06T14:34:38.462Z"
   },
   {
    "duration": 5,
    "start_time": "2023-04-06T14:34:49.868Z"
   },
   {
    "duration": 221,
    "start_time": "2023-04-06T14:34:54.056Z"
   },
   {
    "duration": 243,
    "start_time": "2023-04-06T14:35:05.538Z"
   },
   {
    "duration": 244,
    "start_time": "2023-04-06T14:35:31.640Z"
   },
   {
    "duration": 240,
    "start_time": "2023-04-06T14:35:42.855Z"
   },
   {
    "duration": 314,
    "start_time": "2023-04-06T14:35:49.272Z"
   },
   {
    "duration": 321,
    "start_time": "2023-04-06T14:36:00.522Z"
   },
   {
    "duration": 216,
    "start_time": "2023-04-06T14:36:09.777Z"
   },
   {
    "duration": 2581,
    "start_time": "2023-04-06T14:36:36.318Z"
   },
   {
    "duration": 18,
    "start_time": "2023-04-06T14:36:38.901Z"
   },
   {
    "duration": 8,
    "start_time": "2023-04-06T14:36:38.921Z"
   },
   {
    "duration": 11,
    "start_time": "2023-04-06T14:36:38.935Z"
   },
   {
    "duration": 1227,
    "start_time": "2023-04-06T14:36:38.948Z"
   },
   {
    "duration": 9,
    "start_time": "2023-04-06T14:36:40.177Z"
   },
   {
    "duration": 11,
    "start_time": "2023-04-06T14:36:40.187Z"
   },
   {
    "duration": 13,
    "start_time": "2023-04-06T14:36:40.200Z"
   },
   {
    "duration": 30,
    "start_time": "2023-04-06T14:36:40.215Z"
   },
   {
    "duration": 15,
    "start_time": "2023-04-06T14:36:40.248Z"
   },
   {
    "duration": 10,
    "start_time": "2023-04-06T14:36:40.265Z"
   },
   {
    "duration": 23,
    "start_time": "2023-04-06T14:36:40.277Z"
   },
   {
    "duration": 42,
    "start_time": "2023-04-06T14:36:40.301Z"
   },
   {
    "duration": 5,
    "start_time": "2023-04-06T14:36:40.344Z"
   },
   {
    "duration": 150,
    "start_time": "2023-04-06T14:36:40.351Z"
   },
   {
    "duration": 77,
    "start_time": "2023-04-06T14:36:40.503Z"
   },
   {
    "duration": 285,
    "start_time": "2023-04-06T14:36:40.581Z"
   },
   {
    "duration": 10,
    "start_time": "2023-04-06T14:36:40.868Z"
   },
   {
    "duration": 10,
    "start_time": "2023-04-06T14:36:40.880Z"
   },
   {
    "duration": 13,
    "start_time": "2023-04-06T14:36:40.892Z"
   },
   {
    "duration": 159,
    "start_time": "2023-04-06T14:36:40.906Z"
   },
   {
    "duration": 251,
    "start_time": "2023-04-06T14:36:41.067Z"
   },
   {
    "duration": 16,
    "start_time": "2023-04-06T14:36:41.319Z"
   },
   {
    "duration": 288,
    "start_time": "2023-04-06T14:36:41.336Z"
   },
   {
    "duration": 30,
    "start_time": "2023-04-06T14:36:41.625Z"
   },
   {
    "duration": 4,
    "start_time": "2023-04-06T14:36:41.656Z"
   },
   {
    "duration": 237,
    "start_time": "2023-04-06T14:36:41.661Z"
   },
   {
    "duration": 292,
    "start_time": "2023-04-06T14:36:41.902Z"
   },
   {
    "duration": 1319,
    "start_time": "2023-04-06T14:36:42.195Z"
   },
   {
    "duration": 954,
    "start_time": "2023-04-06T14:36:43.516Z"
   },
   {
    "duration": 520,
    "start_time": "2023-04-06T14:36:44.471Z"
   },
   {
    "duration": 574,
    "start_time": "2023-04-06T14:36:44.993Z"
   },
   {
    "duration": 288,
    "start_time": "2023-04-06T14:36:45.570Z"
   },
   {
    "duration": 156,
    "start_time": "2023-04-06T14:36:45.859Z"
   },
   {
    "duration": 158,
    "start_time": "2023-04-06T14:36:46.016Z"
   },
   {
    "duration": 159,
    "start_time": "2023-04-06T14:36:46.175Z"
   },
   {
    "duration": 134,
    "start_time": "2023-04-06T14:36:46.337Z"
   },
   {
    "duration": 135,
    "start_time": "2023-04-06T14:36:46.473Z"
   },
   {
    "duration": 146,
    "start_time": "2023-04-06T14:36:46.610Z"
   },
   {
    "duration": 21,
    "start_time": "2023-04-06T14:36:46.758Z"
   },
   {
    "duration": 154,
    "start_time": "2023-04-06T14:36:46.782Z"
   },
   {
    "duration": 8,
    "start_time": "2023-04-06T14:41:14.168Z"
   },
   {
    "duration": 12,
    "start_time": "2023-04-06T14:41:42.741Z"
   },
   {
    "duration": 11,
    "start_time": "2023-04-06T14:42:39.899Z"
   },
   {
    "duration": 9,
    "start_time": "2023-04-06T14:43:09.166Z"
   },
   {
    "duration": 9,
    "start_time": "2023-04-06T14:43:48.165Z"
   },
   {
    "duration": 248,
    "start_time": "2023-04-06T14:49:08.598Z"
   },
   {
    "duration": 353,
    "start_time": "2023-04-06T14:49:23.683Z"
   },
   {
    "duration": 73,
    "start_time": "2023-04-06T14:54:44.308Z"
   },
   {
    "duration": 69,
    "start_time": "2023-04-06T14:56:08.096Z"
   },
   {
    "duration": 101,
    "start_time": "2023-04-06T14:56:19.521Z"
   },
   {
    "duration": 129,
    "start_time": "2023-04-06T14:56:46.054Z"
   },
   {
    "duration": 17,
    "start_time": "2023-04-06T14:58:45.590Z"
   },
   {
    "duration": 9,
    "start_time": "2023-04-06T14:59:04.606Z"
   },
   {
    "duration": 9,
    "start_time": "2023-04-06T14:59:09.414Z"
   },
   {
    "duration": 13,
    "start_time": "2023-04-06T14:59:34.846Z"
   },
   {
    "duration": 14,
    "start_time": "2023-04-06T15:01:12.149Z"
   },
   {
    "duration": 2562,
    "start_time": "2023-04-06T15:03:58.085Z"
   },
   {
    "duration": 21,
    "start_time": "2023-04-06T15:04:00.649Z"
   },
   {
    "duration": 12,
    "start_time": "2023-04-06T15:04:00.672Z"
   },
   {
    "duration": 29,
    "start_time": "2023-04-06T15:04:00.686Z"
   },
   {
    "duration": 1280,
    "start_time": "2023-04-06T15:04:00.717Z"
   },
   {
    "duration": 9,
    "start_time": "2023-04-06T15:04:01.999Z"
   },
   {
    "duration": 35,
    "start_time": "2023-04-06T15:04:02.010Z"
   },
   {
    "duration": 32,
    "start_time": "2023-04-06T15:04:02.046Z"
   },
   {
    "duration": 35,
    "start_time": "2023-04-06T15:04:02.080Z"
   },
   {
    "duration": 15,
    "start_time": "2023-04-06T15:04:02.118Z"
   },
   {
    "duration": 18,
    "start_time": "2023-04-06T15:04:02.135Z"
   },
   {
    "duration": 19,
    "start_time": "2023-04-06T15:04:02.154Z"
   },
   {
    "duration": 73,
    "start_time": "2023-04-06T15:04:02.175Z"
   },
   {
    "duration": 25,
    "start_time": "2023-04-06T15:04:02.250Z"
   },
   {
    "duration": 171,
    "start_time": "2023-04-06T15:04:02.277Z"
   },
   {
    "duration": 85,
    "start_time": "2023-04-06T15:04:02.450Z"
   },
   {
    "duration": 308,
    "start_time": "2023-04-06T15:04:02.537Z"
   },
   {
    "duration": 10,
    "start_time": "2023-04-06T15:04:02.847Z"
   },
   {
    "duration": 25,
    "start_time": "2023-04-06T15:04:02.859Z"
   },
   {
    "duration": 23,
    "start_time": "2023-04-06T15:04:02.885Z"
   },
   {
    "duration": 146,
    "start_time": "2023-04-06T15:04:02.910Z"
   },
   {
    "duration": 270,
    "start_time": "2023-04-06T15:04:03.057Z"
   },
   {
    "duration": 13,
    "start_time": "2023-04-06T15:04:03.328Z"
   },
   {
    "duration": 319,
    "start_time": "2023-04-06T15:04:03.343Z"
   },
   {
    "duration": 33,
    "start_time": "2023-04-06T15:04:03.664Z"
   },
   {
    "duration": 46,
    "start_time": "2023-04-06T15:04:03.699Z"
   },
   {
    "duration": 315,
    "start_time": "2023-04-06T15:04:03.747Z"
   },
   {
    "duration": 11,
    "start_time": "2023-04-06T15:04:04.065Z"
   },
   {
    "duration": 276,
    "start_time": "2023-04-06T15:04:04.077Z"
   },
   {
    "duration": 14,
    "start_time": "2023-04-06T15:04:04.356Z"
   },
   {
    "duration": 333,
    "start_time": "2023-04-06T15:04:04.372Z"
   },
   {
    "duration": 1472,
    "start_time": "2023-04-06T15:04:04.707Z"
   },
   {
    "duration": 987,
    "start_time": "2023-04-06T15:04:06.180Z"
   },
   {
    "duration": 534,
    "start_time": "2023-04-06T15:04:07.169Z"
   },
   {
    "duration": 691,
    "start_time": "2023-04-06T15:04:07.705Z"
   },
   {
    "duration": 171,
    "start_time": "2023-04-06T15:04:08.398Z"
   },
   {
    "duration": 170,
    "start_time": "2023-04-06T15:04:08.571Z"
   },
   {
    "duration": 160,
    "start_time": "2023-04-06T15:04:08.743Z"
   },
   {
    "duration": 167,
    "start_time": "2023-04-06T15:04:08.905Z"
   },
   {
    "duration": 134,
    "start_time": "2023-04-06T15:04:09.074Z"
   },
   {
    "duration": 167,
    "start_time": "2023-04-06T15:04:09.210Z"
   },
   {
    "duration": 146,
    "start_time": "2023-04-06T15:04:09.378Z"
   },
   {
    "duration": 26,
    "start_time": "2023-04-06T15:04:09.526Z"
   },
   {
    "duration": 158,
    "start_time": "2023-04-06T15:04:09.554Z"
   },
   {
    "duration": 73,
    "start_time": "2023-04-06T15:05:48.181Z"
   },
   {
    "duration": 21,
    "start_time": "2023-04-06T15:05:55.295Z"
   },
   {
    "duration": 11,
    "start_time": "2023-04-06T15:07:49.284Z"
   },
   {
    "duration": 329,
    "start_time": "2023-04-06T15:08:13.418Z"
   },
   {
    "duration": 263,
    "start_time": "2023-04-06T15:08:31.988Z"
   },
   {
    "duration": 265,
    "start_time": "2023-04-06T15:08:57.605Z"
   },
   {
    "duration": 239,
    "start_time": "2023-04-06T15:09:24.900Z"
   },
   {
    "duration": 145,
    "start_time": "2023-04-06T15:11:30.849Z"
   },
   {
    "duration": 197,
    "start_time": "2023-04-06T15:13:05.031Z"
   },
   {
    "duration": 206,
    "start_time": "2023-04-06T15:18:01.042Z"
   },
   {
    "duration": 297,
    "start_time": "2023-04-06T15:18:10.100Z"
   },
   {
    "duration": 235,
    "start_time": "2023-04-06T15:18:28.944Z"
   },
   {
    "duration": 214,
    "start_time": "2023-04-06T15:18:51.037Z"
   },
   {
    "duration": 213,
    "start_time": "2023-04-06T15:19:13.451Z"
   },
   {
    "duration": 197,
    "start_time": "2023-04-06T15:21:58.042Z"
   },
   {
    "duration": 210,
    "start_time": "2023-04-06T15:22:08.301Z"
   },
   {
    "duration": 222,
    "start_time": "2023-04-06T15:24:36.054Z"
   },
   {
    "duration": 9,
    "start_time": "2023-04-06T15:25:04.322Z"
   },
   {
    "duration": 259,
    "start_time": "2023-04-06T15:25:28.047Z"
   },
   {
    "duration": 252,
    "start_time": "2023-04-06T15:25:50.216Z"
   },
   {
    "duration": 248,
    "start_time": "2023-04-06T15:26:00.599Z"
   },
   {
    "duration": 239,
    "start_time": "2023-04-06T15:26:20.546Z"
   },
   {
    "duration": 249,
    "start_time": "2023-04-06T15:26:43.131Z"
   },
   {
    "duration": 224,
    "start_time": "2023-04-06T15:26:58.065Z"
   },
   {
    "duration": 245,
    "start_time": "2023-04-06T15:27:37.582Z"
   },
   {
    "duration": 92,
    "start_time": "2023-04-06T15:30:44.700Z"
   },
   {
    "duration": 386,
    "start_time": "2023-04-06T15:35:40.113Z"
   },
   {
    "duration": 280,
    "start_time": "2023-04-06T15:38:15.082Z"
   },
   {
    "duration": 271,
    "start_time": "2023-04-06T15:39:35.466Z"
   },
   {
    "duration": 343,
    "start_time": "2023-04-06T15:39:58.461Z"
   },
   {
    "duration": 347,
    "start_time": "2023-04-06T15:40:48.237Z"
   },
   {
    "duration": 299,
    "start_time": "2023-04-06T15:41:29.350Z"
   },
   {
    "duration": 1443,
    "start_time": "2023-04-06T15:55:28.417Z"
   },
   {
    "duration": 1333,
    "start_time": "2023-04-06T15:55:47.434Z"
   },
   {
    "duration": 1323,
    "start_time": "2023-04-06T16:00:11.174Z"
   },
   {
    "duration": 1284,
    "start_time": "2023-04-06T16:06:27.317Z"
   },
   {
    "duration": 1393,
    "start_time": "2023-04-06T16:06:42.553Z"
   },
   {
    "duration": 1063,
    "start_time": "2023-04-06T16:07:12.710Z"
   },
   {
    "duration": 534,
    "start_time": "2023-04-06T16:16:35.805Z"
   },
   {
    "duration": 140,
    "start_time": "2023-04-06T16:32:07.789Z"
   },
   {
    "duration": 376,
    "start_time": "2023-04-06T16:33:30.201Z"
   },
   {
    "duration": 71,
    "start_time": "2023-04-06T16:34:03.203Z"
   },
   {
    "duration": 141,
    "start_time": "2023-04-06T16:34:31.205Z"
   },
   {
    "duration": 202,
    "start_time": "2023-04-06T16:35:47.089Z"
   },
   {
    "duration": 215,
    "start_time": "2023-04-06T16:36:55.329Z"
   },
   {
    "duration": 146,
    "start_time": "2023-04-06T16:52:31.347Z"
   },
   {
    "duration": 141,
    "start_time": "2023-04-06T16:53:26.665Z"
   },
   {
    "duration": 156,
    "start_time": "2023-04-06T16:56:28.703Z"
   },
   {
    "duration": 150,
    "start_time": "2023-04-06T16:56:36.960Z"
   },
   {
    "duration": 134,
    "start_time": "2023-04-06T16:58:47.615Z"
   },
   {
    "duration": 144,
    "start_time": "2023-04-06T16:59:10.247Z"
   },
   {
    "duration": 158,
    "start_time": "2023-04-06T17:00:00.851Z"
   },
   {
    "duration": 270,
    "start_time": "2023-04-06T17:00:32.069Z"
   },
   {
    "duration": 23,
    "start_time": "2023-04-06T17:02:31.670Z"
   },
   {
    "duration": 22,
    "start_time": "2023-04-06T17:02:58.602Z"
   },
   {
    "duration": 145,
    "start_time": "2023-04-06T17:04:58.448Z"
   },
   {
    "duration": 589,
    "start_time": "2023-04-06T17:05:35.618Z"
   },
   {
    "duration": 164,
    "start_time": "2023-04-06T17:05:48.856Z"
   },
   {
    "duration": 176,
    "start_time": "2023-04-06T17:10:02.294Z"
   },
   {
    "duration": 152,
    "start_time": "2023-04-06T17:13:42.533Z"
   },
   {
    "duration": 20,
    "start_time": "2023-04-06T17:21:02.888Z"
   },
   {
    "duration": 20,
    "start_time": "2023-04-06T17:26:10.851Z"
   },
   {
    "duration": 24,
    "start_time": "2023-04-06T17:32:28.810Z"
   },
   {
    "duration": 19,
    "start_time": "2023-04-06T17:35:10.562Z"
   },
   {
    "duration": 2723,
    "start_time": "2023-04-06T17:35:47.224Z"
   },
   {
    "duration": 20,
    "start_time": "2023-04-06T17:35:49.949Z"
   },
   {
    "duration": 9,
    "start_time": "2023-04-06T17:35:49.970Z"
   },
   {
    "duration": 26,
    "start_time": "2023-04-06T17:35:49.981Z"
   },
   {
    "duration": 1372,
    "start_time": "2023-04-06T17:35:50.009Z"
   },
   {
    "duration": 9,
    "start_time": "2023-04-06T17:35:51.382Z"
   },
   {
    "duration": 10,
    "start_time": "2023-04-06T17:35:51.392Z"
   },
   {
    "duration": 31,
    "start_time": "2023-04-06T17:35:51.404Z"
   },
   {
    "duration": 16,
    "start_time": "2023-04-06T17:35:51.437Z"
   },
   {
    "duration": 16,
    "start_time": "2023-04-06T17:35:51.455Z"
   },
   {
    "duration": 11,
    "start_time": "2023-04-06T17:35:51.472Z"
   },
   {
    "duration": 6,
    "start_time": "2023-04-06T17:35:51.485Z"
   },
   {
    "duration": 52,
    "start_time": "2023-04-06T17:35:51.492Z"
   },
   {
    "duration": 5,
    "start_time": "2023-04-06T17:35:51.545Z"
   },
   {
    "duration": 173,
    "start_time": "2023-04-06T17:35:51.552Z"
   },
   {
    "duration": 79,
    "start_time": "2023-04-06T17:35:51.727Z"
   },
   {
    "duration": 312,
    "start_time": "2023-04-06T17:35:51.808Z"
   },
   {
    "duration": 237,
    "start_time": "2023-04-06T17:35:52.122Z"
   },
   {
    "duration": 12,
    "start_time": "2023-04-06T17:35:52.361Z"
   },
   {
    "duration": 15,
    "start_time": "2023-04-06T17:35:52.374Z"
   },
   {
    "duration": 155,
    "start_time": "2023-04-06T17:35:52.390Z"
   },
   {
    "duration": 345,
    "start_time": "2023-04-06T17:35:52.547Z"
   },
   {
    "duration": 189,
    "start_time": "2023-04-06T17:35:52.893Z"
   },
   {
    "duration": 229,
    "start_time": "2023-04-06T17:35:53.083Z"
   },
   {
    "duration": 28,
    "start_time": "2023-04-06T17:35:53.313Z"
   },
   {
    "duration": 3,
    "start_time": "2023-04-06T17:35:53.343Z"
   },
   {
    "duration": 251,
    "start_time": "2023-04-06T17:35:53.348Z"
   },
   {
    "duration": 12,
    "start_time": "2023-04-06T17:35:53.603Z"
   },
   {
    "duration": 267,
    "start_time": "2023-04-06T17:35:53.617Z"
   },
   {
    "duration": 11,
    "start_time": "2023-04-06T17:35:53.886Z"
   },
   {
    "duration": 346,
    "start_time": "2023-04-06T17:35:53.899Z"
   },
   {
    "duration": 1444,
    "start_time": "2023-04-06T17:35:54.246Z"
   },
   {
    "duration": 975,
    "start_time": "2023-04-06T17:35:55.693Z"
   },
   {
    "duration": 610,
    "start_time": "2023-04-06T17:35:56.670Z"
   },
   {
    "duration": 162,
    "start_time": "2023-04-06T17:35:57.282Z"
   },
   {
    "duration": 161,
    "start_time": "2023-04-06T17:35:57.446Z"
   },
   {
    "duration": 152,
    "start_time": "2023-04-06T17:35:57.608Z"
   },
   {
    "duration": 156,
    "start_time": "2023-04-06T17:35:57.762Z"
   },
   {
    "duration": 82,
    "start_time": "2023-04-06T17:35:57.919Z"
   },
   {
    "duration": 0,
    "start_time": "2023-04-06T17:35:58.003Z"
   },
   {
    "duration": 0,
    "start_time": "2023-04-06T17:35:58.005Z"
   },
   {
    "duration": 0,
    "start_time": "2023-04-06T17:35:58.006Z"
   },
   {
    "duration": 0,
    "start_time": "2023-04-06T17:35:58.008Z"
   },
   {
    "duration": 18,
    "start_time": "2023-04-06T17:36:32.276Z"
   },
   {
    "duration": 14,
    "start_time": "2023-04-06T17:37:10.344Z"
   },
   {
    "duration": 20,
    "start_time": "2023-04-06T17:37:56.928Z"
   },
   {
    "duration": 302,
    "start_time": "2023-04-06T17:41:23.009Z"
   },
   {
    "duration": 1403,
    "start_time": "2023-04-06T17:42:32.808Z"
   },
   {
    "duration": 983,
    "start_time": "2023-04-06T17:42:45.810Z"
   },
   {
    "duration": 635,
    "start_time": "2023-04-06T17:43:05.294Z"
   },
   {
    "duration": 178,
    "start_time": "2023-04-06T17:44:19.962Z"
   },
   {
    "duration": 152,
    "start_time": "2023-04-06T17:44:33.526Z"
   },
   {
    "duration": 139,
    "start_time": "2023-04-06T17:44:39.637Z"
   },
   {
    "duration": 169,
    "start_time": "2023-04-06T17:44:50.951Z"
   },
   {
    "duration": 134,
    "start_time": "2023-04-06T17:45:11.994Z"
   },
   {
    "duration": 155,
    "start_time": "2023-04-06T17:45:40.027Z"
   },
   {
    "duration": 147,
    "start_time": "2023-04-06T17:48:13.976Z"
   },
   {
    "duration": 22,
    "start_time": "2023-04-06T17:49:01.776Z"
   },
   {
    "duration": 146,
    "start_time": "2023-04-06T17:50:38.894Z"
   },
   {
    "duration": 2614,
    "start_time": "2023-04-06T18:07:30.249Z"
   },
   {
    "duration": 19,
    "start_time": "2023-04-06T18:07:32.865Z"
   },
   {
    "duration": 24,
    "start_time": "2023-04-06T18:07:32.886Z"
   },
   {
    "duration": 12,
    "start_time": "2023-04-06T18:07:32.912Z"
   },
   {
    "duration": 1240,
    "start_time": "2023-04-06T18:07:32.925Z"
   },
   {
    "duration": 8,
    "start_time": "2023-04-06T18:07:34.167Z"
   },
   {
    "duration": 27,
    "start_time": "2023-04-06T18:07:34.176Z"
   },
   {
    "duration": 20,
    "start_time": "2023-04-06T18:07:34.205Z"
   },
   {
    "duration": 36,
    "start_time": "2023-04-06T18:07:34.227Z"
   },
   {
    "duration": 21,
    "start_time": "2023-04-06T18:07:34.265Z"
   },
   {
    "duration": 10,
    "start_time": "2023-04-06T18:07:34.288Z"
   },
   {
    "duration": 7,
    "start_time": "2023-04-06T18:07:34.300Z"
   },
   {
    "duration": 32,
    "start_time": "2023-04-06T18:07:34.308Z"
   },
   {
    "duration": 5,
    "start_time": "2023-04-06T18:07:34.341Z"
   },
   {
    "duration": 152,
    "start_time": "2023-04-06T18:07:34.348Z"
   },
   {
    "duration": 87,
    "start_time": "2023-04-06T18:07:34.501Z"
   },
   {
    "duration": 328,
    "start_time": "2023-04-06T18:07:34.590Z"
   },
   {
    "duration": 228,
    "start_time": "2023-04-06T18:07:34.920Z"
   },
   {
    "duration": 15,
    "start_time": "2023-04-06T18:07:35.149Z"
   },
   {
    "duration": 40,
    "start_time": "2023-04-06T18:07:35.165Z"
   },
   {
    "duration": 148,
    "start_time": "2023-04-06T18:07:35.206Z"
   },
   {
    "duration": 396,
    "start_time": "2023-04-06T18:07:35.355Z"
   },
   {
    "duration": 183,
    "start_time": "2023-04-06T18:07:35.753Z"
   },
   {
    "duration": 212,
    "start_time": "2023-04-06T18:07:35.938Z"
   },
   {
    "duration": 24,
    "start_time": "2023-04-06T18:07:36.152Z"
   },
   {
    "duration": 10,
    "start_time": "2023-04-06T18:07:36.178Z"
   },
   {
    "duration": 248,
    "start_time": "2023-04-06T18:07:36.189Z"
   },
   {
    "duration": 11,
    "start_time": "2023-04-06T18:07:36.440Z"
   },
   {
    "duration": 254,
    "start_time": "2023-04-06T18:07:36.453Z"
   },
   {
    "duration": 10,
    "start_time": "2023-04-06T18:07:36.709Z"
   },
   {
    "duration": 1575,
    "start_time": "2023-04-06T18:07:36.720Z"
   },
   {
    "duration": 0,
    "start_time": "2023-04-06T18:07:38.297Z"
   },
   {
    "duration": 0,
    "start_time": "2023-04-06T18:07:38.298Z"
   },
   {
    "duration": 0,
    "start_time": "2023-04-06T18:07:38.299Z"
   },
   {
    "duration": 0,
    "start_time": "2023-04-06T18:07:38.300Z"
   },
   {
    "duration": 0,
    "start_time": "2023-04-06T18:07:38.301Z"
   },
   {
    "duration": 0,
    "start_time": "2023-04-06T18:07:38.302Z"
   },
   {
    "duration": 0,
    "start_time": "2023-04-06T18:07:38.303Z"
   },
   {
    "duration": 0,
    "start_time": "2023-04-06T18:07:38.304Z"
   },
   {
    "duration": 0,
    "start_time": "2023-04-06T18:07:38.305Z"
   },
   {
    "duration": 0,
    "start_time": "2023-04-06T18:07:38.306Z"
   },
   {
    "duration": 0,
    "start_time": "2023-04-06T18:07:38.307Z"
   },
   {
    "duration": 0,
    "start_time": "2023-04-06T18:07:38.308Z"
   },
   {
    "duration": 1553,
    "start_time": "2023-04-06T18:09:16.595Z"
   },
   {
    "duration": 1478,
    "start_time": "2023-04-06T18:09:24.494Z"
   },
   {
    "duration": 1510,
    "start_time": "2023-04-06T18:09:52.510Z"
   },
   {
    "duration": 1901,
    "start_time": "2023-04-06T18:11:56.993Z"
   },
   {
    "duration": 313,
    "start_time": "2023-04-06T18:12:40.092Z"
   },
   {
    "duration": 1863,
    "start_time": "2023-04-06T18:14:24.370Z"
   },
   {
    "duration": 4020,
    "start_time": "2023-04-06T18:15:00.419Z"
   },
   {
    "duration": 421,
    "start_time": "2023-04-06T18:15:51.656Z"
   },
   {
    "duration": 302,
    "start_time": "2023-04-06T18:16:22.490Z"
   },
   {
    "duration": 1412,
    "start_time": "2023-04-06T18:16:41.104Z"
   },
   {
    "duration": 2119,
    "start_time": "2023-04-06T18:16:45.006Z"
   },
   {
    "duration": 506,
    "start_time": "2023-04-06T18:16:52.953Z"
   },
   {
    "duration": 168,
    "start_time": "2023-04-06T18:17:04.138Z"
   },
   {
    "duration": 153,
    "start_time": "2023-04-06T18:17:08.913Z"
   },
   {
    "duration": 150,
    "start_time": "2023-04-06T18:17:10.904Z"
   },
   {
    "duration": 152,
    "start_time": "2023-04-06T18:17:12.740Z"
   },
   {
    "duration": 231,
    "start_time": "2023-04-06T18:17:14.647Z"
   },
   {
    "duration": 146,
    "start_time": "2023-04-06T18:17:18.136Z"
   },
   {
    "duration": 147,
    "start_time": "2023-04-06T18:17:19.940Z"
   },
   {
    "duration": 20,
    "start_time": "2023-04-06T18:17:22.074Z"
   },
   {
    "duration": 149,
    "start_time": "2023-04-06T18:17:24.788Z"
   },
   {
    "duration": 2661,
    "start_time": "2023-04-06T18:17:53.210Z"
   },
   {
    "duration": 27,
    "start_time": "2023-04-06T18:17:55.874Z"
   },
   {
    "duration": 13,
    "start_time": "2023-04-06T18:17:55.903Z"
   },
   {
    "duration": 19,
    "start_time": "2023-04-06T18:17:55.918Z"
   },
   {
    "duration": 1235,
    "start_time": "2023-04-06T18:17:55.939Z"
   },
   {
    "duration": 9,
    "start_time": "2023-04-06T18:17:57.176Z"
   },
   {
    "duration": 10,
    "start_time": "2023-04-06T18:17:57.186Z"
   },
   {
    "duration": 15,
    "start_time": "2023-04-06T18:17:57.198Z"
   },
   {
    "duration": 12,
    "start_time": "2023-04-06T18:17:57.235Z"
   },
   {
    "duration": 23,
    "start_time": "2023-04-06T18:17:57.250Z"
   },
   {
    "duration": 15,
    "start_time": "2023-04-06T18:17:57.274Z"
   },
   {
    "duration": 7,
    "start_time": "2023-04-06T18:17:57.292Z"
   },
   {
    "duration": 52,
    "start_time": "2023-04-06T18:17:57.301Z"
   },
   {
    "duration": 6,
    "start_time": "2023-04-06T18:17:57.355Z"
   },
   {
    "duration": 155,
    "start_time": "2023-04-06T18:17:57.363Z"
   },
   {
    "duration": 80,
    "start_time": "2023-04-06T18:17:57.520Z"
   },
   {
    "duration": 305,
    "start_time": "2023-04-06T18:17:57.601Z"
   },
   {
    "duration": 224,
    "start_time": "2023-04-06T18:17:57.908Z"
   },
   {
    "duration": 12,
    "start_time": "2023-04-06T18:17:58.133Z"
   },
   {
    "duration": 13,
    "start_time": "2023-04-06T18:17:58.147Z"
   },
   {
    "duration": 153,
    "start_time": "2023-04-06T18:17:58.161Z"
   },
   {
    "duration": 336,
    "start_time": "2023-04-06T18:17:58.316Z"
   },
   {
    "duration": 200,
    "start_time": "2023-04-06T18:17:58.653Z"
   },
   {
    "duration": 209,
    "start_time": "2023-04-06T18:17:58.855Z"
   },
   {
    "duration": 24,
    "start_time": "2023-04-06T18:17:59.066Z"
   },
   {
    "duration": 4,
    "start_time": "2023-04-06T18:17:59.091Z"
   },
   {
    "duration": 257,
    "start_time": "2023-04-06T18:17:59.097Z"
   },
   {
    "duration": 10,
    "start_time": "2023-04-06T18:17:59.357Z"
   },
   {
    "duration": 277,
    "start_time": "2023-04-06T18:17:59.368Z"
   },
   {
    "duration": 10,
    "start_time": "2023-04-06T18:17:59.647Z"
   },
   {
    "duration": 326,
    "start_time": "2023-04-06T18:17:59.658Z"
   },
   {
    "duration": 1435,
    "start_time": "2023-04-06T18:17:59.986Z"
   },
   {
    "duration": 1974,
    "start_time": "2023-04-06T18:18:01.423Z"
   },
   {
    "duration": 0,
    "start_time": "2023-04-06T18:18:03.398Z"
   },
   {
    "duration": 0,
    "start_time": "2023-04-06T18:18:03.400Z"
   },
   {
    "duration": 0,
    "start_time": "2023-04-06T18:18:03.401Z"
   },
   {
    "duration": 0,
    "start_time": "2023-04-06T18:18:03.402Z"
   },
   {
    "duration": 0,
    "start_time": "2023-04-06T18:18:03.403Z"
   },
   {
    "duration": 0,
    "start_time": "2023-04-06T18:18:03.404Z"
   },
   {
    "duration": 0,
    "start_time": "2023-04-06T18:18:03.405Z"
   },
   {
    "duration": 0,
    "start_time": "2023-04-06T18:18:03.406Z"
   },
   {
    "duration": 0,
    "start_time": "2023-04-06T18:18:03.407Z"
   },
   {
    "duration": 0,
    "start_time": "2023-04-06T18:18:03.408Z"
   },
   {
    "duration": 577,
    "start_time": "2023-04-06T18:23:33.783Z"
   },
   {
    "duration": 211,
    "start_time": "2023-04-06T18:24:24.639Z"
   },
   {
    "duration": 175,
    "start_time": "2023-04-06T18:24:30.234Z"
   },
   {
    "duration": 133,
    "start_time": "2023-04-06T18:24:39.887Z"
   },
   {
    "duration": 162,
    "start_time": "2023-04-06T18:24:43.907Z"
   },
   {
    "duration": 140,
    "start_time": "2023-04-06T18:24:48.296Z"
   },
   {
    "duration": 148,
    "start_time": "2023-04-06T18:24:53.836Z"
   },
   {
    "duration": 150,
    "start_time": "2023-04-06T18:24:58.539Z"
   },
   {
    "duration": 20,
    "start_time": "2023-04-06T18:25:02.653Z"
   },
   {
    "duration": 143,
    "start_time": "2023-04-06T18:25:08.636Z"
   },
   {
    "duration": 3530,
    "start_time": "2023-04-07T07:05:24.529Z"
   },
   {
    "duration": 24,
    "start_time": "2023-04-07T07:05:28.062Z"
   },
   {
    "duration": 16,
    "start_time": "2023-04-07T07:05:28.087Z"
   },
   {
    "duration": 17,
    "start_time": "2023-04-07T07:05:28.106Z"
   },
   {
    "duration": 1490,
    "start_time": "2023-04-07T07:05:28.125Z"
   },
   {
    "duration": 12,
    "start_time": "2023-04-07T07:05:29.618Z"
   },
   {
    "duration": 16,
    "start_time": "2023-04-07T07:05:29.647Z"
   },
   {
    "duration": 29,
    "start_time": "2023-04-07T07:05:29.665Z"
   },
   {
    "duration": 22,
    "start_time": "2023-04-07T07:05:29.697Z"
   },
   {
    "duration": 33,
    "start_time": "2023-04-07T07:05:29.723Z"
   },
   {
    "duration": 21,
    "start_time": "2023-04-07T07:05:29.758Z"
   },
   {
    "duration": 8,
    "start_time": "2023-04-07T07:05:29.781Z"
   },
   {
    "duration": 85,
    "start_time": "2023-04-07T07:05:29.791Z"
   },
   {
    "duration": 7,
    "start_time": "2023-04-07T07:05:29.879Z"
   },
   {
    "duration": 206,
    "start_time": "2023-04-07T07:05:29.889Z"
   },
   {
    "duration": 107,
    "start_time": "2023-04-07T07:05:30.097Z"
   },
   {
    "duration": 404,
    "start_time": "2023-04-07T07:05:30.206Z"
   },
   {
    "duration": 307,
    "start_time": "2023-04-07T07:05:30.612Z"
   },
   {
    "duration": 25,
    "start_time": "2023-04-07T07:05:30.921Z"
   },
   {
    "duration": 38,
    "start_time": "2023-04-07T07:05:30.948Z"
   },
   {
    "duration": 207,
    "start_time": "2023-04-07T07:05:30.987Z"
   },
   {
    "duration": 587,
    "start_time": "2023-04-07T07:05:31.196Z"
   },
   {
    "duration": 280,
    "start_time": "2023-04-07T07:05:31.786Z"
   },
   {
    "duration": 285,
    "start_time": "2023-04-07T07:05:32.068Z"
   },
   {
    "duration": 29,
    "start_time": "2023-04-07T07:05:32.359Z"
   },
   {
    "duration": 15,
    "start_time": "2023-04-07T07:05:32.390Z"
   },
   {
    "duration": 413,
    "start_time": "2023-04-07T07:05:32.407Z"
   },
   {
    "duration": 21,
    "start_time": "2023-04-07T07:05:32.824Z"
   },
   {
    "duration": 341,
    "start_time": "2023-04-07T07:05:32.847Z"
   },
   {
    "duration": 11,
    "start_time": "2023-04-07T07:05:33.190Z"
   },
   {
    "duration": 444,
    "start_time": "2023-04-07T07:05:33.204Z"
   },
   {
    "duration": 1862,
    "start_time": "2023-04-07T07:05:33.655Z"
   },
   {
    "duration": 2785,
    "start_time": "2023-04-07T07:05:35.519Z"
   },
   {
    "duration": 0,
    "start_time": "2023-04-07T07:05:38.306Z"
   },
   {
    "duration": 0,
    "start_time": "2023-04-07T07:05:38.308Z"
   },
   {
    "duration": 0,
    "start_time": "2023-04-07T07:05:38.309Z"
   },
   {
    "duration": 0,
    "start_time": "2023-04-07T07:05:38.310Z"
   },
   {
    "duration": 0,
    "start_time": "2023-04-07T07:05:38.311Z"
   },
   {
    "duration": 0,
    "start_time": "2023-04-07T07:05:38.313Z"
   },
   {
    "duration": 0,
    "start_time": "2023-04-07T07:05:38.315Z"
   },
   {
    "duration": 0,
    "start_time": "2023-04-07T07:05:38.316Z"
   },
   {
    "duration": 0,
    "start_time": "2023-04-07T07:05:38.318Z"
   },
   {
    "duration": 0,
    "start_time": "2023-04-07T07:05:38.342Z"
   },
   {
    "duration": 4102,
    "start_time": "2023-04-07T19:12:24.150Z"
   },
   {
    "duration": 21,
    "start_time": "2023-04-07T19:12:28.254Z"
   },
   {
    "duration": 9,
    "start_time": "2023-04-07T19:12:28.277Z"
   },
   {
    "duration": 35,
    "start_time": "2023-04-07T19:12:28.288Z"
   },
   {
    "duration": 1300,
    "start_time": "2023-04-07T19:12:28.325Z"
   },
   {
    "duration": 10,
    "start_time": "2023-04-07T19:12:29.627Z"
   },
   {
    "duration": 10,
    "start_time": "2023-04-07T19:12:29.639Z"
   },
   {
    "duration": 17,
    "start_time": "2023-04-07T19:12:29.650Z"
   },
   {
    "duration": 15,
    "start_time": "2023-04-07T19:12:29.668Z"
   },
   {
    "duration": 47,
    "start_time": "2023-04-07T19:12:29.686Z"
   },
   {
    "duration": 12,
    "start_time": "2023-04-07T19:12:29.735Z"
   },
   {
    "duration": 6,
    "start_time": "2023-04-07T19:12:29.749Z"
   },
   {
    "duration": 24,
    "start_time": "2023-04-07T19:12:29.756Z"
   },
   {
    "duration": 6,
    "start_time": "2023-04-07T19:12:29.782Z"
   },
   {
    "duration": 175,
    "start_time": "2023-04-07T19:12:29.824Z"
   },
   {
    "duration": 85,
    "start_time": "2023-04-07T19:12:30.001Z"
   },
   {
    "duration": 394,
    "start_time": "2023-04-07T19:12:30.087Z"
   },
   {
    "duration": 312,
    "start_time": "2023-04-07T19:12:30.484Z"
   },
   {
    "duration": 26,
    "start_time": "2023-04-07T19:12:30.798Z"
   },
   {
    "duration": 43,
    "start_time": "2023-04-07T19:12:30.826Z"
   },
   {
    "duration": 156,
    "start_time": "2023-04-07T19:12:30.871Z"
   },
   {
    "duration": 400,
    "start_time": "2023-04-07T19:12:31.029Z"
   },
   {
    "duration": 225,
    "start_time": "2023-04-07T19:12:31.431Z"
   },
   {
    "duration": 266,
    "start_time": "2023-04-07T19:12:31.658Z"
   },
   {
    "duration": 29,
    "start_time": "2023-04-07T19:12:31.926Z"
   },
   {
    "duration": 5,
    "start_time": "2023-04-07T19:12:31.957Z"
   },
   {
    "duration": 288,
    "start_time": "2023-04-07T19:12:31.964Z"
   },
   {
    "duration": 13,
    "start_time": "2023-04-07T19:12:32.256Z"
   },
   {
    "duration": 307,
    "start_time": "2023-04-07T19:12:32.271Z"
   },
   {
    "duration": 12,
    "start_time": "2023-04-07T19:12:32.580Z"
   },
   {
    "duration": 362,
    "start_time": "2023-04-07T19:12:32.593Z"
   },
   {
    "duration": 1579,
    "start_time": "2023-04-07T19:12:32.957Z"
   },
   {
    "duration": 1134,
    "start_time": "2023-04-07T19:12:34.539Z"
   },
   {
    "duration": 719,
    "start_time": "2023-04-07T19:12:35.675Z"
   },
   {
    "duration": 207,
    "start_time": "2023-04-07T19:12:36.396Z"
   },
   {
    "duration": 184,
    "start_time": "2023-04-07T19:12:36.605Z"
   },
   {
    "duration": 172,
    "start_time": "2023-04-07T19:12:36.791Z"
   },
   {
    "duration": 181,
    "start_time": "2023-04-07T19:12:36.965Z"
   },
   {
    "duration": 160,
    "start_time": "2023-04-07T19:12:37.148Z"
   },
   {
    "duration": 178,
    "start_time": "2023-04-07T19:12:37.310Z"
   },
   {
    "duration": 186,
    "start_time": "2023-04-07T19:12:37.490Z"
   },
   {
    "duration": 23,
    "start_time": "2023-04-07T19:12:37.678Z"
   },
   {
    "duration": 198,
    "start_time": "2023-04-07T19:12:37.703Z"
   },
   {
    "duration": 17,
    "start_time": "2023-04-07T19:17:53.208Z"
   },
   {
    "duration": 96,
    "start_time": "2023-04-07T19:17:56.416Z"
   }
  ],
  "kernelspec": {
   "display_name": "Python 3 (ipykernel)",
   "language": "python",
   "name": "python3"
  },
  "language_info": {
   "codemirror_mode": {
    "name": "ipython",
    "version": 3
   },
   "file_extension": ".py",
   "mimetype": "text/x-python",
   "name": "python",
   "nbconvert_exporter": "python",
   "pygments_lexer": "ipython3",
   "version": "3.9.5"
  },
  "toc": {
   "base_numbering": 1,
   "nav_menu": {},
   "number_sections": true,
   "sideBar": true,
   "skip_h1_title": true,
   "title_cell": "Table of Contents",
   "title_sidebar": "Contents",
   "toc_cell": false,
   "toc_position": {},
   "toc_section_display": true,
   "toc_window_display": false
  }
 },
 "nbformat": 4,
 "nbformat_minor": 2
}

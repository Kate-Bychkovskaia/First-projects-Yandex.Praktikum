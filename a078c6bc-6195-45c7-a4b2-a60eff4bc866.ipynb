{
 "cells": [
  {
   "cell_type": "markdown",
   "id": "4f11de00",
   "metadata": {
    "deletable": false,
    "editable": false,
    "id": "4f11de00"
   },
   "source": [
    "# Предобработка данных. Часть 2. \n",
    "Цель исследования-определить какие факторы влияют на возврат кредита в срок (доход,семейное положение, наличие детей, цель кредита)\n",
    "    \n",
    "Для этого будет проведено исследование в несколько этапов:\n",
    "    \n",
    "1. Предобработка данных (поиск и удаление пропусков, обработка аномальных значений,обработка дубликатов)\n",
    "2. Подготовка групп данных по семейному положению, доходу, цели, наличию детей для сравнительного анализа. Категоризация данных (целей кредита и дохода), разобъем на несколько сегментов эти факторы\n",
    "3. Анализ данных (расчет по каждой категории средний % возвратов кредита в срок)\n",
    "4. Вывод\n"
   ]
  },
  {
   "cell_type": "markdown",
   "id": "26613308",
   "metadata": {
    "deletable": false,
    "editable": false,
    "id": "26613308"
   },
   "source": [
    "## Откройте таблицу и изучите общую информацию о данных"
   ]
  },
  {
   "cell_type": "markdown",
   "id": "3c9f838e",
   "metadata": {
    "deletable": false,
    "editable": false,
    "id": "3c9f838e"
   },
   "source": [
    "**Задание 1. Импортируйте библиотеку pandas. Считайте данные из csv-файла в датафрейм и сохраните в переменную `data`. Путь к файлу:**\n",
    "\n",
    "`/datasets/data.csv`"
   ]
  },
  {
   "cell_type": "code",
   "execution_count": 1,
   "id": "77a68a90",
   "metadata": {
    "deletable": false,
    "id": "77a68a90"
   },
   "outputs": [],
   "source": [
    "import pandas as pd\n",
    "\n",
    "try:\n",
    "    data = pd.read_csv('/datasets/data.csv')\n",
    "except:\n",
    "    data = pd.read_csv('https://code.s3.yandex.net/datasets/data.csv')"
   ]
  },
  {
   "cell_type": "markdown",
   "id": "45365635",
   "metadata": {
    "deletable": false,
    "editable": false,
    "id": "45365635"
   },
   "source": [
    "**Задание 2. Выведите первые 20 строчек датафрейма `data` на экран.**"
   ]
  },
  {
   "cell_type": "code",
   "execution_count": 2,
   "id": "b0451a9a",
   "metadata": {
    "deletable": false,
    "id": "b0451a9a",
    "outputId": "1a8f3ef2-d323-4ec2-ddf7-89670b5944c4"
   },
   "outputs": [
    {
     "data": {
      "text/html": [
       "<div>\n",
       "<style scoped>\n",
       "    .dataframe tbody tr th:only-of-type {\n",
       "        vertical-align: middle;\n",
       "    }\n",
       "\n",
       "    .dataframe tbody tr th {\n",
       "        vertical-align: top;\n",
       "    }\n",
       "\n",
       "    .dataframe thead th {\n",
       "        text-align: right;\n",
       "    }\n",
       "</style>\n",
       "<table border=\"1\" class=\"dataframe\">\n",
       "  <thead>\n",
       "    <tr style=\"text-align: right;\">\n",
       "      <th></th>\n",
       "      <th>children</th>\n",
       "      <th>days_employed</th>\n",
       "      <th>dob_years</th>\n",
       "      <th>education</th>\n",
       "      <th>education_id</th>\n",
       "      <th>family_status</th>\n",
       "      <th>family_status_id</th>\n",
       "      <th>gender</th>\n",
       "      <th>income_type</th>\n",
       "      <th>debt</th>\n",
       "      <th>total_income</th>\n",
       "      <th>purpose</th>\n",
       "    </tr>\n",
       "  </thead>\n",
       "  <tbody>\n",
       "    <tr>\n",
       "      <th>0</th>\n",
       "      <td>1</td>\n",
       "      <td>-8437.673028</td>\n",
       "      <td>42</td>\n",
       "      <td>высшее</td>\n",
       "      <td>0</td>\n",
       "      <td>женат / замужем</td>\n",
       "      <td>0</td>\n",
       "      <td>F</td>\n",
       "      <td>сотрудник</td>\n",
       "      <td>0</td>\n",
       "      <td>253875.639453</td>\n",
       "      <td>покупка жилья</td>\n",
       "    </tr>\n",
       "    <tr>\n",
       "      <th>1</th>\n",
       "      <td>1</td>\n",
       "      <td>-4024.803754</td>\n",
       "      <td>36</td>\n",
       "      <td>среднее</td>\n",
       "      <td>1</td>\n",
       "      <td>женат / замужем</td>\n",
       "      <td>0</td>\n",
       "      <td>F</td>\n",
       "      <td>сотрудник</td>\n",
       "      <td>0</td>\n",
       "      <td>112080.014102</td>\n",
       "      <td>приобретение автомобиля</td>\n",
       "    </tr>\n",
       "    <tr>\n",
       "      <th>2</th>\n",
       "      <td>0</td>\n",
       "      <td>-5623.422610</td>\n",
       "      <td>33</td>\n",
       "      <td>Среднее</td>\n",
       "      <td>1</td>\n",
       "      <td>женат / замужем</td>\n",
       "      <td>0</td>\n",
       "      <td>M</td>\n",
       "      <td>сотрудник</td>\n",
       "      <td>0</td>\n",
       "      <td>145885.952297</td>\n",
       "      <td>покупка жилья</td>\n",
       "    </tr>\n",
       "    <tr>\n",
       "      <th>3</th>\n",
       "      <td>3</td>\n",
       "      <td>-4124.747207</td>\n",
       "      <td>32</td>\n",
       "      <td>среднее</td>\n",
       "      <td>1</td>\n",
       "      <td>женат / замужем</td>\n",
       "      <td>0</td>\n",
       "      <td>M</td>\n",
       "      <td>сотрудник</td>\n",
       "      <td>0</td>\n",
       "      <td>267628.550329</td>\n",
       "      <td>дополнительное образование</td>\n",
       "    </tr>\n",
       "    <tr>\n",
       "      <th>4</th>\n",
       "      <td>0</td>\n",
       "      <td>340266.072047</td>\n",
       "      <td>53</td>\n",
       "      <td>среднее</td>\n",
       "      <td>1</td>\n",
       "      <td>гражданский брак</td>\n",
       "      <td>1</td>\n",
       "      <td>F</td>\n",
       "      <td>пенсионер</td>\n",
       "      <td>0</td>\n",
       "      <td>158616.077870</td>\n",
       "      <td>сыграть свадьбу</td>\n",
       "    </tr>\n",
       "    <tr>\n",
       "      <th>5</th>\n",
       "      <td>0</td>\n",
       "      <td>-926.185831</td>\n",
       "      <td>27</td>\n",
       "      <td>высшее</td>\n",
       "      <td>0</td>\n",
       "      <td>гражданский брак</td>\n",
       "      <td>1</td>\n",
       "      <td>M</td>\n",
       "      <td>компаньон</td>\n",
       "      <td>0</td>\n",
       "      <td>255763.565419</td>\n",
       "      <td>покупка жилья</td>\n",
       "    </tr>\n",
       "    <tr>\n",
       "      <th>6</th>\n",
       "      <td>0</td>\n",
       "      <td>-2879.202052</td>\n",
       "      <td>43</td>\n",
       "      <td>высшее</td>\n",
       "      <td>0</td>\n",
       "      <td>женат / замужем</td>\n",
       "      <td>0</td>\n",
       "      <td>F</td>\n",
       "      <td>компаньон</td>\n",
       "      <td>0</td>\n",
       "      <td>240525.971920</td>\n",
       "      <td>операции с жильем</td>\n",
       "    </tr>\n",
       "    <tr>\n",
       "      <th>7</th>\n",
       "      <td>0</td>\n",
       "      <td>-152.779569</td>\n",
       "      <td>50</td>\n",
       "      <td>СРЕДНЕЕ</td>\n",
       "      <td>1</td>\n",
       "      <td>женат / замужем</td>\n",
       "      <td>0</td>\n",
       "      <td>M</td>\n",
       "      <td>сотрудник</td>\n",
       "      <td>0</td>\n",
       "      <td>135823.934197</td>\n",
       "      <td>образование</td>\n",
       "    </tr>\n",
       "    <tr>\n",
       "      <th>8</th>\n",
       "      <td>2</td>\n",
       "      <td>-6929.865299</td>\n",
       "      <td>35</td>\n",
       "      <td>ВЫСШЕЕ</td>\n",
       "      <td>0</td>\n",
       "      <td>гражданский брак</td>\n",
       "      <td>1</td>\n",
       "      <td>F</td>\n",
       "      <td>сотрудник</td>\n",
       "      <td>0</td>\n",
       "      <td>95856.832424</td>\n",
       "      <td>на проведение свадьбы</td>\n",
       "    </tr>\n",
       "    <tr>\n",
       "      <th>9</th>\n",
       "      <td>0</td>\n",
       "      <td>-2188.756445</td>\n",
       "      <td>41</td>\n",
       "      <td>среднее</td>\n",
       "      <td>1</td>\n",
       "      <td>женат / замужем</td>\n",
       "      <td>0</td>\n",
       "      <td>M</td>\n",
       "      <td>сотрудник</td>\n",
       "      <td>0</td>\n",
       "      <td>144425.938277</td>\n",
       "      <td>покупка жилья для семьи</td>\n",
       "    </tr>\n",
       "    <tr>\n",
       "      <th>10</th>\n",
       "      <td>2</td>\n",
       "      <td>-4171.483647</td>\n",
       "      <td>36</td>\n",
       "      <td>высшее</td>\n",
       "      <td>0</td>\n",
       "      <td>женат / замужем</td>\n",
       "      <td>0</td>\n",
       "      <td>M</td>\n",
       "      <td>компаньон</td>\n",
       "      <td>0</td>\n",
       "      <td>113943.491460</td>\n",
       "      <td>покупка недвижимости</td>\n",
       "    </tr>\n",
       "    <tr>\n",
       "      <th>11</th>\n",
       "      <td>0</td>\n",
       "      <td>-792.701887</td>\n",
       "      <td>40</td>\n",
       "      <td>среднее</td>\n",
       "      <td>1</td>\n",
       "      <td>женат / замужем</td>\n",
       "      <td>0</td>\n",
       "      <td>F</td>\n",
       "      <td>сотрудник</td>\n",
       "      <td>0</td>\n",
       "      <td>77069.234271</td>\n",
       "      <td>покупка коммерческой недвижимости</td>\n",
       "    </tr>\n",
       "    <tr>\n",
       "      <th>12</th>\n",
       "      <td>0</td>\n",
       "      <td>NaN</td>\n",
       "      <td>65</td>\n",
       "      <td>среднее</td>\n",
       "      <td>1</td>\n",
       "      <td>гражданский брак</td>\n",
       "      <td>1</td>\n",
       "      <td>M</td>\n",
       "      <td>пенсионер</td>\n",
       "      <td>0</td>\n",
       "      <td>NaN</td>\n",
       "      <td>сыграть свадьбу</td>\n",
       "    </tr>\n",
       "    <tr>\n",
       "      <th>13</th>\n",
       "      <td>0</td>\n",
       "      <td>-1846.641941</td>\n",
       "      <td>54</td>\n",
       "      <td>неоконченное высшее</td>\n",
       "      <td>2</td>\n",
       "      <td>женат / замужем</td>\n",
       "      <td>0</td>\n",
       "      <td>F</td>\n",
       "      <td>сотрудник</td>\n",
       "      <td>0</td>\n",
       "      <td>130458.228857</td>\n",
       "      <td>приобретение автомобиля</td>\n",
       "    </tr>\n",
       "    <tr>\n",
       "      <th>14</th>\n",
       "      <td>0</td>\n",
       "      <td>-1844.956182</td>\n",
       "      <td>56</td>\n",
       "      <td>высшее</td>\n",
       "      <td>0</td>\n",
       "      <td>гражданский брак</td>\n",
       "      <td>1</td>\n",
       "      <td>F</td>\n",
       "      <td>компаньон</td>\n",
       "      <td>1</td>\n",
       "      <td>165127.911772</td>\n",
       "      <td>покупка жилой недвижимости</td>\n",
       "    </tr>\n",
       "    <tr>\n",
       "      <th>15</th>\n",
       "      <td>1</td>\n",
       "      <td>-972.364419</td>\n",
       "      <td>26</td>\n",
       "      <td>среднее</td>\n",
       "      <td>1</td>\n",
       "      <td>женат / замужем</td>\n",
       "      <td>0</td>\n",
       "      <td>F</td>\n",
       "      <td>сотрудник</td>\n",
       "      <td>0</td>\n",
       "      <td>116820.904450</td>\n",
       "      <td>строительство собственной недвижимости</td>\n",
       "    </tr>\n",
       "    <tr>\n",
       "      <th>16</th>\n",
       "      <td>0</td>\n",
       "      <td>-1719.934226</td>\n",
       "      <td>35</td>\n",
       "      <td>среднее</td>\n",
       "      <td>1</td>\n",
       "      <td>женат / замужем</td>\n",
       "      <td>0</td>\n",
       "      <td>F</td>\n",
       "      <td>сотрудник</td>\n",
       "      <td>0</td>\n",
       "      <td>289202.704229</td>\n",
       "      <td>недвижимость</td>\n",
       "    </tr>\n",
       "    <tr>\n",
       "      <th>17</th>\n",
       "      <td>0</td>\n",
       "      <td>-2369.999720</td>\n",
       "      <td>33</td>\n",
       "      <td>высшее</td>\n",
       "      <td>0</td>\n",
       "      <td>гражданский брак</td>\n",
       "      <td>1</td>\n",
       "      <td>M</td>\n",
       "      <td>сотрудник</td>\n",
       "      <td>0</td>\n",
       "      <td>90410.586745</td>\n",
       "      <td>строительство недвижимости</td>\n",
       "    </tr>\n",
       "    <tr>\n",
       "      <th>18</th>\n",
       "      <td>0</td>\n",
       "      <td>400281.136913</td>\n",
       "      <td>53</td>\n",
       "      <td>среднее</td>\n",
       "      <td>1</td>\n",
       "      <td>вдовец / вдова</td>\n",
       "      <td>2</td>\n",
       "      <td>F</td>\n",
       "      <td>пенсионер</td>\n",
       "      <td>0</td>\n",
       "      <td>56823.777243</td>\n",
       "      <td>на покупку подержанного автомобиля</td>\n",
       "    </tr>\n",
       "    <tr>\n",
       "      <th>19</th>\n",
       "      <td>0</td>\n",
       "      <td>-10038.818549</td>\n",
       "      <td>48</td>\n",
       "      <td>СРЕДНЕЕ</td>\n",
       "      <td>1</td>\n",
       "      <td>в разводе</td>\n",
       "      <td>3</td>\n",
       "      <td>F</td>\n",
       "      <td>сотрудник</td>\n",
       "      <td>0</td>\n",
       "      <td>242831.107982</td>\n",
       "      <td>на покупку своего автомобиля</td>\n",
       "    </tr>\n",
       "  </tbody>\n",
       "</table>\n",
       "</div>"
      ],
      "text/plain": [
       "    children  days_employed  dob_years            education  education_id  \\\n",
       "0          1   -8437.673028         42               высшее             0   \n",
       "1          1   -4024.803754         36              среднее             1   \n",
       "2          0   -5623.422610         33              Среднее             1   \n",
       "3          3   -4124.747207         32              среднее             1   \n",
       "4          0  340266.072047         53              среднее             1   \n",
       "5          0    -926.185831         27               высшее             0   \n",
       "6          0   -2879.202052         43               высшее             0   \n",
       "7          0    -152.779569         50              СРЕДНЕЕ             1   \n",
       "8          2   -6929.865299         35               ВЫСШЕЕ             0   \n",
       "9          0   -2188.756445         41              среднее             1   \n",
       "10         2   -4171.483647         36               высшее             0   \n",
       "11         0    -792.701887         40              среднее             1   \n",
       "12         0            NaN         65              среднее             1   \n",
       "13         0   -1846.641941         54  неоконченное высшее             2   \n",
       "14         0   -1844.956182         56               высшее             0   \n",
       "15         1    -972.364419         26              среднее             1   \n",
       "16         0   -1719.934226         35              среднее             1   \n",
       "17         0   -2369.999720         33               высшее             0   \n",
       "18         0  400281.136913         53              среднее             1   \n",
       "19         0  -10038.818549         48              СРЕДНЕЕ             1   \n",
       "\n",
       "       family_status  family_status_id gender income_type  debt  \\\n",
       "0    женат / замужем                 0      F   сотрудник     0   \n",
       "1    женат / замужем                 0      F   сотрудник     0   \n",
       "2    женат / замужем                 0      M   сотрудник     0   \n",
       "3    женат / замужем                 0      M   сотрудник     0   \n",
       "4   гражданский брак                 1      F   пенсионер     0   \n",
       "5   гражданский брак                 1      M   компаньон     0   \n",
       "6    женат / замужем                 0      F   компаньон     0   \n",
       "7    женат / замужем                 0      M   сотрудник     0   \n",
       "8   гражданский брак                 1      F   сотрудник     0   \n",
       "9    женат / замужем                 0      M   сотрудник     0   \n",
       "10   женат / замужем                 0      M   компаньон     0   \n",
       "11   женат / замужем                 0      F   сотрудник     0   \n",
       "12  гражданский брак                 1      M   пенсионер     0   \n",
       "13   женат / замужем                 0      F   сотрудник     0   \n",
       "14  гражданский брак                 1      F   компаньон     1   \n",
       "15   женат / замужем                 0      F   сотрудник     0   \n",
       "16   женат / замужем                 0      F   сотрудник     0   \n",
       "17  гражданский брак                 1      M   сотрудник     0   \n",
       "18    вдовец / вдова                 2      F   пенсионер     0   \n",
       "19         в разводе                 3      F   сотрудник     0   \n",
       "\n",
       "     total_income                                 purpose  \n",
       "0   253875.639453                           покупка жилья  \n",
       "1   112080.014102                 приобретение автомобиля  \n",
       "2   145885.952297                           покупка жилья  \n",
       "3   267628.550329              дополнительное образование  \n",
       "4   158616.077870                         сыграть свадьбу  \n",
       "5   255763.565419                           покупка жилья  \n",
       "6   240525.971920                       операции с жильем  \n",
       "7   135823.934197                             образование  \n",
       "8    95856.832424                   на проведение свадьбы  \n",
       "9   144425.938277                 покупка жилья для семьи  \n",
       "10  113943.491460                    покупка недвижимости  \n",
       "11   77069.234271       покупка коммерческой недвижимости  \n",
       "12            NaN                         сыграть свадьбу  \n",
       "13  130458.228857                 приобретение автомобиля  \n",
       "14  165127.911772              покупка жилой недвижимости  \n",
       "15  116820.904450  строительство собственной недвижимости  \n",
       "16  289202.704229                            недвижимость  \n",
       "17   90410.586745              строительство недвижимости  \n",
       "18   56823.777243      на покупку подержанного автомобиля  \n",
       "19  242831.107982            на покупку своего автомобиля  "
      ]
     },
     "execution_count": 2,
     "metadata": {},
     "output_type": "execute_result"
    }
   ],
   "source": [
    "data.head(20)"
   ]
  },
  {
   "cell_type": "markdown",
   "id": "0ed8f27f",
   "metadata": {
    "deletable": false,
    "editable": false,
    "id": "0ed8f27f"
   },
   "source": [
    "**Задание 3. Выведите основную информацию о датафрейме с помощью метода `info()`.**"
   ]
  },
  {
   "cell_type": "code",
   "execution_count": 3,
   "id": "e634603f",
   "metadata": {
    "deletable": false,
    "id": "ab3f863b",
    "outputId": "15376089-8dad-46c9-b520-c05248d43158"
   },
   "outputs": [
    {
     "name": "stdout",
     "output_type": "stream",
     "text": [
      "<class 'pandas.core.frame.DataFrame'>\n",
      "RangeIndex: 21525 entries, 0 to 21524\n",
      "Data columns (total 12 columns):\n",
      " #   Column            Non-Null Count  Dtype  \n",
      "---  ------            --------------  -----  \n",
      " 0   children          21525 non-null  int64  \n",
      " 1   days_employed     19351 non-null  float64\n",
      " 2   dob_years         21525 non-null  int64  \n",
      " 3   education         21525 non-null  object \n",
      " 4   education_id      21525 non-null  int64  \n",
      " 5   family_status     21525 non-null  object \n",
      " 6   family_status_id  21525 non-null  int64  \n",
      " 7   gender            21525 non-null  object \n",
      " 8   income_type       21525 non-null  object \n",
      " 9   debt              21525 non-null  int64  \n",
      " 10  total_income      19351 non-null  float64\n",
      " 11  purpose           21525 non-null  object \n",
      "dtypes: float64(2), int64(5), object(5)\n",
      "memory usage: 2.0+ MB\n"
     ]
    }
   ],
   "source": [
    "data.info()"
   ]
  },
   {
   "cell_type": "markdown",
   "id": "60e3e22d",
   "metadata": {
    "deletable": false,
    "editable": false,
    "id": "60e3e22d"
   },
   "source": [
    " **В данных встречаются отрицательные значения в столбце с \"трудовым стажем\", в столбце \"образование\" указаны данные, записанные разными регистрами, в столбце \"цель кредита\" цели записаны разными формулировками, доход - вещественный тип данных, который требует перевод в целочисленный, есть пропущенные значения Nan. Поэтому следующим этапом буде предобработка этих данных.\n**"
   ]
  },
  {
   "cell_type": "markdown",
   "id": "60e3e22d",
   "metadata": {
    "deletable": false,
    "editable": false,
    "id": "60e3e22d"
   },
   "source": [
    "## Предобработка данных"
   ]
  },
  {
   "cell_type": "markdown",
   "id": "03dc170c",
   "metadata": {
    "deletable": false,
    "editable": false,
    "id": "03dc170c"
   },
   "source": [
    "### Удаление пропусков"
   ]
  },
  {
   "cell_type": "markdown",
   "id": "a4f54eef",
   "metadata": {
    "deletable": false,
    "editable": false,
    "id": "a4f54eef"
   },
   "source": [
    "**Задание 4. Выведите количество пропущенных значений для каждого столбца. Используйте комбинацию двух методов.**"
   ]
  },
  {
   "cell_type": "code",
   "execution_count": 4,
   "id": "2dc372b2",
   "metadata": {
    "deletable": false,
    "id": "2dc372b2",
    "outputId": "81f4d817-781c-465c-ed15-91ce4446810d"
   },
   "outputs": [
    {
     "data": {
      "text/plain": [
       "children               0\n",
       "days_employed       2174\n",
       "dob_years              0\n",
       "education              0\n",
       "education_id           0\n",
       "family_status          0\n",
       "family_status_id       0\n",
       "gender                 0\n",
       "income_type            0\n",
       "debt                   0\n",
       "total_income        2174\n",
       "purpose                0\n",
       "dtype: int64"
      ]
     },
     "execution_count": 4,
     "metadata": {},
     "output_type": "execute_result"
    }
   ],
   "source": [
    "data.isna().sum()"
   ]
  },
  {
   "cell_type": "markdown",
   "id": "14f011b1",
   "metadata": {
    "deletable": false,
    "editable": false,
    "id": "14f011b1"
   },
   "source": [
    "**Задание 5. В двух столбцах есть пропущенные значения. Один из них — `days_employed`. Пропуски в этом столбце вы обработаете на следующем этапе. Другой столбец с пропущенными значениями — `total_income` — хранит данные о доходах. На сумму дохода сильнее всего влияет тип занятости, поэтому заполнить пропуски в этом столбце нужно медианным значением по каждому типу из столбца `income_type`. Например, у человека с типом занятости `сотрудник` пропуск в столбце `total_income` должен быть заполнен медианным доходом среди всех записей с тем же типом.**"
   ]
  },
  {
   "cell_type": "code",
   "execution_count": 5,
   "id": "bdabfb6e",
   "metadata": {
    "deletable": false,
    "id": "bdabfb6e"
   },
   "outputs": [],
   "source": [
    "for t in data['income_type'].unique():\n",
    "    data.loc[(data['income_type'] == t) & (data['total_income'].isna()), 'total_income'] = \\\n",
    "    data.loc[(data['income_type'] == t), 'total_income'].median()"
   ]
  },
  {
   "cell_type": "markdown",
   "id": "5be34059",
   "metadata": {
    "deletable": false,
    "editable": false,
    "id": "5be34059"
   },
   "source": [
    "### Обработка аномальных значений"
   ]
  },
  {
   "cell_type": "markdown",
   "id": "a87606cb",
   "metadata": {
    "deletable": false,
    "editable": false,
    "id": "a87606cb"
   },
   "source": [
    "**Задание 6. В данных могут встречаться артефакты (аномалии) — значения, которые не отражают действительность и появились по какой-то ошибке. таким артефактом будет отрицательное количество дней трудового стажа в столбце `days_employed`. Для реальных данных это нормально. Обработайте значения в этом столбце: замените все отрицательные значения положительными с помощью метода `abs()`.**"
   ]
  },
  {
   "cell_type": "code",
   "execution_count": 6,
   "id": "020c46cc",
   "metadata": {
    "deletable": false,
    "id": "020c46cc"
   },
   "outputs": [],
   "source": [
    "data['days_employed'] = data['days_employed'].abs()"
   ]
  },
  {
   "cell_type": "markdown",
   "id": "45538a3a",
   "metadata": {
    "deletable": false,
    "editable": false,
    "id": "45538a3a"
   },
   "source": [
    "**Задание 7. Для каждого типа занятости выведите медианное значение трудового стажа `days_employed` в днях.**"
   ]
  },
  {
   "cell_type": "code",
   "execution_count": 7,
   "id": "cd3e6328",
   "metadata": {
    "deletable": false,
    "id": "cd3e6328",
    "outputId": "801ef80e-522b-4668-f34e-565af7432bcf"
   },
   "outputs": [
    {
     "data": {
      "text/plain": [
       "income_type\n",
       "безработный        366413.652744\n",
       "в декрете            3296.759962\n",
       "госслужащий          2689.368353\n",
       "компаньон            1547.382223\n",
       "пенсионер          365213.306266\n",
       "предприниматель       520.848083\n",
       "сотрудник            1574.202821\n",
       "студент               578.751554\n",
       "Name: days_employed, dtype: float64"
      ]
     },
     "execution_count": 7,
     "metadata": {},
     "output_type": "execute_result"
    }
   ],
   "source": [
    "data.groupby('income_type')['days_employed'].agg('median')"
   ]
  },
  {
   "cell_type": "markdown",
   "id": "90c5f058",
   "metadata": {
    "deletable": false,
    "editable": false,
    "id": "90c5f058"
   },
   "source": [
    "У двух типов (безработные и пенсионеры) получатся аномально большие значения. Исправить такие значения сложно, поэтому оставьте их как есть."
   ]
  },
  {
   "cell_type": "markdown",
   "id": "9652e50d",
   "metadata": {
    "deletable": false,
    "editable": false,
    "id": "9652e50d"
   },
   "source": [
    "**Задание 8. Выведите перечень уникальных значений столбца `children`.**"
   ]
  },
  {
   "cell_type": "code",
   "execution_count": 8,
   "id": "dbb37b8e",
   "metadata": {
    "deletable": false,
    "id": "dbb37b8e",
    "outputId": "6975b15c-7f95-4697-d16d-a0c79b657b03"
   },
   "outputs": [
    {
     "data": {
      "text/plain": [
       "array([ 1,  0,  3,  2, -1,  4, 20,  5])"
      ]
     },
     "execution_count": 8,
     "metadata": {},
     "output_type": "execute_result"
    }
   ],
   "source": [
    "data['children'].unique()"
   ]
  },
  {
   "cell_type": "markdown",
   "id": "2b8b0715",
   "metadata": {
    "deletable": false,
    "editable": false,
    "id": "2b8b0715"
   },
   "source": [
    "**Задание 9. В столбце `children` есть два аномальных значения. Удалите строки, в которых встречаются такие аномальные значения из датафрейма `data`.**"
   ]
  },
  {
   "cell_type": "code",
   "execution_count": 9,
   "id": "20009df8",
   "metadata": {
    "deletable": false,
    "id": "20009df8"
   },
   "outputs": [],
   "source": [
    "data = data[(data['children'] != -1) & (data['children'] != 20)]"
   ]
  },
  {
   "cell_type": "markdown",
   "id": "8c6ac9f1",
   "metadata": {
    "deletable": false,
    "editable": false,
    "id": "8c6ac9f1"
   },
   "source": [
    "**Задание 10. Ещё раз выведите перечень уникальных значений столбца `children`, чтобы убедиться, что артефакты удалены.**"
   ]
  },
  {
   "cell_type": "code",
   "execution_count": 10,
   "id": "07337b81",
   "metadata": {
    "deletable": false,
    "id": "07337b81",
    "outputId": "b2097101-d49d-44d9-901b-32a65c9463d1"
   },
   "outputs": [
    {
     "data": {
      "text/plain": [
       "array([1, 0, 3, 2, 4, 5])"
      ]
     },
     "execution_count": 10,
     "metadata": {},
     "output_type": "execute_result"
    }
   ],
   "source": [
    "data['children'].unique()"
   ]
  },
  {
   "cell_type": "markdown",
   "id": "ee3f52d4",
   "metadata": {
    "deletable": false,
    "editable": false,
    "id": "ee3f52d4"
   },
   "source": [
    "### Удаление пропусков (продолжение)"
   ]
  },
  {
   "cell_type": "markdown",
   "id": "a700b0e4",
   "metadata": {
    "deletable": false,
    "editable": false,
    "id": "a700b0e4"
   },
   "source": [
    "**Задание 11. Заполните пропуски в столбце `days_employed` медианными значениями по каждого типа занятости `income_type`.**"
   ]
  },
  {
   "cell_type": "code",
   "execution_count": 11,
   "id": "61946b83",
   "metadata": {
    "deletable": false,
    "id": "61946b83"
   },
   "outputs": [],
   "source": [
    "for t in data['income_type'].unique():\n",
    "    data.loc[(data['income_type'] == t) & (data['days_employed'].isna()), 'days_employed'] = \\\n",
    "    data.loc[(data['income_type'] == t), 'days_employed'].median()"
   ]
  },
  {
   "cell_type": "markdown",
   "id": "550dcd9b",
   "metadata": {
    "deletable": false,
    "editable": false,
    "id": "550dcd9b"
   },
   "source": [
    "**Задание 12. Убедитесь, что все пропуски заполнены. Проверьте себя и ещё раз выведите количество пропущенных значений для каждого столбца с помощью двух методов.**"
   ]
  },
  {
   "cell_type": "code",
   "execution_count": 12,
   "id": "937c7014",
   "metadata": {
    "deletable": false,
    "id": "937c7014",
    "outputId": "8da1e4e1-358e-4e87-98c9-f261bce0a7b2"
   },
   "outputs": [
    {
     "data": {
      "text/plain": [
       "children            0\n",
       "days_employed       0\n",
       "dob_years           0\n",
       "education           0\n",
       "education_id        0\n",
       "family_status       0\n",
       "family_status_id    0\n",
       "gender              0\n",
       "income_type         0\n",
       "debt                0\n",
       "total_income        0\n",
       "purpose             0\n",
       "dtype: int64"
      ]
     },
     "execution_count": 12,
     "metadata": {},
     "output_type": "execute_result"
    }
   ],
   "source": [
    "data.isna().sum()"
   ]
  },
  {
   "cell_type": "markdown",
   "id": "d522e295",
   "metadata": {
    "deletable": false,
    "editable": false,
    "id": "d522e295"
   },
   "source": [
    "### Изменение типов данных"
   ]
  },
  {
   "cell_type": "markdown",
   "id": "c229c581",
   "metadata": {
    "deletable": false,
    "editable": false,
    "id": "c229c581"
   },
   "source": [
    "**Задание 13. Замените вещественный тип данных в столбце `total_income` на целочисленный с помощью метода `astype()`.**"
   ]
  },
  {
   "cell_type": "code",
   "execution_count": 13,
   "id": "31036462",
   "metadata": {
    "deletable": false,
    "id": "31036462"
   },
   "outputs": [],
   "source": [
    "data['total_income'] = data['total_income'].astype(int)"
   ]
  },
  {
   "cell_type": "markdown",
   "id": "b8e3d1d9",
   "metadata": {
    "deletable": false,
    "editable": false,
    "id": "b8e3d1d9"
   },
   "source": [
    "### Обработка дубликатов"
   ]
  },
  {
   "cell_type": "markdown",
   "id": "9be53c49",
   "metadata": {
    "deletable": false,
    "editable": false,
    "id": "9be53c49"
   },
   "source": [
    "**Задание 14. Обработайте неявные дубликаты в столбце `education`. В этом столбце есть одни и те же значения, но записанные по-разному: с использованием заглавных и строчных букв. Приведите их к нижнему регистру.**"
   ]
  },
  {
   "cell_type": "code",
   "execution_count": 14,
   "id": "d89e73e1",
   "metadata": {
    "deletable": false,
    "id": "d89e73e1"
   },
   "outputs": [],
   "source": [
    "data['education'] = data['education'].str.lower()"
   ]
  },
  {
   "cell_type": "markdown",
   "id": "01d4500e",
   "metadata": {
    "deletable": false,
    "editable": false,
    "id": "01d4500e"
   },
   "source": [
    "**Задание 15. Выведите на экран количество строк-дубликатов в данных. Если такие строки присутствуют, удалите их.**"
   ]
  },
  {
   "cell_type": "code",
   "execution_count": 15,
   "id": "e10efb23",
   "metadata": {
    "deletable": false,
    "id": "e10efb23",
    "outputId": "9684deba-1934-42d1-99e1-cda61740f822"
   },
   "outputs": [
    {
     "data": {
      "text/plain": [
       "71"
      ]
     },
     "execution_count": 15,
     "metadata": {},
     "output_type": "execute_result"
    }
   ],
   "source": [
    "data.duplicated().sum()"
   ]
  },
  {
   "cell_type": "code",
   "execution_count": 16,
   "id": "df853f20",
   "metadata": {
    "deletable": false,
    "id": "df853f20"
   },
   "outputs": [],
   "source": [
    "data = data.drop_duplicates()"
   ]
  },
  {
   "cell_type": "markdown",
   "id": "627be38f",
   "metadata": {
    "deletable": false,
    "editable": false,
    "id": "627be38f"
   },
   "source": [
    "### Категоризация данных"
   ]
  },
  {
   "cell_type": "markdown",
   "id": "4684c3e0",
   "metadata": {
    "deletable": false,
    "editable": false,
    "id": "4684c3e0"
   },
   "source": [
    "**Задание 16. На основании диапазонов, указанных ниже, создайте в датафрейме `data` столбец `total_income_category` с категориями:**\n",
    "\n",
    "- 0–30000 — `'E'`;\n",
    "- 30001–50000 — `'D'`;\n",
    "- 50001–200000 — `'C'`;\n",
    "- 200001–1000000 — `'B'`;\n",
    "- 1000001 и выше — `'A'`.\n",
    "\n",
    "\n",
    "**Например, кредитополучателю с доходом 25000 нужно назначить категорию `'E'`, а клиенту, получающему 235000, — `'B'`. Используйте собственную функцию с именем `categorize_income()` и метод `apply()`.**"
   ]
  },
  {
   "cell_type": "code",
   "execution_count": 17,
   "id": "78965238",
   "metadata": {
    "deletable": false,
    "id": "78965238"
   },
   "outputs": [],
   "source": [
    "def categorize_income(income):\n",
    "    try:\n",
    "        if 0 <= income <= 30000:\n",
    "            return 'E'\n",
    "        elif 30001 <= income <= 50000:\n",
    "            return 'D'\n",
    "        elif 50001 <= income <= 200000:\n",
    "            return 'C'\n",
    "        elif 200001 <= income <= 1000000:\n",
    "            return 'B'\n",
    "        elif income >= 1000001:\n",
    "            return 'A'\n",
    "    except:\n",
    "        pass"
   ]
  },
  {
   "cell_type": "code",
   "execution_count": 18,
   "id": "0980ada1",
   "metadata": {
    "deletable": false,
    "id": "0980ada1"
   },
   "outputs": [],
   "source": [
    "data['total_income_category'] = data['total_income'].apply(categorize_income)"
   ]
  },
  {
   "cell_type": "markdown",
   "id": "9917bba0",
   "metadata": {
    "deletable": false,
    "editable": false,
    "id": "9917bba0"
   },
   "source": [
    "**Задание 17. Выведите на экран перечень уникальных целей взятия кредита из столбца `purpose`.**"
   ]
  },
  {
   "cell_type": "code",
   "execution_count": 19,
   "id": "ee07b65e",
   "metadata": {
    "deletable": false,
    "id": "ee07b65e",
    "outputId": "673c12d9-7d7e-4ae0-9812-c622c89dd244"
   },
   "outputs": [
    {
     "data": {
      "text/plain": [
       "array(['покупка жилья', 'приобретение автомобиля',\n",
       "       'дополнительное образование', 'сыграть свадьбу',\n",
       "       'операции с жильем', 'образование', 'на проведение свадьбы',\n",
       "       'покупка жилья для семьи', 'покупка недвижимости',\n",
       "       'покупка коммерческой недвижимости', 'покупка жилой недвижимости',\n",
       "       'строительство собственной недвижимости', 'недвижимость',\n",
       "       'строительство недвижимости', 'на покупку подержанного автомобиля',\n",
       "       'на покупку своего автомобиля',\n",
       "       'операции с коммерческой недвижимостью',\n",
       "       'строительство жилой недвижимости', 'жилье',\n",
       "       'операции со своей недвижимостью', 'автомобили',\n",
       "       'заняться образованием', 'сделка с подержанным автомобилем',\n",
       "       'получение образования', 'автомобиль', 'свадьба',\n",
       "       'получение дополнительного образования', 'покупка своего жилья',\n",
       "       'операции с недвижимостью', 'получение высшего образования',\n",
       "       'свой автомобиль', 'сделка с автомобилем',\n",
       "       'профильное образование', 'высшее образование',\n",
       "       'покупка жилья для сдачи', 'на покупку автомобиля', 'ремонт жилью',\n",
       "       'заняться высшим образованием'], dtype=object)"
      ]
     },
     "execution_count": 19,
     "metadata": {},
     "output_type": "execute_result"
    }
   ],
   "source": [
    "data['purpose'].unique()"
   ]
  },
  {
   "cell_type": "markdown",
   "id": "52b79d56",
   "metadata": {
    "deletable": false,
    "editable": false,
    "id": "52b79d56"
   },
   "source": [
    "**Задание 18. Создайте функцию, которая на основании данных из столбца `purpose` сформирует новый столбец `purpose_category`, в который войдут следующие категории:**\n",
    "\n",
    "- `'операции с автомобилем'`,\n",
    "- `'операции с недвижимостью'`,\n",
    "- `'проведение свадьбы'`,\n",
    "- `'получение образования'`.\n",
    "\n",
    "**Например, если в столбце `purpose` находится подстрока `'на покупку автомобиля'`, то в столбце `purpose_category` должна появиться строка `'операции с автомобилем'`.**\n",
    "\n",
    "**Используйте собственную функцию с именем `categorize_purpose()` и метод `apply()`. Изучите данные в столбце `purpose` и определите, какие подстроки помогут вам правильно определить категорию.**"
   ]
  },
  {
   "cell_type": "code",
   "execution_count": 20,
   "id": "be41da5d",
   "metadata": {
    "deletable": false,
    "id": "be41da5d"
   },
   "outputs": [],
   "source": [
    "def categorize_purpose(row):\n",
    "    try:\n",
    "        if 'автом' in row:\n",
    "            return 'операции с автомобилем'\n",
    "        elif 'жил' in row or 'недвиж' in row:\n",
    "            return 'операции с недвижимостью'\n",
    "        elif 'свад' in row:\n",
    "            return 'проведение свадьбы'\n",
    "        elif 'образов' in row:\n",
    "            return 'получение образования'\n",
    "    except:\n",
    "        return 'нет категории'"
   ]
  },
  {
   "cell_type": "code",
   "execution_count": 21,
   "id": "94c4a19a",
   "metadata": {
    "deletable": false,
    "id": "94c4a19a"
   },
   "outputs": [],
   "source": [
    "data['purpose_category'] = data['purpose'].apply(categorize_purpose)"
   ]
  },
  {
   "cell_type": "markdown",
   "id": "3d596c34",
   "metadata": {
    "deletable": false,
    "editable": false,
    "id": "3d596c34"
   },
   "source": [
    "### Шаг 3. Исследуйте данные и ответьте на вопросы"
   ]
  },
  {
   "cell_type": "markdown",
   "id": "648db036",
   "metadata": {
    "deletable": false,
    "editable": false,
    "id": "648db036"
   },
   "source": [
    "#### 3.1 Есть ли зависимость между количеством детей и возвратом кредита в срок?"
   ]
  },
  {
   "cell_type": "code",
   "execution_count": 22,
   "id": "7fcff25e",
   "metadata": {
    "deletable": false,
    "id": "7fcff25e"
   },
   "outputs": [
    {
     "data": {
      "text/html": [
       "<div>\n",
       "<style scoped>\n",
       "    .dataframe tbody tr th:only-of-type {\n",
       "        vertical-align: middle;\n",
       "    }\n",
       "\n",
       "    .dataframe tbody tr th {\n",
       "        vertical-align: top;\n",
       "    }\n",
       "\n",
       "    .dataframe thead th {\n",
       "        text-align: right;\n",
       "    }\n",
       "</style>\n",
       "<table border=\"1\" class=\"dataframe\">\n",
       "  <thead>\n",
       "    <tr style=\"text-align: right;\">\n",
       "      <th></th>\n",
       "      <th>count_debt</th>\n",
       "      <th>sum_debt</th>\n",
       "      <th>credit_fail</th>\n",
       "    </tr>\n",
       "    <tr>\n",
       "      <th>children</th>\n",
       "      <th></th>\n",
       "      <th></th>\n",
       "      <th></th>\n",
       "    </tr>\n",
       "  </thead>\n",
       "  <tbody>\n",
       "    <tr>\n",
       "      <th>0</th>\n",
       "      <td>14091</td>\n",
       "      <td>1063</td>\n",
       "      <td>7.54%</td>\n",
       "    </tr>\n",
       "    <tr>\n",
       "      <th>1</th>\n",
       "      <td>4808</td>\n",
       "      <td>444</td>\n",
       "      <td>9.23%</td>\n",
       "    </tr>\n",
       "    <tr>\n",
       "      <th>2</th>\n",
       "      <td>2052</td>\n",
       "      <td>194</td>\n",
       "      <td>9.45%</td>\n",
       "    </tr>\n",
       "    <tr>\n",
       "      <th>3</th>\n",
       "      <td>330</td>\n",
       "      <td>27</td>\n",
       "      <td>8.18%</td>\n",
       "    </tr>\n",
       "    <tr>\n",
       "      <th>4</th>\n",
       "      <td>41</td>\n",
       "      <td>4</td>\n",
       "      <td>9.76%</td>\n",
       "    </tr>\n",
       "    <tr>\n",
       "      <th>5</th>\n",
       "      <td>9</td>\n",
       "      <td>0</td>\n",
       "      <td>0.00%</td>\n",
       "    </tr>\n",
       "  </tbody>\n",
       "</table>\n",
       "</div>"
      ],
      "text/plain": [
       "          count_debt  sum_debt credit_fail\n",
       "children                                  \n",
       "0              14091      1063       7.54%\n",
       "1               4808       444       9.23%\n",
       "2               2052       194       9.45%\n",
       "3                330        27       8.18%\n",
       "4                 41         4       9.76%\n",
       "5                  9         0       0.00%"
      ]
     },
     "execution_count": 22,
     "metadata": {},
     "output_type": "execute_result"
    }
   ],
   "source": [
    "#проверим данные по столбцам\n",
    "#print(data.groupby('children')['debt'].count())\n",
    "\n",
    "#в количестве детей встречается отрицательное значение (-1). Перевод значений в положительные:\n",
    "data['children'] = data['children'].abs()\n",
    "\n",
    "#встречается показатель 20 детей, в таблице те у кого 20 детей встречается 0 лет в столбце \"возраст\"\n",
    "#не знаю какая ошибка произошла, замена медианным значением\n",
    "#children_median = медианное значение в столбце 'children'\n",
    "\n",
    "children_median = data.loc[data.loc[:, 'children'] != 20]['children'].median()\n",
    "data['children'] = data['children'].replace(20, children_median)\n",
    "#print(data.groupby('children')['debt'].count())\n",
    "\n",
    "#расчет сколько всего брали кредит по категории 'children'\n",
    "children_total = data.groupby('children')['debt'].count()\n",
    "\n",
    "#создадим датафрейм, где:\n",
    "#count_debt = общее число взятых кредитов\n",
    "#sum_debt = сумма возвратов в срок\n",
    "#credit_fail = % не вернувших кредит в срок\n",
    "debt_children = pd.DataFrame()\n",
    "debt_children['count_debt'] = data.groupby('children')['debt'].count()\n",
    "debt_children['sum_debt'] = data.groupby('children')['debt'].sum()\n",
    "debt_children['credit_fail'] = data.groupby('children')['debt'].mean().apply(lambda x: format(x, '.2%'))\n",
    "\n",
    "debt_children"
   ]
  },
  {
   "cell_type": "code",
   "execution_count": 23,
   "id": "7c9b54c7",
   "metadata": {},
   "outputs": [
    {
     "data": {
      "text/html": [
       "<div>\n",
       "<style scoped>\n",
       "    .dataframe tbody tr th:only-of-type {\n",
       "        vertical-align: middle;\n",
       "    }\n",
       "\n",
       "    .dataframe tbody tr th {\n",
       "        vertical-align: top;\n",
       "    }\n",
       "\n",
       "    .dataframe thead th {\n",
       "        text-align: right;\n",
       "    }\n",
       "</style>\n",
       "<table border=\"1\" class=\"dataframe\">\n",
       "  <thead>\n",
       "    <tr style=\"text-align: right;\">\n",
       "      <th></th>\n",
       "      <th>count</th>\n",
       "      <th>sum</th>\n",
       "      <th>mean</th>\n",
       "    </tr>\n",
       "    <tr>\n",
       "      <th>children</th>\n",
       "      <th></th>\n",
       "      <th></th>\n",
       "      <th></th>\n",
       "    </tr>\n",
       "  </thead>\n",
       "  <tbody>\n",
       "    <tr>\n",
       "      <th>0</th>\n",
       "      <td>14091</td>\n",
       "      <td>1063</td>\n",
       "      <td>0.075438</td>\n",
       "    </tr>\n",
       "    <tr>\n",
       "      <th>1</th>\n",
       "      <td>4808</td>\n",
       "      <td>444</td>\n",
       "      <td>0.092346</td>\n",
       "    </tr>\n",
       "    <tr>\n",
       "      <th>2</th>\n",
       "      <td>2052</td>\n",
       "      <td>194</td>\n",
       "      <td>0.094542</td>\n",
       "    </tr>\n",
       "    <tr>\n",
       "      <th>3</th>\n",
       "      <td>330</td>\n",
       "      <td>27</td>\n",
       "      <td>0.081818</td>\n",
       "    </tr>\n",
       "    <tr>\n",
       "      <th>4</th>\n",
       "      <td>41</td>\n",
       "      <td>4</td>\n",
       "      <td>0.097561</td>\n",
       "    </tr>\n",
       "    <tr>\n",
       "      <th>5</th>\n",
       "      <td>9</td>\n",
       "      <td>0</td>\n",
       "      <td>0.000000</td>\n",
       "    </tr>\n",
       "  </tbody>\n",
       "</table>\n",
       "</div>"
      ],
      "text/plain": [
       "          count   sum      mean\n",
       "children                       \n",
       "0         14091  1063  0.075438\n",
       "1          4808   444  0.092346\n",
       "2          2052   194  0.094542\n",
       "3           330    27  0.081818\n",
       "4            41     4  0.097561\n",
       "5             9     0  0.000000"
      ]
     },
     "execution_count": 23,
     "metadata": {},
     "output_type": "execute_result"
    }
   ],
   "source": [
    "data.groupby('children')['debt'].agg(['count', 'sum', 'mean'])"
   ]
  },
  {
   "cell_type": "markdown",
   "id": "47804f79",
   "metadata": {},
   "source": [
    "<div class=\"alert-info\" style=\"padding: 20px; border-radius: 10px\">\n",
    "<b>Комментарий студента 💎</b>\n",
    "Исправленный код ниже: "
   ]
  },
  {
   "cell_type": "code",
   "execution_count": 24,
   "id": "16f97359",
   "metadata": {},
   "outputs": [
    {
     "name": "stdout",
     "output_type": "stream",
     "text": [
      "          count   sum   mean\n",
      "children                    \n",
      "0         14091  1063  7.54%\n",
      "1          4808   444  9.23%\n",
      "2          2052   194  9.45%\n",
      "3           330    27  8.18%\n",
      "4            41     4  9.76%\n",
      "5             9     0  0.00%\n"
     ]
    }
   ],
   "source": [
    "#проверим данные по столбцам\n",
    "#print(data.groupby('children')['debt'].count())\n",
    "\n",
    "#в количестве детей встречается отрицательное значение (-1). Перевод значений в положительные:\n",
    "data['children'] = data['children'].abs()\n",
    "\n",
    "#встречается показатель 20 детей, в таблице те у кого 20 детей встречается 0 лет в столбце \"возраст\"\n",
    "#не знаю какая ошибка произошла, замена медианным значением\n",
    "#children_median = медианное значение в столбце 'children'\n",
    "children_median = data.loc[data.loc[:, 'children'] != 20]['children'].median()\n",
    "data['children'] = data['children'].replace(20, children_median)\n",
    "#print(data.groupby('children')['debt'].count())\n",
    "\n",
    "#Создадим таблицу, где в 1 колонке (count) число всех обращений,в колонке 2 (sum) число возвращенных кредитов в срок, в 3(mean) процент вовзартов\n",
    "debt_children = pd.DataFrame()\n",
    "debt_children = data.groupby('children')['debt'].agg(['count', 'sum', 'mean'])\n",
    "\n",
    "#перевод значений в %\n",
    "debt_children['mean'] = debt_children['mean'].apply(lambda x: format(x, '.2%'))\n",
    "print(debt_children)"
   ]
  },
  {
   "cell_type": "markdown",
   "id": "2eb9088e",
   "metadata": {
    "deletable": false,
    "id": "2eb9088e"
   },
   "source": [
    "**Вывод:**  Число детей влияет на возврат кредита в срок, но при этом так же стоит учитывать, что общее число выданных кредитов клиентам без детей значительно выше остальных, а значит по этой категории больше данных и выше точность выводов. Для сравнения, клиенты без детей берут кредит чаще, чем клиенты с 1 ребенком на 66%, и на 85% - чем клиенты с 2 детьми. \n",
    "\n",
    "По сравнению с клиентами с детьми, клиенты без детей, чаще возваращают кредит в срок. \n",
    "Реже всех возвращают в срок клиенты с 1-2 детьми. \n",
    "При этом клиенты с 3 детьми возвращают в срок в среднем на 1,2% чаще, чем клиенты с 1-2 ребенком (но при этом общая доля займов у банка среди клиентов с 3 детьми в среднем на 93% ниже, чем семей с 1 ребенком). \n",
    "Реже всех в срок возвращают клиенты с 4 детьми. \n",
    "Данных для анализа процента возврата клиентов с 5 детьми не достаточно для вывода."
   ]
  },
  {
   "cell_type": "markdown",
   "id": "74c9b3a7",
   "metadata": {
    "deletable": false,
    "editable": false,
    "id": "74c9b3a7"
   },
   "source": [
    "#### 3.2 Есть ли зависимость между семейным положением и возвратом кредита в срок?"
   ]
  },
  {
   "cell_type": "code",
   "execution_count": 25,
   "id": "8098ab3b",
   "metadata": {
    "deletable": false,
    "id": "8098ab3b"
   },
   "outputs": [
    {
     "data": {
      "text/html": [
       "<div>\n",
       "<style scoped>\n",
       "    .dataframe tbody tr th:only-of-type {\n",
       "        vertical-align: middle;\n",
       "    }\n",
       "\n",
       "    .dataframe tbody tr th {\n",
       "        vertical-align: top;\n",
       "    }\n",
       "\n",
       "    .dataframe thead th {\n",
       "        text-align: right;\n",
       "    }\n",
       "</style>\n",
       "<table border=\"1\" class=\"dataframe\">\n",
       "  <thead>\n",
       "    <tr style=\"text-align: right;\">\n",
       "      <th></th>\n",
       "      <th>debt</th>\n",
       "      <th>credit_fail</th>\n",
       "    </tr>\n",
       "    <tr>\n",
       "      <th>family_status</th>\n",
       "      <th></th>\n",
       "      <th></th>\n",
       "    </tr>\n",
       "  </thead>\n",
       "  <tbody>\n",
       "    <tr>\n",
       "      <th>женат / замужем</th>\n",
       "      <td>12261</td>\n",
       "      <td>7.56%</td>\n",
       "    </tr>\n",
       "    <tr>\n",
       "      <th>гражданский брак</th>\n",
       "      <td>4134</td>\n",
       "      <td>9.31%</td>\n",
       "    </tr>\n",
       "    <tr>\n",
       "      <th>не женат / не замужем</th>\n",
       "      <td>2796</td>\n",
       "      <td>9.76%</td>\n",
       "    </tr>\n",
       "    <tr>\n",
       "      <th>в разводе</th>\n",
       "      <td>1189</td>\n",
       "      <td>7.06%</td>\n",
       "    </tr>\n",
       "    <tr>\n",
       "      <th>вдовец / вдова</th>\n",
       "      <td>951</td>\n",
       "      <td>6.62%</td>\n",
       "    </tr>\n",
       "  </tbody>\n",
       "</table>\n",
       "</div>"
      ],
      "text/plain": [
       "                        debt credit_fail\n",
       "family_status                           \n",
       "женат / замужем        12261       7.56%\n",
       "гражданский брак        4134       9.31%\n",
       "не женат / не замужем   2796       9.76%\n",
       "в разводе               1189       7.06%\n",
       "вдовец / вдова           951       6.62%"
      ]
     },
     "execution_count": 25,
     "metadata": {},
     "output_type": "execute_result"
    }
   ],
   "source": [
    "#проверим данные по столбцам\n",
    "#print(data.groupby('family_status')['debt'].count().sort_values(ascending = True))\n",
    "\n",
    "#ничего странного в данных не вижу, кроме верхнего регистра в строках \"Не женат / не замужем\", переведем все в нижний\n",
    "data['family_status'] = data['family_status'].str.lower()\n",
    "\n",
    "#создадим таблицу для анализа через pivot_table с сортировкой по статусу и числу взятых кредитов в каждой категории\n",
    "family_debt_pivot = data.pivot_table(index = ['family_status'], values='debt', aggfunc = 'count')\n",
    "\n",
    "#расчитаем процент значения возвратов и добавим новый столбец credit_fail с этими значениями \n",
    "family_debt_pivot['credit_fail'] = data.groupby('family_status')['debt'].sum() / data.groupby('family_status')['debt'].count()\n",
    "family_debt_pivot['credit_fail'] = family_debt_pivot['credit_fail'].apply(lambda x: format(x, '.2%'))\n",
    "\n",
    "family_debt_pivot = family_debt_pivot.sort_values(by=['debt'], ascending=False)\n",
    "\n",
    "family_debt_pivot\n",
    "\n"
   ]
  },
  {
   "cell_type": "markdown",
   "id": "c389ca63",
   "metadata": {
    "deletable": false,
    "id": "c389ca63"
   },
   "source": [
    "**Вывод:** Категория клиентов в статусе \"вдовец / вдова\" чаще всех возвращают кредит в срок (6,62%), на 2м месте по возвратам кредита в срок - категория со статусом \"в разводе\"(7,06%). Реже всех возвращают в срок категория клиентов со статусом \"гражданский брак\", \"не женат/ не замужем\"(9,31% и 9,76% доля просроченных платежей соответсвенно). \n",
    "\n",
    "Но опять же общее число кредитованных в статусе \"женат/замужем\" почти в 3 раза выше, чем следующая по численности категория со статусом \"гражданский брак\"), а значит точность расчета процента возвратов по этой категории выше."
   ]
  },
  {
   "cell_type": "markdown",
   "id": "60ae4a76",
   "metadata": {},
   "source": [
    "<div class=\"alert-info\" style=\"padding: 20px; border-radius: 10px\">\n",
    "<b>Комментарий студента 💎</b>\n",
    "Клиенты которые не состоят в официальном браке (в статусе \"незамужем/неженат\" либо находятся в гражданском браке) самые ненадежные заемщики.\n",
    "Клиенты, которые уже брали на себя ответственность и вступили в официальный брак (и на данный момент овдовели, либо развелись), на 2.8% чаще погащают задолженнось в срок. Клиенты, которые на данный момент в браке ближе к категории ответственных заемщиков, но доля возвратов среди них на 1% ниже чем тех, кто овдовел или развелся."
   ]
  },
  {
   "cell_type": "markdown",
   "id": "9529de68",
   "metadata": {
    "deletable": false,
    "editable": false,
    "id": "9529de68"
   },
   "source": [
    "#### 3.3 Есть ли зависимость между уровнем дохода и возвратом кредита в срок?"
   ]
  },
  {
   "cell_type": "code",
   "execution_count": 26,
   "id": "8787f44a",
   "metadata": {
    "deletable": false,
    "id": "8787f44a"
   },
   "outputs": [
    {
     "data": {
      "text/html": [
       "<div>\n",
       "<style scoped>\n",
       "    .dataframe tbody tr th:only-of-type {\n",
       "        vertical-align: middle;\n",
       "    }\n",
       "\n",
       "    .dataframe tbody tr th {\n",
       "        vertical-align: top;\n",
       "    }\n",
       "\n",
       "    .dataframe thead th {\n",
       "        text-align: right;\n",
       "    }\n",
       "</style>\n",
       "<table border=\"1\" class=\"dataframe\">\n",
       "  <thead>\n",
       "    <tr style=\"text-align: right;\">\n",
       "      <th></th>\n",
       "      <th>debt</th>\n",
       "      <th>credit_fail</th>\n",
       "    </tr>\n",
       "    <tr>\n",
       "      <th>total_income_category</th>\n",
       "      <th></th>\n",
       "      <th></th>\n",
       "    </tr>\n",
       "  </thead>\n",
       "  <tbody>\n",
       "    <tr>\n",
       "      <th>E</th>\n",
       "      <td>22</td>\n",
       "      <td>9.09%</td>\n",
       "    </tr>\n",
       "    <tr>\n",
       "      <th>C</th>\n",
       "      <td>15921</td>\n",
       "      <td>8.50%</td>\n",
       "    </tr>\n",
       "    <tr>\n",
       "      <th>A</th>\n",
       "      <td>25</td>\n",
       "      <td>8.00%</td>\n",
       "    </tr>\n",
       "    <tr>\n",
       "      <th>B</th>\n",
       "      <td>5014</td>\n",
       "      <td>7.06%</td>\n",
       "    </tr>\n",
       "    <tr>\n",
       "      <th>D</th>\n",
       "      <td>349</td>\n",
       "      <td>6.02%</td>\n",
       "    </tr>\n",
       "  </tbody>\n",
       "</table>\n",
       "</div>"
      ],
      "text/plain": [
       "                        debt credit_fail\n",
       "total_income_category                   \n",
       "E                         22       9.09%\n",
       "C                      15921       8.50%\n",
       "A                         25       8.00%\n",
       "B                       5014       7.06%\n",
       "D                        349       6.02%"
      ]
     },
     "execution_count": 26,
     "metadata": {},
     "output_type": "execute_result"
    }
   ],
   "source": [
    "#проверка\n",
    "#print(data.groupby('total_income_category')['debt'].count().sort_values(ascending = False))\n",
    "\n",
    "#ничего странного в данных не вижу, создадим таблицу\n",
    "income_debt_pivot = data.pivot_table(index = ['total_income_category'], values = 'debt', aggfunc = 'count')\n",
    "income_debt_pivot.sort_values(by = 'debt', ascending = False)\n",
    "\n",
    "#расчет процентного значения возвратов и создание нового столбца\n",
    "income_debt_pivot['credit_fail'] = data.groupby('total_income_category')['debt'].sum() / data.groupby('total_income_category')['debt'].count()\n",
    "income_debt_pivot['credit_fail'] = income_debt_pivot['credit_fail'].apply(lambda x: format(x, '.2%'))\n",
    "    \n",
    "income_debt_pivot = income_debt_pivot.sort_values(by=['credit_fail'], ascending=False)\n",
    "income_debt_pivot\n"
   ]
  },
  {
   "cell_type": "markdown",
   "id": "6dd14b57",
   "metadata": {
    "deletable": false,
    "id": "6dd14b57"
   },
   "source": [
    "**Вывод:** Размер дохода влияет на процент вовзрата кредита в срок, но не в прямой пропорциональности. \n",
    "-Реже всех возвращает кредит в срок клиенты с доходом до 30 000 руб. и с доходом от 50 000 до 200 000 руб., но число кредитованных с доходом ниже 30 000 меньше в 723 раза, чем клиентов с доходом от 50 - 200 000, поэтому полностью сделать выводы по этой категории не пока не возможно.\n",
    "-Самые ответсвенные заемщики - это клиенты с доходом до 50 000 руб., на втором месте по надежности - клиенты с доходом от 200 000 до 1 млн.руб"
   ]
  },
  {
   "cell_type": "markdown",
   "id": "852da23c",
   "metadata": {},
   "source": [
    "<div class=\"alert-info\" style=\"padding: 20px; border-radius: 10px\">\n",
    "<b>Комментарий студента 💎</b>\n",
    "Самыми распространенными группами заемщиков являются клиенты с доходом от 50 до 200 000 тысяч и от 200 000 тысяч до 1 млн. Из них более ответсвенными заемщиками являются клиенты с доходом от 200 000 до 1 млн. рублей. Они почти на 2% чаще гасят задолженность в срок.\n",
    "\n",
    "(можно узнать твое личное мнение: в тренажере была задана категория от 50 до 200К, на сколько это правильно для анализа? средняя зп по Москве 111К, может быть и надо было разделить категорию от 50-200К еще на 2 категории: от 50-100К и от 100-200К)? "
   ]
  },
  {
   "cell_type": "markdown",
   "id": "1dcc9b12",
   "metadata": {
    "deletable": false,
    "editable": false,
    "id": "1dcc9b12"
   },
   "source": [
    "#### 3.4 Как разные цели кредита влияют на его возврат в срок?"
   ]
  },
  {
   "cell_type": "code",
   "execution_count": 27,
   "id": "c602bc8b",
   "metadata": {
    "deletable": false,
    "id": "c602bc8b"
   },
   "outputs": [
    {
     "data": {
      "text/html": [
       "<div>\n",
       "<style scoped>\n",
       "    .dataframe tbody tr th:only-of-type {\n",
       "        vertical-align: middle;\n",
       "    }\n",
       "\n",
       "    .dataframe tbody tr th {\n",
       "        vertical-align: top;\n",
       "    }\n",
       "\n",
       "    .dataframe thead th {\n",
       "        text-align: right;\n",
       "    }\n",
       "</style>\n",
       "<table border=\"1\" class=\"dataframe\">\n",
       "  <thead>\n",
       "    <tr style=\"text-align: right;\">\n",
       "      <th></th>\n",
       "      <th>debt</th>\n",
       "      <th>credit_fail</th>\n",
       "    </tr>\n",
       "    <tr>\n",
       "      <th>purpose_category</th>\n",
       "      <th></th>\n",
       "      <th></th>\n",
       "    </tr>\n",
       "  </thead>\n",
       "  <tbody>\n",
       "    <tr>\n",
       "      <th>операции с автомобилем</th>\n",
       "      <td>4279.0</td>\n",
       "      <td>9.35%</td>\n",
       "    </tr>\n",
       "    <tr>\n",
       "      <th>получение образования</th>\n",
       "      <td>3988.0</td>\n",
       "      <td>9.25%</td>\n",
       "    </tr>\n",
       "    <tr>\n",
       "      <th>проведение свадьбы</th>\n",
       "      <td>2313.0</td>\n",
       "      <td>7.91%</td>\n",
       "    </tr>\n",
       "    <tr>\n",
       "      <th>операции с недвижимостью</th>\n",
       "      <td>10751.0</td>\n",
       "      <td>7.26%</td>\n",
       "    </tr>\n",
       "  </tbody>\n",
       "</table>\n",
       "</div>"
      ],
      "text/plain": [
       "                             debt credit_fail\n",
       "purpose_category                             \n",
       "операции с автомобилем     4279.0       9.35%\n",
       "получение образования      3988.0       9.25%\n",
       "проведение свадьбы         2313.0       7.91%\n",
       "операции с недвижимостью  10751.0       7.26%"
      ]
     },
     "execution_count": 27,
     "metadata": {},
     "output_type": "execute_result"
    }
   ],
   "source": [
    "#проверка\n",
    "#print(data.groupby('purpose_category')['debt'].count().sort_values(ascending = False))\n",
    "\n",
    "#ничего странного в данных не вижу, создадим сводную таблицу pivot_table с колонками цель и долю возвратов\n",
    "purpose_debt_pivot = data.pivot_table(index = ['purpose_category'], values = 'debt', aggfunc = ('mean', lambda X:\n",
    "                                                                       X.count()))\n",
    "def percent(x):\n",
    "    return \"{0:.2%}\".format(x)\n",
    "\n",
    "#перевод доли возвратов кредитов в % значения\n",
    "purpose_debt_pivot['mean'] = purpose_debt_pivot['mean'].apply(percent)\n",
    "\n",
    "#переименование столбцов\n",
    "purpose_debt_pivot = purpose_debt_pivot.rename(columns={\"<lambda_0>\": \"debt\", \"mean\": \"credit_fail\"})\n",
    "purpose_debt_pivot.sort_values(by = 'credit_fail', ascending = False)"
   ]
  },
  {
   "cell_type": "markdown",
   "id": "cf05ed63",
   "metadata": {
    "deletable": false,
    "id": "cf05ed63"
   },
   "source": [
    "**Вывод:** На этот раз число данных по категориям не разнится так сильно, поэтому выводы можно делать более точно.\n",
    "Всего 4 категории могут быть разделены на 2 группы по числу своих показателей\n",
    "1. Самый высокая доля возврата кредитов у цели \"операции с недвижимостью\", немногим меньше кредиты с целью \"проведение свадьбы\"\n",
    "2. Самая низкая вероятность возврата кредита в срок у займов с целью \"операции с автомобилем\" и \"получение образования\""
   ]
  },
  {
   "cell_type": "markdown",
   "id": "46c1f10b",
   "metadata": {
    "deletable": false,
    "editable": false,
    "id": "46c1f10b"
   },
   "source": [
    "#### 3.5 Приведите возможные причины появления пропусков в исходных данных."
   ]
  },
  {
   "cell_type": "markdown",
   "id": "3697d2a9",
   "metadata": {
    "deletable": false,
    "id": "3697d2a9"
   },
   "source": [
    "*Ответ:* Причины можно разделить на 2 категории\n",
    "1. Человеческий фактор \n",
    "-в случае если данные заполняются вручную сотрудником оператором или менеджером по продажам, возникают ошибки при вводе, пропуск значений\n",
    "-отказ от ответа на вопрос респондента (например при соц опросе)\n",
    "-с каждой категории собираются разные данные (например, вопросы респондентам отличаются)\n",
    "2. Технические, примеры:\n",
    "-На сайте не все поля отмечены обязательными для ввода данных\n",
    "-Ошибка при выгрузке данных\n",
    "-Фрод\n",
    "-Технические проблемы на сайте или в коде сайта"
   ]
  },
  {
   "cell_type": "markdown",
   "id": "3137d257",
   "metadata": {
    "deletable": false,
    "editable": false,
    "id": "3137d257"
   },
   "source": [
    "#### 3.6 Объясните, почему заполнить пропуски медианным значением — лучшее решение для количественных переменных."
   ]
  },
  {
   "cell_type": "markdown",
   "id": "cf40012a",
   "metadata": {
    "deletable": false,
    "id": "cf40012a"
   },
   "source": [
    "*Ответ:*  если заполнять пропуски средним значением переменной, то оно будет выше, чем реальная цифра. Так можно внести систематическую ошибку в анализ. А без заполнения пропусков анализ не будет полным."
   ]
  },
  {
   "cell_type": "markdown",
   "id": "57bc304e",
   "metadata": {
    "deletable": false,
    "editable": false,
    "id": "57bc304e"
   },
   "source": [
    "### Шаг 4: общий вывод."
   ]
  },
  {
   "cell_type": "markdown",
   "id": "1ab75d1c",
   "metadata": {
    "deletable": false,
    "id": "1ab75d1c"
   },
   "source": [
    "Можно выделить несколько категорий надежности заемщика\n",
    "-Самым надежным клиентом будет заемщик без детей, либо с 3 детьми, статус \"в разводе\" или \"замужем\", доход либо до 50 000, либо больше 1 млн., который возьмет кредит с целью \"проведения свадьбы\" или для \"операций с недвижимостью\"\n",
    "-Самым ненадежным заемщиком станет человек с 1-2, либо 4 детьми, с доходом до 30 000, либо от 50 000 до 200 000 руб, который находится в гражданском браке, либо не женат/не замужем, и который взял кредит с целью покупки автоили получения образования.\n",
    "\n",
    "-Прежде всего первым определяющим фактором будет цель и доход заемщика. Кредиты взятые для свадьбы или покупки недвижимости заемщиками с доходом до 50 000 или больше 1 млн руб. \n",
    "\n",
    "-Второстепенными факторами являются семейное положение и число детей. Заемщики, которые состояли в браке (и сейчас в браке, разведены или овдовели), имеют 0 детей с большей вероятностью вернут кредит в срок. "
   ]
  },
  {
   "cell_type": "markdown",
   "id": "3697d2a9",
   "metadata": {
    "deletable": false,
    "id": "3697d2a9"
   },
   "source": [
    "** Цель анализа: определить какие факторы влияют на возврат кредита в срок.\n **",
    "Для анализа получен файл со статистикой платежеспособности клиентов, где дополнительно были указаны следующие данные по клиенту:\n",
    "    -количество детей в семье\n",
    "    -общий трудовой стаж в днях\n",
    "    -возраст клиента в годах\n",
    "    -уровень образования клиента\n",
    "    -семейное положение\n",
    "    -пол клиента\n",
    "    -тип занятости\n",
    "    -имел ли задолженность по возврату кредитов\n",
    "    -ежемесячный доход\n",
    "    -цель получения кредита\n",
    "\n",
    "1. Этап предобработки данных\n",
    "1.1 В файле обнаружены пропуски, дубликаты, аномальные значения в следующих столбцах:\n",
    "    -трудовой стаж в днях\n",
    "    -ежемесячный доход\n",
    "    -дети\n",
    "    -образование\n",
    "В столбце \"трудовой стаж\" присутсвовало отрицательное количество дней, а так же у категории \"пенсионеры\" и \"безработные\" были аномально большие значения.Отрицательные значения были заменены на положительные, аномальные значения остались без изменений.\n",
    "\n",
    "Пропущенные значения в столбце \"ежемесячный доход\" были заменены медианным значением в соответсвии с типом занятости (например, пропуск в доходе у клиента с типом занятости \"сотрудник\" был заменен на медианное значение ежемесячного дохода сотрудников). Вещественный тип данных был заменен на целочисленный.\n",
    "\n",
    "В столбце \"дети\" встречались клиенты с -1 ребенком и 20 детьми. Отрицательные значения были заменены на положительные, а ячейки с \"20\" детьми были заменены на медианное значеня\n",
    "\n",
    "В столбце \"образование\" одни и те же данные были записаны по-разному: иногда полностью строчными, иногда с заглавными буквами. Были заменены все буквы в значениях на строчные\n",
    "\n",
    "Значения в столбце \"цель получения кредита\" были записаны в свободной форме, например одна категория была записана как \"покупка жилья\"/\"покупка недвижимости\"/\"ремонт жилья\"/\"строительство недвижимости\". Разница в формулировках не позволяля разбить цели по категориям для анализа. В итоге все записи были разбиты на 5 категорий: операции с недвидимостью, покупка автомобиля, проведение свадьбы, получение образования и добавлены в отдельный столбец \"категория цели\"\n",
    "\n",
    "Значения в столбце \"ежемесячный доход\" были разбиты на 5 категорий в соответсвии с размером дохода: \n",
    "0–30 000 — 'E';\n",
    "30 001–50 000 — 'D';\n",
    "50 001–200 000 — 'C';\n",
    "200 001–1 000 000 — 'B';\n",
    "1 000 001 и выше — 'A'\n",
    "\n",
    "1.2 Анализ данных\n",
    "Для выявления зависимости погашения кредита в срок от семейного пложения, дохода, цели кредита и числа детей была проанализирована каждая категория\n",
    "Была просчитана общая сумма всех взятых кредитов по каждой категории, число просроченных платежей, и процент возвратов от общего числа.\n",
    "\n",
    "2. Вывод\n",
    "Можно выделить несколько категорий надежности заемщика \n",
    "-Самым надежным клиентом будет заемщик без детей, статус \"в разводе\" или \"вдова/вдовец\", доход либо до 50 000, либо больше 1 млн., который возьмет кредит с целью \"проведения свадьбы\" или для \"операций с недвижимостью\" \n",
    "-Самым ненадежным заемщиком станет клиент с 1-2, либо 4 детьми, с доходом до 30 000, либо от 50 000 до 200 000 руб, который находится в гражданском браке, либо не женат/не замужем, и который взял кредит с целью покупки авто или для получения образования.\n",
    "\n",
    "-Прежде всего первым определяющим фактором будет цель и доход заемщика. \n",
    "Размер дохода влияет на процент вовзрата кредита в срок, но не в прямой пропорциональности. Самыми распространенными группами заемщиков являются клиенты с доходом от 50 до 200 000 тысяч и от 200 000 тысяч до 1 млн. Из них более ответсвенными заемщиками являются клиенты с доходом от 200 000 до 1 млн. рублей. Они почти на 2% чаще гасят задолженность в срок.\n",
    "Самый высокая доля возврата кредитов с целью \"операции с недвижимостью\", немногим меньше кредиты с целью \"проведение свадьбы\"\n",
    "Самая низкая вероятность возврата кредита в срок у займов с целью \"операции с автомобилем\" и \"получение образования\"\n",
    "\n",
    "-Второстепенными определяющим факторами являются семейное положение и число детей. \n",
    "Клиенты которые не состоят в официальном браке (в статусе \"незамужем/неженат\" либо находятся в гражданском браке) самые ненадежные заемщики. Клиенты, которые уже брали на себя ответственность и вступили в официальный брак (и на данный момент овдовели, либо развелись), на 2.8% чаще погащают задолженнось в срок. Клиенты, которые на данный момент в браке ближе к категории ответственных заемщиков, но доля возвратов среди них на 1% ниже чем тех, кто овдовел или развелся.\n",
    "Клиенты без детей более надежный заемщик, так как они на 1,8% чаще клиентов с детьми гасят задолженность в срок\n",
    "    \n",
    "3. Рекомендации по улучшению сбора данных\n",
    "Технические:\n",
    "-Убрать свободную форму ввода цели кредитования и заменить на автоматический выбор сотрудником категории (\"получение образования\", \"операции с недвижимостью\",\"проведение свадьбы\", \"покупка авто\"\n",
    "-Ввод данных только строчными буквами\n",
    "-Ввести прием данных только при полном заполнении всех полей о клиенте\n",
    "    \n",
    "Общие:\n",
    "-Унифицировать систему ввода данных по трудовому стажу, для пенсионеров выбирать только категорию \"пенсионер\", а не \"безработный\". Указывать не общий стаж работы, а только тот стаж, что клиент имеет на нынешнем месте работы.\n",
    "\n"
   ]
  },
  {
   "cell_type": "code",
   "execution_count": null,
   "id": "31af2f9c",
   "metadata": {},
   "outputs": [],
   "source": []
  }
 ],
 "metadata": {
  "ExecuteTimeLog": [
   {
    "duration": 60,
    "start_time": "2023-03-13T13:58:40.058Z"
   },
   {
    "duration": 10,
    "start_time": "2023-03-13T13:59:05.567Z"
   },
   {
    "duration": 8,
    "start_time": "2023-03-13T13:59:10.867Z"
   },
   {
    "duration": 468,
    "start_time": "2023-03-13T13:59:19.594Z"
   },
   {
    "duration": 19,
    "start_time": "2023-03-13T13:59:31.511Z"
   },
   {
    "duration": 41,
    "start_time": "2023-03-13T13:59:37.698Z"
   },
   {
    "duration": 12,
    "start_time": "2023-03-13T13:59:51.997Z"
   },
   {
    "duration": 24,
    "start_time": "2023-03-13T13:59:55.936Z"
   },
   {
    "duration": 20,
    "start_time": "2023-03-13T14:00:00.283Z"
   },
   {
    "duration": 5,
    "start_time": "2023-03-13T14:00:04.497Z"
   },
   {
    "duration": 13,
    "start_time": "2023-03-13T14:00:06.844Z"
   },
   {
    "duration": 7,
    "start_time": "2023-03-13T14:00:11.636Z"
   },
   {
    "duration": 4,
    "start_time": "2023-03-13T14:00:17.960Z"
   },
   {
    "duration": 10,
    "start_time": "2023-03-13T14:00:19.899Z"
   },
   {
    "duration": 12,
    "start_time": "2023-03-13T14:00:23.710Z"
   },
   {
    "duration": 7,
    "start_time": "2023-03-13T14:04:30.763Z"
   },
   {
    "duration": 9,
    "start_time": "2023-03-13T14:07:48.515Z"
   },
   {
    "duration": 8,
    "start_time": "2023-03-13T14:08:05.587Z"
   },
   {
    "duration": 8,
    "start_time": "2023-03-13T14:17:39.167Z"
   },
   {
    "duration": 6,
    "start_time": "2023-03-13T14:18:13.437Z"
   },
   {
    "duration": 6,
    "start_time": "2023-03-13T14:18:39.102Z"
   },
   {
    "duration": 6,
    "start_time": "2023-03-13T14:19:36.323Z"
   },
   {
    "duration": 7,
    "start_time": "2023-03-13T14:24:36.772Z"
   },
   {
    "duration": 6,
    "start_time": "2023-03-13T14:26:09.879Z"
   },
   {
    "duration": 10,
    "start_time": "2023-03-13T14:42:52.144Z"
   },
   {
    "duration": 6,
    "start_time": "2023-03-13T14:43:07.468Z"
   },
   {
    "duration": 7,
    "start_time": "2023-03-13T14:46:29.318Z"
   },
   {
    "duration": 9,
    "start_time": "2023-03-13T14:46:37.465Z"
   },
   {
    "duration": 20,
    "start_time": "2023-03-13T14:53:46.119Z"
   },
   {
    "duration": 16,
    "start_time": "2023-03-13T14:54:04.450Z"
   },
   {
    "duration": 8,
    "start_time": "2023-03-13T14:54:18.020Z"
   },
   {
    "duration": 45,
    "start_time": "2023-03-13T15:00:41.761Z"
   },
   {
    "duration": 42,
    "start_time": "2023-03-13T15:00:48.975Z"
   },
   {
    "duration": 8,
    "start_time": "2023-03-13T15:01:20.773Z"
   },
   {
    "duration": 9,
    "start_time": "2023-03-13T15:01:42.356Z"
   },
   {
    "duration": 11,
    "start_time": "2023-03-13T15:20:48.148Z"
   },
   {
    "duration": 6,
    "start_time": "2023-03-13T15:21:04.900Z"
   },
   {
    "duration": 10,
    "start_time": "2023-03-13T15:21:16.408Z"
   },
   {
    "duration": 13,
    "start_time": "2023-03-13T16:42:46.434Z"
   },
   {
    "duration": 14,
    "start_time": "2023-03-13T16:42:58.850Z"
   },
   {
    "duration": 9,
    "start_time": "2023-03-13T16:48:04.336Z"
   },
   {
    "duration": 15,
    "start_time": "2023-03-13T16:57:51.347Z"
   },
   {
    "duration": 8,
    "start_time": "2023-03-13T16:58:40.105Z"
   },
   {
    "duration": 12,
    "start_time": "2023-03-13T17:00:52.228Z"
   },
   {
    "duration": 35,
    "start_time": "2023-03-13T17:07:52.810Z"
   },
   {
    "duration": 27,
    "start_time": "2023-03-13T17:08:14.704Z"
   },
   {
    "duration": 26,
    "start_time": "2023-03-13T17:08:23.039Z"
   },
   {
    "duration": 37,
    "start_time": "2023-03-13T17:09:28.662Z"
   },
   {
    "duration": 23,
    "start_time": "2023-03-13T17:11:58.857Z"
   },
   {
    "duration": 17,
    "start_time": "2023-03-13T17:12:29.924Z"
   },
   {
    "duration": 34,
    "start_time": "2023-03-13T17:13:31.447Z"
   },
   {
    "duration": 35,
    "start_time": "2023-03-13T17:13:50.066Z"
   },
   {
    "duration": 31,
    "start_time": "2023-03-13T17:14:08.366Z"
   },
   {
    "duration": 10,
    "start_time": "2023-03-13T17:15:39.897Z"
   },
   {
    "duration": 24,
    "start_time": "2023-03-13T17:19:03.196Z"
   },
   {
    "duration": 8,
    "start_time": "2023-03-13T17:22:32.795Z"
   },
   {
    "duration": 20,
    "start_time": "2023-03-13T17:29:39.472Z"
   },
   {
    "duration": 33,
    "start_time": "2023-03-13T17:35:05.397Z"
   },
   {
    "duration": 24,
    "start_time": "2023-03-13T17:35:22.996Z"
   },
   {
    "duration": 24,
    "start_time": "2023-03-13T17:35:58.798Z"
   },
   {
    "duration": 42,
    "start_time": "2023-03-13T17:38:08.881Z"
   },
   {
    "duration": 76,
    "start_time": "2023-03-13T17:38:28.915Z"
   },
   {
    "duration": 73,
    "start_time": "2023-03-13T17:38:58.715Z"
   },
   {
    "duration": 87,
    "start_time": "2023-03-13T17:39:33.918Z"
   },
   {
    "duration": 18,
    "start_time": "2023-03-13T17:39:58.899Z"
   },
   {
    "duration": 21,
    "start_time": "2023-03-13T17:43:48.900Z"
   },
   {
    "duration": 18,
    "start_time": "2023-03-13T17:43:56.593Z"
   },
   {
    "duration": 16,
    "start_time": "2023-03-13T17:44:08.634Z"
   },
   {
    "duration": 17,
    "start_time": "2023-03-13T17:46:09.370Z"
   },
   {
    "duration": 8,
    "start_time": "2023-03-13T17:51:05.352Z"
   },
   {
    "duration": 18,
    "start_time": "2023-03-13T17:51:22.495Z"
   },
   {
    "duration": 22,
    "start_time": "2023-03-13T17:54:45.302Z"
   },
   {
    "duration": 10,
    "start_time": "2023-03-13T17:55:51.496Z"
   },
   {
    "duration": 16,
    "start_time": "2023-03-13T17:56:23.424Z"
   },
   {
    "duration": 70,
    "start_time": "2023-03-13T17:58:10.704Z"
   },
   {
    "duration": 14,
    "start_time": "2023-03-13T17:59:37.305Z"
   },
   {
    "duration": 15,
    "start_time": "2023-03-13T17:59:53.008Z"
   },
   {
    "duration": 11,
    "start_time": "2023-03-13T18:00:57.303Z"
   },
   {
    "duration": 25,
    "start_time": "2023-03-13T18:05:30.155Z"
   },
   {
    "duration": 10,
    "start_time": "2023-03-13T18:05:54.321Z"
   },
   {
    "duration": 8,
    "start_time": "2023-03-13T18:10:28.201Z"
   },
   {
    "duration": 10,
    "start_time": "2023-03-13T18:10:33.608Z"
   },
   {
    "duration": 10,
    "start_time": "2023-03-13T18:14:05.142Z"
   },
   {
    "duration": 60,
    "start_time": "2023-03-13T18:15:28.507Z"
   },
   {
    "duration": 12,
    "start_time": "2023-03-13T18:16:05.276Z"
   },
   {
    "duration": 12,
    "start_time": "2023-03-13T18:19:16.324Z"
   },
   {
    "duration": 15,
    "start_time": "2023-03-13T18:21:35.511Z"
   },
   {
    "duration": 27,
    "start_time": "2023-03-13T18:21:48.348Z"
   },
   {
    "duration": 10,
    "start_time": "2023-03-13T18:23:25.144Z"
   },
   {
    "duration": 16,
    "start_time": "2023-03-13T18:23:45.263Z"
   },
   {
    "duration": 11,
    "start_time": "2023-03-13T18:28:55.693Z"
   },
   {
    "duration": 28,
    "start_time": "2023-03-13T18:30:41.848Z"
   },
   {
    "duration": 12,
    "start_time": "2023-03-13T18:31:20.028Z"
   },
   {
    "duration": 18,
    "start_time": "2023-03-13T18:31:49.506Z"
   },
   {
    "duration": 17,
    "start_time": "2023-03-13T18:32:46.999Z"
   },
   {
    "duration": 10,
    "start_time": "2023-03-13T18:33:21.293Z"
   },
   {
    "duration": 53,
    "start_time": "2023-03-13T18:33:34.584Z"
   },
   {
    "duration": 70,
    "start_time": "2023-03-13T18:33:51.628Z"
   },
   {
    "duration": 11,
    "start_time": "2023-03-13T18:34:01.528Z"
   },
   {
    "duration": 12,
    "start_time": "2023-03-13T18:37:18.030Z"
   },
   {
    "duration": 15,
    "start_time": "2023-03-13T18:38:45.414Z"
   },
   {
    "duration": 18,
    "start_time": "2023-03-13T18:38:55.315Z"
   },
   {
    "duration": 18,
    "start_time": "2023-03-13T18:39:04.078Z"
   },
   {
    "duration": 52,
    "start_time": "2023-03-13T18:39:34.812Z"
   },
   {
    "duration": 11,
    "start_time": "2023-03-13T18:39:46.169Z"
   },
   {
    "duration": 5,
    "start_time": "2023-03-13T18:41:02.046Z"
   },
   {
    "duration": 654,
    "start_time": "2023-03-13T18:41:17.376Z"
   },
   {
    "duration": 783,
    "start_time": "2023-03-13T18:41:54.701Z"
   },
   {
    "duration": 811,
    "start_time": "2023-03-13T18:42:17.901Z"
   },
   {
    "duration": 757,
    "start_time": "2023-03-13T18:42:25.046Z"
   },
   {
    "duration": 12,
    "start_time": "2023-03-13T18:43:49.530Z"
   },
   {
    "duration": 20,
    "start_time": "2023-03-13T18:44:02.909Z"
   },
   {
    "duration": 22,
    "start_time": "2023-03-13T18:47:45.620Z"
   },
   {
    "duration": 33,
    "start_time": "2023-03-13T18:52:18.831Z"
   },
   {
    "duration": 9,
    "start_time": "2023-03-13T18:52:42.532Z"
   },
   {
    "duration": 61,
    "start_time": "2023-03-13T18:59:37.235Z"
   },
   {
    "duration": 37,
    "start_time": "2023-03-13T18:59:58.995Z"
   },
   {
    "duration": 24,
    "start_time": "2023-03-13T19:01:19.840Z"
   },
   {
    "duration": 22,
    "start_time": "2023-03-13T19:01:34.579Z"
   },
   {
    "duration": 9,
    "start_time": "2023-03-13T19:02:42.281Z"
   },
   {
    "duration": 18,
    "start_time": "2023-03-13T19:05:50.281Z"
   },
   {
    "duration": 25,
    "start_time": "2023-03-13T19:06:20.654Z"
   },
   {
    "duration": 19,
    "start_time": "2023-03-13T19:07:33.300Z"
   },
   {
    "duration": 19,
    "start_time": "2023-03-13T19:07:53.308Z"
   },
   {
    "duration": 18,
    "start_time": "2023-03-13T19:08:42.204Z"
   },
   {
    "duration": 23,
    "start_time": "2023-03-13T19:09:24.926Z"
   },
   {
    "duration": 23,
    "start_time": "2023-03-13T19:09:54.610Z"
   },
   {
    "duration": 85,
    "start_time": "2023-03-13T19:10:52.440Z"
   },
   {
    "duration": 44,
    "start_time": "2023-03-13T19:11:01.942Z"
   },
   {
    "duration": 22,
    "start_time": "2023-03-13T19:14:59.590Z"
   },
   {
    "duration": 15,
    "start_time": "2023-03-13T19:16:39.232Z"
   },
   {
    "duration": 29,
    "start_time": "2023-03-13T19:16:59.661Z"
   },
   {
    "duration": 21,
    "start_time": "2023-03-13T19:17:24.225Z"
   },
   {
    "duration": 18,
    "start_time": "2023-03-13T19:20:27.795Z"
   },
   {
    "duration": 33,
    "start_time": "2023-03-13T19:22:15.043Z"
   },
   {
    "duration": 20,
    "start_time": "2023-03-13T19:23:36.108Z"
   },
   {
    "duration": 16,
    "start_time": "2023-03-13T19:23:47.908Z"
   },
   {
    "duration": 15,
    "start_time": "2023-03-13T19:24:26.799Z"
   },
   {
    "duration": 24,
    "start_time": "2023-03-13T19:24:53.552Z"
   },
   {
    "duration": 76,
    "start_time": "2023-03-14T15:59:02.276Z"
   },
   {
    "duration": 16,
    "start_time": "2023-03-14T15:59:20.242Z"
   },
   {
    "duration": 733,
    "start_time": "2023-03-14T15:59:32.917Z"
   },
   {
    "duration": 35,
    "start_time": "2023-03-14T15:59:35.108Z"
   },
   {
    "duration": 25,
    "start_time": "2023-03-14T15:59:36.168Z"
   },
   {
    "duration": 15,
    "start_time": "2023-03-14T15:59:37.346Z"
   },
   {
    "duration": 52,
    "start_time": "2023-03-14T15:59:37.912Z"
   },
   {
    "duration": 5,
    "start_time": "2023-03-14T15:59:38.592Z"
   },
   {
    "duration": 11,
    "start_time": "2023-03-14T15:59:39.062Z"
   },
   {
    "duration": 18,
    "start_time": "2023-03-14T15:59:39.717Z"
   },
   {
    "duration": 8,
    "start_time": "2023-03-14T15:59:40.177Z"
   },
   {
    "duration": 7,
    "start_time": "2023-03-14T15:59:40.715Z"
   },
   {
    "duration": 50,
    "start_time": "2023-03-14T15:59:41.358Z"
   },
   {
    "duration": 25,
    "start_time": "2023-03-14T15:59:41.835Z"
   },
   {
    "duration": 8,
    "start_time": "2023-03-14T15:59:42.558Z"
   },
   {
    "duration": 14,
    "start_time": "2023-03-14T15:59:46.047Z"
   },
   {
    "duration": 32,
    "start_time": "2023-03-14T15:59:46.454Z"
   },
   {
    "duration": 26,
    "start_time": "2023-03-14T15:59:46.659Z"
   },
   {
    "duration": 5,
    "start_time": "2023-03-14T15:59:47.565Z"
   },
   {
    "duration": 16,
    "start_time": "2023-03-14T15:59:47.792Z"
   },
   {
    "duration": 13,
    "start_time": "2023-03-14T15:59:48.219Z"
   },
   {
    "duration": 5,
    "start_time": "2023-03-14T15:59:49.008Z"
   },
   {
    "duration": 12,
    "start_time": "2023-03-14T15:59:49.207Z"
   },
   {
    "duration": 8,
    "start_time": "2023-03-14T15:59:49.879Z"
   },
   {
    "duration": 8,
    "start_time": "2023-03-14T15:59:54.349Z"
   },
   {
    "duration": 8,
    "start_time": "2023-03-14T16:00:39.961Z"
   },
   {
    "duration": 11,
    "start_time": "2023-03-14T16:00:50.645Z"
   },
   {
    "duration": 22,
    "start_time": "2023-03-14T16:01:22.672Z"
   },
   {
    "duration": 53,
    "start_time": "2023-03-14T16:02:22.309Z"
   },
   {
    "duration": 26,
    "start_time": "2023-03-14T16:06:21.396Z"
   },
   {
    "duration": 28,
    "start_time": "2023-03-14T16:08:19.503Z"
   },
   {
    "duration": 10,
    "start_time": "2023-03-14T16:10:36.949Z"
   },
   {
    "duration": 33,
    "start_time": "2023-03-14T16:11:23.605Z"
   },
   {
    "duration": 31,
    "start_time": "2023-03-14T16:11:36.550Z"
   },
   {
    "duration": 31,
    "start_time": "2023-03-14T16:16:43.284Z"
   },
   {
    "duration": 7,
    "start_time": "2023-03-14T16:39:04.295Z"
   },
   {
    "duration": 8,
    "start_time": "2023-03-14T16:56:05.069Z"
   },
   {
    "duration": 8,
    "start_time": "2023-03-14T16:56:24.807Z"
   },
   {
    "duration": 18,
    "start_time": "2023-03-14T16:57:21.755Z"
   },
   {
    "duration": 29,
    "start_time": "2023-03-14T16:58:36.403Z"
   },
   {
    "duration": 28,
    "start_time": "2023-03-14T16:59:55.575Z"
   },
   {
    "duration": 37,
    "start_time": "2023-03-14T17:03:09.189Z"
   },
   {
    "duration": 49,
    "start_time": "2023-03-14T17:04:04.097Z"
   },
   {
    "duration": 35,
    "start_time": "2023-03-14T17:04:37.445Z"
   },
   {
    "duration": 33,
    "start_time": "2023-03-14T17:04:49.072Z"
   },
   {
    "duration": 45,
    "start_time": "2023-03-14T17:09:59.591Z"
   },
   {
    "duration": 43,
    "start_time": "2023-03-14T17:12:45.330Z"
   },
   {
    "duration": 54,
    "start_time": "2023-03-14T17:12:59.096Z"
   },
   {
    "duration": 60,
    "start_time": "2023-03-14T17:14:20.478Z"
   },
   {
    "duration": 27,
    "start_time": "2023-03-14T17:14:34.591Z"
   },
   {
    "duration": 33,
    "start_time": "2023-03-14T17:15:04.583Z"
   },
   {
    "duration": 35,
    "start_time": "2023-03-14T17:15:16.629Z"
   },
   {
    "duration": 27,
    "start_time": "2023-03-14T17:21:19.751Z"
   },
   {
    "duration": 46,
    "start_time": "2023-03-14T17:23:58.214Z"
   },
   {
    "duration": 29,
    "start_time": "2023-03-14T17:24:03.848Z"
   },
   {
    "duration": 38,
    "start_time": "2023-03-14T17:24:15.957Z"
   },
   {
    "duration": 33,
    "start_time": "2023-03-14T17:31:22.378Z"
   },
   {
    "duration": 33,
    "start_time": "2023-03-14T17:33:12.803Z"
   },
   {
    "duration": 33,
    "start_time": "2023-03-14T17:33:56.870Z"
   },
   {
    "duration": 44,
    "start_time": "2023-03-14T17:38:22.805Z"
   },
   {
    "duration": 44,
    "start_time": "2023-03-14T17:41:42.570Z"
   },
   {
    "duration": 41,
    "start_time": "2023-03-14T17:41:59.958Z"
   },
   {
    "duration": 52,
    "start_time": "2023-03-14T17:43:08.239Z"
   },
   {
    "duration": 35,
    "start_time": "2023-03-14T17:46:04.122Z"
   },
   {
    "duration": 38,
    "start_time": "2023-03-14T17:46:43.263Z"
   },
   {
    "duration": 35,
    "start_time": "2023-03-14T17:47:16.644Z"
   },
   {
    "duration": 723,
    "start_time": "2023-03-14T17:47:32.438Z"
   },
   {
    "duration": 36,
    "start_time": "2023-03-14T17:47:46.522Z"
   },
   {
    "duration": 12,
    "start_time": "2023-03-14T17:58:53.774Z"
   },
   {
    "duration": 10,
    "start_time": "2023-03-14T17:59:15.100Z"
   },
   {
    "duration": 13,
    "start_time": "2023-03-14T17:59:50.878Z"
   },
   {
    "duration": 12,
    "start_time": "2023-03-14T18:00:10.326Z"
   },
   {
    "duration": 12,
    "start_time": "2023-03-14T18:00:21.053Z"
   },
   {
    "duration": 12,
    "start_time": "2023-03-14T18:02:20.904Z"
   },
   {
    "duration": 12,
    "start_time": "2023-03-14T18:02:32.215Z"
   },
   {
    "duration": 10,
    "start_time": "2023-03-14T18:03:16.447Z"
   },
   {
    "duration": 4,
    "start_time": "2023-03-14T18:04:26.758Z"
   },
   {
    "duration": 8,
    "start_time": "2023-03-14T18:04:33.478Z"
   },
   {
    "duration": 9,
    "start_time": "2023-03-14T18:05:10.694Z"
   },
   {
    "duration": 11,
    "start_time": "2023-03-14T18:05:34.265Z"
   },
   {
    "duration": 6,
    "start_time": "2023-03-14T18:07:46.298Z"
   },
   {
    "duration": 14,
    "start_time": "2023-03-14T18:07:55.261Z"
   },
   {
    "duration": 24,
    "start_time": "2023-03-14T18:10:10.449Z"
   },
   {
    "duration": 33,
    "start_time": "2023-03-14T18:10:46.422Z"
   },
   {
    "duration": 9,
    "start_time": "2023-03-14T18:13:26.576Z"
   },
   {
    "duration": 10,
    "start_time": "2023-03-14T18:13:36.381Z"
   },
   {
    "duration": 36,
    "start_time": "2023-03-14T18:17:23.799Z"
   },
   {
    "duration": 21,
    "start_time": "2023-03-14T18:17:55.898Z"
   },
   {
    "duration": 27,
    "start_time": "2023-03-14T18:18:31.818Z"
   },
   {
    "duration": 24,
    "start_time": "2023-03-14T18:18:58.878Z"
   },
   {
    "duration": 30,
    "start_time": "2023-03-14T18:19:23.030Z"
   },
   {
    "duration": 38,
    "start_time": "2023-03-14T18:22:04.864Z"
   },
   {
    "duration": 43,
    "start_time": "2023-03-14T18:23:40.922Z"
   },
   {
    "duration": 22,
    "start_time": "2023-03-14T18:24:54.849Z"
   },
   {
    "duration": 17,
    "start_time": "2023-03-14T18:25:00.238Z"
   },
   {
    "duration": 259,
    "start_time": "2023-03-14T18:26:19.714Z"
   },
   {
    "duration": 837,
    "start_time": "2023-03-14T18:26:50.746Z"
   },
   {
    "duration": 826,
    "start_time": "2023-03-14T18:27:00.550Z"
   },
   {
    "duration": 724,
    "start_time": "2023-03-14T18:27:11.314Z"
   },
   {
    "duration": 38,
    "start_time": "2023-03-14T18:27:40.503Z"
   },
   {
    "duration": 24,
    "start_time": "2023-03-14T18:28:04.188Z"
   },
   {
    "duration": 53,
    "start_time": "2023-03-14T18:44:48.706Z"
   },
   {
    "duration": 759,
    "start_time": "2023-03-14T18:45:08.541Z"
   },
   {
    "duration": 854,
    "start_time": "2023-03-14T18:46:40.579Z"
   },
   {
    "duration": 43,
    "start_time": "2023-03-14T18:46:46.878Z"
   },
   {
    "duration": 32,
    "start_time": "2023-03-14T18:47:54.313Z"
   },
   {
    "duration": 744,
    "start_time": "2023-03-14T18:48:06.265Z"
   },
   {
    "duration": 794,
    "start_time": "2023-03-14T18:53:35.483Z"
   },
   {
    "duration": 19,
    "start_time": "2023-03-14T18:56:50.254Z"
   },
   {
    "duration": 21,
    "start_time": "2023-03-14T18:56:58.185Z"
   },
   {
    "duration": 19,
    "start_time": "2023-03-14T18:58:54.418Z"
   },
   {
    "duration": 17,
    "start_time": "2023-03-14T18:59:48.202Z"
   },
   {
    "duration": 16,
    "start_time": "2023-03-14T19:00:11.653Z"
   },
   {
    "duration": 16,
    "start_time": "2023-03-14T19:00:32.236Z"
   },
   {
    "duration": 5,
    "start_time": "2023-03-14T19:01:34.969Z"
   },
   {
    "duration": 86,
    "start_time": "2023-03-14T19:01:39.951Z"
   },
   {
    "duration": 23,
    "start_time": "2023-03-14T19:01:40.903Z"
   },
   {
    "duration": 20,
    "start_time": "2023-03-14T19:01:41.668Z"
   },
   {
    "duration": 16,
    "start_time": "2023-03-14T19:01:43.167Z"
   },
   {
    "duration": 49,
    "start_time": "2023-03-14T19:01:43.637Z"
   },
   {
    "duration": 4,
    "start_time": "2023-03-14T19:01:44.349Z"
   },
   {
    "duration": 11,
    "start_time": "2023-03-14T19:01:44.854Z"
   },
   {
    "duration": 6,
    "start_time": "2023-03-14T19:01:45.937Z"
   },
   {
    "duration": 8,
    "start_time": "2023-03-14T19:01:46.401Z"
   },
   {
    "duration": 6,
    "start_time": "2023-03-14T19:01:46.875Z"
   },
   {
    "duration": 51,
    "start_time": "2023-03-14T19:01:47.615Z"
   },
   {
    "duration": 16,
    "start_time": "2023-03-14T19:01:48.152Z"
   },
   {
    "duration": 5,
    "start_time": "2023-03-14T19:01:49.236Z"
   },
   {
    "duration": 18,
    "start_time": "2023-03-14T19:01:51.502Z"
   },
   {
    "duration": 30,
    "start_time": "2023-03-14T19:01:52.699Z"
   },
   {
    "duration": 28,
    "start_time": "2023-03-14T19:01:53.319Z"
   },
   {
    "duration": 5,
    "start_time": "2023-03-14T19:01:56.253Z"
   },
   {
    "duration": 18,
    "start_time": "2023-03-14T19:01:56.800Z"
   },
   {
    "duration": 8,
    "start_time": "2023-03-14T19:01:59.418Z"
   },
   {
    "duration": 5,
    "start_time": "2023-03-14T19:02:02.932Z"
   },
   {
    "duration": 13,
    "start_time": "2023-03-14T19:02:04.035Z"
   },
   {
    "duration": 60,
    "start_time": "2023-03-14T19:02:10.502Z"
   },
   {
    "duration": 791,
    "start_time": "2023-03-14T19:02:41.620Z"
   },
   {
    "duration": 48,
    "start_time": "2023-03-14T19:02:51.751Z"
   },
   {
    "duration": 69,
    "start_time": "2023-03-14T19:03:05.027Z"
   },
   {
    "duration": 40,
    "start_time": "2023-03-14T19:04:34.477Z"
   },
   {
    "duration": 61,
    "start_time": "2023-03-14T19:05:19.625Z"
   },
   {
    "duration": 59,
    "start_time": "2023-03-14T19:06:19.470Z"
   },
   {
    "duration": 80,
    "start_time": "2023-03-14T19:07:08.481Z"
   },
   {
    "duration": 59,
    "start_time": "2023-03-14T19:11:24.182Z"
   },
   {
    "duration": 30,
    "start_time": "2023-03-14T19:23:24.347Z"
   },
   {
    "duration": 30,
    "start_time": "2023-03-14T19:24:17.416Z"
   },
   {
    "duration": 50,
    "start_time": "2023-03-14T19:27:40.701Z"
   },
   {
    "duration": 21,
    "start_time": "2023-03-14T19:27:57.716Z"
   },
   {
    "duration": 43,
    "start_time": "2023-03-14T19:29:17.352Z"
   },
   {
    "duration": 38,
    "start_time": "2023-03-14T19:29:44.807Z"
   },
   {
    "duration": 726,
    "start_time": "2023-03-14T19:37:01.501Z"
   },
   {
    "duration": 31,
    "start_time": "2023-03-14T19:38:20.505Z"
   },
   {
    "duration": 26,
    "start_time": "2023-03-14T19:40:29.318Z"
   },
   {
    "duration": 57,
    "start_time": "2023-03-14T19:40:51.352Z"
   },
   {
    "duration": 8,
    "start_time": "2023-03-14T19:55:52.401Z"
   },
   {
    "duration": 10,
    "start_time": "2023-03-14T19:56:44.557Z"
   },
   {
    "duration": 23,
    "start_time": "2023-03-14T20:02:53.593Z"
   },
   {
    "duration": 24,
    "start_time": "2023-03-14T20:04:50.930Z"
   },
   {
    "duration": 32,
    "start_time": "2023-03-14T20:05:06.301Z"
   },
   {
    "duration": 37,
    "start_time": "2023-03-14T20:10:32.982Z"
   },
   {
    "duration": 46,
    "start_time": "2023-03-14T20:11:27.924Z"
   },
   {
    "duration": 15,
    "start_time": "2023-03-14T20:11:37.655Z"
   },
   {
    "duration": 48,
    "start_time": "2023-03-14T20:12:29.885Z"
   },
   {
    "duration": 16,
    "start_time": "2023-03-14T20:12:38.406Z"
   },
   {
    "duration": 18,
    "start_time": "2023-03-14T20:17:13.153Z"
   },
   {
    "duration": 17,
    "start_time": "2023-03-14T20:17:36.190Z"
   },
   {
    "duration": 14,
    "start_time": "2023-03-14T20:18:05.122Z"
   },
   {
    "duration": 18,
    "start_time": "2023-03-14T20:20:43.965Z"
   },
   {
    "duration": 47,
    "start_time": "2023-03-14T20:21:14.749Z"
   },
   {
    "duration": 686,
    "start_time": "2023-03-14T20:22:14.449Z"
   },
   {
    "duration": 14,
    "start_time": "2023-03-14T20:22:52.462Z"
   },
   {
    "duration": 15,
    "start_time": "2023-03-14T20:23:24.897Z"
   },
   {
    "duration": 733,
    "start_time": "2023-03-14T20:23:44.863Z"
   },
   {
    "duration": 654,
    "start_time": "2023-03-14T20:25:46.010Z"
   },
   {
    "duration": 674,
    "start_time": "2023-03-14T20:25:55.492Z"
   },
   {
    "duration": 27,
    "start_time": "2023-03-14T20:26:37.446Z"
   },
   {
    "duration": 24,
    "start_time": "2023-03-14T20:27:16.143Z"
   },
   {
    "duration": 485,
    "start_time": "2023-03-15T08:37:06.935Z"
   },
   {
    "duration": 25,
    "start_time": "2023-03-15T08:37:07.422Z"
   },
   {
    "duration": 44,
    "start_time": "2023-03-15T08:37:07.452Z"
   },
   {
    "duration": 16,
    "start_time": "2023-03-15T08:37:07.498Z"
   },
   {
    "duration": 45,
    "start_time": "2023-03-15T08:37:07.515Z"
   },
   {
    "duration": 22,
    "start_time": "2023-03-15T08:37:07.561Z"
   },
   {
    "duration": 108,
    "start_time": "2023-03-15T08:37:07.585Z"
   },
   {
    "duration": 11,
    "start_time": "2023-03-15T08:37:07.695Z"
   },
   {
    "duration": 8,
    "start_time": "2023-03-15T08:37:07.709Z"
   },
   {
    "duration": 12,
    "start_time": "2023-03-15T08:37:07.719Z"
   },
   {
    "duration": 61,
    "start_time": "2023-03-15T08:37:07.733Z"
   },
   {
    "duration": 11,
    "start_time": "2023-03-15T08:37:07.796Z"
   },
   {
    "duration": 19,
    "start_time": "2023-03-15T08:37:07.809Z"
   },
   {
    "duration": 16,
    "start_time": "2023-03-15T08:37:07.829Z"
   },
   {
    "duration": 38,
    "start_time": "2023-03-15T08:37:07.847Z"
   },
   {
    "duration": 19,
    "start_time": "2023-03-15T08:37:07.887Z"
   },
   {
    "duration": 4,
    "start_time": "2023-03-15T08:37:07.907Z"
   },
   {
    "duration": 14,
    "start_time": "2023-03-15T08:37:07.913Z"
   },
   {
    "duration": 7,
    "start_time": "2023-03-15T08:37:07.929Z"
   },
   {
    "duration": 9,
    "start_time": "2023-03-15T08:37:07.937Z"
   },
   {
    "duration": 33,
    "start_time": "2023-03-15T08:37:07.947Z"
   },
   {
    "duration": 45,
    "start_time": "2023-03-15T08:37:07.989Z"
   },
   {
    "duration": 51,
    "start_time": "2023-03-15T08:37:08.036Z"
   },
   {
    "duration": 23,
    "start_time": "2023-03-15T08:37:08.090Z"
   },
   {
    "duration": 28,
    "start_time": "2023-03-15T08:37:08.114Z"
   },
   {
    "duration": 18,
    "start_time": "2023-03-15T08:38:52.970Z"
   },
   {
    "duration": 95,
    "start_time": "2023-03-17T08:42:42.479Z"
   },
   {
    "duration": 80,
    "start_time": "2023-03-17T08:44:16.232Z"
   },
   {
    "duration": 101,
    "start_time": "2023-03-17T08:44:25.941Z"
   },
   {
    "duration": 43,
    "start_time": "2023-03-17T08:59:48.223Z"
   },
   {
    "duration": 837,
    "start_time": "2023-03-17T09:00:03.153Z"
   },
   {
    "duration": 27,
    "start_time": "2023-03-17T09:00:09.944Z"
   },
   {
    "duration": 91,
    "start_time": "2023-03-17T09:05:16.691Z"
   },
   {
    "duration": 26,
    "start_time": "2023-03-17T09:05:20.136Z"
   },
   {
    "duration": 17,
    "start_time": "2023-03-17T09:05:21.901Z"
   },
   {
    "duration": 10,
    "start_time": "2023-03-17T09:05:28.702Z"
   },
   {
    "duration": 35,
    "start_time": "2023-03-17T09:05:30.404Z"
   },
   {
    "duration": 5,
    "start_time": "2023-03-17T09:05:31.899Z"
   },
   {
    "duration": 8,
    "start_time": "2023-03-17T09:05:32.568Z"
   },
   {
    "duration": 6,
    "start_time": "2023-03-17T09:05:33.434Z"
   },
   {
    "duration": 8,
    "start_time": "2023-03-17T09:05:34.068Z"
   },
   {
    "duration": 4,
    "start_time": "2023-03-17T09:05:34.637Z"
   },
   {
    "duration": 46,
    "start_time": "2023-03-17T09:05:35.496Z"
   },
   {
    "duration": 12,
    "start_time": "2023-03-17T09:05:36.000Z"
   },
   {
    "duration": 4,
    "start_time": "2023-03-17T09:05:36.803Z"
   },
   {
    "duration": 11,
    "start_time": "2023-03-17T09:05:37.635Z"
   },
   {
    "duration": 22,
    "start_time": "2023-03-17T09:05:38.520Z"
   },
   {
    "duration": 21,
    "start_time": "2023-03-17T09:05:38.864Z"
   },
   {
    "duration": 5,
    "start_time": "2023-03-17T09:05:41.233Z"
   },
   {
    "duration": 10,
    "start_time": "2023-03-17T09:05:42.285Z"
   },
   {
    "duration": 6,
    "start_time": "2023-03-17T09:05:43.585Z"
   },
   {
    "duration": 3,
    "start_time": "2023-03-17T09:05:45.145Z"
   },
   {
    "duration": 11,
    "start_time": "2023-03-17T09:05:45.886Z"
   },
   {
    "duration": 29,
    "start_time": "2023-03-17T09:05:48.852Z"
   },
   {
    "duration": 11,
    "start_time": "2023-03-17T09:06:14.084Z"
   },
   {
    "duration": 10,
    "start_time": "2023-03-17T09:06:22.285Z"
   },
   {
    "duration": 10,
    "start_time": "2023-03-17T09:06:25.351Z"
   },
   {
    "duration": 45,
    "start_time": "2023-03-17T09:07:09.971Z"
   },
   {
    "duration": 20,
    "start_time": "2023-03-17T09:07:20.335Z"
   },
   {
    "duration": 22,
    "start_time": "2023-03-17T09:08:03.670Z"
   },
   {
    "duration": 15,
    "start_time": "2023-03-17T09:08:19.838Z"
   },
   {
    "duration": 11,
    "start_time": "2023-03-17T09:08:24.185Z"
   },
   {
    "duration": 15,
    "start_time": "2023-03-17T09:08:46.608Z"
   },
   {
    "duration": 1874,
    "start_time": "2023-03-17T09:09:03.338Z"
   },
   {
    "duration": 4,
    "start_time": "2023-03-17T09:09:08.737Z"
   },
   {
    "duration": 1482,
    "start_time": "2023-03-17T09:09:11.189Z"
   },
   {
    "duration": 5,
    "start_time": "2023-03-17T09:09:15.319Z"
   },
   {
    "duration": 1381,
    "start_time": "2023-03-17T09:09:15.987Z"
   },
   {
    "duration": 84,
    "start_time": "2023-03-17T09:09:26.024Z"
   },
   {
    "duration": 18,
    "start_time": "2023-03-17T09:09:30.263Z"
   },
   {
    "duration": 15,
    "start_time": "2023-03-17T09:09:37.469Z"
   },
   {
    "duration": 17,
    "start_time": "2023-03-17T09:09:43.046Z"
   },
   {
    "duration": 35,
    "start_time": "2023-03-17T09:09:46.971Z"
   },
   {
    "duration": 4,
    "start_time": "2023-03-17T09:09:50.935Z"
   },
   {
    "duration": 9,
    "start_time": "2023-03-17T09:09:53.454Z"
   },
   {
    "duration": 7,
    "start_time": "2023-03-17T09:09:58.620Z"
   },
   {
    "duration": 10,
    "start_time": "2023-03-17T09:10:36.911Z"
   },
   {
    "duration": 5,
    "start_time": "2023-03-17T09:10:40.271Z"
   },
   {
    "duration": 59,
    "start_time": "2023-03-17T09:10:43.821Z"
   },
   {
    "duration": 15,
    "start_time": "2023-03-17T09:10:46.070Z"
   },
   {
    "duration": 5,
    "start_time": "2023-03-17T09:10:54.171Z"
   },
   {
    "duration": 21,
    "start_time": "2023-03-17T09:10:57.322Z"
   },
   {
    "duration": 25,
    "start_time": "2023-03-17T09:11:00.224Z"
   },
   {
    "duration": 19,
    "start_time": "2023-03-17T09:11:03.337Z"
   },
   {
    "duration": 3,
    "start_time": "2023-03-17T09:11:07.237Z"
   },
   {
    "duration": 11,
    "start_time": "2023-03-17T09:11:12.120Z"
   },
   {
    "duration": 7,
    "start_time": "2023-03-17T09:11:15.519Z"
   },
   {
    "duration": 4,
    "start_time": "2023-03-17T09:11:21.187Z"
   },
   {
    "duration": 25,
    "start_time": "2023-03-17T09:11:32.671Z"
   },
   {
    "duration": 20,
    "start_time": "2023-03-17T09:11:40.207Z"
   },
   {
    "duration": 84,
    "start_time": "2023-03-17T09:11:57.488Z"
   },
   {
    "duration": 15,
    "start_time": "2023-03-17T09:12:12.356Z"
   },
   {
    "duration": 33,
    "start_time": "2023-03-17T09:12:17.104Z"
   },
   {
    "duration": 11,
    "start_time": "2023-03-17T09:12:31.005Z"
   },
   {
    "duration": 12,
    "start_time": "2023-03-17T09:13:24.456Z"
   },
   {
    "duration": 11,
    "start_time": "2023-03-17T09:13:37.544Z"
   },
   {
    "duration": 12,
    "start_time": "2023-03-17T09:14:09.187Z"
   },
   {
    "duration": 11,
    "start_time": "2023-03-17T09:14:38.140Z"
   },
   {
    "duration": 11,
    "start_time": "2023-03-17T09:15:10.690Z"
   },
   {
    "duration": 1409,
    "start_time": "2023-03-17T09:15:52.739Z"
   },
   {
    "duration": 1346,
    "start_time": "2023-03-17T09:16:16.722Z"
   },
   {
    "duration": 6,
    "start_time": "2023-03-17T09:16:41.298Z"
   },
   {
    "duration": 1274,
    "start_time": "2023-03-17T09:16:53.307Z"
   },
   {
    "duration": 76,
    "start_time": "2023-03-17T09:17:02.905Z"
   },
   {
    "duration": 17,
    "start_time": "2023-03-17T09:17:06.423Z"
   },
   {
    "duration": 18,
    "start_time": "2023-03-17T09:17:14.153Z"
   },
   {
    "duration": 10,
    "start_time": "2023-03-17T09:17:19.236Z"
   },
   {
    "duration": 36,
    "start_time": "2023-03-17T09:17:26.939Z"
   },
   {
    "duration": 4,
    "start_time": "2023-03-17T09:17:31.089Z"
   },
   {
    "duration": 10,
    "start_time": "2023-03-17T09:17:34.555Z"
   },
   {
    "duration": 5,
    "start_time": "2023-03-17T09:17:39.255Z"
   },
   {
    "duration": 8,
    "start_time": "2023-03-17T09:17:43.205Z"
   },
   {
    "duration": 7,
    "start_time": "2023-03-17T09:17:47.722Z"
   },
   {
    "duration": 57,
    "start_time": "2023-03-17T09:17:50.877Z"
   },
   {
    "duration": 11,
    "start_time": "2023-03-17T09:17:54.222Z"
   },
   {
    "duration": 4,
    "start_time": "2023-03-17T09:17:59.922Z"
   },
   {
    "duration": 12,
    "start_time": "2023-03-17T09:18:03.422Z"
   },
   {
    "duration": 37,
    "start_time": "2023-03-17T09:18:06.726Z"
   },
   {
    "duration": 21,
    "start_time": "2023-03-17T09:18:09.940Z"
   },
   {
    "duration": 8,
    "start_time": "2023-03-17T09:18:14.204Z"
   },
   {
    "duration": 13,
    "start_time": "2023-03-17T09:18:17.704Z"
   },
   {
    "duration": 7,
    "start_time": "2023-03-17T09:18:21.222Z"
   },
   {
    "duration": 4,
    "start_time": "2023-03-17T09:18:26.723Z"
   },
   {
    "duration": 13,
    "start_time": "2023-03-17T09:18:30.739Z"
   },
   {
    "duration": 28,
    "start_time": "2023-03-17T09:18:34.538Z"
   },
   {
    "duration": 25,
    "start_time": "2023-03-17T09:19:59.490Z"
   },
   {
    "duration": 18,
    "start_time": "2023-03-17T09:20:14.390Z"
   },
   {
    "duration": 19,
    "start_time": "2023-03-17T09:20:34.540Z"
   },
   {
    "duration": 32,
    "start_time": "2023-03-17T09:21:12.959Z"
   },
   {
    "duration": 18,
    "start_time": "2023-03-17T09:22:14.775Z"
   },
   {
    "duration": 26,
    "start_time": "2023-03-17T09:22:29.946Z"
   },
   {
    "duration": 16,
    "start_time": "2023-03-17T09:22:36.998Z"
   },
   {
    "duration": 18,
    "start_time": "2023-03-17T09:23:02.106Z"
   },
   {
    "duration": 102,
    "start_time": "2023-03-17T09:33:59.043Z"
   },
   {
    "duration": 94,
    "start_time": "2023-03-17T09:50:45.827Z"
   },
   {
    "duration": 918,
    "start_time": "2023-03-18T04:43:40.325Z"
   },
   {
    "duration": 26,
    "start_time": "2023-03-18T04:43:41.245Z"
   },
   {
    "duration": 30,
    "start_time": "2023-03-18T04:43:41.273Z"
   },
   {
    "duration": 30,
    "start_time": "2023-03-18T04:43:41.306Z"
   },
   {
    "duration": 51,
    "start_time": "2023-03-18T04:43:41.338Z"
   },
   {
    "duration": 6,
    "start_time": "2023-03-18T04:43:41.391Z"
   },
   {
    "duration": 38,
    "start_time": "2023-03-18T04:43:41.399Z"
   },
   {
    "duration": 20,
    "start_time": "2023-03-18T04:43:41.439Z"
   },
   {
    "duration": 26,
    "start_time": "2023-03-18T04:43:41.460Z"
   },
   {
    "duration": 38,
    "start_time": "2023-03-18T04:43:41.491Z"
   },
   {
    "duration": 43,
    "start_time": "2023-03-18T04:43:41.530Z"
   },
   {
    "duration": 20,
    "start_time": "2023-03-18T04:43:41.576Z"
   },
   {
    "duration": 25,
    "start_time": "2023-03-18T04:43:41.598Z"
   },
   {
    "duration": 26,
    "start_time": "2023-03-18T04:43:41.625Z"
   },
   {
    "duration": 32,
    "start_time": "2023-03-18T04:43:41.653Z"
   },
   {
    "duration": 27,
    "start_time": "2023-03-18T04:43:41.688Z"
   },
   {
    "duration": 5,
    "start_time": "2023-03-18T04:43:41.717Z"
   },
   {
    "duration": 15,
    "start_time": "2023-03-18T04:43:41.723Z"
   },
   {
    "duration": 11,
    "start_time": "2023-03-18T04:43:41.740Z"
   },
   {
    "duration": 5,
    "start_time": "2023-03-18T04:43:41.753Z"
   },
   {
    "duration": 35,
    "start_time": "2023-03-18T04:43:41.759Z"
   },
   {
    "duration": 39,
    "start_time": "2023-03-18T04:43:41.796Z"
   },
   {
    "duration": 12,
    "start_time": "2023-03-18T04:43:41.836Z"
   },
   {
    "duration": 16,
    "start_time": "2023-03-18T04:43:41.850Z"
   },
   {
    "duration": 49,
    "start_time": "2023-03-18T04:43:41.880Z"
   },
   {
    "duration": 21,
    "start_time": "2023-03-18T04:43:41.931Z"
   },
   {
    "duration": 61,
    "start_time": "2023-03-18T04:43:41.954Z"
   },
   {
    "duration": 464,
    "start_time": "2023-11-13T02:40:34.073Z"
   },
   {
    "duration": 22,
    "start_time": "2023-11-13T02:40:34.539Z"
   },
   {
    "duration": 15,
    "start_time": "2023-11-13T02:40:34.562Z"
   },
   {
    "duration": 34,
    "start_time": "2023-11-13T02:40:34.579Z"
   },
   {
    "duration": 34,
    "start_time": "2023-11-13T02:40:34.615Z"
   },
   {
    "duration": 3,
    "start_time": "2023-11-13T02:40:34.651Z"
   },
   {
    "duration": 8,
    "start_time": "2023-11-13T02:40:34.656Z"
   },
   {
    "duration": 6,
    "start_time": "2023-11-13T02:40:34.666Z"
   },
   {
    "duration": 29,
    "start_time": "2023-11-13T02:40:34.673Z"
   },
   {
    "duration": 10,
    "start_time": "2023-11-13T02:40:34.706Z"
   },
   {
    "duration": 35,
    "start_time": "2023-11-13T02:40:34.718Z"
   },
   {
    "duration": 12,
    "start_time": "2023-11-13T02:40:34.755Z"
   },
   {
    "duration": 11,
    "start_time": "2023-11-13T02:40:34.768Z"
   },
   {
    "duration": 31,
    "start_time": "2023-11-13T02:40:34.781Z"
   },
   {
    "duration": 22,
    "start_time": "2023-11-13T02:40:34.824Z"
   },
   {
    "duration": 55,
    "start_time": "2023-11-13T02:40:34.847Z"
   },
   {
    "duration": 7,
    "start_time": "2023-11-13T02:40:34.907Z"
   },
   {
    "duration": 11,
    "start_time": "2023-11-13T02:40:34.915Z"
   },
   {
    "duration": 28,
    "start_time": "2023-11-13T02:40:34.927Z"
   },
   {
    "duration": 4,
    "start_time": "2023-11-13T02:40:34.957Z"
   },
   {
    "duration": 9,
    "start_time": "2023-11-13T02:40:34.963Z"
   },
   {
    "duration": 42,
    "start_time": "2023-11-13T02:40:34.974Z"
   },
   {
    "duration": 10,
    "start_time": "2023-11-13T02:40:35.018Z"
   },
   {
    "duration": 21,
    "start_time": "2023-11-13T02:40:35.029Z"
   },
   {
    "duration": 39,
    "start_time": "2023-11-13T02:40:35.051Z"
   },
   {
    "duration": 28,
    "start_time": "2023-11-13T02:40:35.092Z"
   },
   {
    "duration": 24,
    "start_time": "2023-11-13T02:40:35.122Z"
   }
  ],
  "colab": {
   "provenance": []
  },
  "kernelspec": {
   "display_name": "Python 3 (ipykernel)",
   "language": "python",
   "name": "python3"
  },
  "language_info": {
   "codemirror_mode": {
    "name": "ipython",
    "version": 3
   },
   "file_extension": ".py",
   "mimetype": "text/x-python",
   "name": "python",
   "nbconvert_exporter": "python",
   "pygments_lexer": "ipython3",
   "version": "3.9.5"
  },
  "toc": {
   "base_numbering": 1,
   "nav_menu": {},
   "number_sections": true,
   "sideBar": true,
   "skip_h1_title": true,
   "title_cell": "Table of Contents",
   "title_sidebar": "Contents",
   "toc_cell": false,
   "toc_position": {},
   "toc_section_display": true,
   "toc_window_display": false
  }
 },
 "nbformat": 4,
 "nbformat_minor": 5
}
